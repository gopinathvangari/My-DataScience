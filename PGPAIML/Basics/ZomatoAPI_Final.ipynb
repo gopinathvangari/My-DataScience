{
 "cells": [
  {
   "cell_type": "code",
   "execution_count": 163,
   "metadata": {},
   "outputs": [],
   "source": [
    "# zomato wrap : Zomato wrap is an api wrapper.\n",
    "\n",
    "import requests\n",
    "\n",
    "credentials = {\n",
    "                # zomato api key to access taco resturant data\n",
    "                \"API_KEY\":\"f2959c46182bb06044370b8757ba455a\"\n",
    "}"
   ]
  },
  {
   "cell_type": "code",
   "execution_count": 30,
   "metadata": {},
   "outputs": [],
   "source": [
    "import pandas as pd"
   ]
  },
  {
   "cell_type": "code",
   "execution_count": 34,
   "metadata": {},
   "outputs": [],
   "source": [
    "# using rest_id"
   ]
  },
  {
   "cell_type": "code",
   "execution_count": 268,
   "metadata": {},
   "outputs": [],
   "source": [
    "class ZomatoApi():\n",
    "\n",
    "    def __init__(self,API_KEY):\n",
    "        self.API_KEY = API_KEY\n",
    "        self.base_url = \"https://developers.zomato.com/api/v2.1/\"\n",
    "        # the api key is passed in the header of the url\n",
    "        self.headers = {\"user-key\":\"{}\".format(self.API_KEY)}\n",
    "\n",
    "    def search(self,res_id):\n",
    "        self.res_id = res_id\n",
    "        self.search_url = self.base_url + \"restaurant?res_id=\"\n",
    "\n",
    "        self.params = {\n",
    "            'res_id' : \"{}\".format(self.res_id)\n",
    "            }\n",
    "\n",
    "        self.response = requests.get(self.search_url,headers=self.headers,params=self.params)\n",
    "        return self.response.json()\n",
    "    \n",
    "    def categories(self):\n",
    "        self.search_url = self.base_url + \"categories\"\n",
    "        self.response = requests.get(self.search_url,headers=self.headers)\n",
    "        return self.response.json()\n",
    "    \n",
    "    def search_cityid(self,city_name):\n",
    "        self.city_name = city_name.split(' ')\n",
    "        self.city_name = '%20'.join(self.city_name)\n",
    "        self.search_url = self.base_url + \"cities?q=\"\n",
    "\n",
    "        self.params = {\n",
    "            'q' : \"{}\".format(self.city_name)\n",
    "            }\n",
    "\n",
    "        self.response = requests.get(self.search_url,headers=self.headers,params=self.params)\n",
    "        return self.response.json()\n",
    "    \n",
    "    def search_cityname(self,city_id):\n",
    "        self.city_id = city_id\n",
    "        self.search_url = self.base_url + \"cities?city_ids=\"\n",
    "\n",
    "        self.params = {\n",
    "            'city_ids' : \"{}\".format(self.city_id)\n",
    "            }\n",
    "\n",
    "        self.response = requests.get(self.search_url,headers=self.headers,params=self.params)\n",
    "        return self.response.json()\n",
    "    \n",
    "    def search_cuisine(self,city_id):\n",
    "        self.city_id = city_id\n",
    "        self.search_url = self.base_url + \"cuisines?city_id=\"\n",
    "\n",
    "        self.params = {\n",
    "            'city_id' : \"{}\".format(self.city_id)\n",
    "            }\n",
    "\n",
    "        self.response = requests.get(self.search_url,headers=self.headers,params=self.params)\n",
    "        return self.response.json()\n",
    "    \n",
    "    def search_establishments(self,city_id):\n",
    "        self.city_id = city_id\n",
    "        self.search_url = self.base_url + \"establishments?city_id=\"\n",
    "\n",
    "        self.params = {\n",
    "            'city_id' : \"{}\".format(self.city_id)\n",
    "            }\n",
    "\n",
    "        self.response = requests.get(self.search_url,headers=self.headers,params=self.params)\n",
    "        return self.response.json()    \n",
    "    \n",
    "    def search_Collections(self,city_id,limit=None):\n",
    "        self.city_id = city_id\n",
    "        self.search_url = self.base_url + \"collections?city_id==\"\n",
    "        self.limit = limit\n",
    "        self.params = {\n",
    "            'city_id' : \"{}\".format(self.city_id),\n",
    "            'limit':\"{}\".format(self.limit)\n",
    "            }\n",
    "\n",
    "        self.response = requests.get(self.search_url,headers=self.headers,params=self.params)\n",
    "        return self.response.json()\n",
    "    \n",
    "    def getCityID(self,jsonObj):\n",
    "        City_ID_list = jsonObj\n",
    "        return City_ID_list\n",
    "    \n",
    "    def getCuisines(self,jsonObj):\n",
    "        Cuisines_list = jsonObj\n",
    "        return Cuisines_list\n",
    "    \n",
    "    def getEstablishments(self,jsonObj):\n",
    "        Establishments_list = jsonObj\n",
    "        return Establishments_list\n",
    "    \n",
    "    def getCityNAME(self,jsonObj):\n",
    "        City_Name_list = jsonObj\n",
    "        return City_Name_list\n",
    "    \n",
    "    def getCollections(self,jsonObj):\n",
    "        Collections_list = jsonObj\n",
    "        return Collections_list\n",
    "    \n",
    "    def getCategories(self,jsonObj):\n",
    "        Category_list = jsonObj\n",
    "        return Category_list\n",
    "    \n",
    "    def getRestaurantDetails(self,jsonObj):\n",
    "        final_list = []\n",
    "        rid = jsonObj['R']['res_id']\n",
    "        rName = jsonObj['name']\n",
    "        rurl = jsonObj['url']\n",
    "        rImg = jsonObj['featured_image']\n",
    "        rLocation = jsonObj['location']['locality']\n",
    "        rcity = jsonObj['location']['city']\n",
    "        rcityid = jsonObj['location']['city_id']\n",
    "        rLat = jsonObj['location']['latitude']\n",
    "        rLong = jsonObj['location']['longitude']\n",
    "        rzipcode = jsonObj['location']['zipcode']\n",
    "        rcountry_id = jsonObj['location']['country_id']\n",
    "        rcuisine = jsonObj['cuisines']\n",
    "        ravgcost = jsonObj['average_cost_for_two']\n",
    "        rPrice = jsonObj['price_range']\n",
    "        rCurrency = jsonObj['currency']\n",
    "        rhighlights = jsonObj['highlights']\n",
    "        ropentable = jsonObj['opentable_support']\n",
    "        rzomato_book = jsonObj['is_zomato_book_res']\n",
    "        rweb_book = jsonObj['is_book_form_web_view']\n",
    "        rweb_book_url = jsonObj['book_form_web_view_url']\n",
    "        rRate = jsonObj['user_rating']['aggregate_rating']\n",
    "        rRateText = jsonObj['user_rating']['rating_text']\n",
    "        rRateColor = jsonObj['user_rating']['rating_color']\n",
    "        rVotes = jsonObj['user_rating']['votes']            \n",
    "        rreview_count = jsonObj['all_reviews_count']\n",
    "        rreviews = jsonObj['all_reviews']['reviews']\n",
    "        rphotos_url = jsonObj['photos_url']\n",
    "        rphotos_count = jsonObj['photo_count']\n",
    "        rmenu = jsonObj['menu_url']\n",
    "        rOnline = jsonObj['has_online_delivery']\n",
    "        rStoreType = jsonObj['store_type']\n",
    "        rtable_Sup = jsonObj['is_table_reservation_supported']\n",
    "        rtable_Book = jsonObj['has_table_booking']\n",
    "        revents = jsonObj['events_url']\n",
    "        rphone = jsonObj['phone_numbers']\n",
    "        restablishment = jsonObj['establishment']\n",
    "        \n",
    "        \n",
    "        ropentable = ['Yes' if ropentable == 1 else 'No' ][0]\n",
    "        rzomato_book = ['Yes' if rzomato_book == 1 else 'No' ][0]\n",
    "        rweb_book = ['Yes' if rweb_book == 1 else 'No' ][0]\n",
    "        reviews = []\n",
    "        for i in range(len(list(rreviews))):\n",
    "            if len(list(rreviews[i]['review'])) > 0:\n",
    "                reviews.append(list(rreviews[i]['review'])[0])\n",
    "        rOnline = ['Yes' if rOnline == 1 else 'No' ][0]\n",
    "        rtable_Sup = ['Yes' if rtable_Sup == 1 else 'No' ][0]\n",
    "        rtable_Book = ['Yes' if rtable_Book == 1 else 'No' ][0]\n",
    "        establishment = ''\n",
    "        if len(restablishment) > 0:\n",
    "            establishment = restablishment[0]\n",
    "        \n",
    "        final_list.append([rid,rName,rurl,rImg,rLocation,rcity,rcityid,rLat,rLong,rzipcode,rcountry_id,rcuisine,ravgcost,\n",
    "                           rPrice,rCurrency,rhighlights,ropentable,rzomato_book,rweb_book,rweb_book_url,rRate,rRateText,\n",
    "                           rRateColor,rVotes,rreview_count,reviews,rphotos_url,rphotos_count,rmenu,rOnline,rStoreType,rtable_Sup,\n",
    "                           rtable_Book,revents,rphone,establishment])\n",
    "        return final_list"
   ]
  },
  {
   "cell_type": "code",
   "execution_count": 257,
   "metadata": {},
   "outputs": [
    {
     "name": "stdout",
     "output_type": "stream",
     "text": [
      "{'location_suggestions': [{'id': 6, 'name': 'Hyderabad', 'country_id': 1, 'country_name': 'India', 'country_flag_url': 'https://b.zmtcdn.com/images/countries/flags/country_1.png', 'should_experiment_with': 0, 'has_go_out_tab': 0, 'discovery_enabled': 0, 'has_new_ad_format': 1, 'is_state': 0, 'state_id': 0, 'state_name': '', 'state_code': ''}], 'status': 'success', 'has_more': 0, 'has_total': 0, 'user_has_addresses': True}\n"
     ]
    }
   ],
   "source": [
    "#get cityid\n",
    "if __name__ == '__main__':\n",
    "    app = ZomatoApi(credentials['API_KEY'])\n",
    "    v = app.search_cityid('hyderabad')\n",
    "    x = app.getCityID(v)\n",
    "    print(x)"
   ]
  },
  {
   "cell_type": "code",
   "execution_count": 269,
   "metadata": {},
   "outputs": [
    {
     "name": "stdout",
     "output_type": "stream",
     "text": [
      "{'location_suggestions': [{'id': 1, 'name': 'Delhi NCR', 'country_id': 1, 'country_name': 'India', 'country_flag_url': 'https://b.zmtcdn.com/images/countries/flags/country_1.png', 'should_experiment_with': 0, 'has_go_out_tab': 0, 'discovery_enabled': 0, 'has_new_ad_format': 1, 'is_state': 0, 'state_id': 0, 'state_name': '', 'state_code': ''}], 'status': 'success', 'has_more': 0, 'has_total': 0, 'user_has_addresses': True}\n"
     ]
    }
   ],
   "source": [
    "#get cityname\n",
    "if __name__ == '__main__':\n",
    "    app = ZomatoApi(credentials['API_KEY'])\n",
    "    v = app.search_cityname('1')\n",
    "    x = app.getCityNAME(v)\n",
    "    print(x)"
   ]
  },
  {
   "cell_type": "code",
   "execution_count": 261,
   "metadata": {},
   "outputs": [
    {
     "name": "stdout",
     "output_type": "stream",
     "text": [
      "{'categories': [{'categories': {'id': 1, 'name': 'Delivery'}}, {'categories': {'id': 2, 'name': 'Dine-out'}}, {'categories': {'id': 3, 'name': 'Nightlife'}}, {'categories': {'id': 4, 'name': 'Catching-up'}}, {'categories': {'id': 5, 'name': 'Takeaway'}}, {'categories': {'id': 6, 'name': 'Cafes'}}, {'categories': {'id': 7, 'name': 'Daily Menus'}}, {'categories': {'id': 8, 'name': 'Breakfast'}}, {'categories': {'id': 9, 'name': 'Lunch'}}, {'categories': {'id': 10, 'name': 'Dinner'}}, {'categories': {'id': 11, 'name': 'Pubs & Bars'}}, {'categories': {'id': 13, 'name': 'Pocket Friendly Delivery'}}, {'categories': {'id': 14, 'name': 'Clubs & Lounges'}}]}\n"
     ]
    }
   ],
   "source": [
    "#get categories\n",
    "if __name__ == '__main__':\n",
    "    app = ZomatoApi(credentials['API_KEY'])\n",
    "    v = app.categories()\n",
    "    x = app.getCategories(v)\n",
    "    print(x)"
   ]
  },
  {
   "cell_type": "code",
   "execution_count": 270,
   "metadata": {},
   "outputs": [
    {
     "name": "stdout",
     "output_type": "stream",
     "text": [
      "{'establishments': [{'establishment': {'id': 16, 'name': 'Casual Dining'}}, {'establishment': {'id': 18, 'name': 'Fine Dining'}}, {'establishment': {'id': 7, 'name': 'Bar'}}, {'establishment': {'id': 21, 'name': 'Quick Bites'}}, {'establishment': {'id': 20, 'name': 'Food Court'}}, {'establishment': {'id': 23, 'name': 'Dessert Parlour'}}, {'establishment': {'id': 31, 'name': 'Bakery'}}, {'establishment': {'id': 291, 'name': 'Sweet Shop'}}, {'establishment': {'id': 1, 'name': 'Café'}}, {'establishment': {'id': 61, 'name': 'Dhaba'}}, {'establishment': {'id': 51, 'name': 'Butcher Shop'}}, {'establishment': {'id': 41, 'name': 'Beverage Shop'}}, {'establishment': {'id': 5, 'name': 'Lounge'}}, {'establishment': {'id': 8, 'name': 'Club'}}, {'establishment': {'id': 161, 'name': 'Microbrewery'}}, {'establishment': {'id': 6, 'name': 'Pub'}}, {'establishment': {'id': 307, 'name': 'Bhojanalya'}}, {'establishment': {'id': 4, 'name': 'Kiosk'}}, {'establishment': {'id': 81, 'name': 'Food Truck'}}, {'establishment': {'id': 191, 'name': 'Confectionery'}}, {'establishment': {'id': 272, 'name': 'Cocktail Bar'}}, {'establishment': {'id': 308, 'name': 'Paan Shop'}}, {'establishment': {'id': 303, 'name': 'Irani Cafe'}}, {'establishment': {'id': 304, 'name': 'Mess'}}, {'establishment': {'id': 311, 'name': 'General Store'}}, {'establishment': {'id': 312, 'name': 'Donation'}}, {'establishment': {'id': 111, 'name': 'Tea Room'}}, {'establishment': {'id': 91, 'name': 'Bistro'}}, {'establishment': {'id': 281, 'name': 'Fast Food'}}, {'establishment': {'id': 293, 'name': 'Shack'}}, {'establishment': {'id': 211, 'name': 'Canteen'}}, {'establishment': {'id': 275, 'name': 'Pizzeria'}}, {'establishment': {'id': 295, 'name': 'Noodle Shop'}}, {'establishment': {'id': 121, 'name': 'Cakery'}}, {'establishment': {'id': 241, 'name': 'Snack Bar'}}, {'establishment': {'id': 292, 'name': 'Beer Garden'}}, {'establishment': {'id': 131, 'name': 'Pop up'}}, {'establishment': {'id': 296, 'name': 'French bar'}}, {'establishment': {'id': 309, 'name': 'Steakhouse'}}, {'establishment': {'id': 271, 'name': 'Sandwich Shop'}}, {'establishment': {'id': 278, 'name': 'Wine Bar'}}, {'establishment': {'id': 313, 'name': 'Contribution'}}, {'establishment': {'id': 314, 'name': 'Liquor Store'}}]}\n"
     ]
    }
   ],
   "source": [
    "#get establishments\n",
    "if __name__ == '__main__':\n",
    "    app = ZomatoApi(credentials['API_KEY'])\n",
    "    v = app.search_establishments('1')\n",
    "    x = app.getEstablishments(v)\n",
    "    print(x)"
   ]
  },
  {
   "cell_type": "code",
   "execution_count": 271,
   "metadata": {},
   "outputs": [
    {
     "name": "stdout",
     "output_type": "stream",
     "text": [
      "{'cuisines': [{'cuisine': {'cuisine_id': 1035, 'cuisine_name': 'Afghan'}}, {'cuisine': {'cuisine_id': 152, 'cuisine_name': 'African'}}, {'cuisine': {'cuisine_id': 1, 'cuisine_name': 'American'}}, {'cuisine': {'cuisine_id': 2, 'cuisine_name': 'Andhra'}}, {'cuisine': {'cuisine_id': 4, 'cuisine_name': 'Arabian'}}, {'cuisine': {'cuisine_id': 175, 'cuisine_name': 'Armenian'}}, {'cuisine': {'cuisine_id': 3, 'cuisine_name': 'Asian'}}, {'cuisine': {'cuisine_id': 165, 'cuisine_name': 'Assamese'}}, {'cuisine': {'cuisine_id': 292, 'cuisine_name': 'Awadhi'}}, {'cuisine': {'cuisine_id': 193, 'cuisine_name': 'BBQ'}}, {'cuisine': {'cuisine_id': 5, 'cuisine_name': 'Bakery'}}, {'cuisine': {'cuisine_id': 227, 'cuisine_name': 'Bar Food'}}, {'cuisine': {'cuisine_id': 132, 'cuisine_name': 'Belgian'}}, {'cuisine': {'cuisine_id': 10, 'cuisine_name': 'Bengali'}}, {'cuisine': {'cuisine_id': 270, 'cuisine_name': 'Beverages'}}, {'cuisine': {'cuisine_id': 1013, 'cuisine_name': 'Bihari'}}, {'cuisine': {'cuisine_id': 7, 'cuisine_name': 'Biryani'}}, {'cuisine': {'cuisine_id': 159, 'cuisine_name': 'Brazilian'}}, {'cuisine': {'cuisine_id': 133, 'cuisine_name': 'British'}}, {'cuisine': {'cuisine_id': 247, 'cuisine_name': 'Bubble Tea'}}, {'cuisine': {'cuisine_id': 168, 'cuisine_name': 'Burger'}}, {'cuisine': {'cuisine_id': 22, 'cuisine_name': 'Burmese'}}, {'cuisine': {'cuisine_id': 30, 'cuisine_name': 'Cafe'}}, {'cuisine': {'cuisine_id': 121, 'cuisine_name': 'Cantonese'}}, {'cuisine': {'cuisine_id': 994, 'cuisine_name': 'Charcoal Chicken'}}, {'cuisine': {'cuisine_id': 18, 'cuisine_name': 'Chettinad'}}, {'cuisine': {'cuisine_id': 25, 'cuisine_name': 'Chinese'}}, {'cuisine': {'cuisine_id': 1040, 'cuisine_name': 'Coffee'}}, {'cuisine': {'cuisine_id': 35, 'cuisine_name': 'Continental'}}, {'cuisine': {'cuisine_id': 1014, 'cuisine_name': 'Cuisine Varies'}}, {'cuisine': {'cuisine_id': 100, 'cuisine_name': 'Desserts'}}, {'cuisine': {'cuisine_id': 149, 'cuisine_name': 'Ethiopian'}}, {'cuisine': {'cuisine_id': 38, 'cuisine_name': 'European'}}, {'cuisine': {'cuisine_id': 40, 'cuisine_name': 'Fast Food'}}, {'cuisine': {'cuisine_id': 271, 'cuisine_name': 'Finger Food'}}, {'cuisine': {'cuisine_id': 45, 'cuisine_name': 'French'}}, {'cuisine': {'cuisine_id': 501, 'cuisine_name': 'Frozen Yogurt'}}, {'cuisine': {'cuisine_id': 1047, 'cuisine_name': 'Garhwali'}}, {'cuisine': {'cuisine_id': 47, 'cuisine_name': 'Goan'}}, {'cuisine': {'cuisine_id': 156, 'cuisine_name': 'Greek'}}, {'cuisine': {'cuisine_id': 1059, 'cuisine_name': 'Grocery'}}, {'cuisine': {'cuisine_id': 48, 'cuisine_name': 'Gujarati'}}, {'cuisine': {'cuisine_id': 143, 'cuisine_name': 'Healthy Food'}}, {'cuisine': {'cuisine_id': 1026, 'cuisine_name': 'Hot dogs'}}, {'cuisine': {'cuisine_id': 49, 'cuisine_name': 'Hyderabadi'}}, {'cuisine': {'cuisine_id': 233, 'cuisine_name': 'Ice Cream'}}, {'cuisine': {'cuisine_id': 114, 'cuisine_name': 'Indonesian'}}, {'cuisine': {'cuisine_id': 140, 'cuisine_name': 'Iranian'}}, {'cuisine': {'cuisine_id': 218, 'cuisine_name': 'Israeli'}}, {'cuisine': {'cuisine_id': 55, 'cuisine_name': 'Italian'}}, {'cuisine': {'cuisine_id': 60, 'cuisine_name': 'Japanese'}}, {'cuisine': {'cuisine_id': 164, 'cuisine_name': 'Juices'}}, {'cuisine': {'cuisine_id': 65, 'cuisine_name': 'Kashmiri'}}, {'cuisine': {'cuisine_id': 178, 'cuisine_name': 'Kebab'}}, {'cuisine': {'cuisine_id': 62, 'cuisine_name': 'Kerala'}}, {'cuisine': {'cuisine_id': 67, 'cuisine_name': 'Korean'}}, {'cuisine': {'cuisine_id': 66, 'cuisine_name': 'Lebanese'}}, {'cuisine': {'cuisine_id': 157, 'cuisine_name': 'Lucknowi'}}, {'cuisine': {'cuisine_id': 102, 'cuisine_name': 'Maharashtrian'}}, {'cuisine': {'cuisine_id': 69, 'cuisine_name': 'Malaysian'}}, {'cuisine': {'cuisine_id': 71, 'cuisine_name': 'Malwani'}}, {'cuisine': {'cuisine_id': 72, 'cuisine_name': 'Mangalorean'}}, {'cuisine': {'cuisine_id': 70, 'cuisine_name': 'Mediterranean'}}, {'cuisine': {'cuisine_id': 73, 'cuisine_name': 'Mexican'}}, {'cuisine': {'cuisine_id': 137, 'cuisine_name': 'Middle Eastern'}}, {'cuisine': {'cuisine_id': 1041, 'cuisine_name': 'Mishti'}}, {'cuisine': {'cuisine_id': 1015, 'cuisine_name': 'Mithai'}}, {'cuisine': {'cuisine_id': 1018, 'cuisine_name': 'Modern Indian'}}, {'cuisine': {'cuisine_id': 1051, 'cuisine_name': 'Momos'}}, {'cuisine': {'cuisine_id': 74, 'cuisine_name': 'Mongolian'}}, {'cuisine': {'cuisine_id': 147, 'cuisine_name': 'Moroccan'}}, {'cuisine': {'cuisine_id': 75, 'cuisine_name': 'Mughlai'}}, {'cuisine': {'cuisine_id': 166, 'cuisine_name': 'Naga'}}, {'cuisine': {'cuisine_id': 117, 'cuisine_name': 'Nepalese'}}, {'cuisine': {'cuisine_id': 231, 'cuisine_name': 'North Eastern'}}, {'cuisine': {'cuisine_id': 50, 'cuisine_name': 'North Indian'}}, {'cuisine': {'cuisine_id': 1057, 'cuisine_name': 'Odia'}}, {'cuisine': {'cuisine_id': 1048, 'cuisine_name': 'Paan'}}, {'cuisine': {'cuisine_id': 139, 'cuisine_name': 'Pakistani'}}, {'cuisine': {'cuisine_id': 989, 'cuisine_name': 'Panini'}}, {'cuisine': {'cuisine_id': 290, 'cuisine_name': 'Parsi'}}, {'cuisine': {'cuisine_id': 82, 'cuisine_name': 'Pizza'}}, {'cuisine': {'cuisine_id': 1019, 'cuisine_name': 'Poké'}}, {'cuisine': {'cuisine_id': 87, 'cuisine_name': 'Portuguese'}}, {'cuisine': {'cuisine_id': 88, 'cuisine_name': 'Rajasthani'}}, {'cuisine': {'cuisine_id': 27, 'cuisine_name': 'Raw Meats'}}, {'cuisine': {'cuisine_id': 1060, 'cuisine_name': 'Relief fund'}}, {'cuisine': {'cuisine_id': 1005, 'cuisine_name': 'Roast Chicken'}}, {'cuisine': {'cuisine_id': 1023, 'cuisine_name': 'Rolls'}}, {'cuisine': {'cuisine_id': 84, 'cuisine_name': 'Russian'}}, {'cuisine': {'cuisine_id': 998, 'cuisine_name': 'Salad'}}, {'cuisine': {'cuisine_id': 304, 'cuisine_name': 'Sandwich'}}, {'cuisine': {'cuisine_id': 83, 'cuisine_name': 'Seafood'}}, {'cuisine': {'cuisine_id': 993, 'cuisine_name': 'Sindhi'}}, {'cuisine': {'cuisine_id': 119, 'cuisine_name': 'Singaporean'}}, {'cuisine': {'cuisine_id': 972, 'cuisine_name': 'South American'}}, {'cuisine': {'cuisine_id': 85, 'cuisine_name': 'South Indian'}}, {'cuisine': {'cuisine_id': 89, 'cuisine_name': 'Spanish'}}, {'cuisine': {'cuisine_id': 86, 'cuisine_name': 'Sri Lankan'}}, {'cuisine': {'cuisine_id': 141, 'cuisine_name': 'Steak'}}, {'cuisine': {'cuisine_id': 90, 'cuisine_name': 'Street Food'}}, {'cuisine': {'cuisine_id': 177, 'cuisine_name': 'Sushi'}}, {'cuisine': {'cuisine_id': 1054, 'cuisine_name': 'Tamil'}}, {'cuisine': {'cuisine_id': 163, 'cuisine_name': 'Tea'}}, {'cuisine': {'cuisine_id': 150, 'cuisine_name': 'Tex-Mex'}}, {'cuisine': {'cuisine_id': 95, 'cuisine_name': 'Thai'}}, {'cuisine': {'cuisine_id': 93, 'cuisine_name': 'Tibetan'}}, {'cuisine': {'cuisine_id': 142, 'cuisine_name': 'Turkish'}}, {'cuisine': {'cuisine_id': 99, 'cuisine_name': 'Vietnamese'}}, {'cuisine': {'cuisine_id': 1024, 'cuisine_name': 'Wraps'}}]}\n"
     ]
    }
   ],
   "source": [
    "#get Cuisines\n",
    "if __name__ == '__main__':\n",
    "    app = ZomatoApi(credentials['API_KEY'])\n",
    "    v = app.search_cuisine('1')\n",
    "    x = app.getCuisines(v)\n",
    "    print(x)"
   ]
  },
  {
   "cell_type": "code",
   "execution_count": 267,
   "metadata": {},
   "outputs": [
    {
     "name": "stdout",
     "output_type": "stream",
     "text": [
      "{'collections': [{'collection': {'collection_id': 1, 'res_count': 30, 'image_url': 'https://b.zmtcdn.com/data/collections/e1d5e8f900dbca01d11f353ef4b6a97c_1581662605.jpg', 'url': 'https://www.zomato.com/hyderabad/top-restaurants?utm_source=api_basic_user&utm_medium=api&utm_campaign=v2.1', 'title': 'Trending This Week', 'description': 'Most popular restaurants in town this week', 'share_url': 'http://www.zoma.to/c-1/1'}}, {'collection': {'collection_id': 274852, 'res_count': 324, 'image_url': 'https://b.zmtcdn.com/data/collections/2d2dd0abcf04edee09ab3fad4d0414f3_1537183790.jpg', 'url': 'https://www.zomato.com/hyderabad/great-food-no-bull?utm_source=api_basic_user&utm_medium=api&utm_campaign=v2.1', 'title': \"Hyderabad's Hottest\", 'description': 'The hunt for the highest-rated restaurants in your city ends here', 'share_url': 'http://www.zoma.to/c-1/274852'}}, {'collection': {'collection_id': 306689, 'res_count': 23, 'image_url': 'https://b.zmtcdn.com/data/collections/ea3586931f563bd32913134d1380dc18_1593576487.jpg', 'url': 'https://www.zomato.com/hyderabad/best-of-gurgaon?utm_source=api_basic_user&utm_medium=api&utm_campaign=v2.1', 'title': 'Best of Gurgaon', 'description': 'Post Lockdown, here are some best restaurants to check out in Gurgaon! ', 'share_url': 'http://www.zoma.to/c-1/306689'}}, {'collection': {'collection_id': 306690, 'res_count': 16, 'image_url': 'https://b.zmtcdn.com/data/collections/ac5506509e0773ed85740fe9bd257c74_1593579895.jpg', 'url': 'https://www.zomato.com/hyderabad/best-of-noida?utm_source=api_basic_user&utm_medium=api&utm_campaign=v2.1', 'title': 'Best of Noida', 'description': 'Post Lockdown, here are some best restaurants to check out in Noida! ', 'share_url': 'http://www.zoma.to/c-1/306690'}}, {'collection': {'collection_id': 438, 'res_count': 68, 'image_url': 'https://b.zmtcdn.com/data/collections/7f68fde319524e0d152ac8f01c89623c_1582286063.jpg', 'url': 'https://www.zomato.com/hyderabad/top-cafes?utm_source=api_basic_user&utm_medium=api&utm_campaign=v2.1', 'title': 'Great Cafes', 'description': 'Grab a bite to eat, a cup of coffee, and catch up with friends or family', 'share_url': 'http://www.zoma.to/c-1/438'}}, {'collection': {'collection_id': 305356, 'res_count': 16, 'image_url': 'https://b.zmtcdn.com/data/collections/d5fee6a5e24cda1629f810c3836dcb1f_1582106775.jpg', 'url': 'https://www.zomato.com/hyderabad/for-the-planet?utm_source=api_basic_user&utm_medium=api&utm_campaign=v2.1', 'title': 'For The Planet', 'description': 'Start your 2020, on a greener note!', 'share_url': 'http://www.zoma.to/c-1/305356'}}, {'collection': {'collection_id': 7, 'res_count': 37, 'image_url': 'https://b.zmtcdn.com/data/collections/2683237a53944cfd9801c2fabd5cdf32_1582082375.jpg', 'url': 'https://www.zomato.com/hyderabad/legendary-places?utm_source=api_basic_user&utm_medium=api&utm_campaign=v2.1', 'title': 'Legendary Outlets', 'description': \"They say old is gold and here's the proof\", 'share_url': 'http://www.zoma.to/c-1/7'}}, {'collection': {'collection_id': 306449, 'res_count': 221, 'image_url': 'https://b.zmtcdn.com/data/collections/105153a6d17514c0b1e32900a56c58e5_1584436497.jpg', 'url': 'https://www.zomato.com/hyderabad/best-of-hyperpure?utm_source=api_basic_user&utm_medium=api&utm_campaign=v2.1', 'title': 'Best of Hyperpure', 'description': 'Food made with the freshest ingredients.', 'share_url': 'http://www.zoma.to/c-1/306449'}}, {'collection': {'collection_id': 4, 'res_count': 22, 'image_url': 'https://b.zmtcdn.com/data/collections/b1d388518012c80696487c08ca08e325_1582201041.jpg', 'url': 'https://www.zomato.com/hyderabad/outdoor-dining?utm_source=api_basic_user&utm_medium=api&utm_campaign=v2.1', 'title': 'Outdoor Seating', 'description': 'The most idyllic outdoor-dining spots in the city', 'share_url': 'http://www.zoma.to/c-1/4'}}, {'collection': {'collection_id': 13, 'res_count': 11, 'image_url': 'https://b.zmtcdn.com/data/collections/14fa741ee65b838680a95a4cd7b9faa4_1582201565.jpg', 'url': 'https://www.zomato.com/hyderabad/rooftop?utm_source=api_basic_user&utm_medium=api&utm_campaign=v2.1', 'title': 'Rooftops', 'description': 'If you fancy a meal with a view', 'share_url': 'http://www.zoma.to/c-1/13'}}, {'collection': {'collection_id': 225, 'res_count': 42, 'image_url': 'https://b.zmtcdn.com/data/collections/e0ce96d87dbbd975662d28bb43b335ac_1582603125.jpg', 'url': 'https://www.zomato.com/hyderabad/fine-dining-restaurants?utm_source=api_basic_user&utm_medium=api&utm_campaign=v2.1', 'title': 'Luxury Dining', 'description': 'The best restaurants in town for a complete fine-dining experience', 'share_url': 'http://www.zoma.to/c-1/225'}}, {'collection': {'collection_id': 285, 'res_count': 12, 'image_url': 'https://b.zmtcdn.com/data/collections/dd0048f5ef6019eb457ecde8a9c86c2d_1442319341_l.jpg', 'url': 'https://www.zomato.com/hyderabad/vegan-restaurants?utm_source=api_basic_user&utm_medium=api&utm_campaign=v2.1', 'title': \"Vegan's Choice\", 'description': 'Go all out & treat yourself with the best of vegan food in town', 'share_url': 'http://www.zoma.to/c-1/285'}}, {'collection': {'collection_id': 327, 'res_count': 36, 'image_url': 'https://b.zmtcdn.com/data/collections/25b0494ade2359d4e6d90e1c73ea6672_1582082248.jpg', 'url': 'https://www.zomato.com/hyderabad/family-dining?utm_source=api_basic_user&utm_medium=api&utm_campaign=v2.1', 'title': 'For The Family', 'description': 'The best places to enjoy a nice family dinner', 'share_url': 'http://www.zoma.to/c-1/327'}}, {'collection': {'collection_id': 3, 'res_count': 26, 'image_url': 'https://b.zmtcdn.com/data/collections/90999c2395ba9c9c40998607c8dd5af1_1581058174.jpg', 'url': 'https://www.zomato.com/hyderabad/romantic-restaurants?utm_source=api_basic_user&utm_medium=api&utm_campaign=v2.1', 'title': 'Romantic', 'description': 'The perfect spots for a romantic meal', 'share_url': 'http://www.zoma.to/c-1/3'}}, {'collection': {'collection_id': 75, 'res_count': 19, 'image_url': 'https://b.zmtcdn.com/data/collections/f9d822284b336c1eb8c3af8c42216389_1460023238.jpg', 'url': 'https://www.zomato.com/hyderabad/best-bars-and-pubs?utm_source=api_basic_user&utm_medium=api&utm_campaign=v2.1', 'title': 'Best Bars and Pubs', 'description': 'Find the best bars & pubs in your city', 'share_url': 'http://www.zoma.to/c-1/75'}}, {'collection': {'collection_id': 25, 'res_count': 10, 'image_url': 'https://b.zmtcdn.com/data/collections/69e5a43935b4e69ecb56a40cddae57db_1453706053.jpg', 'url': 'https://www.zomato.com/hyderabad/pet-friendly-restaurants?utm_source=api_basic_user&utm_medium=api&utm_campaign=v2.1', 'title': 'Pet Friendly', 'description': 'A pet lover? Chill out with your furry best friend at these spots ', 'share_url': 'http://www.zoma.to/c-1/25'}}, {'collection': {'collection_id': 321, 'res_count': 24, 'image_url': 'https://b.zmtcdn.com/data/collections/f672e9556e44fe33ff47bf751639c0bd_1535356450.jpg', 'url': 'https://www.zomato.com/hyderabad/pizza-time?utm_source=api_basic_user&utm_medium=api&utm_campaign=v2.1', 'title': 'Pizza Time!', 'description': 'The best pizza places in town', 'share_url': 'http://www.zoma.to/c-1/321'}}, {'collection': {'collection_id': 58, 'res_count': 49, 'image_url': 'https://b.zmtcdn.com/data/collections/3fa6a1d163fa81af3b4fb3e33a7bb540_1535355867.jpg', 'url': 'https://www.zomato.com/hyderabad/asian-restaurants?utm_source=api_basic_user&utm_medium=api&utm_campaign=v2.1', 'title': 'Pan-Asian Delicacies', 'description': 'The best places for Asian fare', 'share_url': 'http://www.zoma.to/c-1/58'}}, {'collection': {'collection_id': 490, 'res_count': 33, 'image_url': 'https://b.zmtcdn.com/data/collections/3242a1273d76b53b31c70124fb66ad7e_1535355181.jpg', 'url': 'https://www.zomato.com/hyderabad/healthy-living?utm_source=api_basic_user&utm_medium=api&utm_campaign=v2.1', 'title': 'Healthy Living', 'description': 'These eateries make healthy food a tasty affair', 'share_url': 'http://www.zoma.to/c-1/490'}}, {'collection': {'collection_id': 104, 'res_count': 16, 'image_url': 'https://b.zmtcdn.com/data/collections/3041fff41bc70a34c937247381df8417_1418390780_l.jpg', 'url': 'https://www.zomato.com/hyderabad/meat-restaurants?utm_source=api_basic_user&utm_medium=api&utm_campaign=v2.1', 'title': 'Meat Cravings', 'description': \"For when chicken and fish just aren't enough.\", 'share_url': 'http://www.zoma.to/c-1/104'}}, {'collection': {'collection_id': 5, 'res_count': 39, 'image_url': 'https://b.zmtcdn.com/data/collections/d38669ed7b829ceb2814678420a629da_1560353561.jpg', 'url': 'https://www.zomato.com/hyderabad/best-burger?utm_source=api_basic_user&utm_medium=api&utm_campaign=v2.1', 'title': 'Kickass Burgers', 'description': 'Chow down on a cheeselicious burger!', 'share_url': 'http://www.zoma.to/c-1/5'}}, {'collection': {'collection_id': 71343, 'res_count': 33, 'image_url': 'https://b.zmtcdn.com/data/collections/b9cc31cacf20b1423830c877d438eff8_1582027308.jpg', 'url': 'https://www.zomato.com/hyderabad/insta-worthy?utm_source=api_basic_user&utm_medium=api&utm_campaign=v2.1', 'title': 'Insta-Worthy', 'description': 'So aesthetically pleasing even the most camera shy will have their phones out at these Insta-perfect havens', 'share_url': 'http://www.zoma.to/c-1/71343'}}, {'collection': {'collection_id': 74, 'res_count': 9, 'image_url': 'https://b.zmtcdn.com/data/collections/4c645d68d0ad4c624abab81374c8997c_1582106595.jpg', 'url': 'https://www.zomato.com/hyderabad/night-clubs?utm_source=api_basic_user&utm_medium=api&utm_campaign=v2.1', 'title': \"Where's The Party?\", 'description': 'Grab on your favourite Glasses', 'share_url': 'http://www.zoma.to/c-1/74'}}, {'collection': {'collection_id': 40, 'res_count': 30, 'image_url': 'https://b.zmtcdn.com/data/collections/bc0c37f8fc87da896641714b9ef7f0b7_1575621158.jpg', 'url': 'https://www.zomato.com/hyderabad/dessert-places?utm_source=api_basic_user&utm_medium=api&utm_campaign=v2.1', 'title': 'Sweet Tooth', 'description': 'From cookies and doughnuts to ice cream and cakes, knock yourself out with these classic and creative desserts ', 'share_url': 'http://www.zoma.to/c-1/40'}}, {'collection': {'collection_id': 200230, 'res_count': 10, 'image_url': 'https://b.zmtcdn.com/data/collections/f325eaef479f12469b1a0f166b87ddf8_1582106221.jpg', 'url': 'https://www.zomato.com/hyderabad/byo-restaurants?utm_source=api_basic_user&utm_medium=api&utm_campaign=v2.1', 'title': 'BYO restaurants', 'description': 'Save some extra dining dollars & bring your own booze at these joints! ', 'share_url': 'http://www.zoma.to/c-1/200230'}}, {'collection': {'collection_id': 9, 'res_count': 17, 'image_url': 'https://b.zmtcdn.com/data/collections/df4ccbf9f6b6db21b07d12a18577b5af_1582106658.jpg', 'url': 'https://www.zomato.com/hyderabad/microbreweries?utm_source=api_basic_user&utm_medium=api&utm_campaign=v2.1', 'title': 'Microbreweries', 'description': 'For the times when bottled brews just do not cut it', 'share_url': 'http://www.zoma.to/c-1/9'}}, {'collection': {'collection_id': 284256, 'res_count': 194, 'image_url': 'https://b.zmtcdn.com/data/collections/e12814fee913532388b2980d4e1e5992_1531287213.jpg', 'url': 'https://www.zomato.com/hyderabad/hygiene-rated-restaurants?utm_source=api_basic_user&utm_medium=api&utm_campaign=v2.1', 'title': 'Food Hygiene Rated Restaurants', 'description': 'The most hygienic restaurants in your city', 'share_url': 'http://www.zoma.to/c-1/284256'}}, {'collection': {'collection_id': 413, 'res_count': 14, 'image_url': 'https://b.zmtcdn.com/data/collections/e91c781ebf1d2112043c13a7907d511c_1582263556.jpg', 'url': 'https://www.zomato.com/hyderabad/themed-restaurants?utm_source=api_basic_user&utm_medium=api&utm_campaign=v2.1', 'title': 'Themed Restaurants', 'description': 'Checkout themed restaurants in your city', 'share_url': 'http://www.zoma.to/c-1/413'}}, {'collection': {'collection_id': 322, 'res_count': 27, 'image_url': 'https://b.zmtcdn.com/data/collections/9f2108bdc7661d17ff734eca6523bec6_1535369391.jpg', 'url': 'https://www.zomato.com/hyderabad/south-indian-restaurants?utm_source=api_basic_user&utm_medium=api&utm_campaign=v2.1', 'title': 'South Indian Delights', 'description': 'A slice of the South, right here in your city. Dosas, appams, idlis and so much more.', 'share_url': 'http://www.zoma.to/c-1/322'}}, {'collection': {'collection_id': 107, 'res_count': 16, 'image_url': 'https://b.zmtcdn.com/data/collections/de3ca6dbf238f963dcac185d19c39589_1535469835.jpg', 'url': 'https://www.zomato.com/hyderabad/old-delhi-food?utm_source=api_basic_user&utm_medium=api&utm_campaign=v2.1', 'title': 'Best Places To Try In Old Delhi', 'description': 'Experience all the culinary delights Old Delhi has to offer', 'share_url': 'http://www.zoma.to/c-1/107'}}, {'collection': {'collection_id': 51, 'res_count': 17, 'image_url': 'https://b.zmtcdn.com/data/collections/81dc179878a8d9e8b2ab03e4eaeab0df_1459434256.jpg', 'url': 'https://www.zomato.com/hyderabad/biryani?utm_source=api_basic_user&utm_medium=api&utm_campaign=v2.1', 'title': 'Brilliant Biryanis', 'description': 'Hyderabadi, Kolkata, Lucknowi...the choice is yours', 'share_url': 'http://www.zoma.to/c-1/51'}}, {'collection': {'collection_id': 274905, 'res_count': 8, 'image_url': 'https://b.zmtcdn.com/data/collections/730b9234b2a0224748775b540496a5b6_1535469616.jpg', 'url': 'https://www.zomato.com/hyderabad/state-bhawan-canteens?utm_source=api_basic_user&utm_medium=api&utm_campaign=v2.1', 'title': 'State Bhawan Canteens', 'description': 'Unity in diversity has never tasted so good', 'share_url': 'http://www.zoma.to/c-1/274905'}}, {'collection': {'collection_id': 2, 'res_count': 18, 'image_url': 'https://b.zmtcdn.com/data/collections/16aa00197f90fcf760577695444583c8_1551076991.jpg', 'url': 'https://www.zomato.com/hyderabad/sunday-brunch?utm_source=api_basic_user&utm_medium=api&utm_campaign=v2.1', 'title': 'Sunday Brunches', 'description': 'Just about the perfect way to end the week', 'share_url': 'http://www.zoma.to/c-1/2'}}, {'collection': {'collection_id': 432, 'res_count': 24, 'image_url': 'https://b.zmtcdn.com/data/collections/42e666d436d9a3b90431e6cc4a6b242d_1582106525.jpg', 'url': 'https://www.zomato.com/hyderabad/artisan-cocktails?utm_source=api_basic_user&utm_medium=api&utm_campaign=v2.1', 'title': 'Artisan Cocktails', 'description': 'Get your hands on drinks as beautiful as you', 'share_url': 'http://www.zoma.to/c-1/432'}}, {'collection': {'collection_id': 20, 'res_count': 30, 'image_url': 'https://b.zmtcdn.com/data/collections/a7ddff4ee0a77e2b32823c2ce5551579_1460030505.jpg', 'url': 'https://www.zomato.com/hyderabad/great-breakfasts?utm_source=api_basic_user&utm_medium=api&utm_campaign=v2.1', 'title': 'Great Breakfasts', 'description': 'Brekkie or brunch, regardless what tickles your fancy, immerse yourself in our city’s cafe culture at these top spots', 'share_url': 'http://www.zoma.to/c-1/20'}}, {'collection': {'collection_id': 267071, 'res_count': 11, 'image_url': 'https://b.zmtcdn.com/data/collections/f8b69a96058e1ace99055f8ac2ebff58_1582263337.jpg', 'url': 'https://www.zomato.com/hyderabad/ladies-luncheon?utm_source=api_basic_user&utm_medium=api&utm_campaign=v2.1', 'title': \"Ladies' Luncheon\", 'description': \"What's brunch? Let's lady lunch!\", 'share_url': 'http://www.zoma.to/c-1/267071'}}, {'collection': {'collection_id': 340, 'res_count': 10, 'image_url': 'https://b.zmtcdn.com/data/collections/d19875fcfe237f5af940aa7d448a0b3f_1582201293.jpg', 'url': 'https://www.zomato.com/hyderabad/cheap-bars?utm_source=api_basic_user&utm_medium=api&utm_campaign=v2.1', 'title': 'Pocket Friendly Bars', 'description': 'The best and most affordable booze your city has to offer ', 'share_url': 'http://www.zoma.to/c-1/340'}}, {'collection': {'collection_id': 55, 'res_count': 19, 'image_url': 'https://b.zmtcdn.com/data/collections/6b962c42a7af00a3c6fe869b36bf5e83_1535355521.jpg', 'url': 'https://www.zomato.com/hyderabad/live-music-restaurants?utm_source=api_basic_user&utm_medium=api&utm_campaign=v2.1', 'title': 'Live Music', 'description': 'The best live music venues in town', 'share_url': 'http://www.zoma.to/c-1/55'}}, {'collection': {'collection_id': 12, 'res_count': 76, 'image_url': 'https://b.zmtcdn.com/data/collections/b881f496afbf6a3baeb1165ec3dd7ec1_1460368719.jpg', 'url': 'https://www.zomato.com/hyderabad/cheap-eats?utm_source=api_basic_user&utm_medium=api&utm_campaign=v2.1', 'title': 'Pocket Friendly', 'description': 'Your top options when dining on a budget', 'share_url': 'http://www.zoma.to/c-1/12'}}, {'collection': {'collection_id': 277, 'res_count': 14, 'image_url': 'https://b.zmtcdn.com/data/collections/1c0daad79bed143d6a59f67efb6fe196_1535355063.jpg', 'url': 'https://www.zomato.com/hyderabad/best-buffet?utm_source=api_basic_user&utm_medium=api&utm_campaign=v2.1', 'title': 'Great Buffets', 'description': \"Eat to your heart's content\", 'share_url': 'http://www.zoma.to/c-1/277'}}, {'collection': {'collection_id': 78, 'res_count': 30, 'image_url': 'https://b.zmtcdn.com/data/collections/4c5fd3628817409562ef1af6dd93b9a8_1535355035.jpg', 'url': 'https://www.zomato.com/hyderabad/butter-chicken?utm_source=api_basic_user&utm_medium=api&utm_campaign=v2.1', 'title': 'Butter Chicken', 'description': 'A food better than butter chicken? There is naan', 'share_url': 'http://www.zoma.to/c-1/78'}}, {'collection': {'collection_id': 183, 'res_count': 44, 'image_url': 'https://b.zmtcdn.com/data/collections/fe80e560421fcaea5ba5fc83d5289562_1459586727.jpg', 'url': 'https://www.zomato.com/hyderabad/late-night-delivery?utm_source=api_basic_user&utm_medium=api&utm_campaign=v2.1', 'title': 'Late Night Delivery', 'description': 'For those crazy, late night hunger pangs', 'share_url': 'http://www.zoma.to/c-1/183'}}, {'collection': {'collection_id': 19, 'res_count': 85, 'image_url': 'https://b.zmtcdn.com/data/collections/2e5c5dc79d4b465797c8e425d814f42c_1582256432.jpg', 'url': 'https://www.zomato.com/hyderabad/vegetarian-restaurants?utm_source=api_basic_user&utm_medium=api&utm_campaign=v2.1', 'title': 'Veggie Friendly', 'description': 'Restaurants serving the best vegetarian fare', 'share_url': 'http://www.zoma.to/c-1/19'}}, {'collection': {'collection_id': 99, 'res_count': 13, 'image_url': 'https://b.zmtcdn.com/data/collections/083468dbee9b51b10b7e6d8c9f091b4f_1554892925.jpg', 'url': 'https://www.zomato.com/hyderabad/sports-screenings?utm_source=api_basic_user&utm_medium=api&utm_campaign=v2.1', 'title': 'Live Sports Screenings', 'description': 'Catch the best sporting action live!', 'share_url': 'http://www.zoma.to/c-1/99'}}, {'collection': {'collection_id': 20234, 'res_count': 9, 'image_url': 'https://b.zmtcdn.com/data/collections/5e044e73f4b86f0996c3bdcab067815c_1450776742.jpg', 'url': 'https://www.zomato.com/hyderabad/best-japanese-food?utm_source=api_basic_user&utm_medium=api&utm_campaign=v2.1', 'title': 'Japanese frenzy', 'description': 'Explore these spots to fill up on some Japanese nosh & satisfy all those sashimi, katsu & tonkatsu cravings', 'share_url': 'http://www.zoma.to/c-1/20234'}}, {'collection': {'collection_id': 305890, 'res_count': 12, 'image_url': 'https://b.zmtcdn.com/data/collections/9bbe7a4d6da816c7cc8966ce1e4c16d1_1581510852.jpg', 'url': 'https://www.zomato.com/hyderabad/best-caterers-in-town?utm_source=api_basic_user&utm_medium=api&utm_campaign=v2.1', 'title': 'Best Caterers In Town', 'description': 'Planning a Party? Find the best Caterers in the city. ', 'share_url': 'http://www.zoma.to/c-1/305890'}}], 'has_more': 0, 'share_url': 'http://www.zoma.to/c-1', 'display_text': 'OR EXPLORE OUR COLLECTIONS', 'has_total': 0, 'user_has_addresses': True}\n"
     ]
    }
   ],
   "source": [
    "#get Collections\n",
    "if __name__ == '__main__':\n",
    "    app = ZomatoApi(credentials['API_KEY'])\n",
    "    v = app.search_Collections('1',100)\n",
    "    x = app.getCollections(v)\n",
    "    print(x)"
   ]
  },
  {
   "cell_type": "code",
   "execution_count": 231,
   "metadata": {},
   "outputs": [
    {
     "name": "stdout",
     "output_type": "stream",
     "text": [
      "[16608152, 'Osteria Sanso', 'https://www.zomato.com/kanmantoo-sa/osteria-sanso-kanmantoo?utm_source=api_basic_user&utm_medium=api&utm_campaign=v2.1', '', 'Kanmantoo', 'Kanmantoo', 1807, '-35.0717830000', '139.0146570000', '5252', 14, 'Italian', 20, 2, '$', ['Dinner', 'Lunch', 'Outdoor Seating', 'Table booking recommended'], 'No', 'No', 'No', '', '3.9', 'Good', '9ACD32', 36, 24, [], 'https://www.zomato.com/kanmantoo-sa/osteria-sanso-kanmantoo/photos?utm_source=api_basic_user&utm_medium=api&utm_campaign=v2.1#tabtop', 8, 'https://www.zomato.com/kanmantoo-sa/osteria-sanso-kanmantoo/menu?utm_source=api_basic_user&utm_medium=api&utm_campaign=v2.1&openSwipeBox=menu&showMinimal=1#tabtop', 'No', '', 'No', 'No', 'https://www.zomato.com/kanmantoo-sa/osteria-sanso-kanmantoo/events#tabtop?utm_source=api_basic_user&utm_medium=api&utm_campaign=v2.1', '(08) 8538 5008', '']\n"
     ]
    }
   ],
   "source": [
    "#get restaurant details\n",
    "if __name__ == '__main__':\n",
    "    app = ZomatoApi(credentials['API_KEY'])\n",
    "    v = app.search('16608152')\n",
    "    x = app.getRestaurantDetails(v)\n",
    "    print(x[0])"
   ]
  },
  {
   "cell_type": "code",
   "execution_count": 232,
   "metadata": {},
   "outputs": [],
   "source": [
    "cols = ['id','name','url','featured_image','Location','City','City_ID','Latitude','Longitude','Zip_Code','Country_ID',\n",
    "        'Cuisine','AvgCost4two','Price_Range','Currency','highlights','Opentable_Support','Zomato_Book','Web_Book',\n",
    "        'Booking_URL','Rating','RatingText','RatingColor','Votes','review_count','All_Reviews','Photos_URL','Photos_Count',\n",
    "        'Menu_URL','Online_Order','store_Type','Table_Reservation','Book_Table','Events_URL','Phone#','Establishment']"
   ]
  },
  {
   "cell_type": "code",
   "execution_count": 233,
   "metadata": {},
   "outputs": [
    {
     "data": {
      "text/plain": [
       "36"
      ]
     },
     "execution_count": 233,
     "metadata": {},
     "output_type": "execute_result"
    }
   ],
   "source": [
    "len(cols)"
   ]
  },
  {
   "cell_type": "code",
   "execution_count": 234,
   "metadata": {},
   "outputs": [],
   "source": [
    "rest = pd.DataFrame(columns = cols)"
   ]
  },
  {
   "cell_type": "code",
   "execution_count": 235,
   "metadata": {},
   "outputs": [
    {
     "data": {
      "text/html": [
       "<div>\n",
       "<style scoped>\n",
       "    .dataframe tbody tr th:only-of-type {\n",
       "        vertical-align: middle;\n",
       "    }\n",
       "\n",
       "    .dataframe tbody tr th {\n",
       "        vertical-align: top;\n",
       "    }\n",
       "\n",
       "    .dataframe thead th {\n",
       "        text-align: right;\n",
       "    }\n",
       "</style>\n",
       "<table border=\"1\" class=\"dataframe\">\n",
       "  <thead>\n",
       "    <tr style=\"text-align: right;\">\n",
       "      <th></th>\n",
       "      <th>id</th>\n",
       "      <th>name</th>\n",
       "      <th>url</th>\n",
       "      <th>featured_image</th>\n",
       "      <th>Location</th>\n",
       "      <th>City</th>\n",
       "      <th>City_ID</th>\n",
       "      <th>Latitude</th>\n",
       "      <th>Longitude</th>\n",
       "      <th>Zip_Code</th>\n",
       "      <th>Country_ID</th>\n",
       "      <th>Cuisine</th>\n",
       "      <th>AvgCost4two</th>\n",
       "      <th>Price_Range</th>\n",
       "      <th>Currency</th>\n",
       "      <th>highlights</th>\n",
       "      <th>Opentable_Support</th>\n",
       "      <th>Zomato_Book</th>\n",
       "      <th>Web_Book</th>\n",
       "      <th>Booking_URL</th>\n",
       "      <th>Rating</th>\n",
       "      <th>RatingText</th>\n",
       "      <th>RatingColor</th>\n",
       "      <th>Votes</th>\n",
       "      <th>review_count</th>\n",
       "      <th>All_Reviews</th>\n",
       "      <th>Photos_URL</th>\n",
       "      <th>Photos_Count</th>\n",
       "      <th>Menu_URL</th>\n",
       "      <th>Online_Order</th>\n",
       "      <th>store_Type</th>\n",
       "      <th>Table_Reservation</th>\n",
       "      <th>Book_Table</th>\n",
       "      <th>Events_URL</th>\n",
       "      <th>Phone#</th>\n",
       "      <th>Establishment</th>\n",
       "    </tr>\n",
       "  </thead>\n",
       "  <tbody>\n",
       "  </tbody>\n",
       "</table>\n",
       "</div>"
      ],
      "text/plain": [
       "Empty DataFrame\n",
       "Columns: [id, name, url, featured_image, Location, City, City_ID, Latitude, Longitude, Zip_Code, Country_ID, Cuisine, AvgCost4two, Price_Range, Currency, highlights, Opentable_Support, Zomato_Book, Web_Book, Booking_URL, Rating, RatingText, RatingColor, Votes, review_count, All_Reviews, Photos_URL, Photos_Count, Menu_URL, Online_Order, store_Type, Table_Reservation, Book_Table, Events_URL, Phone#, Establishment]\n",
       "Index: []"
      ]
     },
     "execution_count": 235,
     "metadata": {},
     "output_type": "execute_result"
    }
   ],
   "source": [
    "rest"
   ]
  },
  {
   "cell_type": "code",
   "execution_count": 236,
   "metadata": {},
   "outputs": [],
   "source": [
    "for i in range(len(x)):\n",
    "    \n",
    "    df_length = len(rest)\n",
    "    rest.loc[df_length] = x[i]"
   ]
  },
  {
   "cell_type": "code",
   "execution_count": 237,
   "metadata": {},
   "outputs": [
    {
     "data": {
      "text/html": [
       "<div>\n",
       "<style scoped>\n",
       "    .dataframe tbody tr th:only-of-type {\n",
       "        vertical-align: middle;\n",
       "    }\n",
       "\n",
       "    .dataframe tbody tr th {\n",
       "        vertical-align: top;\n",
       "    }\n",
       "\n",
       "    .dataframe thead th {\n",
       "        text-align: right;\n",
       "    }\n",
       "</style>\n",
       "<table border=\"1\" class=\"dataframe\">\n",
       "  <thead>\n",
       "    <tr style=\"text-align: right;\">\n",
       "      <th></th>\n",
       "      <th>id</th>\n",
       "      <th>name</th>\n",
       "      <th>url</th>\n",
       "      <th>featured_image</th>\n",
       "      <th>Location</th>\n",
       "      <th>City</th>\n",
       "      <th>City_ID</th>\n",
       "      <th>Latitude</th>\n",
       "      <th>Longitude</th>\n",
       "      <th>Zip_Code</th>\n",
       "      <th>Country_ID</th>\n",
       "      <th>Cuisine</th>\n",
       "      <th>AvgCost4two</th>\n",
       "      <th>Price_Range</th>\n",
       "      <th>Currency</th>\n",
       "      <th>highlights</th>\n",
       "      <th>Opentable_Support</th>\n",
       "      <th>Zomato_Book</th>\n",
       "      <th>Web_Book</th>\n",
       "      <th>Booking_URL</th>\n",
       "      <th>Rating</th>\n",
       "      <th>RatingText</th>\n",
       "      <th>RatingColor</th>\n",
       "      <th>Votes</th>\n",
       "      <th>review_count</th>\n",
       "      <th>All_Reviews</th>\n",
       "      <th>Photos_URL</th>\n",
       "      <th>Photos_Count</th>\n",
       "      <th>Menu_URL</th>\n",
       "      <th>Online_Order</th>\n",
       "      <th>store_Type</th>\n",
       "      <th>Table_Reservation</th>\n",
       "      <th>Book_Table</th>\n",
       "      <th>Events_URL</th>\n",
       "      <th>Phone#</th>\n",
       "      <th>Establishment</th>\n",
       "    </tr>\n",
       "  </thead>\n",
       "  <tbody>\n",
       "    <tr>\n",
       "      <th>0</th>\n",
       "      <td>16608152</td>\n",
       "      <td>Osteria Sanso</td>\n",
       "      <td>https://www.zomato.com/kanmantoo-sa/osteria-sa...</td>\n",
       "      <td></td>\n",
       "      <td>Kanmantoo</td>\n",
       "      <td>Kanmantoo</td>\n",
       "      <td>1807</td>\n",
       "      <td>-35.0717830000</td>\n",
       "      <td>139.0146570000</td>\n",
       "      <td>5252</td>\n",
       "      <td>14</td>\n",
       "      <td>Italian</td>\n",
       "      <td>20</td>\n",
       "      <td>2</td>\n",
       "      <td>$</td>\n",
       "      <td>[Dinner, Lunch, Outdoor Seating, Table booking...</td>\n",
       "      <td>No</td>\n",
       "      <td>No</td>\n",
       "      <td>No</td>\n",
       "      <td></td>\n",
       "      <td>3.9</td>\n",
       "      <td>Good</td>\n",
       "      <td>9ACD32</td>\n",
       "      <td>36</td>\n",
       "      <td>24</td>\n",
       "      <td>[]</td>\n",
       "      <td>https://www.zomato.com/kanmantoo-sa/osteria-sa...</td>\n",
       "      <td>8</td>\n",
       "      <td>https://www.zomato.com/kanmantoo-sa/osteria-sa...</td>\n",
       "      <td>No</td>\n",
       "      <td></td>\n",
       "      <td>No</td>\n",
       "      <td>No</td>\n",
       "      <td>https://www.zomato.com/kanmantoo-sa/osteria-sa...</td>\n",
       "      <td>(08) 8538 5008</td>\n",
       "      <td></td>\n",
       "    </tr>\n",
       "  </tbody>\n",
       "</table>\n",
       "</div>"
      ],
      "text/plain": [
       "         id           name                                                url  \\\n",
       "0  16608152  Osteria Sanso  https://www.zomato.com/kanmantoo-sa/osteria-sa...   \n",
       "\n",
       "  featured_image   Location       City City_ID        Latitude  \\\n",
       "0                 Kanmantoo  Kanmantoo    1807  -35.0717830000   \n",
       "\n",
       "        Longitude Zip_Code Country_ID  Cuisine AvgCost4two Price_Range  \\\n",
       "0  139.0146570000     5252         14  Italian          20           2   \n",
       "\n",
       "  Currency                                         highlights  \\\n",
       "0        $  [Dinner, Lunch, Outdoor Seating, Table booking...   \n",
       "\n",
       "  Opentable_Support Zomato_Book Web_Book Booking_URL Rating RatingText  \\\n",
       "0                No          No       No                3.9       Good   \n",
       "\n",
       "  RatingColor Votes review_count All_Reviews  \\\n",
       "0      9ACD32    36           24          []   \n",
       "\n",
       "                                          Photos_URL Photos_Count  \\\n",
       "0  https://www.zomato.com/kanmantoo-sa/osteria-sa...            8   \n",
       "\n",
       "                                            Menu_URL Online_Order store_Type  \\\n",
       "0  https://www.zomato.com/kanmantoo-sa/osteria-sa...           No              \n",
       "\n",
       "  Table_Reservation Book_Table  \\\n",
       "0                No         No   \n",
       "\n",
       "                                          Events_URL          Phone#  \\\n",
       "0  https://www.zomato.com/kanmantoo-sa/osteria-sa...  (08) 8538 5008   \n",
       "\n",
       "  Establishment  \n",
       "0                "
      ]
     },
     "execution_count": 237,
     "metadata": {},
     "output_type": "execute_result"
    }
   ],
   "source": [
    "pd.set_option('display.max_columns', None)\n",
    "rest"
   ]
  },
  {
   "cell_type": "code",
   "execution_count": null,
   "metadata": {},
   "outputs": [],
   "source": []
  },
  {
   "cell_type": "code",
   "execution_count": null,
   "metadata": {},
   "outputs": [],
   "source": []
  },
  {
   "cell_type": "code",
   "execution_count": 255,
   "metadata": {},
   "outputs": [],
   "source": [
    "#Rough"
   ]
  },
  {
   "cell_type": "code",
   "execution_count": 248,
   "metadata": {},
   "outputs": [],
   "source": [
    "base_url = 'https://developers.zomato.com/api/v2.1/'"
   ]
  },
  {
   "cell_type": "code",
   "execution_count": 249,
   "metadata": {},
   "outputs": [],
   "source": [
    "headers = {'Accept': 'application/json', 'user-key': 'f2959c46182bb06044370b8757ba455a'}\n",
    "city_ID = '1807'\n",
    "r = (requests.get(base_url + \"cities?city_ids=\" + str(city_ID), headers=headers).content).decode(\"utf-8\")"
   ]
  },
  {
   "cell_type": "code",
   "execution_count": 250,
   "metadata": {},
   "outputs": [
    {
     "data": {
      "text/plain": [
       "'{\"location_suggestions\":[{\"id\":1807,\"name\":\"Kanmantoo, SA\",\"country_id\":14,\"country_name\":\"Australia\",\"country_flag_url\":\"https:\\\\/\\\\/b.zmtcdn.com\\\\/images\\\\/countries\\\\/flags\\\\/country_14.png\",\"should_experiment_with\":0,\"has_go_out_tab\":0,\"discovery_enabled\":0,\"has_new_ad_format\":0,\"is_state\":0,\"state_id\":131,\"state_name\":\"South Australia\",\"state_code\":\"SA\"}],\"status\":\"success\",\"has_more\":0,\"has_total\":0,\"user_has_addresses\":true}'"
      ]
     },
     "execution_count": 250,
     "metadata": {},
     "output_type": "execute_result"
    }
   ],
   "source": [
    "r"
   ]
  },
  {
   "cell_type": "code",
   "execution_count": 258,
   "metadata": {},
   "outputs": [],
   "source": [
    "r = (requests.get(base_url + \"categories\", headers=headers).content).decode(\"utf-8\")"
   ]
  },
  {
   "cell_type": "code",
   "execution_count": 259,
   "metadata": {},
   "outputs": [
    {
     "data": {
      "text/plain": [
       "'{\"categories\":[{\"categories\":{\"id\":1,\"name\":\"Delivery\"}},{\"categories\":{\"id\":2,\"name\":\"Dine-out\"}},{\"categories\":{\"id\":3,\"name\":\"Nightlife\"}},{\"categories\":{\"id\":4,\"name\":\"Catching-up\"}},{\"categories\":{\"id\":5,\"name\":\"Takeaway\"}},{\"categories\":{\"id\":6,\"name\":\"Cafes\"}},{\"categories\":{\"id\":7,\"name\":\"Daily Menus\"}},{\"categories\":{\"id\":8,\"name\":\"Breakfast\"}},{\"categories\":{\"id\":9,\"name\":\"Lunch\"}},{\"categories\":{\"id\":10,\"name\":\"Dinner\"}},{\"categories\":{\"id\":11,\"name\":\"Pubs & Bars\"}},{\"categories\":{\"id\":13,\"name\":\"Pocket Friendly Delivery\"}},{\"categories\":{\"id\":14,\"name\":\"Clubs & Lounges\"}}]}'"
      ]
     },
     "execution_count": 259,
     "metadata": {},
     "output_type": "execute_result"
    }
   ],
   "source": [
    "r"
   ]
  },
  {
   "cell_type": "code",
   "execution_count": null,
   "metadata": {},
   "outputs": [],
   "source": []
  }
 ],
 "metadata": {
  "kernelspec": {
   "display_name": "Python 3",
   "language": "python",
   "name": "python3"
  },
  "language_info": {
   "codemirror_mode": {
    "name": "ipython",
    "version": 3
   },
   "file_extension": ".py",
   "mimetype": "text/x-python",
   "name": "python",
   "nbconvert_exporter": "python",
   "pygments_lexer": "ipython3",
   "version": "3.6.7"
  }
 },
 "nbformat": 4,
 "nbformat_minor": 2
}
