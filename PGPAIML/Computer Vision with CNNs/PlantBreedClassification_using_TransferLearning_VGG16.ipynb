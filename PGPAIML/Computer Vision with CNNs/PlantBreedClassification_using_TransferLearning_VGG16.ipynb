{
 "cells": [
  {
   "cell_type": "markdown",
   "metadata": {},
   "source": [
    "**Kaggle Competition**\n",
    "\n",
    "https://www.kaggle.com/c/plant-seedlings-classification"
   ]
  },
  {
   "cell_type": "code",
   "execution_count": null,
   "metadata": {
    "colab": {},
    "colab_type": "code",
    "id": "YaBr-erZncce"
   },
   "outputs": [],
   "source": [
    "from google.colab import drive"
   ]
  },
  {
   "cell_type": "code",
   "execution_count": null,
   "metadata": {
    "colab": {
     "base_uri": "https://localhost:8080/",
     "height": 34
    },
    "colab_type": "code",
    "id": "gF5meo6Pnd-y",
    "outputId": "954afe7f-5949-4a38-8460-a7a0ff844e34"
   },
   "outputs": [
    {
     "name": "stdout",
     "output_type": "stream",
     "text": [
      "Drive already mounted at /content/drive/; to attempt to forcibly remount, call drive.mount(\"/content/drive/\", force_remount=True).\n"
     ]
    }
   ],
   "source": [
    "drive.mount('/content/drive/')"
   ]
  },
  {
   "cell_type": "code",
   "execution_count": null,
   "metadata": {
    "colab": {},
    "colab_type": "code",
    "id": "ivJgjcGSnf-C"
   },
   "outputs": [],
   "source": [
    "import os\n",
    "os.chdir('/content/drive/My Drive/')"
   ]
  },
  {
   "cell_type": "code",
   "execution_count": null,
   "metadata": {
    "colab": {},
    "colab_type": "code",
    "id": "ns_Srgn5vLp9"
   },
   "outputs": [],
   "source": [
    "from zipfile import ZipFile"
   ]
  },
  {
   "cell_type": "code",
   "execution_count": null,
   "metadata": {
    "colab": {},
    "colab_type": "code",
    "id": "7bGtLS82vMA2"
   },
   "outputs": [],
   "source": [
    "with ZipFile('/content/drive/My Drive/test.zip', 'r') as z:\n",
    "  z.extractall()"
   ]
  },
  {
   "cell_type": "code",
   "execution_count": null,
   "metadata": {
    "colab": {},
    "colab_type": "code",
    "id": "1wSBIOxavMDM"
   },
   "outputs": [],
   "source": [
    "with ZipFile('/content/drive/My Drive/train.zip', 'r') as z:\n",
    "  z.extractall()"
   ]
  },
  {
   "cell_type": "code",
   "execution_count": null,
   "metadata": {
    "colab": {},
    "colab_type": "code",
    "id": "QsPoSsZ3nn2B"
   },
   "outputs": [],
   "source": [
    "x_test=[]\n",
    "os.chdir('/content/drive/My Drive/test')\n",
    "import cv2\n",
    "for i in os.listdir():\n",
    "    dummy = cv2.imread(i)\n",
    "    dummy = cv2.resize(dummy,(128,128))\n",
    "    x_test.append(dummy)"
   ]
  },
  {
   "cell_type": "code",
   "execution_count": null,
   "metadata": {
    "colab": {},
    "colab_type": "code",
    "id": "bNHegsjZnxWQ"
   },
   "outputs": [],
   "source": [
    "x_train = []\n",
    "y_train = []"
   ]
  },
  {
   "cell_type": "code",
   "execution_count": null,
   "metadata": {
    "colab": {},
    "colab_type": "code",
    "id": "zrEWFArOqFXs"
   },
   "outputs": [],
   "source": [
    "os.chdir('/content/drive/My Drive/train')"
   ]
  },
  {
   "cell_type": "code",
   "execution_count": null,
   "metadata": {
    "colab": {
     "base_uri": "https://localhost:8080/",
     "height": 221
    },
    "colab_type": "code",
    "id": "PfhxmZSxqNeg",
    "outputId": "91452aa1-4f06-4338-ffe5-8f7e9e7c9a2a"
   },
   "outputs": [
    {
     "data": {
      "text/plain": [
       "['Fat Hen',\n",
       " 'Small-flowered Cranesbill',\n",
       " 'Cleavers',\n",
       " 'Black-grass',\n",
       " 'Sugar beet',\n",
       " 'Shepherds Purse',\n",
       " 'Charlock',\n",
       " 'Loose Silky-bent',\n",
       " 'Scentless Mayweed',\n",
       " 'Maize',\n",
       " 'Common Chickweed',\n",
       " 'Common wheat']"
      ]
     },
     "execution_count": 33,
     "metadata": {
      "tags": []
     },
     "output_type": "execute_result"
    }
   ],
   "source": [
    "os.listdir()"
   ]
  },
  {
   "cell_type": "code",
   "execution_count": null,
   "metadata": {
    "colab": {
     "base_uri": "https://localhost:8080/",
     "height": 221
    },
    "colab_type": "code",
    "id": "8BYcVPZUqOMi",
    "outputId": "1b858d7a-9b3a-4819-a0d1-ed8ee1c7feb5"
   },
   "outputs": [
    {
     "name": "stdout",
     "output_type": "stream",
     "text": [
      "Fat Hen\n",
      "Small-flowered Cranesbill\n",
      "Cleavers\n",
      "Black-grass\n",
      "Sugar beet\n",
      "Shepherds Purse\n",
      "Charlock\n",
      "Loose Silky-bent\n",
      "Scentless Mayweed\n",
      "Maize\n",
      "Common Chickweed\n",
      "Common wheat\n"
     ]
    }
   ],
   "source": [
    "x_train = []\n",
    "y_train = []\n",
    "import cv2\n",
    "for i in os.listdir():\n",
    "    print(i)\n",
    "    if (os.path.isdir(i)):\n",
    "            for j in os.listdir(i):\n",
    "                try:\n",
    "                    dummy = cv2.imread('/content/drive/My Drive/train/' + i + \"/\" + j)\n",
    "                    dummy = cv2.resize(dummy,(128,128))\n",
    "                    x_train.append(dummy)\n",
    "                    y_train.append(i)\n",
    "                except Exception as e:\n",
    "                    print(e)\n"
   ]
  },
  {
   "cell_type": "code",
   "execution_count": null,
   "metadata": {
    "colab": {
     "base_uri": "https://localhost:8080/",
     "height": 34
    },
    "colab_type": "code",
    "id": "KVTWzHBLvLkR",
    "outputId": "9e9e38c7-03f7-4756-e151-bfc47e51e08a"
   },
   "outputs": [
    {
     "data": {
      "text/plain": [
       "(128, 128, 3)"
      ]
     },
     "execution_count": 35,
     "metadata": {
      "tags": []
     },
     "output_type": "execute_result"
    }
   ],
   "source": [
    "x_train[0].shape"
   ]
  },
  {
   "cell_type": "code",
   "execution_count": null,
   "metadata": {
    "colab": {},
    "colab_type": "code",
    "id": "jX9jD090uIxX"
   },
   "outputs": [],
   "source": [
    "import pandas as pd\n",
    "dum = pd.get_dummies(y_train)"
   ]
  },
  {
   "cell_type": "code",
   "execution_count": null,
   "metadata": {
    "colab": {},
    "colab_type": "code",
    "id": "2LniWcretNjt"
   },
   "outputs": [],
   "source": [
    "encoded_labels = dum\n",
    "y_train = dum"
   ]
  },
  {
   "cell_type": "code",
   "execution_count": null,
   "metadata": {
    "colab": {},
    "colab_type": "code",
    "id": "yW1MRzNzscJD"
   },
   "outputs": [],
   "source": [
    "import numpy as np\n",
    "y_train = np.array(y_train)"
   ]
  },
  {
   "cell_type": "code",
   "execution_count": null,
   "metadata": {
    "colab": {},
    "colab_type": "code",
    "id": "i_4kF4C9qV73"
   },
   "outputs": [],
   "source": [
    "x_train = np.array(x_train)"
   ]
  },
  {
   "cell_type": "code",
   "execution_count": null,
   "metadata": {
    "colab": {
     "base_uri": "https://localhost:8080/",
     "height": 34
    },
    "colab_type": "code",
    "id": "69ZkfU51usBT",
    "outputId": "c3d7050f-46d4-46cb-ac56-afadc73523f7"
   },
   "outputs": [
    {
     "data": {
      "text/plain": [
       "(128, 128, 3)"
      ]
     },
     "execution_count": 40,
     "metadata": {
      "tags": []
     },
     "output_type": "execute_result"
    }
   ],
   "source": [
    "x_train[0].shape"
   ]
  },
  {
   "cell_type": "code",
   "execution_count": null,
   "metadata": {
    "colab": {
     "base_uri": "https://localhost:8080/",
     "height": 51
    },
    "colab_type": "code",
    "id": "VzBQIPBAuQwN",
    "outputId": "2fc203ae-6bfd-49d6-864c-2f30c6b66e63"
   },
   "outputs": [
    {
     "name": "stdout",
     "output_type": "stream",
     "text": [
      "3800\n",
      "950\n"
     ]
    }
   ],
   "source": [
    "from sklearn.model_selection import train_test_split\n",
    "x_train2, x_val, y_train2, y_val = train_test_split(x_train, y_train, test_size=0.2, random_state=2)\n",
    "print (len(x_train2))\n",
    "print (len(x_val))"
   ]
  },
  {
   "cell_type": "code",
   "execution_count": null,
   "metadata": {
    "colab": {
     "base_uri": "https://localhost:8080/",
     "height": 34
    },
    "colab_type": "code",
    "id": "zOXrhr_huSPR",
    "outputId": "4cf94e77-388b-440c-e92c-a4219baa8ce7"
   },
   "outputs": [
    {
     "data": {
      "text/plain": [
       "(128, 128, 3)"
      ]
     },
     "execution_count": 67,
     "metadata": {
      "tags": []
     },
     "output_type": "execute_result"
    }
   ],
   "source": [
    "x_train2[0].shape"
   ]
  },
  {
   "cell_type": "code",
   "execution_count": null,
   "metadata": {
    "colab": {},
    "colab_type": "code",
    "id": "dMocdt9JuVOJ"
   },
   "outputs": [],
   "source": [
    "x_train2 = x_train2.reshape(x_train2.shape[0],128,128,3)"
   ]
  },
  {
   "cell_type": "code",
   "execution_count": null,
   "metadata": {
    "colab": {},
    "colab_type": "code",
    "id": "k1KiJod-uWkR"
   },
   "outputs": [],
   "source": [
    "x_val = x_val.reshape(x_val.shape[0],128,128,3)"
   ]
  },
  {
   "cell_type": "code",
   "execution_count": null,
   "metadata": {
    "colab": {},
    "colab_type": "code",
    "id": "RGjH72OuCfeY"
   },
   "outputs": [],
   "source": [
    "x_train2 = x_train2/255.\n",
    "\n",
    "x_val = x_val/255."
   ]
  },
  {
   "cell_type": "code",
   "execution_count": null,
   "metadata": {
    "colab": {
     "base_uri": "https://localhost:8080/",
     "height": 51
    },
    "colab_type": "code",
    "id": "TyWC85VZvS5_",
    "outputId": "059a14ab-a2c1-4c5d-9c90-49ae24f716de"
   },
   "outputs": [
    {
     "name": "stdout",
     "output_type": "stream",
     "text": [
      "(3800, 128, 128, 3)\n",
      "(950, 128, 128, 3)\n"
     ]
    }
   ],
   "source": [
    "print (x_train2.shape)\n",
    "print (x_val.shape)"
   ]
  },
  {
   "cell_type": "code",
   "execution_count": null,
   "metadata": {
    "colab": {
     "base_uri": "https://localhost:8080/",
     "height": 51
    },
    "colab_type": "code",
    "id": "DKgWlwHSvUc2",
    "outputId": "0783593a-e0b0-4690-8a58-373078213bd4"
   },
   "outputs": [
    {
     "name": "stdout",
     "output_type": "stream",
     "text": [
      "(3800, 12)\n",
      "(950, 12)\n"
     ]
    }
   ],
   "source": [
    "print(y_train2.shape)\n",
    "print(y_val.shape)"
   ]
  },
  {
   "cell_type": "code",
   "execution_count": null,
   "metadata": {
    "colab": {},
    "colab_type": "code",
    "id": "6CrrjsBoFwxZ"
   },
   "outputs": [],
   "source": [
    "from keras import applications\n",
    "from keras.models import Sequential, Model \n",
    "from keras.layers import Dropout, Flatten, Dense\n",
    "from keras import backend as k \n",
    "from keras.callbacks import ModelCheckpoint, EarlyStopping"
   ]
  },
  {
   "cell_type": "code",
   "execution_count": null,
   "metadata": {
    "colab": {},
    "colab_type": "code",
    "id": "BIB_XcqbFw0F"
   },
   "outputs": [],
   "source": [
    "model = applications.VGG19(weights = \"imagenet\", include_top=False, input_shape = (128, 128, 3))"
   ]
  },
  {
   "cell_type": "code",
   "execution_count": null,
   "metadata": {
    "colab": {
     "base_uri": "https://localhost:8080/",
     "height": 71
    },
    "colab_type": "code",
    "id": "JSYa2I84Fw2v",
    "outputId": "a4c495eb-b3b2-48bc-97e2-8d06551cdc54"
   },
   "outputs": [
    {
     "name": "stderr",
     "output_type": "stream",
     "text": [
      "/usr/local/lib/python3.6/dist-packages/ipykernel_launcher.py:14: UserWarning: Update your `Model` call to the Keras 2 API: `Model(inputs=Tensor(\"in..., outputs=Tensor(\"de...)`\n",
      "  \n"
     ]
    }
   ],
   "source": [
    "# Freeze the layers which you don't want to train. In this we are freezing the first 5 layers.\n",
    "for layer in model.layers[:5]:\n",
    "    layer.trainable = False\n",
    "\n",
    "#Adding custom Layers \n",
    "x = model.output\n",
    "x = Flatten()(x)\n",
    "x = Dense(1024, activation=\"relu\")(x)\n",
    "x = Dropout(0.5)(x)\n",
    "x = Dense(64, activation=\"relu\")(x)\n",
    "x = Dense(32, activation=\"relu\")(x)\n",
    "predictions = Dense(12, activation=\"softmax\")(x)\n",
    "\n",
    "# creating the final model \n",
    "model_final = Model(input = model.input, output = predictions)\n",
    "\n",
    "# compile the model \n",
    "model_final.compile(loss = \"categorical_crossentropy\", optimizer = optimizers.SGD(lr=0.001), metrics=[\"accuracy\"])\n"
   ]
  },
  {
   "cell_type": "code",
   "execution_count": null,
   "metadata": {
    "colab": {
     "base_uri": "https://localhost:8080/",
     "height": 1360
    },
    "colab_type": "code",
    "id": "k50K_p9xFw8l",
    "outputId": "fbc31b1d-d0fe-4085-b480-1e7360257499"
   },
   "outputs": [
    {
     "name": "stdout",
     "output_type": "stream",
     "text": [
      "Train on 3800 samples, validate on 950 samples\n",
      "Epoch 1/20\n",
      "3800/3800 [==============================] - 40s 11ms/step - loss: 2.3824 - acc: 0.1603 - val_loss: 2.1161 - val_acc: 0.2895\n",
      "\n",
      "Epoch 00001: val_acc improved from -inf to 0.28947, saving model to vgg16_best.h5\n",
      "Epoch 2/20\n",
      "3800/3800 [==============================] - 38s 10ms/step - loss: 1.7014 - acc: 0.4161 - val_loss: 1.3077 - val_acc: 0.5211\n",
      "\n",
      "Epoch 00002: val_acc improved from 0.28947 to 0.52105, saving model to vgg16_best.h5\n",
      "Epoch 3/20\n",
      "3800/3800 [==============================] - 38s 10ms/step - loss: 1.0564 - acc: 0.6226 - val_loss: 1.0295 - val_acc: 0.6400\n",
      "\n",
      "Epoch 00003: val_acc improved from 0.52105 to 0.64000, saving model to vgg16_best.h5\n",
      "Epoch 4/20\n",
      "3800/3800 [==============================] - 38s 10ms/step - loss: 0.7512 - acc: 0.7432 - val_loss: 0.8915 - val_acc: 0.6653\n",
      "\n",
      "Epoch 00004: val_acc improved from 0.64000 to 0.66526, saving model to vgg16_best.h5\n",
      "Epoch 5/20\n",
      "3800/3800 [==============================] - 38s 10ms/step - loss: 0.5947 - acc: 0.7876 - val_loss: 0.4762 - val_acc: 0.8421\n",
      "\n",
      "Epoch 00005: val_acc improved from 0.66526 to 0.84211, saving model to vgg16_best.h5\n",
      "Epoch 6/20\n",
      "3800/3800 [==============================] - 38s 10ms/step - loss: 0.4605 - acc: 0.8408 - val_loss: 0.5872 - val_acc: 0.7926\n",
      "\n",
      "Epoch 00006: val_acc did not improve from 0.84211\n",
      "Epoch 7/20\n",
      "3800/3800 [==============================] - 38s 10ms/step - loss: 0.3701 - acc: 0.8671 - val_loss: 0.4772 - val_acc: 0.8379\n",
      "\n",
      "Epoch 00007: val_acc did not improve from 0.84211\n",
      "Epoch 8/20\n",
      "3800/3800 [==============================] - 38s 10ms/step - loss: 0.3208 - acc: 0.8887 - val_loss: 0.3307 - val_acc: 0.8905\n",
      "\n",
      "Epoch 00008: val_acc improved from 0.84211 to 0.89053, saving model to vgg16_best.h5\n",
      "Epoch 9/20\n",
      "3800/3800 [==============================] - 38s 10ms/step - loss: 0.2887 - acc: 0.9026 - val_loss: 0.3090 - val_acc: 0.9011\n",
      "\n",
      "Epoch 00009: val_acc improved from 0.89053 to 0.90105, saving model to vgg16_best.h5\n",
      "Epoch 10/20\n",
      "3800/3800 [==============================] - 38s 10ms/step - loss: 0.2296 - acc: 0.9142 - val_loss: 0.5099 - val_acc: 0.8326\n",
      "\n",
      "Epoch 00010: val_acc did not improve from 0.90105\n",
      "Epoch 11/20\n",
      "3800/3800 [==============================] - 38s 10ms/step - loss: 0.2124 - acc: 0.9255 - val_loss: 0.3219 - val_acc: 0.8937\n",
      "\n",
      "Epoch 00011: val_acc did not improve from 0.90105\n",
      "Epoch 12/20\n",
      "3800/3800 [==============================] - 38s 10ms/step - loss: 0.1513 - acc: 0.9492 - val_loss: 0.3461 - val_acc: 0.8874\n",
      "\n",
      "Epoch 00012: val_acc did not improve from 0.90105\n",
      "Epoch 13/20\n",
      "3800/3800 [==============================] - 38s 10ms/step - loss: 0.1260 - acc: 0.9574 - val_loss: 0.3202 - val_acc: 0.8884\n",
      "\n",
      "Epoch 00013: val_acc did not improve from 0.90105\n",
      "Epoch 14/20\n",
      "3800/3800 [==============================] - 38s 10ms/step - loss: 0.2277 - acc: 0.9232 - val_loss: 0.3050 - val_acc: 0.9095\n",
      "\n",
      "Epoch 00014: val_acc improved from 0.90105 to 0.90947, saving model to vgg16_best.h5\n",
      "Epoch 15/20\n",
      "3800/3800 [==============================] - 38s 10ms/step - loss: 0.1120 - acc: 0.9629 - val_loss: 0.3494 - val_acc: 0.9095\n",
      "\n",
      "Epoch 00015: val_acc did not improve from 0.90947\n",
      "Epoch 16/20\n",
      "3800/3800 [==============================] - 38s 10ms/step - loss: 0.1236 - acc: 0.9574 - val_loss: 0.3301 - val_acc: 0.9095\n",
      "\n",
      "Epoch 00016: val_acc did not improve from 0.90947\n",
      "Epoch 17/20\n",
      "3800/3800 [==============================] - 38s 10ms/step - loss: 0.0851 - acc: 0.9739 - val_loss: 0.3064 - val_acc: 0.9095\n",
      "\n",
      "Epoch 00017: val_acc did not improve from 0.90947\n",
      "Epoch 18/20\n",
      "3800/3800 [==============================] - 38s 10ms/step - loss: 0.0765 - acc: 0.9747 - val_loss: 0.3194 - val_acc: 0.9063\n",
      "\n",
      "Epoch 00018: val_acc did not improve from 0.90947\n",
      "Epoch 19/20\n",
      "3800/3800 [==============================] - 38s 10ms/step - loss: 0.0669 - acc: 0.9779 - val_loss: 0.3456 - val_acc: 0.9095\n",
      "\n",
      "Epoch 00019: val_acc did not improve from 0.90947\n",
      "Epoch 00019: early stopping\n"
     ]
    },
    {
     "data": {
      "text/plain": [
       "<keras.callbacks.History at 0x7fe60c7be0f0>"
      ]
     },
     "execution_count": 83,
     "metadata": {
      "tags": []
     },
     "output_type": "execute_result"
    }
   ],
   "source": [
    "# Save the model \n",
    "checkpoint = ModelCheckpoint(\"vgg16_best.h5\", monitor='val_acc', verbose=1, save_best_only=True, mode='auto')\n",
    "early = EarlyStopping(monitor='val_acc', min_delta=0, patience=5, verbose=1, mode='auto')\n",
    "\n",
    "epochs=20\n",
    "# Train the model \n",
    "model_final.fit(x_train2, y_train2, epochs = epochs, validation_data=(x_val, y_val), callbacks = [checkpoint, early])"
   ]
  },
  {
   "cell_type": "code",
   "execution_count": null,
   "metadata": {
    "colab": {},
    "colab_type": "code",
    "id": "JJOvuIiYINkg"
   },
   "outputs": [],
   "source": []
  }
 ],
 "metadata": {
  "accelerator": "GPU",
  "colab": {
   "collapsed_sections": [],
   "name": "PlantBreedClassification_using_TransferLearning_VGG16.ipynb",
   "provenance": [],
   "version": "0.3.2"
  },
  "kernelspec": {
   "display_name": "Python 3",
   "language": "python",
   "name": "python3"
  },
  "language_info": {
   "codemirror_mode": {
    "name": "ipython",
    "version": 3
   },
   "file_extension": ".py",
   "mimetype": "text/x-python",
   "name": "python",
   "nbconvert_exporter": "python",
   "pygments_lexer": "ipython3",
   "version": "3.6.7"
  }
 },
 "nbformat": 4,
 "nbformat_minor": 2
}
