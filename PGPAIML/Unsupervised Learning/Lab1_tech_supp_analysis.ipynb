{
 "cells": [
  {
   "cell_type": "markdown",
   "metadata": {},
   "source": [
    " #  <p style=\"text-align: center;\">Technical Support Data Analysis"
   ]
  },
  {
   "cell_type": "markdown",
   "metadata": {},
   "source": [
    "Technical support data can often be a rich source of information on opportunities for improving customer experience. The lesser the trouble customers have with the product the better. Even better when the customers are able to overcome\n",
    "technical challenge quickly with minimal effort. Let us analyze the tech support data and do some basic analysis on problem types, time to resolve the problem and channel of suppor that is most suitable"
   ]
  },
  {
   "cell_type": "markdown",
   "metadata": {},
   "source": [
    "## Loading the Dataset"
   ]
  },
  {
   "cell_type": "code",
   "execution_count": 1,
   "metadata": {},
   "outputs": [],
   "source": [
    "import pandas as pd\n",
    "import numpy as np\n",
    "from sklearn.model_selection  import train_test_split\n",
    "from sklearn.cluster import KMeans"
   ]
  },
  {
   "cell_type": "code",
   "execution_count": 2,
   "metadata": {},
   "outputs": [],
   "source": [
    "import matplotlib.pylab as plt\n",
    "%matplotlib inline"
   ]
  },
  {
   "cell_type": "code",
   "execution_count": 3,
   "metadata": {},
   "outputs": [],
   "source": [
    "tech_supp_df = pd.read_csv(\"technical_support_data.xls\")"
   ]
  },
  {
   "cell_type": "code",
   "execution_count": 33,
   "metadata": {},
   "outputs": [
    {
     "name": "stdout",
     "output_type": "stream",
     "text": [
      "<class 'pandas.core.frame.DataFrame'>\n",
      "RangeIndex: 23 entries, 0 to 22\n",
      "Data columns (total 8 columns):\n",
      "PROBLEM_TYPE             23 non-null object\n",
      "no_of_cases              23 non-null int64\n",
      "Avg_pending_calls        23 non-null float64\n",
      "Avg_resol_time           23 non-null int64\n",
      "recurrence_freq          23 non-null float64\n",
      "Replace_percent          23 non-null float64\n",
      "In_warranty_percent      23 non-null int64\n",
      "Post_warranty_percent    23 non-null int64\n",
      "dtypes: float64(3), int64(4), object(1)\n",
      "memory usage: 1.5+ KB\n"
     ]
    }
   ],
   "source": [
    "tech_supp_df.info()"
   ]
  },
  {
   "cell_type": "markdown",
   "metadata": {},
   "source": [
    "The dataset contains one record for each unique problem type. It has metrics for each type like count, average calls to resolve, average resolution time etc."
   ]
  },
  {
   "cell_type": "code",
   "execution_count": 34,
   "metadata": {},
   "outputs": [
    {
     "data": {
      "text/html": [
       "<div>\n",
       "<style scoped>\n",
       "    .dataframe tbody tr th:only-of-type {\n",
       "        vertical-align: middle;\n",
       "    }\n",
       "\n",
       "    .dataframe tbody tr th {\n",
       "        vertical-align: top;\n",
       "    }\n",
       "\n",
       "    .dataframe thead th {\n",
       "        text-align: right;\n",
       "    }\n",
       "</style>\n",
       "<table border=\"1\" class=\"dataframe\">\n",
       "  <thead>\n",
       "    <tr style=\"text-align: right;\">\n",
       "      <th></th>\n",
       "      <th>PROBLEM_TYPE</th>\n",
       "      <th>no_of_cases</th>\n",
       "      <th>Avg_pending_calls</th>\n",
       "      <th>Avg_resol_time</th>\n",
       "      <th>recurrence_freq</th>\n",
       "      <th>Replace_percent</th>\n",
       "      <th>In_warranty_percent</th>\n",
       "      <th>Post_warranty_percent</th>\n",
       "    </tr>\n",
       "  </thead>\n",
       "  <tbody>\n",
       "    <tr>\n",
       "      <th>0</th>\n",
       "      <td>Temperature control not working</td>\n",
       "      <td>170</td>\n",
       "      <td>1.3</td>\n",
       "      <td>32</td>\n",
       "      <td>0.04</td>\n",
       "      <td>0.0</td>\n",
       "      <td>75</td>\n",
       "      <td>25</td>\n",
       "    </tr>\n",
       "    <tr>\n",
       "      <th>1</th>\n",
       "      <td>power chord does not tightly fit</td>\n",
       "      <td>12</td>\n",
       "      <td>2.0</td>\n",
       "      <td>150</td>\n",
       "      <td>0.01</td>\n",
       "      <td>0.5</td>\n",
       "      <td>5</td>\n",
       "      <td>95</td>\n",
       "    </tr>\n",
       "    <tr>\n",
       "      <th>2</th>\n",
       "      <td>Fan swing not working</td>\n",
       "      <td>5</td>\n",
       "      <td>1.0</td>\n",
       "      <td>35</td>\n",
       "      <td>0.02</td>\n",
       "      <td>0.2</td>\n",
       "      <td>90</td>\n",
       "      <td>10</td>\n",
       "    </tr>\n",
       "    <tr>\n",
       "      <th>3</th>\n",
       "      <td>Main switch does not on</td>\n",
       "      <td>3</td>\n",
       "      <td>2.0</td>\n",
       "      <td>8</td>\n",
       "      <td>0.01</td>\n",
       "      <td>0.7</td>\n",
       "      <td>5</td>\n",
       "      <td>95</td>\n",
       "    </tr>\n",
       "    <tr>\n",
       "      <th>4</th>\n",
       "      <td>Forgot mobile app password</td>\n",
       "      <td>45</td>\n",
       "      <td>2.3</td>\n",
       "      <td>54</td>\n",
       "      <td>0.15</td>\n",
       "      <td>0.0</td>\n",
       "      <td>99</td>\n",
       "      <td>1</td>\n",
       "    </tr>\n",
       "  </tbody>\n",
       "</table>\n",
       "</div>"
      ],
      "text/plain": [
       "                       PROBLEM_TYPE  no_of_cases  Avg_pending_calls  \\\n",
       "0   Temperature control not working          170                1.3   \n",
       "1  power chord does not tightly fit           12                2.0   \n",
       "2             Fan swing not working            5                1.0   \n",
       "3           Main switch does not on            3                2.0   \n",
       "4        Forgot mobile app password           45                2.3   \n",
       "\n",
       "   Avg_resol_time  recurrence_freq  Replace_percent  In_warranty_percent  \\\n",
       "0              32             0.04              0.0                   75   \n",
       "1             150             0.01              0.5                    5   \n",
       "2              35             0.02              0.2                   90   \n",
       "3               8             0.01              0.7                    5   \n",
       "4              54             0.15              0.0                   99   \n",
       "\n",
       "   Post_warranty_percent  \n",
       "0                     25  \n",
       "1                     95  \n",
       "2                     10  \n",
       "3                     95  \n",
       "4                      1  "
      ]
     },
     "execution_count": 34,
     "metadata": {},
     "output_type": "execute_result"
    }
   ],
   "source": [
    "tech_supp_df.head()"
   ]
  },
  {
   "cell_type": "code",
   "execution_count": 35,
   "metadata": {},
   "outputs": [],
   "source": [
    "from scipy.stats import zscore"
   ]
  },
  {
   "cell_type": "code",
   "execution_count": 36,
   "metadata": {},
   "outputs": [],
   "source": [
    "numeric_cols = tech_supp_df.drop('PROBLEM_TYPE', axis=1)"
   ]
  },
  {
   "cell_type": "code",
   "execution_count": 37,
   "metadata": {},
   "outputs": [],
   "source": [
    "Prob_type  = tech_supp_df.pop(\"PROBLEM_TYPE\")"
   ]
  },
  {
   "cell_type": "code",
   "execution_count": 38,
   "metadata": {},
   "outputs": [],
   "source": [
    "numeric_cols = numeric_cols.apply(zscore)"
   ]
  },
  {
   "cell_type": "code",
   "execution_count": 39,
   "metadata": {},
   "outputs": [],
   "source": [
    "tech_supp_df = numeric_cols.join(Prob_type)"
   ]
  },
  {
   "cell_type": "code",
   "execution_count": 40,
   "metadata": {},
   "outputs": [
    {
     "data": {
      "text/html": [
       "<div>\n",
       "<style scoped>\n",
       "    .dataframe tbody tr th:only-of-type {\n",
       "        vertical-align: middle;\n",
       "    }\n",
       "\n",
       "    .dataframe tbody tr th {\n",
       "        vertical-align: top;\n",
       "    }\n",
       "\n",
       "    .dataframe thead th {\n",
       "        text-align: right;\n",
       "    }\n",
       "</style>\n",
       "<table border=\"1\" class=\"dataframe\">\n",
       "  <thead>\n",
       "    <tr style=\"text-align: right;\">\n",
       "      <th></th>\n",
       "      <th>no_of_cases</th>\n",
       "      <th>Avg_pending_calls</th>\n",
       "      <th>Avg_resol_time</th>\n",
       "      <th>recurrence_freq</th>\n",
       "      <th>Replace_percent</th>\n",
       "      <th>In_warranty_percent</th>\n",
       "      <th>Post_warranty_percent</th>\n",
       "      <th>PROBLEM_TYPE</th>\n",
       "    </tr>\n",
       "  </thead>\n",
       "  <tbody>\n",
       "    <tr>\n",
       "      <th>0</th>\n",
       "      <td>0.179429</td>\n",
       "      <td>-0.701207</td>\n",
       "      <td>-0.538351</td>\n",
       "      <td>-0.843188</td>\n",
       "      <td>-0.561463</td>\n",
       "      <td>0.138067</td>\n",
       "      <td>-0.138067</td>\n",
       "      <td>Temperature control not working</td>\n",
       "    </tr>\n",
       "    <tr>\n",
       "      <th>1</th>\n",
       "      <td>-0.862176</td>\n",
       "      <td>0.027143</td>\n",
       "      <td>1.510857</td>\n",
       "      <td>-1.101765</td>\n",
       "      <td>2.245854</td>\n",
       "      <td>-1.778204</td>\n",
       "      <td>1.778204</td>\n",
       "      <td>power chord does not tightly fit</td>\n",
       "    </tr>\n",
       "    <tr>\n",
       "      <th>2</th>\n",
       "      <td>-0.908323</td>\n",
       "      <td>-1.013357</td>\n",
       "      <td>-0.486253</td>\n",
       "      <td>-1.015573</td>\n",
       "      <td>0.561463</td>\n",
       "      <td>0.548696</td>\n",
       "      <td>-0.548696</td>\n",
       "      <td>Fan swing not working</td>\n",
       "    </tr>\n",
       "    <tr>\n",
       "      <th>3</th>\n",
       "      <td>-0.921508</td>\n",
       "      <td>0.027143</td>\n",
       "      <td>-0.955140</td>\n",
       "      <td>-1.101765</td>\n",
       "      <td>3.368781</td>\n",
       "      <td>-1.778204</td>\n",
       "      <td>1.778204</td>\n",
       "      <td>Main switch does not on</td>\n",
       "    </tr>\n",
       "    <tr>\n",
       "      <th>4</th>\n",
       "      <td>-0.644625</td>\n",
       "      <td>0.339294</td>\n",
       "      <td>-0.156296</td>\n",
       "      <td>0.104930</td>\n",
       "      <td>-0.561463</td>\n",
       "      <td>0.795074</td>\n",
       "      <td>-0.795074</td>\n",
       "      <td>Forgot mobile app password</td>\n",
       "    </tr>\n",
       "  </tbody>\n",
       "</table>\n",
       "</div>"
      ],
      "text/plain": [
       "   no_of_cases  Avg_pending_calls  Avg_resol_time  recurrence_freq  \\\n",
       "0     0.179429          -0.701207       -0.538351        -0.843188   \n",
       "1    -0.862176           0.027143        1.510857        -1.101765   \n",
       "2    -0.908323          -1.013357       -0.486253        -1.015573   \n",
       "3    -0.921508           0.027143       -0.955140        -1.101765   \n",
       "4    -0.644625           0.339294       -0.156296         0.104930   \n",
       "\n",
       "   Replace_percent  In_warranty_percent  Post_warranty_percent  \\\n",
       "0        -0.561463             0.138067              -0.138067   \n",
       "1         2.245854            -1.778204               1.778204   \n",
       "2         0.561463             0.548696              -0.548696   \n",
       "3         3.368781            -1.778204               1.778204   \n",
       "4        -0.561463             0.795074              -0.795074   \n",
       "\n",
       "                       PROBLEM_TYPE  \n",
       "0   Temperature control not working  \n",
       "1  power chord does not tightly fit  \n",
       "2             Fan swing not working  \n",
       "3           Main switch does not on  \n",
       "4        Forgot mobile app password  "
      ]
     },
     "execution_count": 40,
     "metadata": {},
     "output_type": "execute_result"
    }
   ],
   "source": [
    "tech_supp_df.head()"
   ]
  },
  {
   "cell_type": "markdown",
   "metadata": {},
   "source": [
    "## Group Data into similar clusters\n",
    "\n",
    "Now, we will use K-Means clustering to group data based on their attribute. First, we need to determine the optimal number of groups. For that we conduct the knee test to see where the knee happens."
   ]
  },
  {
   "cell_type": "code",
   "execution_count": 41,
   "metadata": {
    "scrolled": true
   },
   "outputs": [],
   "source": [
    "tech_supp_attributes = tech_supp_df.drop(\"PROBLEM_TYPE\",axis=1)"
   ]
  },
  {
   "cell_type": "code",
   "execution_count": 42,
   "metadata": {},
   "outputs": [],
   "source": [
    "#Finding optimal no. of clusters\n",
    "from scipy.spatial.distance import cdist\n",
    "clusters=range(1,10)\n",
    "meanDistortions=[]"
   ]
  },
  {
   "cell_type": "code",
   "execution_count": 43,
   "metadata": {},
   "outputs": [],
   "source": [
    "for k in clusters:\n",
    "    model=KMeans(n_clusters=k)\n",
    "    model.fit(tech_supp_attributes)\n",
    "    prediction=model.predict(tech_supp_attributes)\n",
    "    meanDistortions.append(sum(np.min(cdist(tech_supp_attributes, model.cluster_centers_, 'euclidean'), axis=1)) / tech_supp_attributes.shape[0])\n",
    "    "
   ]
  },
  {
   "cell_type": "code",
   "execution_count": 18,
   "metadata": {},
   "outputs": [],
   "source": [
    "k =2\n",
    "model=KMeans(n_clusters=2)\n",
    "model.fit(tech_supp_attributes)\n",
    "prediction=model.predict(tech_supp_attributes)"
   ]
  },
  {
   "cell_type": "code",
   "execution_count": 20,
   "metadata": {},
   "outputs": [
    {
     "data": {
      "text/plain": [
       "array([1, 1, 1, 1, 0, 0, 0, 1, 1, 0, 0, 1, 1, 0, 1, 1, 1, 1, 0, 1, 1, 1,\n",
       "       1])"
      ]
     },
     "execution_count": 20,
     "metadata": {},
     "output_type": "execute_result"
    }
   ],
   "source": [
    "prediction"
   ]
  },
  {
   "cell_type": "code",
   "execution_count": 24,
   "metadata": {},
   "outputs": [
    {
     "data": {
      "text/plain": [
       "array([[3.00173086, 1.37063712],\n",
       "       [4.80237067, 3.93297837],\n",
       "       [3.14782968, 2.14226418],\n",
       "       [5.91339532, 4.18390245],\n",
       "       [1.64921128, 2.239507  ],\n",
       "       [1.50663569, 3.42258151],\n",
       "       [1.33703788, 4.11421511],\n",
       "       [2.94153696, 1.93936615],\n",
       "       [4.0422121 , 1.45407592],\n",
       "       [0.30180372, 3.31941834],\n",
       "       [1.42439209, 4.11077246],\n",
       "       [4.66501095, 2.27080843],\n",
       "       [2.98632206, 2.08295294],\n",
       "       [1.17607233, 3.71669637],\n",
       "       [4.28554457, 2.74073447],\n",
       "       [4.66906717, 3.14090515],\n",
       "       [5.47402416, 2.82479686],\n",
       "       [3.0218959 , 1.06638915],\n",
       "       [1.31073158, 2.89738482],\n",
       "       [3.55879936, 1.82612807],\n",
       "       [3.45050927, 2.29329738],\n",
       "       [3.14770762, 2.07409042],\n",
       "       [4.09589037, 2.20539395]])"
      ]
     },
     "execution_count": 24,
     "metadata": {},
     "output_type": "execute_result"
    }
   ],
   "source": [
    "cdist(tech_supp_attributes, model.cluster_centers_, 'euclidean')"
   ]
  },
  {
   "cell_type": "code",
   "execution_count": 27,
   "metadata": {},
   "outputs": [
    {
     "data": {
      "text/plain": [
       "array([1.37063712, 3.93297837, 2.14226418, 4.18390245, 1.64921128,\n",
       "       1.50663569, 1.33703788, 1.93936615, 1.45407592, 0.30180372,\n",
       "       1.42439209, 2.27080843, 2.08295294, 1.17607233, 2.74073447,\n",
       "       3.14090515, 2.82479686, 1.06638915, 1.31073158, 1.82612807,\n",
       "       2.29329738, 2.07409042, 2.20539395])"
      ]
     },
     "execution_count": 27,
     "metadata": {},
     "output_type": "execute_result"
    }
   ],
   "source": [
    "np.min(cdist(tech_supp_attributes, model.cluster_centers_, 'euclidean'), axis=1)"
   ]
  },
  {
   "cell_type": "code",
   "execution_count": null,
   "metadata": {},
   "outputs": [],
   "source": []
  },
  {
   "cell_type": "code",
   "execution_count": 44,
   "metadata": {},
   "outputs": [
    {
     "data": {
      "text/plain": [
       "Text(0.5,1,'Selecting k with the Elbow Method')"
      ]
     },
     "execution_count": 44,
     "metadata": {},
     "output_type": "execute_result"
    },
    {
     "data": {
      "image/png": "[encoded data removed]",
      "text/plain": [
       "<Figure size 432x288 with 1 Axes>"
      ]
     },
     "metadata": {},
     "output_type": "display_data"
    }
   ],
   "source": [
    "plt.plot(clusters, meanDistortions, 'bx-')\n",
    "plt.xlabel('k')\n",
    "plt.ylabel('Average distortion')\n",
    "plt.title('Selecting k with the Elbow Method')"
   ]
  },
  {
   "cell_type": "markdown",
   "metadata": {},
   "source": [
    "Though the bend is not coming out clearly as there are many bends, let us look at 2 clusters and 3 clusters"
   ]
  },
  {
   "cell_type": "code",
   "execution_count": 45,
   "metadata": {},
   "outputs": [],
   "source": [
    "# Let us first start with K = 2\n",
    "final_model=KMeans(2)\n",
    "final_model.fit(tech_supp_attributes)\n",
    "prediction=final_model.predict(tech_supp_attributes)"
   ]
  },
  {
   "cell_type": "code",
   "execution_count": 46,
   "metadata": {},
   "outputs": [
    {
     "name": "stdout",
     "output_type": "stream",
     "text": [
      "Groups Assigned : \n",
      "\n"
     ]
    },
    {
     "data": {
      "text/html": [
       "<div>\n",
       "<style scoped>\n",
       "    .dataframe tbody tr th:only-of-type {\n",
       "        vertical-align: middle;\n",
       "    }\n",
       "\n",
       "    .dataframe tbody tr th {\n",
       "        vertical-align: top;\n",
       "    }\n",
       "\n",
       "    .dataframe thead th {\n",
       "        text-align: right;\n",
       "    }\n",
       "</style>\n",
       "<table border=\"1\" class=\"dataframe\">\n",
       "  <thead>\n",
       "    <tr style=\"text-align: right;\">\n",
       "      <th></th>\n",
       "      <th>PROBLEM_TYPE</th>\n",
       "      <th>GROUP</th>\n",
       "    </tr>\n",
       "  </thead>\n",
       "  <tbody>\n",
       "    <tr>\n",
       "      <th>0</th>\n",
       "      <td>Temperature control not working</td>\n",
       "      <td>1</td>\n",
       "    </tr>\n",
       "    <tr>\n",
       "      <th>1</th>\n",
       "      <td>power chord does not tightly fit</td>\n",
       "      <td>1</td>\n",
       "    </tr>\n",
       "    <tr>\n",
       "      <th>2</th>\n",
       "      <td>Fan swing not working</td>\n",
       "      <td>1</td>\n",
       "    </tr>\n",
       "    <tr>\n",
       "      <th>3</th>\n",
       "      <td>Main switch does not on</td>\n",
       "      <td>1</td>\n",
       "    </tr>\n",
       "    <tr>\n",
       "      <th>4</th>\n",
       "      <td>Forgot mobile app password</td>\n",
       "      <td>0</td>\n",
       "    </tr>\n",
       "    <tr>\n",
       "      <th>5</th>\n",
       "      <td>AC stops abruptly</td>\n",
       "      <td>0</td>\n",
       "    </tr>\n",
       "    <tr>\n",
       "      <th>6</th>\n",
       "      <td>App hangs while entring commands</td>\n",
       "      <td>0</td>\n",
       "    </tr>\n",
       "    <tr>\n",
       "      <th>7</th>\n",
       "      <td>App takes a long time to initialize</td>\n",
       "      <td>1</td>\n",
       "    </tr>\n",
       "    <tr>\n",
       "      <th>8</th>\n",
       "      <td>Unable to connect the App to the device</td>\n",
       "      <td>1</td>\n",
       "    </tr>\n",
       "    <tr>\n",
       "      <th>9</th>\n",
       "      <td>Reinstalling the app hangs the phone</td>\n",
       "      <td>0</td>\n",
       "    </tr>\n",
       "    <tr>\n",
       "      <th>10</th>\n",
       "      <td>Mobile screen blanks on use of phone</td>\n",
       "      <td>0</td>\n",
       "    </tr>\n",
       "    <tr>\n",
       "      <th>11</th>\n",
       "      <td>Cluttered with popup messages</td>\n",
       "      <td>1</td>\n",
       "    </tr>\n",
       "    <tr>\n",
       "      <th>12</th>\n",
       "      <td>AC controller sofware missing</td>\n",
       "      <td>1</td>\n",
       "    </tr>\n",
       "    <tr>\n",
       "      <th>13</th>\n",
       "      <td>AC remote does not  work</td>\n",
       "      <td>0</td>\n",
       "    </tr>\n",
       "    <tr>\n",
       "      <th>14</th>\n",
       "      <td>Remote Keys get stuck</td>\n",
       "      <td>1</td>\n",
       "    </tr>\n",
       "    <tr>\n",
       "      <th>15</th>\n",
       "      <td>Unable to operate menu from remote</td>\n",
       "      <td>1</td>\n",
       "    </tr>\n",
       "    <tr>\n",
       "      <th>16</th>\n",
       "      <td>Motor noise from the system</td>\n",
       "      <td>1</td>\n",
       "    </tr>\n",
       "    <tr>\n",
       "      <th>17</th>\n",
       "      <td>Freshner holder stuck</td>\n",
       "      <td>1</td>\n",
       "    </tr>\n",
       "    <tr>\n",
       "      <th>18</th>\n",
       "      <td>Factory settings not working</td>\n",
       "      <td>0</td>\n",
       "    </tr>\n",
       "    <tr>\n",
       "      <th>19</th>\n",
       "      <td>WIFI connectivity breaks</td>\n",
       "      <td>1</td>\n",
       "    </tr>\n",
       "    <tr>\n",
       "      <th>20</th>\n",
       "      <td>Battery backup does not get fully charged</td>\n",
       "      <td>1</td>\n",
       "    </tr>\n",
       "    <tr>\n",
       "      <th>21</th>\n",
       "      <td>Battery does not last full 8 hrs</td>\n",
       "      <td>1</td>\n",
       "    </tr>\n",
       "    <tr>\n",
       "      <th>22</th>\n",
       "      <td>Fan speed varies at on its own</td>\n",
       "      <td>1</td>\n",
       "    </tr>\n",
       "  </tbody>\n",
       "</table>\n",
       "</div>"
      ],
      "text/plain": [
       "                                 PROBLEM_TYPE  GROUP\n",
       "0             Temperature control not working      1\n",
       "1            power chord does not tightly fit      1\n",
       "2                       Fan swing not working      1\n",
       "3                     Main switch does not on      1\n",
       "4                  Forgot mobile app password      0\n",
       "5                           AC stops abruptly      0\n",
       "6            App hangs while entring commands      0\n",
       "7         App takes a long time to initialize      1\n",
       "8     Unable to connect the App to the device      1\n",
       "9        Reinstalling the app hangs the phone      0\n",
       "10       Mobile screen blanks on use of phone      0\n",
       "11              Cluttered with popup messages      1\n",
       "12              AC controller sofware missing      1\n",
       "13                   AC remote does not  work      0\n",
       "14                     Remote Keys get stuck       1\n",
       "15         Unable to operate menu from remote      1\n",
       "16               Motor noise from the system       1\n",
       "17                     Freshner holder stuck       1\n",
       "18               Factory settings not working      0\n",
       "19                  WIFI connectivity breaks       1\n",
       "20  Battery backup does not get fully charged      1\n",
       "21           Battery does not last full 8 hrs      1\n",
       "22             Fan speed varies at on its own      1"
      ]
     },
     "execution_count": 46,
     "metadata": {},
     "output_type": "execute_result"
    }
   ],
   "source": [
    "#Append the prediction \n",
    "tech_supp_df[\"GROUP\"] = prediction\n",
    "print(\"Groups Assigned : \\n\")\n",
    "tech_supp_df[[\"PROBLEM_TYPE\", \"GROUP\"]]"
   ]
  },
  {
   "cell_type": "markdown",
   "metadata": {},
   "source": [
    "Analyze the distribution of the data among the two groups (K = 2). One of the most informative visual tool is boxplot.\n"
   ]
  },
  {
   "cell_type": "code",
   "execution_count": 47,
   "metadata": {},
   "outputs": [
    {
     "data": {
      "text/plain": [
       "array([[<matplotlib.axes._subplots.AxesSubplot object at 0x00000117CC692908>,\n",
       "        <matplotlib.axes._subplots.AxesSubplot object at 0x00000117CC769470>,\n",
       "        <matplotlib.axes._subplots.AxesSubplot object at 0x00000117CC791860>,\n",
       "        <matplotlib.axes._subplots.AxesSubplot object at 0x00000117CC7B8C50>],\n",
       "       [<matplotlib.axes._subplots.AxesSubplot object at 0x00000117CC7EA080>,\n",
       "        <matplotlib.axes._subplots.AxesSubplot object at 0x00000117CC7EA0B8>,\n",
       "        <matplotlib.axes._subplots.AxesSubplot object at 0x00000117CC83B860>,\n",
       "        <matplotlib.axes._subplots.AxesSubplot object at 0x00000117CC864C50>]],\n",
       "      dtype=object)"
      ]
     },
     "execution_count": 47,
     "metadata": {},
     "output_type": "execute_result"
    },
    {
     "data": {
      "image/png": "[encoded data removed]",
      "text/plain": [
       "<Figure size 1080x720 with 8 Axes>"
      ]
     },
     "metadata": {},
     "output_type": "display_data"
    }
   ],
   "source": [
    "tech_supp_df.boxplot(by = 'GROUP',  layout=(2,4), figsize=(15, 10))"
   ]
  },
  {
   "cell_type": "code",
   "execution_count": 48,
   "metadata": {},
   "outputs": [],
   "source": [
    "# The K = 2 boxplot clearly shows outliers in group 1. Indicating that the group 1 is stretched\n",
    "# indicating probability of another cluster. Let us try with K = 3, the next elbow point"
   ]
  },
  {
   "cell_type": "code",
   "execution_count": 49,
   "metadata": {},
   "outputs": [],
   "source": [
    "# Let us first start with K = 3\n",
    "final_model=KMeans(3)\n",
    "final_model.fit(tech_supp_attributes)\n",
    "prediction=final_model.predict(tech_supp_attributes)"
   ]
  },
  {
   "cell_type": "code",
   "execution_count": 50,
   "metadata": {},
   "outputs": [
    {
     "name": "stdout",
     "output_type": "stream",
     "text": [
      "Groups Assigned : \n",
      "\n"
     ]
    },
    {
     "data": {
      "text/html": [
       "<div>\n",
       "<style scoped>\n",
       "    .dataframe tbody tr th:only-of-type {\n",
       "        vertical-align: middle;\n",
       "    }\n",
       "\n",
       "    .dataframe tbody tr th {\n",
       "        vertical-align: top;\n",
       "    }\n",
       "\n",
       "    .dataframe thead th {\n",
       "        text-align: right;\n",
       "    }\n",
       "</style>\n",
       "<table border=\"1\" class=\"dataframe\">\n",
       "  <thead>\n",
       "    <tr style=\"text-align: right;\">\n",
       "      <th></th>\n",
       "      <th>PROBLEM_TYPE</th>\n",
       "      <th>GROUP</th>\n",
       "    </tr>\n",
       "  </thead>\n",
       "  <tbody>\n",
       "    <tr>\n",
       "      <th>0</th>\n",
       "      <td>Temperature control not working</td>\n",
       "      <td>1</td>\n",
       "    </tr>\n",
       "    <tr>\n",
       "      <th>1</th>\n",
       "      <td>power chord does not tightly fit</td>\n",
       "      <td>0</td>\n",
       "    </tr>\n",
       "    <tr>\n",
       "      <th>2</th>\n",
       "      <td>Fan swing not working</td>\n",
       "      <td>1</td>\n",
       "    </tr>\n",
       "    <tr>\n",
       "      <th>3</th>\n",
       "      <td>Main switch does not on</td>\n",
       "      <td>0</td>\n",
       "    </tr>\n",
       "    <tr>\n",
       "      <th>4</th>\n",
       "      <td>Forgot mobile app password</td>\n",
       "      <td>1</td>\n",
       "    </tr>\n",
       "    <tr>\n",
       "      <th>5</th>\n",
       "      <td>AC stops abruptly</td>\n",
       "      <td>2</td>\n",
       "    </tr>\n",
       "    <tr>\n",
       "      <th>6</th>\n",
       "      <td>App hangs while entring commands</td>\n",
       "      <td>2</td>\n",
       "    </tr>\n",
       "    <tr>\n",
       "      <th>7</th>\n",
       "      <td>App takes a long time to initialize</td>\n",
       "      <td>1</td>\n",
       "    </tr>\n",
       "    <tr>\n",
       "      <th>8</th>\n",
       "      <td>Unable to connect the App to the device</td>\n",
       "      <td>1</td>\n",
       "    </tr>\n",
       "    <tr>\n",
       "      <th>9</th>\n",
       "      <td>Reinstalling the app hangs the phone</td>\n",
       "      <td>2</td>\n",
       "    </tr>\n",
       "    <tr>\n",
       "      <th>10</th>\n",
       "      <td>Mobile screen blanks on use of phone</td>\n",
       "      <td>2</td>\n",
       "    </tr>\n",
       "    <tr>\n",
       "      <th>11</th>\n",
       "      <td>Cluttered with popup messages</td>\n",
       "      <td>0</td>\n",
       "    </tr>\n",
       "    <tr>\n",
       "      <th>12</th>\n",
       "      <td>AC controller sofware missing</td>\n",
       "      <td>1</td>\n",
       "    </tr>\n",
       "    <tr>\n",
       "      <th>13</th>\n",
       "      <td>AC remote does not  work</td>\n",
       "      <td>2</td>\n",
       "    </tr>\n",
       "    <tr>\n",
       "      <th>14</th>\n",
       "      <td>Remote Keys get stuck</td>\n",
       "      <td>1</td>\n",
       "    </tr>\n",
       "    <tr>\n",
       "      <th>15</th>\n",
       "      <td>Unable to operate menu from remote</td>\n",
       "      <td>1</td>\n",
       "    </tr>\n",
       "    <tr>\n",
       "      <th>16</th>\n",
       "      <td>Motor noise from the system</td>\n",
       "      <td>0</td>\n",
       "    </tr>\n",
       "    <tr>\n",
       "      <th>17</th>\n",
       "      <td>Freshner holder stuck</td>\n",
       "      <td>1</td>\n",
       "    </tr>\n",
       "    <tr>\n",
       "      <th>18</th>\n",
       "      <td>Factory settings not working</td>\n",
       "      <td>2</td>\n",
       "    </tr>\n",
       "    <tr>\n",
       "      <th>19</th>\n",
       "      <td>WIFI connectivity breaks</td>\n",
       "      <td>1</td>\n",
       "    </tr>\n",
       "    <tr>\n",
       "      <th>20</th>\n",
       "      <td>Battery backup does not get fully charged</td>\n",
       "      <td>0</td>\n",
       "    </tr>\n",
       "    <tr>\n",
       "      <th>21</th>\n",
       "      <td>Battery does not last full 8 hrs</td>\n",
       "      <td>0</td>\n",
       "    </tr>\n",
       "    <tr>\n",
       "      <th>22</th>\n",
       "      <td>Fan speed varies at on its own</td>\n",
       "      <td>0</td>\n",
       "    </tr>\n",
       "  </tbody>\n",
       "</table>\n",
       "</div>"
      ],
      "text/plain": [
       "                                 PROBLEM_TYPE  GROUP\n",
       "0             Temperature control not working      1\n",
       "1            power chord does not tightly fit      0\n",
       "2                       Fan swing not working      1\n",
       "3                     Main switch does not on      0\n",
       "4                  Forgot mobile app password      1\n",
       "5                           AC stops abruptly      2\n",
       "6            App hangs while entring commands      2\n",
       "7         App takes a long time to initialize      1\n",
       "8     Unable to connect the App to the device      1\n",
       "9        Reinstalling the app hangs the phone      2\n",
       "10       Mobile screen blanks on use of phone      2\n",
       "11              Cluttered with popup messages      0\n",
       "12              AC controller sofware missing      1\n",
       "13                   AC remote does not  work      2\n",
       "14                     Remote Keys get stuck       1\n",
       "15         Unable to operate menu from remote      1\n",
       "16               Motor noise from the system       0\n",
       "17                     Freshner holder stuck       1\n",
       "18               Factory settings not working      2\n",
       "19                  WIFI connectivity breaks       1\n",
       "20  Battery backup does not get fully charged      0\n",
       "21           Battery does not last full 8 hrs      0\n",
       "22             Fan speed varies at on its own      0"
      ]
     },
     "execution_count": 50,
     "metadata": {},
     "output_type": "execute_result"
    }
   ],
   "source": [
    "#Append the prediction \n",
    "tech_supp_df[\"GROUP\"] = prediction\n",
    "print(\"Groups Assigned : \\n\")\n",
    "tech_supp_df[[\"PROBLEM_TYPE\", \"GROUP\"]]"
   ]
  },
  {
   "cell_type": "code",
   "execution_count": 51,
   "metadata": {},
   "outputs": [
    {
     "data": {
      "text/plain": [
       "array([[<matplotlib.axes._subplots.AxesSubplot object at 0x00000117CCE06048>,\n",
       "        <matplotlib.axes._subplots.AxesSubplot object at 0x00000117CD0C5198>,\n",
       "        <matplotlib.axes._subplots.AxesSubplot object at 0x00000117CD0E2588>,\n",
       "        <matplotlib.axes._subplots.AxesSubplot object at 0x00000117CCA38978>],\n",
       "       [<matplotlib.axes._subplots.AxesSubplot object at 0x00000117CCA61D68>,\n",
       "        <matplotlib.axes._subplots.AxesSubplot object at 0x00000117CCA61DA0>,\n",
       "        <matplotlib.axes._subplots.AxesSubplot object at 0x00000117CCAC0588>,\n",
       "        <matplotlib.axes._subplots.AxesSubplot object at 0x00000117CCAE6978>]],\n",
       "      dtype=object)"
      ]
     },
     "execution_count": 51,
     "metadata": {},
     "output_type": "execute_result"
    },
    {
     "data": {
      "image/png": "[encoded data removed]",
      "text/plain": [
       "<Figure size 1080x720 with 8 Axes>"
      ]
     },
     "metadata": {},
     "output_type": "display_data"
    }
   ],
   "source": [
    "tech_supp_df.boxplot(by = 'GROUP',  layout=(2,4), figsize=(15, 10))"
   ]
  },
  {
   "cell_type": "code",
   "execution_count": 52,
   "metadata": {},
   "outputs": [],
   "source": [
    "# Number of cases in Group 0 is high but resolution time is very low and pending calls too is low.... (teething problem)\n",
    "# Number of cases in group 1 is second highest, pending calls is also second highest, resolution time is slightly higher\n",
    "# Replacement_percent is very high.... (Design problem)\n",
    "\n",
    "# What does this indicate?"
   ]
  },
  {
   "cell_type": "code",
   "execution_count": null,
   "metadata": {
    "collapsed": true
   },
   "outputs": [],
   "source": []
  },
  {
   "cell_type": "code",
   "execution_count": null,
   "metadata": {
    "collapsed": true
   },
   "outputs": [],
   "source": []
  }
 ],
 "metadata": {
  "anaconda-cloud": {},
  "kernelspec": {
   "display_name": "Python 3",
   "language": "python",
   "name": "python3"
  },
  "language_info": {
   "codemirror_mode": {
    "name": "ipython",
    "version": 3
   },
   "file_extension": ".py",
   "mimetype": "text/x-python",
   "name": "python",
   "nbconvert_exporter": "python",
   "pygments_lexer": "ipython3",
   "version": "3.6.5"
  }
 },
 "nbformat": 4,
 "nbformat_minor": 1
}
