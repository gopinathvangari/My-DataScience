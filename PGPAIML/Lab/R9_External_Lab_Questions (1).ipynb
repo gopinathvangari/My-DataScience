{
 "cells": [
  {
   "cell_type": "markdown",
   "metadata": {
    "colab_type": "text",
    "id": "WPJHV_CIn6Bg"
   },
   "source": [
    "# U - Net\n",
    "## Problem: \n",
    "\n",
    "Seismic data is collected using reflection seismology, or seismic reflection. The method requires a controlled seismic source of energy, such as compressed air or a seismic vibrator, and sensors record the reflection from rock interfaces within the subsurface. The recorded data is then processed to create a 3D view of earth’s interior. Reflection seismology is similar to X-ray, sonar and echolocation.\n",
    "\n",
    "A seismic image is produced from imaging the reflection coming from rock boundaries. The seismic image shows the boundaries between different rock types. In theory, the strength of reflection is directly proportional to the difference in the physical properties on either sides of the interface. While seismic images show rock boundaries, they don't say much about the rock themselves; some rocks are easy to identify while some are difficult.\n",
    "\n",
    "There are several areas of the world where there are vast quantities of salt in the subsurface. One of the challenges of seismic imaging is to identify the part of subsurface which is salt. Salt has characteristics that makes it both simple and hard to identify. Salt density is usually 2.14 g/cc which is lower than most surrounding rocks. The seismic velocity of salt is 4.5 km/sec, which is usually faster than its surrounding rocks. This difference creates a sharp reflection at the salt-sediment interface. Usually salt is an amorphous rock without much internal structure. This means that there is typically not much reflectivity inside the salt, unless there are sediments trapped inside it. The unusually high seismic velocity of salt can create problems with seismic imaging.\n",
    "\n",
    "### Data\n",
    "The data is a set of images chosen at various locations chosen at random in the subsurface. The images are 101 x 101 pixels and each pixel is classified as either salt or sediment. In addition to the seismic images, the depth of the imaged location is provided for each image. The goal of the competition is to segment regions that contain salt.\n",
    "\n",
    "#### Source: \n",
    "https://www.kaggle.com/c/tgs-salt-identification-challenge\n",
    "\n",
    "\n",
    "### Note: \n",
    "Accept the terms and download data from the above link"
   ]
  },
  {
   "cell_type": "markdown",
   "metadata": {
    "colab_type": "text",
    "id": "3OKrTNUtn-od"
   },
   "source": [
    "### Aim: \n",
    "\n",
    "Implement U-Net neural model architecture in keras to solve this problem.\n",
    "\n",
    "\n",
    "In this, you are asked to segment salt deposits beneath the Earth’s surface. Given a set of seismic images that are 101 x 101 pixels each and each pixel we need to classify as either salt or sediment. Our goal is to segment regions that contain salt. A seismic image is produced from imaging the reflection coming from rock boundaries. The seismic image shows the boundaries between different rock types. "
   ]
  },
  {
   "cell_type": "markdown",
   "metadata": {
    "colab_type": "text",
    "id": "ZUOAF8WWoA1x"
   },
   "source": [
    "### Broad Steps:\n",
    "\n",
    "1. Download the dataset\n",
    "2. Upload to Drive\n",
    "3. Import from drive to colab\n",
    "4. Load the images and create training data.\n",
    "5. Build U-net Model\n",
    "6. Train your model.\n",
    "7. Check the validation accuracy and plot sample."
   ]
  },
  {
   "cell_type": "code",
   "execution_count": 0,
   "metadata": {
    "colab": {
     "base_uri": "https://localhost:8080/",
     "height": 34
    },
    "colab_type": "code",
    "id": "b7TLNzB6oDep",
    "outputId": "17ea69bf-9977-4d53-eadc-819b62d4e1d1"
   },
   "outputs": [
    {
     "name": "stderr",
     "output_type": "stream",
     "text": [
      "Using TensorFlow backend.\n"
     ]
    }
   ],
   "source": [
    "#Importing necessary libraries\n",
    "import os\n",
    "import random\n",
    "import pandas as pd\n",
    "import numpy as np\n",
    "import matplotlib.pyplot as plt\n",
    "plt.style.use(\"ggplot\")\n",
    "%matplotlib inline\n",
    "\n",
    "from tqdm import tqdm_notebook, tnrange\n",
    "from itertools import chain\n",
    "from skimage.io import imread, imshow, concatenate_images\n",
    "from skimage.transform import resize\n",
    "from skimage.morphology import label\n",
    "from sklearn.model_selection import train_test_split\n",
    "\n",
    "import tensorflow as tf\n",
    "from keras.models import Model, load_model\n",
    "from keras.layers import Input, BatchNormalization, Activation, Dense, Dropout\n",
    "from keras.layers.core import Lambda, RepeatVector, Reshape\n",
    "from keras.layers.convolutional import Conv2D, Conv2DTranspose\n",
    "from keras.layers.pooling import MaxPooling2D, GlobalMaxPool2D\n",
    "from keras.layers.merge import concatenate, add\n",
    "from keras.callbacks import EarlyStopping, ModelCheckpoint, ReduceLROnPlateau\n",
    "from keras.optimizers import Adam\n",
    "from keras.preprocessing.image import ImageDataGenerator, array_to_img, img_to_array, load_img"
   ]
  },
  {
   "cell_type": "code",
   "execution_count": 0,
   "metadata": {
    "colab": {
     "base_uri": "https://localhost:8080/",
     "height": 34
    },
    "colab_type": "code",
    "id": "6qiCvW9coD_E",
    "outputId": "0a58f597-9a93-4f4a-aaf7-71c2e5c9c215"
   },
   "outputs": [
    {
     "name": "stdout",
     "output_type": "stream",
     "text": [
      "Mounted at /content/drive/\n"
     ]
    }
   ],
   "source": [
    "#Mount drive\n",
    "from google.colab import drive\n",
    "drive.mount('/content/drive/')"
   ]
  },
  {
   "cell_type": "markdown",
   "metadata": {
    "colab_type": "text",
    "id": "B4IaUgploION"
   },
   "source": [
    "### 1.Set your project path where you have your data and related files for this lab."
   ]
  },
  {
   "cell_type": "code",
   "execution_count": 0,
   "metadata": {
    "colab": {},
    "colab_type": "code",
    "id": "0tPkbXWyoK-z"
   },
   "outputs": [],
   "source": [
    "project_path = \"/content/drive/My Drive/Colab Notebooks/Advanced Computer Vision/Lab/\""
   ]
  },
  {
   "cell_type": "markdown",
   "metadata": {
    "colab_type": "text",
    "id": "g15qSXZSoSuL"
   },
   "source": [
    "### 2. Set the necessary parameters"
   ]
  },
  {
   "cell_type": "markdown",
   "metadata": {
    "colab_type": "text",
    "id": "Dzrz2Or_HdxR"
   },
   "source": [
    "## Setup"
   ]
  },
  {
   "cell_type": "code",
   "execution_count": 0,
   "metadata": {
    "colab": {},
    "colab_type": "code",
    "id": "3IEaEnuzoW2a"
   },
   "outputs": [],
   "source": [
    "im_width = 128      #width of your train image\n",
    "im_height = 128     #hight of your train image\n",
    "#border =        \n",
    "path_train = project_path + 'train'  #Path for your train data"
   ]
  },
  {
   "cell_type": "markdown",
   "metadata": {
    "colab_type": "text",
    "id": "Q3IoS6RCoZPh"
   },
   "source": [
    "# 3. Make directory for train data at in your project/lab folder.\n",
    "\n",
    "Hint - use !mkdir function."
   ]
  },
  {
   "cell_type": "code",
   "execution_count": 0,
   "metadata": {
    "colab": {},
    "colab_type": "code",
    "id": "MRPpQ2QrocBQ"
   },
   "outputs": [],
   "source": [
    "import os\n",
    "os.mkdir('/content/drive/My Drive/Colab Notebooks/Advanced Computer Vision/Lab/train')"
   ]
  },
  {
   "cell_type": "code",
   "execution_count": 0,
   "metadata": {
    "colab": {},
    "colab_type": "code",
    "id": "syIdyTjxd1Cj"
   },
   "outputs": [],
   "source": [
    "os.chdir('/content/drive/My Drive/Colab Notebooks/Advanced Computer Vision/Lab/train')"
   ]
  },
  {
   "cell_type": "markdown",
   "metadata": {
    "colab_type": "text",
    "id": "fRbC22DGoeb7"
   },
   "source": [
    "# 4. Extract your train images to the train directory you have just created above. \n",
    "train.zip and test.zip files available at your google drive/local system.\n",
    "\n",
    "As a good practice - Upload or copy the data at your project path folder.\n",
    "\n",
    "Make sure you are providing the right project_path."
   ]
  },
  {
   "cell_type": "code",
   "execution_count": 0,
   "metadata": {
    "colab": {},
    "colab_type": "code",
    "id": "5BtPznFbogjG"
   },
   "outputs": [],
   "source": [
    "#For simplicity we have added the required code here.\n",
    "from zipfile import ZipFile\n",
    "\n",
    "with ZipFile(project_path + 'train.zip', 'r') as zf:\n",
    "  zf.extractall('train/')"
   ]
  },
  {
   "cell_type": "code",
   "execution_count": 0,
   "metadata": {
    "colab": {},
    "colab_type": "code",
    "id": "7YZ2prb9oiX4"
   },
   "outputs": [],
   "source": [
    "#The train file have both images and masks with the same names_ids."
   ]
  },
  {
   "cell_type": "markdown",
   "metadata": {
    "colab_type": "text",
    "id": "iwCH81ZWomLA"
   },
   "source": [
    "### 5. Get the list of names of images and masks and name the list imagelist and masklist.\n",
    "\n",
    "Hint - Use os.listdir() funtions."
   ]
  },
  {
   "cell_type": "code",
   "execution_count": 0,
   "metadata": {
    "colab": {},
    "colab_type": "code",
    "id": "Clt5ya_JoplC"
   },
   "outputs": [],
   "source": [
    "#Getting the image list \n",
    "\n",
    "imagelist  = os.listdir(path_train+'/train/images')\n",
    "masklist = os.listdir(path_train+'/train/masks')"
   ]
  },
  {
   "cell_type": "code",
   "execution_count": 0,
   "metadata": {
    "colab": {
     "base_uri": "https://localhost:8080/",
     "height": 84
    },
    "colab_type": "code",
    "id": "-vHPQoHVoppK",
    "outputId": "0b4f92fc-711d-447f-d2d1-c9d866f7e54a"
   },
   "outputs": [
    {
     "name": "stdout",
     "output_type": "stream",
     "text": [
      "7cc53fe88b.png\n",
      "7cc53fe88b.png\n",
      "de08c5a3b7.png\n",
      "de08c5a3b7.png\n"
     ]
    }
   ],
   "source": [
    "#Test your list names by printing some of the names as given below.\n",
    "print(imagelist[-1])\n",
    "print(masklist[-1])\n",
    "print(imagelist[10])\n",
    "print(masklist[10])"
   ]
  },
  {
   "cell_type": "markdown",
   "metadata": {
    "colab_type": "text",
    "id": "1t8raFq5ous8"
   },
   "source": [
    "# 6. Read and test your images and respective masks.\n",
    "\n",
    "Hint -\n",
    "\n",
    "import  matplotlib.pyplot as plt\n",
    "\n",
    "import cv2\n",
    "\n",
    "plt.imshow(cv2.imread('path of image'))\n",
    "\n",
    "plt.imshow(cv2.imread('path of mask'))\n"
   ]
  },
  {
   "cell_type": "code",
   "execution_count": 0,
   "metadata": {
    "colab": {},
    "colab_type": "code",
    "id": "1gGpCSPpovvH"
   },
   "outputs": [],
   "source": [
    "import cv2"
   ]
  },
  {
   "cell_type": "code",
   "execution_count": 0,
   "metadata": {
    "colab": {
     "base_uri": "https://localhost:8080/",
     "height": 286
    },
    "colab_type": "code",
    "id": "1dW6fT6AfjFv",
    "outputId": "721a094a-e059-4f41-a4fd-e9f0bd6efac9"
   },
   "outputs": [
    {
     "data": {
      "text/plain": [
       "<matplotlib.image.AxesImage at 0x7f1b1081a400>"
      ]
     },
     "execution_count": 13,
     "metadata": {
      "tags": []
     },
     "output_type": "execute_result"
    },
    {
     "data": {
      "image/png": "[encoded data removed]",
      "text/plain": [
       "<Figure size 432x288 with 1 Axes>"
      ]
     },
     "metadata": {
      "tags": []
     },
     "output_type": "display_data"
    }
   ],
   "source": [
    "plt.imshow(cv2.imread(path_train+'/train/images/7cc53fe88b.png'))"
   ]
  },
  {
   "cell_type": "code",
   "execution_count": 0,
   "metadata": {
    "colab": {
     "base_uri": "https://localhost:8080/",
     "height": 286
    },
    "colab_type": "code",
    "id": "9E-McW2toyaR",
    "outputId": "47e51303-89c2-48f3-fdf9-94f4d5beef11"
   },
   "outputs": [
    {
     "data": {
      "text/plain": [
       "<matplotlib.image.AxesImage at 0x7f1b0df35208>"
      ]
     },
     "execution_count": 14,
     "metadata": {
      "tags": []
     },
     "output_type": "execute_result"
    },
    {
     "data": {
      "image/png": "[encoded data removed]",
      "text/plain": [
       "<Figure size 432x288 with 1 Axes>"
      ]
     },
     "metadata": {
      "tags": []
     },
     "output_type": "display_data"
    }
   ],
   "source": [
    "plt.imshow(cv2.imread(path_train+'/train/masks/7cc53fe88b.png'))"
   ]
  },
  {
   "cell_type": "markdown",
   "metadata": {
    "colab_type": "text",
    "id": "_qFeroMNoylc"
   },
   "source": [
    "# 7. Create your training data.\n",
    "\n",
    "Hints - \n",
    "\n",
    "image_path = os.path.join(project_path +'path of your image directory' +n )\n",
    "\n",
    "mask_path = os.path.join(project_path +'path of your mask directory'+n )"
   ]
  },
  {
   "cell_type": "code",
   "execution_count": 0,
   "metadata": {
    "colab": {
     "base_uri": "https://localhost:8080/",
     "height": 34
    },
    "colab_type": "code",
    "id": "gJbRVbL4o1qT",
    "outputId": "ae8d431f-768f-415b-eaa6-68998150ce72"
   },
   "outputs": [
    {
     "name": "stdout",
     "output_type": "stream",
     "text": [
      "Done!\n"
     ]
    }
   ],
   "source": [
    "# Get and resize train images and masks\n",
    "from PIL import Image\n",
    "import numpy as np\n",
    "def get_data():\n",
    "    X = np.zeros(((len(imagelist), im_height, im_width, 1)), dtype=np.float32) # Create an array for image\n",
    "    y = np.zeros(((len(masklist), im_height, im_width, 1)), dtype=np.float32) #Create an array for mask\n",
    "    \n",
    "    for n in imagelist: \n",
    "        k = imagelist.index(n)\n",
    "        ##Add image_path\n",
    "        image_path = os.path.join(path_train+'/train/images/', n)\n",
    "        ##Add mask_path\n",
    "        file = masklist[k]\n",
    "        mask_path = os.path.join(path_train+'/train/masks/', file)                                                           \n",
    "        \n",
    "        # Load images and resize to (128,128,1)\n",
    "        img = Image.open(image_path)\n",
    "        resized_img = img.resize((im_width, im_height))\n",
    "        resized_img = np.reshape(resized_img.convert('L'), (128,128,1)) ## Converting the image to greyscale # Minimizing the parameters\n",
    "        \n",
    "        \n",
    "        # Load masks and resize to (128,128,1)\n",
    "        mask = Image.open(mask_path)\n",
    "        resized_mask = mask.resize((im_width, im_height))\n",
    "        resized_mask = np.reshape(resized_mask.convert('L'), (128,128,1)) ## Converting the image to greyscale # Minimizing the parameters\n",
    "        \n",
    "        # Save images\n",
    "        X[k, ..., 0] = resized_img.squeeze() / 255\n",
    "        y[k] = resized_mask/255\n",
    "    print('Done!')\n",
    "    #if train:\n",
    "    return X, y\n",
    "    #else:\n",
    "    #    return X\n",
    "    \n",
    "X, y = get_data()"
   ]
  },
  {
   "cell_type": "code",
   "execution_count": 0,
   "metadata": {
    "colab": {
     "base_uri": "https://localhost:8080/",
     "height": 50
    },
    "colab_type": "code",
    "id": "seheYxTBo32V",
    "outputId": "9bb4ac02-1d07-4ac6-a51b-8f4756925f63"
   },
   "outputs": [
    {
     "name": "stdout",
     "output_type": "stream",
     "text": [
      "(4000, 128, 128, 1)\n",
      "(4000, 128, 128, 1)\n"
     ]
    }
   ],
   "source": [
    "#Check the data\n",
    "print(X.shape)\n",
    "print(y.shape)"
   ]
  },
  {
   "cell_type": "code",
   "execution_count": 0,
   "metadata": {
    "colab": {},
    "colab_type": "code",
    "id": "kt6zXJPHo35y"
   },
   "outputs": [],
   "source": [
    "# Split train and valid\n",
    "from sklearn.model_selection import train_test_split\n",
    "X_train, X_valid, y_train, y_valid = train_test_split(X, y, test_size=0.15, random_state=2019)"
   ]
  },
  {
   "cell_type": "code",
   "execution_count": 0,
   "metadata": {
    "colab": {
     "base_uri": "https://localhost:8080/",
     "height": 319
    },
    "colab_type": "code",
    "id": "mh_SRFGro6wr",
    "outputId": "2fe1d92a-5f1e-4b12-a9a4-7baf88cff17d"
   },
   "outputs": [
    {
     "data": {
      "image/png": "[encoded data removed]",
      "text/plain": [
       "<Figure size 720x720 with 2 Axes>"
      ]
     },
     "metadata": {
      "tags": []
     },
     "output_type": "display_data"
    }
   ],
   "source": [
    "## Test your data whether it looks fine - Random check\n",
    "import random \n",
    "# Check if training data looks all right\n",
    "ix = random.randint(0, len(X_train))\n",
    "has_mask = y_train[ix].max() > 0\n",
    "\n",
    "fig, ax = plt.subplots(1, 2, figsize=(10, 10))\n",
    "\n",
    "ax[0].imshow(X_train[ix, ..., 0], cmap='seismic', interpolation='bilinear')\n",
    "if has_mask:\n",
    "    ax[0].contour(y_train[ix].squeeze(), colors='k', levels=[0.5])\n",
    "ax[0].set_title('Seismic')\n",
    "\n",
    "ax[1].imshow(y_train[ix].squeeze(), interpolation='bilinear', cmap='gray')\n",
    "ax[1].set_title('Salt');"
   ]
  },
  {
   "cell_type": "markdown",
   "metadata": {
    "colab_type": "text",
    "id": "em5jGV93o8qR"
   },
   "source": [
    "### 8. Define loss and dice_coeff function."
   ]
  },
  {
   "cell_type": "code",
   "execution_count": 0,
   "metadata": {
    "colab": {},
    "colab_type": "code",
    "id": "Uyxf8uhQpA78"
   },
   "outputs": [],
   "source": [
    "def dice_coefficient(y_true, y_pred):\n",
    "    numerator = 2 * tf.reduce_sum(y_true * y_pred)\n",
    "    denominator = tf.reduce_sum(y_true + y_pred)\n",
    "\n",
    "    return numerator / (denominator + tf.keras.backend.epsilon())"
   ]
  },
  {
   "cell_type": "code",
   "execution_count": 0,
   "metadata": {
    "colab": {},
    "colab_type": "code",
    "id": "EmCjyEUUpA_V"
   },
   "outputs": [],
   "source": [
    "def loss(y_true, y_pred):\n",
    "    return binary_crossentropy(y_true, y_pred) - tf.log(dice_coefficient(y_true, y_pred) + tf.keras.backend.epsilon())"
   ]
  },
  {
   "cell_type": "markdown",
   "metadata": {
    "colab_type": "text",
    "id": "-ofKZA-9pDVJ"
   },
   "source": [
    "### 9. Build and compile UNet Model for your data.\n",
    "\n",
    "Hint - \n",
    "You can install and use segmentation models from this github repository.\n",
    "\n",
    "#Install segmentation models\n",
    "\n",
    "!pip install git+https://github.com/qubvel/segmentation_models"
   ]
  },
  {
   "cell_type": "code",
   "execution_count": 0,
   "metadata": {
    "colab": {},
    "colab_type": "code",
    "id": "456utznCpGco"
   },
   "outputs": [],
   "source": [
    "#model = Unet(backbone_name='resnet34', encoder_weights=None, input_shape=(None, None, 1))\n",
    "#compile your model by adding the parameters like optimizer, loss and metrics.\n"
   ]
  },
  {
   "cell_type": "code",
   "execution_count": 0,
   "metadata": {
    "colab": {
     "base_uri": "https://localhost:8080/",
     "height": 810
    },
    "colab_type": "code",
    "id": "-x3H6H7fpByI",
    "outputId": "d912d5e3-927f-45e6-ddf0-52c6847487dc"
   },
   "outputs": [
    {
     "name": "stdout",
     "output_type": "stream",
     "text": [
      "Collecting git+https://github.com/qubvel/segmentation_models\n",
      "  Cloning https://github.com/qubvel/segmentation_models to /tmp/pip-req-build-k3dl3y57\n",
      "  Running command git clone -q https://github.com/qubvel/segmentation_models /tmp/pip-req-build-k3dl3y57\n",
      "  Running command git submodule update --init --recursive -q\n",
      "Requirement already satisfied: keras>=2.2.0 in /usr/local/lib/python3.6/dist-packages (from segmentation-models==0.2.1) (2.2.4)\n",
      "Collecting keras_applications==1.0.7 (from segmentation-models==0.2.1)\n",
      "\u001b[?25l  Downloading https://files.pythonhosted.org/packages/90/85/64c82949765cfb246bbdaf5aca2d55f400f792655927a017710a78445def/Keras_Applications-1.0.7-py2.py3-none-any.whl (51kB)\n",
      "\u001b[K     |████████████████████████████████| 61kB 2.4MB/s \n",
      "\u001b[?25hRequirement already satisfied: scikit-image in /usr/local/lib/python3.6/dist-packages (from segmentation-models==0.2.1) (0.15.0)\n",
      "Collecting image-classifiers==0.2.0 (from segmentation-models==0.2.1)\n",
      "\u001b[?25l  Downloading https://files.pythonhosted.org/packages/de/32/a1e74e03f74506d1e4b46bb2732ca5a7b18ac52a36b5e3547e63537ce74c/image_classifiers-0.2.0-py2.py3-none-any.whl (76kB)\n",
      "\u001b[K     |████████████████████████████████| 81kB 6.1MB/s \n",
      "\u001b[?25hCollecting efficientnet>=0.0.3 (from segmentation-models==0.2.1)\n",
      "  Downloading https://files.pythonhosted.org/packages/66/9c/8bee2927037da1a56e899eb62140fba2862a0d4faeeacbdbe7a1f27bd528/efficientnet-0.0.3-py2.py3-none-any.whl\n",
      "Requirement already satisfied: h5py in /usr/local/lib/python3.6/dist-packages (from keras>=2.2.0->segmentation-models==0.2.1) (2.8.0)\n",
      "Requirement already satisfied: pyyaml in /usr/local/lib/python3.6/dist-packages (from keras>=2.2.0->segmentation-models==0.2.1) (3.13)\n",
      "Requirement already satisfied: numpy>=1.9.1 in /usr/local/lib/python3.6/dist-packages (from keras>=2.2.0->segmentation-models==0.2.1) (1.16.4)\n",
      "Requirement already satisfied: keras-preprocessing>=1.0.5 in /usr/local/lib/python3.6/dist-packages (from keras>=2.2.0->segmentation-models==0.2.1) (1.1.0)\n",
      "Requirement already satisfied: scipy>=0.14 in /usr/local/lib/python3.6/dist-packages (from keras>=2.2.0->segmentation-models==0.2.1) (1.3.0)\n",
      "Requirement already satisfied: six>=1.9.0 in /usr/local/lib/python3.6/dist-packages (from keras>=2.2.0->segmentation-models==0.2.1) (1.12.0)\n",
      "Requirement already satisfied: PyWavelets>=0.4.0 in /usr/local/lib/python3.6/dist-packages (from scikit-image->segmentation-models==0.2.1) (1.0.3)\n",
      "Requirement already satisfied: networkx>=2.0 in /usr/local/lib/python3.6/dist-packages (from scikit-image->segmentation-models==0.2.1) (2.3)\n",
      "Requirement already satisfied: matplotlib!=3.0.0,>=2.0.0 in /usr/local/lib/python3.6/dist-packages (from scikit-image->segmentation-models==0.2.1) (3.0.3)\n",
      "Requirement already satisfied: imageio>=2.0.1 in /usr/local/lib/python3.6/dist-packages (from scikit-image->segmentation-models==0.2.1) (2.4.1)\n",
      "Requirement already satisfied: pillow>=4.3.0 in /usr/local/lib/python3.6/dist-packages (from scikit-image->segmentation-models==0.2.1) (4.3.0)\n",
      "Requirement already satisfied: decorator>=4.3.0 in /usr/local/lib/python3.6/dist-packages (from networkx>=2.0->scikit-image->segmentation-models==0.2.1) (4.4.0)\n",
      "Requirement already satisfied: kiwisolver>=1.0.1 in /usr/local/lib/python3.6/dist-packages (from matplotlib!=3.0.0,>=2.0.0->scikit-image->segmentation-models==0.2.1) (1.1.0)\n",
      "Requirement already satisfied: pyparsing!=2.0.4,!=2.1.2,!=2.1.6,>=2.0.1 in /usr/local/lib/python3.6/dist-packages (from matplotlib!=3.0.0,>=2.0.0->scikit-image->segmentation-models==0.2.1) (2.4.0)\n",
      "Requirement already satisfied: cycler>=0.10 in /usr/local/lib/python3.6/dist-packages (from matplotlib!=3.0.0,>=2.0.0->scikit-image->segmentation-models==0.2.1) (0.10.0)\n",
      "Requirement already satisfied: python-dateutil>=2.1 in /usr/local/lib/python3.6/dist-packages (from matplotlib!=3.0.0,>=2.0.0->scikit-image->segmentation-models==0.2.1) (2.5.3)\n",
      "Requirement already satisfied: olefile in /usr/local/lib/python3.6/dist-packages (from pillow>=4.3.0->scikit-image->segmentation-models==0.2.1) (0.46)\n",
      "Requirement already satisfied: setuptools in /usr/local/lib/python3.6/dist-packages (from kiwisolver>=1.0.1->matplotlib!=3.0.0,>=2.0.0->scikit-image->segmentation-models==0.2.1) (41.0.1)\n",
      "Building wheels for collected packages: segmentation-models\n",
      "  Building wheel for segmentation-models (setup.py) ... \u001b[?25l\u001b[?25hdone\n",
      "  Stored in directory: /tmp/pip-ephem-wheel-cache-bgrpeiyw/wheels/49/cf/46/cbb4bb64518c402aea99df9d466f1081450597e653256bbcf4\n",
      "Successfully built segmentation-models\n",
      "Installing collected packages: keras-applications, image-classifiers, efficientnet, segmentation-models\n",
      "  Found existing installation: Keras-Applications 1.0.8\n",
      "    Uninstalling Keras-Applications-1.0.8:\n",
      "      Successfully uninstalled Keras-Applications-1.0.8\n",
      "Successfully installed efficientnet-0.0.3 image-classifiers-0.2.0 keras-applications-1.0.7 segmentation-models-0.2.1\n"
     ]
    },
    {
     "data": {
      "application/vnd.colab-display-data+json": {
       "pip_warning": {
        "packages": [
         "keras_applications"
        ]
       }
      }
     },
     "metadata": {
      "tags": []
     },
     "output_type": "display_data"
    }
   ],
   "source": [
    "#Install segmentation models\n",
    "!pip install git+https://github.com/qubvel/segmentation_models"
   ]
  },
  {
   "cell_type": "code",
   "execution_count": 0,
   "metadata": {
    "colab": {
     "base_uri": "https://localhost:8080/",
     "height": 70
    },
    "colab_type": "code",
    "id": "uV8VfIqVpOVX",
    "outputId": "3aa5d409-81dc-41d5-e443-53b343d1bf2c"
   },
   "outputs": [
    {
     "name": "stderr",
     "output_type": "stream",
     "text": [
      "/usr/local/lib/python3.6/dist-packages/classification_models/resnext/__init__.py:4: UserWarning: Current ResNext models are deprecated, use keras.applications ResNeXt models\n",
      "  warnings.warn('Current ResNext models are deprecated, '\n"
     ]
    }
   ],
   "source": [
    "#Import libraries\n",
    "from segmentation_models import Unet\n",
    "from segmentation_models.backbones import get_preprocessing\n",
    "from segmentation_models.losses import bce_jaccard_loss\n",
    "from segmentation_models.metrics import iou_score\n",
    "\n",
    "from keras.layers import Input, Conv2D, Reshape\n",
    "from keras.models import Model"
   ]
  },
  {
   "cell_type": "code",
   "execution_count": 0,
   "metadata": {
    "colab": {},
    "colab_type": "code",
    "id": "dvHIORLNpO-e"
   },
   "outputs": [],
   "source": [
    "BACKBONE = 'resnet34'\n",
    "preprocess_input = get_preprocessing(BACKBONE)"
   ]
  },
  {
   "cell_type": "code",
   "execution_count": 0,
   "metadata": {
    "colab": {},
    "colab_type": "code",
    "id": "80RQ4VcepO1N"
   },
   "outputs": [],
   "source": [
    "x_train = preprocess_input(X_train)\n",
    "x_val = preprocess_input(X_valid)"
   ]
  },
  {
   "cell_type": "code",
   "execution_count": 0,
   "metadata": {
    "colab": {
     "base_uri": "https://localhost:8080/",
     "height": 34
    },
    "colab_type": "code",
    "id": "uDGoqvm6pOrt",
    "outputId": "06706221-feca-434e-9fb8-39bcac73577e"
   },
   "outputs": [
    {
     "data": {
      "text/plain": [
       "(600, 128, 128, 1)"
      ]
     },
     "execution_count": 24,
     "metadata": {
      "tags": []
     },
     "output_type": "execute_result"
    }
   ],
   "source": [
    "x_val.shape"
   ]
  },
  {
   "cell_type": "code",
   "execution_count": 0,
   "metadata": {
    "colab": {
     "base_uri": "https://localhost:8080/",
     "height": 34
    },
    "colab_type": "code",
    "id": "tsqEHKqNpOL8",
    "outputId": "f1ecb22e-5266-4231-f43a-3872392a1075"
   },
   "outputs": [
    {
     "data": {
      "text/plain": [
       "(3400, 128, 128, 1)"
      ]
     },
     "execution_count": 25,
     "metadata": {
      "tags": []
     },
     "output_type": "execute_result"
    }
   ],
   "source": [
    "x_train.shape"
   ]
  },
  {
   "cell_type": "code",
   "execution_count": 0,
   "metadata": {
    "colab": {
     "base_uri": "https://localhost:8080/",
     "height": 34
    },
    "colab_type": "code",
    "id": "yYG2LzdOqLp8",
    "outputId": "b41b0c43-048c-467b-c44c-9f2ffcaf17dd"
   },
   "outputs": [
    {
     "data": {
      "text/plain": [
       "(3400, 128, 128, 1)"
      ]
     },
     "execution_count": 26,
     "metadata": {
      "tags": []
     },
     "output_type": "execute_result"
    }
   ],
   "source": [
    "y_train.shape"
   ]
  },
  {
   "cell_type": "code",
   "execution_count": 0,
   "metadata": {
    "colab": {
     "base_uri": "https://localhost:8080/",
     "height": 34
    },
    "colab_type": "code",
    "id": "ygM2bZyMqOfO",
    "outputId": "dc05dbfc-2451-4c64-a1e5-f411077bce17"
   },
   "outputs": [
    {
     "data": {
      "text/plain": [
       "(600, 128, 128, 1)"
      ]
     },
     "execution_count": 27,
     "metadata": {
      "tags": []
     },
     "output_type": "execute_result"
    }
   ],
   "source": [
    "y_valid.shape"
   ]
  },
  {
   "cell_type": "code",
   "execution_count": 0,
   "metadata": {
    "colab": {
     "base_uri": "https://localhost:8080/",
     "height": 235
    },
    "colab_type": "code",
    "id": "SSGujbHAqTxl",
    "outputId": "a7c05a52-bebe-4f0e-d317-f1b242891012"
   },
   "outputs": [
    {
     "name": "stdout",
     "output_type": "stream",
     "text": [
      "_________________________________________________________________\n",
      "Layer (type)                 Output Shape              Param #   \n",
      "=================================================================\n",
      "input_4 (InputLayer)         (None, 128, 128, 1)       0         \n",
      "_________________________________________________________________\n",
      "conv2d_10 (Conv2D)           (None, 128, 128, 3)       6         \n",
      "_________________________________________________________________\n",
      "u-resnet34 (Model)           multiple                  24456154  \n",
      "=================================================================\n",
      "Total params: 24,456,160\n",
      "Trainable params: 24,438,810\n",
      "Non-trainable params: 17,350\n",
      "_________________________________________________________________\n"
     ]
    }
   ],
   "source": [
    "#Build your model \n",
    "from keras.layers import Reshape\n",
    "N = x_train.shape[-1]\n",
    "\n",
    "base_model = Unet(backbone_name='resnet34', encoder_weights='imagenet')\n",
    "\n",
    "inp = Input(shape=(128, 128, N))\n",
    "l1 = Conv2D(3, (1, 1))(inp) # map N channels data to 3 channels\n",
    "out = base_model(l1)\n",
    "#x = Conv2D(1, kernel_size=2,strides=2, activation=\"sigmoid\")(out)\n",
    "#x = Conv2D(1, kernel_size=2,strides=2, activation=\"sigmoid\")(x)\n",
    "#x = Conv2D(1, kernel_size=2,strides=2, activation=\"sigmoid\")(x)\n",
    "#x = Reshape((im_height, im_width))(x)\n",
    "\n",
    "model = Model(inp, out, name=base_model.name)\n",
    "model.summary()"
   ]
  },
  {
   "cell_type": "code",
   "execution_count": 0,
   "metadata": {
    "colab": {},
    "colab_type": "code",
    "id": "eL1lRlXDpIHl"
   },
   "outputs": [],
   "source": [
    "#Get the summary of your model\n"
   ]
  },
  {
   "cell_type": "code",
   "execution_count": 0,
   "metadata": {
    "colab": {
     "base_uri": "https://localhost:8080/",
     "height": 235
    },
    "colab_type": "code",
    "id": "cA4f4oYYpJA6",
    "outputId": "68a07fc1-9f92-4c00-9b99-f5cf54c0f66e"
   },
   "outputs": [
    {
     "name": "stdout",
     "output_type": "stream",
     "text": [
      "_________________________________________________________________\n",
      "Layer (type)                 Output Shape              Param #   \n",
      "=================================================================\n",
      "input_4 (InputLayer)         (None, 128, 128, 1)       0         \n",
      "_________________________________________________________________\n",
      "conv2d_10 (Conv2D)           (None, 128, 128, 3)       6         \n",
      "_________________________________________________________________\n",
      "u-resnet34 (Model)           multiple                  24456154  \n",
      "=================================================================\n",
      "Total params: 24,456,160\n",
      "Trainable params: 24,438,810\n",
      "Non-trainable params: 17,350\n",
      "_________________________________________________________________\n"
     ]
    }
   ],
   "source": [
    "model.summary()"
   ]
  },
  {
   "cell_type": "code",
   "execution_count": 0,
   "metadata": {
    "colab": {},
    "colab_type": "code",
    "id": "tYYxqWxJrbxw"
   },
   "outputs": [],
   "source": [
    "import tensorflow as tf\n",
    "from keras.optimizers import Adam\n",
    "from tensorflow.keras.losses import binary_crossentropy\n",
    "# compile model\n",
    "model.compile(optimizer='Adam', loss=loss, metrics=[dice_coefficient])"
   ]
  },
  {
   "cell_type": "markdown",
   "metadata": {
    "colab_type": "text",
    "id": "6UYvb8OdpLV5"
   },
   "source": [
    "### 10. Fit your model using model.fit function.\n",
    "Hint - As it might take long time to run. Run it for only 1 or 2 epochs."
   ]
  },
  {
   "cell_type": "code",
   "execution_count": 0,
   "metadata": {
    "colab": {
     "base_uri": "https://localhost:8080/",
     "height": 104
    },
    "colab_type": "code",
    "id": "bFw1Yq06pQbp",
    "outputId": "a19cf9a1-9171-4b52-c6bc-0ff77cb3c93f"
   },
   "outputs": [
    {
     "name": "stdout",
     "output_type": "stream",
     "text": [
      "Train on 3400 samples, validate on 600 samples\n",
      "Epoch 1/1\n",
      "3400/3400 [==============================] - 55s 16ms/step - loss: 0.8624 - dice_coefficient: 0.6237 - val_loss: 1.9393 - val_dice_coefficient: 0.3602\n"
     ]
    },
    {
     "data": {
      "text/plain": [
       "<keras.callbacks.History at 0x7f1aae369438>"
      ]
     },
     "execution_count": 38,
     "metadata": {
      "tags": []
     },
     "output_type": "execute_result"
    }
   ],
   "source": [
    "model.fit(\n",
    "    x=x_train,\n",
    "    y=y_train,\n",
    "    batch_size=50,    \n",
    "    epochs=1,\n",
    "    validation_data=(x_val, y_valid)\n",
    ")"
   ]
  },
  {
   "cell_type": "markdown",
   "metadata": {
    "colab_type": "text",
    "id": "iH34vMq9pSnh"
   },
   "source": [
    "### 11.Predict on val set using model.predict funtion and store in preds_val variable.\n",
    "\n"
   ]
  },
  {
   "cell_type": "code",
   "execution_count": 0,
   "metadata": {
    "colab": {
     "base_uri": "https://localhost:8080/",
     "height": 50
    },
    "colab_type": "code",
    "id": "FymN5QpopXW-",
    "outputId": "93569bee-e451-43b2-a7cb-e5ed8c3a3794"
   },
   "outputs": [
    {
     "name": "stdout",
     "output_type": "stream",
     "text": [
      "600/600 [==============================] - 3s 6ms/step\n"
     ]
    },
    {
     "data": {
      "text/plain": [
       "[1.947978728612264, 0.3599412161111832]"
      ]
     },
     "execution_count": 39,
     "metadata": {
      "tags": []
     },
     "output_type": "execute_result"
    }
   ],
   "source": [
    "model.evaluate(x_val, y_valid, verbose=1)"
   ]
  },
  {
   "cell_type": "code",
   "execution_count": 0,
   "metadata": {
    "colab": {
     "base_uri": "https://localhost:8080/",
     "height": 50
    },
    "colab_type": "code",
    "id": "RCUlVDqswC4S",
    "outputId": "d603c572-1c30-47fb-d9e4-a197b2a6de94"
   },
   "outputs": [
    {
     "name": "stdout",
     "output_type": "stream",
     "text": [
      "3400/3400 [==============================] - 15s 4ms/step\n",
      "600/600 [==============================] - 2s 3ms/step\n"
     ]
    }
   ],
   "source": [
    "# Predict on train, val and test\n",
    "preds_train = model.predict(x_train, verbose=1)\n",
    "preds_val = model.predict(x_val, verbose=1)"
   ]
  },
  {
   "cell_type": "code",
   "execution_count": 0,
   "metadata": {
    "colab": {},
    "colab_type": "code",
    "id": "uKkpE3vEpXi8"
   },
   "outputs": [],
   "source": [
    "#Get the threshold predictions to look at refined results.\n",
    "preds_val_t = (preds_val > 0.5).astype(np.uint8)"
   ]
  },
  {
   "cell_type": "code",
   "execution_count": 0,
   "metadata": {
    "colab": {},
    "colab_type": "code",
    "id": "Pyn3RyCRpaRH"
   },
   "outputs": [],
   "source": [
    "#Plot a sample\n",
    "def plot_sample(X, y, preds, binary_preds, ix=None):\n",
    "    if ix is None:\n",
    "        ix = random.randint(0, len(X))\n",
    "\n",
    "    has_mask = y[ix].max() > 0\n",
    "\n",
    "    fig, ax = plt.subplots(1, 4, figsize=(20, 10))\n",
    "    ax[0].imshow(X[ix, ..., 0], cmap='seismic')\n",
    "    if has_mask:\n",
    "        ax[0].contour(y[ix].squeeze(), colors='k', levels=[0.5])\n",
    "    ax[0].set_title('Seismic')\n",
    "\n",
    "    ax[1].imshow(y[ix].squeeze())\n",
    "    ax[1].set_title('Salt')\n",
    "\n",
    "    ax[2].imshow(preds[ix].squeeze(), vmin=0, vmax=1)\n",
    "    if has_mask:\n",
    "        ax[2].contour(y[ix].squeeze(), colors='k', levels=[0.5])\n",
    "    ax[2].set_title('Salt Predicted')\n",
    "    \n",
    "    ax[3].imshow(binary_preds[ix].squeeze(), vmin=0, vmax=1)\n",
    "    if has_mask:\n",
    "        ax[3].contour(y[ix].squeeze(), colors='k', levels=[0.5])\n",
    "    ax[3].set_title('Salt Predicted binary');"
   ]
  },
  {
   "cell_type": "code",
   "execution_count": 0,
   "metadata": {
    "colab": {
     "base_uri": "https://localhost:8080/",
     "height": 328
    },
    "colab_type": "code",
    "id": "s_h5fcgYpbyR",
    "outputId": "3aa5f294-1f78-4152-aa43-845560c8d63a"
   },
   "outputs": [
    {
     "data": {
      "image/png": "[encoded data removed]",
      "text/plain": [
       "<Figure size 1440x720 with 4 Axes>"
      ]
     },
     "metadata": {
      "tags": []
     },
     "output_type": "display_data"
    }
   ],
   "source": [
    "# Check if valid data looks all right\n",
    "plot_sample(X_valid, y_valid, preds_val, preds_val_t, ix=15)"
   ]
  },
  {
   "cell_type": "markdown",
   "metadata": {
    "colab_type": "text",
    "id": "oasnhlaDpeU0"
   },
   "source": [
    "If you are getting good results- Congratulations.\n",
    "If you are not, try to explore what might be the reason."
   ]
  },
  {
   "cell_type": "markdown",
   "metadata": {
    "colab_type": "text",
    "id": "yllJR0PQpm4M"
   },
   "source": [
    "# Text generation using a RNN"
   ]
  },
  {
   "cell_type": "markdown",
   "metadata": {
    "colab_type": "text",
    "id": "2W6g03QsptwG"
   },
   "source": [
    "Given a sequence of words from this data, train a model to predict the next word in the sequence. Longer sequences of text can be generated by calling the model repeatedly."
   ]
  },
  {
   "cell_type": "markdown",
   "metadata": {
    "colab_type": "text",
    "id": "hbd3E0IuHwjz"
   },
   "source": [
    "**Mount your Google Drive**"
   ]
  },
  {
   "cell_type": "code",
   "execution_count": 0,
   "metadata": {
    "colab": {
     "base_uri": "https://localhost:8080/",
     "height": 34
    },
    "colab_type": "code",
    "id": "Dikrw1ylHtAL",
    "outputId": "9afec411-40f0-4cb0-dc5a-6529df2553f5"
   },
   "outputs": [
    {
     "name": "stdout",
     "output_type": "stream",
     "text": [
      "Drive already mounted at /gdrive; to attempt to forcibly remount, call drive.mount(\"/gdrive\", force_remount=True).\n"
     ]
    }
   ],
   "source": [
    "from google.colab import drive\n",
    "drive.mount('/gdrive')"
   ]
  },
  {
   "cell_type": "markdown",
   "metadata": {
    "colab_type": "text",
    "id": "fnIX_mLXHdxS"
   },
   "source": [
    "### Import Keras and other libraries"
   ]
  },
  {
   "cell_type": "code",
   "execution_count": 0,
   "metadata": {
    "colab": {},
    "colab_type": "code",
    "id": "0TmrQuvpHdxU"
   },
   "outputs": [],
   "source": [
    "import tensorflow as tf\n",
    "tf.reset_default_graph()\n",
    "tf.set_random_seed(42)"
   ]
  },
  {
   "cell_type": "markdown",
   "metadata": {
    "colab_type": "text",
    "id": "zKBXQflGlPjG"
   },
   "source": [
    "## Download data\n",
    "Reference: Data is collected from http://www.gutenberg.org\n",
    "\n",
    "For the lab purpose, you can load the dataset provided by Great Learning"
   ]
  },
  {
   "cell_type": "markdown",
   "metadata": {
    "colab_type": "text",
    "id": "s321mV4DHdxZ"
   },
   "source": [
    "### Load the Oscar Wilde dataset\n",
    "\n",
    "Store all the \".txt\" file names in a list"
   ]
  },
  {
   "cell_type": "code",
   "execution_count": 0,
   "metadata": {
    "colab": {},
    "colab_type": "code",
    "id": "VUanlzNJHdxa"
   },
   "outputs": [],
   "source": [
    "project_path = \"/gdrive/My Drive/Colab Notebooks/Advanced Computer Vision/Lab/\"\n",
    "import os\n",
    "os.mkdir('/gdrive/My Drive/Colab Notebooks/Advanced Computer Vision/Lab/data')\n",
    "os.chdir('/gdrive/My Drive/Colab Notebooks/Advanced Computer Vision/Lab/data')\n",
    "\n",
    "#For simplicity we have added the required code here.\n",
    "from zipfile import ZipFile\n",
    "\n",
    "with ZipFile(project_path + 'data.zip', 'r') as zf:\n",
    "  zf.extractall()"
   ]
  },
  {
   "cell_type": "code",
   "execution_count": 0,
   "metadata": {
    "colab": {},
    "colab_type": "code",
    "id": "sorJtMgPzhue"
   },
   "outputs": [],
   "source": [
    "#Getting the image list \n",
    "import os\n",
    "project_path = \"/gdrive/My Drive/Colab Notebooks/Advanced Computer Vision/Lab/\"\n",
    "filenames  = os.listdir(project_path+'/data/data/')"
   ]
  },
  {
   "cell_type": "code",
   "execution_count": 0,
   "metadata": {
    "colab": {
     "base_uri": "https://localhost:8080/",
     "height": 544
    },
    "colab_type": "code",
    "id": "mA9CPl2VvfbN",
    "outputId": "6050f415-5ab0-4757-a06e-6192ad265ffb"
   },
   "outputs": [
    {
     "data": {
      "text/plain": [
       "['For Love of the King.txt',\n",
       " 'Salomé A tragedy in one act.txt',\n",
       " 'Impressions of America.txt',\n",
       " 'The Canterville Ghost.txt',\n",
       " 'A House of Pomegranates.txt',\n",
       " 'Miscellaneous Aphorisms_ The Soul of Man.txt',\n",
       " 'A Woman of No Importance a play.txt',\n",
       " 'Essays and Lectures.txt',\n",
       " 'The Happy Prince and other tales.txt',\n",
       " 'Rose Leaf and Apple Leaf.txt',\n",
       " 'Vera or, The Nihilists.txt',\n",
       " 'Lord Arthur Savile_s Crime.txt',\n",
       " 'Poems with the Ballad of Reading Gaol.txt',\n",
       " 'Selected poems of oscar wilde including The Ballad of Reading Gaol.txt',\n",
       " 'Charmides and Other Poems.txt',\n",
       " 'An Ideal Husband.txt',\n",
       " 'The Duchess of Padua.txt',\n",
       " 'Oscar Wilde Miscellaneous.txt',\n",
       " 'The Ballad of Reading Gaol.txt',\n",
       " 'Shorter Prose Pieces.txt',\n",
       " 'Children in Prison and Other Cruelties of Prison Life.txt',\n",
       " 'Reviews.txt',\n",
       " 'A Critic in Pall Mall.txt',\n",
       " 'De Profundis.txt',\n",
       " 'Miscellanies.txt',\n",
       " 'The Importance of Being Earnest.txt',\n",
       " 'Selected prose of oscar wilde with a Preface by Robert Ross.txt',\n",
       " 'The Soul of Man.txt',\n",
       " 'Lady Windermere_s Fan.txt',\n",
       " 'Intentions.txt',\n",
       " 'The Picture of Dorian Gray.txt']"
      ]
     },
     "execution_count": 7,
     "metadata": {
      "tags": []
     },
     "output_type": "execute_result"
    }
   ],
   "source": [
    "filenames"
   ]
  },
  {
   "cell_type": "code",
   "execution_count": 0,
   "metadata": {
    "colab": {},
    "colab_type": "code",
    "id": "23a0Z-Wxt0yW"
   },
   "outputs": [],
   "source": [
    "# Considering only a couple of files as the system is getting crashed with the complete data\n",
    "filenames = filenames[0:2]"
   ]
  },
  {
   "cell_type": "code",
   "execution_count": 0,
   "metadata": {
    "colab": {
     "base_uri": "https://localhost:8080/",
     "height": 34
    },
    "colab_type": "code",
    "id": "W3sWIXvJuGby",
    "outputId": "1dac02b3-8ee5-4379-8ad9-a7acb728987d"
   },
   "outputs": [
    {
     "data": {
      "text/plain": [
       "['For Love of the King.txt', 'Salomé A tragedy in one act.txt']"
      ]
     },
     "execution_count": 9,
     "metadata": {
      "tags": []
     },
     "output_type": "execute_result"
    }
   ],
   "source": [
    "filenames"
   ]
  },
  {
   "cell_type": "markdown",
   "metadata": {
    "colab_type": "text",
    "id": "glr4hv6uZkL-"
   },
   "source": [
    "### Read the data\n",
    "\n",
    "Read contents of every file from the list and append the text in a new list"
   ]
  },
  {
   "cell_type": "code",
   "execution_count": 0,
   "metadata": {
    "colab": {
     "base_uri": "https://localhost:8080/",
     "height": 68
    },
    "colab_type": "code",
    "id": "zLrMMjrkRt9x",
    "outputId": "a1cca259-138c-4ff6-82e1-827d54533aca"
   },
   "outputs": [
    {
     "name": "stdout",
     "output_type": "stream",
     "text": [
      "Length of the document For Love of the King.txt in words: 7015\n",
      "Length of the document Salomé A tragedy in one act.txt in words: 16218\n",
      "No. of Documents in the book:  2\n"
     ]
    }
   ],
   "source": [
    "book_text=[]\n",
    "for file in filenames:\n",
    "  doc_text = open(project_path+'/data/data/'+file, encoding='utf8').read() #reading the book as a string\n",
    "  book_text.append(doc_text)\n",
    "  words=doc_text.split()\n",
    "  print('Length of the document '+file+' in words:' , len(words))\n",
    "print('No. of Documents in the book: ' , len(book_text))"
   ]
  },
  {
   "cell_type": "markdown",
   "metadata": {
    "colab_type": "text",
    "id": "jMX-Fu-GHdxj"
   },
   "source": [
    "## Process the text\n",
    "Initialize and fit the tokenizer"
   ]
  },
  {
   "cell_type": "code",
   "execution_count": 0,
   "metadata": {
    "colab": {},
    "colab_type": "code",
    "id": "zQf1AV8wHdxl"
   },
   "outputs": [],
   "source": [
    "#Tokenize at word level\n",
    "#t = tf.keras.preprocessing.text.text_to_word_sequence(text=book_text[0],lower=False)\n",
    "\n",
    "#Fit tokenizer on the book\n",
    "#t.fit_on_texts(book_text)\n",
    "\n",
    "#Vocablury size\n",
    "#vocab_size = len(set(t))\n",
    "\n",
    "#print('Number of unique words: ', vocab_size)"
   ]
  },
  {
   "cell_type": "code",
   "execution_count": 0,
   "metadata": {
    "colab": {
     "base_uri": "https://localhost:8080/",
     "height": 34
    },
    "colab_type": "code",
    "id": "7nD4UK9MY6-j",
    "outputId": "4bba7acf-c7c6-4fab-80c6-75bc8b495eab"
   },
   "outputs": [
    {
     "name": "stdout",
     "output_type": "stream",
     "text": [
      "Number of unique words:  3260\n"
     ]
    }
   ],
   "source": [
    "#Tokenize at word level\n",
    "t = tf.keras.preprocessing.text.Tokenizer()\n",
    "\n",
    "#Fit tokenizer on the book\n",
    "t.fit_on_texts(book_text)\n",
    "\n",
    "#Vocablury size\n",
    "vocab_size = len(t.word_index)\n",
    "\n",
    "print('Number of unique words: ', vocab_size)"
   ]
  },
  {
   "cell_type": "code",
   "execution_count": 0,
   "metadata": {
    "colab": {
     "base_uri": "https://localhost:8080/",
     "height": 88
    },
    "colab_type": "code",
    "id": "nkoNgIi-a6kQ",
    "outputId": "5afa720f-e65f-4ec8-c39f-8560d4a2337b"
   },
   "outputs": [
    {
     "name": "stdout",
     "output_type": "stream",
     "text": [
      "OrderedDict([('\\ufeffthe', 2), ('project', 173), ('gutenberg', 193), ('ebook', 21), ('for', 155), ('love', 18), ('of', 851), ('the', 1474), ('king', 51), ('by', 95), ('oscar', 14), ('wilde', 22), ('this', 166), ('is', 448), ('use', 26), ('anyone', 10), ('anywhere', 4), ('at', 147), ('no', 89), ('cost', 6), ('and', 465), ('with', 216), ('almost', 6), ('restrictions', 4), ('whatsoever', 10), ('you', 364), ('may', 56), ('copy', 24), ('it', 292), ('give', 39), ('away', 11), ('or', 167), ('re', 4), ('under', 18), ('terms', 42), ('license', 32), ('included', 6), ('online', 8), ('www', 22), ('org', 26), ('title', 7), ('a', 486), ('burmese', 15), ('masque', 4), ('author', 5), ('release', 2), ('date', 6), ('october', 1), ('28', 1), ('2007', 1), ('23229', 4), ('language', 5), ('english', 10), ('character', 2), ('set', 24), ('encoding', 1), ('iso', 1), ('646', 1), ('us', 22), ('ascii', 5), ('start', 7), ('transcribed', 1), ('from', 86), ('1922', 2), ('methuen', 3), ('co', 3), ('jarrold', 1), ('sons', 6), ('edition', 5), ('david', 1), ('price', 5), ('email', 6), ('ccx074', 1), ('pglaf', 7), ('ltd', 2), ('36', 1), ('essex', 1), ('street', 4), ('w', 2), ('c', 14), ('london', 2), ('first', 51), ('published', 2), ('in', 354), ('on', 113), ('handmade', 1), ('paper', 3), ('limited', 11), ('to', 467), ('1000', 1), ('copies', 15), ('introductory', 1), ('note', 3), ('very', 27), ('interesting', 2), ('richly', 1), ('coloured', 6), ('pantomimic', 1), ('play', 21), ('which', 50), ('here', 22), ('printed', 6), ('book', 2), ('form', 12), ('time', 12), ('was', 81), ('invented', 1), ('sometime', 1), ('1894', 2), ('possibly', 1), ('little', 24), ('earlier', 1), ('written', 14), ('not', 275), ('publication', 2), ('but', 89), ('as', 83), ('personal', 3), ('gift', 1), (\"author's\", 2), ('friend', 5), ('his', 96), ('family', 1), ('mrs', 6), ('chan', 5), ('toon', 5), ('sent', 11), ('her', 110), ('letter', 5), ('that', 288), ('follows', 1), ('explains', 4), ('its', 37), ('origin', 1), ('before', 12), ('marriage', 8), ('mr', 16), ('gentleman', 1), ('nephew', 1), ('burma', 1), ('barrister', 1), ('middle', 3), ('temple', 5), ('miss', 5), ('mabel', 1), ('cosgrove', 2), ('daughter', 44), ('ernest', 1), ('lancaster', 1), ('gate', 2), ('sir', 3), ('william', 1), ('lady', 1), ('herself', 12), ('brought', 7), ('up', 24), ('brother', 10), ('willie', 1), ('long', 14), ('while', 11), ('who', 105), ('after', 3), (\"husband's\", 1), ('death', 9), ('became', 1), ('woodhouse', 1), ('pearse', 1), ('refused', 1), ('permit', 1), ('be', 115), ('late', 5), ('robert', 4), ('ross', 2), ('much', 17), ('wanted', 1), ('include', 3), ('an', 50), (\"wilde's\", 2), ('works', 65), ('now', 17), ('forms', 2), ('part', 13), ('he', 249), ('could', 7), ('obtain', 7), (\"owner's\", 1), ('consent', 2), ('arrangement', 1), ('however', 6), ('having', 2), ('been', 21), ('completed', 1), ('made', 12), ('public', 19), ('tite', 1), ('chelsea', 1), ('november', 1), ('27', 1), ('my', 101), ('dear', 3), ('i', 423), ('am', 56), ('greatly', 1), ('repentant', 1), ('being', 4), ('so', 42), ('acknowledging', 1), ('receipt', 5), ('told', 3), ('pagoda', 7), ('enjoyed', 1), ('reading', 4), ('stories', 1), ('admired', 2), ('their', 41), ('quaint', 1), ('delicate', 1), ('charm', 1), ('burmah', 5), ('calls', 1), ('me', 161), ('another', 5), ('cover', 6), ('sending', 3), ('fairy', 2), ('entitled', 1), ('just', 7), ('your', 49), ('own', 3), ('amusement', 1), ('outcome', 1), ('luminous', 1), ('talks', 2), ('distinguished', 2), ('husband', 3), ('river', 4), ('days', 14), ('when', 39), ('meditating', 1), ('writing', 8), ('novel', 2), ('beautiful', 13), ('intricate', 1), ('persian', 1), ('praying', 1), ('rug', 1), ('hope', 3), ('have', 139), ('caught', 2), ('atmosphere', 1), ('should', 21), ('like', 101), ('see', 41), ('acted', 1), ('garden', 10), ('house', 2), ('some', 22), ('night', 16), ('sky', 5), ('sheet', 1), ('violet', 2), ('stars', 9), (\"women's\", 1), ('eyes', 26), ('alas', 1), ('likely', 1), ('throes', 1), ('new', 13), ('comedy', 1), ('met', 3), ('perfectly', 2), ('wonderful', 8), ('person', 10), ('other', 39), ('day', 19), ('unconsciously', 1), ('has', 108), ('irradiated', 1), ('present', 5), ('sinuous', 1), ('suggestion', 1), ('swedish', 1), ('baron', 1), ('french', 8), ('manner', 1), ('athenian', 1), ('mind', 1), ('oriental', 4), ('morals', 1), ('society', 1), ('series', 1), ('revelations', 1), ('oakley', 1), ('thursday', 2), ('mother', 13), ('tells', 7), ('she', 124), ('sends', 1), ('nearly', 5), ('every', 5), ('week', 2), ('constance', 1), ('desires', 6), ('warmly', 1), ('remembered', 1), ('bathing', 1), ('brow', 1), ('perfume', 1), ('water', 6), ('lilies', 4), ('lay', 2), ('myself', 2), ('feet', 17), ('yours', 3), ('principal', 3), ('characters', 1), ('meng', 19), ('beng', 19), ('lord', 24), ('thousand', 2), ('white', 23), ('elephants', 2), ('countless', 2), ('umbrellas', 1), ('attributes', 1), ('greatness', 3), ('u', 15), ('rai', 9), ('gyan', 9), ('thoo', 9), ('prime', 1), ('minister', 3), ('shah', 1), ('mah', 20), ('phru', 20), ('girl', 7), ('half', 12), ('italian', 3), ('dazzling', 1), ('beauty', 10), ('dhammathat', 1), ('legal', 5), ('adviser', 1), ('court', 5), ('hip', 4), ('loong', 4), ('chinese', 4), ('wizard', 11), ('great', 30), ('repute', 1), ('moung', 3), ('pho', 3), ('mhin', 3), ('finance', 1), ('two', 23), ('envoys', 1), ('ceylon', 3), ('nobles', 1), ('courtiers', 5), ('soothsayers', 1), ('poonygees', 2), ('dancing', 4), ('girls', 4), ('betel', 2), ('nut', 2), ('carriers', 1), ('umbrella', 1), ('bearers', 2), ('followers', 2), ('servants', 6), ('slaves', 6), ('amongst', 3), ('whom', 16), ('are', 190), ('several', 3), ('indians', 1), ('sixteenth', 1), ('century', 1), ('act', 6), ('scene', 16), ('palace', 13), ('laid', 1), ('hall', 4), ('hundred', 5), ('doors', 4), ('distance', 4), ('can', 51), ('seen', 21), ('moat', 1), ('waiting', 3), ('peacocks', 10), ('promenading', 1), ('proudly', 1), ('blinding', 1), ('sunshine', 1), ('afternoon', 2), ('discovers', 4), ('seated', 7), ('raised', 2), ('cushion', 1), ('sewn', 3), ('rubies', 3), ('canopy', 1), ('supported', 1), ('four', 5), ('attendants', 3), ('motionless', 3), ('bronze', 3), ('figures', 2), ('side', 3), ('box', 3), ('glittering', 1), ('gems', 1), ('either', 3), ('him', 92), ('lower', 1), ('down', 10), ('ambassadors', 6), (\"ceylon's\", 2), ('only', 27), (\"years'\", 1), ('men', 20), ('grave', 1), ('majestic', 1), ('mien', 2), ('clad', 2), ('flowing', 1), ('robes', 1), ('monastic', 1), ('simplicity', 1), ('they', 85), ('smoke', 1), ('gravely', 1), ('invitation', 1), ('round', 8), ('about', 27), ('grouped', 1), ('kneeling', 2), ('background', 1), ('wait', 2), ('banners', 2), ('propelled', 1), ('measured', 2), ('rhythm', 1), ('create', 1), ('agreeable', 1), ('breeze', 2), ('table', 4), ('gold', 11), ('stand', 3), ('goblets', 3), ('heaped', 5), ('fruits', 4), ('everywhere', 6), ('will', 146), ('observed', 1), ('emblems', 1), ('royal', 3), ('peacock', 10), ('sacred', 1), ('elephant', 4), ('musical', 3), ('instruments', 2), ('sound', 8), ('abrupt', 1), ('charming', 3), ('discord', 1), ('poinsettias', 1), ('flower', 5), ('punctuates', 1), ('points', 1), ('deepest', 2), ('colour', 6), ('out', 22), ('vases', 1), ('fashioned', 3), ('lotus', 1), ('orchids', 1), ('indescribable', 2), ('scent', 2), ('steals', 1), ('across', 6), ('footlights', 1), ('glow', 1), ('sun', 11), ('swept', 1), ('vista', 1), ('sweeps', 1), ('senses', 1), ('claps', 1), ('hands', 10), ('signal', 1), ('advance', 2), ('dresses', 2), ('fish', 1), ('scales', 1), ('fastened', 1), ('diamonds', 1), ('pale', 9), ('emeralds', 1), ('imitate', 2), ('upthrown', 1), ('spray', 1), ('crest', 1), ('wave', 1), ('dance', 40), ('concluded', 1), ('cingalese', 1), ('rise', 3), ('prepare', 5), ('take', 9), ('ceremonious', 1), ('leave', 5), ('them', 45), ('through', 12), ('vizier', 3), ('message', 1), ('majesty', 1), ('inscribed', 1), ('palm', 3), ('leaves', 7), ('enclosed', 1), ('bejewelled', 1), ('casket', 1), ('many', 9), ('flowery', 1), ('speeches', 1), ('pass', 7), ('exit', 3), ('l', 3), ('walking', 1), ('backwards', 1), ('expresses', 2), ('desire', 9), ('rest', 2), ('starting', 1), ('moon', 31), ('taboung', 1), ('4', 15), ('golden', 10), ('flowers', 9), ('alcove', 1), ('satin', 1), ('hangings', 1), ('commands', 1), ('view', 4), ('crowd', 3), ('break', 4), ('into', 22), ('groups', 2), ('converse', 4), ('tendency', 1), ('interference', 2), ('affairs', 2), ('state', 13), ('extreme', 1), ('youth', 1), ('delicacy', 1), ('temperament', 1), ('pity', 1), ('delayed', 1), ('necessity', 1), ('find', 10), ('distraction', 1), ('meantime', 1), ('suddenly', 2), ('tom', 1), ('toms', 1), ('loudly', 1), ('there', 61), ('movement', 1), ('rises', 8), ('over', 8), ('sea', 10), ('torches', 6), ('flare', 1), ('move', 3), ('fro', 1), ('gardens', 4), ('beyond', 4), ('trappings', 1), ('led', 1), ('entrance', 1), ('where', 25), ('word', 11), ('sinks', 3), ('obediently', 1), ('ground', 3), ('appears', 6), ('changed', 2), ('gay', 2), ('apple', 2), ('green', 5), ('dress', 3), ('one', 46), ('more', 23), ('sombre', 8), ('hue', 1), ('enters', 2), ('howdah', 1), ('procession', 1), ('starts', 1), ('consists', 1), ('fewer', 1), ('than', 21), ('persons', 3), ('keeping', 5), ('audience', 3), ('until', 3), ('lost', 1), ('bend', 1), ('avenue', 1), ('ii', 5), ('midnight', 1), ('surrounded', 2), ('peepul', 1), ('trees', 10), ('htee', 1), ('6', 7), ('crown', 3), ('myriad', 3), ('jewels', 5), ('towards', 4), ('star', 3), ('studded', 1), ('bells', 2), ('tinkling', 1), ('soft', 2), ('wind', 10), ('curtain', 10), ('circular', 1), ('platform', 2), ('deserted', 1), ('statues', 1), ('buddha', 2), ('recumbent', 1), ('fill', 4), ('numberless', 1), ('niches', 1), ('wall', 6), ('each', 7), ('burn', 2), ('candles', 1), ('pink', 2), ('roses', 6), ('japonica', 1), ('brass', 1), ('trays', 1), ('lit', 1), ('above', 5), ('swinging', 2), ('lamps', 1), ('intervals', 2), ('stalls', 1), ('laden', 1), ('fruit', 6), ('cheroots', 3), ('all', 77), ('mysterious', 3), ('solemn', 1), ('deep', 5), ('gong', 2), ('tolls', 1), ('people', 23), ('emerge', 1), ('staircases', 1), ('lead', 4), ('women', 6), ('children', 7), ('gala', 1), ('attire', 1), ('young', 50), ('conversing', 1), ('gesticulating', 1), ('smiling', 3), ('older', 1), ('subdued', 3), ('carry', 3), ('beads', 1), ('votive', 1), ('offering', 1), ('huge', 4), ('cigars', 1), ('meet', 4), ('greet', 2), ('handsome', 1), ('smoking', 2), ('wearing', 1), ('ears', 4), ('silently', 2), ('balls', 2), ('corners', 2), ('canopies', 1), ('fortune', 1), ('tellers', 1), ('busy', 1), ('casting', 1), ('horoscopes', 1), ('veritable', 1), ('riot', 1), ('never', 35), ('discordant', 1), ('passes', 2), ('alone', 6), ('unrecognised', 1), ('disappears', 1), ('double', 2), ('heavily', 1), ('carved', 2), ('teak', 1), ('wood', 2), ('hardly', 1), ('passed', 3), ('lovely', 3), ('distress', 1), ('whispers', 1), ('come', 53), ('few', 6), ('hear', 23), ('shrug', 1), ('shoulders', 1), ('smile', 3), ('incredulous', 1), ('goes', 7), ('group', 4), ('turn', 2), ('disdain', 1), ('then', 12), ('open', 3), ('throws', 2), ('fashion', 7), ('path', 2), ('pathos', 1), ('arrest', 1), ('attention', 3), ('waves', 2), ('aside', 3), ('those', 15), ('would', 32), ('interfere', 2), ('implores', 1), (\"king's\", 2), ('protection', 1), ('willing', 1), ('slave', 13), ('listens', 4), ('since', 6), (\"father's\", 1), ('continuously', 1), ('persecuted', 1), ('village', 1), ('count', 1), ('blood', 19), ('poverty', 3), ('invites', 1), ('hut', 3), ('forest', 5), ('verify', 1), ('what', 72), ('says', 18), ('gesture', 2), ('signifies', 1), ('follow', 6), ('leads', 1), ('gathers', 1), ('hushed', 1), ('silence', 9), ('entranced', 1), ('puts', 1), ('any', 86), ('way', 8), ('precedes', 1), ('going', 7), ('reaches', 2), ('staircase', 3), ('beckons', 1), ('downward', 1), ('hand', 11), ('grouping', 1), ('make', 16), ('rare', 1), ('iii', 3), ('humble', 1), ('dhunni', 1), ('thatched', 1), ('amidst', 1), ('whispering', 1), ('grandeur', 1), ('jungle', 3), ('mighty', 4), ('trackless', 1), ('paths', 1), ('amazement', 1), ('loneliness', 2), ('lot', 3), ('frightens', 1), ('enmity', 1), ('live', 5), ('yonder', 4), ('impossible', 5), ('sell', 1), ('cucumbers', 1), ('pineapples', 1), ('gaze', 4), ('face', 9), ('figure', 1), ('declares', 2), ('protect', 5), ('build', 1), ('home', 2), ('shadow', 3), ('around', 1), ('years', 16), ('unfettered', 1), ('freedom', 1), ('command', 7), ('life', 12), ('loves', 3), ('paradise', 1), ('together', 5), ('trembles', 1), ('joy', 2), ('fear', 8), ('surprise', 2), ('asks', 4), ('answers', 2), ('once', 5), ('noonday', 1), ('place', 11), ('building', 1), ('villa', 1), ('chunam', 1), ('curled', 2), ('roofs', 2), ('rising', 5), ('gilded', 6), ('adorned', 1), ('spiral', 1), ('carvings', 1), ('jewel', 1), ('encrusted', 1), ('broad', 3), ('verandahs', 1), ('thrown', 1), ('eastern', 3), ('carpets', 2), ('rugs', 1), ('embroideries', 1), ('world', 19), ('soaked', 1), ('surrounding', 2), ('sentinel', 1), ('burning', 1), ('light', 8), ('squat', 1), ('steps', 2), ('crows', 1), ('croak', 1), ('drowsily', 1), ('parrots', 2), ('scream', 1), ('intermittently', 2), ('guitar', 1), ('playing', 1), ('venetian', 2), ('song', 1), ('heard', 17), ('coming', 5), ('interior', 1), ('otherwise', 1), ('apparently', 2), ('sleeps', 1), ('elderly', 1), ('retainers', 1), ('thakin', 1), ('tire', 1), ('kindly', 1), ('contempt', 1), ('end', 7), ('already', 6), ('read', 8), ('dawn', 3), ('whence', 2), ('know', 25), ('heart', 1), ('choice', 1), ('war', 2), ('fate', 1), ('shifts', 1), ('kisses', 1), ('quiver', 1), ('gracefully', 1), ('appear', 4), ('r', 1), ('bearing', 3), ('shamiana', 1), ('tent', 3), ('silver', 24), ('poles', 1), ('chairs', 2), ('foot', 1), ('supports', 1), ('embroidered', 2), ('fans', 3), ('three', 7), ('musicians', 2), ('semi', 1), ('costume', 1), ('erected', 1), ('enter', 13), ('followed', 2), ('carrying', 2), ('tiny', 1), ('hips', 1), ('retire', 1), ('seat', 2), ('themselves', 9), ('carven', 1), ('placed', 2), ('given', 6), ('glass', 4), ('affection', 1), ('zephyr', 1), ('airs', 2), ('talk', 4), ('smokes', 1), ('cigar', 1), ('big', 3), ('yellow', 5), ('affected', 1), ('wants', 1), ('sadly', 1), ('happy', 13), ('god', 31), ('smiles', 3), ('radiantly', 1), ('suspects', 1), ('nothing', 25), ('richest', 1), ('mandalay', 1), ('silks', 1), ('wears', 6), ('nadoungs', 1), ('presently', 2), ('arranges', 1), ('ivory', 10), ('chessmen', 1), ('low', 2), ('between', 4), ('slowly', 8), ('approaching', 2), ('wheels', 1), ('preceded', 1), ('looks', 8), ('alarm', 1), ('etc', 2), ('forward', 4), ('presents', 1), ('does', 18), ('curtains', 2), ('opening', 2), ('dropped', 1), ('music', 6), ('ceases', 2), ('grand', 1), ('apart', 1), ('princess', 51), ('ship', 1), ('convoy', 1), ('sighted', 1), ('city', 4), ('eager', 1), ('expectancy', 1), ('worshipped', 2), ('enough', 6), ('subjects', 1), ('bride', 1), ('call', 6), ('terribly', 1), ('distressed', 1), ('return', 13), ('remain', 6), ('also', 19), ('dead', 26), ('seeks', 2), ('explain', 1), ('urgent', 1), ('back', 11), ('perhaps', 4), ('waning', 1), ('parting', 1), ('sad', 5), ('pensive', 1), ('sadness', 1), ('look', 64), ('peculiar', 3), ('mounts', 1), ('verandah', 2), ('watch', 2), ('go', 20), ('behind', 4), ('sinking', 3), ('cushions', 4), ('faints', 1), ('melancholy', 2), ('cry', 8), ('fills', 2), ('drop', 1), ('seven', 4), ('elapsed', 1), ('same', 6), ('high', 4), ('clearance', 1), ('full', 37), ('road', 2), ('watching', 3), ('always', 17), ('boys', 1), ('murmurs', 3), ('morrow', 3), ('without', 19), ('fail', 1), ('cries', 2), ('last', 4), ('returns', 3), ('bevy', 1), ('horsemen', 1), ('wondering', 1), ('descends', 3), ('dressed', 1), ('mourning', 1), ('fears', 1), ('worst', 1), ('old', 10), ('man', 45), ('reassures', 1), ('queen', 16), ('heir', 1), ('demands', 2), ('learns', 1), ('lover', 1), ('ruler', 1), ('country', 9), ('supreme', 2), ('master', 2), ('dictator', 1), ('everyone', 3), ('weeping', 1), ('daring', 1), ('disobey', 1), ('summons', 1), ('knees', 2), ('entreats', 1), ('moving', 1), ('pathetic', 2), ('words', 12), ('permitted', 5), ('lowest', 1), ('most', 9), ('menial', 1), ('capacity', 1), ('refuses', 1), ('even', 22), ('kings', 10), ('forget', 5), ('earth', 9), ('orders', 1), ('necessary', 2), ('arrangements', 1), ('safe', 1), ('journey', 1), ('future', 7), ('passive', 1), ('bewildered', 1), ('afraid', 22), ('risen', 2), ('if', 68), ('turned', 1), ('model', 1), ('restraint', 1), ('dignity', 1), ('blent', 1), ('infinite', 1), ('grace', 1), ('fitted', 1), ('things', 29), ('dragons', 4), ('jade', 3), ('gleaming', 1), ('dim', 1), ('buddhas', 2), ('gigantic', 2), ('size', 2), ('priceless', 1), ('metals', 1), ('heads', 4), ('fringes', 1), ('stones', 4), ('lanterns', 1), ('slides', 1), ('painted', 5), ('grotesque', 1), ('air', 10), ('joss', 1), ('sticks', 1), ('reclines', 1), ('divan', 1), ('inhaling', 1), ('opium', 1), ('clothed', 4), ('gorgeousness', 1), ('china', 1), ('blue', 6), ('tomato', 1), ('red', 17), ('predominate', 1), ('appearance', 1), ('wrinkled', 1), ('walnut', 1), ('forehead', 4), ('lattice', 1), ('work', 96), ('wrinkles', 1), ('pigtail', 1), ('braided', 1), ('twisted', 2), ('head', 20), ('claws', 1), ('effect', 1), ('weird', 1), ('unearthly', 1), ('motions', 1), ('piled', 1), ('unmoved', 1), ('recital', 1), ('tragedy', 3), ('pendulums', 1), ('finished', 1), ('speaking', 2), ('makes', 5), ('reply', 1), ('how', 32), ('passion', 2), ('ends', 1), ('lived', 1), ('planet', 1), ('ever', 11), ('listening', 4), ('again', 10), ('bird', 10), ('fly', 3), ('walk', 6), ('terrace', 7), ('rose', 4), ('trembling', 2), ('shall', 37), ('paddy', 1), ('because', 7), ('though', 3), ('woman', 19), ('foolish', 2), ('pure', 1), ('o', 3), ('dissents', 1), ('paces', 1), ('room', 1), ('transform', 1), ('leaning', 2), ('elbow', 1), ('revelation', 1), ('mocking', 1), ('comprehension', 1), ('bows', 1), ('lights', 1), ('fade', 1), ('colonnades', 1), ('stretch', 1), ('fountains', 1), ('throwing', 1), ('shower', 1), ('monstrous', 6), ('stately', 1), ('tread', 2), ('turf', 1), ('larger', 3), ('perched', 1), ('drooping', 1), ('folded', 1), ('tail', 3), ('pillared', 1), ('overhangs', 1), ('aglow', 1), ('yet', 6), ('holds', 1), ('shadowed', 1), ('perturbed', 1), ('accompanied', 2), ('physicians', 3), ('astrologers', 3), ('cannot', 26), ('say', 25), ('sudden', 2), ('illness', 1), ('attacked', 1), ('defies', 1), ('skill', 1), ('declare', 2), ('courses', 1), ('fight', 1), ('against', 16), ('recovery', 1), ('unless', 9), ('miracle', 3), ('happen', 13), ('ministers', 3), ('regard', 3), ('consternation', 1), ('bent', 1), ('spreads', 2), ('utters', 1), ('poignant', 1), ('pain', 1), ('listeners', 1), ('superstitious', 1), ('horror', 1), ('folds', 1), ('resumes', 1), ('meditations', 1), ('birds', 12), ('astrologer', 1), ('watched', 2), ('past', 3), ('others', 6), ('avoid', 1), ('think', 14), ('soul', 3), ('mistake', 1), ('replies', 1), ('colleague', 1), ('evil', 13), ('nat', 1), ('32', 2), ('observe', 2), ('spirit', 1), ('prison', 2), ('wake', 1), ('closes', 1), ('princes', 1), ('pegu', 1), ('hounds', 1), ('tones', 2), ('strolling', 1), ('pages', 3), ('honour', 2), ('grain', 1), ('proceed', 1), ('distribute', 13), ('rapidly', 1), ('approach', 4), ('stirs', 2), ('watches', 2), ('elder', 2), ('comes', 11), ('handful', 1), ('food', 1), ('proffers', 1), ('eat', 6), ('understand', 7), ('kingdom', 10), ('strokes', 1), ('feathers', 3), ('touch', 5), ('plumage', 1), ('scintillates', 1), ('brighter', 1), ('exquisite', 3), ('sheen', 1), ('mythical', 1), ('mortally', 2), ('stricken', 2), ('lies', 5), ('strange', 16), ('agony', 1), ('hearts', 1), ('himself', 24), ('numb', 1), ('sorrow', 1), ('knows', 4), ('eagerly', 1), ('speaker', 1), ('reign', 1), ('stead', 1), ('prospect', 1), ('must', 48), ('die', 4), ('dwell', 2), ('awaits', 1), ('wings', 13), ('flight', 1), ('crouches', 1), ('prince', 1), ('envelops', 1), ('both', 5), ('shaft', 2), ('purple', 6), ('servant', 2), ('grass', 2), ('shikoes', 1), ('profoundly', 1), ('lifting', 1), ('reverence', 1), ('nears', 1), ('unknown', 2), ('iv', 1), ('retreat', 1), ('returned', 1), ('human', 1), ('restored', 1), ('former', 1), ('implored', 1), ('do', 105), ('hours', 1), ('consequence', 1), ('such', 23), ('insensate', 1), ('folly', 1), ('breaking', 1), ('vow', 1), ('five', 4), ('happiness', 2), ('someone', 5), ('fairer', 2), ('well', 32), ('looked', 10), (\"heart's\", 1), ('beloved', 2), ('voice', 26), ('trembled', 1), ('footsteps', 1), ('waited', 1), ('gazed', 1), ('known', 2), ('content', 1), ('v', 1), ('bed', 3), ('chamber', 2), ('vast', 2), ('shadowy', 1), ('covers', 1), ('pearl', 1), ('creamy', 1), ('velvet', 1), ('baldaquin', 1), ('bears', 2), ('ashen', 1), ('pallor', 1), ('dark', 2), ('skins', 1), ('motley', 1), ('gathering', 1), ('scattered', 4), ('anxious', 3), ('murmuring', 1), ('space', 1), ('near', 5), ('couch', 1), ('clear', 1), ('breaks', 1), ('stealing', 1), ('flush', 1), ('till', 2), ('porphyry', 1), ('tolling', 1), ('voices', 1), ('invade', 1), ('throbbing', 1), ('murmur', 1), (\"everyone's\", 1), ('turns', 2), ('dying', 1), ('ascendant', 1), ('touches', 1), ('caress', 1), ('opens', 1), ('raise', 6), ('restorative', 1), ('rallies', 1), ('slightly', 1), ('far', 2), ('rudely', 1), ('opened', 2), ('advances', 1), ('thrusting', 1), ('roughly', 1), ('stretched', 1), ('bar', 1), ('bring', 18), ('saying', 2), ('falls', 4), ('rush', 2), ('stands', 1), ('erect', 1), ('benediction', 1), ('glitter', 1), ('whole', 5), ('sing', 1), ('footnotes', 1), ('greatest', 2), ('feasts', 1), ('buddhist', 1), ('year', 2), ('spire', 1), ('file', 4), ('named', 2), ('txt', 2), ('zip', 2), ('associated', 16), ('files', 4), ('various', 2), ('formats', 4), ('found', 10), ('http', 10), ('dirs', 1), ('2', 12), ('3', 22), ('updated', 2), ('editions', 8), ('replace', 2), ('previous', 2), ('renamed', 2), ('creating', 8), ('domain', 16), ('print', 2), ('means', 7), ('owns', 4), ('united', 20), ('states', 28), ('copyright', 28), ('these', 18), ('foundation', 44), ('permission', 14), ('paying', 4), ('royalties', 4), ('special', 2), ('rules', 4), ('forth', 23), ('general', 6), ('apply', 2), ('copying', 8), ('distributing', 14), ('tm', 112), ('electronic', 54), ('concept', 4), ('trademark', 22), ('registered', 4), ('used', 10), ('charge', 13), ('ebooks', 14), ('receive', 6), ('specific', 2), ('anything', 5), ('complying', 6), ('easy', 3), ('purpose', 4), ('creation', 2), ('derivative', 6), ('reports', 2), ('performances', 2), ('research', 4), ('modified', 2), ('practically', 2), ('redistribution', 4), ('subject', 6), ('especially', 2), ('commercial', 2), ('please', 9), ('mission', 8), ('promoting', 4), ('free', 10), ('distribution', 12), ('using', 8), ('phrase', 8), ('agree', 18), ('comply', 12), ('available', 6), ('section', 14), ('1', 95), ('redistributing', 4), ('indicate', 2), ('accept', 2), ('intellectual', 4), ('property', 4), ('agreement', 36), ('abide', 2), ('cease', 2), ('destroy', 4), ('possession', 2), ('paid', 12), ('fee', 16), ('obtaining', 4), ('access', 20), ('bound', 4), ('refund', 20), ('entity', 6), ('paragraph', 22), ('e', 46), ('8', 11), ('b', 6), ('below', 6), ('help', 6), ('preserve', 2), ('literary', 28), ('archive', 28), ('compilation', 2), ('collection', 8), ('individual', 8), ('located', 8), ('we', 38), ('claim', 2), ('right', 18), ('prevent', 2), ('performing', 6), ('displaying', 8), ('based', 4), ('references', 4), ('removed', 4), ('course', 5), ('support', 8), ('freely', 8), ('sharing', 2), ('compliance', 10), ('name', 6), ('easily', 2), ('format', 8), ('attached', 2), ('share', 2), ('d', 2), ('laws', 16), ('govern', 2), ('countries', 2), ('constant', 2), ('change', 4), ('outside', 7), ('check', 4), ('addition', 2), ('downloading', 2), ('representations', 2), ('concerning', 10), ('status', 8), ('following', 7), ('sentence', 4), ('active', 4), ('links', 6), ('immediate', 4), ('prominently', 4), ('whenever', 2), ('accessed', 2), ('displayed', 2), ('performed', 5), ('viewed', 2), ('copied', 4), ('distributed', 8), ('derived', 2), ('contain', 4), ('notice', 6), ('indicating', 2), ('posted', 8), ('holder', 8), ('fees', 8), ('charges', 2), ('providing', 8), ('appearing', 2), ('requirements', 8), ('paragraphs', 6), ('7', 8), ('9', 7), ('additional', 8), ('imposed', 2), ('linked', 2), ('beginning', 2), ('unlink', 2), ('detach', 2), ('remove', 2), ('containing', 2), ('5', 9), ('display', 2), ('perform', 2), ('redistribute', 2), ('convert', 2), ('binary', 2), ('compressed', 2), ('marked', 4), ('nonproprietary', 2), ('proprietary', 2), ('including', 17), ('processing', 2), ('hypertext', 2), ('provide', 14), ('plain', 4), ('vanilla', 4), ('official', 6), ('version', 2), ('web', 11), ('site', 8), ('expense', 2), ('user', 6), ('exporting', 2), ('upon', 18), ('request', 2), ('original', 3), ('alternate', 2), ('specified', 4), ('viewing', 2), ('reasonable', 3), ('provided', 8), ('pay', 4), ('royalty', 6), ('20', 2), ('gross', 2), ('profits', 2), ('derive', 2), ('calculated', 2), ('method', 2), ('calculate', 2), ('applicable', 6), ('taxes', 2), ('owed', 2), ('owner', 10), ('agreed', 2), ('donate', 10), ('payments', 6), ('within', 19), ('60', 2), ('legally', 2), ('required', 2), ('periodic', 2), ('tax', 12), ('clearly', 2), ('address', 2), ('information', 17), ('donations', 30), ('money', 8), ('notifies', 2), ('mail', 2), ('30', 2), ('s', 12), ('require', 3), ('possessed', 2), ('physical', 4), ('medium', 10), ('discontinue', 2), ('accordance', 4), ('f', 22), ('replacement', 10), ('defect', 6), ('discovered', 2), ('reported', 2), ('90', 4), ('wish', 13), ('different', 2), ('michael', 4), ('hart', 4), ('contact', 10), ('volunteers', 12), ('employees', 4), ('expend', 2), ('considerable', 4), ('effort', 4), ('identify', 2), ('transcribe', 2), ('proofread', 2), ('despite', 2), ('efforts', 6), ('stored', 2), ('defects', 2), ('incomplete', 2), ('inaccurate', 2), ('corrupt', 2), ('data', 2), ('transcription', 2), ('errors', 2), ('infringement', 2), ('defective', 6), ('damaged', 2), ('disk', 2), ('computer', 4), ('virus', 2), ('codes', 2), ('damage', 4), ('equipment', 6), ('warranty', 4), ('disclaimer', 6), ('damages', 8), ('except', 8), ('described', 2), ('party', 2), ('disclaim', 2), ('liability', 6), ('costs', 4), ('expenses', 4), ('remedies', 2), ('negligence', 2), ('strict', 2), ('breach', 4), ('contract', 2), ('f3', 1), ('distributor', 2), ('liable', 2), ('actual', 3), ('direct', 2), ('indirect', 2), ('consequential', 2), ('punitive', 2), ('incidental', 2), ('possibility', 3), ('discover', 2), ('receiving', 2), ('explanation', 4), ('received', 11), ('elect', 2), ('lieu', 4), ('electronically', 4), ('choose', 2), ('second', 36), ('opportunity', 2), ('demand', 3), ('further', 2), ('opportunities', 2), ('fix', 2), ('problem', 2), (\"'as\", 2), (\"is'\", 2), ('warranties', 6), ('kind', 3), ('express', 2), ('implied', 4), ('merchantibility', 1), ('fitness', 2), ('allow', 7), ('disclaimers', 2), ('certain', 5), ('exclusion', 2), ('limitation', 6), ('types', 2), ('violates', 2), ('law', 4), ('interpreted', 2), ('maximum', 2), ('invalidity', 2), ('unenforceability', 2), ('provision', 2), ('void', 2), ('remaining', 2), ('provisions', 2), ('indemnity', 2), ('indemnify', 2), ('hold', 3), ('agent', 2), ('employee', 2), ('production', 5), ('promotion', 2), ('harmless', 2), ('arise', 2), ('directly', 2), ('indirectly', 2), ('cause', 5), ('occur', 2), ('alteration', 2), ('modification', 2), ('additions', 2), ('deletions', 2), ('synonymous', 2), ('readable', 4), ('widest', 4), ('variety', 2), ('computers', 4), ('obsolete', 2), ('aged', 2), ('exists', 2), ('hundreds', 2), ('walks', 2), ('financial', 2), ('assistance', 2), ('need', 2), ('critical', 2), ('reaching', 2), (\"tm's\", 2), ('goals', 2), ('ensuring', 2), ('generations', 4), ('2001', 2), ('created', 4), ('secure', 2), ('permanent', 2), ('learn', 3), ('sections', 2), ('page', 25), ('fundraising', 3), ('non', 2), ('profit', 2), ('501', 2), ('educational', 2), ('corporation', 2), ('organized', 2), ('mississippi', 2), ('granted', 2), ('exempt', 4), ('internal', 2), ('revenue', 2), ('service', 2), (\"foundation's\", 6), ('ein', 2), ('federal', 4), ('identification', 2), ('number', 6), ('64', 2), ('6221541', 2), ('contributions', 4), ('deductible', 2), ('extent', 2), (\"state's\", 2), ('office', 4), ('4557', 2), ('melan', 2), ('dr', 6), ('fairbanks', 2), ('ak', 2), ('99712', 2), ('throughout', 2), ('numerous', 2), ('locations', 4), ('business', 3), ('809', 2), ('north', 2), ('1500', 2), ('west', 2), ('salt', 2), ('lake', 3), ('ut', 2), ('84116', 2), ('801', 2), ('596', 2), ('1887', 2), ('gregory', 2), ('newby', 2), ('chief', 2), ('executive', 2), ('director', 2), ('gbnewby', 2), ('depends', 2), ('survive', 2), ('wide', 2), ('spread', 3), ('increasing', 2), ('licensed', 2), ('machine', 2), ('accessible', 2), ('array', 2), ('outdated', 2), ('small', 4), ('000', 2), ('particularly', 3), ('important', 2), ('maintaining', 2), ('irs', 2), ('committed', 2), ('regulating', 2), ('charities', 2), ('charitable', 2), ('50', 2), ('uniform', 2), ('takes', 4), ('paperwork', 2), ('keep', 8), ('solicit', 4), ('confirmation', 2), ('send', 2), ('determine', 2), ('particular', 4), ('visit', 4), ('solicitation', 2), ('prohibition', 2), ('accepting', 2), ('unsolicited', 2), ('donors', 2), ('offers', 2), ('international', 2), ('gratefully', 2), ('accepted', 4), ('statements', 2), ('treatment', 2), ('swamp', 2), ('our', 15), ('staff', 2), ('current', 2), ('donation', 2), ('methods', 2), ('addresses', 3), ('ways', 3), ('checks', 2), ('credit', 3), ('card', 2), ('professor', 2), ('originator', 2), ('library', 2), ('shared', 3), ('thirty', 1), ('produced', 6), ('loose', 3), ('network', 2), ('volunteer', 2), ('often', 5), ('confirmed', 2), ('thus', 6), ('necessarily', 2), ('main', 2), ('pg', 2), ('search', 2), ('facility', 2), ('includes', 2), ('produce', 3), ('subscribe', 2), ('newsletter', 2), ('salomé', 151), ('illustrator', 2), ('aubrey', 5), ('beardsley', 5), ('translator', 1), ('alfred', 2), ('douglas', 2), ('12', 2), ('2013', 1), ('42704', 4), ('marc', 2), (\"d'hooghe\", 2), ('freeliterature', 2), ('images', 4), ('generously', 2), ('internet', 2), ('illustration', 16), ('translated', 3), ('sixteen', 1), ('drawings', 1), ('john', 5), ('lane', 2), ('bodley', 1), ('york', 1), ('company', 1), ('mcmvii', 1), ('design', 2), ('herod', 95), ('antipas', 2), ('tetrarch', 37), ('judæa', 7), ('jokanaan', 74), ('prophet', 31), ('syrian', 35), ('captain', 8), ('guard', 1), ('tigellinus', 10), ('roman', 2), ('cappadocian', 20), ('nubian', 2), ('soldier', 60), ('herodias', 91), ('jews', 6), ('nazarenes', 2), ('naaman', 4), ('executioner', 7), ('wife', 10), ('household', 1), ('wherever', 1), ('spoken', 4), ('plays', 3), ('history', 1), ('1892', 1), ('rehearsal', 1), ('madame', 3), ('bernhardt', 3), ('theatre', 2), ('prohibited', 1), ('censor', 2), ('immediately', 1), ('announced', 1), ('intention', 1), ('changing', 1), ('nationality', 1), ('characteristic', 1), ('jest', 1), ('taken', 3), ('seriously', 1), ('oddly', 1), ('ireland', 1), ('seldom', 1), ('popular', 1), ('heartily', 1), ('endorsed', 1), ('critics', 4), ('greeted', 1), ('chorus', 1), ('ridicule', 1), ('noted', 1), ('passing', 4), ('least', 3), ('violent', 1), ('reviews', 1), ('were', 19), ('pens', 1), ('unsuccessful', 1), ('dramatists', 1), ('whose', 12), ('went', 1), ('ollendorff', 1), ('glad', 3), ('venerable', 1), ('school', 1), ('classic', 1), ('unsuspected', 1), ('asset', 1), ('education', 1), ('handy', 1), ('missile', 1), ('pelt', 1), ('correctness', 1), ('impugned', 1), ('although', 1), ('scrip', 1), ('had', 12), ('writer', 3), ('attributed', 1), ('times', 4), ('depreciating', 1), ('drama', 4), ('gave', 6), ('tour', 1), ('de', 5), ('force', 1), ('capable', 1), ('drew', 1), ('march', 1), ('1893', 1), ('p', 1), ('editor', 1), ('drawn', 1), ('review', 2), ('columns', 1), ('opinions', 1), ('mine', 5), ('interest', 1), ('write', 2), ('simply', 2), ('ask', 21), ('correct', 1), ('misstatement', 1), ('question', 2), ('fact', 2), ('tragic', 1), ('actress', 3), ('stage', 6), ('living', 1), ('saw', 5), ('heroine', 1), ('lend', 1), ('entire', 1), ('poem', 1), ('glamour', 1), ('personality', 1), ('prose', 2), ('flute', 3), ('naturally', 1), ('source', 1), ('pride', 1), ('pleasure', 6), ('delight', 1), ('seeing', 2), ('mme', 1), ('paris', 2), ('vivid', 1), ('centre', 1), ('art', 12), ('religious', 1), ('dramas', 1), ('sense', 1), ('actor', 1), ('nor', 7), ('artisan', 1), ('literature', 2), ('artist', 3), ('obedient', 1), ('obloquy', 1), ('inspiration', 1), ('finest', 1), ('cordially', 1), ('disliked', 1), ('motives', 1), ('suitable', 1), ('material', 1), ('odd', 1), ('tangent', 1), ('tactile', 1), ('values', 1), ('amusing', 1), ('caricatures', 1), ('frontispiece', 1), ('pieces', 3), ('vraisemblance', 1), ('designs', 2), ('colophon', 1), ('real', 1), ('masterpiece', 1), ('witty', 1), ('criticism', 2), ('club', 3), ('1905', 3), ('dramatic', 3), ('expressed', 1), ('vehemently', 1), ('vociferating', 1), ('regrets', 1), ('dragged', 1), ('obscurity', 1), ('obscure', 2), ('become', 9), ('europe', 1), ('regularly', 1), ('holland', 1), ('sweden', 1), ('italy', 1), ('france', 1), ('russia', 1), ('european', 1), ('czech', 1), ('repertoire', 1), ('german', 1), ('shakespeare', 1), ('owing', 1), ('popularity', 1), ('continental', 2), ('theatres', 1), ('strauss', 2), ('preparing', 1), ('remarkable', 2), ('opera', 2), ('moment', 4), ('appeared', 1), ('criticisms', 1), ('refer', 2), ('dresden', 1), ('december', 1), ('journalists', 1), ('correspondents', 1), ('founded', 1), ('evade', 1), ('awkward', 1), ('truth', 9), ('palpable', 1), ('contravention', 1), ('wishes', 3), ('theories', 1), ('hedwig', 1), (\"lachmann's\", 1), ('admirable', 1), ('translation', 1), ('transfigured', 1), ('ordinary', 1), ('operatic', 1), ('nonsense', 1), ('suit', 1), ('score', 1), ('susceptibilities', 1), ('admirers', 1), ('mortified', 1), ('occasion', 2), ('composition', 1), ('ago', 2), ('consigned', 1), ('oblivion', 1), ('shambles', 1), ('rhetorical', 1), ('period', 1), ('seems', 5), ('contemplated', 1), ('theme', 1), ('profundis', 1), ('refrains', 1), ('recurring', 1), ('motifs', 1), (\"'salomé'\", 1), ('piece', 2), ('bind', 1), ('ballad', 1), ('still', 3), ('incarcerated', 1), ('1896', 1), ('mons', 1), ('luigne', 3), ('poë', 3), ('théâtre', 1), ('libre', 1), ('lina', 1), ('muntz', 1), ('role', 1), ('rather', 1), ('reference', 2), ('occurs', 1), ('wrote', 1), ('gratified', 1), ('performance', 4), ('thanks', 2), ('conveyed', 1), ('something', 9), ('disgrace', 1), ('shame', 1), ('regarded', 1), ('feel', 1), ('seem', 1), ('emotions', 1), ('anguish', 1), ('despair', 1), ('let', 30), ('sensible', 1), ('done', 6), ('poet', 1), ('answer', 3), ('try', 1), ('lemaitre', 1), ('bauer', 1), ('sarcey', 1), ('said', 14), (\"'salomé\", 1), (\"'\", 1), ('bias', 1), ('friendship', 1), ('precludes', 1), ('praising', 1), ('defending', 1), ('might', 3), ('add', 2), ('reputation', 1), ('detractors', 1), ('sources', 1), ('obvious', 1), ('flaubert', 1), ('maeterlinck', 1), ('style', 1), ('essay', 1), ('critic', 1), ('greater', 2), ('contemporaries', 1), ('catalogue', 2), ('intensely', 1), (\"christie's\", 1), ('exciting', 1), ('auction', 1), ('fighting', 1), ('sisera', 1), ('remarked', 1), ('confuses', 1), ('mat', 2), ('xi', 1), ('xiv', 1), ('agrippa', 1), ('acts', 1), ('xiii', 1), ('confusion', 1), ('intentional', 1), ('mediæval', 1), ('mystery', 3), ('type', 1), ('historical', 1), ('valuable', 1), ('laboriously', 1), ('point', 2), ('anachronisms', 1), (\"beardsley's\", 1), ('plagiarism', 1), ('venture', 1), ('mention', 1), ('recollection', 1), ('complained', 1), ('stolen', 1), ('idea', 1), ('pleaded', 1), ('defence', 1), ('culprit', 1), ('fearless', 1), ('thief', 1), ('fellow', 1), ('usual', 1), ('drawling', 1), ('emphasis', 1), ('tulip', 3), ('petals', 5), (\"else's\", 1), ('impelled', 1), ('grow', 2), ('reason', 3), ('why', 14), ('recent', 1), ('1906', 1), ('ebullition', 1), ('rancour', 1), ('deliberate', 1), ('misrepresentation', 1), ('majority', 1), ('parade', 1), ('ignorance', 1), ('account', 2), ('mounting', 1), ('charles', 3), ('ricketts', 1), ('responsible', 1), ('marvellous', 2), ('impersonation', 1), ('farquharson', 2), ('mirror', 2), ('dull', 1), ('dulness', 1), ('vulgar', 1), ('vulgarity', 1), ('list', 2), ('pictures', 2), ('skirt', 2), ('black', 23), ('cape', 2), ('platonic', 2), ('lament', 2), ('10', 1), ('11', 1), ('stomach', 2), ('toilette', 4), ('13', 1), ('14', 1), (\"dancer's\", 2), ('reward', 3), ('15', 1), ('climax', 2), ('16', 1), ('cul', 2), ('lampe', 2), ('cast', 1), ('represented', 1), ('england', 1), ('10th', 1), ('13th', 1), ('herbert', 1), ('alexander', 1), ('gwendolen', 1), ('bishop', 1), ('gee', 1), ('ralph', 1), ('rohan', 1), ('dalmon', 1), ('vincent', 1), ('nello', 1), ('evelyn', 1), ('osborn', 1), ('millicent', 1), ('murby', 1), ('carrie', 1), ('keith', 1), ('louise', 1), ('salom', 1), ('delph', 1), ('stansfeld', 1), ('jew', 16), ('stanley', 1), ('smith', 2), ('bernhard', 1), ('third', 4), ('bate', 1), ('fourth', 2), ('stephen', 1), ('bagehot', 1), ('fifth', 2), ('frederick', 1), ('lawrence', 1), ('banqueting', 2), ('soldiers', 9), ('balcony', 1), ('left', 7), ('cistern', 11), ('moonlight', 1), ('tomb', 2), ('fancy', 3), ('looking', 12), ('veil', 4), ('doves', 6), ('moves', 2), ('noise', 1), ('uproar', 1), ('wild', 2), ('beasts', 1), ('howling', 1), ('disputing', 1), ('religion', 2), ('dispute', 2), ('tell', 20), ('doing', 2), ('pharisees', 1), ('instance', 2), ('angels', 7), ('sadducees', 1), ('exist', 3), ('ridiculous', 8), ('too', 13), ('dangerous', 2), ('terrible', 25), ('yes', 16), ('filled', 2), ('cup', 7), ('mitre', 1), ('pearls', 2), ('hair', 13), ('powdered', 1), ('dust', 2), (\"tetrarch's\", 2), ('fond', 2), ('wine', 29), ('sorts', 1), ('island', 1), ('samothrace', 1), ('cloak', 2), ('cæsar', 21), ('town', 3), ('called', 2), ('cyprus', 1), ('sicily', 1), ('gods', 4), ('twice', 1), ('sacrifice', 1), ('maidens', 2), ('fifty', 3), ('quite', 4), ('harsh', 1), ('romans', 4), ('driven', 1), ('hidden', 6), ('mountains', 5), ('believe', 6), ('nights', 2), ('seeking', 5), ('did', 18), ('names', 1), ('worship', 1), ('altogether', 2), ('mightier', 1), ('worthy', 1), ('unloose', 1), ('latchet', 1), ('shoes', 1), ('cometh', 7), ('solitary', 1), ('places', 2), ('blossom', 2), ('lily', 1), ('blind', 4), ('deaf', 1), ('born', 2), ('child', 5), ('put', 6), (\"dragon's\", 1), ('lair', 1), ('lions', 2), ('manes', 1), ('silent', 11), ('holy', 3), ('gentle', 1), ('desert', 3), ('fed', 2), ('locusts', 1), ('honey', 1), (\"camel's\", 1), ('loins', 2), ('leathern', 1), ('belt', 1), ('multitude', 3), ('disciples', 2), ('talking', 3), ('sometimes', 2), ('forbidden', 3), ('fan', 6), ('fluttering', 1), ('dove', 3), ('cots', 1), ('butterflies', 2), ('pointing', 2), ('unhealthy', 1), ('oh', 13), ('imprisoned', 1), ('twelve', 2), ('kill', 7), ('strangled', 2), ('dared', 1), ('negro', 1), ('ring', 7), ('thing', 19), ('strangle', 1), ('neck', 2), ('folk', 1), ('leaving', 1), ('troubled', 4), ('ah', 42), ('pray', 5), ('strayed', 1), ('narcissus', 1), ('stay', 9), (\"mole's\", 1), ('shaking', 1), ('eyelids', 4), ('feast', 3), ('sweet', 2), ('breathe', 2), ('jerusalem', 3), ('tearing', 1), ('ceremonies', 1), ('barbarians', 1), ('drink', 6), ('spill', 1), ('pavement', 1), ('greeks', 3), ('smyrna', 1), ('cheeks', 1), ('frizzed', 1), ('coils', 1), ('subtle', 1), ('egyptians', 1), ('nails', 1), ('russett', 1), ('cloaks', 1), ('brutal', 1), ('coarse', 2), ('uncouth', 1), ('jargon', 1), ('loathe', 1), ('rough', 1), ('common', 1), ('noble', 3), ('lords', 1), ('speak', 25), ('good', 5), ('cold', 4), ('chaste', 3), ('sure', 14), ('virgin', 4), (\"virgin's\", 1), ('defiled', 1), ('abandoned', 1), ('goddesses', 1), ('hath', 18), ('son', 3), ('centaurs', 1), ('rivers', 2), ('sirens', 1), ('lying', 1), ('beneath', 4), ('cried', 3), ('bid', 7), ('litter', 3), ('fair', 9), ('prays', 1), ('pardon', 1), ('misfortune', 8), ('better', 5), ('suffer', 7), ('elias', 10), ('ancient', 1), ('rejoice', 1), ('thou', 55), ('land', 4), ('palestine', 1), ('rod', 1), ('smote', 1), ('thee', 33), ('broken', 2), ('seed', 1), ('serpent', 1), ('basilisk', 1), ('devour', 2), ('priest', 2), ('banquet', 2), ('dare', 2), ('pit', 1), ('beg', 1), ('lives', 1), ('belong', 2), ('asked', 5), ('indeed', 4), ('tiling', 1), ('narraboth', 6), ('talked', 3), ('formally', 1), ('gateway', 1), ('idol', 2), ('sellers', 1), ('fall', 7), ('bridge', 1), ('buyers', 1), ('muslin', 2), ('veils', 4), ('signing', 1), ('shroud', 1), ('amber', 3), ('clouds', 3), ('abominations', 4), ('robe', 2), ('waste', 1), ('houses', 1), ('walls', 1), ('chaldeans', 1), ('limned', 1), ('colours', 2), ('unto', 6), ('lust', 1), ('chaldea', 1), ('speaks', 8), ('captains', 2), ('assyria', 1), ('baldricks', 1), ('tiaras', 1), ('divers', 1), ('egypt', 3), ('fine', 1), ('linen', 1), ('shields', 4), ('helmets', 1), ('bodies', 3), ('incestuousness', 1), ('prepareth', 1), ('repent', 2), ('iniquities', 2), ('stick', 1), ('fast', 1), ('beseech', 3), ('holes', 1), ('burned', 2), ('tyrian', 1), ('tapestry', 1), ('caverns', 2), ('lairs', 1), ('lakes', 1), ('fantastic', 1), ('moons', 3), ('wasted', 1), ('thin', 1), ('statue', 1), ('image', 1), ('moonbeam', 2), ('flesh', 1), ('cool', 1), ('closer', 2), ('wherefore', 12), ('doth', 2), ('begone', 1), ('babylon', 4), ('chosen', 1), ('thy', 63), ('sins', 2), ('sodom', 3), ('scatter', 1), ('ashes', 1), ('thine', 6), ('get', 3), ('seek', 2), ('beating', 9), ('angel', 5), ('dost', 4), ('sword', 3), ('seekest', 1), ('foul', 1), ('speaketh', 2), ('amorous', 1), ('body', 19), ('field', 1), ('mower', 1), ('mowed', 1), ('snows', 2), ('lie', 3), ('valleys', 1), ('arabia', 3), ('neither', 4), ('perfumed', 1), ('spices', 1), ('breast', 3), ('came', 3), ('listen', 6), ('hideous', 1), ('leper', 2), ('plastered', 2), ('vipers', 1), ('crawled', 1), ('scorpions', 1), ('nest', 1), ('whitened', 1), ('sepulchre', 1), ('loathsome', 1), ('horrible', 3), ('enamoured', 1), ('clusters', 2), ('grapes', 2), ('hang', 1), ('vine', 1), ('edom', 2), ('edomites', 1), ('cedars', 2), ('lebanon', 2), ('shade', 1), ('robbers', 1), ('hide', 7), ('hides', 2), ('dwells', 1), ('profane', 1), ('covered', 2), ('mire', 1), ('thorns', 1), ('knot', 1), ('serpents', 1), ('writhing', 1), ('mouth', 23), ('band', 1), ('scarlet', 4), ('tower', 2), ('pomegranate', 2), ('cut', 2), ('knife', 1), ('tyre', 1), ('redder', 4), ('blasts', 1), ('trumpets', 1), ('herald', 1), ('enemy', 4), ('press', 2), ('haunt', 1), ('temples', 1), ('priests', 1), ('slain', 6), ('lion', 1), ('tigers', 2), ('branch', 1), ('coral', 3), ('fishers', 1), ('twilight', 1), ('vermilion', 3), ('moabites', 1), ('mines', 1), ('moab', 1), ('bow', 2), ('persians', 1), ('tipped', 1), ('kiss', 14), ('myrrh', 1), ('kills', 1), ('perfumes', 5), ('ear', 1), ('rings', 1), ('wrought', 1), ('killed', 7), ('foretell', 1), ('foretold', 2), ('happened', 1), ('knew', 2), ('sought', 2), ('cavern', 1), ('beatings', 1), ('adultery', 1), ('save', 5), ('spake', 3), ('boat', 1), ('galilee', 2), ('talketh', 1), ('kneel', 1), ('shore', 1), ('thyself', 2), ('remission', 1), ('cursed', 1), ('incestuous', 3), ('accursed', 4), ('bear', 2), ('care', 1), ('nearer', 2), ('agate', 1), ('wore', 1), ('evening', 3), ('among', 1), ('almond', 1), ('player', 1), ('loved', 9), ('reproach', 1), ('commanded', 1), ('mad', 5), ('lovers', 2), ('naked', 4), ('clothe', 1), ('nakedness', 1), ('shows', 3), ('reels', 1), ('drunken', 4), ('reel', 1), ('manesseh', 1), ('tables', 2), ('jasper', 1), ('delicious', 2), ('guests', 4), ('show', 3), ('honours', 2), ('await', 1), ('slipped', 4), ('ill', 4), ('omen', 5), ('gives', 3), ('corpse', 1), ('sire', 9), ('order', 1), ('thought', 2), ('philosophers', 2), ('true', 6), ('rome', 11), ('stoics', 2), ('oneself', 1), ('everybody', 3), ('laughs', 1), ('emperor', 2), ('satire', 2), ('recited', 1), ('everything', 5), ('sorry', 3), ('languorous', 1), ('remember', 4), ('languorously', 1), ('truly', 4), ('father', 2), ('drove', 1), ('guest', 1), ('ho', 3), ('blowing', 3), ('blows', 1), ('longer', 2), ('doubt', 1), ('sick', 4), ('pour', 3), ('dip', 1), ('lips', 2), ('drain', 1), ('thirsty', 1), ('gazing', 1), ('ripe', 5), ('mark', 1), ('teeth', 2), ('bite', 2), ('hungry', 2), ('race', 1), ('camel', 1), ('driver', 1), ('robber', 1), ('liest', 1), ('knowest', 1), ('sit', 1), ('next', 1), ('throne', 2), ('tired', 1), ('thinks', 1), ('lo', 2), ('saith', 3), ('spoke', 1), ('vomiting', 1), ('insults', 2), ('besides', 1), ('prophets', 1), ('moreover', 1), ('insulting', 1), ('deliver', 3), ('six', 1), ('months', 2), ('clamouring', 1), ('hideth', 1), ('therefore', 3), ('evils', 2), ('verily', 2), ('knoweth', 1), ('peradventure', 2), ('showeth', 1), ('doctrine', 2), ('schools', 1), ('alexandria', 1), ('teach', 1), ('philosophy', 1), ('gentiles', 1), ('circumcised', 1), ('worketh', 3), ('knowledge', 1), ('needs', 1), ('submit', 1), ('strong', 3), ('breaketh', 2), ('weak', 2), ('regardeth', 1), ('brays', 1), ('corn', 1), ('mortar', 1), ('weary', 2), ('nazarene', 17), ('nay', 7), ('saviour', 2), ('mean', 2), ('yesterday', 1), ('letters', 1), ('contained', 1), ('matter', 8), ('during', 1), ('winter', 1), ('explaining', 1), (\"cæsar's\", 3), ('titles', 1), ('gouty', 1), ('reasons', 1), ('loses', 1), ('howbeit', 1), ('nevertheless', 1), ('messias', 3), ('messiah', 1), ('miracles', 4), ('took', 1), ('importance', 1), ('related', 1), ('healed', 3), ('lepers', 3), ('capernaum', 2), ('touching', 1), ('mountain', 1), ('sadducee', 2), ('pharisee', 1), (\"dreamer's\", 1), ('dream', 2), ('strikes', 1), ('jairus', 3), ('gainsay', 1), ('raises', 1), ('yea', 1), ('raiseth', 1), ('forbid', 2), ('hard', 2), ('samaria', 3), ('samaritans', 2), ('offerings', 1), ('neighbourhood', 1), ('tidings', 1), ('heal', 2), ('deed', 1), ('wanton', 2), ('harlot', 2), ('stone', 1), ('pierce', 1), ('swords', 1), ('crush', 2), ('infamous', 1), ('wipe', 1), ('wickedness', 1), ('revile', 2), ('tore', 1), ('arms', 1), ('stronger', 1), ('mindful', 1), ('sackcloth', 2), ('heavens', 2), ('figs', 3), ('fig', 1), ('tree', 1), ('hate', 1), ('omens', 2), ('drunk', 3), ('vineyards', 1), ('gathered', 1), ('forgotten', 1), ('else', 2), ('restoration', 1), ('sanctuary', 2), ('disappeared', 1), ('didst', 12), ('steal', 1), ('speakest', 1), ('random', 1), ('laughing', 2), ('obeys', 1), ('whether', 1), ('naught', 1), ('exceeding', 1), ('precious', 1), ('gifts', 1), ('promised', 3), ('summon', 1), ('cappadocia', 4), ('crucify', 3), ('able', 1), ('mar', 1), ('blasphemies', 1), ('smite', 1), ('eaten', 4), ('worms', 4), ('sinned', 1), ('taking', 1), ('sterile', 5), ('absurd', 1), ('borne', 2), ('gotten', 1), ('peace', 1), ('lack', 1), ('humour', 1), ('custom', 1), ('hunt', 1), ('sunrise', 1), ('shown', 1), ('hither', 3), ('giant', 1), ('swear', 3), ('sworn', 11), ('wilt', 2), ('icy', 1), ('hovers', 1), ('beat', 1), ('breath', 1), ('chill', 1), ('hot', 1), ('choking', 1), ('snow', 1), ('loosen', 2), ('mantle', 3), ('quick', 2), ('garland', 2), ('hurts', 1), ('fire', 2), ('tears', 1), ('wreath', 1), ('stains', 2), ('cloth', 1), ('symbols', 1), ('danced', 3), ('oaths', 1), ('coward', 2), ('owes', 1), ('repay', 1), ('insulted', 1), ('wounding', 1), ('prophesied', 3), ('tarry', 1), ('awaiting', 1), ('off', 2), ('sandals', 3), (\"'tis\", 2), ('spilt', 1), ('hast', 2), ('waded', 1), ('therein', 1), ('prophesy', 1), ('ye', 3), ('falling', 1), ('becoming', 1), ('bozra', 1), ('raiment', 2), ('dyed', 1), ('shineth', 1), ('garments', 1), ('walketh', 1), ('stained', 2), ('maddens', 1), ('continually', 1), ('crying', 1), ('avail', 1), ('ready', 1), ('dances', 1), ('dancers', 1), ('royally', 1), ('desireth', 1), ('wouldst', 5), ('charger', 6), ('surely', 4), ('daughters', 1), ('treasures', 3), (\"mother's\", 2), ('giving', 1), ('counsel', 1), ('heed', 2), ('oath', 3), ('swore', 1), ('yield', 1), ('awful', 1), ('jesting', 1), ('none', 2), ('hearken', 1), ('emerald', 6), ('minion', 1), ('carries', 2), ('circus', 1), ('largest', 1), ('trouble', 2), ('grievously', 1), ('mirrors', 2), ('masks', 1), ('thirst', 1), ('friends', 1), (\"was't\", 1), ('myrtles', 2), ('tall', 1), ('cypress', 2), ('beaks', 1), ('grains', 1), ('rain', 1), ('tails', 1), ('tend', 1), ('anon', 1), ('crouch', 1), ('possesses', 1), ('whithersoever', 1), ('midst', 2), ('cloud', 2), ('empties', 1), ('beast', 1), ('prey', 1), ('wearies', 1), ('perchance', 2), ('finger', 1), ('touched', 1), ('possible', 2), ('furthermore', 1), ('died', 1), ('case', 1), ('dies', 1), ('entered', 1), ('calm', 3), ('collar', 1), ('rows', 1), ('chained', 1), ('rays', 1), ('net', 1), ('worn', 1), ('shalt', 1), ('wearest', 1), ('amethysts', 1), ('kinds', 1), ('topazes', 3), ('pigeon', 1), ('cats', 1), ('opals', 2), ('icelike', 1), ('flame', 1), (\"men's\", 1), ('minds', 1), ('fearful', 1), ('shadows', 1), ('onyxes', 1), ('eyeballs', 1), ('moonstones', 1), ('changes', 1), ('wan', 1), ('sapphires', 1), ('eggs', 1), ('wanders', 1), ('chrysolites', 1), ('beryls', 1), ('chrysoprases', 1), ('sardonyx', 1), ('hyacinth', 1), ('chalcedony', 1), ('indies', 1), ('numidia', 1), ('garment', 1), ('ostrich', 1), ('crystal', 1), ('lawful', 1), ('behold', 1), ('beaten', 1), ('rods', 1), ('coffer', 3), ('nacre', 1), ('wondrous', 1), ('turquoises', 1), ('imagine', 1), ('ebony', 1), ('cups', 2), ('apples', 1), ('poison', 2), ('incrusted', 2), ('mantles', 1), ('seres', 1), ('bracelets', 1), ('decked', 2), ('carbuncles', 1), ('euphrates', 1), ('desirest', 2), ('askest', 1), ('approaches', 1), ('draws', 1), ('straightway', 1), ('scared', 1), ('befall', 2), ('ought', 1), ('pledge', 1), ('leans', 1), ('struggle', 1), ('strike', 3), ('fallen', 1), ('headsman', 1), ('sees', 1), ('wert', 3), ('recoils', 1), ('recoil', 1), ('arm', 2), ('shield', 1), ('seizes', 1), ('begin', 2), ('bites', 1), ('rage', 1), ('scorn', 2), ('shut', 2), ('lift', 1), ('tongue', 1), ('snake', 1), ('darting', 1), ('viper', 2), ('spat', 1), ('venom', 1), ('reject', 1), ('treat', 1), ('belongs', 1), ('throw', 1), ('dogs', 2), ('hateful', 1), ('column', 1), ('socket', 1), ('censer', 1), ('curses', 1), ('covering', 2), ('hadst', 3), ('athirst', 1), ('appease', 1), ('floods', 1), ('waters', 1), ('quench', 1), ('virginity', 1), ('veins', 1), ('consider', 1), ('crime', 2), ('approve', 1), ('manasseh', 1), ('issachar', 1), ('ozias', 1), ('ourselves', 1), ('disappear', 1), ('crosses', 1), ('conceals', 1), ('completely', 1), ('becomes', 1), ('begins', 1), ('climb', 1), ('kissed', 3), ('bitter', 2), ('taste', 4), ('turning', 1), ('0', 1), ('merchantability', 1), ('forty', 1)])\n",
      "2\n",
      "defaultdict(<class 'int'>, {'baron': 1, 'proprietary': 2, 'used': 2, 'thrown': 1, 'gesticulating': 1, 'call': 2, 'they': 2, 'assistance': 2, 'compilation': 2, 'amidst': 1, 'phrase': 2, 'corrupt': 2, 'efforts': 2, 'against': 2, 'restored': 1, 'disclaim': 2, \"owner's\": 1, 'legal': 2, 'seen': 2, 'user': 2, '801': 2, 'set': 2, 'five': 2, 'capacity': 1, 'two': 2, 'removed': 2, 'confirmation': 2, 'reassures': 1, 'foolish': 2, 'fees': 2, 'double': 1, 'strokes': 1, 'gravely': 1, 'preceded': 1, 'expresses': 1, 'cigar': 1, 'wheels': 1, 'november': 1, 'rhythm': 1, 'regard': 2, 'hounds': 1, 'charge': 2, '000': 2, 'big': 2, 'yellow': 2, 'reported': 2, 'attached': 2, 'methuen': 1, 'recumbent': 1, 'beads': 1, 'receiving': 2, 'listens': 2, 'pain': 1, 'group': 2, 'gay': 1, 'electronic': 2, 'using': 2, 'ivory': 2, 'life': 2, 'contempt': 1, 'stead': 1, 'unsolicited': 2, 'turf': 1, 'current': 2, 'proffers': 1, 'the': 2, 'midnight': 1, 'promoting': 2, 'garden': 2, 'included': 2, 'paddy': 1, 'chief': 2, 'obtain': 2, 'inhaling': 1, 'replacement': 2, 'aside': 1, 'raised': 2, 'comes': 2, 'trappings': 1, 'thursday': 2, 'time': 2, 'precedes': 1, 'provide': 2, 'leads': 1, 'low': 2, 'ascendant': 1, '64': 2, 'first': 2, 'go': 2, 'explains': 1, 'act': 2, 'studded': 1, 'ebooks': 2, 'my': 2, 'eyes': 2, 'form': 2, 'just': 2, 'silver': 2, 'beauty': 2, 'domain': 2, 'utters': 1, 'unless': 2, 'greatest': 2, 'asks': 2, 'honour': 2, 'especially': 2, 'should': 2, 'further': 2, 'touch': 2, 'scent': 1, 'easily': 2, 'discordant': 1, 'gaze': 2, 'erect': 1, 'week': 2, 'course': 2, 'niches': 1, 'velvet': 1, 'zephyr': 1, 'be': 2, 'music': 2, 'silently': 1, 'state': 2, 'nobles': 1, 'wants': 1, 'statements': 2, 'gleaming': 1, 'may': 2, 'sea': 2, 'extent': 2, 'walking': 1, 'pensive': 1, 'thakin': 1, 'pages': 2, 'brow': 1, 'passive': 1, 'following': 2, 'give': 2, 'nut': 1, 'she': 2, 'apart': 1, 'origin': 1, 'ceylon': 1, 'descends': 1, 'mail': 2, 'implored': 1, 'binary': 2, 'howdah': 1, 'always': 2, 'addition': 2, 'face': 2, 'hue': 1, 'attendants': 1, 'like': 2, 'someone': 2, 'help': 2, \"years'\": 1, \"king's\": 1, 'shamiana': 1, 'support': 2, '4': 2, '23229': 1, 'offers': 2, 'broad': 1, 'word': 2, 'monastic': 1, 'note': 2, 'nonproprietary': 2, 'forehead': 2, 'ccx074': 1, 'e': 2, \"women's\": 1, 'licensed': 2, 'org': 2, 'near': 2, 'grandeur': 1, 'people': 2, 'umbrella': 1, 'motionless': 1, 'behind': 2, 'breaks': 1, 'sending': 2, 'bearing': 2, 'say': 2, 'covers': 1, 'approach': 2, 'bears': 2, 'sing': 1, 'heads': 2, 'river': 2, 'dear': 2, 'deserted': 1, 'footlights': 1, 'strange': 2, 'our': 2, 'hushed': 1, 'extreme': 1, 'emeralds': 1, 'was': 2, 'afraid': 2, 'voice': 2, 'disdain': 1, 'law': 2, 'wake': 1, 'have': 2, 'terrace': 2, 'name': 2, 'b': 2, 'followed': 1, 'lovely': 2, 'words': 2, 'paperwork': 2, 'more': 2, 'invade': 1, 'site': 2, 'alarm': 1, 'attention': 2, 'carven': 1, 'know': 2, '\\ufeffthe': 2, 'revenue': 2, 'gong': 1, 'upthrown': 1, 'golden': 2, 'affected': 1, 'anywhere': 2, 'an': 2, 'towards': 2, 'includes': 2, 'strolling': 1, 'almost': 2, 'kisses': 1, 'folly': 1, 'protect': 2, 'outcome': 1, 'since': 2, 'lady': 1, 'sons': 1, 'joss': 1, 'party': 2, 'hall': 2, 'beckons': 1, 'active': 2, 'choice': 1, 'such': 2, 'sorrow': 1, 'slightly': 1, 'encrusted': 1, 'principal': 2, 'coming': 2, 'defective': 2, 'burma': 1, 'squat': 1, 'states': 2, 'her': 2, 'credit': 2, 'introductory': 1, 'numerous': 2, 'stealing': 1, 'locations': 2, 'rules': 2, 'together': 2, 'leaning': 2, \"is'\": 2, 'balls': 1, 'curtains': 1, 'flight': 1, 'love': 2, 'eastern': 1, 'disappears': 1, 'going': 2, 'can': 2, 'redistribute': 2, 'elbow': 1, 'kingdom': 2, 'dying': 1, 'kindly': 1, 'circular': 1, 'codes': 2, 'fans': 2, 'bound': 2, 'proofread': 2, 'led': 1, 'files': 2, 'distinguished': 2, 'melancholy': 1, 'fears': 1, 'restorative': 1, 'perturbed': 1, 'satin': 1, 'meet': 2, 'amusement': 1, 'round': 2, 'rug': 1, 'previous': 2, 'tinkling': 1, 'own': 2, 'verandah': 1, 'sticks': 1, 'piled': 1, 'updated': 2, 'how': 2, 'boys': 1, 'concluded': 1, 'sacred': 1, 'poverty': 1, 'us': 2, 'series': 1, 'open': 2, 'book': 2, 'air': 2, 'handful': 1, 'synonymous': 2, 'thus': 2, 'find': 2, 'regulating': 2, 'numb': 1, 'sound': 2, 'while': 2, 'library': 2, 'alteration': 2, 'morrow': 2, 'vast': 2, 'dhunni': 1, 'sewn': 2, 'summons': 1, 'wish': 2, 'folded': 1, 'pass': 2, 'dead': 2, 'urgent': 1, 'what': 2, 'either': 2, 'prospect': 1, 'deepest': 1, 'surrounded': 2, 'servant': 2, 'govern': 2, 'gbnewby': 2, 'acknowledging': 1, 'rose': 2, 'thirty': 1, 'faints': 1, 'girls': 1, 'distress': 1, 'meditations': 1, 'being': 2, 'mighty': 2, 'oriental': 1, 'courses': 1, 'reading': 2, 'v': 1, 'looked': 2, 'after': 2, 'fail': 1, 'myself': 2, 'requirements': 2, 'internal': 2, 'search': 2, 'official': 2, 're': 2, 'apparently': 1, 'aged': 2, 'swept': 1, 'electronically': 2, 'greet': 1, 'payments': 2, 'secure': 2, 'your': 2, 'feasts': 1, 'commercial': 2, 'vista': 1, 'former': 1, 'fairy': 1, 'paper': 2, \"state's\": 2, 'upon': 2, 'restraint': 1, 'agree': 2, 'warranty': 2, '90': 2, 'implied': 2, 'accessed': 2, 'weeping': 1, 'peacock': 2, 'o': 2, 'invalidity': 2, 'surprise': 1, 'u': 2, 'grace': 1, 'likely': 1, 'feet': 2, 'knees': 2, 'free': 2, 'unconsciously': 1, 'changed': 2, 'full': 2, 'hope': 2, 'waited': 1, 'distributing': 2, 'bring': 2, 'larger': 2, 'sent': 2, 'mhin': 1, 'tread': 2, 'propelled': 1, 'between': 2, 'ambassadors': 2, 'understand': 2, 'wanted': 1, 'brother': 2, 'older': 1, 'marked': 2, 'drowsily': 1, 'quaint': 1, 'recital': 1, 'enjoyed': 1, 'subjects': 1, 'caress': 1, 'directly': 2, 'print': 2, 'grotesque': 1, 'obsolete': 2, 'agreed': 2, 'subject': 2, 'fee': 2, 'financial': 2, 'page': 2, 'table': 2, 'copied': 2, 'colleague': 1, 'legally': 2, 'stand': 1, 'physical': 2, 'smiles': 2, 'glittering': 1, 'commands': 1, 'thousand': 1, 'erected': 1, 'copy': 2, 'god': 2, 'voices': 1, 'vizier': 1, 'gems': 1, 'restrictions': 2, 'downward': 1, 'additional': 2, 'concept': 2, 'executive': 2, 'ak': 2, 'family': 1, 'world': 2, 'afternoon': 1, 'not': 2, 'damaged': 2, 'poinsettias': 1, 'terms': 2, 'throws': 2, 'start': 2, 'awaits': 1, 'lowest': 1, 'network': 2, 'presents': 1, 'deep': 2, 'japonica': 1, 'burn': 2, 'promotion': 2, 'nephew': 1, 'fate': 1, 'prominently': 2, 'knows': 2, 'candles': 1, 'michael': 2, 'renamed': 2, 'green': 2, 'having': 2, 'identify': 2, 'yet': 2, 'wilde': 2, 'carry': 2, 'lower': 1, 'until': 2, 'comedy': 1, 'buddhist': 1, 'fortune': 1, 'research': 2, 'second': 2, 'novel': 2, 'french': 2, 'amongst': 1, 'play': 2, 'available': 2, 'baldaquin': 1, 'cigars': 1, 'mortally': 1, 'prince': 1, 'chelsea': 1, 'crows': 1, 'dhammathat': 1, 'nears': 1, 'charities': 2, 'king': 2, 'way': 2, 'agreement': 2, 'hands': 2, 'addresses': 2, 'dim': 1, 'astrologers': 1, 'ground': 2, '8': 2, 'preserve': 2, 'daughter': 2, 'are': 2, 'men': 2, 'touches': 1, 'take': 2, 'spray': 1, 'volunteer': 2, 'out': 2, 'sinks': 1, 'minister': 1, 'carpets': 2, 'etc': 2, 'walk': 2, 'tolls': 1, 'protection': 1, 'old': 2, 'ruler': 1, 'hut': 1, 'gardens': 2, 'indirectly': 2, 'copies': 2, '1887': 2, 'enmity': 1, 'up': 2, 'all': 2, 'also': 2, 'disk': 2, 'musical': 2, 'became': 1, 'sweeps': 1, 'unmoved': 1, 'cosgrove': 1, 'modified': 2, 'there': 2, 'drop': 1, 'water': 2, 'possessed': 2, 'on': 2, 'guitar': 1, 'possibly': 1, 'exclusion': 2, 'banners': 1, 'reasonable': 2, 'lake': 2, 'receive': 2, 'sky': 2, 'horror': 1, 'arrangement': 1, 'provision': 2, 'profoundly': 1, 'transcription': 2, 'throes': 1, 'charm': 1, 'additions': 2, 'http': 2, 'choose': 2, 'occur': 2, 'sheet': 1, 'blue': 2, 'indians': 1, 'sighted': 1, 'over': 2, 'eagerly': 1, 'luminous': 1, 'movement': 1, 'checks': 2, 'countries': 2, \"foundation's\": 2, 'gracefully': 1, 'umbrellas': 1, 'pagoda': 1, 'kings': 2, 'meng': 1, 'writing': 2, 'lit': 1, 'laid': 1, 'nothing': 2, 'footsteps': 1, 'anything': 2, 'appearance': 1, 'learn': 2, 'tellers': 1, 'numberless': 1, 'hand': 2, 'redistributing': 2, 'prime': 1, 'home': 1, 'whom': 2, 'attire': 1, 'placed': 2, '1500': 2, 'equipment': 2, 'handsome': 1, 'reclines': 1, 'till': 2, 'd': 2, 'chairs': 1, 'downloading': 2, 'laden': 1, 'chan': 1, 'necessary': 2, 'toms': 1, 'jungle': 1, '6': 2, 'outdated': 2, 'information': 2, 'starts': 1, 'trees': 2, 'lights': 1, 'pink': 2, 'sombre': 2, 'present': 2, 'three': 2, 'elapsed': 1, 'inaccurate': 2, 'scattered': 2, 'appears': 2, 'trays': 1, 'remain': 2, 'individual': 2, 'means': 2, 'possession': 2, 'you': 2, 'defects': 2, 'continuously': 1, 'edition': 2, 'distribution': 2, 'infringement': 2, '1': 2, 'entity': 2, 'invented': 1, 'betel': 1, 'smile': 2, 'white': 2, 'room': 1, 'eat': 2, 'listening': 2, 'lanterns': 1, 'fountains': 1, 'fundraising': 1, 'dignity': 1, 'persian': 1, 'path': 1, 'barrister': 1, 'direct': 2, '84116': 2, 'displayed': 2, 'his': 2, 'moving': 1, 'himself': 2, 'facility': 2, 'coloured': 2, 'measured': 1, 'depends': 2, 'card': 2, 'dance': 2, 'strict': 2, 'representations': 2, 'do': 2, 'greatly': 1, 'ascii': 2, 'and': 2, 'emblems': 1, 'foot': 1, 'including': 2, 'cover': 2, 'reign': 1, 'fix': 2, 'attributes': 1, 'presently': 2, 'this': 2, 'watched': 1, 'wears': 2, 'attacked': 1, 'porphyry': 1, 'donation': 2, 'receipt': 2, 'youth': 1, 'scales': 1, 'delayed': 1, 'where': 2, 'tomato': 1, 'david': 1, 'cost': 2, 'effect': 1, 'request': 2, 'embroideries': 1, 'slides': 1, 'references': 2, 'keep': 2, 'to': 2, 'richest': 1, 'deductible': 2, 'wonderful': 2, 'hundreds': 2, 'build': 1, 'exempt': 2, 'royal': 2, 'menial': 1, 'past': 2, 'dropped': 1, 'me': 2, '4557': 2, 'box': 2, 'gazed': 1, 'smiling': 2, 'zip': 2, 'colonnades': 1, 'obediently': 1, 'owed': 2, 'alternate': 2, 'miracle': 2, 'adviser': 1, 'notifies': 2, 'costume': 1, 'bend': 1, 'night': 2, 'road': 1, 'court': 2, 'actual': 2, 'many': 2, 'watches': 1, 'interference': 2, 'stalls': 1, 'reply': 1, 'agent': 2, 'follow': 2, 'except': 2, 'professor': 2, 'wrinkles': 1, 'speeches': 1, 'warranties': 2, 'joy': 1, 'poonygees': 1, 'warmly': 1, 'background': 1, 'hear': 2, '32': 1, 'sunshine': 1, 'peepul': 1, 'starting': 1, 'w': 2, 'diamonds': 1, 'cries': 1, 'murmur': 1, 'perfume': 1, 'sadness': 1, 'paragraph': 2, 'things': 2, 'end': 2, 'safe': 1, 'countless': 1, 'crowd': 1, 'already': 2, 'turned': 1, 'tragedy': 2, 'flowing': 1, 'spiral': 1, 'published': 2, 'breach': 2, 'expenses': 2, 'wood': 2, 'chunam': 1, 'enter': 2, 'fade': 1, 'method': 2, 'so': 2, 'throwing': 1, 'ensuring': 2, 'incidental': 2, 'educational': 2, 'hypertext': 2, 'federal': 2, 'beloved': 2, 'fills': 1, 'release': 2, 'lotus': 1, 'completed': 1, 'date': 2, 'herself': 2, 'particular': 2, '28': 1, 'freedom': 1, 'cause': 2, 'pearse': 1, 'medium': 2, 'opportunity': 2, 'lamps': 1, 'distraction': 1, 'discovers': 1, 'dress': 1, 'lead': 2, 'swamp': 2, 'convoy': 1, 'their': 2, \"ceylon's\": 1, 'avoid': 1, 'size': 1, 'buddha': 1, \"'as\": 2, 'space': 1, 'bells': 1, \"author's\": 2, 'mourning': 1, 'great': 2, 'steals': 1, 'stars': 2, 'villa': 1, 'delicacy': 1, 'ways': 2, 'pity': 1, 'expense': 2, 'handmade': 1, 'sinuous': 1, 'accept': 2, 'advance': 1, 'with': 2, 'sadly': 1, 'need': 2, '646': 1, 'tax': 2, 'possibility': 2, 'visit': 2, 'before': 2, 'majesty': 1, 'under': 2, 'declares': 1, 'damage': 2, 'listeners': 1, 'incredulous': 1, 'sun': 2, 'trembling': 2, 'cease': 2, 'london': 2, 'publication': 2, 'rare': 1, 'violates': 2, 'shah': 1, 'arranges': 1, 'gigantic': 2, 'types': 2, 'license': 2, 'without': 2, 'specific': 2, 'virus': 2, 'freely': 2, 'explain': 1, 'wondering': 1, 'mien': 2, 'stories': 1, 'unenforceability': 2, 'charming': 2, 'lord': 2, 'croak': 1, 'into': 2, 'consent': 1, 'literary': 2, 'those': 2, 'thrusting': 1, 'organized': 2, 'casket': 1, 'burmese': 1, 'intricate': 1, 'expend': 2, 'roses': 2, 'instruments': 1, 'scintillates': 1, 'ends': 1, 'lay': 2, 'finished': 1, 'women': 2, 'votive': 1, 'grain': 1, 'newby': 2, 'doors': 1, 'airs': 2, 'arise': 2, 'rallies': 1, 'greatness': 2, 'fight': 1, 'person': 2, 'ceases': 1, 'wide': 2, 'stored': 2, 'owner': 2, 'elephants': 1, 'providing': 2, 'described': 2, 'grouped': 1, 'beautiful': 2, 'caught': 2, 'effort': 2, 'murmuring': 1, 'trademark': 2, 'it': 2, 'registered': 2, 'leave': 2, 'pho': 1, 'creation': 2, 'ross': 2, 'scene': 2, 'entrance': 1, 'peacocks': 2, 'holds': 1, 'has': 2, 'mission': 2, 'permit': 1, 'master': 2, 'seat': 2, 'queen': 2, 'fewer': 1, 'rai': 1, 'talks': 2, 'conversing': 1, 'girl': 1, 'negligence': 2, 'unlink': 2, 'journey': 1, 'keeping': 2, 'infinite': 1, 'clearance': 1, 'heard': 2, 'away': 2, 'perform': 2, 'supports': 1, 'retire': 1, 'its': 2, 'sections': 2, 'practically': 2, 'hundred': 2, 'gregory': 2, 'accepted': 2, 'bejewelled': 1, 'paid': 2, 'passes': 1, 'dressed': 1, 'permanent': 2, 'mythical': 1, 'jewel': 1, 'thatched': 1, 'same': 2, 'clearly': 2, 'audience': 1, 'format': 2, 'simplicity': 1, 'amazement': 1, 'statues': 1, 'couch': 1, 'ut': 2, 'shifts': 1, 'calculated': 2, 'moung': 1, 'rugs': 1, 'because': 2, 'retainers': 1, 'carrying': 1, 'intervals': 1, 'tendency': 1, 'sends': 1, 'little': 2, 'orchids': 1, 'bride': 1, 'royalties': 2, 'steps': 2, 'intellectual': 2, 'myriad': 1, 'signifies': 1, 'ears': 2, 'reaches': 1, 'read': 2, 'ship': 1, 'within': 2, 'data': 2, 'huge': 2, 'plumage': 1, 'courtiers': 1, 'command': 2, 'lifting': 1, 'provisions': 2, 'am': 2, 'suddenly': 1, 'beyond': 2, 'cheroots': 1, 'htee': 1, 'royalty': 2, 'dresses': 2, 'txt': 2, 'file': 2, 'returns': 2, 'implores': 1, 'forward': 2, 'will': 2, 'weird': 1, 'rapidly': 1, 'certain': 2, 'lieu': 2, 'stirs': 2, 'admired': 2, 'chessmen': 1, 'atmosphere': 1, 'cry': 2, 'project': 2, 'count': 1, 'affection': 1, 'transcribed': 1, 'puts': 1, 'who': 2, 'expectancy': 1, 'both': 2, 'defies': 1, 'food': 1, 'gross': 2, 'consternation': 1, 'gesture': 1, 'phru': 1, 'granted': 2, 'production': 2, 'monstrous': 2, 'oakley': 1, 'demands': 1, 'displaying': 2, 'physicians': 1, 'shared': 2, 'answers': 2, 'breeze': 1, 'motions': 1, 'produced': 2, '1894': 1, 'f': 2, 'pendulums': 1, 'wings': 2, 'smoke': 1, 'twisted': 2, 'falls': 2, 'uniform': 2, 'retreat': 1, 'mrs': 2, 'evil': 2, 'concerning': 2, 'prepare': 2, 'husband': 2, 'consists': 1, 'redistribution': 2, 'elect': 2, 'death': 2, 'live': 2, 'necessity': 1, 'red': 2, 'flush': 1, 'reverence': 1, 'identification': 2, 'rising': 2, 'cannot': 2, 'derived': 2, 'anyone': 2, 'walnut': 1, 'mississippi': 2, 'trembled': 1, 'wait': 1, 'astrologer': 1, 'void': 2, 'shadow': 2, 'increasing': 2, 'teak': 1, 'c': 2, 'curtain': 2, 'blood': 2, 'accepting': 2, 'mother': 2, 'indicate': 2, 'daring': 1, 'invites': 1, 'personal': 2, 'fitted': 1, 'periodic': 2, 'clothed': 2, 'observed': 1, 'bent': 1, 'express': 2, 'themselves': 2, 'committed': 2, 'shall': 2, 'share': 2, 'damages': 2, 'ein': 2, 'wrinkled': 1, 'city': 2, 'salt': 2, 'gratefully': 2, 'speaking': 2, 'complying': 2, 'palm': 1, 'wearing': 1, 'any': 2, 'impossible': 2, 'metals': 1, 'pigtail': 1, 'paying': 2, 'flowery': 1, 'he': 2, 'made': 2, 'priceless': 1, 'across': 2, 'lies': 2, 'much': 2, 'web': 2, 'street': 2, 'important': 2, 'ministers': 1, 'semi': 1, 'peculiar': 2, 'opium': 1, 'opening': 1, 'shadowed': 1, 'masque': 1, 'particularly': 2, 'dragons': 2, 'benediction': 1, 'alcove': 1, 'opens': 1, 'nearly': 2, 'disobey': 1, 'exquisite': 2, 'west': 2, 'clad': 1, 'general': 2, 'happen': 2, 'mounts': 1, 'interfere': 1, 'character': 2, 'young': 2, 'gyan': 1, 'computers': 2, 'feathers': 2, 'refuses': 1, 'distributor': 2, 'break': 2, 'come': 2, 'bird': 2, 'gate': 2, 'stones': 2, 'italian': 1, 'imitate': 2, 'various': 2, 'invitation': 1, 'l': 2, 'loneliness': 1, 'tite': 1, 'days': 2, 'detach': 2, 'irs': 2, 'computer': 2, 'gold': 2, 'easy': 2, 'hangings': 1, 'for': 2, 'mocking': 1, 'house': 1, 'charitable': 2, 'based': 2, 'proudly': 1, 'distance': 2, 'fairer': 2, '2': 2, 'discover': 2, 'solemn': 1, 'been': 2, 'fairbanks': 2, 'heart': 1, 'associated': 2, 'swedish': 1, 'leaves': 2, 'cingalese': 1, 'others': 2, 'lilies': 2, 'interior': 1, 'willie': 1, 'hart': 2, 'glass': 2, 'brass': 1, 'canopy': 1, 'signal': 1, 'flare': 1, 'horsemen': 1, 'tolling': 1, 'revelations': 1, 'methods': 2, 'contain': 2, 'head': 2, 'buddhas': 1, 'stands': 1, 'send': 2, 'humble': 1, \"everyone's\": 1, 'most': 2, 'torches': 2, 'yours': 2, 'volunteers': 2, 'around': 1, 'provided': 2, 'f3': 1, 'unrecognised': 1, 'meditating': 1, 'consequence': 1, 'throughout': 2, 'profit': 2, 'flower': 2, 'exists': 2, 'look': 2, 'raise': 2, 'light': 2, 'derive': 2, 'recovery': 1, '809': 2, 'avenue': 1, 'punctuates': 1, 'hours': 1, 'athenian': 1, 'pathos': 1, 'performances': 2, 'performing': 2, 'far': 2, 'www': 2, 'ever': 2, 'sad': 2, 'here': 2, 'agreeable': 1, 'suggestion': 1, 'willing': 1, 'bronze': 2, 'arrangements': 1, 'poignant': 1, 'october': 1, 'entranced': 1, 'trackless': 1, 'linked': 2, 'essex': 1, 'see': 2, 'appear': 2, 'figure': 1, 'opportunities': 2, '501': 2, 'human': 1, 'trembles': 1, 'tiny': 1, 'man': 2, 'mysterious': 2, 'musicians': 1, 'posted': 2, 'sir': 2, 'determine': 2, 'converse': 1, 'originator': 2, 'newsletter': 2, 'aglow': 1, 'solicitation': 2, 'learns': 1, 'building': 1, 'everyone': 2, 'below': 2, 'iv': 1, 'woman': 2, 'author': 2, 'morals': 1, 'eager': 1, 'outside': 2, 'temple': 2, 'could': 2, 'rises': 2, 'each': 2, 'soaked': 1, 'late': 2, 'imposed': 2, 'prison': 2, 'spirit': 1, 'produce': 2, 'painted': 2, 'veritable': 1, 'returned': 1, 'found': 2, 'even': 2, 'i': 2, 'canopies': 1, 'considerable': 2, 'written': 2, 'iii': 1, 'dwell': 2, 'viewing': 2, 'platform': 1, 'goes': 2, 'jade': 2, 'or': 2, 'original': 2, 'employee': 2, 'repute': 1, 'replace': 2, 'maximum': 2, 'arrest': 1, 'watching': 1, 'predominate': 1, 'alas': 1, 'several': 2, 'resumes': 1, 'applicable': 2, 'everywhere': 2, 'purple': 2, 'proceed': 1, 'forest': 2, 'holder': 2, 'version': 2, 'nadoungs': 1, 'obtaining': 2, 'fill': 2, 'title': 2, 'access': 2, 'price': 2, 'melan': 2, 'a': 2, 'glow': 1, 'horoscopes': 1, 'pallor': 1, 'roughly': 1, 'slave': 2, 'down': 2, 'abide': 2, 'permitted': 2, 'mandalay': 1, 'distribute': 2, 'owns': 2, 'very': 2, 'specified': 2, 'mah': 1, 'spreads': 1, 'links': 2, 'orders': 1, 'never': 2, 'jarrold': 1, 'apple': 2, 'fruit': 2, 'profits': 2, 'accessible': 2, 'waning': 1, 'harmless': 2, 'problem': 2, 'suspects': 1, 'rudely': 1, 'murmurs': 1, 'unfettered': 1, 'transcribe': 2, 'r': 1, 'insensate': 1, 'desires': 2, 'distributed': 2, 'dirs': 1, 'pantomimic': 1, 'at': 2, 'number': 2, 'talk': 2, 'kind': 2, 'perfectly': 2, 'through': 2, 'unknown': 2, 'paths': 1, 'crouches': 1, 'him': 2, 'in': 2, 'fastened': 1, 'accordance': 2, 'dancing': 2, '1000': 1, 'swinging': 1, 'cucumbers': 1, 'playing': 1, 'despite': 2, 'dazzling': 1, 'encoding': 1, 'says': 2, 'whispering': 1, 'tire': 1, 'if': 2, 'rubies': 2, 'generations': 2, 'advances': 1, 'view': 1, 's': 2, 'staff': 2, 'plain': 2, 'comply': 2, 'overhangs': 1, 'figures': 1, 'pearl': 1, 'widest': 2, 'accompanied': 1, 'bar': 1, 'north': 2, 'followers': 1, 'glitter': 1, 'flowers': 2, 'service': 2, 'think': 2, 'bathing': 1, '36': 1, 'perhaps': 2, 'special': 2, 'agony': 1, 'united': 2, 'soothsayers': 1, 'staircases': 1, 'tail': 1, 'entreats': 1, 'high': 2, 'indemnity': 2, 'rest': 1, 'spread': 2, 'of': 2, 'whence': 2, 'yonder': 2, 'anxious': 2, 'pathetic': 2, 'gutenberg': 2, 'planet': 1, 'readable': 2, 'than': 2, 'rush': 2, 'fashion': 2, 'compressed': 2, 'cushion': 1, 'risen': 1, 'affairs': 1, 'hips': 1, 'immediate': 2, 'last': 2, 'paradise': 1, 'soul': 2, 'seven': 2, 'tells': 1, 'would': 2, 'adorned': 1, 'deletions': 2, 'fish': 1, 'richly': 1, 'indescribable': 1, 'by': 2, 'brought': 2, 'soft': 1, 'manner': 1, 'silence': 2, 'taboung': 1, 'persons': 2, 'hold': 2, 'ceremonious': 1, 'message': 1, 'senses': 1, 'limitation': 2, 'roofs': 1, 'loves': 2, 'pegu': 1, 'thoo': 1, 'indicating': 2, 'co': 1, \"heart's\": 1, 'elderly': 1, 'non': 2, 'employees': 2, 'remedies': 2, 'birds': 2, 'seated': 2, 'named': 2, 'entitled': 1, 'works': 2, 'heir': 1, 'gathering': 1, 'lot': 2, 'die': 2, 'destroy': 2, 'email': 2, 'some': 2, 'heavily': 1, 'dictator': 1, 'turn': 1, '6221541': 2, 'printed': 2, 'busy': 1, 'colour': 1, 'ltd': 1, 'online': 2, 'contract': 2, 'heaped': 2, 'blinding': 1, 'turns': 2, 'saying': 2, 'hardly': 1, 'throbbing': 1, 'jewels': 2, '60': 2, 'village': 1, 'these': 2, 'money': 2, 'include': 2, 'viewed': 2, 'wave': 1, 'rise': 2, 'happiness': 2, '27': 1, '2007': 1, 'exporting': 2, 'once': 2, 'however': 2, 'abrupt': 1, '5': 2, 'then': 2, 'check': 2, 'embroidered': 1, 'otherwise': 1, 'spire': 1, 'shoulders': 1, 'archive': 2, 'confirmed': 2, 'irradiated': 1, 'maintaining': 2, 'fear': 2, \"tm's\": 2, 'fro': 1, 'received': 2, 'defect': 2, 'sharing': 2, \"father's\": 1, 'merchantibility': 1, 'beng': 1, 'return': 2, 'passed': 2, 'editions': 2, 'sixteenth': 1, 'fruits': 2, 'majestic': 1, 'waiting': 2, 'replies': 1, 'required': 2, 'bows': 1, 'frightens': 1, 'vanilla': 2, 'use': 2, 'moon': 2, 'dissents': 1, 'treatment': 2, 'english': 2, 'model': 1, 'servants': 1, 'refused': 1, 'characters': 1, 'emerge': 1, 'worshipped': 1, 'indemnify': 2, 'permission': 2, 'fitness': 2, 'disclaimer': 2, 'claps': 1, 'place': 2, 'address': 2, 'shower': 1, 'reports': 2, 'please': 2, 'often': 2, 'cushions': 1, 'punitive': 2, 'remaining': 2, 'contact': 2, 'main': 2, 'takes': 2, 'new': 2, 'grouping': 1, 'derivative': 2, '2001': 2, 'princes': 1, '7': 2, 'robert': 2, 'observe': 2, 'subscribe': 2, 'wind': 2, 'palace': 2, 'ebook': 2, 'gilded': 2, 'sometime': 1, 'fashioned': 2, 'surrounding': 1, 'alone': 2, 'grass': 2, 'sudden': 1, 'backwards': 1, 'carvings': 1, 'friend': 2, 'contributions': 2, 'silks': 1, 'folds': 1, 'language': 2, 'robes': 1, 'passion': 2, 'stately': 1, 'display': 2, 'mr': 2, 'public': 2, 'create': 1, 'corners': 1, 'sell': 1, 'william': 1, 'parting': 1, 'foundation': 2, 'venetian': 1, 'errors': 2, 'property': 2, 'limited': 2, 'beginning': 2, 'notice': 2, 'claim': 2, 'but': 2, 'critical': 2, 'smokes': 1, 'performed': 2, 'liable': 2, 'elephant': 2, 'waves': 2, 'consequential': 2, 'charges': 2, 'allow': 2, 'met': 2, 'speaker': 1, 'located': 2, 'change': 2, 'costs': 2, 'year': 2, 'children': 1, 'exit': 2, 'creating': 2, 'comprehension': 1, 'modification': 2, '596': 2, 'inscribed': 1, 'fringes': 1, 'motley': 1, 'machine': 2, 'incomplete': 2, 'intermittently': 2, 'letter': 2, 'lancaster': 1, 'gift': 1, '50': 2, 'convert': 2, 'when': 2, 'stricken': 1, 'donations': 2, 'above': 2, 'prevent': 2, 'skins': 1, 'copyright': 2, 'grave': 1, 'office': 2, 'created': 2, 'society': 1, 'poles': 1, 'right': 2, 'iso': 1, 'goals': 2, 'variety': 2, 'loong': 1, 'laws': 2, 'another': 2, 'refund': 2, 'solicit': 2, 'pure': 1, 'other': 2, 'bed': 2, 'array': 2, 'corporation': 2, 'disclaimers': 2, 'slaves': 2, 'illness': 1, 'song': 1, 'unearthly': 1, 'lost': 1, 'braided': 1, 'vases': 1, 'we': 2, 'pglaf': 2, 'earth': 2, 'groups': 1, 'long': 2, 'about': 2, 'staircase': 2, 'approaching': 2, 'wall': 2, 'enclosed': 1, 'superstitious': 1, '30': 2, 'transform': 1, 'whenever': 2, 'remove': 2, 'lover': 1, 'oscar': 2, 'marriage': 2, 'bevy': 1, 'constant': 2, 'middle': 2, 'no': 2, 'shaft': 2, 'paragraphs': 2, 'now': 2, 'business': 2, 'acted': 1, 'enough': 2, 'smoking': 1, 'carved': 1, 'liability': 2, 'persecuted': 1, 'curled': 2, 'century': 1, 'slowly': 2, 'make': 2, 'gathers': 1, 'elder': 2, 'sinking': 2, 'only': 2, 'goblets': 2, 'looks': 2, 'as': 2, 'work': 2, 'closes': 1, 'explanation': 2, 'ashen': 1, 'follows': 1, 'fly': 2, \"wilde's\": 2, 'discontinue': 2, 'verandahs': 1, 'shrug': 1, 'bewildered': 1, 'calculate': 2, 'miss': 2, 'dawn': 2, 'grand': 1, 'told': 2, 'praying': 1, 'small': 2, 'tent': 1, 'international': 2, 'lattice': 1, 'points': 1, 'formats': 2, '20': 2, 'supreme': 1, 'discord': 1, 'envoys': 1, 'burning': 1, 'quiver': 1, 'tm': 2, 'terribly': 1, 'revelation': 1, 'toon': 1, 'section': 2, 'containing': 2, 'bearers': 1, 'require': 2, 'remembered': 1, 'constance': 1, 'distressed': 1, '99712': 2, 'whole': 2, 'forget': 2, 'burmah': 1, 'processing': 2, 'promenading': 1, '9': 2, 'repentant': 1, 'carriers': 1, 'makes': 2, 'offering': 1, 'whatsoever': 2, 'mistake': 1, 'subdued': 1, 'stretch': 1, 'tom': 1, 'enters': 1, 'survive': 2, 'collection': 2, 'breaking': 1, 'temperament': 1, 'procession': 1, 'shikoes': 1, 'perched': 1, 'verify': 1, '1922': 1, 'calls': 1, 'them': 2, 'interesting': 2, 'scream': 1, 'back': 2, 'creamy': 1, 'purpose': 2, 'pale': 2, 'crest': 1, 'meantime': 1, 'kneeling': 2, 'footnotes': 1, 'casting': 1, 'discovered': 2, 'loose': 2, 'claws': 1, 'china': 1, 'vow': 1, 'prohibition': 2, 'parrots': 2, 'delicate': 1, 'lived': 1, 'brighter': 1, 'gala': 1, 'donate': 2, 'from': 2, 'riot': 1, 'one': 2, 'tones': 1, 'which': 2, 'content': 1, 'paces': 1, 'gorgeousness': 1, 'declare': 2, 'blent': 1, 'few': 2, 'status': 2, 'compliance': 2, 'known': 2, 'appearing': 2, 'taxes': 2, 'four': 2, 'crown': 2, 'pillared': 1, 'seeks': 2, 'ii': 2, 'part': 2, 'forms': 2, 'does': 2, 'director': 2, 'move': 1, 'country': 2, 'violet': 1, '3': 2, 'skill': 1, 'star': 1, 'opened': 2, 'earlier': 1, 'mind': 1, 'walks': 2, 'watch': 1, 'mabel': 1, 'side': 1, 'loudly': 1, 'indirect': 2, 'given': 2, 'moat': 1, 'again': 2, 'demand': 2, 'radiantly': 1, 'nat': 1, 'well': 2, 'drooping': 1, 'sentence': 2, 'years': 2, 'pineapples': 1, 'sheen': 1, 'day': 2, 'supported': 1, 'sleeps': 1, 'dark': 2, 'war': 2, 'finance': 1, 'ernest': 1, 'that': 2, 'happy': 2, 'though': 2, 'hearts': 1, 'clear': 1, 'copying': 2, 'pg': 2, 'chamber': 1, 'woodhouse': 1, 'chinese': 1, 'noonday': 1, \"husband's\": 1, 'must': 2, 'reaching': 2, 'divan': 1, 'donors': 2, 'sentinel': 1, 'is': 2, 'shadowy': 1, 'hip': 1, 'whispers': 1, 'envelops': 1, 'stretched': 1, 'different': 2, 'future': 2, 'pay': 2, 'interpreted': 2, 'every': 2, 'necessarily': 2, 'gentleman': 1, 'wizard': 1, 'worst': 1, 'forth': 2, 'half': 2, 'princess': 2, 'dr': 2, 'desire': 2, 'apply': 2, '10th': 1, 'reels': 1, 'son': 1, 'gifts': 1, 'butterflies': 1, 'thorns': 1, 'pride': 1, 'hide': 1, 'snake': 1, 'harsh': 1, 'robber': 1, 'point': 1, 'sirens': 1, 'possible': 1, 'composition': 1, 'acts': 1, 'fine': 1, 'showeth': 1, 'narraboth': 1, '1896': 1, 'case': 1, 'driven': 1, 'tetrarch': 1, 'touching': 1, 'awkward': 1, 'chosen': 1, 'laughs': 1, 'stansfeld': 1, 'ralph': 1, 'stolen': 1, 'founded': 1, 'tragic': 1, 'weary': 1, 'flaubert': 1, 'ought': 1, 'coward': 1, 'tour': 1, 'petals': 1, 'period': 1, 'mat': 1, 'evade': 1, 'tongue': 1, 'sit': 1, 'eyelids': 1, 'lift': 1, 'naturally': 1, 'waded': 1, 'cappadocia': 1, 'still': 1, 'knot': 1, 'syrian': 1, 'opinions': 1, 'translation': 1, 'tails': 1, 'ourselves': 1, 'knew': 1, 'disappeared': 1, 'plastered': 1, 'cats': 1, 'kinds': 1, 'prohibited': 1, 'turning': 1, 'cistern': 1, 'sweet': 1, '42704': 1, 'judæa': 1, 'precludes': 1, 'accursed': 1, 'vincent': 1, 'xiv': 1, 'sword': 1, 'pomegranate': 1, 'endorsed': 1, 'sees': 1, 'ask': 1, 'york': 1, 'anguish': 1, 'sellers': 1, 'lemaitre': 1, 'misrepresentation': 1, 'recollection': 1, 'bear': 1, 'waste': 1, 'third': 1, 'wilt': 1, 'swords': 1, 'xi': 1, 'ancient': 1, 'befall': 1, 'peace': 1, 'keith': 1, 'contemporaries': 1, 'passing': 1, 'ozias': 1, 'oaths': 1, 'vermilion': 1, 'strong': 1, 'heavens': 1, 'nello': 1, 'prophet': 1, 'noise': 1, 'nay': 1, 'ebony': 1, 'goddesses': 1, 'vomiting': 1, 'land': 1, 'belt': 1, 'theatre': 1, 'artist': 1, 'ignorance': 1, 'twelve': 1, 'bauer': 1, 'adultery': 1, 'bernhard': 1, 'tearing': 1, 'terrible': 1, 'quite': 1, 'opals': 1, 'amber': 1, 'jokanaan': 1, 'touched': 1, \"beardsley's\": 1, 'wanders': 1, 'choking': 1, 'shut': 1, 'regularly': 1, 'daughters': 1, 'illustration': 1, 'susceptibilities': 1, 'climax': 1, 'pearls': 1, 'shoes': 1, 'obeys': 1, 'mirror': 1, 'ye': 1, 'sadducee': 1, 'foretold': 1, 'submit': 1, 'jargon': 1, 'wounding': 1, 'jest': 1, 'better': 1, 'hadst': 1, 'motives': 1, 'alexandria': 1, 'skirt': 1, 'neck': 1, 'pelt': 1, 'rod': 1, 'lebanon': 1, 'praising': 1, 'shadows': 1, 'lament': 1, 'suitable': 1, 'hovers': 1, 'taking': 1, 'russett': 1, 'become': 1, 'crouch': 1, 'chaste': 1, 'bind': 1, 'sorry': 1, 'marvellous': 1, 'owing': 1, 'summon': 1, 'wreath': 1, 'needs': 1, 'dances': 1, 'order': 1, 'chalcedony': 1, 'drawn': 1, 'filled': 1, 'poet': 1, 'vulgar': 1, 'assyria': 1, 'miracles': 1, 'transfigured': 1, 'pray': 1, 'impelled': 1, 'recited': 1, 'style': 1, \"tetrarch's\": 1, 'kiss': 1, 'surely': 1, 'guard': 1, 'hateful': 1, 'drain': 1, 'herodias': 1, 'impersonation': 1, 'nubian': 1, 'eyeballs': 1, 'pictures': 1, 'fancy': 1, 'knowest': 1, 'tidings': 1, 'chaldea': 1, 'fellow': 1, 'wipe': 1, 'cyprus': 1, 'wondrous': 1, 'instance': 1, 'libre': 1, 'caverns': 1, 'disgrace': 1, 'emotions': 1, 'might': 1, 'throne': 1, 'sins': 1, 'mantles': 1, 'apples': 1, 'material': 1, 'foul': 1, 'remember': 1, 'finest': 1, 'father': 1, 'gods': 1, 'locusts': 1, 'pit': 1, 'bodley': 1, 'evelyn': 1, 'bias': 1, 'teeth': 1, 'tore': 1, 'crime': 1, 'fond': 1, 'verily': 1, 'cape': 1, 'await': 1, 'becomes': 1, 'messias': 1, 'veins': 1, 'lampe': 1, 'cool': 1, 'charger': 1, 'harlot': 1, 'deed': 1, 'seem': 1, 'regardeth': 1, 'wrote': 1, 'waters': 1, 'drunk': 1, 'good': 1, 'net': 1, 'refrains': 1, 'stay': 1, 'defending': 1, 'chill': 1, 'dramatists': 1, 'glamour': 1, 'stoics': 1, 'editor': 1, '1906': 1, 'agate': 1, 'shakespeare': 1, 'neighbourhood': 1, 'opera': 1, 'gainsay': 1, 'cul': 1, 'shaking': 1, 'askest': 1, 'remission': 1, 'wearest': 1, 'serpent': 1, 'alexander': 1, 'missile': 1, 'generously': 1, 'try': 1, 'straightway': 1, 'deliver': 1, 'knife': 1, 'farquharson': 1, 'saviour': 1, 'teach': 1, 'months': 1, 'virgin': 1, 'illustrator': 1, 'loathe': 1, 'royally': 1, 'draws': 1, 'sixteen': 1, 'powdered': 1, 'plays': 1, 'prey': 1, 'inspiration': 1, '1892': 1, 'tigers': 1, 'fluttering': 1, 'holland': 1, 'garland': 1, 'executioner': 1, 'omen': 1, 'sense': 1, 'edom': 1, 'disciples': 1, 'thyself': 1, 'living': 1, 'common': 1, 'approaches': 1, 'consider': 1, 'fifth': 1, 'gwendolen': 1, 'drew': 1, 'veil': 1, 'march': 1, 'asked': 1, 'valuable': 1, 'bozra': 1, 'columns': 1, 'doctrine': 1, 'talketh': 1, 'socket': 1, 'dwells': 1, 'moonlight': 1, 'tigellinus': 1, 'prophets': 1, 'precious': 1, 'moonstones': 1, 'yield': 1, 'internet': 1, 'falling': 1, 'gratified': 1, 'millicent': 1, 'broken': 1, 'capable': 1, 'hidden': 1, 'de': 1, 'breast': 1, 'amethysts': 1, 'knowledge': 1, 'breaketh': 1, 'hyacinth': 1, 'sacrifice': 1, 'mines': 1, 'mediæval': 1, 'danced': 1, 'lair': 1, 'critics': 1, \"mole's\": 1, 'narcissus': 1, 'speak': 1, 'whether': 1, 'imagine': 1, 'type': 1, 'usual': 1, 'aubrey': 1, 'plagiarism': 1, 'censer': 1, 'delph': 1, 'cordially': 1, 'loses': 1, 'venture': 1, 'xiii': 1, 'column': 1, 'crying': 1, 'moonbeam': 1, 'hang': 1, 'bracelets': 1, 'glad': 1, 'tyre': 1, 'centre': 1, 'maeterlinck': 1, 'greeks': 1, 'clusters': 1, 'reasons': 1, 'tiling': 1, 'tactile': 1, 'seekest': 1, 'caricatures': 1, 'seeing': 1, '12': 1, 'burned': 1, 'rays': 1, 'buyers': 1, 'counsel': 1, 'grow': 1, 'unloose': 1, 'worms': 1, 'tiaras': 1, 'get': 1, 'nationality': 1, 'immediately': 1, 'preparing': 1, 'role': 1, 'question': 1, 'lion': 1, 'press': 1, 'strikes': 1, 'bagehot': 1, 'theatres': 1, 'revile': 1, 'rhetorical': 1, 'wine': 1, 'hast': 1, 'colours': 1, 'arms': 1, 'scarlet': 1, 'recoils': 1, 'answer': 1, 'bid': 1, 'mitre': 1, 'begone': 1, 'winter': 1, 'belong': 1, 'saith': 1, 'lawful': 1, 'redder': 1, 'thee': 1, 'nakedness': 1, 'colophon': 1, 'thing': 1, 'empties': 1, 'feast': 1, 'fed': 1, 'beat': 1, 'breath': 1, 'occurs': 1, 'took': 1, 'gave': 1, 'obscure': 1, 'shame': 1, 'minds': 1, 'madame': 1, 'chrysolites': 1, 'black': 1, 'valleys': 1, 'raiment': 1, 'criticisms': 1, 'becoming': 1, 'profundis': 1, 'rather': 1, 'friends': 1, 'expressed': 1, 'liest': 1, 'vivid': 1, 'confusion': 1, 'wan': 1, 'tired': 1, 'speaketh': 1, 'euphrates': 1, 'rohan': 1, 'strayed': 1, 'desireth': 1, 'appease': 1, 'flame': 1, 'witty': 1, '10': 1, 'icy': 1, 'grievously': 1, 'violent': 1, 'tower': 1, 'multitude': 1, 'insulting': 1, 'samaritans': 1, 'sicily': 1, 'abominations': 1, 'fact': 1, 'douglas': 1, 'soldiers': 1, 'raises': 1, 'perfumes': 1, 'tell': 1, 'omens': 1, 'heed': 1, 'walketh': 1, 'lives': 1, 'enemy': 1, 'merchantability': 1, 'struggle': 1, 'household': 1, 'reason': 1, 'tyrian': 1, 'devour': 1, 'salom': 1, 'reference': 1, 'motifs': 1, 'pharisee': 1, '1905': 1, 'mountains': 1, 'cloaks': 1, 'mindful': 1, 'tend': 1, 'slipped': 1, 'circumcised': 1, 'kills': 1, 'gathered': 1, 'incrusted': 1, 'wherever': 1, 'ordinary': 1, 'speakest': 1, \"mother's\": 1, 'largest': 1, 'spake': 1, 'popular': 1, 'angel': 1, 'school': 1, 'cedars': 1, 'obscurity': 1, 'perchance': 1, 'ah': 1, 'cappadocian': 1, 'covered': 1, 'crosses': 1, 'alfred': 1, 'let': 1, 'oddly': 1, \"'tis\": 1, 'coffer': 1, 'neither': 1, 'venerable': 1, 'exceeding': 1, 'balcony': 1, 'stains': 1, 'luigne': 1, 'cavern': 1, 'obvious': 1, 'pleasure': 1, 'enamoured': 1, 'seres': 1, 'litter': 1, 'herod': 1, 'platonic': 1, 'nights': 1, 'strangle': 1, 'shambles': 1, 'exist': 1, 'forbid': 1, 'tarry': 1, 'tables': 1, 'unsuccessful': 1, 'dies': 1, 'whose': 1, 'signing': 1, 'wrought': 1, 'continental': 1, 'matter': 1, 'nearer': 1, 'despair': 1, 'delicious': 1, 'tree': 1, 'blows': 1, 'cots': 1, 'handy': 1, 'dispute': 1, 'sodom': 1, 'greeted': 1, 'heartily': 1, 'hideth': 1, 'howling': 1, 'wickedness': 1, 'stephen': 1, 'happened': 1, 'stone': 1, 'soldier': 1, 'suit': 1, 'sterile': 1, 'virginity': 1, 'sepulchre': 1, 'beasts': 1, 'dramatic': 1, 'delight': 1, 'athirst': 1, 'mcmvii': 1, 'unto': 1, 'rome': 1, 'dream': 1, 'lina': 1, 'fourth': 1, 'yes': 1, 'beardsley': 1, 'dust': 1, 'continually': 1, 'pledge': 1, 'myrtles': 1, 'german': 1, 'occasion': 1, 'hither': 1, 'classic': 1, 'sire': 1, 'contained': 1, 'grapes': 1, 'drove': 1, 'jesting': 1, 'why': 1, 'darting': 1, 'grains': 1, 'rings': 1, 'recent': 1, 'profane': 1, 'ho': 1, 'sanctuary': 1, 'ebullition': 1, 'solitary': 1, 'emphasis': 1, 'pigeon': 1, 'branch': 1, 'european': 1, 'dangerous': 1, 'beseech': 1, 'théâtre': 1, 'raiseth': 1, \"else's\": 1, 'killed': 1, 'corn': 1, 'nails': 1, 'bite': 1, 'loosen': 1, 'essay': 1, 'censor': 1, 'bishop': 1, '11': 1, 'ricketts': 1, 'noble': 1, 'review': 1, 'desert': 1, 'herald': 1, 'jews': 1, 'issachar': 1, 'interest': 1, 'steal': 1, 'furthermore': 1, 'fantastic': 1, 'seizes': 1, 'related': 1, 'wert': 1, 'amorous': 1, 'egyptians': 1, 'languorously': 1, 'shineth': 1, 'hides': 1, 'guests': 1, 'doing': 1, 'emerald': 1, 'repent': 1, 'mounting': 1, 'club': 1, 'fire': 1, 'listen': 1, 'throw': 1, 'clamouring': 1, 'giving': 1, 'dare': 1, 'ready': 1, 'were': 1, 'driver': 1, 'camel': 1, 'incestuousness': 1, 'coils': 1, 'during': 1, 'moabites': 1, 'osborn': 1, 'besides': 1, 'worn': 1, 'sinned': 1, 'looking': 1, 'wore': 1, 'ireland': 1, 'beating': 1, 'stick': 1, 'chorus': 1, 'tulip': 1, 'uncouth': 1, 'refer': 1, 'mark': 1, 'contemplated': 1, 'values': 1, 'talking': 1, 'floods': 1, \"d'hooghe\": 1, 'ear': 1, 'smote': 1, 'tangent': 1, 'responsible': 1, 'piece': 1, 'worketh': 1, 'everything': 1, 'bitter': 1, 'carbuncles': 1, 'italy': 1, 'strangled': 1, 'went': 1, 'howbeit': 1, 'snow': 1, 'czech': 1, 'ashes': 1, 'barbarians': 1, 'culprit': 1, 'gives': 1, 'messiah': 1, 'came': 1, 'unhealthy': 1, 'dalmon': 1, \"camel's\": 1, 'salomé': 1, 'heal': 1, 'insulted': 1, 'scorpions': 1, 'remarkable': 1, 'smith': 1, 'borne': 1, 'seek': 1, 'religious': 1, 'egypt': 1, 'write': 1, 'pointing': 1, 'roman': 1, 'scatter': 1, 'pieces': 1, 'priest': 1, 'regarded': 1, 'treasures': 1, 'symbols': 1, 'altogether': 1, 'moreover': 1, 'random': 1, 'loved': 1, 'mire': 1, 'list': 1, 'forbidden': 1, 'paris': 1, 'noted': 1, 'smyrna': 1, 'brays': 1, 'decked': 1, 'finger': 1, 'cloth': 1, 'yesterday': 1, 'times': 1, 'force': 1, 'swore': 1, 'satire': 1, 'thinks': 1, 'left': 1, 'pour': 1, 'crucify': 1, 'true': 1, 'arm': 1, 'places': 1, 'vociferating': 1, 'vipers': 1, 'beg': 1, 'stage': 1, 'history': 1, 'hurts': 1, 'incestuous': 1, 'reputation': 1, 'ceremonies': 1, 'minion': 1, 'bridge': 1, 'silent': 1, 'deliberate': 1, 'misstatement': 1, 'anon': 1, 'loins': 1, 'circus': 1, 'centaurs': 1, 'dull': 1, 'desirest': 1, 'restoration': 1, 'wherefore': 1, 'folk': 1, 'carries': 1, 'chaldeans': 1, 'entered': 1, 'rehearsal': 1, '13': 1, 'pleaded': 1, 'tomb': 1, 'suffer': 1, 'town': 1, 'real': 1, 'weak': 1, 'tears': 1, 'cometh': 1, 'beast': 1, 'born': 1, 'spill': 1, 'frontispiece': 1, 'show': 1, 'captain': 1, 'twice': 1, 'behold': 1, \"was't\": 1, '1893': 1, 'awaiting': 1, 'seeking': 1, 'veils': 1, 'indies': 1, 'band': 1, 'mar': 1, 'muslin': 1, 'almond': 1, 'thought': 1, 'reel': 1, 'angels': 1, 'heroine': 1, 'france': 1, 'hate': 1, 'idol': 1, 'baldricks': 1, 'simply': 1, 'spat': 1, 'seldom': 1, 'toilette': 1, 'begin': 1, 'something': 1, 'onyxes': 1, 'hot': 1, 'drink': 1, 'john': 1, 'sensible': 1, 'fighting': 1, 'ridiculous': 1, 'thirst': 1, 'nazarene': 1, 'lions': 1, 'confuses': 1, 'frederick': 1, 'bernhardt': 1, 'writhing': 1, 'sworn': 1, 'prophesy': 1, 'conveyed': 1, 'had': 1, 'seed': 1, 'although': 1, 'gotten': 1, 'therein': 1, 'crystal': 1, 'cup': 1, 'forty': 1, 'dramas': 1, 'antipas': 1, 'defence': 1, 'religion': 1, 'cried': 1, 'shows': 1, 'image': 1, 'titles': 1, 'deaf': 1, 'poison': 1, 'awful': 1, 'anachronisms': 1, 'letters': 1, 'scorn': 1, 'detractors': 1, 'brutal': 1, 'lack': 1, 'palpable': 1, 'crush': 1, 'nacre': 1, 'shalt': 1, 'scrip': 1, 'elias': 1, 'hard': 1, 'repertoire': 1, 'commanded': 1, 'ostrich': 1, 'strauss': 1, 'idea': 1, 'gee': 1, 'save': 1, 'ballad': 1, 'gentiles': 1, 'mention': 1, 'vulgarity': 1, 'laboriously': 1, '16': 1, 'scared': 1, 'therefore': 1, 'pardon': 1, 'spices': 1, 'rain': 1, 'care': 1, 'wasted': 1, 'beaks': 1, 'writer': 1, 'none': 1, \"'salomé'\": 1, 'completely': 1, 'nazarenes': 1, 'else': 1, 'europe': 1, 'nor': 1, 'jasper': 1, 'wild': 1, 'cold': 1, 'disliked': 1, 'marc': 1, 'reproach': 1, 'approve': 1, 'ollendorff': 1, 'bow': 1, 'owes': 1, 'loathsome': 1, 'admirable': 1, 'fearless': 1, 'palestine': 1, 'did': 1, 'houses': 1, 'sapphires': 1, 'obloquy': 1, 'prepareth': 1, 'fall': 1, 'pharisees': 1, 'lairs': 1, \"'salomé\": 1, 'snows': 1, 'indeed': 1, 'jairus': 1, 'quench': 1, 'flesh': 1, 'truly': 1, 'romans': 1, 'covering': 1, 'intentional': 1, 'gateway': 1, 'put': 1, 'agrippa': 1, \"cæsar's\": 1, 'shore': 1, 'russia': 1, 'thanks': 1, 'lords': 1, 'evils': 1, 'numidia': 1, 'amusing': 1, 'leathern': 1, 'iniquities': 1, 'garment': 1, 'december': 1, 'cut': 1, 'journalists': 1, 'reject': 1, 'doves': 1, 'operatic': 1, 'feel': 1, 'source': 1, 'sackcloth': 1, 'account': 1, 'consigned': 1, 'able': 1, 'curses': 1, 'auction': 1, 'regrets': 1, 'lying': 1, 'climb': 1, 'cursed': 1, 'jerusalem': 1, 'thou': 1, 'quick': 1, 'banqueting': 1, 'abandoned': 1, 'cast': 1, 'sought': 1, 'thief': 1, 'ripe': 1, 'rancour': 1, 'pavement': 1, 'misfortune': 1, 'intention': 1, 'coarse': 1, 'clouds': 1, 'honours': 1, \"dancer's\": 1, 'negro': 1, 'healed': 1, 'lust': 1, 'p': 1, 'saw': 1, 'closer': 1, 'gazing': 1, 'samaria': 1, 'mystery': 1, 'figs': 1, 'freeliterature': 1, 'icelike': 1, 'masks': 1, 'depreciating': 1, 'mirrors': 1, 'gouty': 1, 'mower': 1, 'rivers': 1, 'chrysoprases': 1, 'add': 1, 'called': 1, 'dogs': 1, 'mean': 1, 'contravention': 1, 'unsuspected': 1, 'among': 1, 'off': 1, 'venom': 1, 'begins': 1, '14': 1, 'asset': 1, 'cloak': 1, 'absurd': 1, 'majority': 1, 'education': 1, 'leaving': 1, 'rows': 1, 'importance': 1, 'truth': 1, 'fair': 1, 'bate': 1, 'oblivion': 1, 'imprisoned': 1, 'manesseh': 1, 'conceals': 1, 'breathe': 1, 'tall': 1, 'theories': 1, 'lovers': 1, 'prose': 1, 'hath': 1, 'lend': 1, 'holy': 1, 'seriously': 1, 'stomach': 1, 'correspondents': 1, 'cypress': 1, 'possesses': 1, 'lie': 1, 'exciting': 1, 'dresden': 1, 'images': 1, 'didst': 1, 'thine': 1, 'masterpiece': 1, 'linen': 1, 'twilight': 1, 'topazes': 1, 'body': 1, 'shown': 1, 'sorts': 1, 'changing': 1, 'historical': 1, 'blasphemies': 1, 'wanton': 1, 'schools': 1, 'hideous': 1, 'headsman': 1, 'translated': 1, 'eaten': 1, 'garments': 1, 'beatings': 1, 'spoken': 1, 'fishers': 1, 'sisera': 1, 'herbert': 1, 'serpents': 1, 'blowing': 1, 'personality': 1, 'mons': 1, 'entire': 1, 'company': 1, 'moons': 1, 'robbers': 1, 'wishes': 1, 'disputing': 1, 'formally': 1, 'pens': 1, \"men's\": 1, 'trumpets': 1, '13th': 1, 'correctness': 1, 'dove': 1, 'six': 1, 'edomites': 1, 'statue': 1, 'speaks': 1, 'worship': 1, 'frizzed': 1, 'peradventure': 1, 'divers': 1, 'insults': 1, 'child': 1, 'holes': 1, 'persians': 1, 'everybody': 1, 'corpse': 1, 'designs': 1, 'rejoice': 1, 'mightier': 1, 'lepers': 1, 'defiled': 1, 'ring': 1, 'complained': 1, 'mortar': 1, 'poem': 1, 'wife': 1, 'characteristic': 1, 'literature': 1, 'blossom': 1, 'manes': 1, 'fifty': 1, 'captains': 1, 'mine': 1, 'names': 1, 'blasts': 1, 'intensely': 1, 'avail': 1, 'belongs': 1, 'impugned': 1, 'too': 1, 'nonsense': 1, 'actress': 1, 'spilt': 1, 'uproar': 1, 'helmets': 1, 'maidens': 1, 'island': 1, 'rough': 1, 'smite': 1, 'recurring': 1, 'lips': 1, 'leper': 1, 'prays': 1, '15': 1, 'treat': 1, 'obedient': 1, 'lawrence': 1, 'custom': 1, 'mme': 1, 'explaining': 1, 'appeared': 1, 'forgotten': 1, 'fast': 1, 'parade': 1, 'thin': 1, 'incarcerated': 1, 'worthy': 1, 'dyed': 1, 'spoke': 1, 'calm': 1, 'temples': 1, 'robe': 1, '2013': 1, 'vine': 1, 'oneself': 1, 'fan': 1, 'galilee': 1, 'laughing': 1, 'babylon': 1, 'hearken': 1, 'lane': 1, 'flute': 1, 'shields': 1, 'vineyards': 1, 'bodies': 1, 'said': 1, 'longer': 1, 'trouble': 1, 'done': 1, 'hunt': 1, 'attributed': 1, 'subtle': 1, 'fearful': 1, 'died': 1, 'emperor': 1, 'mad': 1, 'odd': 1, 'evening': 1, 'remarked': 1, 'sandals': 1, 'stanley': 1, 'shield': 1, 'mantle': 1, 'turquoises': 1, 'critic': 1, 'moves': 1, 'dancers': 1, 'offerings': 1, 'carrie': 1, 'moab': 1, 'disappear': 1, 'clothe': 1, 'arabia': 1, 'perfumed': 1, '0': 1, 'admirers': 1, 'sarcey': 1, 'hair': 1, 'blind': 1, 'boat': 1, 'maddens': 1, 'mowed': 1, 'doubt': 1, 'pierce': 1, 'taken': 1, 'dip': 1, 'beneath': 1, 'sadducees': 1, 'recoil': 1, 'rods': 1, 'sunrise': 1, 'myrrh': 1, 'naaman': 1, 'shade': 1, 'friendship': 1, 'mouth': 1, \"dreamer's\": 1, 'represented': 1, 'nest': 1, 'theme': 1, 'walls': 1, 'nevertheless': 1, 'strike': 1, 'mortified': 1, 'thirsty': 1, 'talked': 1, 'guest': 1, 'drawling': 1, 'beaten': 1, 'louise': 1, 'actor': 1, 'oh': 1, 'fallen': 1, 'wouldst': 1, 'popularity': 1, 'samothrace': 1, 'art': 1, 'slain': 1, 'ago': 1, 'player': 1, 'yea': 1, 'stronger': 1, 'jew': 1, 'fig': 1, 'score': 1, 'next': 1, 'drunken': 1, 'cloud': 1, \"dragon's\": 1, 'knoweth': 1, 'drawings': 1, 'thy': 1, 'giant': 1, 'charles': 1, 'naked': 1, 'chained': 1, 'muntz': 1, 'honey': 1, 'philosophy': 1, 'ill': 1, \"lachmann's\": 1, 'vraisemblance': 1, 'mountain': 1, 'poë': 1, 'gentle': 1, 'lo': 1, 'manasseh': 1, 'drama': 1, 'haunt': 1, 'kneel': 1, 'tipped': 1, 'dulness': 1, 'latchet': 1, 'humour': 1, 'infamous': 1, 'hungry': 1, 'promised': 1, 'horrible': 1, 'correct': 1, 'viper': 1, 'oath': 1, 'catalogue': 1, 'greater': 1, 'tapestry': 1, 'rage': 1, 'sweden': 1, 'foretell': 1, 'shroud': 1, 'dragged': 1, 'changes': 1, 'cæsar': 1, 'translator': 1, 'sometimes': 1, 'race': 1, \"'\": 1, 'leans': 1, 'repay': 1, 'dared': 1, 'least': 1, \"christie's\": 1, 'swear': 1, 'hedwig': 1, 'naught': 1, 'england': 1, 'moment': 1, 'troubled': 1, 'midst': 1, 'priests': 1, 'lily': 1, 'prophesied': 1, 'banquet': 1, 'languorous': 1, \"virgin's\": 1, 'performance': 1, 'sure': 1, 'cheeks': 1, 'eggs': 1, 'reviews': 1, 'design': 1, 'philosophers': 1, 'sardonyx': 1, 'whitened': 1, 'whithersoever': 1, 'coral': 1, 'reward': 1, 'lakes': 1, 'sources': 1, 'wearies': 1, 'beryls': 1, 'capernaum': 1, 'stained': 1, 'basilisk': 1, 'ridicule': 1, 'artisan': 1, 'crawled': 1, 'murby': 1, 'doth': 1, 'cups': 1, 'taste': 1, 'criticism': 1, 'kill': 1, 'kissed': 1, 'sick': 1, 'limned': 1, 'announced': 1, 'collar': 1, 'seems': 1, 'vehemently': 1, 'field': 1, 'bites': 1, 'dost': 1, 'believe': 1})\n"
     ]
    }
   ],
   "source": [
    "print(t.word_counts)\n",
    "print(t.document_count)\n",
    "print(t.word_docs)"
   ]
  },
  {
   "cell_type": "markdown",
   "metadata": {
    "colab_type": "text",
    "id": "vpZ0A2-xHdxp"
   },
   "source": [
    "### Vectorize the text\n",
    "\n",
    "Before training, we need to map strings to a numerical representation. Create two lookup tables: one mapping words to numbers, and another for numbers to words."
   ]
  },
  {
   "cell_type": "code",
   "execution_count": 0,
   "metadata": {
    "colab": {},
    "colab_type": "code",
    "id": "N_SMbcuzdFSj"
   },
   "outputs": [],
   "source": [
    "#Build a dictionary which can convert numbers into words\n",
    "int_to_word = dict((i,c) for c, i in t.word_index.items())"
   ]
  },
  {
   "cell_type": "code",
   "execution_count": 0,
   "metadata": {
    "colab": {
     "base_uri": "https://localhost:8080/",
     "height": 34
    },
    "colab_type": "code",
    "id": "LDN8jeH6dFyf",
    "outputId": "3d9ff925-f5d7-4bd0-c3ce-255c5c13bb18"
   },
   "outputs": [
    {
     "data": {
      "text/plain": [
       "'only'"
      ]
     },
     "execution_count": 14,
     "metadata": {
      "tags": []
     },
     "output_type": "execute_result"
    }
   ],
   "source": [
    "int_to_word[115]"
   ]
  },
  {
   "cell_type": "markdown",
   "metadata": {
    "colab_type": "text",
    "id": "YMYdjx4aHdxu"
   },
   "source": [
    "Get the word count for every word and also get the total number of words."
   ]
  },
  {
   "cell_type": "code",
   "execution_count": 0,
   "metadata": {
    "colab": {
     "base_uri": "https://localhost:8080/",
     "height": 71
    },
    "colab_type": "code",
    "id": "ioEZ2c21Hdxw",
    "outputId": "f63d5914-4d10-4a90-8080-5b6ce7782e20"
   },
   "outputs": [
    {
     "name": "stdout",
     "output_type": "stream",
     "text": [
      "OrderedDict([('\\ufeffthe', 2), ('project', 173), ('gutenberg', 193), ('ebook', 21), ('for', 155), ('love', 18), ('of', 851), ('the', 1474), ('king', 51), ('by', 95), ('oscar', 14), ('wilde', 22), ('this', 166), ('is', 448), ('use', 26), ('anyone', 10), ('anywhere', 4), ('at', 147), ('no', 89), ('cost', 6), ('and', 465), ('with', 216), ('almost', 6), ('restrictions', 4), ('whatsoever', 10), ('you', 364), ('may', 56), ('copy', 24), ('it', 292), ('give', 39), ('away', 11), ('or', 167), ('re', 4), ('under', 18), ('terms', 42), ('license', 32), ('included', 6), ('online', 8), ('www', 22), ('org', 26), ('title', 7), ('a', 486), ('burmese', 15), ('masque', 4), ('author', 5), ('release', 2), ('date', 6), ('october', 1), ('28', 1), ('2007', 1), ('23229', 4), ('language', 5), ('english', 10), ('character', 2), ('set', 24), ('encoding', 1), ('iso', 1), ('646', 1), ('us', 22), ('ascii', 5), ('start', 7), ('transcribed', 1), ('from', 86), ('1922', 2), ('methuen', 3), ('co', 3), ('jarrold', 1), ('sons', 6), ('edition', 5), ('david', 1), ('price', 5), ('email', 6), ('ccx074', 1), ('pglaf', 7), ('ltd', 2), ('36', 1), ('essex', 1), ('street', 4), ('w', 2), ('c', 14), ('london', 2), ('first', 51), ('published', 2), ('in', 354), ('on', 113), ('handmade', 1), ('paper', 3), ('limited', 11), ('to', 467), ('1000', 1), ('copies', 15), ('introductory', 1), ('note', 3), ('very', 27), ('interesting', 2), ('richly', 1), ('coloured', 6), ('pantomimic', 1), ('play', 21), ('which', 50), ('here', 22), ('printed', 6), ('book', 2), ('form', 12), ('time', 12), ('was', 81), ('invented', 1), ('sometime', 1), ('1894', 2), ('possibly', 1), ('little', 24), ('earlier', 1), ('written', 14), ('not', 275), ('publication', 2), ('but', 89), ('as', 83), ('personal', 3), ('gift', 1), (\"author's\", 2), ('friend', 5), ('his', 96), ('family', 1), ('mrs', 6), ('chan', 5), ('toon', 5), ('sent', 11), ('her', 110), ('letter', 5), ('that', 288), ('follows', 1), ('explains', 4), ('its', 37), ('origin', 1), ('before', 12), ('marriage', 8), ('mr', 16), ('gentleman', 1), ('nephew', 1), ('burma', 1), ('barrister', 1), ('middle', 3), ('temple', 5), ('miss', 5), ('mabel', 1), ('cosgrove', 2), ('daughter', 44), ('ernest', 1), ('lancaster', 1), ('gate', 2), ('sir', 3), ('william', 1), ('lady', 1), ('herself', 12), ('brought', 7), ('up', 24), ('brother', 10), ('willie', 1), ('long', 14), ('while', 11), ('who', 105), ('after', 3), (\"husband's\", 1), ('death', 9), ('became', 1), ('woodhouse', 1), ('pearse', 1), ('refused', 1), ('permit', 1), ('be', 115), ('late', 5), ('robert', 4), ('ross', 2), ('much', 17), ('wanted', 1), ('include', 3), ('an', 50), (\"wilde's\", 2), ('works', 65), ('now', 17), ('forms', 2), ('part', 13), ('he', 249), ('could', 7), ('obtain', 7), (\"owner's\", 1), ('consent', 2), ('arrangement', 1), ('however', 6), ('having', 2), ('been', 21), ('completed', 1), ('made', 12), ('public', 19), ('tite', 1), ('chelsea', 1), ('november', 1), ('27', 1), ('my', 101), ('dear', 3), ('i', 423), ('am', 56), ('greatly', 1), ('repentant', 1), ('being', 4), ('so', 42), ('acknowledging', 1), ('receipt', 5), ('told', 3), ('pagoda', 7), ('enjoyed', 1), ('reading', 4), ('stories', 1), ('admired', 2), ('their', 41), ('quaint', 1), ('delicate', 1), ('charm', 1), ('burmah', 5), ('calls', 1), ('me', 161), ('another', 5), ('cover', 6), ('sending', 3), ('fairy', 2), ('entitled', 1), ('just', 7), ('your', 49), ('own', 3), ('amusement', 1), ('outcome', 1), ('luminous', 1), ('talks', 2), ('distinguished', 2), ('husband', 3), ('river', 4), ('days', 14), ('when', 39), ('meditating', 1), ('writing', 8), ('novel', 2), ('beautiful', 13), ('intricate', 1), ('persian', 1), ('praying', 1), ('rug', 1), ('hope', 3), ('have', 139), ('caught', 2), ('atmosphere', 1), ('should', 21), ('like', 101), ('see', 41), ('acted', 1), ('garden', 10), ('house', 2), ('some', 22), ('night', 16), ('sky', 5), ('sheet', 1), ('violet', 2), ('stars', 9), (\"women's\", 1), ('eyes', 26), ('alas', 1), ('likely', 1), ('throes', 1), ('new', 13), ('comedy', 1), ('met', 3), ('perfectly', 2), ('wonderful', 8), ('person', 10), ('other', 39), ('day', 19), ('unconsciously', 1), ('has', 108), ('irradiated', 1), ('present', 5), ('sinuous', 1), ('suggestion', 1), ('swedish', 1), ('baron', 1), ('french', 8), ('manner', 1), ('athenian', 1), ('mind', 1), ('oriental', 4), ('morals', 1), ('society', 1), ('series', 1), ('revelations', 1), ('oakley', 1), ('thursday', 2), ('mother', 13), ('tells', 7), ('she', 124), ('sends', 1), ('nearly', 5), ('every', 5), ('week', 2), ('constance', 1), ('desires', 6), ('warmly', 1), ('remembered', 1), ('bathing', 1), ('brow', 1), ('perfume', 1), ('water', 6), ('lilies', 4), ('lay', 2), ('myself', 2), ('feet', 17), ('yours', 3), ('principal', 3), ('characters', 1), ('meng', 19), ('beng', 19), ('lord', 24), ('thousand', 2), ('white', 23), ('elephants', 2), ('countless', 2), ('umbrellas', 1), ('attributes', 1), ('greatness', 3), ('u', 15), ('rai', 9), ('gyan', 9), ('thoo', 9), ('prime', 1), ('minister', 3), ('shah', 1), ('mah', 20), ('phru', 20), ('girl', 7), ('half', 12), ('italian', 3), ('dazzling', 1), ('beauty', 10), ('dhammathat', 1), ('legal', 5), ('adviser', 1), ('court', 5), ('hip', 4), ('loong', 4), ('chinese', 4), ('wizard', 11), ('great', 30), ('repute', 1), ('moung', 3), ('pho', 3), ('mhin', 3), ('finance', 1), ('two', 23), ('envoys', 1), ('ceylon', 3), ('nobles', 1), ('courtiers', 5), ('soothsayers', 1), ('poonygees', 2), ('dancing', 4), ('girls', 4), ('betel', 2), ('nut', 2), ('carriers', 1), ('umbrella', 1), ('bearers', 2), ('followers', 2), ('servants', 6), ('slaves', 6), ('amongst', 3), ('whom', 16), ('are', 190), ('several', 3), ('indians', 1), ('sixteenth', 1), ('century', 1), ('act', 6), ('scene', 16), ('palace', 13), ('laid', 1), ('hall', 4), ('hundred', 5), ('doors', 4), ('distance', 4), ('can', 51), ('seen', 21), ('moat', 1), ('waiting', 3), ('peacocks', 10), ('promenading', 1), ('proudly', 1), ('blinding', 1), ('sunshine', 1), ('afternoon', 2), ('discovers', 4), ('seated', 7), ('raised', 2), ('cushion', 1), ('sewn', 3), ('rubies', 3), ('canopy', 1), ('supported', 1), ('four', 5), ('attendants', 3), ('motionless', 3), ('bronze', 3), ('figures', 2), ('side', 3), ('box', 3), ('glittering', 1), ('gems', 1), ('either', 3), ('him', 92), ('lower', 1), ('down', 10), ('ambassadors', 6), (\"ceylon's\", 2), ('only', 27), (\"years'\", 1), ('men', 20), ('grave', 1), ('majestic', 1), ('mien', 2), ('clad', 2), ('flowing', 1), ('robes', 1), ('monastic', 1), ('simplicity', 1), ('they', 85), ('smoke', 1), ('gravely', 1), ('invitation', 1), ('round', 8), ('about', 27), ('grouped', 1), ('kneeling', 2), ('background', 1), ('wait', 2), ('banners', 2), ('propelled', 1), ('measured', 2), ('rhythm', 1), ('create', 1), ('agreeable', 1), ('breeze', 2), ('table', 4), ('gold', 11), ('stand', 3), ('goblets', 3), ('heaped', 5), ('fruits', 4), ('everywhere', 6), ('will', 146), ('observed', 1), ('emblems', 1), ('royal', 3), ('peacock', 10), ('sacred', 1), ('elephant', 4), ('musical', 3), ('instruments', 2), ('sound', 8), ('abrupt', 1), ('charming', 3), ('discord', 1), ('poinsettias', 1), ('flower', 5), ('punctuates', 1), ('points', 1), ('deepest', 2), ('colour', 6), ('out', 22), ('vases', 1), ('fashioned', 3), ('lotus', 1), ('orchids', 1), ('indescribable', 2), ('scent', 2), ('steals', 1), ('across', 6), ('footlights', 1), ('glow', 1), ('sun', 11), ('swept', 1), ('vista', 1), ('sweeps', 1), ('senses', 1), ('claps', 1), ('hands', 10), ('signal', 1), ('advance', 2), ('dresses', 2), ('fish', 1), ('scales', 1), ('fastened', 1), ('diamonds', 1), ('pale', 9), ('emeralds', 1), ('imitate', 2), ('upthrown', 1), ('spray', 1), ('crest', 1), ('wave', 1), ('dance', 40), ('concluded', 1), ('cingalese', 1), ('rise', 3), ('prepare', 5), ('take', 9), ('ceremonious', 1), ('leave', 5), ('them', 45), ('through', 12), ('vizier', 3), ('message', 1), ('majesty', 1), ('inscribed', 1), ('palm', 3), ('leaves', 7), ('enclosed', 1), ('bejewelled', 1), ('casket', 1), ('many', 9), ('flowery', 1), ('speeches', 1), ('pass', 7), ('exit', 3), ('l', 3), ('walking', 1), ('backwards', 1), ('expresses', 2), ('desire', 9), ('rest', 2), ('starting', 1), ('moon', 31), ('taboung', 1), ('4', 15), ('golden', 10), ('flowers', 9), ('alcove', 1), ('satin', 1), ('hangings', 1), ('commands', 1), ('view', 4), ('crowd', 3), ('break', 4), ('into', 22), ('groups', 2), ('converse', 4), ('tendency', 1), ('interference', 2), ('affairs', 2), ('state', 13), ('extreme', 1), ('youth', 1), ('delicacy', 1), ('temperament', 1), ('pity', 1), ('delayed', 1), ('necessity', 1), ('find', 10), ('distraction', 1), ('meantime', 1), ('suddenly', 2), ('tom', 1), ('toms', 1), ('loudly', 1), ('there', 61), ('movement', 1), ('rises', 8), ('over', 8), ('sea', 10), ('torches', 6), ('flare', 1), ('move', 3), ('fro', 1), ('gardens', 4), ('beyond', 4), ('trappings', 1), ('led', 1), ('entrance', 1), ('where', 25), ('word', 11), ('sinks', 3), ('obediently', 1), ('ground', 3), ('appears', 6), ('changed', 2), ('gay', 2), ('apple', 2), ('green', 5), ('dress', 3), ('one', 46), ('more', 23), ('sombre', 8), ('hue', 1), ('enters', 2), ('howdah', 1), ('procession', 1), ('starts', 1), ('consists', 1), ('fewer', 1), ('than', 21), ('persons', 3), ('keeping', 5), ('audience', 3), ('until', 3), ('lost', 1), ('bend', 1), ('avenue', 1), ('ii', 5), ('midnight', 1), ('surrounded', 2), ('peepul', 1), ('trees', 10), ('htee', 1), ('6', 7), ('crown', 3), ('myriad', 3), ('jewels', 5), ('towards', 4), ('star', 3), ('studded', 1), ('bells', 2), ('tinkling', 1), ('soft', 2), ('wind', 10), ('curtain', 10), ('circular', 1), ('platform', 2), ('deserted', 1), ('statues', 1), ('buddha', 2), ('recumbent', 1), ('fill', 4), ('numberless', 1), ('niches', 1), ('wall', 6), ('each', 7), ('burn', 2), ('candles', 1), ('pink', 2), ('roses', 6), ('japonica', 1), ('brass', 1), ('trays', 1), ('lit', 1), ('above', 5), ('swinging', 2), ('lamps', 1), ('intervals', 2), ('stalls', 1), ('laden', 1), ('fruit', 6), ('cheroots', 3), ('all', 77), ('mysterious', 3), ('solemn', 1), ('deep', 5), ('gong', 2), ('tolls', 1), ('people', 23), ('emerge', 1), ('staircases', 1), ('lead', 4), ('women', 6), ('children', 7), ('gala', 1), ('attire', 1), ('young', 50), ('conversing', 1), ('gesticulating', 1), ('smiling', 3), ('older', 1), ('subdued', 3), ('carry', 3), ('beads', 1), ('votive', 1), ('offering', 1), ('huge', 4), ('cigars', 1), ('meet', 4), ('greet', 2), ('handsome', 1), ('smoking', 2), ('wearing', 1), ('ears', 4), ('silently', 2), ('balls', 2), ('corners', 2), ('canopies', 1), ('fortune', 1), ('tellers', 1), ('busy', 1), ('casting', 1), ('horoscopes', 1), ('veritable', 1), ('riot', 1), ('never', 35), ('discordant', 1), ('passes', 2), ('alone', 6), ('unrecognised', 1), ('disappears', 1), ('double', 2), ('heavily', 1), ('carved', 2), ('teak', 1), ('wood', 2), ('hardly', 1), ('passed', 3), ('lovely', 3), ('distress', 1), ('whispers', 1), ('come', 53), ('few', 6), ('hear', 23), ('shrug', 1), ('shoulders', 1), ('smile', 3), ('incredulous', 1), ('goes', 7), ('group', 4), ('turn', 2), ('disdain', 1), ('then', 12), ('open', 3), ('throws', 2), ('fashion', 7), ('path', 2), ('pathos', 1), ('arrest', 1), ('attention', 3), ('waves', 2), ('aside', 3), ('those', 15), ('would', 32), ('interfere', 2), ('implores', 1), (\"king's\", 2), ('protection', 1), ('willing', 1), ('slave', 13), ('listens', 4), ('since', 6), (\"father's\", 1), ('continuously', 1), ('persecuted', 1), ('village', 1), ('count', 1), ('blood', 19), ('poverty', 3), ('invites', 1), ('hut', 3), ('forest', 5), ('verify', 1), ('what', 72), ('says', 18), ('gesture', 2), ('signifies', 1), ('follow', 6), ('leads', 1), ('gathers', 1), ('hushed', 1), ('silence', 9), ('entranced', 1), ('puts', 1), ('any', 86), ('way', 8), ('precedes', 1), ('going', 7), ('reaches', 2), ('staircase', 3), ('beckons', 1), ('downward', 1), ('hand', 11), ('grouping', 1), ('make', 16), ('rare', 1), ('iii', 3), ('humble', 1), ('dhunni', 1), ('thatched', 1), ('amidst', 1), ('whispering', 1), ('grandeur', 1), ('jungle', 3), ('mighty', 4), ('trackless', 1), ('paths', 1), ('amazement', 1), ('loneliness', 2), ('lot', 3), ('frightens', 1), ('enmity', 1), ('live', 5), ('yonder', 4), ('impossible', 5), ('sell', 1), ('cucumbers', 1), ('pineapples', 1), ('gaze', 4), ('face', 9), ('figure', 1), ('declares', 2), ('protect', 5), ('build', 1), ('home', 2), ('shadow', 3), ('around', 1), ('years', 16), ('unfettered', 1), ('freedom', 1), ('command', 7), ('life', 12), ('loves', 3), ('paradise', 1), ('together', 5), ('trembles', 1), ('joy', 2), ('fear', 8), ('surprise', 2), ('asks', 4), ('answers', 2), ('once', 5), ('noonday', 1), ('place', 11), ('building', 1), ('villa', 1), ('chunam', 1), ('curled', 2), ('roofs', 2), ('rising', 5), ('gilded', 6), ('adorned', 1), ('spiral', 1), ('carvings', 1), ('jewel', 1), ('encrusted', 1), ('broad', 3), ('verandahs', 1), ('thrown', 1), ('eastern', 3), ('carpets', 2), ('rugs', 1), ('embroideries', 1), ('world', 19), ('soaked', 1), ('surrounding', 2), ('sentinel', 1), ('burning', 1), ('light', 8), ('squat', 1), ('steps', 2), ('crows', 1), ('croak', 1), ('drowsily', 1), ('parrots', 2), ('scream', 1), ('intermittently', 2), ('guitar', 1), ('playing', 1), ('venetian', 2), ('song', 1), ('heard', 17), ('coming', 5), ('interior', 1), ('otherwise', 1), ('apparently', 2), ('sleeps', 1), ('elderly', 1), ('retainers', 1), ('thakin', 1), ('tire', 1), ('kindly', 1), ('contempt', 1), ('end', 7), ('already', 6), ('read', 8), ('dawn', 3), ('whence', 2), ('know', 25), ('heart', 1), ('choice', 1), ('war', 2), ('fate', 1), ('shifts', 1), ('kisses', 1), ('quiver', 1), ('gracefully', 1), ('appear', 4), ('r', 1), ('bearing', 3), ('shamiana', 1), ('tent', 3), ('silver', 24), ('poles', 1), ('chairs', 2), ('foot', 1), ('supports', 1), ('embroidered', 2), ('fans', 3), ('three', 7), ('musicians', 2), ('semi', 1), ('costume', 1), ('erected', 1), ('enter', 13), ('followed', 2), ('carrying', 2), ('tiny', 1), ('hips', 1), ('retire', 1), ('seat', 2), ('themselves', 9), ('carven', 1), ('placed', 2), ('given', 6), ('glass', 4), ('affection', 1), ('zephyr', 1), ('airs', 2), ('talk', 4), ('smokes', 1), ('cigar', 1), ('big', 3), ('yellow', 5), ('affected', 1), ('wants', 1), ('sadly', 1), ('happy', 13), ('god', 31), ('smiles', 3), ('radiantly', 1), ('suspects', 1), ('nothing', 25), ('richest', 1), ('mandalay', 1), ('silks', 1), ('wears', 6), ('nadoungs', 1), ('presently', 2), ('arranges', 1), ('ivory', 10), ('chessmen', 1), ('low', 2), ('between', 4), ('slowly', 8), ('approaching', 2), ('wheels', 1), ('preceded', 1), ('looks', 8), ('alarm', 1), ('etc', 2), ('forward', 4), ('presents', 1), ('does', 18), ('curtains', 2), ('opening', 2), ('dropped', 1), ('music', 6), ('ceases', 2), ('grand', 1), ('apart', 1), ('princess', 51), ('ship', 1), ('convoy', 1), ('sighted', 1), ('city', 4), ('eager', 1), ('expectancy', 1), ('worshipped', 2), ('enough', 6), ('subjects', 1), ('bride', 1), ('call', 6), ('terribly', 1), ('distressed', 1), ('return', 13), ('remain', 6), ('also', 19), ('dead', 26), ('seeks', 2), ('explain', 1), ('urgent', 1), ('back', 11), ('perhaps', 4), ('waning', 1), ('parting', 1), ('sad', 5), ('pensive', 1), ('sadness', 1), ('look', 64), ('peculiar', 3), ('mounts', 1), ('verandah', 2), ('watch', 2), ('go', 20), ('behind', 4), ('sinking', 3), ('cushions', 4), ('faints', 1), ('melancholy', 2), ('cry', 8), ('fills', 2), ('drop', 1), ('seven', 4), ('elapsed', 1), ('same', 6), ('high', 4), ('clearance', 1), ('full', 37), ('road', 2), ('watching', 3), ('always', 17), ('boys', 1), ('murmurs', 3), ('morrow', 3), ('without', 19), ('fail', 1), ('cries', 2), ('last', 4), ('returns', 3), ('bevy', 1), ('horsemen', 1), ('wondering', 1), ('descends', 3), ('dressed', 1), ('mourning', 1), ('fears', 1), ('worst', 1), ('old', 10), ('man', 45), ('reassures', 1), ('queen', 16), ('heir', 1), ('demands', 2), ('learns', 1), ('lover', 1), ('ruler', 1), ('country', 9), ('supreme', 2), ('master', 2), ('dictator', 1), ('everyone', 3), ('weeping', 1), ('daring', 1), ('disobey', 1), ('summons', 1), ('knees', 2), ('entreats', 1), ('moving', 1), ('pathetic', 2), ('words', 12), ('permitted', 5), ('lowest', 1), ('most', 9), ('menial', 1), ('capacity', 1), ('refuses', 1), ('even', 22), ('kings', 10), ('forget', 5), ('earth', 9), ('orders', 1), ('necessary', 2), ('arrangements', 1), ('safe', 1), ('journey', 1), ('future', 7), ('passive', 1), ('bewildered', 1), ('afraid', 22), ('risen', 2), ('if', 68), ('turned', 1), ('model', 1), ('restraint', 1), ('dignity', 1), ('blent', 1), ('infinite', 1), ('grace', 1), ('fitted', 1), ('things', 29), ('dragons', 4), ('jade', 3), ('gleaming', 1), ('dim', 1), ('buddhas', 2), ('gigantic', 2), ('size', 2), ('priceless', 1), ('metals', 1), ('heads', 4), ('fringes', 1), ('stones', 4), ('lanterns', 1), ('slides', 1), ('painted', 5), ('grotesque', 1), ('air', 10), ('joss', 1), ('sticks', 1), ('reclines', 1), ('divan', 1), ('inhaling', 1), ('opium', 1), ('clothed', 4), ('gorgeousness', 1), ('china', 1), ('blue', 6), ('tomato', 1), ('red', 17), ('predominate', 1), ('appearance', 1), ('wrinkled', 1), ('walnut', 1), ('forehead', 4), ('lattice', 1), ('work', 96), ('wrinkles', 1), ('pigtail', 1), ('braided', 1), ('twisted', 2), ('head', 20), ('claws', 1), ('effect', 1), ('weird', 1), ('unearthly', 1), ('motions', 1), ('piled', 1), ('unmoved', 1), ('recital', 1), ('tragedy', 3), ('pendulums', 1), ('finished', 1), ('speaking', 2), ('makes', 5), ('reply', 1), ('how', 32), ('passion', 2), ('ends', 1), ('lived', 1), ('planet', 1), ('ever', 11), ('listening', 4), ('again', 10), ('bird', 10), ('fly', 3), ('walk', 6), ('terrace', 7), ('rose', 4), ('trembling', 2), ('shall', 37), ('paddy', 1), ('because', 7), ('though', 3), ('woman', 19), ('foolish', 2), ('pure', 1), ('o', 3), ('dissents', 1), ('paces', 1), ('room', 1), ('transform', 1), ('leaning', 2), ('elbow', 1), ('revelation', 1), ('mocking', 1), ('comprehension', 1), ('bows', 1), ('lights', 1), ('fade', 1), ('colonnades', 1), ('stretch', 1), ('fountains', 1), ('throwing', 1), ('shower', 1), ('monstrous', 6), ('stately', 1), ('tread', 2), ('turf', 1), ('larger', 3), ('perched', 1), ('drooping', 1), ('folded', 1), ('tail', 3), ('pillared', 1), ('overhangs', 1), ('aglow', 1), ('yet', 6), ('holds', 1), ('shadowed', 1), ('perturbed', 1), ('accompanied', 2), ('physicians', 3), ('astrologers', 3), ('cannot', 26), ('say', 25), ('sudden', 2), ('illness', 1), ('attacked', 1), ('defies', 1), ('skill', 1), ('declare', 2), ('courses', 1), ('fight', 1), ('against', 16), ('recovery', 1), ('unless', 9), ('miracle', 3), ('happen', 13), ('ministers', 3), ('regard', 3), ('consternation', 1), ('bent', 1), ('spreads', 2), ('utters', 1), ('poignant', 1), ('pain', 1), ('listeners', 1), ('superstitious', 1), ('horror', 1), ('folds', 1), ('resumes', 1), ('meditations', 1), ('birds', 12), ('astrologer', 1), ('watched', 2), ('past', 3), ('others', 6), ('avoid', 1), ('think', 14), ('soul', 3), ('mistake', 1), ('replies', 1), ('colleague', 1), ('evil', 13), ('nat', 1), ('32', 2), ('observe', 2), ('spirit', 1), ('prison', 2), ('wake', 1), ('closes', 1), ('princes', 1), ('pegu', 1), ('hounds', 1), ('tones', 2), ('strolling', 1), ('pages', 3), ('honour', 2), ('grain', 1), ('proceed', 1), ('distribute', 13), ('rapidly', 1), ('approach', 4), ('stirs', 2), ('watches', 2), ('elder', 2), ('comes', 11), ('handful', 1), ('food', 1), ('proffers', 1), ('eat', 6), ('understand', 7), ('kingdom', 10), ('strokes', 1), ('feathers', 3), ('touch', 5), ('plumage', 1), ('scintillates', 1), ('brighter', 1), ('exquisite', 3), ('sheen', 1), ('mythical', 1), ('mortally', 2), ('stricken', 2), ('lies', 5), ('strange', 16), ('agony', 1), ('hearts', 1), ('himself', 24), ('numb', 1), ('sorrow', 1), ('knows', 4), ('eagerly', 1), ('speaker', 1), ('reign', 1), ('stead', 1), ('prospect', 1), ('must', 48), ('die', 4), ('dwell', 2), ('awaits', 1), ('wings', 13), ('flight', 1), ('crouches', 1), ('prince', 1), ('envelops', 1), ('both', 5), ('shaft', 2), ('purple', 6), ('servant', 2), ('grass', 2), ('shikoes', 1), ('profoundly', 1), ('lifting', 1), ('reverence', 1), ('nears', 1), ('unknown', 2), ('iv', 1), ('retreat', 1), ('returned', 1), ('human', 1), ('restored', 1), ('former', 1), ('implored', 1), ('do', 105), ('hours', 1), ('consequence', 1), ('such', 23), ('insensate', 1), ('folly', 1), ('breaking', 1), ('vow', 1), ('five', 4), ('happiness', 2), ('someone', 5), ('fairer', 2), ('well', 32), ('looked', 10), (\"heart's\", 1), ('beloved', 2), ('voice', 26), ('trembled', 1), ('footsteps', 1), ('waited', 1), ('gazed', 1), ('known', 2), ('content', 1), ('v', 1), ('bed', 3), ('chamber', 2), ('vast', 2), ('shadowy', 1), ('covers', 1), ('pearl', 1), ('creamy', 1), ('velvet', 1), ('baldaquin', 1), ('bears', 2), ('ashen', 1), ('pallor', 1), ('dark', 2), ('skins', 1), ('motley', 1), ('gathering', 1), ('scattered', 4), ('anxious', 3), ('murmuring', 1), ('space', 1), ('near', 5), ('couch', 1), ('clear', 1), ('breaks', 1), ('stealing', 1), ('flush', 1), ('till', 2), ('porphyry', 1), ('tolling', 1), ('voices', 1), ('invade', 1), ('throbbing', 1), ('murmur', 1), (\"everyone's\", 1), ('turns', 2), ('dying', 1), ('ascendant', 1), ('touches', 1), ('caress', 1), ('opens', 1), ('raise', 6), ('restorative', 1), ('rallies', 1), ('slightly', 1), ('far', 2), ('rudely', 1), ('opened', 2), ('advances', 1), ('thrusting', 1), ('roughly', 1), ('stretched', 1), ('bar', 1), ('bring', 18), ('saying', 2), ('falls', 4), ('rush', 2), ('stands', 1), ('erect', 1), ('benediction', 1), ('glitter', 1), ('whole', 5), ('sing', 1), ('footnotes', 1), ('greatest', 2), ('feasts', 1), ('buddhist', 1), ('year', 2), ('spire', 1), ('file', 4), ('named', 2), ('txt', 2), ('zip', 2), ('associated', 16), ('files', 4), ('various', 2), ('formats', 4), ('found', 10), ('http', 10), ('dirs', 1), ('2', 12), ('3', 22), ('updated', 2), ('editions', 8), ('replace', 2), ('previous', 2), ('renamed', 2), ('creating', 8), ('domain', 16), ('print', 2), ('means', 7), ('owns', 4), ('united', 20), ('states', 28), ('copyright', 28), ('these', 18), ('foundation', 44), ('permission', 14), ('paying', 4), ('royalties', 4), ('special', 2), ('rules', 4), ('forth', 23), ('general', 6), ('apply', 2), ('copying', 8), ('distributing', 14), ('tm', 112), ('electronic', 54), ('concept', 4), ('trademark', 22), ('registered', 4), ('used', 10), ('charge', 13), ('ebooks', 14), ('receive', 6), ('specific', 2), ('anything', 5), ('complying', 6), ('easy', 3), ('purpose', 4), ('creation', 2), ('derivative', 6), ('reports', 2), ('performances', 2), ('research', 4), ('modified', 2), ('practically', 2), ('redistribution', 4), ('subject', 6), ('especially', 2), ('commercial', 2), ('please', 9), ('mission', 8), ('promoting', 4), ('free', 10), ('distribution', 12), ('using', 8), ('phrase', 8), ('agree', 18), ('comply', 12), ('available', 6), ('section', 14), ('1', 95), ('redistributing', 4), ('indicate', 2), ('accept', 2), ('intellectual', 4), ('property', 4), ('agreement', 36), ('abide', 2), ('cease', 2), ('destroy', 4), ('possession', 2), ('paid', 12), ('fee', 16), ('obtaining', 4), ('access', 20), ('bound', 4), ('refund', 20), ('entity', 6), ('paragraph', 22), ('e', 46), ('8', 11), ('b', 6), ('below', 6), ('help', 6), ('preserve', 2), ('literary', 28), ('archive', 28), ('compilation', 2), ('collection', 8), ('individual', 8), ('located', 8), ('we', 38), ('claim', 2), ('right', 18), ('prevent', 2), ('performing', 6), ('displaying', 8), ('based', 4), ('references', 4), ('removed', 4), ('course', 5), ('support', 8), ('freely', 8), ('sharing', 2), ('compliance', 10), ('name', 6), ('easily', 2), ('format', 8), ('attached', 2), ('share', 2), ('d', 2), ('laws', 16), ('govern', 2), ('countries', 2), ('constant', 2), ('change', 4), ('outside', 7), ('check', 4), ('addition', 2), ('downloading', 2), ('representations', 2), ('concerning', 10), ('status', 8), ('following', 7), ('sentence', 4), ('active', 4), ('links', 6), ('immediate', 4), ('prominently', 4), ('whenever', 2), ('accessed', 2), ('displayed', 2), ('performed', 5), ('viewed', 2), ('copied', 4), ('distributed', 8), ('derived', 2), ('contain', 4), ('notice', 6), ('indicating', 2), ('posted', 8), ('holder', 8), ('fees', 8), ('charges', 2), ('providing', 8), ('appearing', 2), ('requirements', 8), ('paragraphs', 6), ('7', 8), ('9', 7), ('additional', 8), ('imposed', 2), ('linked', 2), ('beginning', 2), ('unlink', 2), ('detach', 2), ('remove', 2), ('containing', 2), ('5', 9), ('display', 2), ('perform', 2), ('redistribute', 2), ('convert', 2), ('binary', 2), ('compressed', 2), ('marked', 4), ('nonproprietary', 2), ('proprietary', 2), ('including', 17), ('processing', 2), ('hypertext', 2), ('provide', 14), ('plain', 4), ('vanilla', 4), ('official', 6), ('version', 2), ('web', 11), ('site', 8), ('expense', 2), ('user', 6), ('exporting', 2), ('upon', 18), ('request', 2), ('original', 3), ('alternate', 2), ('specified', 4), ('viewing', 2), ('reasonable', 3), ('provided', 8), ('pay', 4), ('royalty', 6), ('20', 2), ('gross', 2), ('profits', 2), ('derive', 2), ('calculated', 2), ('method', 2), ('calculate', 2), ('applicable', 6), ('taxes', 2), ('owed', 2), ('owner', 10), ('agreed', 2), ('donate', 10), ('payments', 6), ('within', 19), ('60', 2), ('legally', 2), ('required', 2), ('periodic', 2), ('tax', 12), ('clearly', 2), ('address', 2), ('information', 17), ('donations', 30), ('money', 8), ('notifies', 2), ('mail', 2), ('30', 2), ('s', 12), ('require', 3), ('possessed', 2), ('physical', 4), ('medium', 10), ('discontinue', 2), ('accordance', 4), ('f', 22), ('replacement', 10), ('defect', 6), ('discovered', 2), ('reported', 2), ('90', 4), ('wish', 13), ('different', 2), ('michael', 4), ('hart', 4), ('contact', 10), ('volunteers', 12), ('employees', 4), ('expend', 2), ('considerable', 4), ('effort', 4), ('identify', 2), ('transcribe', 2), ('proofread', 2), ('despite', 2), ('efforts', 6), ('stored', 2), ('defects', 2), ('incomplete', 2), ('inaccurate', 2), ('corrupt', 2), ('data', 2), ('transcription', 2), ('errors', 2), ('infringement', 2), ('defective', 6), ('damaged', 2), ('disk', 2), ('computer', 4), ('virus', 2), ('codes', 2), ('damage', 4), ('equipment', 6), ('warranty', 4), ('disclaimer', 6), ('damages', 8), ('except', 8), ('described', 2), ('party', 2), ('disclaim', 2), ('liability', 6), ('costs', 4), ('expenses', 4), ('remedies', 2), ('negligence', 2), ('strict', 2), ('breach', 4), ('contract', 2), ('f3', 1), ('distributor', 2), ('liable', 2), ('actual', 3), ('direct', 2), ('indirect', 2), ('consequential', 2), ('punitive', 2), ('incidental', 2), ('possibility', 3), ('discover', 2), ('receiving', 2), ('explanation', 4), ('received', 11), ('elect', 2), ('lieu', 4), ('electronically', 4), ('choose', 2), ('second', 36), ('opportunity', 2), ('demand', 3), ('further', 2), ('opportunities', 2), ('fix', 2), ('problem', 2), (\"'as\", 2), (\"is'\", 2), ('warranties', 6), ('kind', 3), ('express', 2), ('implied', 4), ('merchantibility', 1), ('fitness', 2), ('allow', 7), ('disclaimers', 2), ('certain', 5), ('exclusion', 2), ('limitation', 6), ('types', 2), ('violates', 2), ('law', 4), ('interpreted', 2), ('maximum', 2), ('invalidity', 2), ('unenforceability', 2), ('provision', 2), ('void', 2), ('remaining', 2), ('provisions', 2), ('indemnity', 2), ('indemnify', 2), ('hold', 3), ('agent', 2), ('employee', 2), ('production', 5), ('promotion', 2), ('harmless', 2), ('arise', 2), ('directly', 2), ('indirectly', 2), ('cause', 5), ('occur', 2), ('alteration', 2), ('modification', 2), ('additions', 2), ('deletions', 2), ('synonymous', 2), ('readable', 4), ('widest', 4), ('variety', 2), ('computers', 4), ('obsolete', 2), ('aged', 2), ('exists', 2), ('hundreds', 2), ('walks', 2), ('financial', 2), ('assistance', 2), ('need', 2), ('critical', 2), ('reaching', 2), (\"tm's\", 2), ('goals', 2), ('ensuring', 2), ('generations', 4), ('2001', 2), ('created', 4), ('secure', 2), ('permanent', 2), ('learn', 3), ('sections', 2), ('page', 25), ('fundraising', 3), ('non', 2), ('profit', 2), ('501', 2), ('educational', 2), ('corporation', 2), ('organized', 2), ('mississippi', 2), ('granted', 2), ('exempt', 4), ('internal', 2), ('revenue', 2), ('service', 2), (\"foundation's\", 6), ('ein', 2), ('federal', 4), ('identification', 2), ('number', 6), ('64', 2), ('6221541', 2), ('contributions', 4), ('deductible', 2), ('extent', 2), (\"state's\", 2), ('office', 4), ('4557', 2), ('melan', 2), ('dr', 6), ('fairbanks', 2), ('ak', 2), ('99712', 2), ('throughout', 2), ('numerous', 2), ('locations', 4), ('business', 3), ('809', 2), ('north', 2), ('1500', 2), ('west', 2), ('salt', 2), ('lake', 3), ('ut', 2), ('84116', 2), ('801', 2), ('596', 2), ('1887', 2), ('gregory', 2), ('newby', 2), ('chief', 2), ('executive', 2), ('director', 2), ('gbnewby', 2), ('depends', 2), ('survive', 2), ('wide', 2), ('spread', 3), ('increasing', 2), ('licensed', 2), ('machine', 2), ('accessible', 2), ('array', 2), ('outdated', 2), ('small', 4), ('000', 2), ('particularly', 3), ('important', 2), ('maintaining', 2), ('irs', 2), ('committed', 2), ('regulating', 2), ('charities', 2), ('charitable', 2), ('50', 2), ('uniform', 2), ('takes', 4), ('paperwork', 2), ('keep', 8), ('solicit', 4), ('confirmation', 2), ('send', 2), ('determine', 2), ('particular', 4), ('visit', 4), ('solicitation', 2), ('prohibition', 2), ('accepting', 2), ('unsolicited', 2), ('donors', 2), ('offers', 2), ('international', 2), ('gratefully', 2), ('accepted', 4), ('statements', 2), ('treatment', 2), ('swamp', 2), ('our', 15), ('staff', 2), ('current', 2), ('donation', 2), ('methods', 2), ('addresses', 3), ('ways', 3), ('checks', 2), ('credit', 3), ('card', 2), ('professor', 2), ('originator', 2), ('library', 2), ('shared', 3), ('thirty', 1), ('produced', 6), ('loose', 3), ('network', 2), ('volunteer', 2), ('often', 5), ('confirmed', 2), ('thus', 6), ('necessarily', 2), ('main', 2), ('pg', 2), ('search', 2), ('facility', 2), ('includes', 2), ('produce', 3), ('subscribe', 2), ('newsletter', 2), ('salomé', 151), ('illustrator', 2), ('aubrey', 5), ('beardsley', 5), ('translator', 1), ('alfred', 2), ('douglas', 2), ('12', 2), ('2013', 1), ('42704', 4), ('marc', 2), (\"d'hooghe\", 2), ('freeliterature', 2), ('images', 4), ('generously', 2), ('internet', 2), ('illustration', 16), ('translated', 3), ('sixteen', 1), ('drawings', 1), ('john', 5), ('lane', 2), ('bodley', 1), ('york', 1), ('company', 1), ('mcmvii', 1), ('design', 2), ('herod', 95), ('antipas', 2), ('tetrarch', 37), ('judæa', 7), ('jokanaan', 74), ('prophet', 31), ('syrian', 35), ('captain', 8), ('guard', 1), ('tigellinus', 10), ('roman', 2), ('cappadocian', 20), ('nubian', 2), ('soldier', 60), ('herodias', 91), ('jews', 6), ('nazarenes', 2), ('naaman', 4), ('executioner', 7), ('wife', 10), ('household', 1), ('wherever', 1), ('spoken', 4), ('plays', 3), ('history', 1), ('1892', 1), ('rehearsal', 1), ('madame', 3), ('bernhardt', 3), ('theatre', 2), ('prohibited', 1), ('censor', 2), ('immediately', 1), ('announced', 1), ('intention', 1), ('changing', 1), ('nationality', 1), ('characteristic', 1), ('jest', 1), ('taken', 3), ('seriously', 1), ('oddly', 1), ('ireland', 1), ('seldom', 1), ('popular', 1), ('heartily', 1), ('endorsed', 1), ('critics', 4), ('greeted', 1), ('chorus', 1), ('ridicule', 1), ('noted', 1), ('passing', 4), ('least', 3), ('violent', 1), ('reviews', 1), ('were', 19), ('pens', 1), ('unsuccessful', 1), ('dramatists', 1), ('whose', 12), ('went', 1), ('ollendorff', 1), ('glad', 3), ('venerable', 1), ('school', 1), ('classic', 1), ('unsuspected', 1), ('asset', 1), ('education', 1), ('handy', 1), ('missile', 1), ('pelt', 1), ('correctness', 1), ('impugned', 1), ('although', 1), ('scrip', 1), ('had', 12), ('writer', 3), ('attributed', 1), ('times', 4), ('depreciating', 1), ('drama', 4), ('gave', 6), ('tour', 1), ('de', 5), ('force', 1), ('capable', 1), ('drew', 1), ('march', 1), ('1893', 1), ('p', 1), ('editor', 1), ('drawn', 1), ('review', 2), ('columns', 1), ('opinions', 1), ('mine', 5), ('interest', 1), ('write', 2), ('simply', 2), ('ask', 21), ('correct', 1), ('misstatement', 1), ('question', 2), ('fact', 2), ('tragic', 1), ('actress', 3), ('stage', 6), ('living', 1), ('saw', 5), ('heroine', 1), ('lend', 1), ('entire', 1), ('poem', 1), ('glamour', 1), ('personality', 1), ('prose', 2), ('flute', 3), ('naturally', 1), ('source', 1), ('pride', 1), ('pleasure', 6), ('delight', 1), ('seeing', 2), ('mme', 1), ('paris', 2), ('vivid', 1), ('centre', 1), ('art', 12), ('religious', 1), ('dramas', 1), ('sense', 1), ('actor', 1), ('nor', 7), ('artisan', 1), ('literature', 2), ('artist', 3), ('obedient', 1), ('obloquy', 1), ('inspiration', 1), ('finest', 1), ('cordially', 1), ('disliked', 1), ('motives', 1), ('suitable', 1), ('material', 1), ('odd', 1), ('tangent', 1), ('tactile', 1), ('values', 1), ('amusing', 1), ('caricatures', 1), ('frontispiece', 1), ('pieces', 3), ('vraisemblance', 1), ('designs', 2), ('colophon', 1), ('real', 1), ('masterpiece', 1), ('witty', 1), ('criticism', 2), ('club', 3), ('1905', 3), ('dramatic', 3), ('expressed', 1), ('vehemently', 1), ('vociferating', 1), ('regrets', 1), ('dragged', 1), ('obscurity', 1), ('obscure', 2), ('become', 9), ('europe', 1), ('regularly', 1), ('holland', 1), ('sweden', 1), ('italy', 1), ('france', 1), ('russia', 1), ('european', 1), ('czech', 1), ('repertoire', 1), ('german', 1), ('shakespeare', 1), ('owing', 1), ('popularity', 1), ('continental', 2), ('theatres', 1), ('strauss', 2), ('preparing', 1), ('remarkable', 2), ('opera', 2), ('moment', 4), ('appeared', 1), ('criticisms', 1), ('refer', 2), ('dresden', 1), ('december', 1), ('journalists', 1), ('correspondents', 1), ('founded', 1), ('evade', 1), ('awkward', 1), ('truth', 9), ('palpable', 1), ('contravention', 1), ('wishes', 3), ('theories', 1), ('hedwig', 1), (\"lachmann's\", 1), ('admirable', 1), ('translation', 1), ('transfigured', 1), ('ordinary', 1), ('operatic', 1), ('nonsense', 1), ('suit', 1), ('score', 1), ('susceptibilities', 1), ('admirers', 1), ('mortified', 1), ('occasion', 2), ('composition', 1), ('ago', 2), ('consigned', 1), ('oblivion', 1), ('shambles', 1), ('rhetorical', 1), ('period', 1), ('seems', 5), ('contemplated', 1), ('theme', 1), ('profundis', 1), ('refrains', 1), ('recurring', 1), ('motifs', 1), (\"'salomé'\", 1), ('piece', 2), ('bind', 1), ('ballad', 1), ('still', 3), ('incarcerated', 1), ('1896', 1), ('mons', 1), ('luigne', 3), ('poë', 3), ('théâtre', 1), ('libre', 1), ('lina', 1), ('muntz', 1), ('role', 1), ('rather', 1), ('reference', 2), ('occurs', 1), ('wrote', 1), ('gratified', 1), ('performance', 4), ('thanks', 2), ('conveyed', 1), ('something', 9), ('disgrace', 1), ('shame', 1), ('regarded', 1), ('feel', 1), ('seem', 1), ('emotions', 1), ('anguish', 1), ('despair', 1), ('let', 30), ('sensible', 1), ('done', 6), ('poet', 1), ('answer', 3), ('try', 1), ('lemaitre', 1), ('bauer', 1), ('sarcey', 1), ('said', 14), (\"'salomé\", 1), (\"'\", 1), ('bias', 1), ('friendship', 1), ('precludes', 1), ('praising', 1), ('defending', 1), ('might', 3), ('add', 2), ('reputation', 1), ('detractors', 1), ('sources', 1), ('obvious', 1), ('flaubert', 1), ('maeterlinck', 1), ('style', 1), ('essay', 1), ('critic', 1), ('greater', 2), ('contemporaries', 1), ('catalogue', 2), ('intensely', 1), (\"christie's\", 1), ('exciting', 1), ('auction', 1), ('fighting', 1), ('sisera', 1), ('remarked', 1), ('confuses', 1), ('mat', 2), ('xi', 1), ('xiv', 1), ('agrippa', 1), ('acts', 1), ('xiii', 1), ('confusion', 1), ('intentional', 1), ('mediæval', 1), ('mystery', 3), ('type', 1), ('historical', 1), ('valuable', 1), ('laboriously', 1), ('point', 2), ('anachronisms', 1), (\"beardsley's\", 1), ('plagiarism', 1), ('venture', 1), ('mention', 1), ('recollection', 1), ('complained', 1), ('stolen', 1), ('idea', 1), ('pleaded', 1), ('defence', 1), ('culprit', 1), ('fearless', 1), ('thief', 1), ('fellow', 1), ('usual', 1), ('drawling', 1), ('emphasis', 1), ('tulip', 3), ('petals', 5), (\"else's\", 1), ('impelled', 1), ('grow', 2), ('reason', 3), ('why', 14), ('recent', 1), ('1906', 1), ('ebullition', 1), ('rancour', 1), ('deliberate', 1), ('misrepresentation', 1), ('majority', 1), ('parade', 1), ('ignorance', 1), ('account', 2), ('mounting', 1), ('charles', 3), ('ricketts', 1), ('responsible', 1), ('marvellous', 2), ('impersonation', 1), ('farquharson', 2), ('mirror', 2), ('dull', 1), ('dulness', 1), ('vulgar', 1), ('vulgarity', 1), ('list', 2), ('pictures', 2), ('skirt', 2), ('black', 23), ('cape', 2), ('platonic', 2), ('lament', 2), ('10', 1), ('11', 1), ('stomach', 2), ('toilette', 4), ('13', 1), ('14', 1), (\"dancer's\", 2), ('reward', 3), ('15', 1), ('climax', 2), ('16', 1), ('cul', 2), ('lampe', 2), ('cast', 1), ('represented', 1), ('england', 1), ('10th', 1), ('13th', 1), ('herbert', 1), ('alexander', 1), ('gwendolen', 1), ('bishop', 1), ('gee', 1), ('ralph', 1), ('rohan', 1), ('dalmon', 1), ('vincent', 1), ('nello', 1), ('evelyn', 1), ('osborn', 1), ('millicent', 1), ('murby', 1), ('carrie', 1), ('keith', 1), ('louise', 1), ('salom', 1), ('delph', 1), ('stansfeld', 1), ('jew', 16), ('stanley', 1), ('smith', 2), ('bernhard', 1), ('third', 4), ('bate', 1), ('fourth', 2), ('stephen', 1), ('bagehot', 1), ('fifth', 2), ('frederick', 1), ('lawrence', 1), ('banqueting', 2), ('soldiers', 9), ('balcony', 1), ('left', 7), ('cistern', 11), ('moonlight', 1), ('tomb', 2), ('fancy', 3), ('looking', 12), ('veil', 4), ('doves', 6), ('moves', 2), ('noise', 1), ('uproar', 1), ('wild', 2), ('beasts', 1), ('howling', 1), ('disputing', 1), ('religion', 2), ('dispute', 2), ('tell', 20), ('doing', 2), ('pharisees', 1), ('instance', 2), ('angels', 7), ('sadducees', 1), ('exist', 3), ('ridiculous', 8), ('too', 13), ('dangerous', 2), ('terrible', 25), ('yes', 16), ('filled', 2), ('cup', 7), ('mitre', 1), ('pearls', 2), ('hair', 13), ('powdered', 1), ('dust', 2), (\"tetrarch's\", 2), ('fond', 2), ('wine', 29), ('sorts', 1), ('island', 1), ('samothrace', 1), ('cloak', 2), ('cæsar', 21), ('town', 3), ('called', 2), ('cyprus', 1), ('sicily', 1), ('gods', 4), ('twice', 1), ('sacrifice', 1), ('maidens', 2), ('fifty', 3), ('quite', 4), ('harsh', 1), ('romans', 4), ('driven', 1), ('hidden', 6), ('mountains', 5), ('believe', 6), ('nights', 2), ('seeking', 5), ('did', 18), ('names', 1), ('worship', 1), ('altogether', 2), ('mightier', 1), ('worthy', 1), ('unloose', 1), ('latchet', 1), ('shoes', 1), ('cometh', 7), ('solitary', 1), ('places', 2), ('blossom', 2), ('lily', 1), ('blind', 4), ('deaf', 1), ('born', 2), ('child', 5), ('put', 6), (\"dragon's\", 1), ('lair', 1), ('lions', 2), ('manes', 1), ('silent', 11), ('holy', 3), ('gentle', 1), ('desert', 3), ('fed', 2), ('locusts', 1), ('honey', 1), (\"camel's\", 1), ('loins', 2), ('leathern', 1), ('belt', 1), ('multitude', 3), ('disciples', 2), ('talking', 3), ('sometimes', 2), ('forbidden', 3), ('fan', 6), ('fluttering', 1), ('dove', 3), ('cots', 1), ('butterflies', 2), ('pointing', 2), ('unhealthy', 1), ('oh', 13), ('imprisoned', 1), ('twelve', 2), ('kill', 7), ('strangled', 2), ('dared', 1), ('negro', 1), ('ring', 7), ('thing', 19), ('strangle', 1), ('neck', 2), ('folk', 1), ('leaving', 1), ('troubled', 4), ('ah', 42), ('pray', 5), ('strayed', 1), ('narcissus', 1), ('stay', 9), (\"mole's\", 1), ('shaking', 1), ('eyelids', 4), ('feast', 3), ('sweet', 2), ('breathe', 2), ('jerusalem', 3), ('tearing', 1), ('ceremonies', 1), ('barbarians', 1), ('drink', 6), ('spill', 1), ('pavement', 1), ('greeks', 3), ('smyrna', 1), ('cheeks', 1), ('frizzed', 1), ('coils', 1), ('subtle', 1), ('egyptians', 1), ('nails', 1), ('russett', 1), ('cloaks', 1), ('brutal', 1), ('coarse', 2), ('uncouth', 1), ('jargon', 1), ('loathe', 1), ('rough', 1), ('common', 1), ('noble', 3), ('lords', 1), ('speak', 25), ('good', 5), ('cold', 4), ('chaste', 3), ('sure', 14), ('virgin', 4), (\"virgin's\", 1), ('defiled', 1), ('abandoned', 1), ('goddesses', 1), ('hath', 18), ('son', 3), ('centaurs', 1), ('rivers', 2), ('sirens', 1), ('lying', 1), ('beneath', 4), ('cried', 3), ('bid', 7), ('litter', 3), ('fair', 9), ('prays', 1), ('pardon', 1), ('misfortune', 8), ('better', 5), ('suffer', 7), ('elias', 10), ('ancient', 1), ('rejoice', 1), ('thou', 55), ('land', 4), ('palestine', 1), ('rod', 1), ('smote', 1), ('thee', 33), ('broken', 2), ('seed', 1), ('serpent', 1), ('basilisk', 1), ('devour', 2), ('priest', 2), ('banquet', 2), ('dare', 2), ('pit', 1), ('beg', 1), ('lives', 1), ('belong', 2), ('asked', 5), ('indeed', 4), ('tiling', 1), ('narraboth', 6), ('talked', 3), ('formally', 1), ('gateway', 1), ('idol', 2), ('sellers', 1), ('fall', 7), ('bridge', 1), ('buyers', 1), ('muslin', 2), ('veils', 4), ('signing', 1), ('shroud', 1), ('amber', 3), ('clouds', 3), ('abominations', 4), ('robe', 2), ('waste', 1), ('houses', 1), ('walls', 1), ('chaldeans', 1), ('limned', 1), ('colours', 2), ('unto', 6), ('lust', 1), ('chaldea', 1), ('speaks', 8), ('captains', 2), ('assyria', 1), ('baldricks', 1), ('tiaras', 1), ('divers', 1), ('egypt', 3), ('fine', 1), ('linen', 1), ('shields', 4), ('helmets', 1), ('bodies', 3), ('incestuousness', 1), ('prepareth', 1), ('repent', 2), ('iniquities', 2), ('stick', 1), ('fast', 1), ('beseech', 3), ('holes', 1), ('burned', 2), ('tyrian', 1), ('tapestry', 1), ('caverns', 2), ('lairs', 1), ('lakes', 1), ('fantastic', 1), ('moons', 3), ('wasted', 1), ('thin', 1), ('statue', 1), ('image', 1), ('moonbeam', 2), ('flesh', 1), ('cool', 1), ('closer', 2), ('wherefore', 12), ('doth', 2), ('begone', 1), ('babylon', 4), ('chosen', 1), ('thy', 63), ('sins', 2), ('sodom', 3), ('scatter', 1), ('ashes', 1), ('thine', 6), ('get', 3), ('seek', 2), ('beating', 9), ('angel', 5), ('dost', 4), ('sword', 3), ('seekest', 1), ('foul', 1), ('speaketh', 2), ('amorous', 1), ('body', 19), ('field', 1), ('mower', 1), ('mowed', 1), ('snows', 2), ('lie', 3), ('valleys', 1), ('arabia', 3), ('neither', 4), ('perfumed', 1), ('spices', 1), ('breast', 3), ('came', 3), ('listen', 6), ('hideous', 1), ('leper', 2), ('plastered', 2), ('vipers', 1), ('crawled', 1), ('scorpions', 1), ('nest', 1), ('whitened', 1), ('sepulchre', 1), ('loathsome', 1), ('horrible', 3), ('enamoured', 1), ('clusters', 2), ('grapes', 2), ('hang', 1), ('vine', 1), ('edom', 2), ('edomites', 1), ('cedars', 2), ('lebanon', 2), ('shade', 1), ('robbers', 1), ('hide', 7), ('hides', 2), ('dwells', 1), ('profane', 1), ('covered', 2), ('mire', 1), ('thorns', 1), ('knot', 1), ('serpents', 1), ('writhing', 1), ('mouth', 23), ('band', 1), ('scarlet', 4), ('tower', 2), ('pomegranate', 2), ('cut', 2), ('knife', 1), ('tyre', 1), ('redder', 4), ('blasts', 1), ('trumpets', 1), ('herald', 1), ('enemy', 4), ('press', 2), ('haunt', 1), ('temples', 1), ('priests', 1), ('slain', 6), ('lion', 1), ('tigers', 2), ('branch', 1), ('coral', 3), ('fishers', 1), ('twilight', 1), ('vermilion', 3), ('moabites', 1), ('mines', 1), ('moab', 1), ('bow', 2), ('persians', 1), ('tipped', 1), ('kiss', 14), ('myrrh', 1), ('kills', 1), ('perfumes', 5), ('ear', 1), ('rings', 1), ('wrought', 1), ('killed', 7), ('foretell', 1), ('foretold', 2), ('happened', 1), ('knew', 2), ('sought', 2), ('cavern', 1), ('beatings', 1), ('adultery', 1), ('save', 5), ('spake', 3), ('boat', 1), ('galilee', 2), ('talketh', 1), ('kneel', 1), ('shore', 1), ('thyself', 2), ('remission', 1), ('cursed', 1), ('incestuous', 3), ('accursed', 4), ('bear', 2), ('care', 1), ('nearer', 2), ('agate', 1), ('wore', 1), ('evening', 3), ('among', 1), ('almond', 1), ('player', 1), ('loved', 9), ('reproach', 1), ('commanded', 1), ('mad', 5), ('lovers', 2), ('naked', 4), ('clothe', 1), ('nakedness', 1), ('shows', 3), ('reels', 1), ('drunken', 4), ('reel', 1), ('manesseh', 1), ('tables', 2), ('jasper', 1), ('delicious', 2), ('guests', 4), ('show', 3), ('honours', 2), ('await', 1), ('slipped', 4), ('ill', 4), ('omen', 5), ('gives', 3), ('corpse', 1), ('sire', 9), ('order', 1), ('thought', 2), ('philosophers', 2), ('true', 6), ('rome', 11), ('stoics', 2), ('oneself', 1), ('everybody', 3), ('laughs', 1), ('emperor', 2), ('satire', 2), ('recited', 1), ('everything', 5), ('sorry', 3), ('languorous', 1), ('remember', 4), ('languorously', 1), ('truly', 4), ('father', 2), ('drove', 1), ('guest', 1), ('ho', 3), ('blowing', 3), ('blows', 1), ('longer', 2), ('doubt', 1), ('sick', 4), ('pour', 3), ('dip', 1), ('lips', 2), ('drain', 1), ('thirsty', 1), ('gazing', 1), ('ripe', 5), ('mark', 1), ('teeth', 2), ('bite', 2), ('hungry', 2), ('race', 1), ('camel', 1), ('driver', 1), ('robber', 1), ('liest', 1), ('knowest', 1), ('sit', 1), ('next', 1), ('throne', 2), ('tired', 1), ('thinks', 1), ('lo', 2), ('saith', 3), ('spoke', 1), ('vomiting', 1), ('insults', 2), ('besides', 1), ('prophets', 1), ('moreover', 1), ('insulting', 1), ('deliver', 3), ('six', 1), ('months', 2), ('clamouring', 1), ('hideth', 1), ('therefore', 3), ('evils', 2), ('verily', 2), ('knoweth', 1), ('peradventure', 2), ('showeth', 1), ('doctrine', 2), ('schools', 1), ('alexandria', 1), ('teach', 1), ('philosophy', 1), ('gentiles', 1), ('circumcised', 1), ('worketh', 3), ('knowledge', 1), ('needs', 1), ('submit', 1), ('strong', 3), ('breaketh', 2), ('weak', 2), ('regardeth', 1), ('brays', 1), ('corn', 1), ('mortar', 1), ('weary', 2), ('nazarene', 17), ('nay', 7), ('saviour', 2), ('mean', 2), ('yesterday', 1), ('letters', 1), ('contained', 1), ('matter', 8), ('during', 1), ('winter', 1), ('explaining', 1), (\"cæsar's\", 3), ('titles', 1), ('gouty', 1), ('reasons', 1), ('loses', 1), ('howbeit', 1), ('nevertheless', 1), ('messias', 3), ('messiah', 1), ('miracles', 4), ('took', 1), ('importance', 1), ('related', 1), ('healed', 3), ('lepers', 3), ('capernaum', 2), ('touching', 1), ('mountain', 1), ('sadducee', 2), ('pharisee', 1), (\"dreamer's\", 1), ('dream', 2), ('strikes', 1), ('jairus', 3), ('gainsay', 1), ('raises', 1), ('yea', 1), ('raiseth', 1), ('forbid', 2), ('hard', 2), ('samaria', 3), ('samaritans', 2), ('offerings', 1), ('neighbourhood', 1), ('tidings', 1), ('heal', 2), ('deed', 1), ('wanton', 2), ('harlot', 2), ('stone', 1), ('pierce', 1), ('swords', 1), ('crush', 2), ('infamous', 1), ('wipe', 1), ('wickedness', 1), ('revile', 2), ('tore', 1), ('arms', 1), ('stronger', 1), ('mindful', 1), ('sackcloth', 2), ('heavens', 2), ('figs', 3), ('fig', 1), ('tree', 1), ('hate', 1), ('omens', 2), ('drunk', 3), ('vineyards', 1), ('gathered', 1), ('forgotten', 1), ('else', 2), ('restoration', 1), ('sanctuary', 2), ('disappeared', 1), ('didst', 12), ('steal', 1), ('speakest', 1), ('random', 1), ('laughing', 2), ('obeys', 1), ('whether', 1), ('naught', 1), ('exceeding', 1), ('precious', 1), ('gifts', 1), ('promised', 3), ('summon', 1), ('cappadocia', 4), ('crucify', 3), ('able', 1), ('mar', 1), ('blasphemies', 1), ('smite', 1), ('eaten', 4), ('worms', 4), ('sinned', 1), ('taking', 1), ('sterile', 5), ('absurd', 1), ('borne', 2), ('gotten', 1), ('peace', 1), ('lack', 1), ('humour', 1), ('custom', 1), ('hunt', 1), ('sunrise', 1), ('shown', 1), ('hither', 3), ('giant', 1), ('swear', 3), ('sworn', 11), ('wilt', 2), ('icy', 1), ('hovers', 1), ('beat', 1), ('breath', 1), ('chill', 1), ('hot', 1), ('choking', 1), ('snow', 1), ('loosen', 2), ('mantle', 3), ('quick', 2), ('garland', 2), ('hurts', 1), ('fire', 2), ('tears', 1), ('wreath', 1), ('stains', 2), ('cloth', 1), ('symbols', 1), ('danced', 3), ('oaths', 1), ('coward', 2), ('owes', 1), ('repay', 1), ('insulted', 1), ('wounding', 1), ('prophesied', 3), ('tarry', 1), ('awaiting', 1), ('off', 2), ('sandals', 3), (\"'tis\", 2), ('spilt', 1), ('hast', 2), ('waded', 1), ('therein', 1), ('prophesy', 1), ('ye', 3), ('falling', 1), ('becoming', 1), ('bozra', 1), ('raiment', 2), ('dyed', 1), ('shineth', 1), ('garments', 1), ('walketh', 1), ('stained', 2), ('maddens', 1), ('continually', 1), ('crying', 1), ('avail', 1), ('ready', 1), ('dances', 1), ('dancers', 1), ('royally', 1), ('desireth', 1), ('wouldst', 5), ('charger', 6), ('surely', 4), ('daughters', 1), ('treasures', 3), (\"mother's\", 2), ('giving', 1), ('counsel', 1), ('heed', 2), ('oath', 3), ('swore', 1), ('yield', 1), ('awful', 1), ('jesting', 1), ('none', 2), ('hearken', 1), ('emerald', 6), ('minion', 1), ('carries', 2), ('circus', 1), ('largest', 1), ('trouble', 2), ('grievously', 1), ('mirrors', 2), ('masks', 1), ('thirst', 1), ('friends', 1), (\"was't\", 1), ('myrtles', 2), ('tall', 1), ('cypress', 2), ('beaks', 1), ('grains', 1), ('rain', 1), ('tails', 1), ('tend', 1), ('anon', 1), ('crouch', 1), ('possesses', 1), ('whithersoever', 1), ('midst', 2), ('cloud', 2), ('empties', 1), ('beast', 1), ('prey', 1), ('wearies', 1), ('perchance', 2), ('finger', 1), ('touched', 1), ('possible', 2), ('furthermore', 1), ('died', 1), ('case', 1), ('dies', 1), ('entered', 1), ('calm', 3), ('collar', 1), ('rows', 1), ('chained', 1), ('rays', 1), ('net', 1), ('worn', 1), ('shalt', 1), ('wearest', 1), ('amethysts', 1), ('kinds', 1), ('topazes', 3), ('pigeon', 1), ('cats', 1), ('opals', 2), ('icelike', 1), ('flame', 1), (\"men's\", 1), ('minds', 1), ('fearful', 1), ('shadows', 1), ('onyxes', 1), ('eyeballs', 1), ('moonstones', 1), ('changes', 1), ('wan', 1), ('sapphires', 1), ('eggs', 1), ('wanders', 1), ('chrysolites', 1), ('beryls', 1), ('chrysoprases', 1), ('sardonyx', 1), ('hyacinth', 1), ('chalcedony', 1), ('indies', 1), ('numidia', 1), ('garment', 1), ('ostrich', 1), ('crystal', 1), ('lawful', 1), ('behold', 1), ('beaten', 1), ('rods', 1), ('coffer', 3), ('nacre', 1), ('wondrous', 1), ('turquoises', 1), ('imagine', 1), ('ebony', 1), ('cups', 2), ('apples', 1), ('poison', 2), ('incrusted', 2), ('mantles', 1), ('seres', 1), ('bracelets', 1), ('decked', 2), ('carbuncles', 1), ('euphrates', 1), ('desirest', 2), ('askest', 1), ('approaches', 1), ('draws', 1), ('straightway', 1), ('scared', 1), ('befall', 2), ('ought', 1), ('pledge', 1), ('leans', 1), ('struggle', 1), ('strike', 3), ('fallen', 1), ('headsman', 1), ('sees', 1), ('wert', 3), ('recoils', 1), ('recoil', 1), ('arm', 2), ('shield', 1), ('seizes', 1), ('begin', 2), ('bites', 1), ('rage', 1), ('scorn', 2), ('shut', 2), ('lift', 1), ('tongue', 1), ('snake', 1), ('darting', 1), ('viper', 2), ('spat', 1), ('venom', 1), ('reject', 1), ('treat', 1), ('belongs', 1), ('throw', 1), ('dogs', 2), ('hateful', 1), ('column', 1), ('socket', 1), ('censer', 1), ('curses', 1), ('covering', 2), ('hadst', 3), ('athirst', 1), ('appease', 1), ('floods', 1), ('waters', 1), ('quench', 1), ('virginity', 1), ('veins', 1), ('consider', 1), ('crime', 2), ('approve', 1), ('manasseh', 1), ('issachar', 1), ('ozias', 1), ('ourselves', 1), ('disappear', 1), ('crosses', 1), ('conceals', 1), ('completely', 1), ('becomes', 1), ('begins', 1), ('climb', 1), ('kissed', 3), ('bitter', 2), ('taste', 4), ('turning', 1), ('0', 1), ('merchantability', 1), ('forty', 1)])\n",
      "3260\n"
     ]
    }
   ],
   "source": [
    "print(t.word_counts)\n",
    "print(len(t.word_index))"
   ]
  },
  {
   "cell_type": "markdown",
   "metadata": {
    "colab_type": "text",
    "id": "dWUBr9rHHdx0"
   },
   "source": [
    "Convert text to sequence of numbers"
   ]
  },
  {
   "cell_type": "code",
   "execution_count": 0,
   "metadata": {
    "colab": {},
    "colab_type": "code",
    "id": "dwLl0BWKHdx2"
   },
   "outputs": [],
   "source": [
    "#Convert words in the book to Numbers\n",
    "book_num = t.texts_to_sequences(book_text)"
   ]
  },
  {
   "cell_type": "code",
   "execution_count": 0,
   "metadata": {
    "colab": {
     "base_uri": "https://localhost:8080/",
     "height": 34
    },
    "colab_type": "code",
    "id": "Fkb_28ha7fdU",
    "outputId": "0c7c16a4-6dea-4ad1-a679-2f011e97197b"
   },
   "outputs": [
    {
     "data": {
      "text/plain": [
       "7255"
      ]
     },
     "execution_count": 17,
     "metadata": {
      "tags": []
     },
     "output_type": "execute_result"
    }
   ],
   "source": [
    "len(book_num[0])"
   ]
  },
  {
   "cell_type": "markdown",
   "metadata": {
    "colab_type": "text",
    "id": "GkpK8McUHdx6"
   },
   "source": [
    "### Generate Features and Labels"
   ]
  },
  {
   "cell_type": "code",
   "execution_count": 0,
   "metadata": {
    "colab": {},
    "colab_type": "code",
    "id": "0Si8BPYYr1gN"
   },
   "outputs": [],
   "source": [
    "record_num = 0 #starting batch number\n",
    "sequence_length = 100 #Length of input sequence\n",
    "\n",
    "def batch_generator(batch_size=32):\n",
    "    \n",
    "    #Will update batch_num\n",
    "    global record_num    \n",
    "    \n",
    "    while True:\n",
    "        \n",
    "        #Empty list for input and output data\n",
    "        input_data = []\n",
    "        output_data = []\n",
    "\n",
    "        for j in range(len(book_num)):\n",
    "          \n",
    "          for i in range(batch_size//len(book_num)):\n",
    "          \n",
    "            #print(i)\n",
    "            #print(j)\n",
    "            #print(record_num*sequence_length + sequence_length)\n",
    "            #print(j)\n",
    "            #print(len(book_num[j]))\n",
    "            #input sequence\n",
    "            input_seq = book_num[j][(record_num * sequence_length) : (record_num * sequence_length) + sequence_length]\n",
    "            #Output sequence\n",
    "            #print(j)\n",
    "            output_seq = book_num[j][(record_num * sequence_length) + sequence_length]\n",
    "\n",
    "            input_data.append(input_seq)\n",
    "            output_data.append(output_seq)\n",
    "            \n",
    "            record_num = record_num + 1\n",
    "            \n",
    "            #print(record_num)\n",
    "            \n",
    "            \n",
    "            if((record_num*sequence_length + sequence_length) > len(book_num[j])):\n",
    "                record_num = 0\n",
    "          record_num = 0      \n",
    "\n",
    "        #Input data one hot encoding\n",
    "        input_data_one_hot = tf.keras.utils.to_categorical(input_data,num_classes=vocab_size+1)\n",
    "\n",
    "        #Output data one hot encoding\n",
    "        output_data = tf.keras.utils.to_categorical(output_data,num_classes=vocab_size+1)\n",
    "\n",
    "        #Reshape input data into 3 dimensional numpy array\n",
    "        #batch_size x sequence_length x vocab_size+1\n",
    "        input_data_one_hot = np.reshape(input_data_one_hot,\n",
    "                                (len(input_data_one_hot),\n",
    "                                 sequence_length,\n",
    "                                 vocab_size+1))\n",
    "        \n",
    "        yield input_data_one_hot, output_data"
   ]
  },
  {
   "cell_type": "markdown",
   "metadata": {
    "colab_type": "text",
    "id": "bbmsf23Bymwe"
   },
   "source": [
    "### The prediction task"
   ]
  },
  {
   "cell_type": "markdown",
   "metadata": {
    "colab_type": "text",
    "id": "wssHQ1oGymwe"
   },
   "source": [
    "Given a word, or a sequence of words, what is the most probable next word? This is the task we're training the model to perform. The input to the model will be a sequence of words, and we train the model to predict the output—the following word at each time step.\n",
    "\n",
    "Since RNNs maintain an internal state that depends on the previously seen elements, given all the words computed until this moment, what is the next word?"
   ]
  },
  {
   "cell_type": "markdown",
   "metadata": {
    "colab_type": "text",
    "id": "T2bsVOl7HdyA"
   },
   "source": [
    "### Generate training and testing data"
   ]
  },
  {
   "cell_type": "code",
   "execution_count": 0,
   "metadata": {
    "colab": {},
    "colab_type": "code",
    "id": "XnDc52zhFyzr"
   },
   "outputs": [],
   "source": [
    "#Identify a random sequence which we will use to generate output\n",
    "doc_num =   np.random.randint(0, len(book_num))\n",
    "start_pos = np.random.randint(0, high=(len(book_num[doc_num]) - sequence_length))\n",
    "test_seq =  book_num[doc_num][start_pos : start_pos+sequence_length]"
   ]
  },
  {
   "cell_type": "code",
   "execution_count": 0,
   "metadata": {
    "colab": {
     "base_uri": "https://localhost:8080/",
     "height": 71
    },
    "colab_type": "code",
    "id": "_PU5gPcwCmQu",
    "outputId": "96aefb73-d9ac-41dd-8991-3921031d66ff"
   },
   "outputs": [
    {
     "name": "stdout",
     "output_type": "stream",
     "text": [
      "Initial sequence is: \n",
      "notwishanyonetospeakwithhimhehasevenforbiddenthehighpriesttospeakwithhimsaloméidesiretospeakwithhimfirstsoldieritisimpossibleprincesssaloméiwillspeakwithhimtheyoungsyrianwoulditnotbebettertoreturntothebanquetsalomébringforththisprophetexittheslavefirstsoldierwedarenotprincesssaloméapproachingthecisternandlookingdownintoithowblackitisdownthereitmustbeterribletobeinsoblackapititislikeatombtothesoldiersdid"
     ]
    }
   ],
   "source": [
    "#Print random starting sequence for prediction\n",
    "print('Initial sequence is: ')\n",
    "for i in range (sequence_length):\n",
    "    print(int_to_word[int(test_seq[i])], end='')"
   ]
  },
  {
   "cell_type": "markdown",
   "metadata": {
    "colab_type": "text",
    "id": "juT1mZrUHdyE"
   },
   "source": [
    "This is just to check the features and labels"
   ]
  },
  {
   "cell_type": "code",
   "execution_count": 0,
   "metadata": {
    "colab": {},
    "colab_type": "code",
    "id": "wkdmNbgjHdyF"
   },
   "outputs": [],
   "source": [
    "def predict_seq(epoch, logs):\n",
    "    \n",
    "    print('Output sequence is: ')\n",
    "    \n",
    "    #Initialize predicted output\n",
    "    predicted_output = ''\n",
    "    \n",
    "    #lets predict 50 next chars\n",
    "    current_seq = np.copy(test_seq)\n",
    "    for i in range(50):\n",
    "        current_seq_one_hot = tf.keras.utils.to_categorical(current_seq, num_classes=vocab_size+1)\n",
    "        data_input = np.reshape(current_seq_one_hot,(1,\n",
    "                                                     current_seq_one_hot.shape[0],\n",
    "                                                     current_seq_one_hot.shape[1]))\n",
    "        \n",
    "        #Get the char int with maximum probability\n",
    "        predicted_char_int = np.argmax(model.predict(data_input)[0])\n",
    "        \n",
    "        if (predicted_char_int != 0):\n",
    "          \n",
    "          #Add to the predicted out, convert int to char\n",
    "          predicted_output = predicted_output + int_to_word[predicted_char_int]\n",
    "          \n",
    "        #Update seq with new value at the end\n",
    "        current_seq = np.roll(current_seq, -1)\n",
    "        current_seq[current_seq.shape[0]-1] = predicted_char_int\n",
    "    \n",
    "    print(predicted_output)"
   ]
  },
  {
   "cell_type": "markdown",
   "metadata": {
    "colab_type": "text",
    "id": "r6oUuElIMgVx"
   },
   "source": [
    "## Build The Model"
   ]
  },
  {
   "cell_type": "markdown",
   "metadata": {
    "colab_type": "text",
    "id": "m8gPwEjRzf-Z"
   },
   "source": [
    "Use `keras.Sequential` to define the model. For this simple example three layers are used to define our model:\n",
    "\n",
    "* `keras.layers.Embedding`: The input layer. A trainable lookup table that will map the numbers of each character to a vector with `embedding_dim` dimensions;\n",
    "* `keras.layers.LSTM`: A type of RNN with size `units=rnn_units` (You can also use a GRU layer here.)\n",
    "* `keras.layers.Dense`: The output layer, with `num_words` outputs."
   ]
  },
  {
   "cell_type": "code",
   "execution_count": 0,
   "metadata": {
    "colab": {
     "base_uri": "https://localhost:8080/",
     "height": 105
    },
    "colab_type": "code",
    "id": "GKpCQFZLHdyN",
    "outputId": "cd22754d-9a9d-4230-a7b1-2dcf2ffb18f5"
   },
   "outputs": [
    {
     "name": "stderr",
     "output_type": "stream",
     "text": [
      "WARNING: Logging before flag parsing goes to stderr.\n",
      "W0625 08:22:31.516932 140095109158784 deprecation.py:506] From /usr/local/lib/python3.6/dist-packages/tensorflow/python/ops/init_ops.py:1251: calling VarianceScaling.__init__ (from tensorflow.python.ops.init_ops) with dtype is deprecated and will be removed in a future version.\n",
      "Instructions for updating:\n",
      "Call initializer instance with the dtype argument instead of passing it to the constructor\n"
     ]
    }
   ],
   "source": [
    "model = tf.keras.models.Sequential()\n",
    "model.add(tf.keras.layers.LSTM(256, input_shape=(sequence_length,vocab_size+1)))\n",
    "model.add(tf.keras.layers.Dropout(0.2))\n",
    "model.add(tf.keras.layers.Dense(vocab_size+1, activation='softmax'))"
   ]
  },
  {
   "cell_type": "markdown",
   "metadata": {
    "colab_type": "text",
    "id": "vL3tUp1UHdyS"
   },
   "source": [
    "For each word the model looks up the embedding, runs the LSTM one timestep with the embedding as input, and applies the dense layer to generate logits predicting the log-liklihood of the next word."
   ]
  },
  {
   "cell_type": "markdown",
   "metadata": {
    "colab_type": "text",
    "id": "LJL0Q0YPY6Ee"
   },
   "source": [
    "## Train the model"
   ]
  },
  {
   "cell_type": "code",
   "execution_count": 0,
   "metadata": {
    "colab": {},
    "colab_type": "code",
    "id": "xRQzxOYDPbPc"
   },
   "outputs": [],
   "source": [
    "model.compile(optimizer='adam',\n",
    "              loss='categorical_crossentropy') #No accuracy tracking here"
   ]
  },
  {
   "cell_type": "markdown",
   "metadata": {
    "colab_type": "text",
    "id": "82716QWAJrXG"
   },
   "source": [
    "### Save Model"
   ]
  },
  {
   "cell_type": "code",
   "execution_count": 0,
   "metadata": {
    "colab": {},
    "colab_type": "code",
    "id": "_8MFkQgYJm-D"
   },
   "outputs": [],
   "source": [
    "model.save(\"word_rnn.h5\")"
   ]
  },
  {
   "cell_type": "markdown",
   "metadata": {
    "colab_type": "text",
    "id": "4AYVKydVJv5C"
   },
   "source": [
    "## If you have already trained the model and saved it, you can load a pretrained model"
   ]
  },
  {
   "cell_type": "code",
   "execution_count": 0,
   "metadata": {
    "colab": {
     "base_uri": "https://localhost:8080/",
     "height": 190
    },
    "colab_type": "code",
    "id": "IqsQUz04J0GP",
    "outputId": "228157a5-929b-4b8c-fc65-3ca0c2c354fb"
   },
   "outputs": [
    {
     "name": "stderr",
     "output_type": "stream",
     "text": [
      "W0625 08:22:50.292219 140095109158784 deprecation.py:506] From /usr/local/lib/python3.6/dist-packages/tensorflow/python/ops/init_ops.py:97: calling GlorotUniform.__init__ (from tensorflow.python.ops.init_ops) with dtype is deprecated and will be removed in a future version.\n",
      "Instructions for updating:\n",
      "Call initializer instance with the dtype argument instead of passing it to the constructor\n",
      "W0625 08:22:50.294638 140095109158784 deprecation.py:506] From /usr/local/lib/python3.6/dist-packages/tensorflow/python/ops/init_ops.py:97: calling Orthogonal.__init__ (from tensorflow.python.ops.init_ops) with dtype is deprecated and will be removed in a future version.\n",
      "Instructions for updating:\n",
      "Call initializer instance with the dtype argument instead of passing it to the constructor\n",
      "W0625 08:22:50.296645 140095109158784 deprecation.py:506] From /usr/local/lib/python3.6/dist-packages/tensorflow/python/ops/init_ops.py:97: calling Zeros.__init__ (from tensorflow.python.ops.init_ops) with dtype is deprecated and will be removed in a future version.\n",
      "Instructions for updating:\n",
      "Call initializer instance with the dtype argument instead of passing it to the constructor\n"
     ]
    }
   ],
   "source": [
    "import tensorflow as tf\n",
    "model = tf.keras.models.load_model('word_rnn.h5')"
   ]
  },
  {
   "cell_type": "markdown",
   "metadata": {
    "colab_type": "text",
    "id": "ZFe2Y0SJJ3Hb"
   },
   "source": [
    "### Note: After loading the model run  model.fit()  to continue training form there, if required."
   ]
  },
  {
   "cell_type": "code",
   "execution_count": 0,
   "metadata": {
    "colab": {},
    "colab_type": "code",
    "id": "e9yLm_xnJ5JV"
   },
   "outputs": [],
   "source": [
    "#Create a LabdaCallback to do prediction at end of every epoch\n",
    "lambda_checkpoint = tf.keras.callbacks.LambdaCallback(on_epoch_end=predict_seq)\n",
    "\n",
    "#Create a model checkpoint to store model after each epoch if loss reduces\n",
    "model_checkpoint = tf.keras.callbacks.ModelCheckpoint('word_rnn.h5',\n",
    "                                                      monitor='loss',\n",
    "                                                      save_best_only=True)"
   ]
  },
  {
   "cell_type": "code",
   "execution_count": 0,
   "metadata": {
    "colab": {
     "base_uri": "https://localhost:8080/",
     "height": 156
    },
    "colab_type": "code",
    "id": "DfU5kDcfPq9M",
    "outputId": "80a9956a-fc96-4298-b7af-fce673b1f279"
   },
   "outputs": [
    {
     "name": "stderr",
     "output_type": "stream",
     "text": [
      "W0625 08:23:07.606082 140095109158784 deprecation.py:323] From /usr/local/lib/python3.6/dist-packages/tensorflow/python/ops/math_grad.py:1250: add_dispatch_support.<locals>.wrapper (from tensorflow.python.ops.array_ops) is deprecated and will be removed in a future version.\n",
      "Instructions for updating:\n",
      "Use tf.where in 2.0, which has the same broadcast rule as np.where\n"
     ]
    },
    {
     "name": "stdout",
     "output_type": "stream",
     "text": [
      "8151/8152 [============================>.] - ETA: 0s - loss: 0.0745Output sequence is: \n",
      "fromfromfromfromfrommademademademademademademademademademademademademademademademademademademademademademademademademademademademademademademademademademademademademademademademademademademademademade\n",
      "8152/8152 [==============================] - 2375s 291ms/step - loss: 0.0744\n"
     ]
    },
    {
     "data": {
      "text/plain": [
       "<tensorflow.python.keras.callbacks.History at 0x7f6a17852668>"
      ]
     },
     "execution_count": 27,
     "metadata": {
      "tags": []
     },
     "output_type": "execute_result"
    }
   ],
   "source": [
    "batch_size = 2\n",
    "train_generator = batch_generator(batch_size=batch_size)\n",
    "\n",
    "#Fit generator\n",
    "model.fit_generator(train_generator,\n",
    "                    epochs=1,\n",
    "                    steps_per_epoch = (len(book_num[doc_num])- sequence_length)// batch_size,                    \n",
    "                    callbacks=[model_checkpoint, lambda_checkpoint])"
   ]
  },
  {
   "cell_type": "markdown",
   "metadata": {
    "colab_type": "text",
    "id": "EmkaxXdjHdyd"
   },
   "source": [
    "## Evaluation"
   ]
  },
  {
   "cell_type": "code",
   "execution_count": 0,
   "metadata": {
    "colab": {
     "base_uri": "https://localhost:8080/",
     "height": 34
    },
    "colab_type": "code",
    "id": "Y0lkbdWZyUjb",
    "outputId": "ce4274c0-9f10-4547-dc27-8296ba6ab6f3"
   },
   "outputs": [
    {
     "data": {
      "text/plain": [
       "0.0001142992261415384"
      ]
     },
     "execution_count": 29,
     "metadata": {
      "tags": []
     },
     "output_type": "execute_result"
    }
   ],
   "source": [
    "model.evaluate_generator(train_generator,steps= (len(book_num[doc_num])- sequence_length)// batch_size)"
   ]
  },
  {
   "cell_type": "markdown",
   "metadata": {
    "colab_type": "text",
    "id": "u5CKxykLHdyj"
   },
   "source": [
    "## Generate text"
   ]
  },
  {
   "cell_type": "code",
   "execution_count": 0,
   "metadata": {
    "colab": {},
    "colab_type": "code",
    "id": "4JSW5EwKHdyk"
   },
   "outputs": [],
   "source": [
    "predicted_char_int = np.argmax(model.predict_generator(train_generator,steps= (len(book_num[doc_num])- sequence_length)// batch_size)[0])"
   ]
  },
  {
   "cell_type": "code",
   "execution_count": 0,
   "metadata": {
    "colab": {
     "base_uri": "https://localhost:8080/",
     "height": 34
    },
    "colab_type": "code",
    "id": "bdmG2lhdJDJs",
    "outputId": "b878a2a4-220c-4528-e64a-7fbd3175a666"
   },
   "outputs": [
    {
     "data": {
      "text/plain": [
       "'from'"
      ]
     },
     "execution_count": 32,
     "metadata": {
      "tags": []
     },
     "output_type": "execute_result"
    }
   ],
   "source": [
    "int_to_word[predicted_char_int]"
   ]
  }
 ],
 "metadata": {
  "accelerator": "GPU",
  "colab": {
   "collapsed_sections": [],
   "name": "R9_External_Lab_Questions.ipynb",
   "provenance": [],
   "version": "0.3.2"
  },
  "kernelspec": {
   "display_name": "Python 3",
   "language": "python",
   "name": "python3"
  },
  "language_info": {
   "codemirror_mode": {
    "name": "ipython",
    "version": 3
   },
   "file_extension": ".py",
   "mimetype": "text/x-python",
   "name": "python",
   "nbconvert_exporter": "python",
   "pygments_lexer": "ipython3",
   "version": "3.6.5"
  }
 },
 "nbformat": 4,
 "nbformat_minor": 1
}
