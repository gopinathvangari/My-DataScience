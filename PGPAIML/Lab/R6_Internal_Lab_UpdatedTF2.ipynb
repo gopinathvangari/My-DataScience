{
 "cells": [
  {
   "cell_type": "markdown",
   "metadata": {
    "colab_type": "text",
    "id": "84Q8JfvaeZZ6"
   },
   "source": [
    "## Linear Classifier in TensorFlow \n",
    "Using Low Level API in Eager Execution mode"
   ]
  },
  {
   "cell_type": "markdown",
   "metadata": {
    "colab_type": "text",
    "id": "sb7Epo0VOB58"
   },
   "source": [
    "### Load tensorflow"
   ]
  },
  {
   "cell_type": "code",
   "execution_count": 0,
   "metadata": {
    "colab": {},
    "colab_type": "code",
    "id": "fHpCNRv1OB5-"
   },
   "outputs": [],
   "source": [
    "import tensorflow as tf\n"
   ]
  },
  {
   "cell_type": "code",
   "execution_count": 0,
   "metadata": {
    "colab": {},
    "colab_type": "code",
    "id": "Mjtb-EMcm5K0"
   },
   "outputs": [],
   "source": [
    "#Enable Eager Execution if using tensflow version < 2.0\n",
    "#From tensorflow v2.0 onwards, Eager Execution will be enabled by default\n",
    "tf.enable_eager_execution()"
   ]
  },
  {
   "cell_type": "markdown",
   "metadata": {
    "colab_type": "text",
    "id": "DxJDmJqqOB6K",
    "slideshow": {
     "slide_type": "slide"
    }
   },
   "source": [
    "### Collect Data"
   ]
  },
  {
   "cell_type": "code",
   "execution_count": 4,
   "metadata": {
    "colab": {
     "base_uri": "https://localhost:8080/",
     "height": 121
    },
    "colab_type": "code",
    "id": "FhllFLyKOB6N",
    "outputId": "6d7c81b6-e9b6-4af0-ab50-5df3befc5514"
   },
   "outputs": [
    {
     "name": "stdout",
     "output_type": "stream",
     "text": [
      "Go to this URL in a browser: https://accounts.google.com/o/oauth2/auth?client_id=947318989803-6bn6qk8qdgf4n4g3pfee6491hc0brc4i.apps.googleusercontent.com&redirect_uri=urn%3Aietf%3Awg%3Aoauth%3A2.0%3Aoob&scope=email%20https%3A%2F%2Fwww.googleapis.com%2Fauth%2Fdocs.test%20https%3A%2F%2Fwww.googleapis.com%2Fauth%2Fdrive%20https%3A%2F%2Fwww.googleapis.com%2Fauth%2Fdrive.photos.readonly%20https%3A%2F%2Fwww.googleapis.com%2Fauth%2Fpeopleapi.readonly&response_type=code\n",
      "\n",
      "Enter your authorization code:\n",
      "··········\n",
      "Mounted at /gdrive\n"
     ]
    }
   ],
   "source": [
    "from google.colab import drive\n",
    "drive.mount('/gdrive')"
   ]
  },
  {
   "cell_type": "code",
   "execution_count": 0,
   "metadata": {
    "colab": {},
    "colab_type": "code",
    "id": "KiObW4V4SIOz"
   },
   "outputs": [],
   "source": [
    "import pandas as pd\n",
    "import numpy as np"
   ]
  },
  {
   "cell_type": "code",
   "execution_count": 0,
   "metadata": {
    "colab": {},
    "colab_type": "code",
    "id": "B4yQKMiJOB6R"
   },
   "outputs": [],
   "source": [
    "data = pd.read_csv('/gdrive/My Drive/Colab Notebooks/Data/prices.csv')"
   ]
  },
  {
   "cell_type": "markdown",
   "metadata": {
    "colab_type": "text",
    "id": "fgkX6SEqOB6W"
   },
   "source": [
    "### Check all columns in the dataset"
   ]
  },
  {
   "cell_type": "code",
   "execution_count": 30,
   "metadata": {
    "colab": {
     "base_uri": "https://localhost:8080/",
     "height": 34
    },
    "colab_type": "code",
    "id": "7K8pWsNQOB6X",
    "outputId": "fce38ddd-d345-419a-9525-67201ecca964"
   },
   "outputs": [
    {
     "data": {
      "text/plain": [
       "Index(['date', 'symbol', 'open', 'close', 'low', 'high', 'volume'], dtype='object')"
      ]
     },
     "execution_count": 30,
     "metadata": {
      "tags": []
     },
     "output_type": "execute_result"
    }
   ],
   "source": [
    "data.columns"
   ]
  },
  {
   "cell_type": "markdown",
   "metadata": {
    "colab_type": "text",
    "id": "7dU6X7MpOB6c"
   },
   "source": [
    "### Drop columns `date` and  `symbol`"
   ]
  },
  {
   "cell_type": "code",
   "execution_count": 0,
   "metadata": {
    "colab": {},
    "colab_type": "code",
    "id": "lh_6spSKOB6e"
   },
   "outputs": [],
   "source": [
    "data = data.drop(['date','symbol'],axis=1)"
   ]
  },
  {
   "cell_type": "code",
   "execution_count": 32,
   "metadata": {
    "colab": {
     "base_uri": "https://localhost:8080/",
     "height": 195
    },
    "colab_type": "code",
    "id": "xlwbUgTwOB6i",
    "outputId": "4b948d99-ff59-4371-b0e6-04aea88307ab"
   },
   "outputs": [
    {
     "data": {
      "text/html": [
       "<div>\n",
       "<style scoped>\n",
       "    .dataframe tbody tr th:only-of-type {\n",
       "        vertical-align: middle;\n",
       "    }\n",
       "\n",
       "    .dataframe tbody tr th {\n",
       "        vertical-align: top;\n",
       "    }\n",
       "\n",
       "    .dataframe thead th {\n",
       "        text-align: right;\n",
       "    }\n",
       "</style>\n",
       "<table border=\"1\" class=\"dataframe\">\n",
       "  <thead>\n",
       "    <tr style=\"text-align: right;\">\n",
       "      <th></th>\n",
       "      <th>open</th>\n",
       "      <th>close</th>\n",
       "      <th>low</th>\n",
       "      <th>high</th>\n",
       "      <th>volume</th>\n",
       "    </tr>\n",
       "  </thead>\n",
       "  <tbody>\n",
       "    <tr>\n",
       "      <th>0</th>\n",
       "      <td>123.430000</td>\n",
       "      <td>125.839996</td>\n",
       "      <td>122.309998</td>\n",
       "      <td>126.250000</td>\n",
       "      <td>2163600.0</td>\n",
       "    </tr>\n",
       "    <tr>\n",
       "      <th>1</th>\n",
       "      <td>125.239998</td>\n",
       "      <td>119.980003</td>\n",
       "      <td>119.940002</td>\n",
       "      <td>125.540001</td>\n",
       "      <td>2386400.0</td>\n",
       "    </tr>\n",
       "    <tr>\n",
       "      <th>2</th>\n",
       "      <td>116.379997</td>\n",
       "      <td>114.949997</td>\n",
       "      <td>114.930000</td>\n",
       "      <td>119.739998</td>\n",
       "      <td>2489500.0</td>\n",
       "    </tr>\n",
       "    <tr>\n",
       "      <th>3</th>\n",
       "      <td>115.480003</td>\n",
       "      <td>116.620003</td>\n",
       "      <td>113.500000</td>\n",
       "      <td>117.440002</td>\n",
       "      <td>2006300.0</td>\n",
       "    </tr>\n",
       "    <tr>\n",
       "      <th>4</th>\n",
       "      <td>117.010002</td>\n",
       "      <td>114.970001</td>\n",
       "      <td>114.089996</td>\n",
       "      <td>117.330002</td>\n",
       "      <td>1408600.0</td>\n",
       "    </tr>\n",
       "  </tbody>\n",
       "</table>\n",
       "</div>"
      ],
      "text/plain": [
       "         open       close         low        high     volume\n",
       "0  123.430000  125.839996  122.309998  126.250000  2163600.0\n",
       "1  125.239998  119.980003  119.940002  125.540001  2386400.0\n",
       "2  116.379997  114.949997  114.930000  119.739998  2489500.0\n",
       "3  115.480003  116.620003  113.500000  117.440002  2006300.0\n",
       "4  117.010002  114.970001  114.089996  117.330002  1408600.0"
      ]
     },
     "execution_count": 32,
     "metadata": {
      "tags": []
     },
     "output_type": "execute_result"
    }
   ],
   "source": [
    "data.head()"
   ]
  },
  {
   "cell_type": "markdown",
   "metadata": {
    "colab_type": "text",
    "id": "3DBv3WWYOB6q"
   },
   "source": [
    "### Consider only first 1000 rows in the dataset for building feature set and target set\n",
    "Target 'Volume' has very high values. Divide 'Volume' by 1000,000"
   ]
  },
  {
   "cell_type": "code",
   "execution_count": 33,
   "metadata": {
    "colab": {
     "base_uri": "https://localhost:8080/",
     "height": 34
    },
    "colab_type": "code",
    "id": "Z_hG9rGBOB6s",
    "outputId": "ffa4d866-694a-429e-d2e5-c41b6b3f076b"
   },
   "outputs": [
    {
     "data": {
      "text/plain": [
       "(851264, 5)"
      ]
     },
     "execution_count": 33,
     "metadata": {
      "tags": []
     },
     "output_type": "execute_result"
    }
   ],
   "source": [
    "data.shape"
   ]
  },
  {
   "cell_type": "code",
   "execution_count": 0,
   "metadata": {
    "colab": {},
    "colab_type": "code",
    "id": "PCu6fIy08gdR"
   },
   "outputs": [],
   "source": [
    "data = data.iloc[0:1000,]"
   ]
  },
  {
   "cell_type": "code",
   "execution_count": 35,
   "metadata": {
    "colab": {
     "base_uri": "https://localhost:8080/",
     "height": 34
    },
    "colab_type": "code",
    "id": "wXi-BKM-8mTS",
    "outputId": "d98c1287-bd40-4867-89ae-fdf170d81098"
   },
   "outputs": [
    {
     "data": {
      "text/plain": [
       "(1000, 5)"
      ]
     },
     "execution_count": 35,
     "metadata": {
      "tags": []
     },
     "output_type": "execute_result"
    }
   ],
   "source": [
    "data.shape"
   ]
  },
  {
   "cell_type": "code",
   "execution_count": 0,
   "metadata": {
    "colab": {},
    "colab_type": "code",
    "id": "INUapqVM9Hg1"
   },
   "outputs": [],
   "source": [
    "data.volume = data.volume/1000000"
   ]
  },
  {
   "cell_type": "code",
   "execution_count": 37,
   "metadata": {
    "colab": {
     "base_uri": "https://localhost:8080/",
     "height": 195
    },
    "colab_type": "code",
    "id": "7DgYgXMG9MhF",
    "outputId": "b49851b9-30bb-47d5-b3a9-32a5c2138320"
   },
   "outputs": [
    {
     "data": {
      "text/html": [
       "<div>\n",
       "<style scoped>\n",
       "    .dataframe tbody tr th:only-of-type {\n",
       "        vertical-align: middle;\n",
       "    }\n",
       "\n",
       "    .dataframe tbody tr th {\n",
       "        vertical-align: top;\n",
       "    }\n",
       "\n",
       "    .dataframe thead th {\n",
       "        text-align: right;\n",
       "    }\n",
       "</style>\n",
       "<table border=\"1\" class=\"dataframe\">\n",
       "  <thead>\n",
       "    <tr style=\"text-align: right;\">\n",
       "      <th></th>\n",
       "      <th>open</th>\n",
       "      <th>close</th>\n",
       "      <th>low</th>\n",
       "      <th>high</th>\n",
       "      <th>volume</th>\n",
       "    </tr>\n",
       "  </thead>\n",
       "  <tbody>\n",
       "    <tr>\n",
       "      <th>0</th>\n",
       "      <td>123.430000</td>\n",
       "      <td>125.839996</td>\n",
       "      <td>122.309998</td>\n",
       "      <td>126.250000</td>\n",
       "      <td>2.1636</td>\n",
       "    </tr>\n",
       "    <tr>\n",
       "      <th>1</th>\n",
       "      <td>125.239998</td>\n",
       "      <td>119.980003</td>\n",
       "      <td>119.940002</td>\n",
       "      <td>125.540001</td>\n",
       "      <td>2.3864</td>\n",
       "    </tr>\n",
       "    <tr>\n",
       "      <th>2</th>\n",
       "      <td>116.379997</td>\n",
       "      <td>114.949997</td>\n",
       "      <td>114.930000</td>\n",
       "      <td>119.739998</td>\n",
       "      <td>2.4895</td>\n",
       "    </tr>\n",
       "    <tr>\n",
       "      <th>3</th>\n",
       "      <td>115.480003</td>\n",
       "      <td>116.620003</td>\n",
       "      <td>113.500000</td>\n",
       "      <td>117.440002</td>\n",
       "      <td>2.0063</td>\n",
       "    </tr>\n",
       "    <tr>\n",
       "      <th>4</th>\n",
       "      <td>117.010002</td>\n",
       "      <td>114.970001</td>\n",
       "      <td>114.089996</td>\n",
       "      <td>117.330002</td>\n",
       "      <td>1.4086</td>\n",
       "    </tr>\n",
       "  </tbody>\n",
       "</table>\n",
       "</div>"
      ],
      "text/plain": [
       "         open       close         low        high  volume\n",
       "0  123.430000  125.839996  122.309998  126.250000  2.1636\n",
       "1  125.239998  119.980003  119.940002  125.540001  2.3864\n",
       "2  116.379997  114.949997  114.930000  119.739998  2.4895\n",
       "3  115.480003  116.620003  113.500000  117.440002  2.0063\n",
       "4  117.010002  114.970001  114.089996  117.330002  1.4086"
      ]
     },
     "execution_count": 37,
     "metadata": {
      "tags": []
     },
     "output_type": "execute_result"
    }
   ],
   "source": [
    "data.head()"
   ]
  },
  {
   "cell_type": "code",
   "execution_count": 0,
   "metadata": {
    "colab": {},
    "colab_type": "code",
    "id": "qT0q6ZZm9xgn"
   },
   "outputs": [],
   "source": [
    "X = data.drop('volume',axis=1)\n",
    "y = data.iloc[:,-1]"
   ]
  },
  {
   "cell_type": "code",
   "execution_count": 90,
   "metadata": {
    "colab": {
     "base_uri": "https://localhost:8080/",
     "height": 34
    },
    "colab_type": "code",
    "id": "IGQCZ2LlHPA3",
    "outputId": "9fedbbbd-0f54-42a5-9c3a-aa5da066728c"
   },
   "outputs": [
    {
     "data": {
      "text/plain": [
       "pandas.core.frame.DataFrame"
      ]
     },
     "execution_count": 90,
     "metadata": {
      "tags": []
     },
     "output_type": "execute_result"
    }
   ],
   "source": [
    "type(X)"
   ]
  },
  {
   "cell_type": "code",
   "execution_count": 91,
   "metadata": {
    "colab": {
     "base_uri": "https://localhost:8080/",
     "height": 34
    },
    "colab_type": "code",
    "id": "8H65UGNuHaGj",
    "outputId": "bfde5de0-c757-4f64-c6e4-7816380029fd"
   },
   "outputs": [
    {
     "data": {
      "text/plain": [
       "pandas.core.series.Series"
      ]
     },
     "execution_count": 91,
     "metadata": {
      "tags": []
     },
     "output_type": "execute_result"
    }
   ],
   "source": [
    "type(y)"
   ]
  },
  {
   "cell_type": "code",
   "execution_count": 92,
   "metadata": {
    "colab": {
     "base_uri": "https://localhost:8080/",
     "height": 34
    },
    "colab_type": "code",
    "id": "ym3_X_v-Efl1",
    "outputId": "c164dcac-7955-4af0-a784-1542dab2a79b"
   },
   "outputs": [
    {
     "data": {
      "text/plain": [
       "(1000, 4)"
      ]
     },
     "execution_count": 92,
     "metadata": {
      "tags": []
     },
     "output_type": "execute_result"
    }
   ],
   "source": [
    "X.shape"
   ]
  },
  {
   "cell_type": "code",
   "execution_count": 93,
   "metadata": {
    "colab": {
     "base_uri": "https://localhost:8080/",
     "height": 34
    },
    "colab_type": "code",
    "id": "PLMnLFLXEhG9",
    "outputId": "cca40cf5-66df-4859-c8fe-ae588a452000"
   },
   "outputs": [
    {
     "data": {
      "text/plain": [
       "(1000,)"
      ]
     },
     "execution_count": 93,
     "metadata": {
      "tags": []
     },
     "output_type": "execute_result"
    }
   ],
   "source": [
    "y.shape"
   ]
  },
  {
   "cell_type": "code",
   "execution_count": 94,
   "metadata": {
    "colab": {
     "base_uri": "https://localhost:8080/",
     "height": 195
    },
    "colab_type": "code",
    "id": "vdgDLxK7_rkx",
    "outputId": "0cad2dbe-4206-40dc-9998-0d2006134dec"
   },
   "outputs": [
    {
     "data": {
      "text/html": [
       "<div>\n",
       "<style scoped>\n",
       "    .dataframe tbody tr th:only-of-type {\n",
       "        vertical-align: middle;\n",
       "    }\n",
       "\n",
       "    .dataframe tbody tr th {\n",
       "        vertical-align: top;\n",
       "    }\n",
       "\n",
       "    .dataframe thead th {\n",
       "        text-align: right;\n",
       "    }\n",
       "</style>\n",
       "<table border=\"1\" class=\"dataframe\">\n",
       "  <thead>\n",
       "    <tr style=\"text-align: right;\">\n",
       "      <th></th>\n",
       "      <th>open</th>\n",
       "      <th>close</th>\n",
       "      <th>low</th>\n",
       "      <th>high</th>\n",
       "    </tr>\n",
       "  </thead>\n",
       "  <tbody>\n",
       "    <tr>\n",
       "      <th>0</th>\n",
       "      <td>123.430000</td>\n",
       "      <td>125.839996</td>\n",
       "      <td>122.309998</td>\n",
       "      <td>126.250000</td>\n",
       "    </tr>\n",
       "    <tr>\n",
       "      <th>1</th>\n",
       "      <td>125.239998</td>\n",
       "      <td>119.980003</td>\n",
       "      <td>119.940002</td>\n",
       "      <td>125.540001</td>\n",
       "    </tr>\n",
       "    <tr>\n",
       "      <th>2</th>\n",
       "      <td>116.379997</td>\n",
       "      <td>114.949997</td>\n",
       "      <td>114.930000</td>\n",
       "      <td>119.739998</td>\n",
       "    </tr>\n",
       "    <tr>\n",
       "      <th>3</th>\n",
       "      <td>115.480003</td>\n",
       "      <td>116.620003</td>\n",
       "      <td>113.500000</td>\n",
       "      <td>117.440002</td>\n",
       "    </tr>\n",
       "    <tr>\n",
       "      <th>4</th>\n",
       "      <td>117.010002</td>\n",
       "      <td>114.970001</td>\n",
       "      <td>114.089996</td>\n",
       "      <td>117.330002</td>\n",
       "    </tr>\n",
       "  </tbody>\n",
       "</table>\n",
       "</div>"
      ],
      "text/plain": [
       "         open       close         low        high\n",
       "0  123.430000  125.839996  122.309998  126.250000\n",
       "1  125.239998  119.980003  119.940002  125.540001\n",
       "2  116.379997  114.949997  114.930000  119.739998\n",
       "3  115.480003  116.620003  113.500000  117.440002\n",
       "4  117.010002  114.970001  114.089996  117.330002"
      ]
     },
     "execution_count": 94,
     "metadata": {
      "tags": []
     },
     "output_type": "execute_result"
    }
   ],
   "source": [
    "X.head()"
   ]
  },
  {
   "cell_type": "code",
   "execution_count": 95,
   "metadata": {
    "colab": {
     "base_uri": "https://localhost:8080/",
     "height": 118
    },
    "colab_type": "code",
    "id": "6Xy6bmUF_s4m",
    "outputId": "29f1f15e-57bf-4062-afb2-b234341dcdac"
   },
   "outputs": [
    {
     "data": {
      "text/plain": [
       "0    2.1636\n",
       "1    2.3864\n",
       "2    2.4895\n",
       "3    2.0063\n",
       "4    1.4086\n",
       "Name: volume, dtype: float64"
      ]
     },
     "execution_count": 95,
     "metadata": {
      "tags": []
     },
     "output_type": "execute_result"
    }
   ],
   "source": [
    "y.head()"
   ]
  },
  {
   "cell_type": "markdown",
   "metadata": {
    "colab_type": "text",
    "id": "M3UaApqYOB6x"
   },
   "source": [
    "### Divide the data into train and test sets"
   ]
  },
  {
   "cell_type": "code",
   "execution_count": 0,
   "metadata": {
    "colab": {},
    "colab_type": "code",
    "id": "4LE4U8lTdQJq"
   },
   "outputs": [],
   "source": [
    "from sklearn.model_selection import train_test_split\n",
    "X_train, X_test, y_train, y_test = train_test_split(X, y, test_size=0.30 , random_state=1)"
   ]
  },
  {
   "cell_type": "markdown",
   "metadata": {
    "colab_type": "text",
    "id": "oYK-aUuLbrz2"
   },
   "source": [
    "#### Convert Training and Test Data to numpy float32 arrays\n"
   ]
  },
  {
   "cell_type": "code",
   "execution_count": 0,
   "metadata": {
    "colab": {},
    "colab_type": "code",
    "id": "Ao-S0tQGcncz"
   },
   "outputs": [],
   "source": [
    "X_train = X_train.astype('float32')\n",
    "y_train = y_train.astype('float32')\n",
    "X_test = X_test.astype('float32')\n",
    "y_test = y_test.astype('float32')"
   ]
  },
  {
   "cell_type": "code",
   "execution_count": 98,
   "metadata": {
    "colab": {
     "base_uri": "https://localhost:8080/",
     "height": 34
    },
    "colab_type": "code",
    "id": "CkpJ6mFjEpot",
    "outputId": "b7631adc-77c3-43e1-c6e0-5053811ee2d6"
   },
   "outputs": [
    {
     "data": {
      "text/plain": [
       "(700, 4)"
      ]
     },
     "execution_count": 98,
     "metadata": {
      "tags": []
     },
     "output_type": "execute_result"
    }
   ],
   "source": [
    "X_train.shape"
   ]
  },
  {
   "cell_type": "markdown",
   "metadata": {
    "colab_type": "text",
    "id": "im1ZegbDdKgv"
   },
   "source": [
    "### Normalize the data\n",
    "You can use Normalizer from sklearn.preprocessing"
   ]
  },
  {
   "cell_type": "code",
   "execution_count": 0,
   "metadata": {
    "colab": {},
    "colab_type": "code",
    "id": "2EkKAy7fOB6y"
   },
   "outputs": [],
   "source": [
    "from sklearn.preprocessing import Normalizer\n",
    "transformer = Normalizer()\n",
    "X_train = transformer.fit_transform(X_train)\n",
    "X_test = transformer.fit_transform(X_test)"
   ]
  },
  {
   "cell_type": "code",
   "execution_count": 0,
   "metadata": {
    "colab": {},
    "colab_type": "code",
    "id": "fFB9P6uGJoi8"
   },
   "outputs": [],
   "source": [
    "y_train = np.array(y_train)"
   ]
  },
  {
   "cell_type": "code",
   "execution_count": 0,
   "metadata": {
    "colab": {},
    "colab_type": "code",
    "id": "TnlIxQKYJ29_"
   },
   "outputs": [],
   "source": [
    "y_test = np.array(y_test)"
   ]
  },
  {
   "cell_type": "markdown",
   "metadata": {
    "colab_type": "text",
    "id": "v6vE4eYCOB62",
    "slideshow": {
     "slide_type": "slide"
    }
   },
   "source": [
    "## Building the Model in tensorflow"
   ]
  },
  {
   "cell_type": "markdown",
   "metadata": {
    "colab_type": "text",
    "id": "297_qja4OB7A",
    "slideshow": {
     "slide_type": "slide"
    }
   },
   "source": [
    "1.Define Weights and Bias, use tf.zeros to initialize weights and Bias"
   ]
  },
  {
   "cell_type": "code",
   "execution_count": 0,
   "metadata": {
    "colab": {},
    "colab_type": "code",
    "id": "L205qPeQOB7B"
   },
   "outputs": [],
   "source": [
    "#We are initializing weights and Bias with Zero\n",
    "w = tf.zeros(shape=(4,1))\n",
    "b = tf.zeros(shape=(1))"
   ]
  },
  {
   "cell_type": "code",
   "execution_count": 112,
   "metadata": {
    "colab": {
     "base_uri": "https://localhost:8080/",
     "height": 101
    },
    "colab_type": "code",
    "id": "R763aNuUD2cY",
    "outputId": "fe48a8de-3c32-4fd8-ced8-e85dae714765"
   },
   "outputs": [
    {
     "data": {
      "text/plain": [
       "<tf.Tensor: id=5888476, shape=(4, 1), dtype=float32, numpy=\n",
       "array([[0.],\n",
       "       [0.],\n",
       "       [0.],\n",
       "       [0.]], dtype=float32)>"
      ]
     },
     "execution_count": 112,
     "metadata": {
      "tags": []
     },
     "output_type": "execute_result"
    }
   ],
   "source": [
    "w"
   ]
  },
  {
   "cell_type": "code",
   "execution_count": 0,
   "metadata": {
    "colab": {},
    "colab_type": "code",
    "id": "2dLpB3wGA-6r"
   },
   "outputs": [],
   "source": [
    "xw_matmul = tf.matmul(X_train, w)"
   ]
  },
  {
   "cell_type": "markdown",
   "metadata": {
    "colab_type": "text",
    "id": "HgtWA-UIOB7F",
    "slideshow": {
     "slide_type": "slide"
    }
   },
   "source": [
    "2.Define a function to calculate prediction"
   ]
  },
  {
   "cell_type": "code",
   "execution_count": 0,
   "metadata": {
    "colab": {},
    "colab_type": "code",
    "id": "JveGlx25OB7H"
   },
   "outputs": [],
   "source": [
    "def prediction(x, w, b):\n",
    "    \n",
    "    xw_matmul = tf.matmul(x, w)\n",
    "    y = tf.add(xw_matmul, b)\n",
    "    \n",
    "    return y"
   ]
  },
  {
   "cell_type": "markdown",
   "metadata": {
    "colab_type": "text",
    "id": "TL1hIwf_OB7M",
    "slideshow": {
     "slide_type": "slide"
    }
   },
   "source": [
    "3.Loss (Cost) Function [Mean square error]"
   ]
  },
  {
   "cell_type": "code",
   "execution_count": 0,
   "metadata": {
    "colab": {},
    "colab_type": "code",
    "id": "8VSWPiGXOB7P"
   },
   "outputs": [],
   "source": [
    "def loss(y_actual, y_predicted):\n",
    "    \n",
    "    diff = y_actual - y_predicted\n",
    "    sqr = tf.square(diff)\n",
    "    avg = tf.reduce_mean(sqr)\n",
    "    \n",
    "    return avg"
   ]
  },
  {
   "cell_type": "markdown",
   "metadata": {
    "colab_type": "text",
    "id": "jzG85FUlOB7U",
    "slideshow": {
     "slide_type": "slide"
    }
   },
   "source": [
    "4.Function to train the Model\n",
    "\n",
    "1.   Record all the mathematical steps to calculate Loss\n",
    "2.   Calculate Gradients of Loss w.r.t weights and bias\n",
    "3.   Update Weights and Bias based on gradients and learning rate to minimize loss"
   ]
  },
  {
   "cell_type": "code",
   "execution_count": 0,
   "metadata": {
    "colab": {},
    "colab_type": "code",
    "id": "cj802w-3OB7X"
   },
   "outputs": [],
   "source": [
    "def train(x, y_actual, w, b, learning_rate=0.01):\n",
    "    \n",
    "    #Record mathematical operations on 'tape' to calculate loss\n",
    "    with tf.GradientTape() as t:\n",
    "        \n",
    "        t.watch([w,b])\n",
    "        \n",
    "        current_prediction = prediction(x, w, b)\n",
    "        current_loss = loss(y_actual, current_prediction)\n",
    "    \n",
    "    #Calculate Gradients for Loss with respect to Weights and Bias\n",
    "    dw, db = t.gradient(current_loss,[w, b])\n",
    "    \n",
    "    #Update Weights and Bias\n",
    "    w = w - learning_rate*dw\n",
    "    b = b - learning_rate*db\n",
    "    \n",
    "    return w, b"
   ]
  },
  {
   "cell_type": "markdown",
   "metadata": {
    "colab_type": "text",
    "id": "xSypb_u8OB7e",
    "slideshow": {
     "slide_type": "slide"
    }
   },
   "source": [
    "## Train the model for 100 epochs \n",
    "1. Observe the training loss at every iteration\n",
    "2. Observe Test loss at every 5th iteration"
   ]
  },
  {
   "cell_type": "code",
   "execution_count": 117,
   "metadata": {
    "colab": {
     "base_uri": "https://localhost:8080/",
     "height": 34
    },
    "colab_type": "code",
    "id": "1THvqdFuG6Mh",
    "outputId": "e72fd1d1-36b9-48bf-b99b-5af65b0b4046"
   },
   "outputs": [
    {
     "data": {
      "text/plain": [
       "numpy.ndarray"
      ]
     },
     "execution_count": 117,
     "metadata": {
      "tags": []
     },
     "output_type": "execute_result"
    }
   ],
   "source": [
    "type(X_train)"
   ]
  },
  {
   "cell_type": "code",
   "execution_count": 118,
   "metadata": {
    "colab": {
     "base_uri": "https://localhost:8080/",
     "height": 34
    },
    "colab_type": "code",
    "id": "UJhhn-lrG9Cv",
    "outputId": "22b1629a-5672-4b59-edd4-38e846b2b1cb"
   },
   "outputs": [
    {
     "data": {
      "text/plain": [
       "numpy.ndarray"
      ]
     },
     "execution_count": 118,
     "metadata": {
      "tags": []
     },
     "output_type": "execute_result"
    }
   ],
   "source": [
    "type(y_train)"
   ]
  },
  {
   "cell_type": "code",
   "execution_count": 121,
   "metadata": {
    "colab": {
     "base_uri": "https://localhost:8080/",
     "height": 2033
    },
    "colab_type": "code",
    "id": "DVvgj7eQOB7f",
    "outputId": "064655e3-680c-4ea0-e68f-5ce19c8444b9"
   },
   "outputs": [
    {
     "name": "stdout",
     "output_type": "stream",
     "text": [
      "Current train Loss on iteration 0 195.41153\n",
      "Current Test Loss on iteration 0 240.90453\n",
      "Current train Loss on iteration 1 195.41089\n",
      "Current train Loss on iteration 2 195.41032\n",
      "Current train Loss on iteration 3 195.40979\n",
      "Current train Loss on iteration 4 195.40929\n",
      "Current train Loss on iteration 5 195.40883\n",
      "Current Test Loss on iteration 5 240.92453\n",
      "Current train Loss on iteration 6 195.40843\n",
      "Current train Loss on iteration 7 195.40804\n",
      "Current train Loss on iteration 8 195.40767\n",
      "Current train Loss on iteration 9 195.40735\n",
      "Current train Loss on iteration 10 195.40706\n",
      "Current Test Loss on iteration 10 240.94128\n",
      "Current train Loss on iteration 11 195.4068\n",
      "Current train Loss on iteration 12 195.4065\n",
      "Current train Loss on iteration 13 195.40627\n",
      "Current train Loss on iteration 14 195.40607\n",
      "Current train Loss on iteration 15 195.40588\n",
      "Current Test Loss on iteration 15 240.9552\n",
      "Current train Loss on iteration 16 195.4057\n",
      "Current train Loss on iteration 17 195.40552\n",
      "Current train Loss on iteration 18 195.40535\n",
      "Current train Loss on iteration 19 195.40521\n",
      "Current train Loss on iteration 20 195.40508\n",
      "Current Test Loss on iteration 20 240.9667\n",
      "Current train Loss on iteration 21 195.40497\n",
      "Current train Loss on iteration 22 195.40485\n",
      "Current train Loss on iteration 23 195.40474\n",
      "Current train Loss on iteration 24 195.40463\n",
      "Current train Loss on iteration 25 195.40457\n",
      "Current Test Loss on iteration 25 240.97623\n",
      "Current train Loss on iteration 26 195.40448\n",
      "Current train Loss on iteration 27 195.4044\n",
      "Current train Loss on iteration 28 195.40434\n",
      "Current train Loss on iteration 29 195.40428\n",
      "Current train Loss on iteration 30 195.4042\n",
      "Current Test Loss on iteration 30 240.98404\n",
      "Current train Loss on iteration 31 195.40414\n",
      "Current train Loss on iteration 32 195.40411\n",
      "Current train Loss on iteration 33 195.40405\n",
      "Current train Loss on iteration 34 195.40405\n",
      "Current train Loss on iteration 35 195.40398\n",
      "Current Test Loss on iteration 35 240.99051\n",
      "Current train Loss on iteration 36 195.40393\n",
      "Current train Loss on iteration 37 195.40392\n",
      "Current train Loss on iteration 38 195.40388\n",
      "Current train Loss on iteration 39 195.40385\n",
      "Current train Loss on iteration 40 195.40382\n",
      "Current Test Loss on iteration 40 240.99577\n",
      "Current train Loss on iteration 41 195.40382\n",
      "Current train Loss on iteration 42 195.4038\n",
      "Current train Loss on iteration 43 195.40375\n",
      "Current train Loss on iteration 44 195.40375\n",
      "Current train Loss on iteration 45 195.40372\n",
      "Current Test Loss on iteration 45 241.00014\n",
      "Current train Loss on iteration 46 195.4037\n",
      "Current train Loss on iteration 47 195.40367\n",
      "Current train Loss on iteration 48 195.40367\n",
      "Current train Loss on iteration 49 195.40367\n",
      "Current train Loss on iteration 50 195.40366\n",
      "Current Test Loss on iteration 50 241.00366\n",
      "Current train Loss on iteration 51 195.40364\n",
      "Current train Loss on iteration 52 195.40364\n",
      "Current train Loss on iteration 53 195.40361\n",
      "Current train Loss on iteration 54 195.40363\n",
      "Current train Loss on iteration 55 195.40361\n",
      "Current Test Loss on iteration 55 241.00658\n",
      "Current train Loss on iteration 56 195.40361\n",
      "Current train Loss on iteration 57 195.4036\n",
      "Current train Loss on iteration 58 195.4036\n",
      "Current train Loss on iteration 59 195.40358\n",
      "Current train Loss on iteration 60 195.40358\n",
      "Current Test Loss on iteration 60 241.00896\n",
      "Current train Loss on iteration 61 195.40356\n",
      "Current train Loss on iteration 62 195.40358\n",
      "Current train Loss on iteration 63 195.40358\n",
      "Current train Loss on iteration 64 195.40356\n",
      "Current train Loss on iteration 65 195.40358\n",
      "Current Test Loss on iteration 65 241.0109\n",
      "Current train Loss on iteration 66 195.40356\n",
      "Current train Loss on iteration 67 195.40356\n",
      "Current train Loss on iteration 68 195.40355\n",
      "Current train Loss on iteration 69 195.40356\n",
      "Current train Loss on iteration 70 195.40355\n",
      "Current Test Loss on iteration 70 241.01248\n",
      "Current train Loss on iteration 71 195.40356\n",
      "Current train Loss on iteration 72 195.40355\n",
      "Current train Loss on iteration 73 195.40355\n",
      "Current train Loss on iteration 74 195.40355\n",
      "Current train Loss on iteration 75 195.40353\n",
      "Current Test Loss on iteration 75 241.01378\n",
      "Current train Loss on iteration 76 195.40355\n",
      "Current train Loss on iteration 77 195.40355\n",
      "Current train Loss on iteration 78 195.40355\n",
      "Current train Loss on iteration 79 195.40355\n",
      "Current train Loss on iteration 80 195.40355\n",
      "Current Test Loss on iteration 80 241.01485\n",
      "Current train Loss on iteration 81 195.40355\n",
      "Current train Loss on iteration 82 195.40355\n",
      "Current train Loss on iteration 83 195.40355\n",
      "Current train Loss on iteration 84 195.40353\n",
      "Current train Loss on iteration 85 195.40353\n",
      "Current Test Loss on iteration 85 241.01569\n",
      "Current train Loss on iteration 86 195.40353\n",
      "Current train Loss on iteration 87 195.40353\n",
      "Current train Loss on iteration 88 195.40353\n",
      "Current train Loss on iteration 89 195.40353\n",
      "Current train Loss on iteration 90 195.40353\n",
      "Current Test Loss on iteration 90 241.0164\n",
      "Current train Loss on iteration 91 195.40353\n",
      "Current train Loss on iteration 92 195.40355\n",
      "Current train Loss on iteration 93 195.40355\n",
      "Current train Loss on iteration 94 195.40353\n",
      "Current train Loss on iteration 95 195.40353\n",
      "Current Test Loss on iteration 95 241.01698\n",
      "Current train Loss on iteration 96 195.40353\n",
      "Current train Loss on iteration 97 195.40353\n",
      "Current train Loss on iteration 98 195.40353\n",
      "Current train Loss on iteration 99 195.4035\n"
     ]
    }
   ],
   "source": [
    "# Training loss at every iteration and Test loss at every 5th iteration\n",
    "\n",
    "for i in range(100):\n",
    "    \n",
    "    w, b = train(X_train, y_train, w, b)\n",
    "    print('Current train Loss on iteration', i, loss(y_train, prediction(X_train, w, b)).numpy())\n",
    "    \n",
    "    if(i%5==0):\n",
    "      print('Current Test Loss on iteration', i, loss(y_test, prediction(X_test, w, b)).numpy())"
   ]
  },
  {
   "cell_type": "markdown",
   "metadata": {
    "colab_type": "text",
    "id": "DOL2ncA1OB7q"
   },
   "source": [
    "### Get the shapes and values of W and b"
   ]
  },
  {
   "cell_type": "code",
   "execution_count": 124,
   "metadata": {
    "colab": {
     "base_uri": "https://localhost:8080/",
     "height": 34
    },
    "colab_type": "code",
    "id": "j3uRKLBDMquz",
    "outputId": "e43d57e5-b087-4e6d-b124-785ea9debb83"
   },
   "outputs": [
    {
     "data": {
      "text/plain": [
       "TensorShape([Dimension(4), Dimension(1)])"
      ]
     },
     "execution_count": 124,
     "metadata": {
      "tags": []
     },
     "output_type": "execute_result"
    }
   ],
   "source": [
    "w.shape"
   ]
  },
  {
   "cell_type": "code",
   "execution_count": 125,
   "metadata": {
    "colab": {
     "base_uri": "https://localhost:8080/",
     "height": 34
    },
    "colab_type": "code",
    "id": "TEA4IKsxMyGW",
    "outputId": "f838bf4f-0f95-4a3e-e43b-88bffd2b2861"
   },
   "outputs": [
    {
     "data": {
      "text/plain": [
       "TensorShape([Dimension(1)])"
      ]
     },
     "execution_count": 125,
     "metadata": {
      "tags": []
     },
     "output_type": "execute_result"
    }
   ],
   "source": [
    "b.shape"
   ]
  },
  {
   "cell_type": "code",
   "execution_count": 122,
   "metadata": {
    "colab": {
     "base_uri": "https://localhost:8080/",
     "height": 134
    },
    "colab_type": "code",
    "id": "ZGvtyTeuOB7r",
    "outputId": "488acfa1-df1b-410e-c6f8-6d1d1e7b38a8"
   },
   "outputs": [
    {
     "name": "stdout",
     "output_type": "stream",
     "text": [
      "Weights:\n",
      " [[1.3777771]\n",
      " [1.3827603]\n",
      " [1.3636918]\n",
      " [1.3945339]]\n",
      "Bias:\n",
      " [2.7595415]\n"
     ]
    }
   ],
   "source": [
    "#Check Weights and Bias\n",
    "print('Weights:\\n', w.numpy())\n",
    "print('Bias:\\n',b.numpy())"
   ]
  },
  {
   "cell_type": "markdown",
   "metadata": {
    "colab_type": "text",
    "id": "ERq9GOKKciho"
   },
   "source": [
    "### Model Prediction on 1st Examples in Test Dataset"
   ]
  },
  {
   "cell_type": "code",
   "execution_count": 139,
   "metadata": {
    "colab": {
     "base_uri": "https://localhost:8080/",
     "height": 34
    },
    "colab_type": "code",
    "id": "gKGvUWahcihp",
    "outputId": "55b1f63b-3d86-4f96-e733-bba973846067"
   },
   "outputs": [
    {
     "data": {
      "text/plain": [
       "5.5190086"
      ]
     },
     "execution_count": 139,
     "metadata": {
      "tags": []
     },
     "output_type": "execute_result"
    }
   ],
   "source": [
    "prediction([X_test[0]], w, b).numpy()[0][0]"
   ]
  },
  {
   "cell_type": "markdown",
   "metadata": {
    "colab_type": "text",
    "id": "YJRBuqXhOB7_"
   },
   "source": [
    "## Classification using tf.Keras\n",
    "\n",
    "In this exercise, we will build a Deep Neural Network using tf.Keras. We will use Iris Dataset for this exercise."
   ]
  },
  {
   "cell_type": "markdown",
   "metadata": {
    "colab_type": "text",
    "id": "O0g6lorycihf"
   },
   "source": [
    "### Load the given Iris data using pandas (Iris.csv)"
   ]
  },
  {
   "cell_type": "code",
   "execution_count": 0,
   "metadata": {
    "colab": {},
    "colab_type": "code",
    "id": "6xFvb5sRcihg"
   },
   "outputs": [],
   "source": [
    "iris = pd.read_csv('/gdrive/My Drive/Colab Notebooks/Data/11_Iris.csv')"
   ]
  },
  {
   "cell_type": "markdown",
   "metadata": {
    "colab_type": "text",
    "id": "SAB--Qdwcihm"
   },
   "source": [
    "### Target set has different categories. So, Label encode them. And convert into one-hot vectors using get_dummies in pandas."
   ]
  },
  {
   "cell_type": "code",
   "execution_count": 138,
   "metadata": {
    "colab": {
     "base_uri": "https://localhost:8080/",
     "height": 195
    },
    "colab_type": "code",
    "id": "IJr5dYnocihm",
    "outputId": "7a4b0958-5ff1-4bf9-ddc7-8b33842f5d28"
   },
   "outputs": [
    {
     "data": {
      "text/html": [
       "<div>\n",
       "<style scoped>\n",
       "    .dataframe tbody tr th:only-of-type {\n",
       "        vertical-align: middle;\n",
       "    }\n",
       "\n",
       "    .dataframe tbody tr th {\n",
       "        vertical-align: top;\n",
       "    }\n",
       "\n",
       "    .dataframe thead th {\n",
       "        text-align: right;\n",
       "    }\n",
       "</style>\n",
       "<table border=\"1\" class=\"dataframe\">\n",
       "  <thead>\n",
       "    <tr style=\"text-align: right;\">\n",
       "      <th></th>\n",
       "      <th>Id</th>\n",
       "      <th>SepalLengthCm</th>\n",
       "      <th>SepalWidthCm</th>\n",
       "      <th>PetalLengthCm</th>\n",
       "      <th>PetalWidthCm</th>\n",
       "      <th>Species</th>\n",
       "    </tr>\n",
       "  </thead>\n",
       "  <tbody>\n",
       "    <tr>\n",
       "      <th>0</th>\n",
       "      <td>1</td>\n",
       "      <td>5.1</td>\n",
       "      <td>3.5</td>\n",
       "      <td>1.4</td>\n",
       "      <td>0.2</td>\n",
       "      <td>Iris-setosa</td>\n",
       "    </tr>\n",
       "    <tr>\n",
       "      <th>1</th>\n",
       "      <td>2</td>\n",
       "      <td>4.9</td>\n",
       "      <td>3.0</td>\n",
       "      <td>1.4</td>\n",
       "      <td>0.2</td>\n",
       "      <td>Iris-setosa</td>\n",
       "    </tr>\n",
       "    <tr>\n",
       "      <th>2</th>\n",
       "      <td>3</td>\n",
       "      <td>4.7</td>\n",
       "      <td>3.2</td>\n",
       "      <td>1.3</td>\n",
       "      <td>0.2</td>\n",
       "      <td>Iris-setosa</td>\n",
       "    </tr>\n",
       "    <tr>\n",
       "      <th>3</th>\n",
       "      <td>4</td>\n",
       "      <td>4.6</td>\n",
       "      <td>3.1</td>\n",
       "      <td>1.5</td>\n",
       "      <td>0.2</td>\n",
       "      <td>Iris-setosa</td>\n",
       "    </tr>\n",
       "    <tr>\n",
       "      <th>4</th>\n",
       "      <td>5</td>\n",
       "      <td>5.0</td>\n",
       "      <td>3.6</td>\n",
       "      <td>1.4</td>\n",
       "      <td>0.2</td>\n",
       "      <td>Iris-setosa</td>\n",
       "    </tr>\n",
       "  </tbody>\n",
       "</table>\n",
       "</div>"
      ],
      "text/plain": [
       "   Id  SepalLengthCm  SepalWidthCm  PetalLengthCm  PetalWidthCm      Species\n",
       "0   1            5.1           3.5            1.4           0.2  Iris-setosa\n",
       "1   2            4.9           3.0            1.4           0.2  Iris-setosa\n",
       "2   3            4.7           3.2            1.3           0.2  Iris-setosa\n",
       "3   4            4.6           3.1            1.5           0.2  Iris-setosa\n",
       "4   5            5.0           3.6            1.4           0.2  Iris-setosa"
      ]
     },
     "execution_count": 138,
     "metadata": {
      "tags": []
     },
     "output_type": "execute_result"
    }
   ],
   "source": [
    "iris.head()"
   ]
  },
  {
   "cell_type": "code",
   "execution_count": 0,
   "metadata": {
    "colab": {},
    "colab_type": "code",
    "id": "RXhH4biZPKUj"
   },
   "outputs": [],
   "source": [
    "iris = pd.get_dummies(iris)"
   ]
  },
  {
   "cell_type": "code",
   "execution_count": 142,
   "metadata": {
    "colab": {
     "base_uri": "https://localhost:8080/",
     "height": 195
    },
    "colab_type": "code",
    "id": "DrYLkZDZQcLR",
    "outputId": "cb6da0cc-1cae-4f90-9e83-f8ff2ea9fb91"
   },
   "outputs": [
    {
     "data": {
      "text/html": [
       "<div>\n",
       "<style scoped>\n",
       "    .dataframe tbody tr th:only-of-type {\n",
       "        vertical-align: middle;\n",
       "    }\n",
       "\n",
       "    .dataframe tbody tr th {\n",
       "        vertical-align: top;\n",
       "    }\n",
       "\n",
       "    .dataframe thead th {\n",
       "        text-align: right;\n",
       "    }\n",
       "</style>\n",
       "<table border=\"1\" class=\"dataframe\">\n",
       "  <thead>\n",
       "    <tr style=\"text-align: right;\">\n",
       "      <th></th>\n",
       "      <th>Id</th>\n",
       "      <th>SepalLengthCm</th>\n",
       "      <th>SepalWidthCm</th>\n",
       "      <th>PetalLengthCm</th>\n",
       "      <th>PetalWidthCm</th>\n",
       "      <th>Species_Iris-setosa</th>\n",
       "      <th>Species_Iris-versicolor</th>\n",
       "      <th>Species_Iris-virginica</th>\n",
       "    </tr>\n",
       "  </thead>\n",
       "  <tbody>\n",
       "    <tr>\n",
       "      <th>0</th>\n",
       "      <td>1</td>\n",
       "      <td>5.1</td>\n",
       "      <td>3.5</td>\n",
       "      <td>1.4</td>\n",
       "      <td>0.2</td>\n",
       "      <td>1</td>\n",
       "      <td>0</td>\n",
       "      <td>0</td>\n",
       "    </tr>\n",
       "    <tr>\n",
       "      <th>1</th>\n",
       "      <td>2</td>\n",
       "      <td>4.9</td>\n",
       "      <td>3.0</td>\n",
       "      <td>1.4</td>\n",
       "      <td>0.2</td>\n",
       "      <td>1</td>\n",
       "      <td>0</td>\n",
       "      <td>0</td>\n",
       "    </tr>\n",
       "    <tr>\n",
       "      <th>2</th>\n",
       "      <td>3</td>\n",
       "      <td>4.7</td>\n",
       "      <td>3.2</td>\n",
       "      <td>1.3</td>\n",
       "      <td>0.2</td>\n",
       "      <td>1</td>\n",
       "      <td>0</td>\n",
       "      <td>0</td>\n",
       "    </tr>\n",
       "    <tr>\n",
       "      <th>3</th>\n",
       "      <td>4</td>\n",
       "      <td>4.6</td>\n",
       "      <td>3.1</td>\n",
       "      <td>1.5</td>\n",
       "      <td>0.2</td>\n",
       "      <td>1</td>\n",
       "      <td>0</td>\n",
       "      <td>0</td>\n",
       "    </tr>\n",
       "    <tr>\n",
       "      <th>4</th>\n",
       "      <td>5</td>\n",
       "      <td>5.0</td>\n",
       "      <td>3.6</td>\n",
       "      <td>1.4</td>\n",
       "      <td>0.2</td>\n",
       "      <td>1</td>\n",
       "      <td>0</td>\n",
       "      <td>0</td>\n",
       "    </tr>\n",
       "  </tbody>\n",
       "</table>\n",
       "</div>"
      ],
      "text/plain": [
       "   Id  SepalLengthCm  SepalWidthCm  PetalLengthCm  PetalWidthCm  \\\n",
       "0   1            5.1           3.5            1.4           0.2   \n",
       "1   2            4.9           3.0            1.4           0.2   \n",
       "2   3            4.7           3.2            1.3           0.2   \n",
       "3   4            4.6           3.1            1.5           0.2   \n",
       "4   5            5.0           3.6            1.4           0.2   \n",
       "\n",
       "   Species_Iris-setosa  Species_Iris-versicolor  Species_Iris-virginica  \n",
       "0                    1                        0                       0  \n",
       "1                    1                        0                       0  \n",
       "2                    1                        0                       0  \n",
       "3                    1                        0                       0  \n",
       "4                    1                        0                       0  "
      ]
     },
     "execution_count": 142,
     "metadata": {
      "tags": []
     },
     "output_type": "execute_result"
    }
   ],
   "source": [
    "iris.head()"
   ]
  },
  {
   "cell_type": "markdown",
   "metadata": {
    "colab_type": "text",
    "id": "D95nY5ILcihj"
   },
   "source": [
    "### Splitting the data into feature set and target set"
   ]
  },
  {
   "cell_type": "code",
   "execution_count": 0,
   "metadata": {
    "colab": {},
    "colab_type": "code",
    "id": "RyMQoLMucihj"
   },
   "outputs": [],
   "source": [
    "X_iris = iris.drop(['Id','Species_Iris-setosa','Species_Iris-versicolor','Species_Iris-virginica'],axis=1)\n",
    "y_iris = iris.iloc[:,-3:]"
   ]
  },
  {
   "cell_type": "code",
   "execution_count": 152,
   "metadata": {
    "colab": {
     "base_uri": "https://localhost:8080/",
     "height": 195
    },
    "colab_type": "code",
    "id": "SKBPL86MSq8l",
    "outputId": "3d4eacc7-ccd9-4039-cdb4-164e943629e7"
   },
   "outputs": [
    {
     "data": {
      "text/html": [
       "<div>\n",
       "<style scoped>\n",
       "    .dataframe tbody tr th:only-of-type {\n",
       "        vertical-align: middle;\n",
       "    }\n",
       "\n",
       "    .dataframe tbody tr th {\n",
       "        vertical-align: top;\n",
       "    }\n",
       "\n",
       "    .dataframe thead th {\n",
       "        text-align: right;\n",
       "    }\n",
       "</style>\n",
       "<table border=\"1\" class=\"dataframe\">\n",
       "  <thead>\n",
       "    <tr style=\"text-align: right;\">\n",
       "      <th></th>\n",
       "      <th>SepalLengthCm</th>\n",
       "      <th>SepalWidthCm</th>\n",
       "      <th>PetalLengthCm</th>\n",
       "      <th>PetalWidthCm</th>\n",
       "    </tr>\n",
       "  </thead>\n",
       "  <tbody>\n",
       "    <tr>\n",
       "      <th>0</th>\n",
       "      <td>5.1</td>\n",
       "      <td>3.5</td>\n",
       "      <td>1.4</td>\n",
       "      <td>0.2</td>\n",
       "    </tr>\n",
       "    <tr>\n",
       "      <th>1</th>\n",
       "      <td>4.9</td>\n",
       "      <td>3.0</td>\n",
       "      <td>1.4</td>\n",
       "      <td>0.2</td>\n",
       "    </tr>\n",
       "    <tr>\n",
       "      <th>2</th>\n",
       "      <td>4.7</td>\n",
       "      <td>3.2</td>\n",
       "      <td>1.3</td>\n",
       "      <td>0.2</td>\n",
       "    </tr>\n",
       "    <tr>\n",
       "      <th>3</th>\n",
       "      <td>4.6</td>\n",
       "      <td>3.1</td>\n",
       "      <td>1.5</td>\n",
       "      <td>0.2</td>\n",
       "    </tr>\n",
       "    <tr>\n",
       "      <th>4</th>\n",
       "      <td>5.0</td>\n",
       "      <td>3.6</td>\n",
       "      <td>1.4</td>\n",
       "      <td>0.2</td>\n",
       "    </tr>\n",
       "  </tbody>\n",
       "</table>\n",
       "</div>"
      ],
      "text/plain": [
       "   SepalLengthCm  SepalWidthCm  PetalLengthCm  PetalWidthCm\n",
       "0            5.1           3.5            1.4           0.2\n",
       "1            4.9           3.0            1.4           0.2\n",
       "2            4.7           3.2            1.3           0.2\n",
       "3            4.6           3.1            1.5           0.2\n",
       "4            5.0           3.6            1.4           0.2"
      ]
     },
     "execution_count": 152,
     "metadata": {
      "tags": []
     },
     "output_type": "execute_result"
    }
   ],
   "source": [
    "X_iris.head()"
   ]
  },
  {
   "cell_type": "code",
   "execution_count": 153,
   "metadata": {
    "colab": {
     "base_uri": "https://localhost:8080/",
     "height": 195
    },
    "colab_type": "code",
    "id": "uY8M-Il7TF5x",
    "outputId": "44d9db67-4aac-4943-a296-a972aa8d5080"
   },
   "outputs": [
    {
     "data": {
      "text/html": [
       "<div>\n",
       "<style scoped>\n",
       "    .dataframe tbody tr th:only-of-type {\n",
       "        vertical-align: middle;\n",
       "    }\n",
       "\n",
       "    .dataframe tbody tr th {\n",
       "        vertical-align: top;\n",
       "    }\n",
       "\n",
       "    .dataframe thead th {\n",
       "        text-align: right;\n",
       "    }\n",
       "</style>\n",
       "<table border=\"1\" class=\"dataframe\">\n",
       "  <thead>\n",
       "    <tr style=\"text-align: right;\">\n",
       "      <th></th>\n",
       "      <th>Species_Iris-setosa</th>\n",
       "      <th>Species_Iris-versicolor</th>\n",
       "      <th>Species_Iris-virginica</th>\n",
       "    </tr>\n",
       "  </thead>\n",
       "  <tbody>\n",
       "    <tr>\n",
       "      <th>0</th>\n",
       "      <td>1</td>\n",
       "      <td>0</td>\n",
       "      <td>0</td>\n",
       "    </tr>\n",
       "    <tr>\n",
       "      <th>1</th>\n",
       "      <td>1</td>\n",
       "      <td>0</td>\n",
       "      <td>0</td>\n",
       "    </tr>\n",
       "    <tr>\n",
       "      <th>2</th>\n",
       "      <td>1</td>\n",
       "      <td>0</td>\n",
       "      <td>0</td>\n",
       "    </tr>\n",
       "    <tr>\n",
       "      <th>3</th>\n",
       "      <td>1</td>\n",
       "      <td>0</td>\n",
       "      <td>0</td>\n",
       "    </tr>\n",
       "    <tr>\n",
       "      <th>4</th>\n",
       "      <td>1</td>\n",
       "      <td>0</td>\n",
       "      <td>0</td>\n",
       "    </tr>\n",
       "  </tbody>\n",
       "</table>\n",
       "</div>"
      ],
      "text/plain": [
       "   Species_Iris-setosa  Species_Iris-versicolor  Species_Iris-virginica\n",
       "0                    1                        0                       0\n",
       "1                    1                        0                       0\n",
       "2                    1                        0                       0\n",
       "3                    1                        0                       0\n",
       "4                    1                        0                       0"
      ]
     },
     "execution_count": 153,
     "metadata": {
      "tags": []
     },
     "output_type": "execute_result"
    }
   ],
   "source": [
    "y_iris.head()"
   ]
  },
  {
   "cell_type": "code",
   "execution_count": 0,
   "metadata": {
    "colab": {},
    "colab_type": "code",
    "id": "RCl_sDeuTH0t"
   },
   "outputs": [],
   "source": [
    "X_train_i, X_test_i, y_train_i, y_test_i = train_test_split(X_iris, y_iris, test_size=0.10 , random_state=1)"
   ]
  },
  {
   "cell_type": "markdown",
   "metadata": {
    "colab_type": "text",
    "id": "b22qpC5xcihr"
   },
   "source": [
    "###  Building Model in tf.keras\n",
    "\n",
    "Build a Linear Classifier model  <br>\n",
    "1.  Use Dense Layer  with input shape of 4 (according to the feature set) and number of outputs set to 3<br> \n",
    "2. Apply Softmax on Dense Layer outputs <br>\n",
    "3. Use SGD as Optimizer\n",
    "4. Use categorical_crossentropy as loss function "
   ]
  },
  {
   "cell_type": "code",
   "execution_count": 156,
   "metadata": {
    "colab": {
     "base_uri": "https://localhost:8080/",
     "height": 87
    },
    "colab_type": "code",
    "id": "Hov_UFnUciht",
    "outputId": "16a507cc-e12d-47fe-dc0a-d237e03ff460"
   },
   "outputs": [
    {
     "name": "stdout",
     "output_type": "stream",
     "text": [
      "WARNING:tensorflow:From /usr/local/lib/python3.6/dist-packages/tensorflow/python/ops/resource_variable_ops.py:642: colocate_with (from tensorflow.python.framework.ops) is deprecated and will be removed in a future version.\n",
      "Instructions for updating:\n",
      "Colocations handled automatically by placer.\n"
     ]
    }
   ],
   "source": [
    "#Initialize Sequential model\n",
    "model = tf.keras.models.Sequential()\n",
    "\n",
    "#Add Dense Layer which provides 3 Outputs after applying softmax\n",
    "model.add(tf.keras.layers.Dense(3, activation='softmax',input_shape=(4,)))\n",
    "\n",
    "#Compile the model\n",
    "model.compile(optimizer='sgd', loss='categorical_crossentropy', metrics=['accuracy'])"
   ]
  },
  {
   "cell_type": "markdown",
   "metadata": {
    "colab_type": "text",
    "id": "T5FdzqIKcihw"
   },
   "source": [
    "### Model Training "
   ]
  },
  {
   "cell_type": "code",
   "execution_count": 160,
   "metadata": {
    "colab": {
     "base_uri": "https://localhost:8080/",
     "height": 3481
    },
    "colab_type": "code",
    "id": "4qLEdHPscihx",
    "outputId": "1ab90caa-291f-4028-d003-ef132e59f608"
   },
   "outputs": [
    {
     "name": "stdout",
     "output_type": "stream",
     "text": [
      "Train on 135 samples, validate on 15 samples\n",
      "WARNING:tensorflow:From /usr/local/lib/python3.6/dist-packages/tensorflow/python/ops/math_ops.py:3066: to_int32 (from tensorflow.python.ops.math_ops) is deprecated and will be removed in a future version.\n",
      "Instructions for updating:\n",
      "Use tf.cast instead.\n",
      "Epoch 1/100\n",
      "135/135 [==============================] - 0s 957us/sample - loss: 6.7937 - acc: 0.3259 - val_loss: 5.9007 - val_acc: 0.4000\n",
      "Epoch 2/100\n",
      "135/135 [==============================] - 0s 68us/sample - loss: 6.3955 - acc: 0.3259 - val_loss: 5.5234 - val_acc: 0.4000\n",
      "Epoch 3/100\n",
      "135/135 [==============================] - 0s 64us/sample - loss: 5.9894 - acc: 0.3259 - val_loss: 5.1468 - val_acc: 0.4000\n",
      "Epoch 4/100\n",
      "135/135 [==============================] - 0s 64us/sample - loss: 5.5844 - acc: 0.3259 - val_loss: 4.7717 - val_acc: 0.4000\n",
      "Epoch 5/100\n",
      "135/135 [==============================] - 0s 54us/sample - loss: 5.1810 - acc: 0.3259 - val_loss: 4.3989 - val_acc: 0.4000\n",
      "Epoch 6/100\n",
      "135/135 [==============================] - 0s 64us/sample - loss: 4.7804 - acc: 0.3259 - val_loss: 4.0299 - val_acc: 0.4000\n",
      "Epoch 7/100\n",
      "135/135 [==============================] - 0s 68us/sample - loss: 4.3842 - acc: 0.3259 - val_loss: 3.6672 - val_acc: 0.4000\n",
      "Epoch 8/100\n",
      "135/135 [==============================] - 0s 61us/sample - loss: 3.9951 - acc: 0.3259 - val_loss: 3.3145 - val_acc: 0.4000\n",
      "Epoch 9/100\n",
      "135/135 [==============================] - 0s 64us/sample - loss: 3.6175 - acc: 0.3259 - val_loss: 2.9777 - val_acc: 0.4000\n",
      "Epoch 10/100\n",
      "135/135 [==============================] - 0s 62us/sample - loss: 3.2573 - acc: 0.3259 - val_loss: 2.6647 - val_acc: 0.4000\n",
      "Epoch 11/100\n",
      "135/135 [==============================] - 0s 61us/sample - loss: 2.9228 - acc: 0.3259 - val_loss: 2.3847 - val_acc: 0.4000\n",
      "Epoch 12/100\n",
      "135/135 [==============================] - 0s 63us/sample - loss: 2.6232 - acc: 0.3259 - val_loss: 2.1460 - val_acc: 0.4000\n",
      "Epoch 13/100\n",
      "135/135 [==============================] - 0s 52us/sample - loss: 2.3663 - acc: 0.3259 - val_loss: 1.9524 - val_acc: 0.4000\n",
      "Epoch 14/100\n",
      "135/135 [==============================] - 0s 49us/sample - loss: 2.1547 - acc: 0.3259 - val_loss: 1.8014 - val_acc: 0.4000\n",
      "Epoch 15/100\n",
      "135/135 [==============================] - 0s 59us/sample - loss: 1.9853 - acc: 0.3259 - val_loss: 1.6863 - val_acc: 0.4000\n",
      "Epoch 16/100\n",
      "135/135 [==============================] - 0s 49us/sample - loss: 1.8508 - acc: 0.3185 - val_loss: 1.5990 - val_acc: 0.4000\n",
      "Epoch 17/100\n",
      "135/135 [==============================] - 0s 57us/sample - loss: 1.7434 - acc: 0.3111 - val_loss: 1.5330 - val_acc: 0.4000\n",
      "Epoch 18/100\n",
      "135/135 [==============================] - 0s 53us/sample - loss: 1.6571 - acc: 0.2963 - val_loss: 1.4833 - val_acc: 0.4000\n",
      "Epoch 19/100\n",
      "135/135 [==============================] - 0s 66us/sample - loss: 1.5877 - acc: 0.2889 - val_loss: 1.4465 - val_acc: 0.4000\n",
      "Epoch 20/100\n",
      "135/135 [==============================] - 0s 83us/sample - loss: 1.5320 - acc: 0.2741 - val_loss: 1.4194 - val_acc: 0.4000\n",
      "Epoch 21/100\n",
      "135/135 [==============================] - 0s 55us/sample - loss: 1.4875 - acc: 0.2370 - val_loss: 1.3998 - val_acc: 0.4000\n",
      "Epoch 22/100\n",
      "135/135 [==============================] - 0s 103us/sample - loss: 1.4522 - acc: 0.2296 - val_loss: 1.3855 - val_acc: 0.3333\n",
      "Epoch 23/100\n",
      "135/135 [==============================] - 0s 72us/sample - loss: 1.4240 - acc: 0.2222 - val_loss: 1.3747 - val_acc: 0.3333\n",
      "Epoch 24/100\n",
      "135/135 [==============================] - 0s 48us/sample - loss: 1.4012 - acc: 0.2222 - val_loss: 1.3661 - val_acc: 0.3333\n",
      "Epoch 25/100\n",
      "135/135 [==============================] - 0s 53us/sample - loss: 1.3824 - acc: 0.2222 - val_loss: 1.3587 - val_acc: 0.4000\n",
      "Epoch 26/100\n",
      "135/135 [==============================] - 0s 67us/sample - loss: 1.3666 - acc: 0.2000 - val_loss: 1.3518 - val_acc: 0.3333\n",
      "Epoch 27/100\n",
      "135/135 [==============================] - 0s 49us/sample - loss: 1.3527 - acc: 0.1852 - val_loss: 1.3450 - val_acc: 0.3333\n",
      "Epoch 28/100\n",
      "135/135 [==============================] - 0s 47us/sample - loss: 1.3402 - acc: 0.1704 - val_loss: 1.3381 - val_acc: 0.3333\n",
      "Epoch 29/100\n",
      "135/135 [==============================] - 0s 50us/sample - loss: 1.3287 - acc: 0.1481 - val_loss: 1.3310 - val_acc: 0.2667\n",
      "Epoch 30/100\n",
      "135/135 [==============================] - 0s 49us/sample - loss: 1.3179 - acc: 0.1259 - val_loss: 1.3236 - val_acc: 0.2667\n",
      "Epoch 31/100\n",
      "135/135 [==============================] - 0s 50us/sample - loss: 1.3076 - acc: 0.1556 - val_loss: 1.3159 - val_acc: 0.2667\n",
      "Epoch 32/100\n",
      "135/135 [==============================] - 0s 94us/sample - loss: 1.2976 - acc: 0.1407 - val_loss: 1.3081 - val_acc: 0.2667\n",
      "Epoch 33/100\n",
      "135/135 [==============================] - 0s 69us/sample - loss: 1.2879 - acc: 0.1630 - val_loss: 1.3000 - val_acc: 0.2667\n",
      "Epoch 34/100\n",
      "135/135 [==============================] - 0s 51us/sample - loss: 1.2784 - acc: 0.1704 - val_loss: 1.2918 - val_acc: 0.2667\n",
      "Epoch 35/100\n",
      "135/135 [==============================] - 0s 88us/sample - loss: 1.2691 - acc: 0.1852 - val_loss: 1.2834 - val_acc: 0.2667\n",
      "Epoch 36/100\n",
      "135/135 [==============================] - 0s 83us/sample - loss: 1.2599 - acc: 0.1852 - val_loss: 1.2750 - val_acc: 0.2000\n",
      "Epoch 37/100\n",
      "135/135 [==============================] - 0s 155us/sample - loss: 1.2508 - acc: 0.1852 - val_loss: 1.2666 - val_acc: 0.2000\n",
      "Epoch 38/100\n",
      "135/135 [==============================] - 0s 112us/sample - loss: 1.2419 - acc: 0.1926 - val_loss: 1.2582 - val_acc: 0.2000\n",
      "Epoch 39/100\n",
      "135/135 [==============================] - 0s 68us/sample - loss: 1.2331 - acc: 0.1778 - val_loss: 1.2497 - val_acc: 0.1333\n",
      "Epoch 40/100\n",
      "135/135 [==============================] - 0s 51us/sample - loss: 1.2244 - acc: 0.1704 - val_loss: 1.2414 - val_acc: 0.1333\n",
      "Epoch 41/100\n",
      "135/135 [==============================] - 0s 74us/sample - loss: 1.2158 - acc: 0.1778 - val_loss: 1.2330 - val_acc: 0.1333\n",
      "Epoch 42/100\n",
      "135/135 [==============================] - 0s 60us/sample - loss: 1.2073 - acc: 0.1926 - val_loss: 1.2247 - val_acc: 0.1333\n",
      "Epoch 43/100\n",
      "135/135 [==============================] - 0s 76us/sample - loss: 1.1989 - acc: 0.2000 - val_loss: 1.2165 - val_acc: 0.1333\n",
      "Epoch 44/100\n",
      "135/135 [==============================] - 0s 76us/sample - loss: 1.1907 - acc: 0.2000 - val_loss: 1.2084 - val_acc: 0.1333\n",
      "Epoch 45/100\n",
      "135/135 [==============================] - 0s 91us/sample - loss: 1.1825 - acc: 0.2074 - val_loss: 1.2003 - val_acc: 0.2000\n",
      "Epoch 46/100\n",
      "135/135 [==============================] - 0s 73us/sample - loss: 1.1745 - acc: 0.2074 - val_loss: 1.1924 - val_acc: 0.2000\n",
      "Epoch 47/100\n",
      "135/135 [==============================] - 0s 91us/sample - loss: 1.1665 - acc: 0.2222 - val_loss: 1.1845 - val_acc: 0.2000\n",
      "Epoch 48/100\n",
      "135/135 [==============================] - 0s 77us/sample - loss: 1.1586 - acc: 0.2222 - val_loss: 1.1767 - val_acc: 0.2000\n",
      "Epoch 49/100\n",
      "135/135 [==============================] - 0s 96us/sample - loss: 1.1509 - acc: 0.2222 - val_loss: 1.1690 - val_acc: 0.2000\n",
      "Epoch 50/100\n",
      "135/135 [==============================] - 0s 64us/sample - loss: 1.1432 - acc: 0.2296 - val_loss: 1.1614 - val_acc: 0.2000\n",
      "Epoch 51/100\n",
      "135/135 [==============================] - 0s 149us/sample - loss: 1.1357 - acc: 0.2296 - val_loss: 1.1539 - val_acc: 0.2000\n",
      "Epoch 52/100\n",
      "135/135 [==============================] - 0s 71us/sample - loss: 1.1283 - acc: 0.2370 - val_loss: 1.1465 - val_acc: 0.2000\n",
      "Epoch 53/100\n",
      "135/135 [==============================] - 0s 83us/sample - loss: 1.1209 - acc: 0.2519 - val_loss: 1.1392 - val_acc: 0.2000\n",
      "Epoch 54/100\n",
      "135/135 [==============================] - 0s 54us/sample - loss: 1.1136 - acc: 0.2444 - val_loss: 1.1319 - val_acc: 0.2000\n",
      "Epoch 55/100\n",
      "135/135 [==============================] - 0s 91us/sample - loss: 1.1065 - acc: 0.2370 - val_loss: 1.1248 - val_acc: 0.2000\n",
      "Epoch 56/100\n",
      "135/135 [==============================] - 0s 91us/sample - loss: 1.0994 - acc: 0.2444 - val_loss: 1.1178 - val_acc: 0.2000\n",
      "Epoch 57/100\n",
      "135/135 [==============================] - 0s 68us/sample - loss: 1.0925 - acc: 0.2444 - val_loss: 1.1108 - val_acc: 0.2000\n",
      "Epoch 58/100\n",
      "135/135 [==============================] - 0s 65us/sample - loss: 1.0856 - acc: 0.2444 - val_loss: 1.1040 - val_acc: 0.2000\n",
      "Epoch 59/100\n",
      "135/135 [==============================] - 0s 111us/sample - loss: 1.0788 - acc: 0.2519 - val_loss: 1.0972 - val_acc: 0.2000\n",
      "Epoch 60/100\n",
      "135/135 [==============================] - 0s 83us/sample - loss: 1.0721 - acc: 0.2667 - val_loss: 1.0906 - val_acc: 0.2000\n",
      "Epoch 61/100\n",
      "135/135 [==============================] - 0s 51us/sample - loss: 1.0655 - acc: 0.2667 - val_loss: 1.0840 - val_acc: 0.2000\n",
      "Epoch 62/100\n",
      "135/135 [==============================] - 0s 110us/sample - loss: 1.0590 - acc: 0.2815 - val_loss: 1.0775 - val_acc: 0.2000\n",
      "Epoch 63/100\n",
      "135/135 [==============================] - 0s 69us/sample - loss: 1.0526 - acc: 0.2889 - val_loss: 1.0711 - val_acc: 0.2000\n",
      "Epoch 64/100\n",
      "135/135 [==============================] - 0s 74us/sample - loss: 1.0463 - acc: 0.2889 - val_loss: 1.0648 - val_acc: 0.2000\n",
      "Epoch 65/100\n",
      "135/135 [==============================] - 0s 69us/sample - loss: 1.0400 - acc: 0.3111 - val_loss: 1.0586 - val_acc: 0.2000\n",
      "Epoch 66/100\n",
      "135/135 [==============================] - 0s 76us/sample - loss: 1.0339 - acc: 0.3259 - val_loss: 1.0524 - val_acc: 0.2000\n",
      "Epoch 67/100\n",
      "135/135 [==============================] - 0s 87us/sample - loss: 1.0278 - acc: 0.3259 - val_loss: 1.0464 - val_acc: 0.2000\n",
      "Epoch 68/100\n",
      "135/135 [==============================] - 0s 79us/sample - loss: 1.0218 - acc: 0.3333 - val_loss: 1.0404 - val_acc: 0.2000\n",
      "Epoch 69/100\n",
      "135/135 [==============================] - 0s 74us/sample - loss: 1.0159 - acc: 0.3259 - val_loss: 1.0345 - val_acc: 0.2000\n",
      "Epoch 70/100\n",
      "135/135 [==============================] - 0s 67us/sample - loss: 1.0101 - acc: 0.3407 - val_loss: 1.0287 - val_acc: 0.2667\n",
      "Epoch 71/100\n",
      "135/135 [==============================] - 0s 63us/sample - loss: 1.0043 - acc: 0.3481 - val_loss: 1.0230 - val_acc: 0.2667\n",
      "Epoch 72/100\n",
      "135/135 [==============================] - 0s 50us/sample - loss: 0.9986 - acc: 0.3481 - val_loss: 1.0173 - val_acc: 0.2667\n",
      "Epoch 73/100\n",
      "135/135 [==============================] - 0s 74us/sample - loss: 0.9931 - acc: 0.3926 - val_loss: 1.0118 - val_acc: 0.2667\n",
      "Epoch 74/100\n",
      "135/135 [==============================] - 0s 87us/sample - loss: 0.9875 - acc: 0.4074 - val_loss: 1.0063 - val_acc: 0.2667\n",
      "Epoch 75/100\n",
      "135/135 [==============================] - 0s 92us/sample - loss: 0.9821 - acc: 0.4222 - val_loss: 1.0009 - val_acc: 0.2667\n",
      "Epoch 76/100\n",
      "135/135 [==============================] - 0s 68us/sample - loss: 0.9767 - acc: 0.4667 - val_loss: 0.9955 - val_acc: 0.2667\n",
      "Epoch 77/100\n",
      "135/135 [==============================] - 0s 90us/sample - loss: 0.9715 - acc: 0.4889 - val_loss: 0.9903 - val_acc: 0.2667\n",
      "Epoch 78/100\n",
      "135/135 [==============================] - 0s 51us/sample - loss: 0.9662 - acc: 0.5259 - val_loss: 0.9851 - val_acc: 0.2667\n",
      "Epoch 79/100\n",
      "135/135 [==============================] - 0s 76us/sample - loss: 0.9611 - acc: 0.5481 - val_loss: 0.9799 - val_acc: 0.2667\n",
      "Epoch 80/100\n",
      "135/135 [==============================] - 0s 77us/sample - loss: 0.9560 - acc: 0.5481 - val_loss: 0.9749 - val_acc: 0.3333\n",
      "Epoch 81/100\n",
      "135/135 [==============================] - 0s 79us/sample - loss: 0.9510 - acc: 0.5556 - val_loss: 0.9699 - val_acc: 0.3333\n",
      "Epoch 82/100\n",
      "135/135 [==============================] - 0s 79us/sample - loss: 0.9461 - acc: 0.5704 - val_loss: 0.9650 - val_acc: 0.3333\n",
      "Epoch 83/100\n",
      "135/135 [==============================] - 0s 84us/sample - loss: 0.9412 - acc: 0.5778 - val_loss: 0.9602 - val_acc: 0.3333\n",
      "Epoch 84/100\n",
      "135/135 [==============================] - 0s 48us/sample - loss: 0.9364 - acc: 0.5852 - val_loss: 0.9554 - val_acc: 0.3333\n",
      "Epoch 85/100\n",
      "135/135 [==============================] - 0s 69us/sample - loss: 0.9317 - acc: 0.5926 - val_loss: 0.9507 - val_acc: 0.4000\n",
      "Epoch 86/100\n",
      "135/135 [==============================] - 0s 76us/sample - loss: 0.9271 - acc: 0.6222 - val_loss: 0.9460 - val_acc: 0.4000\n",
      "Epoch 87/100\n",
      "135/135 [==============================] - 0s 51us/sample - loss: 0.9224 - acc: 0.6222 - val_loss: 0.9414 - val_acc: 0.4000\n",
      "Epoch 88/100\n",
      "135/135 [==============================] - 0s 60us/sample - loss: 0.9179 - acc: 0.6296 - val_loss: 0.9369 - val_acc: 0.4667\n",
      "Epoch 89/100\n",
      "135/135 [==============================] - 0s 77us/sample - loss: 0.9134 - acc: 0.6444 - val_loss: 0.9325 - val_acc: 0.4667\n",
      "Epoch 90/100\n",
      "135/135 [==============================] - 0s 94us/sample - loss: 0.9090 - acc: 0.6444 - val_loss: 0.9281 - val_acc: 0.4667\n",
      "Epoch 91/100\n",
      "135/135 [==============================] - 0s 78us/sample - loss: 0.9047 - acc: 0.6370 - val_loss: 0.9237 - val_acc: 0.4667\n",
      "Epoch 92/100\n",
      "135/135 [==============================] - 0s 66us/sample - loss: 0.9004 - acc: 0.6370 - val_loss: 0.9194 - val_acc: 0.4667\n",
      "Epoch 93/100\n",
      "135/135 [==============================] - 0s 74us/sample - loss: 0.8961 - acc: 0.6444 - val_loss: 0.9152 - val_acc: 0.5333\n",
      "Epoch 94/100\n",
      "135/135 [==============================] - 0s 64us/sample - loss: 0.8919 - acc: 0.6444 - val_loss: 0.9111 - val_acc: 0.5333\n",
      "Epoch 95/100\n",
      "135/135 [==============================] - 0s 68us/sample - loss: 0.8878 - acc: 0.6444 - val_loss: 0.9070 - val_acc: 0.5333\n",
      "Epoch 96/100\n",
      "135/135 [==============================] - 0s 76us/sample - loss: 0.8837 - acc: 0.6519 - val_loss: 0.9029 - val_acc: 0.5333\n",
      "Epoch 97/100\n",
      "135/135 [==============================] - 0s 76us/sample - loss: 0.8797 - acc: 0.6519 - val_loss: 0.8989 - val_acc: 0.5333\n",
      "Epoch 98/100\n",
      "135/135 [==============================] - 0s 82us/sample - loss: 0.8758 - acc: 0.6519 - val_loss: 0.8950 - val_acc: 0.5333\n",
      "Epoch 99/100\n",
      "135/135 [==============================] - 0s 80us/sample - loss: 0.8719 - acc: 0.6519 - val_loss: 0.8911 - val_acc: 0.5333\n",
      "Epoch 100/100\n",
      "135/135 [==============================] - 0s 77us/sample - loss: 0.8680 - acc: 0.6593 - val_loss: 0.8872 - val_acc: 0.5333\n"
     ]
    },
    {
     "data": {
      "text/plain": [
       "<tensorflow.python.keras.callbacks.History at 0x7f6952148b00>"
      ]
     },
     "execution_count": 160,
     "metadata": {
      "tags": []
     },
     "output_type": "execute_result"
    }
   ],
   "source": [
    "model.fit(X_train_i, y_train_i, \n",
    "          validation_data=(X_test_i, y_test_i), \n",
    "          epochs=100,\n",
    "          batch_size=X_train_i.shape[0])"
   ]
  },
  {
   "cell_type": "markdown",
   "metadata": {
    "colab_type": "text",
    "id": "y-SgSSdRcih5"
   },
   "source": [
    "### Model Prediction"
   ]
  },
  {
   "cell_type": "code",
   "execution_count": 163,
   "metadata": {
    "colab": {
     "base_uri": "https://localhost:8080/",
     "height": 168
    },
    "colab_type": "code",
    "id": "GBgKZkhkcih6",
    "outputId": "f96ad023-a4f4-4d45-b339-1dc5a087575a"
   },
   "outputs": [
    {
     "name": "stdout",
     "output_type": "stream",
     "text": [
      "_________________________________________________________________\n",
      "Layer (type)                 Output Shape              Param #   \n",
      "=================================================================\n",
      "dense (Dense)                (None, 3)                 15        \n",
      "=================================================================\n",
      "Total params: 15\n",
      "Trainable params: 15\n",
      "Non-trainable params: 0\n",
      "_________________________________________________________________\n"
     ]
    }
   ],
   "source": [
    "model.summary()"
   ]
  },
  {
   "cell_type": "code",
   "execution_count": 178,
   "metadata": {
    "colab": {
     "base_uri": "https://localhost:8080/",
     "height": 491
    },
    "colab_type": "code",
    "id": "mvUX-f8XXECS",
    "outputId": "debbcaef-c640-497f-9477-fadb30fd35db"
   },
   "outputs": [
    {
     "data": {
      "text/html": [
       "<div>\n",
       "<style scoped>\n",
       "    .dataframe tbody tr th:only-of-type {\n",
       "        vertical-align: middle;\n",
       "    }\n",
       "\n",
       "    .dataframe tbody tr th {\n",
       "        vertical-align: top;\n",
       "    }\n",
       "\n",
       "    .dataframe thead th {\n",
       "        text-align: right;\n",
       "    }\n",
       "</style>\n",
       "<table border=\"1\" class=\"dataframe\">\n",
       "  <thead>\n",
       "    <tr style=\"text-align: right;\">\n",
       "      <th></th>\n",
       "      <th>Species_Iris-setosa</th>\n",
       "      <th>Species_Iris-versicolor</th>\n",
       "      <th>Species_Iris-virginica</th>\n",
       "    </tr>\n",
       "  </thead>\n",
       "  <tbody>\n",
       "    <tr>\n",
       "      <th>14</th>\n",
       "      <td>1</td>\n",
       "      <td>0</td>\n",
       "      <td>0</td>\n",
       "    </tr>\n",
       "    <tr>\n",
       "      <th>98</th>\n",
       "      <td>0</td>\n",
       "      <td>1</td>\n",
       "      <td>0</td>\n",
       "    </tr>\n",
       "    <tr>\n",
       "      <th>75</th>\n",
       "      <td>0</td>\n",
       "      <td>1</td>\n",
       "      <td>0</td>\n",
       "    </tr>\n",
       "    <tr>\n",
       "      <th>16</th>\n",
       "      <td>1</td>\n",
       "      <td>0</td>\n",
       "      <td>0</td>\n",
       "    </tr>\n",
       "    <tr>\n",
       "      <th>131</th>\n",
       "      <td>0</td>\n",
       "      <td>0</td>\n",
       "      <td>1</td>\n",
       "    </tr>\n",
       "    <tr>\n",
       "      <th>56</th>\n",
       "      <td>0</td>\n",
       "      <td>1</td>\n",
       "      <td>0</td>\n",
       "    </tr>\n",
       "    <tr>\n",
       "      <th>141</th>\n",
       "      <td>0</td>\n",
       "      <td>0</td>\n",
       "      <td>1</td>\n",
       "    </tr>\n",
       "    <tr>\n",
       "      <th>44</th>\n",
       "      <td>1</td>\n",
       "      <td>0</td>\n",
       "      <td>0</td>\n",
       "    </tr>\n",
       "    <tr>\n",
       "      <th>29</th>\n",
       "      <td>1</td>\n",
       "      <td>0</td>\n",
       "      <td>0</td>\n",
       "    </tr>\n",
       "    <tr>\n",
       "      <th>120</th>\n",
       "      <td>0</td>\n",
       "      <td>0</td>\n",
       "      <td>1</td>\n",
       "    </tr>\n",
       "    <tr>\n",
       "      <th>94</th>\n",
       "      <td>0</td>\n",
       "      <td>1</td>\n",
       "      <td>0</td>\n",
       "    </tr>\n",
       "    <tr>\n",
       "      <th>5</th>\n",
       "      <td>1</td>\n",
       "      <td>0</td>\n",
       "      <td>0</td>\n",
       "    </tr>\n",
       "    <tr>\n",
       "      <th>102</th>\n",
       "      <td>0</td>\n",
       "      <td>0</td>\n",
       "      <td>1</td>\n",
       "    </tr>\n",
       "    <tr>\n",
       "      <th>51</th>\n",
       "      <td>0</td>\n",
       "      <td>1</td>\n",
       "      <td>0</td>\n",
       "    </tr>\n",
       "    <tr>\n",
       "      <th>78</th>\n",
       "      <td>0</td>\n",
       "      <td>1</td>\n",
       "      <td>0</td>\n",
       "    </tr>\n",
       "  </tbody>\n",
       "</table>\n",
       "</div>"
      ],
      "text/plain": [
       "     Species_Iris-setosa  Species_Iris-versicolor  Species_Iris-virginica\n",
       "14                     1                        0                       0\n",
       "98                     0                        1                       0\n",
       "75                     0                        1                       0\n",
       "16                     1                        0                       0\n",
       "131                    0                        0                       1\n",
       "56                     0                        1                       0\n",
       "141                    0                        0                       1\n",
       "44                     1                        0                       0\n",
       "29                     1                        0                       0\n",
       "120                    0                        0                       1\n",
       "94                     0                        1                       0\n",
       "5                      1                        0                       0\n",
       "102                    0                        0                       1\n",
       "51                     0                        1                       0\n",
       "78                     0                        1                       0"
      ]
     },
     "execution_count": 178,
     "metadata": {
      "tags": []
     },
     "output_type": "execute_result"
    }
   ],
   "source": [
    "#Actual Labels for the in test dataset\n",
    "y_test_i"
   ]
  },
  {
   "cell_type": "code",
   "execution_count": 180,
   "metadata": {
    "colab": {
     "base_uri": "https://localhost:8080/",
     "height": 269
    },
    "colab_type": "code",
    "id": "tbhdGnqZXZjJ",
    "outputId": "932c3ee4-c6ca-4a91-9f23-8e31c0d34d35"
   },
   "outputs": [
    {
     "name": "stdout",
     "output_type": "stream",
     "text": [
      "[[0.49377778 0.20616877 0.30005348]\n",
      " [0.26121902 0.29579082 0.4429902 ]\n",
      " [0.25136244 0.31707564 0.43156195]\n",
      " [0.40872332 0.24159433 0.3496824 ]\n",
      " [0.16212012 0.4201559  0.41772398]\n",
      " [0.18449534 0.38236144 0.4331432 ]\n",
      " [0.09945554 0.3027949  0.59774953]\n",
      " [0.3963652  0.29716924 0.30646554]\n",
      " [0.4617893  0.2584624  0.27974823]\n",
      " [0.10068242 0.36571458 0.533603  ]\n",
      " [0.2355017  0.36347774 0.40102056]\n",
      " [0.411204   0.2667894  0.32200655]\n",
      " [0.13822044 0.37257165 0.48920798]\n",
      " [0.2120861  0.35308948 0.4348245 ]\n",
      " [0.20416762 0.3643114  0.43152094]]\n"
     ]
    }
   ],
   "source": [
    "#Model prediction\n",
    "prediction = model.predict(X_test_i)\n",
    "\n",
    "#Print prediction of the test values\n",
    "print(prediction)"
   ]
  },
  {
   "cell_type": "markdown",
   "metadata": {
    "colab_type": "text",
    "id": "P32ASP1Vjt0a"
   },
   "source": [
    "### Save the Model"
   ]
  },
  {
   "cell_type": "code",
   "execution_count": 198,
   "metadata": {
    "colab": {
     "base_uri": "https://localhost:8080/",
     "height": 733
    },
    "colab_type": "code",
    "id": "-A5TFUVuauUs",
    "outputId": "1c155ffd-5588-440d-8313-6ab3193fa8b4"
   },
   "outputs": [
    {
     "ename": "RuntimeError",
     "evalue": "ignored",
     "output_type": "error",
     "traceback": [
      "\u001b[0;31m---------------------------------------------------------------------------\u001b[0m",
      "\u001b[0;31mRuntimeError\u001b[0m                              Traceback (most recent call last)",
      "\u001b[0;32m<ipython-input-198-d88dbf6ce8e8>\u001b[0m in \u001b[0;36m<module>\u001b[0;34m()\u001b[0m\n\u001b[0;32m----> 1\u001b[0;31m \u001b[0mmodel\u001b[0m\u001b[0;34m.\u001b[0m\u001b[0msave\u001b[0m\u001b[0;34m(\u001b[0m\u001b[0;34m'R6_Internallab_m1.h5'\u001b[0m\u001b[0;34m)\u001b[0m\u001b[0;34m\u001b[0m\u001b[0;34m\u001b[0m\u001b[0m\n\u001b[0m",
      "\u001b[0;32m/usr/local/lib/python3.6/dist-packages/tensorflow/python/keras/engine/sequential.py\u001b[0m in \u001b[0;36msave\u001b[0;34m(self, filepath, overwrite, include_optimizer)\u001b[0m\n\u001b[1;32m    317\u001b[0m   \u001b[0;32mdef\u001b[0m \u001b[0msave\u001b[0m\u001b[0;34m(\u001b[0m\u001b[0mself\u001b[0m\u001b[0;34m,\u001b[0m \u001b[0mfilepath\u001b[0m\u001b[0;34m,\u001b[0m \u001b[0moverwrite\u001b[0m\u001b[0;34m=\u001b[0m\u001b[0;32mTrue\u001b[0m\u001b[0;34m,\u001b[0m \u001b[0minclude_optimizer\u001b[0m\u001b[0;34m=\u001b[0m\u001b[0;32mTrue\u001b[0m\u001b[0;34m)\u001b[0m\u001b[0;34m:\u001b[0m\u001b[0;34m\u001b[0m\u001b[0;34m\u001b[0m\u001b[0m\n\u001b[1;32m    318\u001b[0m     \u001b[0;32mfrom\u001b[0m \u001b[0mtensorflow\u001b[0m\u001b[0;34m.\u001b[0m\u001b[0mpython\u001b[0m\u001b[0;34m.\u001b[0m\u001b[0mkeras\u001b[0m\u001b[0;34m.\u001b[0m\u001b[0mmodels\u001b[0m \u001b[0;32mimport\u001b[0m \u001b[0msave_model\u001b[0m  \u001b[0;31m# pylint: disable=g-import-not-at-top\u001b[0m\u001b[0;34m\u001b[0m\u001b[0;34m\u001b[0m\u001b[0m\n\u001b[0;32m--> 319\u001b[0;31m     \u001b[0msave_model\u001b[0m\u001b[0;34m(\u001b[0m\u001b[0mself\u001b[0m\u001b[0;34m,\u001b[0m \u001b[0mfilepath\u001b[0m\u001b[0;34m,\u001b[0m \u001b[0moverwrite\u001b[0m\u001b[0;34m,\u001b[0m \u001b[0minclude_optimizer\u001b[0m\u001b[0;34m)\u001b[0m\u001b[0;34m\u001b[0m\u001b[0;34m\u001b[0m\u001b[0m\n\u001b[0m\u001b[1;32m    320\u001b[0m \u001b[0;34m\u001b[0m\u001b[0m\n\u001b[1;32m    321\u001b[0m   \u001b[0;32mdef\u001b[0m \u001b[0mget_config\u001b[0m\u001b[0;34m(\u001b[0m\u001b[0mself\u001b[0m\u001b[0;34m)\u001b[0m\u001b[0;34m:\u001b[0m\u001b[0;34m\u001b[0m\u001b[0;34m\u001b[0m\u001b[0m\n",
      "\u001b[0;32m/usr/local/lib/python3.6/dist-packages/tensorflow/python/keras/engine/saving.py\u001b[0m in \u001b[0;36msave_model\u001b[0;34m(model, filepath, overwrite, include_optimizer)\u001b[0m\n\u001b[1;32m    150\u001b[0m           \u001b[0;32mfor\u001b[0m \u001b[0mname\u001b[0m\u001b[0;34m,\u001b[0m \u001b[0mval\u001b[0m \u001b[0;32min\u001b[0m \u001b[0mzip\u001b[0m\u001b[0;34m(\u001b[0m\u001b[0mweight_names\u001b[0m\u001b[0;34m,\u001b[0m \u001b[0mweight_values\u001b[0m\u001b[0;34m)\u001b[0m\u001b[0;34m:\u001b[0m\u001b[0;34m\u001b[0m\u001b[0;34m\u001b[0m\u001b[0m\n\u001b[1;32m    151\u001b[0m             param_dset = optimizer_weights_group.create_dataset(\n\u001b[0;32m--> 152\u001b[0;31m                 name, val.shape, dtype=val.dtype)\n\u001b[0m\u001b[1;32m    153\u001b[0m             \u001b[0;32mif\u001b[0m \u001b[0;32mnot\u001b[0m \u001b[0mval\u001b[0m\u001b[0;34m.\u001b[0m\u001b[0mshape\u001b[0m\u001b[0;34m:\u001b[0m\u001b[0;34m\u001b[0m\u001b[0;34m\u001b[0m\u001b[0m\n\u001b[1;32m    154\u001b[0m               \u001b[0;31m# scalar\u001b[0m\u001b[0;34m\u001b[0m\u001b[0;34m\u001b[0m\u001b[0;34m\u001b[0m\u001b[0m\n",
      "\u001b[0;32m/usr/local/lib/python3.6/dist-packages/h5py/_hl/group.py\u001b[0m in \u001b[0;36mcreate_dataset\u001b[0;34m(self, name, shape, dtype, data, **kwds)\u001b[0m\n\u001b[1;32m    117\u001b[0m             \u001b[0mdset\u001b[0m \u001b[0;34m=\u001b[0m \u001b[0mdataset\u001b[0m\u001b[0;34m.\u001b[0m\u001b[0mDataset\u001b[0m\u001b[0;34m(\u001b[0m\u001b[0mdsid\u001b[0m\u001b[0;34m)\u001b[0m\u001b[0;34m\u001b[0m\u001b[0;34m\u001b[0m\u001b[0m\n\u001b[1;32m    118\u001b[0m             \u001b[0;32mif\u001b[0m \u001b[0mname\u001b[0m \u001b[0;32mis\u001b[0m \u001b[0;32mnot\u001b[0m \u001b[0;32mNone\u001b[0m\u001b[0;34m:\u001b[0m\u001b[0;34m\u001b[0m\u001b[0;34m\u001b[0m\u001b[0m\n\u001b[0;32m--> 119\u001b[0;31m                 \u001b[0mself\u001b[0m\u001b[0;34m[\u001b[0m\u001b[0mname\u001b[0m\u001b[0;34m]\u001b[0m \u001b[0;34m=\u001b[0m \u001b[0mdset\u001b[0m\u001b[0;34m\u001b[0m\u001b[0;34m\u001b[0m\u001b[0m\n\u001b[0m\u001b[1;32m    120\u001b[0m             \u001b[0;32mreturn\u001b[0m \u001b[0mdset\u001b[0m\u001b[0;34m\u001b[0m\u001b[0;34m\u001b[0m\u001b[0m\n\u001b[1;32m    121\u001b[0m \u001b[0;34m\u001b[0m\u001b[0m\n",
      "\u001b[0;32m/usr/local/lib/python3.6/dist-packages/h5py/_hl/group.py\u001b[0m in \u001b[0;36m__setitem__\u001b[0;34m(self, name, obj)\u001b[0m\n\u001b[1;32m    285\u001b[0m \u001b[0;34m\u001b[0m\u001b[0m\n\u001b[1;32m    286\u001b[0m             \u001b[0;32mif\u001b[0m \u001b[0misinstance\u001b[0m\u001b[0;34m(\u001b[0m\u001b[0mobj\u001b[0m\u001b[0;34m,\u001b[0m \u001b[0mHLObject\u001b[0m\u001b[0;34m)\u001b[0m\u001b[0;34m:\u001b[0m\u001b[0;34m\u001b[0m\u001b[0;34m\u001b[0m\u001b[0m\n\u001b[0;32m--> 287\u001b[0;31m                 \u001b[0mh5o\u001b[0m\u001b[0;34m.\u001b[0m\u001b[0mlink\u001b[0m\u001b[0;34m(\u001b[0m\u001b[0mobj\u001b[0m\u001b[0;34m.\u001b[0m\u001b[0mid\u001b[0m\u001b[0;34m,\u001b[0m \u001b[0mself\u001b[0m\u001b[0;34m.\u001b[0m\u001b[0mid\u001b[0m\u001b[0;34m,\u001b[0m \u001b[0mname\u001b[0m\u001b[0;34m,\u001b[0m \u001b[0mlcpl\u001b[0m\u001b[0;34m=\u001b[0m\u001b[0mlcpl\u001b[0m\u001b[0;34m,\u001b[0m \u001b[0mlapl\u001b[0m\u001b[0;34m=\u001b[0m\u001b[0mself\u001b[0m\u001b[0;34m.\u001b[0m\u001b[0m_lapl\u001b[0m\u001b[0;34m)\u001b[0m\u001b[0;34m\u001b[0m\u001b[0;34m\u001b[0m\u001b[0m\n\u001b[0m\u001b[1;32m    288\u001b[0m \u001b[0;34m\u001b[0m\u001b[0m\n\u001b[1;32m    289\u001b[0m             \u001b[0;32melif\u001b[0m \u001b[0misinstance\u001b[0m\u001b[0;34m(\u001b[0m\u001b[0mobj\u001b[0m\u001b[0;34m,\u001b[0m \u001b[0mSoftLink\u001b[0m\u001b[0;34m)\u001b[0m\u001b[0;34m:\u001b[0m\u001b[0;34m\u001b[0m\u001b[0;34m\u001b[0m\u001b[0m\n",
      "\u001b[0;32mh5py/_objects.pyx\u001b[0m in \u001b[0;36mh5py._objects.with_phil.wrapper\u001b[0;34m()\u001b[0m\n",
      "\u001b[0;32mh5py/_objects.pyx\u001b[0m in \u001b[0;36mh5py._objects.with_phil.wrapper\u001b[0;34m()\u001b[0m\n",
      "\u001b[0;32mh5py/h5o.pyx\u001b[0m in \u001b[0;36mh5py.h5o.link\u001b[0;34m()\u001b[0m\n",
      "\u001b[0;31mRuntimeError\u001b[0m: Unable to create link (name already exists)"
     ]
    }
   ],
   "source": [
    "model.save('R6_Internallab_m1.h5')"
   ]
  },
  {
   "cell_type": "code",
   "execution_count": 199,
   "metadata": {
    "colab": {
     "base_uri": "https://localhost:8080/",
     "height": 101
    },
    "colab_type": "code",
    "id": "X3IKpxPldCzv",
    "outputId": "a3ff9d79-95e6-41f9-81ed-b3a24e13623e"
   },
   "outputs": [
    {
     "name": "stdout",
     "output_type": "stream",
     "text": [
      "total 1628\n",
      "-rw-r--r-- 1 root root 1535792 Mar 31 07:11 mnist_dnn_v1.h5\n",
      "-rw-r--r-- 1 root root  104624 Mar 31 05:17 mnist_lc.h5\n",
      "-rw-r--r-- 1 root root   16624 Mar 31 11:13 R6_Internallab_m1.h5\n",
      "drwxr-xr-x 1 root root    4096 Mar 27 20:26 sample_data\n"
     ]
    }
   ],
   "source": [
    "!ls -l"
   ]
  },
  {
   "cell_type": "markdown",
   "metadata": {
    "colab_type": "text",
    "id": "XiipRpe7rbVh"
   },
   "source": [
    "### Build and Train a Deep Neural network with 2 hidden layer  - Optional - For Practice\n",
    "\n",
    "Does it perform better than Linear Classifier? What could be the reason for difference in performance?"
   ]
  },
  {
   "cell_type": "code",
   "execution_count": 0,
   "metadata": {
    "colab": {},
    "colab_type": "code",
    "id": "v5Du3lubr4sA"
   },
   "outputs": [],
   "source": [
    "#Initialize Sequential model\n",
    "model2 = tf.keras.models.Sequential()"
   ]
  },
  {
   "cell_type": "code",
   "execution_count": 0,
   "metadata": {
    "colab": {},
    "colab_type": "code",
    "id": "OCMJYKa0Z_41"
   },
   "outputs": [],
   "source": [
    "#Add 1st hidden layer\n",
    "model2.add(tf.keras.layers.Dense(200, activation='sigmoid',input_shape=(4,)))"
   ]
  },
  {
   "cell_type": "code",
   "execution_count": 0,
   "metadata": {
    "colab": {},
    "colab_type": "code",
    "id": "vfq-tz3IY9aH"
   },
   "outputs": [],
   "source": [
    "#Add 2nd hidden layer\n",
    "model2.add(tf.keras.layers.Dense(200, activation='sigmoid'))"
   ]
  },
  {
   "cell_type": "code",
   "execution_count": 0,
   "metadata": {
    "colab": {},
    "colab_type": "code",
    "id": "KmEOQMmHbPer"
   },
   "outputs": [],
   "source": [
    "#Add Dense Layer which provides 3 Outputs after applying softmax\n",
    "model2.add(tf.keras.layers.Dense(3, activation='softmax'))"
   ]
  },
  {
   "cell_type": "code",
   "execution_count": 0,
   "metadata": {
    "colab": {},
    "colab_type": "code",
    "id": "4t_xSbrSbPqZ"
   },
   "outputs": [],
   "source": [
    "#Compile the model\n",
    "model2.compile(optimizer='sgd', loss='categorical_crossentropy', metrics=['accuracy'])"
   ]
  },
  {
   "cell_type": "code",
   "execution_count": 195,
   "metadata": {
    "colab": {
     "base_uri": "https://localhost:8080/",
     "height": 3410
    },
    "colab_type": "code",
    "id": "3c9w-puKbPub",
    "outputId": "c26ba8d9-e87f-4a85-ac16-dd64fd618406"
   },
   "outputs": [
    {
     "name": "stdout",
     "output_type": "stream",
     "text": [
      "Train on 135 samples, validate on 15 samples\n",
      "Epoch 1/100\n",
      "135/135 [==============================] - 0s 1ms/sample - loss: 1.1832 - acc: 0.3333 - val_loss: 1.2181 - val_acc: 0.3333\n",
      "Epoch 2/100\n",
      "135/135 [==============================] - 0s 115us/sample - loss: 1.1580 - acc: 0.3333 - val_loss: 1.1904 - val_acc: 0.3333\n",
      "Epoch 3/100\n",
      "135/135 [==============================] - 0s 106us/sample - loss: 1.1388 - acc: 0.3333 - val_loss: 1.1684 - val_acc: 0.3333\n",
      "Epoch 4/100\n",
      "135/135 [==============================] - 0s 77us/sample - loss: 1.1242 - acc: 0.3333 - val_loss: 1.1512 - val_acc: 0.3333\n",
      "Epoch 5/100\n",
      "135/135 [==============================] - 0s 101us/sample - loss: 1.1135 - acc: 0.3630 - val_loss: 1.1378 - val_acc: 0.6000\n",
      "Epoch 6/100\n",
      "135/135 [==============================] - 0s 63us/sample - loss: 1.1057 - acc: 0.4963 - val_loss: 1.1274 - val_acc: 0.6000\n",
      "Epoch 7/100\n",
      "135/135 [==============================] - 0s 67us/sample - loss: 1.1001 - acc: 0.6370 - val_loss: 1.1194 - val_acc: 0.6000\n",
      "Epoch 8/100\n",
      "135/135 [==============================] - 0s 52us/sample - loss: 1.0960 - acc: 0.6667 - val_loss: 1.1132 - val_acc: 0.6000\n",
      "Epoch 9/100\n",
      "135/135 [==============================] - 0s 54us/sample - loss: 1.0932 - acc: 0.6667 - val_loss: 1.1083 - val_acc: 0.6000\n",
      "Epoch 10/100\n",
      "135/135 [==============================] - 0s 51us/sample - loss: 1.0911 - acc: 0.6741 - val_loss: 1.1045 - val_acc: 0.6000\n",
      "Epoch 11/100\n",
      "135/135 [==============================] - 0s 65us/sample - loss: 1.0897 - acc: 0.6741 - val_loss: 1.1016 - val_acc: 0.6000\n",
      "Epoch 12/100\n",
      "135/135 [==============================] - 0s 61us/sample - loss: 1.0886 - acc: 0.6741 - val_loss: 1.0992 - val_acc: 0.6000\n",
      "Epoch 13/100\n",
      "135/135 [==============================] - 0s 69us/sample - loss: 1.0878 - acc: 0.6741 - val_loss: 1.0973 - val_acc: 0.6000\n",
      "Epoch 14/100\n",
      "135/135 [==============================] - 0s 51us/sample - loss: 1.0872 - acc: 0.6741 - val_loss: 1.0958 - val_acc: 0.6000\n",
      "Epoch 15/100\n",
      "135/135 [==============================] - 0s 61us/sample - loss: 1.0867 - acc: 0.6741 - val_loss: 1.0945 - val_acc: 0.6000\n",
      "Epoch 16/100\n",
      "135/135 [==============================] - 0s 73us/sample - loss: 1.0863 - acc: 0.6741 - val_loss: 1.0935 - val_acc: 0.6000\n",
      "Epoch 17/100\n",
      "135/135 [==============================] - 0s 66us/sample - loss: 1.0860 - acc: 0.6741 - val_loss: 1.0926 - val_acc: 0.6000\n",
      "Epoch 18/100\n",
      "135/135 [==============================] - 0s 82us/sample - loss: 1.0857 - acc: 0.6741 - val_loss: 1.0919 - val_acc: 0.6000\n",
      "Epoch 19/100\n",
      "135/135 [==============================] - 0s 53us/sample - loss: 1.0855 - acc: 0.6741 - val_loss: 1.0913 - val_acc: 0.6000\n",
      "Epoch 20/100\n",
      "135/135 [==============================] - 0s 93us/sample - loss: 1.0852 - acc: 0.6741 - val_loss: 1.0907 - val_acc: 0.6000\n",
      "Epoch 21/100\n",
      "135/135 [==============================] - 0s 64us/sample - loss: 1.0850 - acc: 0.6741 - val_loss: 1.0903 - val_acc: 0.6000\n",
      "Epoch 22/100\n",
      "135/135 [==============================] - 0s 79us/sample - loss: 1.0847 - acc: 0.6741 - val_loss: 1.0898 - val_acc: 0.6000\n",
      "Epoch 23/100\n",
      "135/135 [==============================] - 0s 77us/sample - loss: 1.0845 - acc: 0.6741 - val_loss: 1.0895 - val_acc: 0.6000\n",
      "Epoch 24/100\n",
      "135/135 [==============================] - 0s 82us/sample - loss: 1.0843 - acc: 0.6741 - val_loss: 1.0891 - val_acc: 0.6000\n",
      "Epoch 25/100\n",
      "135/135 [==============================] - 0s 86us/sample - loss: 1.0841 - acc: 0.6741 - val_loss: 1.0888 - val_acc: 0.6000\n",
      "Epoch 26/100\n",
      "135/135 [==============================] - 0s 78us/sample - loss: 1.0839 - acc: 0.6741 - val_loss: 1.0885 - val_acc: 0.6000\n",
      "Epoch 27/100\n",
      "135/135 [==============================] - 0s 65us/sample - loss: 1.0836 - acc: 0.6741 - val_loss: 1.0882 - val_acc: 0.6000\n",
      "Epoch 28/100\n",
      "135/135 [==============================] - 0s 61us/sample - loss: 1.0834 - acc: 0.6741 - val_loss: 1.0880 - val_acc: 0.6000\n",
      "Epoch 29/100\n",
      "135/135 [==============================] - 0s 76us/sample - loss: 1.0832 - acc: 0.6741 - val_loss: 1.0877 - val_acc: 0.6000\n",
      "Epoch 30/100\n",
      "135/135 [==============================] - 0s 81us/sample - loss: 1.0830 - acc: 0.6741 - val_loss: 1.0875 - val_acc: 0.6000\n",
      "Epoch 31/100\n",
      "135/135 [==============================] - 0s 54us/sample - loss: 1.0828 - acc: 0.6741 - val_loss: 1.0872 - val_acc: 0.6000\n",
      "Epoch 32/100\n",
      "135/135 [==============================] - 0s 83us/sample - loss: 1.0826 - acc: 0.6741 - val_loss: 1.0870 - val_acc: 0.6000\n",
      "Epoch 33/100\n",
      "135/135 [==============================] - 0s 74us/sample - loss: 1.0823 - acc: 0.6741 - val_loss: 1.0868 - val_acc: 0.6000\n",
      "Epoch 34/100\n",
      "135/135 [==============================] - 0s 68us/sample - loss: 1.0821 - acc: 0.6741 - val_loss: 1.0866 - val_acc: 0.6000\n",
      "Epoch 35/100\n",
      "135/135 [==============================] - 0s 90us/sample - loss: 1.0819 - acc: 0.6741 - val_loss: 1.0864 - val_acc: 0.6000\n",
      "Epoch 36/100\n",
      "135/135 [==============================] - 0s 63us/sample - loss: 1.0817 - acc: 0.6741 - val_loss: 1.0861 - val_acc: 0.6000\n",
      "Epoch 37/100\n",
      "135/135 [==============================] - 0s 87us/sample - loss: 1.0815 - acc: 0.6741 - val_loss: 1.0859 - val_acc: 0.6000\n",
      "Epoch 38/100\n",
      "135/135 [==============================] - 0s 60us/sample - loss: 1.0813 - acc: 0.6741 - val_loss: 1.0857 - val_acc: 0.6000\n",
      "Epoch 39/100\n",
      "135/135 [==============================] - 0s 81us/sample - loss: 1.0811 - acc: 0.6741 - val_loss: 1.0855 - val_acc: 0.6000\n",
      "Epoch 40/100\n",
      "135/135 [==============================] - 0s 95us/sample - loss: 1.0808 - acc: 0.6741 - val_loss: 1.0853 - val_acc: 0.6000\n",
      "Epoch 41/100\n",
      "135/135 [==============================] - 0s 63us/sample - loss: 1.0806 - acc: 0.6741 - val_loss: 1.0851 - val_acc: 0.6000\n",
      "Epoch 42/100\n",
      "135/135 [==============================] - 0s 85us/sample - loss: 1.0804 - acc: 0.6741 - val_loss: 1.0849 - val_acc: 0.6000\n",
      "Epoch 43/100\n",
      "135/135 [==============================] - 0s 84us/sample - loss: 1.0802 - acc: 0.6741 - val_loss: 1.0847 - val_acc: 0.6000\n",
      "Epoch 44/100\n",
      "135/135 [==============================] - 0s 70us/sample - loss: 1.0800 - acc: 0.6741 - val_loss: 1.0845 - val_acc: 0.6000\n",
      "Epoch 45/100\n",
      "135/135 [==============================] - 0s 83us/sample - loss: 1.0798 - acc: 0.6741 - val_loss: 1.0843 - val_acc: 0.6000\n",
      "Epoch 46/100\n",
      "135/135 [==============================] - 0s 73us/sample - loss: 1.0796 - acc: 0.6741 - val_loss: 1.0841 - val_acc: 0.6000\n",
      "Epoch 47/100\n",
      "135/135 [==============================] - 0s 77us/sample - loss: 1.0793 - acc: 0.6741 - val_loss: 1.0839 - val_acc: 0.6000\n",
      "Epoch 48/100\n",
      "135/135 [==============================] - 0s 80us/sample - loss: 1.0791 - acc: 0.6741 - val_loss: 1.0837 - val_acc: 0.6000\n",
      "Epoch 49/100\n",
      "135/135 [==============================] - 0s 81us/sample - loss: 1.0789 - acc: 0.6741 - val_loss: 1.0835 - val_acc: 0.6000\n",
      "Epoch 50/100\n",
      "135/135 [==============================] - 0s 91us/sample - loss: 1.0787 - acc: 0.6741 - val_loss: 1.0833 - val_acc: 0.6000\n",
      "Epoch 51/100\n",
      "135/135 [==============================] - 0s 79us/sample - loss: 1.0785 - acc: 0.6741 - val_loss: 1.0831 - val_acc: 0.6000\n",
      "Epoch 52/100\n",
      "135/135 [==============================] - 0s 76us/sample - loss: 1.0783 - acc: 0.6741 - val_loss: 1.0829 - val_acc: 0.6000\n",
      "Epoch 53/100\n",
      "135/135 [==============================] - 0s 52us/sample - loss: 1.0781 - acc: 0.6741 - val_loss: 1.0827 - val_acc: 0.6000\n",
      "Epoch 54/100\n",
      "135/135 [==============================] - 0s 108us/sample - loss: 1.0778 - acc: 0.6741 - val_loss: 1.0825 - val_acc: 0.6000\n",
      "Epoch 55/100\n",
      "135/135 [==============================] - 0s 87us/sample - loss: 1.0776 - acc: 0.6741 - val_loss: 1.0823 - val_acc: 0.6000\n",
      "Epoch 56/100\n",
      "135/135 [==============================] - 0s 90us/sample - loss: 1.0774 - acc: 0.6741 - val_loss: 1.0821 - val_acc: 0.6000\n",
      "Epoch 57/100\n",
      "135/135 [==============================] - 0s 88us/sample - loss: 1.0772 - acc: 0.6741 - val_loss: 1.0819 - val_acc: 0.6000\n",
      "Epoch 58/100\n",
      "135/135 [==============================] - 0s 89us/sample - loss: 1.0770 - acc: 0.6741 - val_loss: 1.0817 - val_acc: 0.6000\n",
      "Epoch 59/100\n",
      "135/135 [==============================] - 0s 114us/sample - loss: 1.0768 - acc: 0.6741 - val_loss: 1.0814 - val_acc: 0.6000\n",
      "Epoch 60/100\n",
      "135/135 [==============================] - 0s 77us/sample - loss: 1.0766 - acc: 0.6741 - val_loss: 1.0812 - val_acc: 0.6000\n",
      "Epoch 61/100\n",
      "135/135 [==============================] - 0s 108us/sample - loss: 1.0763 - acc: 0.6741 - val_loss: 1.0810 - val_acc: 0.6000\n",
      "Epoch 62/100\n",
      "135/135 [==============================] - 0s 74us/sample - loss: 1.0761 - acc: 0.6741 - val_loss: 1.0808 - val_acc: 0.6000\n",
      "Epoch 63/100\n",
      "135/135 [==============================] - 0s 78us/sample - loss: 1.0759 - acc: 0.6741 - val_loss: 1.0806 - val_acc: 0.6000\n",
      "Epoch 64/100\n",
      "135/135 [==============================] - 0s 90us/sample - loss: 1.0757 - acc: 0.6741 - val_loss: 1.0804 - val_acc: 0.6000\n",
      "Epoch 65/100\n",
      "135/135 [==============================] - 0s 67us/sample - loss: 1.0755 - acc: 0.6741 - val_loss: 1.0802 - val_acc: 0.6000\n",
      "Epoch 66/100\n",
      "135/135 [==============================] - 0s 76us/sample - loss: 1.0753 - acc: 0.6741 - val_loss: 1.0800 - val_acc: 0.6000\n",
      "Epoch 67/100\n",
      "135/135 [==============================] - 0s 96us/sample - loss: 1.0751 - acc: 0.6741 - val_loss: 1.0798 - val_acc: 0.6000\n",
      "Epoch 68/100\n",
      "135/135 [==============================] - 0s 65us/sample - loss: 1.0748 - acc: 0.6741 - val_loss: 1.0796 - val_acc: 0.6000\n",
      "Epoch 69/100\n",
      "135/135 [==============================] - 0s 72us/sample - loss: 1.0746 - acc: 0.6741 - val_loss: 1.0794 - val_acc: 0.6000\n",
      "Epoch 70/100\n",
      "135/135 [==============================] - 0s 85us/sample - loss: 1.0744 - acc: 0.6741 - val_loss: 1.0792 - val_acc: 0.6000\n",
      "Epoch 71/100\n",
      "135/135 [==============================] - 0s 81us/sample - loss: 1.0742 - acc: 0.6741 - val_loss: 1.0790 - val_acc: 0.6000\n",
      "Epoch 72/100\n",
      "135/135 [==============================] - 0s 68us/sample - loss: 1.0740 - acc: 0.6741 - val_loss: 1.0788 - val_acc: 0.6000\n",
      "Epoch 73/100\n",
      "135/135 [==============================] - 0s 77us/sample - loss: 1.0738 - acc: 0.6741 - val_loss: 1.0786 - val_acc: 0.6000\n",
      "Epoch 74/100\n",
      "135/135 [==============================] - 0s 77us/sample - loss: 1.0736 - acc: 0.6741 - val_loss: 1.0784 - val_acc: 0.6000\n",
      "Epoch 75/100\n",
      "135/135 [==============================] - 0s 163us/sample - loss: 1.0733 - acc: 0.6741 - val_loss: 1.0782 - val_acc: 0.6000\n",
      "Epoch 76/100\n",
      "135/135 [==============================] - 0s 135us/sample - loss: 1.0731 - acc: 0.6741 - val_loss: 1.0780 - val_acc: 0.6000\n",
      "Epoch 77/100\n",
      "135/135 [==============================] - 0s 125us/sample - loss: 1.0729 - acc: 0.6741 - val_loss: 1.0778 - val_acc: 0.6000\n",
      "Epoch 78/100\n",
      "135/135 [==============================] - 0s 93us/sample - loss: 1.0727 - acc: 0.6741 - val_loss: 1.0776 - val_acc: 0.6000\n",
      "Epoch 79/100\n",
      "135/135 [==============================] - 0s 75us/sample - loss: 1.0725 - acc: 0.6741 - val_loss: 1.0774 - val_acc: 0.6000\n",
      "Epoch 80/100\n",
      "135/135 [==============================] - 0s 89us/sample - loss: 1.0723 - acc: 0.6741 - val_loss: 1.0772 - val_acc: 0.6000\n",
      "Epoch 81/100\n",
      "135/135 [==============================] - 0s 75us/sample - loss: 1.0720 - acc: 0.6741 - val_loss: 1.0770 - val_acc: 0.6000\n",
      "Epoch 82/100\n",
      "135/135 [==============================] - 0s 79us/sample - loss: 1.0718 - acc: 0.6741 - val_loss: 1.0768 - val_acc: 0.6000\n",
      "Epoch 83/100\n",
      "135/135 [==============================] - 0s 80us/sample - loss: 1.0716 - acc: 0.6741 - val_loss: 1.0766 - val_acc: 0.6000\n",
      "Epoch 84/100\n",
      "135/135 [==============================] - 0s 87us/sample - loss: 1.0714 - acc: 0.6741 - val_loss: 1.0764 - val_acc: 0.6000\n",
      "Epoch 85/100\n",
      "135/135 [==============================] - 0s 80us/sample - loss: 1.0712 - acc: 0.6741 - val_loss: 1.0762 - val_acc: 0.6000\n",
      "Epoch 86/100\n",
      "135/135 [==============================] - 0s 87us/sample - loss: 1.0710 - acc: 0.6741 - val_loss: 1.0760 - val_acc: 0.6000\n",
      "Epoch 87/100\n",
      "135/135 [==============================] - 0s 52us/sample - loss: 1.0707 - acc: 0.6741 - val_loss: 1.0758 - val_acc: 0.6000\n",
      "Epoch 88/100\n",
      "135/135 [==============================] - 0s 76us/sample - loss: 1.0705 - acc: 0.6741 - val_loss: 1.0756 - val_acc: 0.6000\n",
      "Epoch 89/100\n",
      "135/135 [==============================] - 0s 71us/sample - loss: 1.0703 - acc: 0.6741 - val_loss: 1.0754 - val_acc: 0.6000\n",
      "Epoch 90/100\n",
      "135/135 [==============================] - 0s 78us/sample - loss: 1.0701 - acc: 0.6741 - val_loss: 1.0752 - val_acc: 0.6000\n",
      "Epoch 91/100\n",
      "135/135 [==============================] - 0s 70us/sample - loss: 1.0699 - acc: 0.6741 - val_loss: 1.0750 - val_acc: 0.6000\n",
      "Epoch 92/100\n",
      "135/135 [==============================] - 0s 68us/sample - loss: 1.0697 - acc: 0.6741 - val_loss: 1.0748 - val_acc: 0.6000\n",
      "Epoch 93/100\n",
      "135/135 [==============================] - 0s 68us/sample - loss: 1.0694 - acc: 0.6741 - val_loss: 1.0745 - val_acc: 0.6000\n",
      "Epoch 94/100\n",
      "135/135 [==============================] - 0s 61us/sample - loss: 1.0692 - acc: 0.6741 - val_loss: 1.0743 - val_acc: 0.6000\n",
      "Epoch 95/100\n",
      "135/135 [==============================] - 0s 69us/sample - loss: 1.0690 - acc: 0.6741 - val_loss: 1.0741 - val_acc: 0.6000\n",
      "Epoch 96/100\n",
      "135/135 [==============================] - 0s 93us/sample - loss: 1.0688 - acc: 0.6741 - val_loss: 1.0739 - val_acc: 0.6000\n",
      "Epoch 97/100\n",
      "135/135 [==============================] - 0s 107us/sample - loss: 1.0686 - acc: 0.6741 - val_loss: 1.0737 - val_acc: 0.6000\n",
      "Epoch 98/100\n",
      "135/135 [==============================] - 0s 89us/sample - loss: 1.0684 - acc: 0.6741 - val_loss: 1.0735 - val_acc: 0.6000\n",
      "Epoch 99/100\n",
      "135/135 [==============================] - 0s 81us/sample - loss: 1.0681 - acc: 0.6741 - val_loss: 1.0733 - val_acc: 0.6000\n",
      "Epoch 100/100\n",
      "135/135 [==============================] - 0s 85us/sample - loss: 1.0679 - acc: 0.6741 - val_loss: 1.0731 - val_acc: 0.6000\n"
     ]
    },
    {
     "data": {
      "text/plain": [
       "<tensorflow.python.keras.callbacks.History at 0x7f695196fc50>"
      ]
     },
     "execution_count": 195,
     "metadata": {
      "tags": []
     },
     "output_type": "execute_result"
    }
   ],
   "source": [
    "model2.fit(X_train_i, y_train_i, \n",
    "          validation_data=(X_test_i, y_test_i), \n",
    "          epochs=100,\n",
    "          batch_size=X_train_i.shape[0])"
   ]
  },
  {
   "cell_type": "code",
   "execution_count": 196,
   "metadata": {
    "colab": {
     "base_uri": "https://localhost:8080/",
     "height": 235
    },
    "colab_type": "code",
    "id": "GJSsET15bPxx",
    "outputId": "95623807-19d2-4c8c-a456-493dc254aeb4"
   },
   "outputs": [
    {
     "name": "stdout",
     "output_type": "stream",
     "text": [
      "_________________________________________________________________\n",
      "Layer (type)                 Output Shape              Param #   \n",
      "=================================================================\n",
      "dense_4 (Dense)              (None, 200)               1000      \n",
      "_________________________________________________________________\n",
      "dense_5 (Dense)              (None, 200)               40200     \n",
      "_________________________________________________________________\n",
      "dense_6 (Dense)              (None, 3)                 603       \n",
      "=================================================================\n",
      "Total params: 41,803\n",
      "Trainable params: 41,803\n",
      "Non-trainable params: 0\n",
      "_________________________________________________________________\n"
     ]
    }
   ],
   "source": [
    "model2.summary()"
   ]
  },
  {
   "cell_type": "code",
   "execution_count": 197,
   "metadata": {
    "colab": {
     "base_uri": "https://localhost:8080/",
     "height": 269
    },
    "colab_type": "code",
    "id": "gQOGsl9EcXsI",
    "outputId": "a00a2cd8-fe74-4a1a-e9ce-691135cd4cdd"
   },
   "outputs": [
    {
     "name": "stdout",
     "output_type": "stream",
     "text": [
      "[[0.3501666  0.3247245  0.32510892]\n",
      " [0.33740103 0.32418087 0.33841813]\n",
      " [0.32509437 0.32659402 0.34831157]\n",
      " [0.3502397  0.32469356 0.32506675]\n",
      " [0.31303298 0.3291744  0.35779262]\n",
      " [0.32439536 0.32771194 0.3478927 ]\n",
      " [0.3185725  0.32619104 0.35523644]\n",
      " [0.34775186 0.32595828 0.32628986]\n",
      " [0.35114628 0.3240954  0.3247583 ]\n",
      " [0.31631437 0.32728836 0.35639727]\n",
      " [0.32907444 0.32642734 0.34449822]\n",
      " [0.34789318 0.32560515 0.32650167]\n",
      " [0.3153312  0.32733706 0.35733178]\n",
      " [0.3251808  0.32722726 0.34759194]\n",
      " [0.32598466 0.3268361  0.34717923]]\n"
     ]
    }
   ],
   "source": [
    "#Model prediction\n",
    "prediction = model2.predict(X_test_i)\n",
    "\n",
    "#Print prediction of the test values\n",
    "print(prediction)"
   ]
  },
  {
   "cell_type": "code",
   "execution_count": 0,
   "metadata": {
    "colab": {},
    "colab_type": "code",
    "id": "xKnQXMD-ci_q"
   },
   "outputs": [],
   "source": []
  }
 ],
 "metadata": {
  "accelerator": "GPU",
  "colab": {
   "collapsed_sections": [],
   "name": "R6_Internal_Lab_UpdatedTF2.ipynb",
   "provenance": [],
   "version": "0.3.2"
  },
  "kernelspec": {
   "display_name": "Python 3",
   "language": "python",
   "name": "python3"
  },
  "language_info": {
   "codemirror_mode": {
    "name": "ipython",
    "version": 3
   },
   "file_extension": ".py",
   "mimetype": "text/x-python",
   "name": "python",
   "nbconvert_exporter": "python",
   "pygments_lexer": "ipython3",
   "version": "3.6.5"
  }
 },
 "nbformat": 4,
 "nbformat_minor": 1
}
