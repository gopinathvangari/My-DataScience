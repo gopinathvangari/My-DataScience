{
  "nbformat": 4,
  "nbformat_minor": 0,
  "metadata": {
    "colab": {
      "name": "R7_ExternalLab_Questions_Gurgaon.ipynb",
      "version": "0.3.2",
      "provenance": [],
      "collapsed_sections": []
    },
    "kernelspec": {
      "name": "python3",
      "display_name": "Python 3"
    },
    "accelerator": "GPU"
  },
  "cells": [
    {
      "metadata": {
        "id": "4WH1Pr4KQlCh",
        "colab_type": "text"
      },
      "cell_type": "markdown",
      "source": [
        "### Build a DNN using Keras with `RELU` and `ADAM`"
      ]
    },
    {
      "metadata": {
        "slideshow": {
          "slide_type": "slide"
        },
        "id": "TbvI8LqlQlCl",
        "colab_type": "text"
      },
      "cell_type": "markdown",
      "source": [
        "#### Load tensorflow"
      ]
    },
    {
      "metadata": {
        "id": "SPW-a-qYQlCp",
        "colab_type": "code",
        "colab": {}
      },
      "cell_type": "code",
      "source": [
        "import numpy as np\n",
        "np.random.seed(42)\n",
        "import tensorflow as tf\n",
        "tf.reset_default_graph()\n",
        "tf.set_random_seed(42)"
      ],
      "execution_count": 0,
      "outputs": []
    },
    {
      "metadata": {
        "slideshow": {
          "slide_type": "slide"
        },
        "id": "74cQBsi5QlCw",
        "colab_type": "text"
      },
      "cell_type": "markdown",
      "source": [
        "#### Collect Fashion mnist data from tf.keras.datasets "
      ]
    },
    {
      "metadata": {
        "id": "wVWy0oDTr2Kj",
        "colab_type": "code",
        "colab": {}
      },
      "cell_type": "code",
      "source": [
        "from keras.datasets import fashion_mnist\n",
        "(x_train, y_train), (x_test, y_test) = fashion_mnist.load_data()"
      ],
      "execution_count": 0,
      "outputs": []
    },
    {
      "metadata": {
        "slideshow": {
          "slide_type": "slide"
        },
        "id": "no7aWYZyQlC1",
        "colab_type": "text"
      },
      "cell_type": "markdown",
      "source": [
        "#### Change train and test labels into one-hot vectors"
      ]
    },
    {
      "metadata": {
        "id": "UX6otc4wQlC2",
        "colab_type": "code",
        "colab": {
          "base_uri": "https://localhost:8080/",
          "height": 34
        },
        "outputId": "b8fb28ee-9d46-4173-cb2d-f0ed9e572ec2"
      },
      "cell_type": "code",
      "source": [
        "np.unique(y_train)\n",
        "np.unique(y_test)"
      ],
      "execution_count": 14,
      "outputs": [
        {
          "output_type": "execute_result",
          "data": {
            "text/plain": [
              "array([0, 1, 2, 3, 4, 5, 6, 7, 8, 9], dtype=uint8)"
            ]
          },
          "metadata": {
            "tags": []
          },
          "execution_count": 14
        }
      ]
    },
    {
      "metadata": {
        "id": "B84hbHEVHY-I",
        "colab_type": "code",
        "colab": {}
      },
      "cell_type": "code",
      "source": [
        "# There are 10 unique values in the label data. Hence converting the labels to one hot vectors with 10 variables\n",
        "y_train = tf.keras.utils.to_categorical(y_train, num_classes=10)\n",
        "y_test = tf.keras.utils.to_categorical(y_test, num_classes=10)"
      ],
      "execution_count": 0,
      "outputs": []
    },
    {
      "metadata": {
        "id": "RZsBe8ObJsUY",
        "colab_type": "code",
        "colab": {
          "base_uri": "https://localhost:8080/",
          "height": 34
        },
        "outputId": "edc0c19b-74fc-4941-e41f-6ea131ef4b99"
      },
      "cell_type": "code",
      "source": [
        "x_train.shape"
      ],
      "execution_count": 16,
      "outputs": [
        {
          "output_type": "execute_result",
          "data": {
            "text/plain": [
              "(60000, 28, 28)"
            ]
          },
          "metadata": {
            "tags": []
          },
          "execution_count": 16
        }
      ]
    },
    {
      "metadata": {
        "id": "Es57_h8jNDj1",
        "colab_type": "code",
        "colab": {
          "base_uri": "https://localhost:8080/",
          "height": 34
        },
        "outputId": "48396604-de03-4a0b-ff7d-8d8029bf8923"
      },
      "cell_type": "code",
      "source": [
        "x_test.shape"
      ],
      "execution_count": 22,
      "outputs": [
        {
          "output_type": "execute_result",
          "data": {
            "text/plain": [
              "(10000, 28, 28)"
            ]
          },
          "metadata": {
            "tags": []
          },
          "execution_count": 22
        }
      ]
    },
    {
      "metadata": {
        "id": "RftoEHryNDwS",
        "colab_type": "code",
        "colab": {
          "base_uri": "https://localhost:8080/",
          "height": 34
        },
        "outputId": "5424171e-73b1-4c48-c6ac-f263b621ad39"
      },
      "cell_type": "code",
      "source": [
        "y_train.shape"
      ],
      "execution_count": 23,
      "outputs": [
        {
          "output_type": "execute_result",
          "data": {
            "text/plain": [
              "(60000, 10)"
            ]
          },
          "metadata": {
            "tags": []
          },
          "execution_count": 23
        }
      ]
    },
    {
      "metadata": {
        "id": "K_ChWPieND7O",
        "colab_type": "code",
        "colab": {
          "base_uri": "https://localhost:8080/",
          "height": 34
        },
        "outputId": "db2ba2f9-f74a-41b3-fe6d-c4f1f9bbe7b2"
      },
      "cell_type": "code",
      "source": [
        "y_test.shape"
      ],
      "execution_count": 24,
      "outputs": [
        {
          "output_type": "execute_result",
          "data": {
            "text/plain": [
              "(10000, 10)"
            ]
          },
          "metadata": {
            "tags": []
          },
          "execution_count": 24
        }
      ]
    },
    {
      "metadata": {
        "slideshow": {
          "slide_type": "slide"
        },
        "id": "QjNrRTdoQlC5",
        "colab_type": "text"
      },
      "cell_type": "markdown",
      "source": [
        "#### Build the Graph"
      ]
    },
    {
      "metadata": {
        "id": "CDJ9DHVNQlC7",
        "colab_type": "text"
      },
      "cell_type": "markdown",
      "source": [
        "#### Initialize model, reshape & normalize data"
      ]
    },
    {
      "metadata": {
        "id": "pCDQs_g1QlC8",
        "colab_type": "code",
        "colab": {}
      },
      "cell_type": "code",
      "source": [
        "tf.keras.backend.clear_session()\n",
        "#Initialize model, reshape & normalize data\n",
        "model = tf.keras.models.Sequential()\n",
        "\n",
        "#Reshape data from 2D (28,28) to (784, 1)\n",
        "model.add(tf.keras.layers.Reshape((784,),input_shape=(28,28,)))\n",
        "\n",
        "#normalize data\n",
        "model.add(tf.keras.layers.BatchNormalization())"
      ],
      "execution_count": 0,
      "outputs": []
    },
    {
      "metadata": {
        "slideshow": {
          "slide_type": "slide"
        },
        "id": "kBGwTTilQlDD",
        "colab_type": "text"
      },
      "cell_type": "markdown",
      "source": [
        "#### Add two fully connected layers with 200 and 100 neurons respectively with `relu` activations. Add a dropout layer with `p=0.25`"
      ]
    },
    {
      "metadata": {
        "id": "IXbfpfOzQlDF",
        "colab_type": "code",
        "colab": {}
      },
      "cell_type": "code",
      "source": [
        "#Add 1st hidden layer\n",
        "model.add(tf.keras.layers.Dense(200, activation='relu', \n",
        "                                kernel_initializer='he_normal'))\n",
        "#Add 2nd hidden layer\n",
        "model.add(tf.keras.layers.Dense(100, activation='relu', \n",
        "                                kernel_initializer='he_normal'))\n",
        "model.add(tf.keras.layers.Dropout(0.25))"
      ],
      "execution_count": 0,
      "outputs": []
    },
    {
      "metadata": {
        "id": "5I8f5otcQlDJ",
        "colab_type": "text"
      },
      "cell_type": "markdown",
      "source": [
        "### Add the output layer with a fully connected layer with 10 neurons with `softmax` activation. Use `categorical_crossentropy` loss and `adam` optimizer and train the network. And, report the final validation."
      ]
    },
    {
      "metadata": {
        "id": "JZkvKymSd0Sr",
        "colab_type": "code",
        "colab": {}
      },
      "cell_type": "code",
      "source": [
        "#Add OUTPUT layer\n",
        "model.add(tf.keras.layers.Dense(10, activation='softmax', \n",
        "                                kernel_initializer='he_normal'))"
      ],
      "execution_count": 0,
      "outputs": []
    },
    {
      "metadata": {
        "id": "tLAIz3uELBbV",
        "colab_type": "code",
        "colab": {}
      },
      "cell_type": "code",
      "source": [
        "model.compile(optimizer='adam', \n",
        "              loss='categorical_crossentropy', metrics=['accuracy'])"
      ],
      "execution_count": 0,
      "outputs": []
    },
    {
      "metadata": {
        "id": "cmOjlkhjLN13",
        "colab_type": "code",
        "colab": {
          "base_uri": "https://localhost:8080/",
          "height": 457
        },
        "outputId": "c9a330d8-5294-4667-d64a-276899059dd0"
      },
      "cell_type": "code",
      "source": [
        "#Train the model\n",
        "model.fit(x_train,y_train,          \n",
        "          validation_data=(x_test,y_test),\n",
        "          epochs=10,\n",
        "          batch_size=32)"
      ],
      "execution_count": 29,
      "outputs": [
        {
          "output_type": "stream",
          "text": [
            "Train on 60000 samples, validate on 10000 samples\n",
            "WARNING:tensorflow:From /usr/local/lib/python3.6/dist-packages/tensorflow/python/ops/math_ops.py:3066: to_int32 (from tensorflow.python.ops.math_ops) is deprecated and will be removed in a future version.\n",
            "Instructions for updating:\n",
            "Use tf.cast instead.\n",
            "Epoch 1/10\n",
            "60000/60000 [==============================] - 10s 159us/sample - loss: 0.5240 - acc: 0.8172 - val_loss: 0.3967 - val_acc: 0.8533\n",
            "Epoch 2/10\n",
            "60000/60000 [==============================] - 8s 130us/sample - loss: 0.3996 - acc: 0.8554 - val_loss: 0.3917 - val_acc: 0.8589\n",
            "Epoch 3/10\n",
            "60000/60000 [==============================] - 8s 130us/sample - loss: 0.3635 - acc: 0.8661 - val_loss: 0.3699 - val_acc: 0.8693\n",
            "Epoch 4/10\n",
            "60000/60000 [==============================] - 8s 131us/sample - loss: 0.3398 - acc: 0.8745 - val_loss: 0.3666 - val_acc: 0.8708\n",
            "Epoch 5/10\n",
            "60000/60000 [==============================] - 9s 148us/sample - loss: 0.3200 - acc: 0.8808 - val_loss: 0.3611 - val_acc: 0.8714\n",
            "Epoch 6/10\n",
            "60000/60000 [==============================] - 8s 134us/sample - loss: 0.3036 - acc: 0.8867 - val_loss: 0.3571 - val_acc: 0.8758\n",
            "Epoch 7/10\n",
            "60000/60000 [==============================] - 8s 131us/sample - loss: 0.2929 - acc: 0.8908 - val_loss: 0.3508 - val_acc: 0.8808\n",
            "Epoch 8/10\n",
            "60000/60000 [==============================] - 8s 132us/sample - loss: 0.2788 - acc: 0.8955 - val_loss: 0.3546 - val_acc: 0.8783\n",
            "Epoch 9/10\n",
            "60000/60000 [==============================] - 8s 130us/sample - loss: 0.2705 - acc: 0.8984 - val_loss: 0.3608 - val_acc: 0.8857\n",
            "Epoch 10/10\n",
            "60000/60000 [==============================] - 8s 132us/sample - loss: 0.2561 - acc: 0.9023 - val_loss: 0.3406 - val_acc: 0.8827\n"
          ],
          "name": "stdout"
        },
        {
          "output_type": "execute_result",
          "data": {
            "text/plain": [
              "<tensorflow.python.keras.callbacks.History at 0x7f7d6d4bbb70>"
            ]
          },
          "metadata": {
            "tags": []
          },
          "execution_count": 29
        }
      ]
    },
    {
      "metadata": {
        "id": "BMAW7TXgLhHj",
        "colab_type": "code",
        "colab": {
          "base_uri": "https://localhost:8080/",
          "height": 50
        },
        "outputId": "dd877c70-5db6-4074-f839-4f5714c14d1e"
      },
      "cell_type": "code",
      "source": [
        "# Final Train Loss & Accuracy\n",
        "model.evaluate(x_train,y_train)"
      ],
      "execution_count": 30,
      "outputs": [
        {
          "output_type": "stream",
          "text": [
            "60000/60000 [==============================] - 3s 53us/sample - loss: 0.2089 - acc: 0.9226\n"
          ],
          "name": "stdout"
        },
        {
          "output_type": "execute_result",
          "data": {
            "text/plain": [
              "[0.20892846338848273, 0.92255]"
            ]
          },
          "metadata": {
            "tags": []
          },
          "execution_count": 30
        }
      ]
    },
    {
      "metadata": {
        "id": "uxGgga7APO0I",
        "colab_type": "code",
        "colab": {
          "base_uri": "https://localhost:8080/",
          "height": 50
        },
        "outputId": "0d34b24b-ba35-4406-d258-0611cf179fd3"
      },
      "cell_type": "code",
      "source": [
        "# Final Validation Loss & Accuracy\n",
        "model.evaluate(x_test,y_test)"
      ],
      "execution_count": 31,
      "outputs": [
        {
          "output_type": "stream",
          "text": [
            "10000/10000 [==============================] - 0s 47us/sample - loss: 0.3406 - acc: 0.8827\n"
          ],
          "name": "stdout"
        },
        {
          "output_type": "execute_result",
          "data": {
            "text/plain": [
              "[0.3405964788556099, 0.8827]"
            ]
          },
          "metadata": {
            "tags": []
          },
          "execution_count": 31
        }
      ]
    }
  ]
}