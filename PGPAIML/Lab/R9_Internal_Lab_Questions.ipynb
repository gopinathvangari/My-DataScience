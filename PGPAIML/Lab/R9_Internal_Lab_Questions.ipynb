{
  "nbformat": 4,
  "nbformat_minor": 0,
  "metadata": {
    "colab": {
      "name": "R9_Internal_Lab_Questions.ipynb",
      "version": "0.3.2",
      "provenance": [],
      "collapsed_sections": []
    },
    "kernelspec": {
      "name": "python3",
      "display_name": "Python 3"
    },
    "accelerator": "GPU"
  },
  "cells": [
    {
      "cell_type": "markdown",
      "metadata": {
        "id": "Y1xi6A_naxGb",
        "colab_type": "text"
      },
      "source": [
        "### Import the necessary libraries"
      ]
    },
    {
      "cell_type": "code",
      "metadata": {
        "id": "LlWkRaF0axTl",
        "colab_type": "code",
        "colab": {
          "base_uri": "https://localhost:8080/",
          "height": 34
        },
        "outputId": "18a1482d-4f46-4a06-ddec-5f57431fc624"
      },
      "source": [
        "# IMPORT LIBRARIES AND PACKAGES\n",
        "import tensorflow as tf\n",
        "import csv\n",
        "import numpy as np\n",
        "import pandas as pd\n",
        "from PIL import Image\n",
        "\n",
        "from keras import Model\n",
        "from keras.applications.mobilenet import MobileNet, preprocess_input\n",
        "from keras.callbacks import ModelCheckpoint, EarlyStopping, ReduceLROnPlateau, Callback\n",
        "from keras.layers import Conv2D, Reshape\n",
        "from keras.utils import Sequence\n",
        "from keras.backend import epsilon"
      ],
      "execution_count": 1,
      "outputs": [
        {
          "output_type": "stream",
          "text": [
            "Using TensorFlow backend.\n"
          ],
          "name": "stderr"
        }
      ]
    },
    {
      "cell_type": "code",
      "metadata": {
        "id": "dqLpqgzbl4mR",
        "colab_type": "code",
        "colab": {
          "base_uri": "https://localhost:8080/",
          "height": 151
        },
        "outputId": "543f7816-ec16-4cd1-92e9-097c4553fa11"
      },
      "source": [
        "pip install unrar"
      ],
      "execution_count": 2,
      "outputs": [
        {
          "output_type": "stream",
          "text": [
            "Collecting unrar\n",
            "  Downloading https://files.pythonhosted.org/packages/bc/cb/2e9dcc0632ea96c3618b47d30ec1d8bcb55e0f45137690c9f2dae4ece762/unrar-0.3.tar.gz\n",
            "Building wheels for collected packages: unrar\n",
            "  Building wheel for unrar (setup.py) ... \u001b[?25l\u001b[?25hdone\n",
            "  Stored in directory: /root/.cache/pip/wheels/c7/a9/1a/c5a381df313452ec2a000c9eae2188a2963df5f2f940073a5f\n",
            "Successfully built unrar\n",
            "Installing collected packages: unrar\n",
            "Successfully installed unrar-0.3\n"
          ],
          "name": "stdout"
        }
      ]
    },
    {
      "cell_type": "code",
      "metadata": {
        "id": "vFJmuElEG2M4",
        "colab_type": "code",
        "colab": {}
      },
      "source": [
        "tf.keras.backend.clear_session()"
      ],
      "execution_count": 0,
      "outputs": []
    },
    {
      "cell_type": "markdown",
      "metadata": {
        "id": "paKO7ERla7Hk",
        "colab_type": "text"
      },
      "source": [
        "### Load the training data from train.csv file"
      ]
    },
    {
      "cell_type": "code",
      "metadata": {
        "id": "1B0XW8oOa7Xi",
        "colab_type": "code",
        "colab": {
          "base_uri": "https://localhost:8080/",
          "height": 34
        },
        "outputId": "6e253e18-0035-4a9b-8c65-a8f8e2a3c109"
      },
      "source": [
        "from google.colab import drive\n",
        "drive.mount('/gdrive')"
      ],
      "execution_count": 3,
      "outputs": [
        {
          "output_type": "stream",
          "text": [
            "Drive already mounted at /gdrive; to attempt to forcibly remount, call drive.mount(\"/gdrive\", force_remount=True).\n"
          ],
          "name": "stdout"
        }
      ]
    },
    {
      "cell_type": "code",
      "metadata": {
        "id": "yTXdqA82eLti",
        "colab_type": "code",
        "colab": {}
      },
      "source": [
        "project_path = \"/gdrive/My Drive/Colab Notebooks/Sequence Models in NLP/Data/\""
      ],
      "execution_count": 0,
      "outputs": []
    },
    {
      "cell_type": "code",
      "metadata": {
        "id": "eZUyBjMUekxu",
        "colab_type": "code",
        "colab": {}
      },
      "source": [
        "train_labels = pd.read_csv(project_path+'/train_labels.csv')"
      ],
      "execution_count": 0,
      "outputs": []
    },
    {
      "cell_type": "markdown",
      "metadata": {
        "id": "4UweyCk1a-73",
        "colab_type": "text"
      },
      "source": [
        "### Print the shape of the train dataset"
      ]
    },
    {
      "cell_type": "code",
      "metadata": {
        "id": "6ulTUxHwa_KO",
        "colab_type": "code",
        "colab": {
          "base_uri": "https://localhost:8080/",
          "height": 34
        },
        "outputId": "9d6e255c-788a-449b-fb89-822b8ec68335"
      },
      "source": [
        "train_labels.shape"
      ],
      "execution_count": 6,
      "outputs": [
        {
          "output_type": "execute_result",
          "data": {
            "text/plain": [
              "(173, 8)"
            ]
          },
          "metadata": {
            "tags": []
          },
          "execution_count": 6
        }
      ]
    },
    {
      "cell_type": "code",
      "metadata": {
        "id": "1aSQsuIPohtp",
        "colab_type": "code",
        "colab": {
          "base_uri": "https://localhost:8080/",
          "height": 195
        },
        "outputId": "165d6083-507c-4ba9-d01f-fb8fe1207ad5"
      },
      "source": [
        "train_labels.head()"
      ],
      "execution_count": 7,
      "outputs": [
        {
          "output_type": "execute_result",
          "data": {
            "text/html": [
              "<div>\n",
              "<style scoped>\n",
              "    .dataframe tbody tr th:only-of-type {\n",
              "        vertical-align: middle;\n",
              "    }\n",
              "\n",
              "    .dataframe tbody tr th {\n",
              "        vertical-align: top;\n",
              "    }\n",
              "\n",
              "    .dataframe thead th {\n",
              "        text-align: right;\n",
              "    }\n",
              "</style>\n",
              "<table border=\"1\" class=\"dataframe\">\n",
              "  <thead>\n",
              "    <tr style=\"text-align: right;\">\n",
              "      <th></th>\n",
              "      <th>filename</th>\n",
              "      <th>width</th>\n",
              "      <th>height</th>\n",
              "      <th>class</th>\n",
              "      <th>xmin</th>\n",
              "      <th>ymin</th>\n",
              "      <th>xmax</th>\n",
              "      <th>ymax</th>\n",
              "    </tr>\n",
              "  </thead>\n",
              "  <tbody>\n",
              "    <tr>\n",
              "      <th>0</th>\n",
              "      <td>raccoon-17.jpg</td>\n",
              "      <td>259</td>\n",
              "      <td>194</td>\n",
              "      <td>raccoon</td>\n",
              "      <td>95</td>\n",
              "      <td>60</td>\n",
              "      <td>167</td>\n",
              "      <td>118</td>\n",
              "    </tr>\n",
              "    <tr>\n",
              "      <th>1</th>\n",
              "      <td>raccoon-11.jpg</td>\n",
              "      <td>660</td>\n",
              "      <td>432</td>\n",
              "      <td>raccoon</td>\n",
              "      <td>3</td>\n",
              "      <td>1</td>\n",
              "      <td>461</td>\n",
              "      <td>431</td>\n",
              "    </tr>\n",
              "    <tr>\n",
              "      <th>2</th>\n",
              "      <td>raccoon-63.jpg</td>\n",
              "      <td>600</td>\n",
              "      <td>400</td>\n",
              "      <td>raccoon</td>\n",
              "      <td>74</td>\n",
              "      <td>107</td>\n",
              "      <td>280</td>\n",
              "      <td>290</td>\n",
              "    </tr>\n",
              "    <tr>\n",
              "      <th>3</th>\n",
              "      <td>raccoon-63.jpg</td>\n",
              "      <td>600</td>\n",
              "      <td>400</td>\n",
              "      <td>raccoon</td>\n",
              "      <td>227</td>\n",
              "      <td>93</td>\n",
              "      <td>403</td>\n",
              "      <td>298</td>\n",
              "    </tr>\n",
              "    <tr>\n",
              "      <th>4</th>\n",
              "      <td>raccoon-60.jpg</td>\n",
              "      <td>273</td>\n",
              "      <td>185</td>\n",
              "      <td>raccoon</td>\n",
              "      <td>58</td>\n",
              "      <td>33</td>\n",
              "      <td>197</td>\n",
              "      <td>127</td>\n",
              "    </tr>\n",
              "  </tbody>\n",
              "</table>\n",
              "</div>"
            ],
            "text/plain": [
              "         filename  width  height    class  xmin  ymin  xmax  ymax\n",
              "0  raccoon-17.jpg    259     194  raccoon    95    60   167   118\n",
              "1  raccoon-11.jpg    660     432  raccoon     3     1   461   431\n",
              "2  raccoon-63.jpg    600     400  raccoon    74   107   280   290\n",
              "3  raccoon-63.jpg    600     400  raccoon   227    93   403   298\n",
              "4  raccoon-60.jpg    273     185  raccoon    58    33   197   127"
            ]
          },
          "metadata": {
            "tags": []
          },
          "execution_count": 7
        }
      ]
    },
    {
      "cell_type": "markdown",
      "metadata": {
        "id": "3EmVHq8PbEGU",
        "colab_type": "text"
      },
      "source": [
        "### Declare a variable IMAGE_SIZE = 128 as we will be using MobileNet which will be taking Input shape as 128 * 128 "
      ]
    },
    {
      "cell_type": "code",
      "metadata": {
        "id": "yAZhqikIbEQz",
        "colab_type": "code",
        "colab": {}
      },
      "source": [
        "ALPHA = 1.0 # Width hyper parameter for MobileNet (0.25, 0.5, 0.75, 1.0). Higher width means more accurate but slower\n",
        "\n",
        "IMAGE_SIZE = 128 # MobileNet takes images of size 128*128*3 \n",
        "\n",
        "EPOCHS = 10 # Number of epochs. I got decent performance with just 5.\n",
        "BATCH_SIZE = 32 # Depends on your GPU or CPU RAM.\n",
        "\n",
        "project_path = \"/gdrive/My Drive/Colab Notebooks/Sequence Models in NLP/Data/\"\n",
        "TRAIN_CSV = project_path+\"train_labels.csv\"\n",
        "\n",
        "#VALIDATION_CSV = DATASET_FOLDER+\"validation.csv\"\n",
        "\n",
        "#images_zip_path = project_path + \"images_racoon.rar\"\n",
        "\n",
        "#from unrar import rarfile\n",
        "\n",
        "#with rarfile (images_zip_path, 'r') as z:\n",
        "  #z.extractall()"
      ],
      "execution_count": 0,
      "outputs": []
    },
    {
      "cell_type": "markdown",
      "metadata": {
        "id": "8xCLu4gDbKV0",
        "colab_type": "text"
      },
      "source": [
        "### With the help of csv.reader write a for loop which can load the train.csv file and store the path, width, height, x0,y0,x1,y1 in induvidual variables. <br>\n",
        "1. Create a list variable known as 'path' which has all the path for all the training images\n",
        "2. Create an array 'coords' which has the resized coordinates of the bounding box for the training images\n",
        "\n",
        "<u>Note:</u> All the training images should be downsampled to 128 * 128 as it is the input shape of MobileNet (which we will be using for Object detection). Hence the corresponding coordinates of the bounding boxes should be changed to match the image dimension of 128 * 128 "
      ]
    },
    {
      "cell_type": "code",
      "metadata": {
        "id": "9lHjSKFrbKg0",
        "colab_type": "code",
        "colab": {}
      },
      "source": [
        "paths = []\n",
        "coords = np.zeros((sum(1 for row in range(173)), 4))\n",
        "for col, row in train_labels.iterrows():\n",
        "    image_height, image_width, x0, y0, x1, y1 = row['height'], row['width'], row['xmin'], row['ymin'], row['xmax'], row['ymax']  \n",
        "    path = project_path + 'images/'+ row['filename']\n",
        "    coords[col, 0] = x0 * IMAGE_SIZE / image_width # Normalize bounding box by image size\n",
        "    coords[col, 1] = y0 * IMAGE_SIZE / image_height # Normalize bounding box by image size\n",
        "    coords[col, 2] = (x1 - x0) * IMAGE_SIZE / image_width # Normalize bounding box by image size\n",
        "    coords[col, 3] = (y1 - y0) * IMAGE_SIZE / image_height\n",
        "    paths.append(path)"
      ],
      "execution_count": 0,
      "outputs": []
    },
    {
      "cell_type": "code",
      "metadata": {
        "id": "q3mqnTlm4ruM",
        "colab_type": "code",
        "colab": {
          "base_uri": "https://localhost:8080/",
          "height": 2923
        },
        "outputId": "0a1de469-63ea-402e-8561-60c3e8622493"
      },
      "source": [
        "coords"
      ],
      "execution_count": 10,
      "outputs": [
        {
          "output_type": "execute_result",
          "data": {
            "text/plain": [
              "array([[4.69498069e+01, 3.95876289e+01, 3.55830116e+01, 3.82680412e+01],\n",
              "       [5.81818182e-01, 2.96296296e-01, 8.88242424e+01, 1.27407407e+02],\n",
              "       [1.57866667e+01, 3.42400000e+01, 4.39466667e+01, 5.85600000e+01],\n",
              "       [4.84266667e+01, 2.97600000e+01, 3.75466667e+01, 6.56000000e+01],\n",
              "       [2.71941392e+01, 2.28324324e+01, 6.51721612e+01, 6.50378378e+01],\n",
              "       [7.49268293e+00, 5.72357724e+00, 1.09892683e+02, 1.19154472e+02],\n",
              "       [2.53866667e+01, 6.72000000e+00, 5.31200000e+01, 1.20960000e+02],\n",
              "       [5.24750958e+01, 6.63212435e+00, 6.96398467e+01, 1.03461140e+02],\n",
              "       [5.14056225e-01, 6.33663366e-01, 7.86506024e+01, 1.10891089e+02],\n",
              "       [4.29961390e+01, 5.27835052e+00, 4.69498069e+01, 5.34432990e+01],\n",
              "       [1.30957096e+01, 4.62650602e+00, 7.01254125e+01, 1.21060241e+02],\n",
              "       [8.40154440e+00, 2.57319588e+01, 1.09714286e+02, 7.12577320e+01],\n",
              "       [4.35200000e+00, 3.12320000e+01, 6.70720000e+01, 9.65120000e+01],\n",
              "       [6.83333333e+00, 6.66666667e-01, 1.07000000e+02, 1.21600000e+02],\n",
              "       [1.19322034e+01, 5.70700637e+00, 1.05220339e+02, 1.19847134e+02],\n",
              "       [2.40000000e+01, 3.01176471e-01, 8.96000000e+01, 1.27698824e+02],\n",
              "       [3.36573705e+01, 1.84676617e+01, 8.51633466e+01, 1.02527363e+02],\n",
              "       [3.55555556e-01, 6.87407407e+00, 1.27644444e+02, 1.12355556e+02],\n",
              "       [2.68422877e+01, 2.57500000e+01, 6.41109185e+01, 7.01250000e+01],\n",
              "       [9.88416988e+00, 3.95876289e+00, 7.75907336e+01, 1.06226804e+02],\n",
              "       [1.14285714e+00, 5.68888889e-01, 1.12571429e+02, 1.25155556e+02],\n",
              "       [2.58000000e+01, 1.53239437e+01, 9.98000000e+01, 9.67511737e+01],\n",
              "       [2.29120000e+01, 2.01650413e+00, 6.37440000e+01, 1.05434359e+02],\n",
              "       [1.59507692e+01, 2.70119904e+01, 8.68430769e+01, 9.82254197e+01],\n",
              "       [4.03772358e+01, 3.12958435e-01, 7.38861789e+01, 1.27687042e+02],\n",
              "       [1.02400000e+00, 2.56000000e-01, 1.06837333e+02, 1.27744000e+02],\n",
              "       [9.77454545e+00, 7.69398907e+00, 8.33163636e+01, 1.20306011e+02],\n",
              "       [1.72000000e+01, 1.59248826e+01, 6.28000000e+01, 9.10422535e+01],\n",
              "       [3.69777778e+01, 5.17171717e-01, 8.98844444e+01, 1.25672727e+02],\n",
              "       [4.21463415e+01, 2.57662338e+01, 3.90243902e+01, 7.39740260e+01],\n",
              "       [1.62000000e+01, 1.54000000e+01, 9.72000000e+01, 1.08000000e+02],\n",
              "       [3.45945946e+00, 1.12164948e+01, 1.23552124e+02, 1.07546392e+02],\n",
              "       [2.50181818e+01, 4.14016173e+00, 7.38909091e+01, 1.10059299e+02],\n",
              "       [2.13750000e+01, 2.70000000e+01, 8.00000000e+01, 9.63333333e+01],\n",
              "       [3.37920000e+01, 1.70666667e+01, 4.42880000e+01, 6.69013333e+01],\n",
              "       [5.04000000e+01, 2.24373957e+01, 7.31200000e+01, 9.29549249e+01],\n",
              "       [2.66666667e-01, 2.31111111e+01, 6.34666667e+01, 8.92444444e+01],\n",
              "       [5.60000000e+01, 1.32413793e+01, 5.40000000e+01, 1.10344828e+02],\n",
              "       [3.27441860e+01, 9.78512397e+00, 7.09953488e+01, 1.06578512e+02],\n",
              "       [3.68876081e+00, 1.75686275e+00, 1.24311239e+02, 1.16454902e+02],\n",
              "       [2.74618182e+01, 8.39344262e+00, 8.51781818e+01, 1.17508197e+02],\n",
              "       [1.66106870e+01, 2.65284974e+00, 9.72213740e+01, 1.25347150e+02],\n",
              "       [4.94208494e-01, 3.28205128e+00, 8.59922780e+01, 1.24717949e+02],\n",
              "       [1.65847176e+01, 1.88790560e+00, 9.33421927e+01, 1.23846608e+02],\n",
              "       [3.22000000e+01, 3.55555556e-01, 9.32000000e+01, 1.16977778e+02],\n",
              "       [2.27335907e+01, 6.00412371e+01, 4.79382239e+01, 5.14639175e+01],\n",
              "       [8.89575290e+00, 3.95876289e+00, 1.02301158e+02, 1.12164948e+02],\n",
              "       [1.82857143e+00, 1.82857143e-01, 1.10080000e+02, 1.27817143e+02],\n",
              "       [2.13333333e-01, 5.00622222e+01, 5.73866667e+01, 7.13955556e+01],\n",
              "       [1.53239437e+01, 2.60000000e+01, 9.01408451e+01, 8.52000000e+01],\n",
              "       [4.94208494e-01, 6.59793814e-01, 1.21575290e+02, 1.27340206e+02],\n",
              "       [1.06666667e+01, 3.65714286e+00, 1.08800000e+02, 1.18857143e+02],\n",
              "       [1.92000000e+01, 1.06666667e+01, 8.61866667e+01, 1.15047619e+02],\n",
              "       [2.76480000e+01, 8.93023256e+00, 1.00352000e+02, 1.14604651e+02],\n",
              "       [4.76862745e+01, 1.71122995e+00, 8.03137255e+01, 1.13625668e+02],\n",
              "       [2.22393822e+01, 2.24329897e+01, 5.73281853e+01, 9.89690722e+01],\n",
              "       [2.61930502e+01, 1.78144330e+01, 9.93359073e+01, 9.63298969e+01],\n",
              "       [5.69281768e+01, 4.01568627e+01, 4.63204420e+01, 5.88011204e+01],\n",
              "       [4.94208494e-01, 6.59793814e-01, 9.78532819e+01, 1.20742268e+02],\n",
              "       [1.66666667e+01, 8.61345853e+00, 6.17333333e+01, 9.69514867e+01],\n",
              "       [4.93333333e+00, 6.40000000e+00, 9.22666667e+01, 1.02200000e+02],\n",
              "       [4.64353312e+00, 3.23004695e+01, 8.41892744e+01, 9.25446009e+01],\n",
              "       [2.76756757e+01, 3.56288660e+01, 8.40154440e+01, 6.33402062e+01],\n",
              "       [5.81818182e-01, 5.58951965e-01, 8.32000000e+01, 1.16262009e+02],\n",
              "       [2.09801325e+01, 1.41039501e+01, 6.42119205e+01, 1.09372141e+02],\n",
              "       [5.81818182e-01, 2.96296296e-01, 8.39757576e+01, 1.27111111e+02],\n",
              "       [2.00000000e+01, 3.54285714e+01, 3.32000000e+01, 5.71428571e+01],\n",
              "       [6.84000000e+01, 2.88571429e+01, 4.56000000e+01, 5.60000000e+01],\n",
              "       [1.38378378e+01, 1.38556701e+01, 4.84324324e+01, 1.05567010e+02],\n",
              "       [4.20077220e+01, 2.17731959e+01, 7.41312741e+01, 1.05567010e+02],\n",
              "       [1.53962264e+01, 3.56000000e+01, 9.17735849e+01, 9.08000000e+01],\n",
              "       [8.80000000e+00, 2.70422535e+01, 1.06600000e+02, 1.00957746e+02],\n",
              "       [3.50000000e+00, 2.72893401e+01, 7.75000000e+01, 1.00710660e+02],\n",
              "       [2.00000000e-01, 2.00000000e-01, 1.27800000e+02, 9.16000000e+01],\n",
              "       [5.60000000e+00, 1.91401869e+01, 1.00400000e+02, 1.01084112e+02],\n",
              "       [2.56000000e-01, 1.04223919e+01, 8.75520000e+01, 8.95674300e+01],\n",
              "       [7.23478261e+00, 2.39788918e+01, 9.46086957e+01, 8.88232190e+01],\n",
              "       [2.60413793e+01, 1.47126437e+00, 6.92965517e+01, 1.24321839e+02],\n",
              "       [4.65454545e-01, 6.99453552e-01, 7.58690909e+01, 1.27300546e+02],\n",
              "       [4.87225806e+01, 2.39483871e+01, 7.47354839e+01, 9.41419355e+01],\n",
              "       [3.24000000e+01, 1.16658228e+01, 8.98000000e+01, 1.16334177e+02],\n",
              "       [2.75200000e+01, 1.08528678e+01, 7.38133333e+01, 1.17147132e+02],\n",
              "       [4.94208494e-01, 1.31958763e+00, 1.11691120e+02, 1.26680412e+02],\n",
              "       [4.55965665e+01, 5.15555556e+01, 7.03175966e+01, 7.34814815e+01],\n",
              "       [1.55826087e+01, 1.46118721e+01, 9.73913043e+01, 8.76712329e+01],\n",
              "       [1.77777778e-01, 2.66666667e-01, 1.27822222e+02, 1.26666667e+02],\n",
              "       [9.60000000e+00, 1.13926702e+01, 6.43200000e+01, 1.00076789e+02],\n",
              "       [1.68000000e+01, 2.40150094e+00, 6.35200000e+01, 1.17913696e+02],\n",
              "       [8.53333333e-01, 1.53600000e+01, 1.21600000e+02, 1.01262222e+02],\n",
              "       [2.09600000e+01, 3.88013937e+01, 1.03040000e+02, 8.67456446e+01],\n",
              "       [1.70666667e+01, 2.05128205e+01, 9.01333333e+01, 8.61538462e+01],\n",
              "       [2.83428571e+01, 2.74089936e+00, 7.09485714e+01, 1.19229122e+02],\n",
              "       [2.88000000e+01, 1.10222222e+01, 6.48000000e+01, 9.84888889e+01],\n",
              "       [2.01696970e+01, 1.03504043e+00, 7.85454545e+01, 1.26274933e+02],\n",
              "       [2.26000000e+01, 8.07476636e+00, 7.10000000e+01, 1.19925234e+02],\n",
              "       [3.67761194e+01, 3.26808511e+01, 4.87164179e+01, 7.35319149e+01],\n",
              "       [6.63880597e+01, 5.24255319e+01, 3.00895522e+01, 4.62978723e+01],\n",
              "       [1.42222222e+01, 6.31466667e+01, 9.78488889e+01, 6.48533333e+01],\n",
              "       [1.21135647e+00, 1.50407674e+01, 4.92618297e+01, 8.31846523e+01],\n",
              "       [5.53186120e+01, 8.28776978e+00, 5.83470032e+01, 1.17563549e+02],\n",
              "       [1.39305994e+01, 2.99002625e+01, 5.75394322e+01, 9.70918635e+01],\n",
              "       [3.09677419e+00, 4.41379310e+00, 1.20774194e+02, 9.45812808e+01],\n",
              "       [2.10881226e+01, 1.85699482e+01, 9.66130268e+01, 9.81554404e+01],\n",
              "       [1.53600000e+01, 1.36533333e+00, 9.24160000e+01, 1.24586667e+02],\n",
              "       [5.12000000e+00, 1.48893058e+01, 1.10720000e+02, 6.98836773e+01],\n",
              "       [6.75200000e+01, 8.62138837e+01, 2.11200000e+01, 1.03264540e+01],\n",
              "       [6.33600000e+01, 9.41388368e+01, 2.62400000e+01, 1.94521576e+01],\n",
              "       [2.32000000e+01, 1.09333333e+01, 8.20000000e+01, 1.05333333e+02],\n",
              "       [4.39124088e+01, 4.38260870e+01, 4.71824818e+01, 5.91304348e+01],\n",
              "       [6.63357664e+01, 2.71304348e+01, 3.31678832e+01, 4.80000000e+01],\n",
              "       [1.17333333e+01, 1.09072682e+01, 7.70133333e+01, 1.10035088e+02],\n",
              "       [2.25600000e+01, 1.44090056e+00, 5.29600000e+01, 1.19834897e+02],\n",
              "       [2.08979592e+00, 1.20000000e+00, 1.22253061e+02, 1.25000000e+02],\n",
              "       [3.71014493e+00, 1.25901639e+01, 6.91014493e+01, 1.11912568e+02],\n",
              "       [6.77101449e+01, 9.09289617e+00, 5.42608696e+01, 9.30273224e+01],\n",
              "       [7.92920354e+00, 6.31390135e+00, 1.18371681e+02, 1.20538117e+02],\n",
              "       [3.50888031e+01, 2.96907216e+01, 6.22702703e+01, 8.31340206e+01],\n",
              "       [2.96525097e+00, 1.31958763e+00, 1.15644788e+02, 8.51134021e+01],\n",
              "       [2.81698842e+01, 1.38556701e+01, 4.99150579e+01, 1.07546392e+02],\n",
              "       [5.53513514e+01, 2.11134021e+01, 4.29961390e+01, 8.31340206e+01],\n",
              "       [2.45333333e+01, 1.08000000e+01, 9.81333333e+01, 9.82000000e+01],\n",
              "       [3.22222222e+01, 8.05031447e-01, 6.17777778e+01, 1.27194969e+02],\n",
              "       [1.67563636e+01, 1.39890710e+00, 6.42327273e+01, 1.18907104e+02],\n",
              "       [3.20000000e+00, 2.15851602e-01, 1.19876923e+02, 1.27568297e+02],\n",
              "       [5.35040000e+01, 2.69279539e+01, 4.50560000e+01, 4.16829971e+01],\n",
              "       [1.18518519e-01, 7.46666667e+00, 1.04770370e+02, 1.16029630e+02],\n",
              "       [1.80224000e+01, 2.83759036e+01, 7.88480000e+01, 7.27903614e+01],\n",
              "       [6.26000000e+01, 2.16888889e+01, 6.02000000e+01, 1.06311111e+02],\n",
              "       [3.90610329e+00, 2.00000000e-01, 1.24093897e+02, 9.70000000e+01],\n",
              "       [2.38933333e+01, 5.34755556e+01, 3.75466667e+01, 7.39555556e+01],\n",
              "       [1.19466667e+01, 1.53600000e+01, 8.87466667e+01, 8.81777778e+01],\n",
              "       [2.66666667e-01, 1.56444444e+01, 8.16000000e+01, 9.67111111e+01],\n",
              "       [2.91446154e+01, 1.71073986e+01, 7.26646154e+01, 8.85918854e+01],\n",
              "       [1.98000000e+01, 2.40375587e+00, 1.01200000e+02, 1.18985915e+02],\n",
              "       [3.11428571e+01, 1.33602694e+01, 5.65714286e+01, 1.14639731e+02],\n",
              "       [3.72363636e+01, 4.33661202e+01, 4.98036364e+01, 7.48415301e+01],\n",
              "       [4.94208494e-01, 6.59793814e-01, 5.78223938e+01, 9.96288660e+01],\n",
              "       [4.46000000e+01, 1.86291080e+01, 5.48000000e+01, 7.36150235e+01],\n",
              "       [9.06000000e+01, 1.23192488e+01, 3.74000000e+01, 1.14779343e+02],\n",
              "       [2.87219512e+01, 3.28311688e+01, 5.58829268e+01, 7.68831169e+01],\n",
              "       [4.22400000e+01, 1.04951768e+01, 8.47360000e+01, 1.10919614e+02],\n",
              "       [4.70109091e+01, 6.92783505e+00, 7.28436364e+01, 1.20742268e+02],\n",
              "       [1.73668342e+01, 5.56521739e+00, 1.07417085e+02, 1.09786561e+02],\n",
              "       [6.25867508e+00, 1.63744150e+01, 5.93564669e+01, 1.11625585e+02],\n",
              "       [8.47058824e+00, 1.17621622e+01, 9.69411765e+01, 1.04475676e+02],\n",
              "       [1.06666667e+01, 7.24040404e+00, 6.55515152e+01, 7.36969697e+01],\n",
              "       [2.01892744e+01, 2.56000000e+01, 7.63154574e+01, 6.96089888e+01],\n",
              "       [2.89032258e+01, 2.06451613e+00, 6.48258065e+01, 1.25247312e+02],\n",
              "       [4.44745763e+01, 1.25607477e+01, 5.69491525e+01, 1.05271028e+02],\n",
              "       [5.96610169e+00, 3.28971963e+01, 3.74237288e+01, 5.38317757e+01],\n",
              "       [3.80878049e+01, 1.96069364e+01, 4.49560976e+01, 9.21156069e+01],\n",
              "       [7.30666667e+01, 2.22222222e+00, 5.41333333e+01, 1.13333333e+02],\n",
              "       [8.19200000e+00, 6.04160000e+01, 3.63520000e+01, 4.74453333e+01],\n",
              "       [7.91040000e+01, 5.87093333e+01, 3.04640000e+01, 4.88106667e+01],\n",
              "       [5.33745174e+01, 6.59793814e-01, 7.41312741e+01, 1.27340206e+02],\n",
              "       [3.75338346e+01, 1.68421053e+01, 5.00451128e+01, 1.02400000e+02],\n",
              "       [1.89235880e+01, 1.82206406e+00, 1.07162791e+02, 1.26177936e+02],\n",
              "       [2.55000000e+01, 1.55939086e+01, 7.35000000e+01, 1.09157360e+02],\n",
              "       [4.95616000e+01, 1.07177033e+01, 5.75488000e+01, 7.01244019e+01],\n",
              "       [7.96444444e+00, 5.68888889e-01, 1.12640000e+02, 7.45244444e+01],\n",
              "       [4.03200000e+01, 1.72631579e+01, 3.22133333e+01, 8.75789474e+01],\n",
              "       [6.00000000e+00, 4.94208494e-01, 1.12000000e+02, 1.24046332e+02],\n",
              "       [5.00000000e-01, 1.94923858e+00, 1.02500000e+02, 1.22152284e+02],\n",
              "       [2.00000000e-01, 2.66666667e-01, 7.66000000e+01, 1.16000000e+02],\n",
              "       [1.60717489e+01, 8.49557522e+00, 1.10780269e+02, 1.13840708e+02],\n",
              "       [3.28000000e+01, 9.60000000e+00, 5.73333333e+01, 9.13777778e+01],\n",
              "       [5.03370787e+00, 3.16607774e+00, 1.20089888e+02, 8.63886926e+01],\n",
              "       [2.52394366e+01, 1.15706215e+01, 9.82535211e+01, 1.08474576e+02],\n",
              "       [2.84000000e+01, 4.26666667e+00, 9.32000000e+01, 1.20000000e+02],\n",
              "       [6.17142857e+01, 1.19466667e+01, 4.11428571e+01, 5.34755556e+01],\n",
              "       [3.85482625e+01, 3.56288660e+01, 3.70656371e+01, 5.34432990e+01],\n",
              "       [5.04000000e+01, 2.70222222e+01, 4.28000000e+01, 9.20888889e+01],\n",
              "       [1.90836364e+01, 4.19672131e+01, 8.47127273e+01, 6.64480874e+01]])"
            ]
          },
          "metadata": {
            "tags": []
          },
          "execution_count": 10
        }
      ]
    },
    {
      "cell_type": "markdown",
      "metadata": {
        "id": "-CMdmgbvbuXg",
        "colab_type": "text"
      },
      "source": [
        "### Write a for loop which can load all the training images into a variable 'batch_images' using the paths from the 'paths' variable\n",
        "<u>Note:</u> Convert the image to RGB scale as the MobileNet accepts 3 channels as inputs   "
      ]
    },
    {
      "cell_type": "code",
      "metadata": {
        "id": "yLckLOBObujI",
        "colab_type": "code",
        "colab": {
          "base_uri": "https://localhost:8080/",
          "height": 34
        },
        "outputId": "df767b1e-3973-432d-fbdd-2043ad318e3d"
      },
      "source": [
        "batch_images = np.zeros((len(paths), IMAGE_SIZE, IMAGE_SIZE, 3), dtype=np.float32)\n",
        "print(\"First few paths\",paths[0],paths[1])\n",
        "for i, f in enumerate(paths):\n",
        "    try :\n",
        "      img = Image.open(f) # Read image\n",
        "      img = img.resize((IMAGE_SIZE, IMAGE_SIZE)) # Resize image\n",
        "      img = img.convert('RGB')\n",
        "      batch_images[i] = preprocess_input(np.array(img, dtype=np.float32))\n",
        "    except :\n",
        "      pass"
      ],
      "execution_count": 11,
      "outputs": [
        {
          "output_type": "stream",
          "text": [
            "First few paths /gdrive/My Drive/Colab Notebooks/Sequence Models in NLP/Data/images/raccoon-17.jpg /gdrive/My Drive/Colab Notebooks/Sequence Models in NLP/Data/images/raccoon-11.jpg\n"
          ],
          "name": "stdout"
        }
      ]
    },
    {
      "cell_type": "markdown",
      "metadata": {
        "id": "DZp1nd6_bylk",
        "colab_type": "text"
      },
      "source": [
        "### Import MobileNet and load MobileNet into a variable named 'model' which takes input shape of 128 * 128 * 3. Freeze all the layers. Add convolution and reshape layers at the end to ensure the output is 4 coordinates"
      ]
    },
    {
      "cell_type": "code",
      "metadata": {
        "id": "IL7Vxs_7by0k",
        "colab_type": "code",
        "colab": {
          "base_uri": "https://localhost:8080/",
          "height": 255
        },
        "outputId": "49414968-bf42-4dc2-c8af-d2fcc05020c3"
      },
      "source": [
        "model = MobileNet(input_shape=(IMAGE_SIZE, IMAGE_SIZE, 3), include_top=False, alpha=ALPHA) # Load pre-trained mobilenet\n",
        "# Do not include classification (top) layer\n",
        "\n",
        "# to freeze layers, except the new top layer, of course, which will be added below\n",
        "for layer in model.layers:\n",
        "    layer.trainable = False\n",
        "\n",
        "# Add new top layer which is a conv layer of the same size as the previous layer so that only 4 coords of BBox can be output\n",
        "x = model.layers[-1].output\n",
        "x = Conv2D(4, kernel_size=4, name=\"coords\")(x)\n",
        "# In the line above kernel size should be 3 for img size 96, 4 for img size 128, 5 for img size 160 etc.\n",
        "x = Reshape((4,))(x) # These are the 4 predicted coordinates of one BBox\n",
        "\n",
        "model = Model(inputs=model.input, outputs=x)"
      ],
      "execution_count": 12,
      "outputs": [
        {
          "output_type": "stream",
          "text": [
            "WARNING: Logging before flag parsing goes to stderr.\n",
            "W0616 11:53:13.772326 140617896183680 deprecation_wrapper.py:119] From /usr/local/lib/python3.6/dist-packages/keras/backend/tensorflow_backend.py:74: The name tf.get_default_graph is deprecated. Please use tf.compat.v1.get_default_graph instead.\n",
            "\n",
            "W0616 11:53:13.783845 140617896183680 deprecation_wrapper.py:119] From /usr/local/lib/python3.6/dist-packages/keras/backend/tensorflow_backend.py:517: The name tf.placeholder is deprecated. Please use tf.compat.v1.placeholder instead.\n",
            "\n",
            "W0616 11:53:13.793628 140617896183680 deprecation_wrapper.py:119] From /usr/local/lib/python3.6/dist-packages/keras/backend/tensorflow_backend.py:4138: The name tf.random_uniform is deprecated. Please use tf.random.uniform instead.\n",
            "\n",
            "W0616 11:53:13.817050 140617896183680 deprecation_wrapper.py:119] From /usr/local/lib/python3.6/dist-packages/keras/backend/tensorflow_backend.py:174: The name tf.get_default_session is deprecated. Please use tf.compat.v1.get_default_session instead.\n",
            "\n",
            "W0616 11:53:13.818115 140617896183680 deprecation_wrapper.py:119] From /usr/local/lib/python3.6/dist-packages/keras/backend/tensorflow_backend.py:181: The name tf.ConfigProto is deprecated. Please use tf.compat.v1.ConfigProto instead.\n",
            "\n",
            "W0616 11:53:14.674384 140617896183680 deprecation_wrapper.py:119] From /usr/local/lib/python3.6/dist-packages/keras/backend/tensorflow_backend.py:1834: The name tf.nn.fused_batch_norm is deprecated. Please use tf.compat.v1.nn.fused_batch_norm instead.\n",
            "\n"
          ],
          "name": "stderr"
        }
      ]
    },
    {
      "cell_type": "markdown",
      "metadata": {
        "id": "Hdy9wEe8b3Ub",
        "colab_type": "text"
      },
      "source": [
        "### Define a custom loss function IoU which calculates Intersection Over Union"
      ]
    },
    {
      "cell_type": "code",
      "metadata": {
        "id": "KgEL4Mwub3do",
        "colab_type": "code",
        "colab": {}
      },
      "source": [
        "gt = coords\n",
        "def loss(gt,pred):\n",
        "    intersections = 0\n",
        "    unions = 0\n",
        "    diff_width = np.minimum(gt[:,0] + gt[:,2], pred[:,0] + pred[:,2]) - np.maximum(gt[:,0], pred[:,0])\n",
        "    diff_height = np.minimum(gt[:,1] + gt[:,3], pred[:,1] + pred[:,3]) - np.maximum(gt[:,1], pred[:,1])\n",
        "    intersection = diff_width * diff_height\n",
        "    \n",
        "    # Compute union\n",
        "    area_gt = gt[:,2] * gt[:,3]\n",
        "    area_pred = pred[:,2] * pred[:,3]\n",
        "    union = area_gt + area_pred - intersection\n",
        "\n",
        "#     Compute intersection and union over multiple boxes\n",
        "    for j, _ in enumerate(union):\n",
        "        if union[j] > 0 and intersection[j] > 0 and union[j] >= intersection[j]:\n",
        "            intersections += intersection[j]\n",
        "            unions += union[j]\n",
        "\n",
        "    # Compute IOU. Use epsilon to prevent division by zero\n",
        "    iou = np.round(intersections / (unions + epsilon()), 4)\n",
        "    iou = iou.astype(np.float32)\n",
        "    return iou\n",
        "\n",
        "def IoU(y_true, y_pred):\n",
        "    iou = tf.py_func(loss, [y_true, y_pred], tf.float32)\n",
        "    return iou"
      ],
      "execution_count": 0,
      "outputs": []
    },
    {
      "cell_type": "markdown",
      "metadata": {
        "id": "KCHmzs3Zb58T",
        "colab_type": "text"
      },
      "source": [
        "### Write model.compile function & model.fit function with: <br>\n",
        "1. Optimizer = Adam, Loss = 'mse' and metrics = IoU\n",
        "2. Epochs = 30, batch_size = 32, verbose = 1"
      ]
    },
    {
      "cell_type": "code",
      "metadata": {
        "id": "xV4sVCivb6FJ",
        "colab_type": "code",
        "colab": {
          "base_uri": "https://localhost:8080/",
          "height": 1314
        },
        "outputId": "9d11343c-de14-46b7-8764-e274dbdb097a"
      },
      "source": [
        "model.compile(optimizer='Adam', loss='mse', metrics=[IoU]) # Regression loss is MSE\n",
        "\n",
        "model.fit(batch_images,gt,\n",
        "            epochs=30,batch_size = 32,\n",
        "            verbose=1)"
      ],
      "execution_count": 14,
      "outputs": [
        {
          "output_type": "stream",
          "text": [
            "W0616 11:53:26.659989 140617896183680 deprecation_wrapper.py:119] From /usr/local/lib/python3.6/dist-packages/keras/optimizers.py:790: The name tf.train.Optimizer is deprecated. Please use tf.compat.v1.train.Optimizer instead.\n",
            "\n",
            "W0616 11:53:26.698811 140617896183680 deprecation.py:323] From <ipython-input-13-580612f9cb82>:26: py_func (from tensorflow.python.ops.script_ops) is deprecated and will be removed in a future version.\n",
            "Instructions for updating:\n",
            "tf.py_func is deprecated in TF V2. Instead, there are two\n",
            "    options available in V2.\n",
            "    - tf.py_function takes a python function which manipulates tf eager\n",
            "    tensors instead of numpy arrays. It's easy to convert a tf eager tensor to\n",
            "    an ndarray (just call tensor.numpy()) but having access to eager tensors\n",
            "    means `tf.py_function`s can use accelerators such as GPUs as well as\n",
            "    being differentiable using a gradient tape.\n",
            "    - tf.numpy_function maintains the semantics of the deprecated tf.py_func\n",
            "    (it is not differentiable, and manipulates numpy arrays). It drops the\n",
            "    stateful argument making all functions stateful.\n",
            "    \n"
          ],
          "name": "stderr"
        },
        {
          "output_type": "stream",
          "text": [
            "Epoch 1/30\n",
            "173/173 [==============================] - 3s 17ms/step - loss: 2839.6213 - IoU: 0.0868\n",
            "Epoch 2/30\n",
            "173/173 [==============================] - 0s 618us/step - loss: 647.8688 - IoU: 0.4301\n",
            "Epoch 3/30\n",
            "173/173 [==============================] - 0s 573us/step - loss: 644.3102 - IoU: 0.5361\n",
            "Epoch 4/30\n",
            "173/173 [==============================] - 0s 574us/step - loss: 583.5215 - IoU: 0.5395\n",
            "Epoch 5/30\n",
            "173/173 [==============================] - 0s 581us/step - loss: 336.7286 - IoU: 0.5841\n",
            "Epoch 6/30\n",
            "173/173 [==============================] - 0s 581us/step - loss: 280.0563 - IoU: 0.5820\n",
            "Epoch 7/30\n",
            "173/173 [==============================] - 0s 528us/step - loss: 254.2945 - IoU: 0.5907\n",
            "Epoch 8/30\n",
            "173/173 [==============================] - 0s 536us/step - loss: 198.6605 - IoU: 0.6635\n",
            "Epoch 9/30\n",
            "173/173 [==============================] - 0s 515us/step - loss: 166.7915 - IoU: 0.6965\n",
            "Epoch 10/30\n",
            "173/173 [==============================] - 0s 547us/step - loss: 142.9014 - IoU: 0.7153\n",
            "Epoch 11/30\n",
            "173/173 [==============================] - 0s 513us/step - loss: 122.6635 - IoU: 0.7360\n",
            "Epoch 12/30\n",
            "173/173 [==============================] - 0s 505us/step - loss: 118.8226 - IoU: 0.7367\n",
            "Epoch 13/30\n",
            "173/173 [==============================] - 0s 533us/step - loss: 106.8081 - IoU: 0.7496\n",
            "Epoch 14/30\n",
            "173/173 [==============================] - 0s 540us/step - loss: 100.8350 - IoU: 0.7631\n",
            "Epoch 15/30\n",
            "173/173 [==============================] - 0s 1ms/step - loss: 93.2603 - IoU: 0.7700\n",
            "Epoch 16/30\n",
            "173/173 [==============================] - 0s 510us/step - loss: 84.3551 - IoU: 0.7757\n",
            "Epoch 17/30\n",
            "173/173 [==============================] - 0s 508us/step - loss: 77.6677 - IoU: 0.7961\n",
            "Epoch 18/30\n",
            "173/173 [==============================] - 0s 509us/step - loss: 80.1240 - IoU: 0.7953\n",
            "Epoch 19/30\n",
            "173/173 [==============================] - 0s 505us/step - loss: 77.4868 - IoU: 0.7990\n",
            "Epoch 20/30\n",
            "173/173 [==============================] - 0s 517us/step - loss: 67.9155 - IoU: 0.8082\n",
            "Epoch 21/30\n",
            "173/173 [==============================] - 0s 519us/step - loss: 68.3654 - IoU: 0.8055\n",
            "Epoch 22/30\n",
            "173/173 [==============================] - 0s 509us/step - loss: 66.9786 - IoU: 0.8202\n",
            "Epoch 23/30\n",
            "173/173 [==============================] - 0s 516us/step - loss: 69.9309 - IoU: 0.8119\n",
            "Epoch 24/30\n",
            "173/173 [==============================] - 0s 515us/step - loss: 65.1378 - IoU: 0.8149\n",
            "Epoch 25/30\n",
            "173/173 [==============================] - 0s 514us/step - loss: 58.9408 - IoU: 0.8290\n",
            "Epoch 26/30\n",
            "173/173 [==============================] - 0s 516us/step - loss: 60.5870 - IoU: 0.8296\n",
            "Epoch 27/30\n",
            "173/173 [==============================] - 0s 520us/step - loss: 61.8831 - IoU: 0.8290\n",
            "Epoch 28/30\n",
            "173/173 [==============================] - 0s 529us/step - loss: 58.4250 - IoU: 0.8241\n",
            "Epoch 29/30\n",
            "173/173 [==============================] - 0s 520us/step - loss: 54.0535 - IoU: 0.8314\n",
            "Epoch 30/30\n",
            "173/173 [==============================] - 0s 539us/step - loss: 53.2446 - IoU: 0.8419\n"
          ],
          "name": "stdout"
        },
        {
          "output_type": "execute_result",
          "data": {
            "text/plain": [
              "<keras.callbacks.History at 0x7fe3815c2898>"
            ]
          },
          "metadata": {
            "tags": []
          },
          "execution_count": 14
        }
      ]
    },
    {
      "cell_type": "code",
      "metadata": {
        "id": "06QDAE1DtJAX",
        "colab_type": "code",
        "colab": {
          "base_uri": "https://localhost:8080/",
          "height": 3125
        },
        "outputId": "4ca2f151-d2ad-4ff7-f2d8-cacb0447d196"
      },
      "source": [
        "model.summary()"
      ],
      "execution_count": 15,
      "outputs": [
        {
          "output_type": "stream",
          "text": [
            "_________________________________________________________________\n",
            "Layer (type)                 Output Shape              Param #   \n",
            "=================================================================\n",
            "input_1 (InputLayer)         (None, 128, 128, 3)       0         \n",
            "_________________________________________________________________\n",
            "conv1_pad (ZeroPadding2D)    (None, 129, 129, 3)       0         \n",
            "_________________________________________________________________\n",
            "conv1 (Conv2D)               (None, 64, 64, 32)        864       \n",
            "_________________________________________________________________\n",
            "conv1_bn (BatchNormalization (None, 64, 64, 32)        128       \n",
            "_________________________________________________________________\n",
            "conv1_relu (ReLU)            (None, 64, 64, 32)        0         \n",
            "_________________________________________________________________\n",
            "conv_dw_1 (DepthwiseConv2D)  (None, 64, 64, 32)        288       \n",
            "_________________________________________________________________\n",
            "conv_dw_1_bn (BatchNormaliza (None, 64, 64, 32)        128       \n",
            "_________________________________________________________________\n",
            "conv_dw_1_relu (ReLU)        (None, 64, 64, 32)        0         \n",
            "_________________________________________________________________\n",
            "conv_pw_1 (Conv2D)           (None, 64, 64, 64)        2048      \n",
            "_________________________________________________________________\n",
            "conv_pw_1_bn (BatchNormaliza (None, 64, 64, 64)        256       \n",
            "_________________________________________________________________\n",
            "conv_pw_1_relu (ReLU)        (None, 64, 64, 64)        0         \n",
            "_________________________________________________________________\n",
            "conv_pad_2 (ZeroPadding2D)   (None, 65, 65, 64)        0         \n",
            "_________________________________________________________________\n",
            "conv_dw_2 (DepthwiseConv2D)  (None, 32, 32, 64)        576       \n",
            "_________________________________________________________________\n",
            "conv_dw_2_bn (BatchNormaliza (None, 32, 32, 64)        256       \n",
            "_________________________________________________________________\n",
            "conv_dw_2_relu (ReLU)        (None, 32, 32, 64)        0         \n",
            "_________________________________________________________________\n",
            "conv_pw_2 (Conv2D)           (None, 32, 32, 128)       8192      \n",
            "_________________________________________________________________\n",
            "conv_pw_2_bn (BatchNormaliza (None, 32, 32, 128)       512       \n",
            "_________________________________________________________________\n",
            "conv_pw_2_relu (ReLU)        (None, 32, 32, 128)       0         \n",
            "_________________________________________________________________\n",
            "conv_dw_3 (DepthwiseConv2D)  (None, 32, 32, 128)       1152      \n",
            "_________________________________________________________________\n",
            "conv_dw_3_bn (BatchNormaliza (None, 32, 32, 128)       512       \n",
            "_________________________________________________________________\n",
            "conv_dw_3_relu (ReLU)        (None, 32, 32, 128)       0         \n",
            "_________________________________________________________________\n",
            "conv_pw_3 (Conv2D)           (None, 32, 32, 128)       16384     \n",
            "_________________________________________________________________\n",
            "conv_pw_3_bn (BatchNormaliza (None, 32, 32, 128)       512       \n",
            "_________________________________________________________________\n",
            "conv_pw_3_relu (ReLU)        (None, 32, 32, 128)       0         \n",
            "_________________________________________________________________\n",
            "conv_pad_4 (ZeroPadding2D)   (None, 33, 33, 128)       0         \n",
            "_________________________________________________________________\n",
            "conv_dw_4 (DepthwiseConv2D)  (None, 16, 16, 128)       1152      \n",
            "_________________________________________________________________\n",
            "conv_dw_4_bn (BatchNormaliza (None, 16, 16, 128)       512       \n",
            "_________________________________________________________________\n",
            "conv_dw_4_relu (ReLU)        (None, 16, 16, 128)       0         \n",
            "_________________________________________________________________\n",
            "conv_pw_4 (Conv2D)           (None, 16, 16, 256)       32768     \n",
            "_________________________________________________________________\n",
            "conv_pw_4_bn (BatchNormaliza (None, 16, 16, 256)       1024      \n",
            "_________________________________________________________________\n",
            "conv_pw_4_relu (ReLU)        (None, 16, 16, 256)       0         \n",
            "_________________________________________________________________\n",
            "conv_dw_5 (DepthwiseConv2D)  (None, 16, 16, 256)       2304      \n",
            "_________________________________________________________________\n",
            "conv_dw_5_bn (BatchNormaliza (None, 16, 16, 256)       1024      \n",
            "_________________________________________________________________\n",
            "conv_dw_5_relu (ReLU)        (None, 16, 16, 256)       0         \n",
            "_________________________________________________________________\n",
            "conv_pw_5 (Conv2D)           (None, 16, 16, 256)       65536     \n",
            "_________________________________________________________________\n",
            "conv_pw_5_bn (BatchNormaliza (None, 16, 16, 256)       1024      \n",
            "_________________________________________________________________\n",
            "conv_pw_5_relu (ReLU)        (None, 16, 16, 256)       0         \n",
            "_________________________________________________________________\n",
            "conv_pad_6 (ZeroPadding2D)   (None, 17, 17, 256)       0         \n",
            "_________________________________________________________________\n",
            "conv_dw_6 (DepthwiseConv2D)  (None, 8, 8, 256)         2304      \n",
            "_________________________________________________________________\n",
            "conv_dw_6_bn (BatchNormaliza (None, 8, 8, 256)         1024      \n",
            "_________________________________________________________________\n",
            "conv_dw_6_relu (ReLU)        (None, 8, 8, 256)         0         \n",
            "_________________________________________________________________\n",
            "conv_pw_6 (Conv2D)           (None, 8, 8, 512)         131072    \n",
            "_________________________________________________________________\n",
            "conv_pw_6_bn (BatchNormaliza (None, 8, 8, 512)         2048      \n",
            "_________________________________________________________________\n",
            "conv_pw_6_relu (ReLU)        (None, 8, 8, 512)         0         \n",
            "_________________________________________________________________\n",
            "conv_dw_7 (DepthwiseConv2D)  (None, 8, 8, 512)         4608      \n",
            "_________________________________________________________________\n",
            "conv_dw_7_bn (BatchNormaliza (None, 8, 8, 512)         2048      \n",
            "_________________________________________________________________\n",
            "conv_dw_7_relu (ReLU)        (None, 8, 8, 512)         0         \n",
            "_________________________________________________________________\n",
            "conv_pw_7 (Conv2D)           (None, 8, 8, 512)         262144    \n",
            "_________________________________________________________________\n",
            "conv_pw_7_bn (BatchNormaliza (None, 8, 8, 512)         2048      \n",
            "_________________________________________________________________\n",
            "conv_pw_7_relu (ReLU)        (None, 8, 8, 512)         0         \n",
            "_________________________________________________________________\n",
            "conv_dw_8 (DepthwiseConv2D)  (None, 8, 8, 512)         4608      \n",
            "_________________________________________________________________\n",
            "conv_dw_8_bn (BatchNormaliza (None, 8, 8, 512)         2048      \n",
            "_________________________________________________________________\n",
            "conv_dw_8_relu (ReLU)        (None, 8, 8, 512)         0         \n",
            "_________________________________________________________________\n",
            "conv_pw_8 (Conv2D)           (None, 8, 8, 512)         262144    \n",
            "_________________________________________________________________\n",
            "conv_pw_8_bn (BatchNormaliza (None, 8, 8, 512)         2048      \n",
            "_________________________________________________________________\n",
            "conv_pw_8_relu (ReLU)        (None, 8, 8, 512)         0         \n",
            "_________________________________________________________________\n",
            "conv_dw_9 (DepthwiseConv2D)  (None, 8, 8, 512)         4608      \n",
            "_________________________________________________________________\n",
            "conv_dw_9_bn (BatchNormaliza (None, 8, 8, 512)         2048      \n",
            "_________________________________________________________________\n",
            "conv_dw_9_relu (ReLU)        (None, 8, 8, 512)         0         \n",
            "_________________________________________________________________\n",
            "conv_pw_9 (Conv2D)           (None, 8, 8, 512)         262144    \n",
            "_________________________________________________________________\n",
            "conv_pw_9_bn (BatchNormaliza (None, 8, 8, 512)         2048      \n",
            "_________________________________________________________________\n",
            "conv_pw_9_relu (ReLU)        (None, 8, 8, 512)         0         \n",
            "_________________________________________________________________\n",
            "conv_dw_10 (DepthwiseConv2D) (None, 8, 8, 512)         4608      \n",
            "_________________________________________________________________\n",
            "conv_dw_10_bn (BatchNormaliz (None, 8, 8, 512)         2048      \n",
            "_________________________________________________________________\n",
            "conv_dw_10_relu (ReLU)       (None, 8, 8, 512)         0         \n",
            "_________________________________________________________________\n",
            "conv_pw_10 (Conv2D)          (None, 8, 8, 512)         262144    \n",
            "_________________________________________________________________\n",
            "conv_pw_10_bn (BatchNormaliz (None, 8, 8, 512)         2048      \n",
            "_________________________________________________________________\n",
            "conv_pw_10_relu (ReLU)       (None, 8, 8, 512)         0         \n",
            "_________________________________________________________________\n",
            "conv_dw_11 (DepthwiseConv2D) (None, 8, 8, 512)         4608      \n",
            "_________________________________________________________________\n",
            "conv_dw_11_bn (BatchNormaliz (None, 8, 8, 512)         2048      \n",
            "_________________________________________________________________\n",
            "conv_dw_11_relu (ReLU)       (None, 8, 8, 512)         0         \n",
            "_________________________________________________________________\n",
            "conv_pw_11 (Conv2D)          (None, 8, 8, 512)         262144    \n",
            "_________________________________________________________________\n",
            "conv_pw_11_bn (BatchNormaliz (None, 8, 8, 512)         2048      \n",
            "_________________________________________________________________\n",
            "conv_pw_11_relu (ReLU)       (None, 8, 8, 512)         0         \n",
            "_________________________________________________________________\n",
            "conv_pad_12 (ZeroPadding2D)  (None, 9, 9, 512)         0         \n",
            "_________________________________________________________________\n",
            "conv_dw_12 (DepthwiseConv2D) (None, 4, 4, 512)         4608      \n",
            "_________________________________________________________________\n",
            "conv_dw_12_bn (BatchNormaliz (None, 4, 4, 512)         2048      \n",
            "_________________________________________________________________\n",
            "conv_dw_12_relu (ReLU)       (None, 4, 4, 512)         0         \n",
            "_________________________________________________________________\n",
            "conv_pw_12 (Conv2D)          (None, 4, 4, 1024)        524288    \n",
            "_________________________________________________________________\n",
            "conv_pw_12_bn (BatchNormaliz (None, 4, 4, 1024)        4096      \n",
            "_________________________________________________________________\n",
            "conv_pw_12_relu (ReLU)       (None, 4, 4, 1024)        0         \n",
            "_________________________________________________________________\n",
            "conv_dw_13 (DepthwiseConv2D) (None, 4, 4, 1024)        9216      \n",
            "_________________________________________________________________\n",
            "conv_dw_13_bn (BatchNormaliz (None, 4, 4, 1024)        4096      \n",
            "_________________________________________________________________\n",
            "conv_dw_13_relu (ReLU)       (None, 4, 4, 1024)        0         \n",
            "_________________________________________________________________\n",
            "conv_pw_13 (Conv2D)          (None, 4, 4, 1024)        1048576   \n",
            "_________________________________________________________________\n",
            "conv_pw_13_bn (BatchNormaliz (None, 4, 4, 1024)        4096      \n",
            "_________________________________________________________________\n",
            "conv_pw_13_relu (ReLU)       (None, 4, 4, 1024)        0         \n",
            "_________________________________________________________________\n",
            "coords (Conv2D)              (None, 1, 1, 4)           65540     \n",
            "_________________________________________________________________\n",
            "reshape_1 (Reshape)          (None, 4)                 0         \n",
            "=================================================================\n",
            "Total params: 3,294,404\n",
            "Trainable params: 65,540\n",
            "Non-trainable params: 3,228,864\n",
            "_________________________________________________________________\n"
          ],
          "name": "stdout"
        }
      ]
    },
    {
      "cell_type": "markdown",
      "metadata": {
        "id": "BWrj3s6Rb-C8",
        "colab_type": "text"
      },
      "source": [
        "### Pick a test image from the given data"
      ]
    },
    {
      "cell_type": "code",
      "metadata": {
        "id": "j5zeEuTFb-M0",
        "colab_type": "code",
        "colab": {}
      },
      "source": [
        "# Pick a test image, run model, show image, and show predicted bounding box overlaid on the image\n",
        "import cv2\n",
        "filename = project_path + 'images/'+train_labels['filename'][10]\n",
        "unscaled = cv2.imread(filename) # Original image for display"
      ],
      "execution_count": 0,
      "outputs": []
    },
    {
      "cell_type": "markdown",
      "metadata": {
        "id": "_TdRTlbfcAHr",
        "colab_type": "text"
      },
      "source": [
        "### Resize the image to 128 * 128 and preprocess the image for the MobileNet model"
      ]
    },
    {
      "cell_type": "code",
      "metadata": {
        "id": "ACVNzBCAcARH",
        "colab_type": "code",
        "colab": {}
      },
      "source": [
        "image_height, image_width, _ = unscaled.shape\n",
        "image = cv2.resize(unscaled, (IMAGE_SIZE, IMAGE_SIZE)) # Rescaled image to run the network\n",
        "feat_scaled = preprocess_input(np.array(image, dtype=np.float32))"
      ],
      "execution_count": 0,
      "outputs": []
    },
    {
      "cell_type": "markdown",
      "metadata": {
        "id": "j7Wc1mXlcFT2",
        "colab_type": "text"
      },
      "source": [
        "### Predict the coordinates of the bounding box for the given test image"
      ]
    },
    {
      "cell_type": "code",
      "metadata": {
        "id": "sw2L2wtXcFcH",
        "colab_type": "code",
        "colab": {
          "base_uri": "https://localhost:8080/",
          "height": 34
        },
        "outputId": "e340df3f-b6d0-4293-e668-453a1d1b2cb0"
      },
      "source": [
        "region = model.predict(x=np.array([feat_scaled]))[0] # Predict the BBox\n",
        "print(region)"
      ],
      "execution_count": 28,
      "outputs": [
        {
          "output_type": "stream",
          "text": [
            "[ 20.813995   7.111927  91.62985  141.56837 ]\n"
          ],
          "name": "stdout"
        }
      ]
    },
    {
      "cell_type": "markdown",
      "metadata": {
        "id": "eF1iqyc4cHm-",
        "colab_type": "text"
      },
      "source": [
        "### Plot the test image using .imshow and draw a boundary box around the image with the coordinates obtained from the model"
      ]
    },
    {
      "cell_type": "code",
      "metadata": {
        "id": "BE0l5FCQcH6p",
        "colab_type": "code",
        "colab": {
          "base_uri": "https://localhost:8080/",
          "height": 235
        },
        "outputId": "f7995ef0-0ead-439a-999e-cf8679b8b5e1"
      },
      "source": [
        "x0 = int(region[0] * image_width / IMAGE_SIZE) # Scale the BBox\n",
        "y0 = int(region[1] * image_height / IMAGE_SIZE)\n",
        "\n",
        "x1 = int((region[2]) * image_width / IMAGE_SIZE)\n",
        "y1 = int((region[3]) * image_height / IMAGE_SIZE)\n",
        "\n",
        "\n",
        "import matplotlib.pyplot as plt\n",
        "import matplotlib.patches as patches\n",
        "from PIL import Image\n",
        "import numpy as np\n",
        "\n",
        "\n",
        "# Create figure and axes\n",
        "fig,ax = plt.subplots(1)\n",
        "\n",
        "# Display the image\n",
        "ax.imshow(unscaled)\n",
        "\n",
        "# Create a Rectangle patch\n",
        "rect = patches.Rectangle((x0, y0), (x1 - x0) , (y1 - y0) , linewidth=2, edgecolor='r', facecolor='none')\n",
        "\n",
        "# Add the patch to the Axes\n",
        "ax.add_patch(rect)\n",
        "\n",
        "plt.show()"
      ],
      "execution_count": 29,
      "outputs": [
        {
          "output_type": "display_data",
          "data": {
            "image/png": "[encoded data removed]",
            "text/plain": [
              "<Figure size 432x288 with 1 Axes>"
            ]
          },
          "metadata": {
            "tags": []
          }
        }
      ]
    },
    {
      "cell_type": "markdown",
      "metadata": {
        "id": "RgSbStfqcK7x",
        "colab_type": "text"
      },
      "source": [
        "## Time Series Analysis using LSTM"
      ]
    },
    {
      "cell_type": "markdown",
      "metadata": {
        "id": "PYBP3G0xctVK",
        "colab_type": "text"
      },
      "source": [
        "### Download Data\n",
        "Link: https://datamarket.com/data/set/2324/daily-minimum-temperatures-in-melbourne-australia-1981-1990#!ds=2324&display=line\n",
        "\n",
        "#### Description\n",
        "Daily minimum temperatures in Melbourne, Australia, 1981-1990\n",
        "\n",
        "Units: Degrees Celcius\n",
        "\n",
        "#### Steps before loading\n",
        "- Rename the column name with temperature values to \"Temperature\"\n",
        "- In the last, there is one extra row in the data, remove it by opening the file and save it again.\n",
        "- There are some values in Temperature column which have a \"?\" before them, they will give error, remove \"?\" before them and save the file\n",
        "- If you don't want to do these steps, just load the data file given by Great Learning."
      ]
    },
    {
      "cell_type": "markdown",
      "metadata": {
        "id": "AaPURhlmcz7b",
        "colab_type": "text"
      },
      "source": [
        "### Import required libraries"
      ]
    },
    {
      "cell_type": "code",
      "metadata": {
        "id": "4sF6yJZRc0Eb",
        "colab_type": "code",
        "colab": {}
      },
      "source": [
        ""
      ],
      "execution_count": 0,
      "outputs": []
    },
    {
      "cell_type": "markdown",
      "metadata": {
        "id": "Zxykhpelc2ap",
        "colab_type": "text"
      },
      "source": [
        "#### Mount google drive"
      ]
    },
    {
      "cell_type": "code",
      "metadata": {
        "id": "QyGmrgDXc2j8",
        "colab_type": "code",
        "colab": {}
      },
      "source": [
        ""
      ],
      "execution_count": 0,
      "outputs": []
    },
    {
      "cell_type": "markdown",
      "metadata": {
        "id": "vbzhgaP-c5h3",
        "colab_type": "text"
      },
      "source": [
        "### Load the  data file"
      ]
    },
    {
      "cell_type": "code",
      "metadata": {
        "id": "u6fqtQ3lc6m0",
        "colab_type": "code",
        "colab": {
          "base_uri": "https://localhost:8080/",
          "height": 225
        },
        "outputId": "463ba63d-8d3c-4801-fc1e-470960acfe6f"
      },
      "source": [
        "df = pd.read_csv('/gdrive/My Drive/Colab Notebooks/Sequence Models in NLP/Data/daily-minimum-temperatures-in-me.csv', index_col='Date')\n",
        "df.sort_index(inplace=True)\n",
        "df.head()"
      ],
      "execution_count": 26,
      "outputs": [
        {
          "output_type": "execute_result",
          "data": {
            "text/html": [
              "<div>\n",
              "<style scoped>\n",
              "    .dataframe tbody tr th:only-of-type {\n",
              "        vertical-align: middle;\n",
              "    }\n",
              "\n",
              "    .dataframe tbody tr th {\n",
              "        vertical-align: top;\n",
              "    }\n",
              "\n",
              "    .dataframe thead th {\n",
              "        text-align: right;\n",
              "    }\n",
              "</style>\n",
              "<table border=\"1\" class=\"dataframe\">\n",
              "  <thead>\n",
              "    <tr style=\"text-align: right;\">\n",
              "      <th></th>\n",
              "      <th>Temperature</th>\n",
              "    </tr>\n",
              "    <tr>\n",
              "      <th>Date</th>\n",
              "      <th></th>\n",
              "    </tr>\n",
              "  </thead>\n",
              "  <tbody>\n",
              "    <tr>\n",
              "      <th>1981-01-01</th>\n",
              "      <td>20.7</td>\n",
              "    </tr>\n",
              "    <tr>\n",
              "      <th>1981-01-02</th>\n",
              "      <td>17.9</td>\n",
              "    </tr>\n",
              "    <tr>\n",
              "      <th>1981-01-03</th>\n",
              "      <td>18.8</td>\n",
              "    </tr>\n",
              "    <tr>\n",
              "      <th>1981-01-04</th>\n",
              "      <td>14.6</td>\n",
              "    </tr>\n",
              "    <tr>\n",
              "      <th>1981-01-05</th>\n",
              "      <td>15.8</td>\n",
              "    </tr>\n",
              "  </tbody>\n",
              "</table>\n",
              "</div>"
            ],
            "text/plain": [
              "            Temperature\n",
              "Date                   \n",
              "1981-01-01         20.7\n",
              "1981-01-02         17.9\n",
              "1981-01-03         18.8\n",
              "1981-01-04         14.6\n",
              "1981-01-05         15.8"
            ]
          },
          "metadata": {
            "tags": []
          },
          "execution_count": 26
        }
      ]
    },
    {
      "cell_type": "markdown",
      "metadata": {
        "id": "YR__nGHGc9HP",
        "colab_type": "text"
      },
      "source": [
        "### Plot the data"
      ]
    },
    {
      "cell_type": "code",
      "metadata": {
        "id": "ioeODEwAc9Rg",
        "colab_type": "code",
        "colab": {
          "base_uri": "https://localhost:8080/",
          "height": 34
        },
        "outputId": "750c11b6-7f14-46c4-ade0-be4ae7b46eb0"
      },
      "source": [
        "df.shape"
      ],
      "execution_count": 27,
      "outputs": [
        {
          "output_type": "execute_result",
          "data": {
            "text/plain": [
              "(3650, 1)"
            ]
          },
          "metadata": {
            "tags": []
          },
          "execution_count": 27
        }
      ]
    },
    {
      "cell_type": "code",
      "metadata": {
        "id": "NUwshrzs8-OZ",
        "colab_type": "code",
        "colab": {
          "base_uri": "https://localhost:8080/",
          "height": 300
        },
        "outputId": "89a62873-c7e2-441b-eabb-7b78032272cc"
      },
      "source": [
        "df.plot()"
      ],
      "execution_count": 28,
      "outputs": [
        {
          "output_type": "execute_result",
          "data": {
            "text/plain": [
              "<matplotlib.axes._subplots.AxesSubplot at 0x7f82bc827f98>"
            ]
          },
          "metadata": {
            "tags": []
          },
          "execution_count": 28
        },
        {
          "output_type": "display_data",
          "data": {
            "image/png": "[encoded data removed]",
            "text/plain": [
              "<Figure size 432x288 with 1 Axes>"
            ]
          },
          "metadata": {
            "tags": []
          }
        }
      ]
    },
    {
      "cell_type": "markdown",
      "metadata": {
        "id": "C7JhKcDtetJF",
        "colab_type": "text"
      },
      "source": [
        "### Check for null values and treat them"
      ]
    },
    {
      "cell_type": "code",
      "metadata": {
        "id": "uT70jzDUeu5T",
        "colab_type": "code",
        "colab": {
          "base_uri": "https://localhost:8080/",
          "height": 50
        },
        "outputId": "eb61b387-9591-465d-8385-1d87d236a7f8"
      },
      "source": [
        "#Check for null values\n",
        "df.isnull().sum()"
      ],
      "execution_count": 29,
      "outputs": [
        {
          "output_type": "execute_result",
          "data": {
            "text/plain": [
              "Temperature    0\n",
              "dtype: int64"
            ]
          },
          "metadata": {
            "tags": []
          },
          "execution_count": 29
        }
      ]
    },
    {
      "cell_type": "markdown",
      "metadata": {
        "id": "D1RIiJXjexn4",
        "colab_type": "text"
      },
      "source": [
        "#### Drop null values (if any)"
      ]
    },
    {
      "cell_type": "code",
      "metadata": {
        "id": "t9ru89laezAC",
        "colab_type": "code",
        "colab": {}
      },
      "source": [
        "#Drop NA\n",
        "df.dropna(inplace=True)"
      ],
      "execution_count": 0,
      "outputs": []
    },
    {
      "cell_type": "markdown",
      "metadata": {
        "id": "Xus3ikVie04Z",
        "colab_type": "text"
      },
      "source": [
        "### Get the representation of the distribution of data in the form of histogram"
      ]
    },
    {
      "cell_type": "code",
      "metadata": {
        "id": "PlHV8H9Oe1CN",
        "colab_type": "code",
        "colab": {
          "base_uri": "https://localhost:8080/",
          "height": 336
        },
        "outputId": "679fc53e-0a7d-4ed9-b8b6-5b963e889e76"
      },
      "source": [
        "plt.hist(df['Temperature'])"
      ],
      "execution_count": 32,
      "outputs": [
        {
          "output_type": "execute_result",
          "data": {
            "text/plain": [
              "(array([ 53., 181., 564., 862., 830., 670., 347., 102.,  32.,   9.]),\n",
              " array([ 0.  ,  2.63,  5.26,  7.89, 10.52, 13.15, 15.78, 18.41, 21.04,\n",
              "        23.67, 26.3 ]),\n",
              " <a list of 10 Patch objects>)"
            ]
          },
          "metadata": {
            "tags": []
          },
          "execution_count": 32
        },
        {
          "output_type": "display_data",
          "data": {
            "image/png": "[encoded data removed]",
            "text/plain": [
              "<Figure size 432x288 with 1 Axes>"
            ]
          },
          "metadata": {
            "tags": []
          }
        }
      ]
    },
    {
      "cell_type": "markdown",
      "metadata": {
        "id": "IXZerWsve5Oq",
        "colab_type": "text"
      },
      "source": [
        "### Check the maximum and minimum values"
      ]
    },
    {
      "cell_type": "code",
      "metadata": {
        "id": "W1DAqyvxe6UM",
        "colab_type": "code",
        "colab": {
          "base_uri": "https://localhost:8080/",
          "height": 84
        },
        "outputId": "06b263ff-5ce8-4db9-e524-e3ae14f5be16"
      },
      "source": [
        "#Check Data Range\n",
        "print('Min', np.min(df))\n",
        "print('Max', np.max(df))"
      ],
      "execution_count": 33,
      "outputs": [
        {
          "output_type": "stream",
          "text": [
            "Min Temperature    0.0\n",
            "dtype: float64\n",
            "Max Temperature    26.3\n",
            "dtype: float64\n"
          ],
          "name": "stdout"
        }
      ]
    },
    {
      "cell_type": "markdown",
      "metadata": {
        "id": "ozpHcHnDe-oI",
        "colab_type": "text"
      },
      "source": [
        "### Normalize the data"
      ]
    },
    {
      "cell_type": "code",
      "metadata": {
        "id": "xgWGUM15e_E_",
        "colab_type": "code",
        "colab": {}
      },
      "source": [
        "from sklearn.preprocessing import MinMaxScaler"
      ],
      "execution_count": 0,
      "outputs": []
    },
    {
      "cell_type": "code",
      "metadata": {
        "id": "hPOaKb3U9vSK",
        "colab_type": "code",
        "colab": {}
      },
      "source": [
        "#Normalize the data\n",
        "scaler = MinMaxScaler(feature_range=(0, 1))\n",
        "scaled = scaler.fit_transform(df)"
      ],
      "execution_count": 0,
      "outputs": []
    },
    {
      "cell_type": "markdown",
      "metadata": {
        "id": "ENBvv2YxfB6G",
        "colab_type": "text"
      },
      "source": [
        "### Check the maximum and minimum values of scaled data"
      ]
    },
    {
      "cell_type": "code",
      "metadata": {
        "id": "7M6hP8GVfCDO",
        "colab_type": "code",
        "colab": {
          "base_uri": "https://localhost:8080/",
          "height": 50
        },
        "outputId": "aaf30277-8ebe-4df7-b5f7-ffa43eca25a4"
      },
      "source": [
        "#Check Data Range\n",
        "print('Min', np.min(scaled))\n",
        "print('Max', np.max(scaled))"
      ],
      "execution_count": 36,
      "outputs": [
        {
          "output_type": "stream",
          "text": [
            "Min 0.0\n",
            "Max 1.0\n"
          ],
          "name": "stdout"
        }
      ]
    },
    {
      "cell_type": "markdown",
      "metadata": {
        "id": "v8uytX2YfFTP",
        "colab_type": "text"
      },
      "source": [
        "### Split data into Training and Testing set \n",
        "<u>Note</u> The train and test data has to be sequential. Keep the first 70% of data in training and the bottom 30% in test data "
      ]
    },
    {
      "cell_type": "code",
      "metadata": {
        "id": "pA_L_w5yfGDf",
        "colab_type": "code",
        "colab": {
          "base_uri": "https://localhost:8080/",
          "height": 50
        },
        "outputId": "92eff964-cc2f-42ba-911b-b0ea6837b5b3"
      },
      "source": [
        "#70% examples will used for training (in the begining)\n",
        "train_size = int(len(scaled) * 0.70)\n",
        "\n",
        "#30% will be used for Test\n",
        "test_size = len(scaled - train_size)\n",
        "\n",
        "#Split the data\n",
        "train, test = scaled[0:train_size, :], scaled[train_size: len(scaled), :]\n",
        "print('train: {}\\ntest: {}'.format(len(train), len(test)))"
      ],
      "execution_count": 37,
      "outputs": [
        {
          "output_type": "stream",
          "text": [
            "train: 2555\n",
            "test: 1095\n"
          ],
          "name": "stdout"
        }
      ]
    },
    {
      "cell_type": "code",
      "metadata": {
        "id": "bTv8oJCX983Q",
        "colab_type": "code",
        "colab": {
          "base_uri": "https://localhost:8080/",
          "height": 34
        },
        "outputId": "fe5b9df3-1720-498e-ff30-384315d2791e"
      },
      "source": [
        "train.shape"
      ],
      "execution_count": 38,
      "outputs": [
        {
          "output_type": "execute_result",
          "data": {
            "text/plain": [
              "(2555, 1)"
            ]
          },
          "metadata": {
            "tags": []
          },
          "execution_count": 38
        }
      ]
    },
    {
      "cell_type": "markdown",
      "metadata": {
        "id": "_j1Qb4QvfJkN",
        "colab_type": "text"
      },
      "source": [
        "## Create the sequential data\n",
        "Map the temperature at a particular time t to the temperature at time t+n, where n is any number you define.\n",
        "\n",
        "For example: to map temperatures of consecutive days, use t+1, i.e. loop_back = 1"
      ]
    },
    {
      "cell_type": "markdown",
      "metadata": {
        "id": "uwu_o3-cfWFj",
        "colab_type": "text"
      },
      "source": [
        "#### Define your function to create dataset"
      ]
    },
    {
      "cell_type": "code",
      "metadata": {
        "id": "I5Xlj7aOfWPS",
        "colab_type": "code",
        "colab": {}
      },
      "source": [
        "#window - how long the sequence will be\n",
        "def create_dataset(dataset, window=1):\n",
        "    \n",
        "    dataX, dataY = [], []\n",
        "    \n",
        "    for i in range(len(dataset)-window):\n",
        "        \n",
        "        a = dataset[i:(i+window), 0]        \n",
        "        dataX.append(a)\n",
        "        dataY.append(dataset[i + window, 0])\n",
        "    \n",
        "    return np.array(dataX), np.array(dataY)"
      ],
      "execution_count": 0,
      "outputs": []
    },
    {
      "cell_type": "markdown",
      "metadata": {
        "id": "I7I0D7kNfbbq",
        "colab_type": "text"
      },
      "source": [
        "### Use function to get training and test set"
      ]
    },
    {
      "cell_type": "code",
      "metadata": {
        "id": "xssfbRBGfcRq",
        "colab_type": "code",
        "colab": {}
      },
      "source": [
        "#Create Input and Output\n",
        "window_size = 2\n",
        "X_train, y_train = create_dataset(train, window_size)\n",
        "X_test, y_test = create_dataset(test, window_size)"
      ],
      "execution_count": 0,
      "outputs": []
    },
    {
      "cell_type": "markdown",
      "metadata": {
        "id": "ohF6nTWFffYx",
        "colab_type": "text"
      },
      "source": [
        "### Transform the prepared train and test input data into the expected structure using numpy.reshape()"
      ]
    },
    {
      "cell_type": "code",
      "metadata": {
        "id": "QIa99CH4fgG5",
        "colab_type": "code",
        "colab": {
          "base_uri": "https://localhost:8080/",
          "height": 50
        },
        "outputId": "8a44b9a2-4fc5-4405-fea7-a6021e5cfbf9"
      },
      "source": [
        "#Make it 3 Dimensional Data - needed for LSTM\n",
        "X_train = np.reshape(X_train, (X_train.shape[0], X_train.shape[1], 1))\n",
        "X_test = np.reshape(X_test, (X_test.shape[0], X_test.shape[1], 1))\n",
        "print(X_train.shape)\n",
        "print(X_test.shape)"
      ],
      "execution_count": 41,
      "outputs": [
        {
          "output_type": "stream",
          "text": [
            "(2553, 2, 1)\n",
            "(1093, 2, 1)\n"
          ],
          "name": "stdout"
        }
      ]
    },
    {
      "cell_type": "markdown",
      "metadata": {
        "id": "D6kI_q56fi_g",
        "colab_type": "text"
      },
      "source": [
        "### Define sequntial model, add LSTM layer and compile the model"
      ]
    },
    {
      "cell_type": "code",
      "metadata": {
        "id": "jZzZfxh2fjIQ",
        "colab_type": "code",
        "colab": {}
      },
      "source": [
        "import tensorflow as tf"
      ],
      "execution_count": 0,
      "outputs": []
    },
    {
      "cell_type": "code",
      "metadata": {
        "id": "BGUo10UB-RpM",
        "colab_type": "code",
        "colab": {
          "base_uri": "https://localhost:8080/",
          "height": 87
        },
        "outputId": "c228ffb1-7269-4947-f08f-436cf9e41868"
      },
      "source": [
        "tf.keras.backend.clear_session()\n",
        "model = tf.keras.Sequential()\n",
        "model.add(tf.keras.layers.LSTM(32, input_shape=(window_size, 1)))\n",
        "model.add(tf.keras.layers.Dense(1))\n",
        "model.compile(optimizer='adam', loss='mse')"
      ],
      "execution_count": 43,
      "outputs": [
        {
          "output_type": "stream",
          "text": [
            "W0616 11:08:53.730403 140211384620928 deprecation.py:506] From /usr/local/lib/python3.6/dist-packages/tensorflow/python/ops/init_ops.py:1251: calling VarianceScaling.__init__ (from tensorflow.python.ops.init_ops) with dtype is deprecated and will be removed in a future version.\n",
            "Instructions for updating:\n",
            "Call initializer instance with the dtype argument instead of passing it to the constructor\n"
          ],
          "name": "stderr"
        }
      ]
    },
    {
      "cell_type": "markdown",
      "metadata": {
        "id": "AAEu4kGmfnO1",
        "colab_type": "text"
      },
      "source": [
        "### Train the model for 100 epochs with batch size = 1"
      ]
    },
    {
      "cell_type": "code",
      "metadata": {
        "id": "-YS9480zfnZG",
        "colab_type": "code",
        "colab": {
          "base_uri": "https://localhost:8080/",
          "height": 3481
        },
        "outputId": "08e0dcbb-91a9-42a5-ca0f-10c00544dc68"
      },
      "source": [
        "model.fit(X_train, y_train, epochs=100, validation_data=(X_test, y_test), batch_size=1)"
      ],
      "execution_count": 44,
      "outputs": [
        {
          "output_type": "stream",
          "text": [
            "W0616 11:09:40.449265 140211384620928 deprecation.py:323] From /usr/local/lib/python3.6/dist-packages/tensorflow/python/ops/math_grad.py:1250: add_dispatch_support.<locals>.wrapper (from tensorflow.python.ops.array_ops) is deprecated and will be removed in a future version.\n",
            "Instructions for updating:\n",
            "Use tf.where in 2.0, which has the same broadcast rule as np.where\n"
          ],
          "name": "stderr"
        },
        {
          "output_type": "stream",
          "text": [
            "Train on 2553 samples, validate on 1093 samples\n",
            "Epoch 1/100\n",
            "2553/2553 [==============================] - 20s 8ms/sample - loss: 0.0143 - val_loss: 0.0096\n",
            "Epoch 2/100\n",
            "2553/2553 [==============================] - 18s 7ms/sample - loss: 0.0108 - val_loss: 0.0097\n",
            "Epoch 3/100\n",
            "2553/2553 [==============================] - 18s 7ms/sample - loss: 0.0104 - val_loss: 0.0086\n",
            "Epoch 4/100\n",
            "2553/2553 [==============================] - 18s 7ms/sample - loss: 0.0105 - val_loss: 0.0086\n",
            "Epoch 5/100\n",
            "2553/2553 [==============================] - 19s 7ms/sample - loss: 0.0103 - val_loss: 0.0086\n",
            "Epoch 6/100\n",
            "2553/2553 [==============================] - 18s 7ms/sample - loss: 0.0102 - val_loss: 0.0087\n",
            "Epoch 7/100\n",
            "2553/2553 [==============================] - 18s 7ms/sample - loss: 0.0103 - val_loss: 0.0096\n",
            "Epoch 8/100\n",
            "2553/2553 [==============================] - 18s 7ms/sample - loss: 0.0103 - val_loss: 0.0086\n",
            "Epoch 9/100\n",
            "2553/2553 [==============================] - 18s 7ms/sample - loss: 0.0103 - val_loss: 0.0087\n",
            "Epoch 10/100\n",
            "2553/2553 [==============================] - 18s 7ms/sample - loss: 0.0104 - val_loss: 0.0088\n",
            "Epoch 11/100\n",
            "2553/2553 [==============================] - 18s 7ms/sample - loss: 0.0103 - val_loss: 0.0087\n",
            "Epoch 12/100\n",
            "2553/2553 [==============================] - 18s 7ms/sample - loss: 0.0102 - val_loss: 0.0101\n",
            "Epoch 13/100\n",
            "2553/2553 [==============================] - 18s 7ms/sample - loss: 0.0103 - val_loss: 0.0087\n",
            "Epoch 14/100\n",
            "2553/2553 [==============================] - 18s 7ms/sample - loss: 0.0103 - val_loss: 0.0088\n",
            "Epoch 15/100\n",
            "2553/2553 [==============================] - 18s 7ms/sample - loss: 0.0103 - val_loss: 0.0087\n",
            "Epoch 16/100\n",
            "2553/2553 [==============================] - 18s 7ms/sample - loss: 0.0101 - val_loss: 0.0091\n",
            "Epoch 17/100\n",
            "2553/2553 [==============================] - 18s 7ms/sample - loss: 0.0102 - val_loss: 0.0086\n",
            "Epoch 18/100\n",
            "2553/2553 [==============================] - 18s 7ms/sample - loss: 0.0102 - val_loss: 0.0086\n",
            "Epoch 19/100\n",
            "2553/2553 [==============================] - 18s 7ms/sample - loss: 0.0101 - val_loss: 0.0086\n",
            "Epoch 20/100\n",
            "2553/2553 [==============================] - 18s 7ms/sample - loss: 0.0101 - val_loss: 0.0089\n",
            "Epoch 21/100\n",
            "2553/2553 [==============================] - 18s 7ms/sample - loss: 0.0100 - val_loss: 0.0112\n",
            "Epoch 22/100\n",
            "2553/2553 [==============================] - 19s 7ms/sample - loss: 0.0101 - val_loss: 0.0086\n",
            "Epoch 23/100\n",
            "2553/2553 [==============================] - 18s 7ms/sample - loss: 0.0101 - val_loss: 0.0087\n",
            "Epoch 24/100\n",
            "2553/2553 [==============================] - 18s 7ms/sample - loss: 0.0101 - val_loss: 0.0087\n",
            "Epoch 25/100\n",
            "2553/2553 [==============================] - 18s 7ms/sample - loss: 0.0101 - val_loss: 0.0086\n",
            "Epoch 26/100\n",
            "2553/2553 [==============================] - 18s 7ms/sample - loss: 0.0101 - val_loss: 0.0091\n",
            "Epoch 27/100\n",
            "2553/2553 [==============================] - 18s 7ms/sample - loss: 0.0101 - val_loss: 0.0086\n",
            "Epoch 28/100\n",
            "2553/2553 [==============================] - 18s 7ms/sample - loss: 0.0100 - val_loss: 0.0093\n",
            "Epoch 29/100\n",
            "2553/2553 [==============================] - 18s 7ms/sample - loss: 0.0101 - val_loss: 0.0099\n",
            "Epoch 30/100\n",
            "2553/2553 [==============================] - 18s 7ms/sample - loss: 0.0100 - val_loss: 0.0091\n",
            "Epoch 31/100\n",
            "2553/2553 [==============================] - 18s 7ms/sample - loss: 0.0100 - val_loss: 0.0086\n",
            "Epoch 32/100\n",
            "2553/2553 [==============================] - 18s 7ms/sample - loss: 0.0100 - val_loss: 0.0087\n",
            "Epoch 33/100\n",
            "2553/2553 [==============================] - 18s 7ms/sample - loss: 0.0099 - val_loss: 0.0087\n",
            "Epoch 34/100\n",
            "2553/2553 [==============================] - 18s 7ms/sample - loss: 0.0100 - val_loss: 0.0085\n",
            "Epoch 35/100\n",
            "2553/2553 [==============================] - 18s 7ms/sample - loss: 0.0100 - val_loss: 0.0085\n",
            "Epoch 36/100\n",
            "2553/2553 [==============================] - 18s 7ms/sample - loss: 0.0101 - val_loss: 0.0088\n",
            "Epoch 37/100\n",
            "2553/2553 [==============================] - 18s 7ms/sample - loss: 0.0100 - val_loss: 0.0088\n",
            "Epoch 38/100\n",
            "2553/2553 [==============================] - 18s 7ms/sample - loss: 0.0100 - val_loss: 0.0085\n",
            "Epoch 39/100\n",
            "2553/2553 [==============================] - 19s 7ms/sample - loss: 0.0100 - val_loss: 0.0087\n",
            "Epoch 40/100\n",
            "2553/2553 [==============================] - 18s 7ms/sample - loss: 0.0100 - val_loss: 0.0088\n",
            "Epoch 41/100\n",
            "2553/2553 [==============================] - 18s 7ms/sample - loss: 0.0100 - val_loss: 0.0086\n",
            "Epoch 42/100\n",
            "2553/2553 [==============================] - 18s 7ms/sample - loss: 0.0100 - val_loss: 0.0086\n",
            "Epoch 43/100\n",
            "2553/2553 [==============================] - 18s 7ms/sample - loss: 0.0100 - val_loss: 0.0091\n",
            "Epoch 44/100\n",
            "2553/2553 [==============================] - 18s 7ms/sample - loss: 0.0100 - val_loss: 0.0086\n",
            "Epoch 45/100\n",
            "2553/2553 [==============================] - 18s 7ms/sample - loss: 0.0099 - val_loss: 0.0086\n",
            "Epoch 46/100\n",
            "2553/2553 [==============================] - 18s 7ms/sample - loss: 0.0100 - val_loss: 0.0085\n",
            "Epoch 47/100\n",
            "2553/2553 [==============================] - 18s 7ms/sample - loss: 0.0100 - val_loss: 0.0091\n",
            "Epoch 48/100\n",
            "2553/2553 [==============================] - 18s 7ms/sample - loss: 0.0099 - val_loss: 0.0094\n",
            "Epoch 49/100\n",
            "2553/2553 [==============================] - 18s 7ms/sample - loss: 0.0100 - val_loss: 0.0085\n",
            "Epoch 50/100\n",
            "2553/2553 [==============================] - 18s 7ms/sample - loss: 0.0099 - val_loss: 0.0085\n",
            "Epoch 51/100\n",
            "2553/2553 [==============================] - 18s 7ms/sample - loss: 0.0100 - val_loss: 0.0088\n",
            "Epoch 52/100\n",
            "2553/2553 [==============================] - 18s 7ms/sample - loss: 0.0100 - val_loss: 0.0086\n",
            "Epoch 53/100\n",
            "2553/2553 [==============================] - 18s 7ms/sample - loss: 0.0099 - val_loss: 0.0086\n",
            "Epoch 54/100\n",
            "2553/2553 [==============================] - 18s 7ms/sample - loss: 0.0100 - val_loss: 0.0087\n",
            "Epoch 55/100\n",
            "2553/2553 [==============================] - 18s 7ms/sample - loss: 0.0099 - val_loss: 0.0085\n",
            "Epoch 56/100\n",
            "2553/2553 [==============================] - 19s 7ms/sample - loss: 0.0099 - val_loss: 0.0085\n",
            "Epoch 57/100\n",
            "2553/2553 [==============================] - 18s 7ms/sample - loss: 0.0099 - val_loss: 0.0088\n",
            "Epoch 58/100\n",
            "2553/2553 [==============================] - 18s 7ms/sample - loss: 0.0100 - val_loss: 0.0084\n",
            "Epoch 59/100\n",
            "2553/2553 [==============================] - 18s 7ms/sample - loss: 0.0099 - val_loss: 0.0089\n",
            "Epoch 60/100\n",
            "2553/2553 [==============================] - 18s 7ms/sample - loss: 0.0099 - val_loss: 0.0088\n",
            "Epoch 61/100\n",
            "2553/2553 [==============================] - 18s 7ms/sample - loss: 0.0099 - val_loss: 0.0084\n",
            "Epoch 62/100\n",
            "2553/2553 [==============================] - 18s 7ms/sample - loss: 0.0099 - val_loss: 0.0087\n",
            "Epoch 63/100\n",
            "2553/2553 [==============================] - 18s 7ms/sample - loss: 0.0099 - val_loss: 0.0084\n",
            "Epoch 64/100\n",
            "2553/2553 [==============================] - 18s 7ms/sample - loss: 0.0100 - val_loss: 0.0086\n",
            "Epoch 65/100\n",
            "2553/2553 [==============================] - 18s 7ms/sample - loss: 0.0099 - val_loss: 0.0084\n",
            "Epoch 66/100\n",
            "2553/2553 [==============================] - 18s 7ms/sample - loss: 0.0099 - val_loss: 0.0085\n",
            "Epoch 67/100\n",
            "2553/2553 [==============================] - 18s 7ms/sample - loss: 0.0099 - val_loss: 0.0084\n",
            "Epoch 68/100\n",
            "2553/2553 [==============================] - 18s 7ms/sample - loss: 0.0098 - val_loss: 0.0089\n",
            "Epoch 69/100\n",
            "2553/2553 [==============================] - 18s 7ms/sample - loss: 0.0099 - val_loss: 0.0085\n",
            "Epoch 70/100\n",
            "2553/2553 [==============================] - 18s 7ms/sample - loss: 0.0099 - val_loss: 0.0086\n",
            "Epoch 71/100\n",
            "2553/2553 [==============================] - 18s 7ms/sample - loss: 0.0099 - val_loss: 0.0084\n",
            "Epoch 72/100\n",
            "2553/2553 [==============================] - 18s 7ms/sample - loss: 0.0098 - val_loss: 0.0085\n",
            "Epoch 73/100\n",
            "2553/2553 [==============================] - 19s 7ms/sample - loss: 0.0098 - val_loss: 0.0084\n",
            "Epoch 74/100\n",
            "2553/2553 [==============================] - 19s 7ms/sample - loss: 0.0098 - val_loss: 0.0092\n",
            "Epoch 75/100\n",
            "2553/2553 [==============================] - 18s 7ms/sample - loss: 0.0099 - val_loss: 0.0085\n",
            "Epoch 76/100\n",
            "2553/2553 [==============================] - 18s 7ms/sample - loss: 0.0098 - val_loss: 0.0087\n",
            "Epoch 77/100\n",
            "2553/2553 [==============================] - 18s 7ms/sample - loss: 0.0099 - val_loss: 0.0086\n",
            "Epoch 78/100\n",
            "2553/2553 [==============================] - 19s 7ms/sample - loss: 0.0099 - val_loss: 0.0084\n",
            "Epoch 79/100\n",
            "2553/2553 [==============================] - 18s 7ms/sample - loss: 0.0099 - val_loss: 0.0084\n",
            "Epoch 80/100\n",
            "2553/2553 [==============================] - 18s 7ms/sample - loss: 0.0099 - val_loss: 0.0084\n",
            "Epoch 81/100\n",
            "2553/2553 [==============================] - 18s 7ms/sample - loss: 0.0099 - val_loss: 0.0086\n",
            "Epoch 82/100\n",
            "2553/2553 [==============================] - 18s 7ms/sample - loss: 0.0099 - val_loss: 0.0084\n",
            "Epoch 83/100\n",
            "2553/2553 [==============================] - 18s 7ms/sample - loss: 0.0098 - val_loss: 0.0086\n",
            "Epoch 84/100\n",
            "2553/2553 [==============================] - 18s 7ms/sample - loss: 0.0099 - val_loss: 0.0085\n",
            "Epoch 85/100\n",
            "2553/2553 [==============================] - 18s 7ms/sample - loss: 0.0098 - val_loss: 0.0085\n",
            "Epoch 86/100\n",
            "2553/2553 [==============================] - 18s 7ms/sample - loss: 0.0099 - val_loss: 0.0088\n",
            "Epoch 87/100\n",
            "2553/2553 [==============================] - 18s 7ms/sample - loss: 0.0099 - val_loss: 0.0084\n",
            "Epoch 88/100\n",
            "2553/2553 [==============================] - 18s 7ms/sample - loss: 0.0098 - val_loss: 0.0084\n",
            "Epoch 89/100\n",
            "2553/2553 [==============================] - 18s 7ms/sample - loss: 0.0099 - val_loss: 0.0084\n",
            "Epoch 90/100\n",
            "2553/2553 [==============================] - 19s 7ms/sample - loss: 0.0099 - val_loss: 0.0084\n",
            "Epoch 91/100\n",
            "2553/2553 [==============================] - 18s 7ms/sample - loss: 0.0099 - val_loss: 0.0084\n",
            "Epoch 92/100\n",
            "2553/2553 [==============================] - 18s 7ms/sample - loss: 0.0099 - val_loss: 0.0086\n",
            "Epoch 93/100\n",
            "2553/2553 [==============================] - 18s 7ms/sample - loss: 0.0099 - val_loss: 0.0085\n",
            "Epoch 94/100\n",
            "2553/2553 [==============================] - 18s 7ms/sample - loss: 0.0098 - val_loss: 0.0094\n",
            "Epoch 95/100\n",
            "2553/2553 [==============================] - 18s 7ms/sample - loss: 0.0098 - val_loss: 0.0084\n",
            "Epoch 96/100\n",
            "2553/2553 [==============================] - 18s 7ms/sample - loss: 0.0099 - val_loss: 0.0085\n",
            "Epoch 97/100\n",
            "2553/2553 [==============================] - 18s 7ms/sample - loss: 0.0098 - val_loss: 0.0087\n",
            "Epoch 98/100\n",
            "2553/2553 [==============================] - 18s 7ms/sample - loss: 0.0099 - val_loss: 0.0084\n",
            "Epoch 99/100\n",
            "2553/2553 [==============================] - 18s 7ms/sample - loss: 0.0099 - val_loss: 0.0084\n",
            "Epoch 100/100\n",
            "2553/2553 [==============================] - 18s 7ms/sample - loss: 0.0098 - val_loss: 0.0089\n"
          ],
          "name": "stdout"
        },
        {
          "output_type": "execute_result",
          "data": {
            "text/plain": [
              "<tensorflow.python.keras.callbacks.History at 0x7f857b254860>"
            ]
          },
          "metadata": {
            "tags": []
          },
          "execution_count": 44
        }
      ]
    },
    {
      "cell_type": "markdown",
      "metadata": {
        "id": "Z8oYd0wKfrPm",
        "colab_type": "text"
      },
      "source": [
        "### Make Predictions and Evaluate your model"
      ]
    },
    {
      "cell_type": "code",
      "metadata": {
        "id": "hr_ksBwvfrZ8",
        "colab_type": "code",
        "colab": {
          "base_uri": "https://localhost:8080/",
          "height": 50
        },
        "outputId": "72af8e6d-9d8d-4ac2-926a-5e417c4b0ed2"
      },
      "source": [
        "import math\n",
        "from sklearn.metrics import mean_squared_error\n",
        "\n",
        "trainPredict = model.predict(X_train, batch_size=1)\n",
        "\n",
        "model.reset_states()\n",
        "\n",
        "testPredict = model.predict(X_test, batch_size=1)\n",
        "\n",
        "# invert predictions\n",
        "trainPredict = scaler.inverse_transform(trainPredict)\n",
        "y_train = scaler.inverse_transform([y_train])\n",
        "testPredict = scaler.inverse_transform(testPredict)\n",
        "y_test = scaler.inverse_transform([y_test])\n",
        "\n",
        "# calculate root mean squared error\n",
        "trainScore = math.sqrt(mean_squared_error(y_train[0], trainPredict[:,0]))\n",
        "print('Train Score: %.2f RMSE' % (trainScore))\n",
        "testScore = math.sqrt(mean_squared_error(y_test[0], testPredict[:,0]))\n",
        "print('Test Score: %.2f RMSE' % (testScore))"
      ],
      "execution_count": 47,
      "outputs": [
        {
          "output_type": "stream",
          "text": [
            "Train Score: 2.63 RMSE\n",
            "Test Score: 2.48 RMSE\n"
          ],
          "name": "stdout"
        }
      ]
    },
    {
      "cell_type": "code",
      "metadata": {
        "id": "sZeaX2RIfx4Y",
        "colab_type": "code",
        "colab": {}
      },
      "source": [
        ""
      ],
      "execution_count": 0,
      "outputs": []
    }
  ]
}