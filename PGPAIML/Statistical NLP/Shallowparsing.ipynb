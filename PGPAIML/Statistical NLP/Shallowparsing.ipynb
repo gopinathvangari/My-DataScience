{
 "cells": [
  {
   "cell_type": "code",
   "execution_count": 1,
   "metadata": {
    "collapsed": true
   },
   "outputs": [],
   "source": [
    "import nltk\n",
    "import pprint\n",
    "import re\n",
    " \n",
    "def preprocess(doc):\n",
    "    sentences = nltk.sent_tokenize(doc)\n",
    "    sentences = [nltk.word_tokenize(sent) for sent in sentences]\n",
    "    sentences = [nltk.pos_tag(sent) for sent in sentences]\n",
    "    return sentences"
   ]
  },
  {
   "cell_type": "code",
   "execution_count": 2,
   "metadata": {
    "collapsed": true
   },
   "outputs": [],
   "source": [
    "doc = \"the blogger taught the reader how to parse\"\n",
    "sentence_ = preprocess(doc)"
   ]
  },
  {
   "cell_type": "code",
   "execution_count": 4,
   "metadata": {
    "collapsed": false
   },
   "outputs": [
    {
     "data": {
      "text/plain": [
       "[('the', 'DT'),\n",
       " ('blogger', 'NN'),\n",
       " ('taught', 'VBD'),\n",
       " ('the', 'DT'),\n",
       " ('reader', 'NN'),\n",
       " ('how', 'WRB'),\n",
       " ('to', 'TO'),\n",
       " ('parse', 'VB')]"
      ]
     },
     "execution_count": 4,
     "metadata": {},
     "output_type": "execute_result"
    }
   ],
   "source": [
    "sentence_[0]"
   ]
  },
  {
   "cell_type": "code",
   "execution_count": 20,
   "metadata": {
    "collapsed": false
   },
   "outputs": [],
   "source": [
    "\n",
    "import nltk\n",
    "grammar = \"NP: {<DT>?<JJ>*<NN>}\"\n",
    "NPChunker = nltk.RegexpParser(grammar)\n",
    "result = NPChunker.parse(sentence_[0])\n",
    "result.draw()"
   ]
  },
  {
   "cell_type": "code",
   "execution_count": 11,
   "metadata": {
    "collapsed": false
   },
   "outputs": [
    {
     "data": {
      "text/plain": [
       "<chunk.RegexpParser with 1 stages>"
      ]
     },
     "execution_count": 11,
     "metadata": {},
     "output_type": "execute_result"
    }
   ],
   "source": [
    "NPChunker"
   ]
  },
  {
   "cell_type": "code",
   "execution_count": 26,
   "metadata": {
    "collapsed": true
   },
   "outputs": [],
   "source": [
    "import nltk\n",
    "grammar = \"NP: {<DT>?<JJ>*<VB>}\"\n",
    "NPChunker = nltk.RegexpParser(grammar)\n",
    "result = NPChunker.parse(sentence_[0])\n",
    "result.draw()"
   ]
  },
  {
   "cell_type": "code",
   "execution_count": null,
   "metadata": {
    "collapsed": true
   },
   "outputs": [],
   "source": [
    "doc = \"a beautiful young lady is walki\"\n",
    "sentence_ = preprocess(doc)"
   ]
  }
 ],
 "metadata": {
  "anaconda-cloud": {},
  "kernelspec": {
   "display_name": "Python [tensorflow_env]",
   "language": "python",
   "name": "Python [tensorflow_env]"
  },
  "language_info": {
   "codemirror_mode": {
    "name": "ipython",
    "version": 3
   },
   "file_extension": ".py",
   "mimetype": "text/x-python",
   "name": "python",
   "nbconvert_exporter": "python",
   "pygments_lexer": "ipython3",
   "version": "3.5.5"
  }
 },
 "nbformat": 4,
 "nbformat_minor": 0
}
