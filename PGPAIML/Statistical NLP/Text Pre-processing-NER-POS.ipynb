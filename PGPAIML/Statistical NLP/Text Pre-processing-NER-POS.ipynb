{
 "cells": [
  {
   "cell_type": "markdown",
   "metadata": {
    "colab_type": "text",
    "id": "qgy1Jzg-wyRp"
   },
   "source": [
    "# Data retrieval"
   ]
  },
  {
   "cell_type": "code",
   "execution_count": 1,
   "metadata": {
    "colab": {},
    "colab_type": "code",
    "id": "-Z1V23urwyRr"
   },
   "outputs": [],
   "source": [
    "import requests\n",
    "from bs4 import BeautifulSoup\n",
    "import pandas as pd\n",
    "import numpy as np\n",
    "import matplotlib.pyplot as plt\n",
    "import seaborn as sns\n",
    "import os\n",
    "\n",
    "%matplotlib inline"
   ]
  },
  {
   "cell_type": "code",
   "execution_count": 2,
   "metadata": {
    "colab": {},
    "colab_type": "code",
    "id": "Chgw6qBTwyRv"
   },
   "outputs": [],
   "source": [
    "url = 'https://inshorts.com/en/read/technology'"
   ]
  },
  {
   "cell_type": "code",
   "execution_count": 3,
   "metadata": {
    "colab": {},
    "colab_type": "code",
    "id": "Y6NOaNg-wyRy"
   },
   "outputs": [],
   "source": [
    "news_data = []"
   ]
  },
  {
   "cell_type": "code",
   "execution_count": 4,
   "metadata": {
    "colab": {},
    "colab_type": "code",
    "id": "21pavZKVwyR1",
    "outputId": "5de07033-f809-4202-de69-b7b34d97dcbf"
   },
   "outputs": [
    {
     "data": {
      "text/plain": [
       "['https:', '', 'inshorts.com', 'en', 'read', 'technology']"
      ]
     },
     "execution_count": 4,
     "metadata": {},
     "output_type": "execute_result"
    }
   ],
   "source": [
    "news_category = url.split('/')\n",
    "news_category"
   ]
  },
  {
   "cell_type": "code",
   "execution_count": 5,
   "metadata": {
    "colab": {},
    "colab_type": "code",
    "id": "zJ9sR2vgwyR7"
   },
   "outputs": [],
   "source": [
    "news_category = news_category[-1]"
   ]
  },
  {
   "cell_type": "code",
   "execution_count": 6,
   "metadata": {},
   "outputs": [
    {
     "data": {
      "text/plain": [
       "'technology'"
      ]
     },
     "execution_count": 6,
     "metadata": {},
     "output_type": "execute_result"
    }
   ],
   "source": [
    "news_category"
   ]
  },
  {
   "cell_type": "code",
   "execution_count": 7,
   "metadata": {
    "colab": {},
    "colab_type": "code",
    "id": "q9xSbV5BwyR-",
    "outputId": "3afc4e02-bb23-4907-d326-40baa7fefc58"
   },
   "outputs": [
    {
     "data": {
      "text/plain": [
       "b'<!doctype html>\\n<html lang=\"en\">\\n\\n<head>\\n  <meta charset=\"utf-8\" />\\n  <style>\\n    /* The Modal (background) */\\n    .modal_contact {\\n        display: none; /* Hidden by default */\\n        position: fixed; /* Stay in place */\\n        z-index: 8; /* Sit on top */\\n        left: 0;\\n        top: 0;\\n        width: 100%; /* Full width */\\n        height: 100%;\\n        overflow: auto; /* Enable scroll if needed */\\n        background-color: rgb(0,0,0); /* Fallback color */\\n        background-color: rgba(0,0,0,0.4); /* Black w/ opacity */\\n    }\\n\\n    /* Modal Content/Box */\\n    .modal-content {\\n        background-color: #fefefe;\\n        margin: 15% auto;\\n        padding: 20px !important;\\n        padding-top: 0 !important;\\n        /* border: 1px solid #888; */\\n        text-align: center;\\n        position: relative;\\n        border-radius: 6px;\\n    }\\n\\n    /* The Close Button */\\n    .close {\\n      left: 90%;\\n      color: #aaa;\\n      float: right;\\n      font-size: 28px;\\n      font-weight: bold;\\n    /* position: absolute; */\\n    /* bottom: 86%; */\\n    /* display: inline-block; */\\n    /* padding-left: 5%; */\\n    }\\n\\n    .close:hover,\\n    .close:focus {\\n        color: black;\\n        text-decoration: none;\\n        cursor: pointer;\\n    }\\n\\n    #myBtn {\\n      background: #999999;\\n      color: #ffffff;\\n      text-transform: uppercase;\\n      font-weight: bold;\\n      box-shadow: none;\\n      border-radius: 4px;\\n      border: none;\\n      font-size: .8rem;\\n      /* width: 8rem; */\\n      height: 2rem;\\n      line-height: 2rem;\\n    }\\n\\n    .contact {\\n      margin-bottom: 4%;\\n      clear: both;\\n    }\\n  </style>\\n\\n  \\n    \\n  <meta http-equiv=\"Content-Type\" content=\"text/html; charset=UTF-8\"/>\\n  <meta name=\"viewport\" content=\"width=device-width, initial-scale=1, maximum-scale=1.0, user-scalable=no\"/>\\n\\n  <meta http-equiv=\"X-UA-Compatible\" content=\"IE=edge\">\\n  <link rel=\"manifest\" href=\"manifest.json\">\\n\\n  <!-- Fallback to homescreen for Chrome   <39 on Android -->\\n  <meta name=\"mobile-web-app-capable\" content=\"yes\">\\n  <meta name=\"application-name\" content=\"inshorts\">\\n  <link rel=\"icon\" sizes=\"192x192\" href=\"https://assets.inshorts.com/website_assets/images/favicon.png\">\\n\\n  <!-- Add to homescreen for Safari on iOS -->\\n  <meta name=\"apple-mobile-web-app-capable\" content=\"yes\">\\n  <meta name=\"apple-mobile-web-app-status-bar-style\" content=\"#424242\">\\n  <meta name=\"apple-mobile-web-app-title\" content=\"inshorts\">\\n  <link rel=\"apple-touch-icon\" href=\"https://assets.inshorts.com/website_assets/images/favicon.png\">\\n\\n  <!-- Tile icon for Win8 (144x144 + tile color) -->\\n  <meta name=\"msapplication-TileImage\" content=\"fav/favicon.png\">\\n  <meta name=\"msapplication-TileColor\" content=\"#424242\">\\n\\n  <meta name=\"theme-color\" content=\"#424242\">\\n  <meta http-equiv=\"content-type\" content=\"text/html; charset=UTF-8\"/>\\n  <meta name=\"msapplication-navbutton-color\" content=\"#424242\">\\n  <meta name=\"apple-mobile-web-app-status-bar-style\" content=\"#424242\">\\n  <link rel=\"apple-touch-startup-image\" href=\"https://assets.inshorts.com/website_assets/images/favicon.png\">\\n  <meta name=\"apple-mobile-web-app-status-bar-style\" content=\"black-translucent\">\\n    <meta name=\"twitter:card\" content=\"app\"/>\\n  <meta name=\"twitter:site\" content=\"@inshorts\"/>\\n  <meta name=\"twitter:creator\" content=\"@inshorts\"/>\\n  <meta name=\"twitter:description\" content=\"Inshorts delivers news in less than 60 words, containing only the essential facts, compromising on anything that is close to opinionating and storytelling.\"/>\\n  <meta name=\"twitter:app:country\" content=\"IN\"/>\\n  <meta name=\"twitter:app:name:iphone\" content=\"Inshorts - Stay Informed\"/>\\n  <meta name=\"twitter:app:id:iphone\" content=\"892146527\"/>\\n  <meta name=\"twitter:app:url:iphone\" content=\"nis://news\"/>\\n  <meta name=\"twitter:app:name:ipad\" content=\"Inshorts - Stay Informed\"/>\\n  <meta name=\"twitter:app:id:ipad\" content=\"892146527\"/>\\n  <meta name=\"twitter:app:url:ipad\" content=\"nis://news\"/>\\n  <meta name=\"twitter:app:name:googleplay\" content=\"Inshorts - Stay Informed\"/>\\n  <meta name=\"twitter:app:id:googleplay\" content=\"com.nis.app\"/>\\n  <meta name=\"twitter:app:url:googleplay\" content=\"nis://news\"/>\\n\\n  <meta name=\"description\" content=\"Read technology news in English in less that 60 words and get updated with all top news and current affairs related to mobile, internet and computer in a fast and easy way with inshorts.\"/>\\n  <link href=\"https://inshorts.com/en/read/technology\" rel=\"canonical\" />\\n  <link href=\"https://inshorts.com/en/read/technology\" rel=\"alternate\" reflang=\"en\" />\\n  <meta name=\"apple-itunes-app\" content=\"app-id=892146527\">\\n  <meta name=\"google-play-app\" content=\"app-id=com.nis.app\">\\n\\n  <title>Technology News: Moblie News, Computer News in English with Inshorts</title>\\n  <!-- CSS  -->\\n  <link href=\\'https://fonts.googleapis.com/css?family=Roboto\\' rel=\\'stylesheet\\' type=\\'text/css\\'>\\n  <link href=\"https://fonts.googleapis.com/icon?family=Material+Icons\" rel=\"stylesheet\">\\n  <link rel=\"stylesheet\" href=\"https://cdnjs.cloudflare.com/ajax/libs/materialize/0.97.1/css/materialize.min.css\">\\n  <link href=\\'https://fonts.googleapis.com/css?family=Hind:500,600,400&subset=latin,devanagari\\' rel=\\'stylesheet\\' type=\\'text/css\\'>\\n  <link href=\"/dist/styles/main.css\" type=\"text/css\" rel=\"stylesheet\" media=\"screen,projection\"/>\\n  <link href=\"/dist/styles/index.css\" type=\"text/css\" rel=\"stylesheet\" media=\"screen,projection\"/>\\n  <link href=\"/dist/styles/read.css\" type=\"text/css\" rel=\"stylesheet\" media=\"screen,projection\"/>\\n  <link href=\"/dist/styles/news-card.css\" type=\"text/css\" rel=\"stylesheet\" media=\"screen,projection\"/>\\n  <link rel=\"icon\" type=\"image/png\" href=\"https://assets.inshorts.com/website_assets/images/favicon.png\" />\\n  <link rel=\"manifest\" href=\"/dist/manifest.json\">\\n  <script async=\\'async\\' src=\\'https://www.googletagservices.com/tag/js/gpt.js\\'></script>\\n  <script>\\n    var googletag = googletag || {};\\n    googletag.cmd = googletag.cmd || [];\\n    let top_banner_slot;\\n  </script>\\n\\n  <!-- Top banner for desktop-->\\n  <script>\\n    googletag.cmd.push(function() {\\n      \\n      \\n        //Top banner for desktop\\n        top_banner_slot = googletag.defineSlot(\\'/142919096/inshorts_website_728x90\\', [728, 90], \\'div-gpt-ad-1536585015617-0\\')\\n        .addService(googletag.pubads())\\n        .setCollapseEmptyDiv(true,true);\\n      \\n\\n      googletag.pubads().disableInitialLoad();\\n      googletag.pubads().enableSingleRequest();\\n      googletag.enableServices();\\n    });\\n  </script>\\n\\n</head>\\n<script>\\n  (function(i,s,o,g,r,a,m){i[\\'GoogleAnalyticsObject\\']=r;i[r]=i[r]||function(){\\n  (i[r].q=i[r].q||[]).push(arguments)},i[r].l=1*new Date();a=s.createElement(o),\\n  m=s.getElementsByTagName(o)[0];a.async=1;a.src=g;m.parentNode.insertBefore(a,m)\\n  })(window,document,\\'script\\',\\'//www.google-analytics.com/analytics.js\\',\\'ga\\');\\n\\n  ga(\\'create\\', \\'UA-55157535-6\\', \\'auto\\');\\n  ga(\\'send\\', \\'pageview\\');  \\n</script>\\n\\n<body>\\n\\n\\n  <!-- Begin comScore Tag -->\\n  <script>\\n    var _comscore = _comscore || [];\\n    _comscore.push({ c1: \"2\", c2: \"28268321\" });\\n    (function() {\\n      var s = document.createElement(\"script\"), el = document.getElementsByTagName(\"script\")[0]; s.async = true;\\n      s.src = (document.location.protocol == \"https:\" ? \"https://sb\" : \"http://b\") + \".scorecardresearch.com/beacon.js\";\\n      el.parentNode.insertBefore(s, el);\\n    })();\\n  </script>\\n  <noscript>\\n    <img src=\"https://sb.scorecardresearch.com/p?c1=2&c2=28268321&cv=2.0&cj=1\" />\\n  </noscript>\\n  \\n  \\n  <!-- HEADER START -->\\n  <div class=\"header z-depth-1\">\\n    <div class=\"menu clickable\">\\n      <button class=\"c-hamburger c-hamburger--htx\" ><span>toggle menu</span></button><span class=\"unselectable\">Menu</span>\\n    </div>\\n    <!--\\n    <div class=\"search-wrapper hide-on-small-only\">\\n      <input class=\"search-box\" placeholder=\"Search\" id=\"search\"/>\\n      <i id=\"search_icon\" class=\"material-icons search-icon\">search</i>\\n      <div class=\"search-box-ul\">&nbsp;</div>\\n    </div>\\n    -->\\n    <a href=\"/\"><img src=\"https://assets.inshorts.com/website_assets/images/logo_inshorts.png\" class=\"logo\"/></a>\\n  </div>\\n  <!-- HEADER END -->\\n\\n  \\n<!--SIDEBAR START -->\\n    <div class=\"hide-on-med-and-up sidebar-bg\" style=\"display: none;\">&nbsp;</div>\\n    <div class=\"sidebar\" style=\"overflow-y: scroll;\">\\n      <div class=\"lang-bar\" style=\"\">\\n        <div class=\"lang-selector clickable\">\\n          <a href=\\'/en/read/technology\\'><div class=\"lang-en selected\">English</div></a>\\n          <a href=\\'/hi/read/technology\\'><div class=\"lang-hi \">\\xe0\\xa4\\xb9\\xe0\\xa4\\xbf\\xe0\\xa4\\xa8\\xe0\\xa5\\x8d\\xe0\\xa4\\xa6\\xe0\\xa5\\x80</div></a>\\n        </div>\\n      </div>\\n\\n      <div>\\n        <div class=\"category-header\">Categories</div>\\n        <ul class=\"category-list\">\\n\\n          <a onclick=\"ga(\\'send\\', {\\'hitType\\': \\'event\\', \\'eventCategory\\': \\'LinkToAllNews\\', \\'eventAction\\': \\'clicked\\', \\'eventLabel\\': \\'RedirectedToAllNews\\' });\" href=\\'/en/read\\'> <li class=\"active-category \" >All News</li> </a>\\n\\n\\n          <a onclick=\"ga(\\'send\\', {\\'hitType\\': \\'event\\', \\'eventCategory\\': \\'LinkToIndiaNews\\', \\'eventAction\\': \\'clicked\\', \\'eventLabel\\': \\'RedirectedToIndiaNews\\' });\" href=\\'/en/read/national\\'> <li class=\"active-category \">India</li> </a>\\n\\n          <a onclick=\"ga(\"send\", {\"hitType\": \"event\", \"eventCategory\": \"LinkToIndiaNews\", \"eventAction\": \"clicked\", \"eventLabel\":  \"RedirectedToIndiaNews\" });\"  href=\\'/en/read/business\\'> <li class=\"active-category \">Business</li> </a>\\n\\n          <a onclick=\"ga(\\'send\\', {\\'hitType\\': \\'event\\', \\'eventCategory\\': \\'LinkTosportsNews\\', \\'eventAction\\': \\'clicked\\', \\'eventLabel\\': \\'RedirectedToSportsNews\\' });\"  href=\\'/en/read/sports\\'> <li class=\"active-category \">Sports</li> </a>\\n          <a onclick=\"ga(\\'send\\', {\\'hitType\\': \\'event\\', \\'eventCategory\\': \\'LinkToworldNews\\', \\'eventAction\\': \\'clicked\\', \\'eventLabel\\': \\'RedirectedToworldNews\\' });\" href=\\'/en/read/world\\'> <li class=\"active-category \">World</li> </a>\\n\\n          <a onclick=\"ga(\\'send\\', {\\'hitType\\': \\'event\\', \\'eventCategory\\': \\'LinkToworldNews\\', \\'eventAction\\': \\'clicked\\',   \\'eventLabel\\': \\'RedirectedToworldNews\\' });\"  href=\\'/en/read/politics\\'> <li class=\"active-category \">Politics</li> </a>\\n          <a onclick=\"ga(\\'send\\', {\\'hitType\\': \\'event\\', \\'eventCategory\\': \\'LinkTotechnologyNews\\', \\'eventAction\\': \\'clicked\\', \\'eventLabel\\': \\'RedirectedTotechnologyNews\\' });\" href=\\'/en/read/technology\\'> <li class=\"active-category selected\">Technology</li> </a>\\n\\n          <a onclick=\"ga(\\'send\\', {\\'hitType\\': \\'event\\', \\'eventCategory\\': \\'LinkTostartupNews\\', \\'eventAction\\': \\'clicked\\', \\'eventLabel\\': \\'RedirectedTostartupNews\\' });\"  href=\\'/en/read/startup\\'> <li class=\"active-category \">Startup</li> </a>\\n\\n\\n          <a onclick=\"ga(\\'send\\', {\\'hitType\\': \\'event\\', \\'eventCategory\\': \\'LinkToEntertainmentNews\\', \\'eventAction\\': \\'clicked\\', \\'eventLabel\\': \\'RedirectedToEntertainmentNews\\' });\"  href=\\'/en/read/entertainment\\'> <li class=\"active-category \">Entertainment</li> </a>\\n\\n\\n          <a onclick=\"ga(\\'send\\', {\\'hitType\\': \\'event\\', \\'eventCategory\\': \\'LinkToMiscellaneousNews\\', \\'eventAction\\': \\'clicked\\', \\'eventLabel\\': \\'RedirectedToMiscellaneousNews\\' });\"  href=\\'/en/read/miscellaneous\\'> <li class=\"active-category \">Miscellaneous</li> </a>\\n\\n          <a onclick=\"ga(\\'send\\', {\\'hitType\\': \\'event\\', \\'eventCategory\\': \\'LinkTohatkeNews\\', \\'eventAction\\': \\'clicked\\', \\'eventLabel\\': \\'RedirectedTohatkeNews\\' });\"  href=\\'/en/read/hatke\\'> <li class=\"active-category \">Hatke</li> </a>\\n\\n          <a onclick=\"ga(\\'send\\', {\\'hitType\\': \\'event\\', \\'eventCategory\\': \\'LinkToscienceNews\\', \\'eventAction\\': \\'clicked\\', \\'eventLabel\\': \\'RedirectedToscienceNews\\' });\"  href=\\'/en/read/science\\'> <li class=\"active-category \">Science</li> </a>\\n\\n          <a onclick=\"ga(\\'send\\', {\\'hitType\\': \\'event\\', \\'eventCategory\\': \\'LinkToautomobileNews\\', \\'eventAction\\': \\'clicked\\', \\'eventLabel\\': \\'RedirectedToautomobileNews\\' });\"  href=\\'/en/read/automobile\\'> <li class=\"active-category \">Automobile</li> </a>\\n\\n        </ul>\\n      </div>\\n    </div>\\n<!--SIDEBAR END -->\\n\\n  <!-- BODY START -->\\n  <div class=\"container\" style=\"min-height:550px;\">\\n    <div class=\"row\" style=\"padding-top:110px;\">\\n      \\n        <div id=\\'div-gpt-ad-1536585015617-0\\' style=\\'height:90px; width:728px;margin: auto; margin-bottom: 1%;\\'>\\n          <script>\\n          googletag.cmd.push(function() { \\n            googletag.display(\\'div-gpt-ad-1536585015617-0\\'); \\n            googletag.pubads().refresh([top_banner_slot]);\\n          });\\n          </script>\\n        </div>\\n      \\n      \\n\\n      \\n      <div class=\"hide-on-med-and-down z-depth-1\" style=\"margin-left : auto;margin-right : auto;margin-bottom: 32px;width : 900px;height:48px;background: #f44336\">\\n        <div style=\"font-weight: 300;color:white !important;font-size:14px;margin-left: 48px;margin-top: 13px;position: absolute;display: block;\">\\n          For the best experience use <a target=\"_blank\" href=\"https://inshorts.com/mobile\" style=\"color:white;appearance: none;font-weight: 500;\">inshorts</a> app on your smartphone\\n        </div>\\n        \\n        <a onclick=\"ga(\\'send\\', {\\'hitType\\': \\'event\\', \\'eventCategory\\': \\'DownloadApp\\', \\'eventAction\\': \\'clicked\\', \\'eventLabel\\': \\'RedirectedToApplePlayStore\\' });\" target=\"_blank\"   href=\"https://itunes.apple.com/us/app/news-in-shorts/id892146527\"><img class=\"col l2 m2\" src=\"https://assets.inshorts.com/website_assets/images/appstore.png\" style=\"margin-top:5px;margin-left:550px;\"/></a>\\n        \\n        \\n        <a  onclick=\"ga(\\'send\\', {\\'hitType\\': \\'event\\', \\'eventCategory\\': \\'DownloadApp\\', \\'eventAction\\': \\'clicked\\', \\'eventLabel\\': \\'RedirectedToGooglePlayStore\\' });\" target=\"_blank\" href=\"https://play.google.com/store/apps/details?id=com.nis.app&referrer=utm_source%3DNews%2520In%2520Shorts%2520Website\"><img style=\"margin-top:5px;\" class=\"col l2 m2\" src=\"https://assets.inshorts.com/website_assets/images/playstore.png\"/></a>\\n        \\n      </div>\\n      \\n      <div class=\"card-stack\">\\n        \\n\\n\\n\\n\\n\\n<div class=\"\">\\n<div class=\"news-card z-depth-1\" itemscope itemtype=\"http://schema.org/NewsArticle\">\\n  <span content=\"\" itemscope itemprop=\"mainEntityOfPage\" itemType=\"https://schema.org/WebPage\" itemid=\"https://inshorts.com/en/news/oneplus-launches-new-brand-campaign-featuring-robert-downey-jr-1557993274196\"></span>\\n  <span itemtype=\"https://schema.org/Person\" itemscope=\"itemscope\" itemprop=\"author\">\\n    <span itemprop=\"name\" content=\"Roshan Gupta\"></span>\\n  </span>\\n  <span itemprop=\"description\" content=\"OnePlus launches new brand campaign featuring Robert Downey Jr.\"></span>\\n  <span itemprop=\"image\" itemscope itemtype=\"https://schema.org/ImageObject\">\\n    <meta itemprop=\"url\" content=\"https://assets.inshorts.com/inshorts/images/v1/variants/jpg/m/2019/05_may/16_thu/img_1557993160450_223.jpg\"></meta>\\n    <meta itemprop=\"width\" content=\"864\"></meta>\\n    <meta itemprop=\"height\" content=\"483\"></meta>\\n  </span>\\n  <span itemtype=\"https://schema.org/Organization\" itemscope=\"itemscope\" itemprop=\"publisher\">\\n    <span itemprop=\"url\" content=\"https://inshorts.com/\"></span>\\n    <span itemprop=\"name\" content=\"Inshorts\"></span>\\n    <span itemprop=\"logo\" itemscope itemtype=\"https://schema.org/ImageObject\">\\n      <span itemprop=\"url\" content=\"https://assets.inshorts.com/inshorts/images/v1/variants/jpg/m/2018/11_nov/21_wed/img_1542823931298_497.jpg\"></span>\\n      <meta itemprop=\"width\" content=\"400\"></meta>\\n      <meta itemprop=\"height\" content=\"60\"></meta>\\n    </span>\\n  </span>\\n  <div class=\"news-card-image\" style= \"background-image: url(\\'https://assets.inshorts.com/inshorts/images/v1/variants/jpg/m/2019/05_may/16_thu/img_1557993160450_223.jpg?resize=400px:*\\')\">\\n  </div>\\n  <div class=\"news-card-title news-right-box\">\\n    <a class=\"clickable\" onclick=\"ga(\\'send\\', {\\'hitType\\': \\'event\\', \\'eventCategory\\': \\'TitleOfNews\\', \\'eventAction\\': \\'clicked\\', \\'eventLabel\\': \\'OnePlus%20launches%20new%20brand%20campaign%20featuring%20Robert%20Downey%20Jr.)\\' });\"  style=\"color:#44444d!important\" href=\"/en/news/oneplus-launches-new-brand-campaign-featuring-robert-downey-jr-1557993274196\">\\n      <span itemprop=\"headline\">OnePlus launches new brand campaign featuring Robert Downey Jr.</span>\\n    </a>\\n    <div class=\"news-card-author-time news-card-author-time-in-title\">\\n      <a href=\"/prev/en/news/oneplus-launches-new-brand-campaign-featuring-robert-downey-jr-1557993274196\"><span class=\"short\">short</span></a> by <span class=\"author\">Roshan Gupta</span> / \\n      <span class=\"time\" itemprop=\"datePublished\" content=\"2019-05-16T07:54:34.000Z\">01:24 pm</span> on <span clas=\"date\">16 May 2019,Thursday</span>\\n    </div>\\n  </div>\\n  <div class=\"news-card-content news-right-box\">\\n    <div itemprop=\"articleBody\">OnePlus has unveiled its latest brand campaign featuring Robert Downey Jr. Commenting on the association, Robert said, &#34;It&#39;s cool to see a young brand disrupting the tech landscape...In checking out the upcoming OnePlus 7 Pro the attention to detail coupled with the innovative design was truly impressive.&#34; &#34;Nobody could represent what we stand for better,&#34; added OnePlus founder, Pete Lau.</div>\\n    <div class=\"news-card-author-time news-card-author-time-in-content\">\\n      <a href=\"/prev/en/news/oneplus-launches-new-brand-campaign-featuring-robert-downey-jr-1557993274196\"><span class=\"short\">short</span></a> by <span class=\"author\">Roshan Gupta</span> / \\n      <span class=\"time\" itemprop=\"dateModified\" content=\"2019-05-16T07:54:34.000Z\" >01:24 pm</span> on <span class=\"date\">16 May</span>\\n    </div>\\n  </div>\\n  \\n    <div class=\"news-card-footer news-right-box\">\\n      <div class=\"read-more\">read more at <a class=\"source\" onclick=\"ga(\\'send\\', {\\'hitType\\': \\'event\\', \\'eventCategory\\': \\'ReadMore\\', \\'eventAction\\': \\'clicked\\', \\'eventLabel\\': \\'Times%20Now\\' });\" target=\"_blank\" href=\"https://www.timesnownews.com/technology-science/article/imagine-iron-man-using-a-oneplus-phone-robert-downey-jr-to-feature-in-new-oneplus-7-pro-brand-campaign/419837?utm_campaign=fullarticle&amp;utm_medium=referral&amp;utm_source=inshorts \">Times Now</a></div>\\n    </div>\\n  \\n\\n</div>\\n\\n  \\n</div>\\n\\n\\n\\n\\n<div class=\"\">\\n<div class=\"news-card z-depth-1\" itemscope itemtype=\"http://schema.org/NewsArticle\">\\n  <span content=\"\" itemscope itemprop=\"mainEntityOfPage\" itemType=\"https://schema.org/WebPage\" itemid=\"https://inshorts.com/en/news/oneplus-7-pro-goes-on-sale-in-india-1558078550909\"></span>\\n  <span itemtype=\"https://schema.org/Person\" itemscope=\"itemscope\" itemprop=\"author\">\\n    <span itemprop=\"name\" content=\"Roshan Gupta\"></span>\\n  </span>\\n  <span itemprop=\"description\" content=\"OnePlus 7 Pro goes on sale in India\"></span>\\n  <span itemprop=\"image\" itemscope itemtype=\"https://schema.org/ImageObject\">\\n    <meta itemprop=\"url\" content=\"https://assets.inshorts.com/inshorts/images/v1/variants/jpg/m/2019/05_may/17_fri/img_1558078128122_277.jpg\"></meta>\\n    <meta itemprop=\"width\" content=\"864\"></meta>\\n    <meta itemprop=\"height\" content=\"483\"></meta>\\n  </span>\\n  <span itemtype=\"https://schema.org/Organization\" itemscope=\"itemscope\" itemprop=\"publisher\">\\n    <span itemprop=\"url\" content=\"https://inshorts.com/\"></span>\\n    <span itemprop=\"name\" content=\"Inshorts\"></span>\\n    <span itemprop=\"logo\" itemscope itemtype=\"https://schema.org/ImageObject\">\\n      <span itemprop=\"url\" content=\"https://assets.inshorts.com/inshorts/images/v1/variants/jpg/m/2018/11_nov/21_wed/img_1542823931298_497.jpg\"></span>\\n      <meta itemprop=\"width\" content=\"400\"></meta>\\n      <meta itemprop=\"height\" content=\"60\"></meta>\\n    </span>\\n  </span>\\n  <div class=\"news-card-image\" style= \"background-image: url(\\'https://assets.inshorts.com/inshorts/images/v1/variants/jpg/m/2019/05_may/17_fri/img_1558078128122_277.jpg?resize=400px:*\\')\">\\n  </div>\\n  <div class=\"news-card-title news-right-box\">\\n    <a class=\"clickable\" onclick=\"ga(\\'send\\', {\\'hitType\\': \\'event\\', \\'eventCategory\\': \\'TitleOfNews\\', \\'eventAction\\': \\'clicked\\', \\'eventLabel\\': \\'OnePlus%207%20Pro%20goes%20on%20sale%20in%20India)\\' });\"  style=\"color:#44444d!important\" href=\"/en/news/oneplus-7-pro-goes-on-sale-in-india-1558078550909\">\\n      <span itemprop=\"headline\">OnePlus 7 Pro goes on sale in India</span>\\n    </a>\\n    <div class=\"news-card-author-time news-card-author-time-in-title\">\\n      <a href=\"/prev/en/news/oneplus-7-pro-goes-on-sale-in-india-1558078550909\"><span class=\"short\">short</span></a> by <span class=\"author\">Roshan Gupta</span> / \\n      <span class=\"time\" itemprop=\"datePublished\" content=\"2019-05-17T07:35:50.000Z\">01:05 pm</span> on <span clas=\"date\">17 May 2019,Friday</span>\\n    </div>\\n  </div>\\n  <div class=\"news-card-content news-right-box\">\\n    <div itemprop=\"articleBody\">A few days after its official launch, OnePlus 7 Pro is available for sale at a starting price of \\xe2\\x82\\xb948,999 on Amazon India, OnePlus online, offline and partner stores. Buyers can avail up to \\xe2\\x82\\xb92,000 cashback on purchase using SBI debit and credit cards, along with benefits from Jio worth \\xe2\\x82\\xb99,300, and buyback value of 70% on exchange through Servify.</div>\\n    <div class=\"news-card-author-time news-card-author-time-in-content\">\\n      <a href=\"/prev/en/news/oneplus-7-pro-goes-on-sale-in-india-1558078550909\"><span class=\"short\">short</span></a> by <span class=\"author\">Roshan Gupta</span> / \\n      <span class=\"time\" itemprop=\"dateModified\" content=\"2019-05-17T07:35:50.000Z\" >01:05 pm</span> on <span class=\"date\">17 May</span>\\n    </div>\\n  </div>\\n  \\n    <div class=\"news-card-footer news-right-box\">\\n      <div class=\"read-more\">read more at <a class=\"source\" onclick=\"ga(\\'send\\', {\\'hitType\\': \\'event\\', \\'eventCategory\\': \\'ReadMore\\', \\'eventAction\\': \\'clicked\\', \\'eventLabel\\': \\'Livemint\\' });\" target=\"_blank\" href=\"https://www.livemint.com/technology/tech-news/oneplus-7-pro-first-sale-not-all-variants-would-be-made-available-tomorrow-1558014686108.html?utm_campaign=fullarticle&amp;utm_medium=referral&amp;utm_source=inshorts \">Livemint</a></div>\\n    </div>\\n  \\n\\n</div>\\n\\n  \\n</div>\\n\\n\\n\\n\\n<div class=\"\">\\n<div class=\"news-card z-depth-1\" itemscope itemtype=\"http://schema.org/NewsArticle\">\\n  <span content=\"\" itemscope itemprop=\"mainEntityOfPage\" itemType=\"https://schema.org/WebPage\" itemid=\"https://inshorts.com/en/news/microsoft-unveils-worlds-first-whisky-developed-with-ai-1558026038371\"></span>\\n  <span itemtype=\"https://schema.org/Person\" itemscope=\"itemscope\" itemprop=\"author\">\\n    <span itemprop=\"name\" content=\"Kanishka Pandey\"></span>\\n  </span>\\n  <span itemprop=\"description\" content=\"Microsoft unveils world&#39;s first whisky developed with AI\"></span>\\n  <span itemprop=\"image\" itemscope itemtype=\"https://schema.org/ImageObject\">\\n    <meta itemprop=\"url\" content=\"https://assets.inshorts.com/inshorts/images/v1/variants/jpg/m/2019/05_may/16_thu/img_1558020082303_739.jpg\"></meta>\\n    <meta itemprop=\"width\" content=\"864\"></meta>\\n    <meta itemprop=\"height\" content=\"483\"></meta>\\n  </span>\\n  <span itemtype=\"https://schema.org/Organization\" itemscope=\"itemscope\" itemprop=\"publisher\">\\n    <span itemprop=\"url\" content=\"https://inshorts.com/\"></span>\\n    <span itemprop=\"name\" content=\"Inshorts\"></span>\\n    <span itemprop=\"logo\" itemscope itemtype=\"https://schema.org/ImageObject\">\\n      <span itemprop=\"url\" content=\"https://assets.inshorts.com/inshorts/images/v1/variants/jpg/m/2018/11_nov/21_wed/img_1542823931298_497.jpg\"></span>\\n      <meta itemprop=\"width\" content=\"400\"></meta>\\n      <meta itemprop=\"height\" content=\"60\"></meta>\\n    </span>\\n  </span>\\n  <div class=\"news-card-image\" style= \"background-image: url(\\'https://assets.inshorts.com/inshorts/images/v1/variants/jpg/m/2019/05_may/16_thu/img_1558020082303_739.jpg?resize=400px:*\\')\">\\n  </div>\\n  <div class=\"news-card-title news-right-box\">\\n    <a class=\"clickable\" onclick=\"ga(\\'send\\', {\\'hitType\\': \\'event\\', \\'eventCategory\\': \\'TitleOfNews\\', \\'eventAction\\': \\'clicked\\', \\'eventLabel\\': \\'Microsoft%20unveils%20world&#39;s%20first%20whisky%20developed%20with%20AI)\\' });\"  style=\"color:#44444d!important\" href=\"/en/news/microsoft-unveils-worlds-first-whisky-developed-with-ai-1558026038371\">\\n      <span itemprop=\"headline\">Microsoft unveils world&#39;s first whisky developed with AI</span>\\n    </a>\\n    <div class=\"news-card-author-time news-card-author-time-in-title\">\\n      <a href=\"/prev/en/news/microsoft-unveils-worlds-first-whisky-developed-with-ai-1558026038371\"><span class=\"short\">short</span></a> by <span class=\"author\">Kanishka Pandey</span> / \\n      <span class=\"time\" itemprop=\"datePublished\" content=\"2019-05-16T17:00:38.000Z\">10:30 pm</span> on <span clas=\"date\">16 May 2019,Thursday</span>\\n    </div>\\n  </div>\\n  <div class=\"news-card-content news-right-box\">\\n    <div itemprop=\"articleBody\">Microsoft has unveiled world&#39;s first whisky developed with artificial intelligence (AI). The software giant worked with Finnish technology firm Fourkind and Sweden-based distillery Mackmyra. &#34;With [Mackmyra&#39;s] dataset, the AI can generate over 70 million recipes that it predicts will be popular and of the highest quality based on what kind of cask types there are in warehouse,&#34; Microsoft said.</div>\\n    <div class=\"news-card-author-time news-card-author-time-in-content\">\\n      <a href=\"/prev/en/news/microsoft-unveils-worlds-first-whisky-developed-with-ai-1558026038371\"><span class=\"short\">short</span></a> by <span class=\"author\">Kanishka Pandey</span> / \\n      <span class=\"time\" itemprop=\"dateModified\" content=\"2019-05-16T17:00:38.000Z\" >10:30 pm</span> on <span class=\"date\">16 May</span>\\n    </div>\\n  </div>\\n  \\n    <div class=\"news-card-footer news-right-box\">\\n      <div class=\"read-more\">read more at <a class=\"source\" onclick=\"ga(\\'send\\', {\\'hitType\\': \\'event\\', \\'eventCategory\\': \\'ReadMore\\', \\'eventAction\\': \\'clicked\\', \\'eventLabel\\': \\'NewsBytes\\' });\" target=\"_blank\" href=\"https://www.newsbytesapp.com/timeline/Science/46187/208877/ai-can-make-some-mind-boggling-whisky?utm_campaign=fullarticle&amp;utm_medium=referral&amp;utm_source=inshorts \">NewsBytes</a></div>\\n    </div>\\n  \\n\\n</div>\\n\\n  \\n</div>\\n\\n\\n\\n\\n<div class=\"\">\\n<div class=\"news-card z-depth-1\" itemscope itemtype=\"http://schema.org/NewsArticle\">\\n  <span content=\"\" itemscope itemprop=\"mainEntityOfPage\" itemType=\"https://schema.org/WebPage\" itemid=\"https://inshorts.com/en/news/\\xe2\\x82\\xb91000-tech-bypasses-rules-sends-1l-whatsapp-texts-a-day-reuters-1557927336399\"></span>\\n  <span itemtype=\"https://schema.org/Person\" itemscope=\"itemscope\" itemprop=\"author\">\\n    <span itemprop=\"name\" content=\"Gaurav Shroff\"></span>\\n  </span>\\n  <span itemprop=\"description\" content=\"\\xe2\\x82\\xb91,000 tech bypasses rules, sends 1L WhatsApp texts a day: Reuters\"></span>\\n  <span itemprop=\"image\" itemscope itemtype=\"https://schema.org/ImageObject\">\\n    <meta itemprop=\"url\" content=\"https://assets.inshorts.com/inshorts/images/v1/variants/jpg/m/2019/05_may/15_wed/img_1557919237994_760.jpg\"></meta>\\n    <meta itemprop=\"width\" content=\"864\"></meta>\\n    <meta itemprop=\"height\" content=\"483\"></meta>\\n  </span>\\n  <span itemtype=\"https://schema.org/Organization\" itemscope=\"itemscope\" itemprop=\"publisher\">\\n    <span itemprop=\"url\" content=\"https://inshorts.com/\"></span>\\n    <span itemprop=\"name\" content=\"Inshorts\"></span>\\n    <span itemprop=\"logo\" itemscope itemtype=\"https://schema.org/ImageObject\">\\n      <span itemprop=\"url\" content=\"https://assets.inshorts.com/inshorts/images/v1/variants/jpg/m/2018/11_nov/21_wed/img_1542823931298_497.jpg\"></span>\\n      <meta itemprop=\"width\" content=\"400\"></meta>\\n      <meta itemprop=\"height\" content=\"60\"></meta>\\n    </span>\\n  </span>\\n  <div class=\"news-card-image\" style= \"background-image: url(\\'https://assets.inshorts.com/inshorts/images/v1/variants/jpg/m/2019/05_may/15_wed/img_1557919237994_760.jpg?resize=400px:*\\')\">\\n  </div>\\n  <div class=\"news-card-title news-right-box\">\\n    <a class=\"clickable\" onclick=\"ga(\\'send\\', {\\'hitType\\': \\'event\\', \\'eventCategory\\': \\'TitleOfNews\\', \\'eventAction\\': \\'clicked\\', \\'eventLabel\\': \\'%E2%82%B91%2C000%20tech%20bypasses%20rules%2C%20sends%201L%20WhatsApp%20texts%20a%20day%3A%20Reuters)\\' });\"  style=\"color:#44444d!important\" href=\"/en/news/\\xe2\\x82\\xb91000-tech-bypasses-rules-sends-1l-whatsapp-texts-a-day-reuters-1557927336399\">\\n      <span itemprop=\"headline\">\\xe2\\x82\\xb91,000 tech bypasses rules, sends 1L WhatsApp texts a day: Reuters</span>\\n    </a>\\n    <div class=\"news-card-author-time news-card-author-time-in-title\">\\n      <a href=\"/prev/en/news/\\xe2\\x82\\xb91000-tech-bypasses-rules-sends-1l-whatsapp-texts-a-day-reuters-1557927336399\"><span class=\"short\">short</span></a> by <span class=\"author\">Gaurav Shroff</span> / \\n      <span class=\"time\" itemprop=\"datePublished\" content=\"2019-05-15T13:35:36.000Z\">07:05 pm</span> on <span clas=\"date\">15 May 2019,Wednesday</span>\\n    </div>\\n  </div>\\n  <div class=\"news-card-content news-right-box\">\\n    <div itemprop=\"articleBody\">Indian digital marketers are using \\xe2\\x82\\xb91,000 software tools that allow to bypass WhatsApp forwarding restrictions amid the ongoing elections, Reuters reported. New Delhi-based Rohitash Repswal said he sent up to 1,00,000 messages a day for two politicians. Repswal added he charges \\xe2\\x82\\xb91.5 lakh a month for sending 3 lakh messages. We work to ban users of such software, WhatsApp responded.</div>\\n    <div class=\"news-card-author-time news-card-author-time-in-content\">\\n      <a href=\"/prev/en/news/\\xe2\\x82\\xb91000-tech-bypasses-rules-sends-1l-whatsapp-texts-a-day-reuters-1557927336399\"><span class=\"short\">short</span></a> by <span class=\"author\">Gaurav Shroff</span> / \\n      <span class=\"time\" itemprop=\"dateModified\" content=\"2019-05-15T13:35:36.000Z\" >07:05 pm</span> on <span class=\"date\">15 May</span>\\n    </div>\\n  </div>\\n  \\n    <div class=\"news-card-footer news-right-box\">\\n      <div class=\"read-more\">read more at <a class=\"source\" onclick=\"ga(\\'send\\', {\\'hitType\\': \\'event\\', \\'eventCategory\\': \\'ReadMore\\', \\'eventAction\\': \\'clicked\\', \\'eventLabel\\': \\'Reuters\\' });\" target=\"_blank\" href=\"https://in.reuters.com/article/india-election-socialmedia-whatsapp/in-india-election-a-14-software-tool-helps-overcome-whatsapp-controls-idINKCN1SL0PZ?utm_campaign=fullarticle&amp;utm_medium=referral&amp;utm_source=inshorts \">Reuters</a></div>\\n    </div>\\n  \\n\\n</div>\\n\\n  \\n</div>\\n\\n\\n\\n\\n  \\n    <div id=\\'div-gpt-ad-1536748319959-sdcdqoti-1\\' style=\\'height:250px; width:900px; margin: auto; margin-bottom: 2%;\\'>\\n      <script>\\n        googletag.cmd.push(function() { \\n          //News banner for desktop\\n          var slotIdWeb = \\'div-gpt-ad-1536748319959-sdcdqoti-1\\';\\n          var slot = googletag.defineSlot(\\'/142919096/inshorts_website_900x250\\', [900, 250], slotIdWeb)\\n          .addService(googletag.pubads())\\n          .setCollapseEmptyDiv(true,true);\\n\\n          googletag.display(\\'div-gpt-ad-1536748319959-sdcdqoti-1\\');\\n          googletag.pubads().refresh([slot]);\\n        });\\n      </script>\\n    </div>\\n  \\n\\n<div class=\"\">\\n<div class=\"news-card z-depth-1\" itemscope itemtype=\"http://schema.org/NewsArticle\">\\n  <span content=\"\" itemscope itemprop=\"mainEntityOfPage\" itemType=\"https://schema.org/WebPage\" itemid=\"https://inshorts.com/en/news/ec-orders-twitter-to-remove-all-tweets-on-lok-sabha-exit-polls-1557943063485\"></span>\\n  <span itemtype=\"https://schema.org/Person\" itemscope=\"itemscope\" itemprop=\"author\">\\n    <span itemprop=\"name\" content=\"Gaurav Shroff\"></span>\\n  </span>\\n  <span itemprop=\"description\" content=\"EC orders Twitter to remove all tweets on Lok Sabha exit polls\"></span>\\n  <span itemprop=\"image\" itemscope itemtype=\"https://schema.org/ImageObject\">\\n    <meta itemprop=\"url\" content=\"https://assets.inshorts.com/inshorts/images/v1/variants/jpg/m/2019/05_may/15_wed/img_1557941345060_496.jpg\"></meta>\\n    <meta itemprop=\"width\" content=\"864\"></meta>\\n    <meta itemprop=\"height\" content=\"483\"></meta>\\n  </span>\\n  <span itemtype=\"https://schema.org/Organization\" itemscope=\"itemscope\" itemprop=\"publisher\">\\n    <span itemprop=\"url\" content=\"https://inshorts.com/\"></span>\\n    <span itemprop=\"name\" content=\"Inshorts\"></span>\\n    <span itemprop=\"logo\" itemscope itemtype=\"https://schema.org/ImageObject\">\\n      <span itemprop=\"url\" content=\"https://assets.inshorts.com/inshorts/images/v1/variants/jpg/m/2018/11_nov/21_wed/img_1542823931298_497.jpg\"></span>\\n      <meta itemprop=\"width\" content=\"400\"></meta>\\n      <meta itemprop=\"height\" content=\"60\"></meta>\\n    </span>\\n  </span>\\n  <div class=\"news-card-image\" style= \"background-image: url(\\'https://assets.inshorts.com/inshorts/images/v1/variants/jpg/m/2019/05_may/15_wed/img_1557941345060_496.jpg?resize=400px:*\\')\">\\n  </div>\\n  <div class=\"news-card-title news-right-box\">\\n    <a class=\"clickable\" onclick=\"ga(\\'send\\', {\\'hitType\\': \\'event\\', \\'eventCategory\\': \\'TitleOfNews\\', \\'eventAction\\': \\'clicked\\', \\'eventLabel\\': \\'EC%20orders%20Twitter%20to%20remove%20all%20tweets%20on%20Lok%20Sabha%20exit%20polls)\\' });\"  style=\"color:#44444d!important\" href=\"/en/news/ec-orders-twitter-to-remove-all-tweets-on-lok-sabha-exit-polls-1557943063485\">\\n      <span itemprop=\"headline\">EC orders Twitter to remove all tweets on Lok Sabha exit polls</span>\\n    </a>\\n    <div class=\"news-card-author-time news-card-author-time-in-title\">\\n      <a href=\"/prev/en/news/ec-orders-twitter-to-remove-all-tweets-on-lok-sabha-exit-polls-1557943063485\"><span class=\"short\">short</span></a> by <span class=\"author\">Gaurav Shroff</span> / \\n      <span class=\"time\" itemprop=\"datePublished\" content=\"2019-05-15T17:57:43.000Z\">11:27 pm</span> on <span clas=\"date\">15 May 2019,Wednesday</span>\\n    </div>\\n  </div>\\n  <div class=\"news-card-content news-right-box\">\\n    <div itemprop=\"articleBody\">Ahead of the last phase of the 2019 Lok Sabha elections on May 19, the Election Commission has ordered Twitter India to remove all the tweets related to exit polls. This comes amid leaks of exit polls being shared on the platform. The seven-phase election began from April 11 and the results are to be announced on May 23.</div>\\n    <div class=\"news-card-author-time news-card-author-time-in-content\">\\n      <a href=\"/prev/en/news/ec-orders-twitter-to-remove-all-tweets-on-lok-sabha-exit-polls-1557943063485\"><span class=\"short\">short</span></a> by <span class=\"author\">Gaurav Shroff</span> / \\n      <span class=\"time\" itemprop=\"dateModified\" content=\"2019-05-15T17:57:43.000Z\" >11:27 pm</span> on <span class=\"date\">15 May</span>\\n    </div>\\n  </div>\\n  \\n    <div class=\"news-card-footer news-right-box\">\\n      <div class=\"read-more\">read more at <a class=\"source\" onclick=\"ga(\\'send\\', {\\'hitType\\': \\'event\\', \\'eventCategory\\': \\'ReadMore\\', \\'eventAction\\': \\'clicked\\', \\'eventLabel\\': \\'ANI\\' });\" target=\"_blank\" href=\"https://twitter.com/ANI/status/1128710990022021120?utm_campaign=fullarticle&amp;utm_medium=referral&amp;utm_source=inshorts \">ANI</a></div>\\n    </div>\\n  \\n\\n</div>\\n\\n  \\n</div>\\n\\n\\n\\n\\n<div class=\"\">\\n<div class=\"news-card z-depth-1\" itemscope itemtype=\"http://schema.org/NewsArticle\">\\n  <span content=\"\" itemscope itemprop=\"mainEntityOfPage\" itemType=\"https://schema.org/WebPage\" itemid=\"https://inshorts.com/en/news/laptop-running-6-malware-that-caused-$95bn-loss-being-sold-as-art-1558015664286\"></span>\\n  <span itemtype=\"https://schema.org/Person\" itemscope=\"itemscope\" itemprop=\"author\">\\n    <span itemprop=\"name\" content=\"Gaurav Shroff\"></span>\\n  </span>\\n  <span itemprop=\"description\" content=\"Laptop running 6 malware that caused $95bn loss being sold as art\"></span>\\n  <span itemprop=\"image\" itemscope itemtype=\"https://schema.org/ImageObject\">\\n    <meta itemprop=\"url\" content=\"https://assets.inshorts.com/inshorts/images/v1/variants/jpg/m/2019/05_may/16_thu/img_1558011428620_929.jpg\"></meta>\\n    <meta itemprop=\"width\" content=\"864\"></meta>\\n    <meta itemprop=\"height\" content=\"483\"></meta>\\n  </span>\\n  <span itemtype=\"https://schema.org/Organization\" itemscope=\"itemscope\" itemprop=\"publisher\">\\n    <span itemprop=\"url\" content=\"https://inshorts.com/\"></span>\\n    <span itemprop=\"name\" content=\"Inshorts\"></span>\\n    <span itemprop=\"logo\" itemscope itemtype=\"https://schema.org/ImageObject\">\\n      <span itemprop=\"url\" content=\"https://assets.inshorts.com/inshorts/images/v1/variants/jpg/m/2018/11_nov/21_wed/img_1542823931298_497.jpg\"></span>\\n      <meta itemprop=\"width\" content=\"400\"></meta>\\n      <meta itemprop=\"height\" content=\"60\"></meta>\\n    </span>\\n  </span>\\n  <div class=\"news-card-image\" style= \"background-image: url(\\'https://assets.inshorts.com/inshorts/images/v1/variants/jpg/m/2019/05_may/16_thu/img_1558011428620_929.jpg?resize=400px:*\\')\">\\n  </div>\\n  <div class=\"news-card-title news-right-box\">\\n    <a class=\"clickable\" onclick=\"ga(\\'send\\', {\\'hitType\\': \\'event\\', \\'eventCategory\\': \\'TitleOfNews\\', \\'eventAction\\': \\'clicked\\', \\'eventLabel\\': \\'Laptop%20running%206%20malware%20that%20caused%20%2495bn%20loss%20being%20sold%20as%20art)\\' });\"  style=\"color:#44444d!important\" href=\"/en/news/laptop-running-6-malware-that-caused-$95bn-loss-being-sold-as-art-1558015664286\">\\n      <span itemprop=\"headline\">Laptop running 6 malware that caused $95bn loss being sold as art</span>\\n    </a>\\n    <div class=\"news-card-author-time news-card-author-time-in-title\">\\n      <a href=\"/prev/en/news/laptop-running-6-malware-that-caused-$95bn-loss-being-sold-as-art-1558015664286\"><span class=\"short\">short</span></a> by <span class=\"author\">Gaurav Shroff</span> / \\n      <span class=\"time\" itemprop=\"datePublished\" content=\"2019-05-16T14:07:44.000Z\">07:37 pm</span> on <span clas=\"date\">16 May 2019,Thursday</span>\\n    </div>\\n  </div>\\n  <div class=\"news-card-content news-right-box\">\\n    <div itemprop=\"articleBody\">A website is conducting live bidding for a laptop running six malware including ILOVEYOU and WannaCry that have caused financial damages totalling $95 billion. The website stated the laptop&#39;s internet functions and ports will be disabled before shipping as it&#39;s intended to be sold as &#34;art or for academic reasons&#34;. The minimum bid currently is $615,301 (over \\xe2\\x82\\xb94.31 crore).</div>\\n    <div class=\"news-card-author-time news-card-author-time-in-content\">\\n      <a href=\"/prev/en/news/laptop-running-6-malware-that-caused-$95bn-loss-being-sold-as-art-1558015664286\"><span class=\"short\">short</span></a> by <span class=\"author\">Gaurav Shroff</span> / \\n      <span class=\"time\" itemprop=\"dateModified\" content=\"2019-05-16T14:07:44.000Z\" >07:37 pm</span> on <span class=\"date\">16 May</span>\\n    </div>\\n  </div>\\n  \\n    <div class=\"news-card-footer news-right-box\">\\n      <div class=\"read-more\">read more at <a class=\"source\" onclick=\"ga(\\'send\\', {\\'hitType\\': \\'event\\', \\'eventCategory\\': \\'ReadMore\\', \\'eventAction\\': \\'clicked\\', \\'eventLabel\\': \\'Persistence%20Of%20Chaos\\' });\" target=\"_blank\" href=\"https://thepersistenceofchaos.com/?utm_campaign=fullarticle&amp;utm_medium=referral&amp;utm_source=inshorts \">Persistence Of Chaos</a></div>\\n    </div>\\n  \\n\\n</div>\\n\\n  \\n</div>\\n\\n\\n\\n\\n<div class=\"\">\\n<div class=\"news-card z-depth-1\" itemscope itemtype=\"http://schema.org/NewsArticle\">\\n  <span content=\"\" itemscope itemprop=\"mainEntityOfPage\" itemType=\"https://schema.org/WebPage\" itemid=\"https://inshorts.com/en/news/warren-buffetts-berkshire-reveals-$861-million-amazon-stake-1558004267739\"></span>\\n  <span itemtype=\"https://schema.org/Person\" itemscope=\"itemscope\" itemprop=\"author\">\\n    <span itemprop=\"name\" content=\"Krishna Veera Vanamali\"></span>\\n  </span>\\n  <span itemprop=\"description\" content=\"Warren Buffett&#39;s Berkshire reveals $861 million Amazon stake\"></span>\\n  <span itemprop=\"image\" itemscope itemtype=\"https://schema.org/ImageObject\">\\n    <meta itemprop=\"url\" content=\"https://assets.inshorts.com/inshorts/images/v1/variants/jpg/m/2019/05_may/16_thu/img_1557999495653_262.jpg\"></meta>\\n    <meta itemprop=\"width\" content=\"864\"></meta>\\n    <meta itemprop=\"height\" content=\"483\"></meta>\\n  </span>\\n  <span itemtype=\"https://schema.org/Organization\" itemscope=\"itemscope\" itemprop=\"publisher\">\\n    <span itemprop=\"url\" content=\"https://inshorts.com/\"></span>\\n    <span itemprop=\"name\" content=\"Inshorts\"></span>\\n    <span itemprop=\"logo\" itemscope itemtype=\"https://schema.org/ImageObject\">\\n      <span itemprop=\"url\" content=\"https://assets.inshorts.com/inshorts/images/v1/variants/jpg/m/2018/11_nov/21_wed/img_1542823931298_497.jpg\"></span>\\n      <meta itemprop=\"width\" content=\"400\"></meta>\\n      <meta itemprop=\"height\" content=\"60\"></meta>\\n    </span>\\n  </span>\\n  <div class=\"news-card-image\" style= \"background-image: url(\\'https://assets.inshorts.com/inshorts/images/v1/variants/jpg/m/2019/05_may/16_thu/img_1557999495653_262.jpg?resize=400px:*\\')\">\\n  </div>\\n  <div class=\"news-card-title news-right-box\">\\n    <a class=\"clickable\" onclick=\"ga(\\'send\\', {\\'hitType\\': \\'event\\', \\'eventCategory\\': \\'TitleOfNews\\', \\'eventAction\\': \\'clicked\\', \\'eventLabel\\': \\'Warren%20Buffett&#39;s%20Berkshire%20reveals%20%24861%20million%20Amazon%20stake)\\' });\"  style=\"color:#44444d!important\" href=\"/en/news/warren-buffetts-berkshire-reveals-$861-million-amazon-stake-1558004267739\">\\n      <span itemprop=\"headline\">Warren Buffett&#39;s Berkshire reveals $861 million Amazon stake</span>\\n    </a>\\n    <div class=\"news-card-author-time news-card-author-time-in-title\">\\n      <a href=\"/prev/en/news/warren-buffetts-berkshire-reveals-$861-million-amazon-stake-1558004267739\"><span class=\"short\">short</span></a> by <span class=\"author\">Krishna Veera Vanamali</span> / \\n      <span class=\"time\" itemprop=\"datePublished\" content=\"2019-05-16T10:57:47.000Z\">04:27 pm</span> on <span clas=\"date\">16 May 2019,Thursday</span>\\n    </div>\\n  </div>\\n  <div class=\"news-card-content news-right-box\">\\n    <div itemprop=\"articleBody\">Warren Buffett&#39;s Berkshire Hathaway on Wednesday revealed it owned $861 million of Amazon shares as of March. Earlier this month, Buffett said the Amazon investment was made by one of his portfolio managers, Todd Combs or Ted Weschler, and that he had been &#34;an idiot&#34; for not investing in Amazon himself. The Amazon stake would now be worth $904 million.</div>\\n    <div class=\"news-card-author-time news-card-author-time-in-content\">\\n      <a href=\"/prev/en/news/warren-buffetts-berkshire-reveals-$861-million-amazon-stake-1558004267739\"><span class=\"short\">short</span></a> by <span class=\"author\">Krishna Veera Vanamali</span> / \\n      <span class=\"time\" itemprop=\"dateModified\" content=\"2019-05-16T10:57:47.000Z\" >04:27 pm</span> on <span class=\"date\">16 May</span>\\n    </div>\\n  </div>\\n  \\n    <div class=\"news-card-footer news-right-box\">\\n      <div class=\"read-more\">read more at <a class=\"source\" onclick=\"ga(\\'send\\', {\\'hitType\\': \\'event\\', \\'eventCategory\\': \\'ReadMore\\', \\'eventAction\\': \\'clicked\\', \\'eventLabel\\': \\'Reuters\\' });\" target=\"_blank\" href=\"https://www.reuters.com/article/us-investment-funds-berkshire/buffetts-berkshire-unveils-861-million-amazon-stake-idUSKCN1SL2Q3?utm_campaign=fullarticle&amp;utm_medium=referral&amp;utm_source=inshorts \">Reuters</a></div>\\n    </div>\\n  \\n\\n</div>\\n\\n  \\n</div>\\n\\n\\n\\n\\n<div class=\"\">\\n<div class=\"news-card z-depth-1\" itemscope itemtype=\"http://schema.org/NewsArticle\">\\n  <span content=\"\" itemscope itemprop=\"mainEntityOfPage\" itemType=\"https://schema.org/WebPage\" itemid=\"https://inshorts.com/en/news/faulty-pixel-smartphone-owners-to-get-up-to-$500-from-google-1557934506276\"></span>\\n  <span itemtype=\"https://schema.org/Person\" itemscope=\"itemscope\" itemprop=\"author\">\\n    <span itemprop=\"name\" content=\"Gaurav Shroff\"></span>\\n  </span>\\n  <span itemprop=\"description\" content=\"Faulty Pixel smartphone owners to get up to $500 from Google\"></span>\\n  <span itemprop=\"image\" itemscope itemtype=\"https://schema.org/ImageObject\">\\n    <meta itemprop=\"url\" content=\"https://assets.inshorts.com/inshorts/images/v1/variants/jpg/m/2019/05_may/15_wed/img_1557930521650_821.jpg\"></meta>\\n    <meta itemprop=\"width\" content=\"864\"></meta>\\n    <meta itemprop=\"height\" content=\"483\"></meta>\\n  </span>\\n  <span itemtype=\"https://schema.org/Organization\" itemscope=\"itemscope\" itemprop=\"publisher\">\\n    <span itemprop=\"url\" content=\"https://inshorts.com/\"></span>\\n    <span itemprop=\"name\" content=\"Inshorts\"></span>\\n    <span itemprop=\"logo\" itemscope itemtype=\"https://schema.org/ImageObject\">\\n      <span itemprop=\"url\" content=\"https://assets.inshorts.com/inshorts/images/v1/variants/jpg/m/2018/11_nov/21_wed/img_1542823931298_497.jpg\"></span>\\n      <meta itemprop=\"width\" content=\"400\"></meta>\\n      <meta itemprop=\"height\" content=\"60\"></meta>\\n    </span>\\n  </span>\\n  <div class=\"news-card-image\" style= \"background-image: url(\\'https://assets.inshorts.com/inshorts/images/v1/variants/jpg/m/2019/05_may/15_wed/img_1557930521650_821.jpg?resize=400px:*\\')\">\\n  </div>\\n  <div class=\"news-card-title news-right-box\">\\n    <a class=\"clickable\" onclick=\"ga(\\'send\\', {\\'hitType\\': \\'event\\', \\'eventCategory\\': \\'TitleOfNews\\', \\'eventAction\\': \\'clicked\\', \\'eventLabel\\': \\'Faulty%20Pixel%20smartphone%20owners%20to%20get%20up%20to%20%24500%20from%20Google)\\' });\"  style=\"color:#44444d!important\" href=\"/en/news/faulty-pixel-smartphone-owners-to-get-up-to-$500-from-google-1557934506276\">\\n      <span itemprop=\"headline\">Faulty Pixel smartphone owners to get up to $500 from Google</span>\\n    </a>\\n    <div class=\"news-card-author-time news-card-author-time-in-title\">\\n      <a href=\"/prev/en/news/faulty-pixel-smartphone-owners-to-get-up-to-$500-from-google-1557934506276\"><span class=\"short\">short</span></a> by <span class=\"author\">Gaurav Shroff</span> / \\n      <span class=\"time\" itemprop=\"datePublished\" content=\"2019-05-15T15:35:06.000Z\">09:05 pm</span> on <span clas=\"date\">15 May 2019,Wednesday</span>\\n    </div>\\n  </div>\\n  <div class=\"news-card-content news-right-box\">\\n    <div itemprop=\"articleBody\">As part of $7.25-million lawsuit settlement, Google will pay up to $500 to the owners of Pixel and Pixel XL devices with faulty microphones. Owners who got another defective smartphone in replacement of a defective Pixel could get $500, while owners of a single defective device could get $350. Users who experienced no issues could also get up to $20.</div>\\n    <div class=\"news-card-author-time news-card-author-time-in-content\">\\n      <a href=\"/prev/en/news/faulty-pixel-smartphone-owners-to-get-up-to-$500-from-google-1557934506276\"><span class=\"short\">short</span></a> by <span class=\"author\">Gaurav Shroff</span> / \\n      <span class=\"time\" itemprop=\"dateModified\" content=\"2019-05-15T15:35:06.000Z\" >09:05 pm</span> on <span class=\"date\">15 May</span>\\n    </div>\\n  </div>\\n  \\n    <div class=\"news-card-footer news-right-box\">\\n      <div class=\"read-more\">read more at <a class=\"source\" onclick=\"ga(\\'send\\', {\\'hitType\\': \\'event\\', \\'eventCategory\\': \\'ReadMore\\', \\'eventAction\\': \\'clicked\\', \\'eventLabel\\': \\'The%20Quint\\' });\" target=\"_blank\" href=\"https://www.thequint.com/news/hot-news/faulty-pixel-users-to-get-up-to-500-from-google?utm_campaign=fullarticle&amp;utm_medium=referral&amp;utm_source=inshorts \">The Quint</a></div>\\n    </div>\\n  \\n\\n</div>\\n\\n  \\n</div>\\n\\n\\n\\n\\n<div class=\"\">\\n<div class=\"news-card z-depth-1\" itemscope itemtype=\"http://schema.org/NewsArticle\">\\n  <span content=\"\" itemscope itemprop=\"mainEntityOfPage\" itemType=\"https://schema.org/WebPage\" itemid=\"https://inshorts.com/en/news/intel-says-nearly-all-cpus-made-since-2011-exposed-to-hacking-1558015046667\"></span>\\n  <span itemtype=\"https://schema.org/Person\" itemscope=\"itemscope\" itemprop=\"author\">\\n    <span itemprop=\"name\" content=\"Kanishka Pandey\"></span>\\n  </span>\\n  <span itemprop=\"description\" content=\"Intel says nearly all CPUs made since 2011 exposed to hacking\"></span>\\n  <span itemprop=\"image\" itemscope itemtype=\"https://schema.org/ImageObject\">\\n    <meta itemprop=\"url\" content=\"https://assets.inshorts.com/inshorts/images/v1/variants/jpg/m/2019/05_may/16_thu/img_1558008532914_164.jpg\"></meta>\\n    <meta itemprop=\"width\" content=\"864\"></meta>\\n    <meta itemprop=\"height\" content=\"483\"></meta>\\n  </span>\\n  <span itemtype=\"https://schema.org/Organization\" itemscope=\"itemscope\" itemprop=\"publisher\">\\n    <span itemprop=\"url\" content=\"https://inshorts.com/\"></span>\\n    <span itemprop=\"name\" content=\"Inshorts\"></span>\\n    <span itemprop=\"logo\" itemscope itemtype=\"https://schema.org/ImageObject\">\\n      <span itemprop=\"url\" content=\"https://assets.inshorts.com/inshorts/images/v1/variants/jpg/m/2018/11_nov/21_wed/img_1542823931298_497.jpg\"></span>\\n      <meta itemprop=\"width\" content=\"400\"></meta>\\n      <meta itemprop=\"height\" content=\"60\"></meta>\\n    </span>\\n  </span>\\n  <div class=\"news-card-image\" style= \"background-image: url(\\'https://assets.inshorts.com/inshorts/images/v1/variants/jpg/m/2019/05_may/16_thu/img_1558008532914_164.jpg?resize=400px:*\\')\">\\n  </div>\\n  <div class=\"news-card-title news-right-box\">\\n    <a class=\"clickable\" onclick=\"ga(\\'send\\', {\\'hitType\\': \\'event\\', \\'eventCategory\\': \\'TitleOfNews\\', \\'eventAction\\': \\'clicked\\', \\'eventLabel\\': \\'Intel%20says%20nearly%20all%20CPUs%20made%20since%202011%20exposed%20to%20hacking)\\' });\"  style=\"color:#44444d!important\" href=\"/en/news/intel-says-nearly-all-cpus-made-since-2011-exposed-to-hacking-1558015046667\">\\n      <span itemprop=\"headline\">Intel says nearly all CPUs made since 2011 exposed to hacking</span>\\n    </a>\\n    <div class=\"news-card-author-time news-card-author-time-in-title\">\\n      <a href=\"/prev/en/news/intel-says-nearly-all-cpus-made-since-2011-exposed-to-hacking-1558015046667\"><span class=\"short\">short</span></a> by <span class=\"author\">Kanishka Pandey</span> / \\n      <span class=\"time\" itemprop=\"datePublished\" content=\"2019-05-16T13:57:26.000Z\">07:27 pm</span> on <span clas=\"date\">16 May 2019,Thursday</span>\\n    </div>\\n  </div>\\n  <div class=\"news-card-content news-right-box\">\\n    <div itemprop=\"articleBody\">Intel has disclosed a new set of security flaws existing in almost all of its processors made since 2011, which could let hackers read nearly all data flowing through them. While Intel classified the threat as &#34;medium&#34;, security researchers said the vulnerability is much more serious. Intel said fixing it in existing chips could slow them by up to 19%.</div>\\n    <div class=\"news-card-author-time news-card-author-time-in-content\">\\n      <a href=\"/prev/en/news/intel-says-nearly-all-cpus-made-since-2011-exposed-to-hacking-1558015046667\"><span class=\"short\">short</span></a> by <span class=\"author\">Kanishka Pandey</span> / \\n      <span class=\"time\" itemprop=\"dateModified\" content=\"2019-05-16T13:57:26.000Z\" >07:27 pm</span> on <span class=\"date\">16 May</span>\\n    </div>\\n  </div>\\n  \\n    <div class=\"news-card-footer news-right-box\">\\n      <div class=\"read-more\">read more at <a class=\"source\" onclick=\"ga(\\'send\\', {\\'hitType\\': \\'event\\', \\'eventCategory\\': \\'ReadMore\\', \\'eventAction\\': \\'clicked\\', \\'eventLabel\\': \\'Hindustan%20Times\\' });\" target=\"_blank\" href=\"https://www.hindustantimes.com/tech/new-intel-security-flaws-could-slow-some-chips-by-nearly-20/story-KMtFW1gw3GUmxbdtU1IseN.html?utm_campaign=fullarticle&amp;utm_medium=referral&amp;utm_source=inshorts \">Hindustan Times</a></div>\\n    </div>\\n  \\n\\n</div>\\n\\n  \\n</div>\\n\\n\\n\\n\\n<div class=\"\">\\n<div class=\"news-card z-depth-1\" itemscope itemtype=\"http://schema.org/NewsArticle\">\\n  <span content=\"\" itemscope itemprop=\"mainEntityOfPage\" itemType=\"https://schema.org/WebPage\" itemid=\"https://inshorts.com/en/news/facebook-interns-highest-paid-in-us-at-\\xe2\\x82\\xb956-lakh-a-month-glassdoor-1558010741086\"></span>\\n  <span itemtype=\"https://schema.org/Person\" itemscope=\"itemscope\" itemprop=\"author\">\\n    <span itemprop=\"name\" content=\"Pragya Swastik\"></span>\\n  </span>\\n  <span itemprop=\"description\" content=\"Facebook interns highest paid in US at \\xe2\\x82\\xb95.6 lakh a month: Glassdoor\"></span>\\n  <span itemprop=\"image\" itemscope itemtype=\"https://schema.org/ImageObject\">\\n    <meta itemprop=\"url\" content=\"https://assets.inshorts.com/inshorts/images/v1/variants/jpg/m/2019/05_may/16_thu/img_1558006705593_768.jpg\"></meta>\\n    <meta itemprop=\"width\" content=\"864\"></meta>\\n    <meta itemprop=\"height\" content=\"483\"></meta>\\n  </span>\\n  <span itemtype=\"https://schema.org/Organization\" itemscope=\"itemscope\" itemprop=\"publisher\">\\n    <span itemprop=\"url\" content=\"https://inshorts.com/\"></span>\\n    <span itemprop=\"name\" content=\"Inshorts\"></span>\\n    <span itemprop=\"logo\" itemscope itemtype=\"https://schema.org/ImageObject\">\\n      <span itemprop=\"url\" content=\"https://assets.inshorts.com/inshorts/images/v1/variants/jpg/m/2018/11_nov/21_wed/img_1542823931298_497.jpg\"></span>\\n      <meta itemprop=\"width\" content=\"400\"></meta>\\n      <meta itemprop=\"height\" content=\"60\"></meta>\\n    </span>\\n  </span>\\n  <div class=\"news-card-image\" style= \"background-image: url(\\'https://assets.inshorts.com/inshorts/images/v1/variants/jpg/m/2019/05_may/16_thu/img_1558006705593_768.jpg?resize=400px:*\\')\">\\n  </div>\\n  <div class=\"news-card-title news-right-box\">\\n    <a class=\"clickable\" onclick=\"ga(\\'send\\', {\\'hitType\\': \\'event\\', \\'eventCategory\\': \\'TitleOfNews\\', \\'eventAction\\': \\'clicked\\', \\'eventLabel\\': \\'Facebook%20interns%20highest%20paid%20in%20US%20at%20%E2%82%B95.6%20lakh%20a%20month%3A%20Glassdoor)\\' });\"  style=\"color:#44444d!important\" href=\"/en/news/facebook-interns-highest-paid-in-us-at-\\xe2\\x82\\xb956-lakh-a-month-glassdoor-1558010741086\">\\n      <span itemprop=\"headline\">Facebook interns highest paid in US at \\xe2\\x82\\xb95.6 lakh a month: Glassdoor</span>\\n    </a>\\n    <div class=\"news-card-author-time news-card-author-time-in-title\">\\n      <a href=\"/prev/en/news/facebook-interns-highest-paid-in-us-at-\\xe2\\x82\\xb956-lakh-a-month-glassdoor-1558010741086\"><span class=\"short\">short</span></a> by <span class=\"author\">Pragya Swastik</span> / \\n      <span class=\"time\" itemprop=\"datePublished\" content=\"2019-05-16T12:45:41.000Z\">06:15 pm</span> on <span clas=\"date\">16 May 2019,Thursday</span>\\n    </div>\\n  </div>\\n  <div class=\"news-card-content news-right-box\">\\n    <div itemprop=\"articleBody\">Facebook is the highest stipend paying company to interns in the US in 2019, with a median monthly pay of $8,000 (\\xe2\\x82\\xb95.6 lakh), Glassdoor survey has found. Facebook is followed by Amazon and Salesforce, with median monthly pays of $7,725 (\\xe2\\x82\\xb95.41 lakh) and $7,667 (\\xe2\\x82\\xb95.37 lakh) respectively. Google is fourth-highest stipend paying company in the US at $7,500 (\\xe2\\x82\\xb95.25 lakh).</div>\\n    <div class=\"news-card-author-time news-card-author-time-in-content\">\\n      <a href=\"/prev/en/news/facebook-interns-highest-paid-in-us-at-\\xe2\\x82\\xb956-lakh-a-month-glassdoor-1558010741086\"><span class=\"short\">short</span></a> by <span class=\"author\">Pragya Swastik</span> / \\n      <span class=\"time\" itemprop=\"dateModified\" content=\"2019-05-16T12:45:41.000Z\" >06:15 pm</span> on <span class=\"date\">16 May</span>\\n    </div>\\n  </div>\\n  \\n    <div class=\"news-card-footer news-right-box\">\\n      <div class=\"read-more\">read more at <a class=\"source\" onclick=\"ga(\\'send\\', {\\'hitType\\': \\'event\\', \\'eventCategory\\': \\'ReadMore\\', \\'eventAction\\': \\'clicked\\', \\'eventLabel\\': \\'Glassdoor\\' });\" target=\"_blank\" href=\"https://www.glassdoor.com/research/internships-entry-level-jobs-2019/?utm_campaign=fullarticle&amp;utm_medium=referral&amp;utm_source=inshorts \">Glassdoor</a></div>\\n    </div>\\n  \\n\\n</div>\\n\\n  \\n</div>\\n\\n\\n\\n\\n  \\n    <div id=\\'div-gpt-ad-1536748319959-mc1s7pl7-1\\' style=\\'height:250px; width:900px; margin: auto; margin-bottom: 2%;\\'>\\n      <script>\\n        googletag.cmd.push(function() { \\n          //News banner for desktop\\n          var slotIdWeb = \\'div-gpt-ad-1536748319959-mc1s7pl7-1\\';\\n          var slot = googletag.defineSlot(\\'/142919096/inshorts_website_900x250\\', [900, 250], slotIdWeb)\\n          .addService(googletag.pubads())\\n          .setCollapseEmptyDiv(true,true);\\n\\n          googletag.display(\\'div-gpt-ad-1536748319959-mc1s7pl7-1\\');\\n          googletag.pubads().refresh([slot]);\\n        });\\n      </script>\\n    </div>\\n  \\n\\n<div class=\"\">\\n<div class=\"news-card z-depth-1\" itemscope itemtype=\"http://schema.org/NewsArticle\">\\n  <span content=\"\" itemscope itemprop=\"mainEntityOfPage\" itemType=\"https://schema.org/WebPage\" itemid=\"https://inshorts.com/en/news/amazon-sells-shoes-doormats-with-images-of-hindu-gods-criticised-1558016177743\"></span>\\n  <span itemtype=\"https://schema.org/Person\" itemscope=\"itemscope\" itemprop=\"author\">\\n    <span itemprop=\"name\" content=\"Krishna Veera Vanamali\"></span>\\n  </span>\\n  <span itemprop=\"description\" content=\"Amazon sells shoes, doormats with images of Hindu Gods; criticised\"></span>\\n  <span itemprop=\"image\" itemscope itemtype=\"https://schema.org/ImageObject\">\\n    <meta itemprop=\"url\" content=\"https://assets.inshorts.com/inshorts/images/v1/variants/jpg/m/2019/05_may/16_thu/img_1558013345828_206.jpg\"></meta>\\n    <meta itemprop=\"width\" content=\"864\"></meta>\\n    <meta itemprop=\"height\" content=\"483\"></meta>\\n  </span>\\n  <span itemtype=\"https://schema.org/Organization\" itemscope=\"itemscope\" itemprop=\"publisher\">\\n    <span itemprop=\"url\" content=\"https://inshorts.com/\"></span>\\n    <span itemprop=\"name\" content=\"Inshorts\"></span>\\n    <span itemprop=\"logo\" itemscope itemtype=\"https://schema.org/ImageObject\">\\n      <span itemprop=\"url\" content=\"https://assets.inshorts.com/inshorts/images/v1/variants/jpg/m/2018/11_nov/21_wed/img_1542823931298_497.jpg\"></span>\\n      <meta itemprop=\"width\" content=\"400\"></meta>\\n      <meta itemprop=\"height\" content=\"60\"></meta>\\n    </span>\\n  </span>\\n  <div class=\"news-card-image\" style= \"background-image: url(\\'https://assets.inshorts.com/inshorts/images/v1/variants/jpg/m/2019/05_may/16_thu/img_1558013345828_206.jpg?resize=400px:*\\')\">\\n  </div>\\n  <div class=\"news-card-title news-right-box\">\\n    <a class=\"clickable\" onclick=\"ga(\\'send\\', {\\'hitType\\': \\'event\\', \\'eventCategory\\': \\'TitleOfNews\\', \\'eventAction\\': \\'clicked\\', \\'eventLabel\\': \\'Amazon%20sells%20shoes%2C%20doormats%20with%20images%20of%20Hindu%20Gods%3B%20criticised)\\' });\"  style=\"color:#44444d!important\" href=\"/en/news/amazon-sells-shoes-doormats-with-images-of-hindu-gods-criticised-1558016177743\">\\n      <span itemprop=\"headline\">Amazon sells shoes, doormats with images of Hindu Gods; criticised</span>\\n    </a>\\n    <div class=\"news-card-author-time news-card-author-time-in-title\">\\n      <a href=\"/prev/en/news/amazon-sells-shoes-doormats-with-images-of-hindu-gods-criticised-1558016177743\"><span class=\"short\">short</span></a> by <span class=\"author\">Krishna Veera Vanamali</span> / \\n      <span class=\"time\" itemprop=\"datePublished\" content=\"2019-05-16T14:16:17.000Z\">07:46 pm</span> on <span clas=\"date\">16 May 2019,Thursday</span>\\n    </div>\\n  </div>\\n  <div class=\"news-card-content news-right-box\">\\n    <div itemprop=\"articleBody\">Amazon faced a social media backlash in India on Thursday after toilet seat covers, shoes, doormats, yoga mats and other items with images of Hindu Gods were spotted on its US website. In 2017, Amazon removed doormats resembling India&#39;s flag from its Canadian site after External Affairs Minister Sushma Swaraj threatened to rescind visas of the US company&#39;s employees.</div>\\n    <div class=\"news-card-author-time news-card-author-time-in-content\">\\n      <a href=\"/prev/en/news/amazon-sells-shoes-doormats-with-images-of-hindu-gods-criticised-1558016177743\"><span class=\"short\">short</span></a> by <span class=\"author\">Krishna Veera Vanamali</span> / \\n      <span class=\"time\" itemprop=\"dateModified\" content=\"2019-05-16T14:16:17.000Z\" >07:46 pm</span> on <span class=\"date\">16 May</span>\\n    </div>\\n  </div>\\n  \\n    <div class=\"news-card-footer news-right-box\">\\n      <div class=\"read-more\">read more at <a class=\"source\" onclick=\"ga(\\'send\\', {\\'hitType\\': \\'event\\', \\'eventCategory\\': \\'ReadMore\\', \\'eventAction\\': \\'clicked\\', \\'eventLabel\\': \\'Reuters\\' });\" target=\"_blank\" href=\"https://in.reuters.com/article/india-amazon/amazon-faces-backlash-in-india-for-selling-shoes-rugs-with-images-of-hindu-gods-idINKCN1SM1BW?utm_campaign=fullarticle&amp;utm_medium=referral&amp;utm_source=inshorts \">Reuters</a></div>\\n    </div>\\n  \\n\\n</div>\\n\\n  \\n</div>\\n\\n\\n\\n\\n<div class=\"\">\\n<div class=\"news-card z-depth-1\" itemscope itemtype=\"http://schema.org/NewsArticle\">\\n  <span content=\"\" itemscope itemprop=\"mainEntityOfPage\" itemType=\"https://schema.org/WebPage\" itemid=\"https://inshorts.com/en/news/german-startup-shows-worlds-1st-electric-5seater-air-taxi-1558005589069\"></span>\\n  <span itemtype=\"https://schema.org/Person\" itemscope=\"itemscope\" itemprop=\"author\">\\n    <span itemprop=\"name\" content=\"Arundhati Rawat\"></span>\\n  </span>\\n  <span itemprop=\"description\" content=\"German startup shows world&#39;s 1st electric 5-seater air taxi\"></span>\\n  <span itemprop=\"image\" itemscope itemtype=\"https://schema.org/ImageObject\">\\n    <meta itemprop=\"url\" content=\"https://assets.inshorts.com/inshorts/images/v1/variants/jpg/m/2019/05_may/16_thu/img_1558002490039_675.jpg\"></meta>\\n    <meta itemprop=\"width\" content=\"864\"></meta>\\n    <meta itemprop=\"height\" content=\"483\"></meta>\\n  </span>\\n  <span itemtype=\"https://schema.org/Organization\" itemscope=\"itemscope\" itemprop=\"publisher\">\\n    <span itemprop=\"url\" content=\"https://inshorts.com/\"></span>\\n    <span itemprop=\"name\" content=\"Inshorts\"></span>\\n    <span itemprop=\"logo\" itemscope itemtype=\"https://schema.org/ImageObject\">\\n      <span itemprop=\"url\" content=\"https://assets.inshorts.com/inshorts/images/v1/variants/jpg/m/2018/11_nov/21_wed/img_1542823931298_497.jpg\"></span>\\n      <meta itemprop=\"width\" content=\"400\"></meta>\\n      <meta itemprop=\"height\" content=\"60\"></meta>\\n    </span>\\n  </span>\\n  <div class=\"news-card-image\" style= \"background-image: url(\\'https://assets.inshorts.com/inshorts/images/v1/variants/jpg/m/2019/05_may/16_thu/img_1558002490039_675.jpg?resize=400px:*\\')\">\\n  </div>\\n  <div class=\"news-card-title news-right-box\">\\n    <a class=\"clickable\" onclick=\"ga(\\'send\\', {\\'hitType\\': \\'event\\', \\'eventCategory\\': \\'TitleOfNews\\', \\'eventAction\\': \\'clicked\\', \\'eventLabel\\': \\'German%20startup%20shows%20world&#39;s%201st%20electric%205-seater%20air%20taxi)\\' });\"  style=\"color:#44444d!important\" href=\"/en/news/german-startup-shows-worlds-1st-electric-5seater-air-taxi-1558005589069\">\\n      <span itemprop=\"headline\">German startup shows world&#39;s 1st electric 5-seater air taxi</span>\\n    </a>\\n    <div class=\"news-card-author-time news-card-author-time-in-title\">\\n      <a href=\"/prev/en/news/german-startup-shows-worlds-1st-electric-5seater-air-taxi-1558005589069\"><span class=\"short\">short</span></a> by <span class=\"author\">Arundhati Rawat</span> / \\n      <span class=\"time\" itemprop=\"datePublished\" content=\"2019-05-16T11:19:49.000Z\">04:49 pm</span> on <span clas=\"date\">16 May 2019,Thursday</span>\\n    </div>\\n  </div>\\n  <div class=\"news-card-content news-right-box\">\\n    <div itemprop=\"articleBody\">Munich-based startup Lilium unveiled what it claims is the world&#39;s first all-electric, jet-powered, five-seater air taxi prototype after successfully completing the full-scale prototype&#39;s maiden test earlier this month. The air taxi will have a 300 km range with a top speed of 300 kmph. Lilium intends to be operational in cities globally by 2025, providing an app-based air taxi service.</div>\\n    <div class=\"news-card-author-time news-card-author-time-in-content\">\\n      <a href=\"/prev/en/news/german-startup-shows-worlds-1st-electric-5seater-air-taxi-1558005589069\"><span class=\"short\">short</span></a> by <span class=\"author\">Arundhati Rawat</span> / \\n      <span class=\"time\" itemprop=\"dateModified\" content=\"2019-05-16T11:19:49.000Z\" >04:49 pm</span> on <span class=\"date\">16 May</span>\\n    </div>\\n  </div>\\n  \\n    <div class=\"news-card-footer news-right-box\">\\n      <div class=\"read-more\">read more at <a class=\"source\" onclick=\"ga(\\'send\\', {\\'hitType\\': \\'event\\', \\'eventCategory\\': \\'ReadMore\\', \\'eventAction\\': \\'clicked\\', \\'eventLabel\\': \\'Livemint\\' });\" target=\"_blank\" href=\"https://www.livemint.com/technology/tech-news/lilium-launched-world-s-first-all-electric-flying-taxi-completes-maiden-test-here-s-how-it-looks-1557987446378.html?utm_campaign=fullarticle&amp;utm_medium=referral&amp;utm_source=inshorts \">Livemint</a></div>\\n    </div>\\n  \\n\\n</div>\\n\\n  \\n</div>\\n\\n\\n\\n\\n<div class=\"\">\\n<div class=\"news-card z-depth-1\" itemscope itemtype=\"http://schema.org/NewsArticle\">\\n  <span content=\"\" itemscope itemprop=\"mainEntityOfPage\" itemType=\"https://schema.org/WebPage\" itemid=\"https://inshorts.com/en/news/apple-to-not-debut-its-own-5g-chip-before-2025-reports-1558060248301\"></span>\\n  <span itemtype=\"https://schema.org/Person\" itemscope=\"itemscope\" itemprop=\"author\">\\n    <span itemprop=\"name\" content=\"Kanishka Pandey\"></span>\\n  </span>\\n  <span itemprop=\"description\" content=\"Apple to not debut its own 5G chip before 2025: Reports\"></span>\\n  <span itemprop=\"image\" itemscope itemtype=\"https://schema.org/ImageObject\">\\n    <meta itemprop=\"url\" content=\"https://assets.inshorts.com/inshorts/images/v1/variants/jpg/m/2019/05_may/16_thu/img_1558017190421_170.jpg\"></meta>\\n    <meta itemprop=\"width\" content=\"864\"></meta>\\n    <meta itemprop=\"height\" content=\"483\"></meta>\\n  </span>\\n  <span itemtype=\"https://schema.org/Organization\" itemscope=\"itemscope\" itemprop=\"publisher\">\\n    <span itemprop=\"url\" content=\"https://inshorts.com/\"></span>\\n    <span itemprop=\"name\" content=\"Inshorts\"></span>\\n    <span itemprop=\"logo\" itemscope itemtype=\"https://schema.org/ImageObject\">\\n      <span itemprop=\"url\" content=\"https://assets.inshorts.com/inshorts/images/v1/variants/jpg/m/2018/11_nov/21_wed/img_1542823931298_497.jpg\"></span>\\n      <meta itemprop=\"width\" content=\"400\"></meta>\\n      <meta itemprop=\"height\" content=\"60\"></meta>\\n    </span>\\n  </span>\\n  <div class=\"news-card-image\" style= \"background-image: url(\\'https://assets.inshorts.com/inshorts/images/v1/variants/jpg/m/2019/05_may/16_thu/img_1558017190421_170.jpg?resize=400px:*\\')\">\\n  </div>\\n  <div class=\"news-card-title news-right-box\">\\n    <a class=\"clickable\" onclick=\"ga(\\'send\\', {\\'hitType\\': \\'event\\', \\'eventCategory\\': \\'TitleOfNews\\', \\'eventAction\\': \\'clicked\\', \\'eventLabel\\': \\'Apple%20to%20not%20debut%20its%20own%205G%20chip%20before%202025%3A%20Reports)\\' });\"  style=\"color:#44444d!important\" href=\"/en/news/apple-to-not-debut-its-own-5g-chip-before-2025-reports-1558060248301\">\\n      <span itemprop=\"headline\">Apple to not debut its own 5G chip before 2025: Reports</span>\\n    </a>\\n    <div class=\"news-card-author-time news-card-author-time-in-title\">\\n      <a href=\"/prev/en/news/apple-to-not-debut-its-own-5g-chip-before-2025-reports-1558060248301\"><span class=\"short\">short</span></a> by <span class=\"author\">Kanishka Pandey</span> / \\n      <span class=\"time\" itemprop=\"datePublished\" content=\"2019-05-17T02:30:48.000Z\">08:00 am</span> on <span clas=\"date\">17 May 2019,Friday</span>\\n    </div>\\n  </div>\\n  <div class=\"news-card-content news-right-box\">\\n    <div itemprop=\"articleBody\">Apple&#39;s plans to introduce its own 5G chips could take up to six years, as per reports. Apple has reportedly said, in interviews with prospective hires for the team developing the chips, that it expects the 5G chips to be developed by 2025. Apple recently ended the two-year-long patent dispute with Qualcomm, gaining access to the chipmaking giant&#39;s chips.</div>\\n    <div class=\"news-card-author-time news-card-author-time-in-content\">\\n      <a href=\"/prev/en/news/apple-to-not-debut-its-own-5g-chip-before-2025-reports-1558060248301\"><span class=\"short\">short</span></a> by <span class=\"author\">Kanishka Pandey</span> / \\n      <span class=\"time\" itemprop=\"dateModified\" content=\"2019-05-17T02:30:48.000Z\" >08:00 am</span> on <span class=\"date\">17 May</span>\\n    </div>\\n  </div>\\n  \\n    <div class=\"news-card-footer news-right-box\">\\n      <div class=\"read-more\">read more at <a class=\"source\" onclick=\"ga(\\'send\\', {\\'hitType\\': \\'event\\', \\'eventCategory\\': \\'ReadMore\\', \\'eventAction\\': \\'clicked\\', \\'eventLabel\\': \\'BGR\\' });\" target=\"_blank\" href=\"https://www.bgr.in/news/apple-5g-chip-not-to-debut-before-2025/?utm_campaign=fullarticle&amp;utm_medium=referral&amp;utm_source=inshorts \">BGR</a></div>\\n    </div>\\n  \\n\\n</div>\\n\\n  \\n</div>\\n\\n\\n\\n\\n<div class=\"\">\\n<div class=\"news-card z-depth-1\" itemscope itemtype=\"http://schema.org/NewsArticle\">\\n  <span content=\"\" itemscope itemprop=\"mainEntityOfPage\" itemType=\"https://schema.org/WebPage\" itemid=\"https://inshorts.com/en/news/huawei-willing-to-sign-nospy-pacts-with-govts-chairman-1557917632864\"></span>\\n  <span itemtype=\"https://schema.org/Person\" itemscope=\"itemscope\" itemprop=\"author\">\\n    <span itemprop=\"name\" content=\"Shruti Maria Mahendar\"></span>\\n  </span>\\n  <span itemprop=\"description\" content=\"Huawei willing to sign &#39;no-spy&#39; pacts with govts: Chairman\"></span>\\n  <span itemprop=\"image\" itemscope itemtype=\"https://schema.org/ImageObject\">\\n    <meta itemprop=\"url\" content=\"https://assets.inshorts.com/inshorts/images/v1/variants/jpg/m/2019/05_may/15_wed/img_1557914516370_981.jpg\"></meta>\\n    <meta itemprop=\"width\" content=\"864\"></meta>\\n    <meta itemprop=\"height\" content=\"483\"></meta>\\n  </span>\\n  <span itemtype=\"https://schema.org/Organization\" itemscope=\"itemscope\" itemprop=\"publisher\">\\n    <span itemprop=\"url\" content=\"https://inshorts.com/\"></span>\\n    <span itemprop=\"name\" content=\"Inshorts\"></span>\\n    <span itemprop=\"logo\" itemscope itemtype=\"https://schema.org/ImageObject\">\\n      <span itemprop=\"url\" content=\"https://assets.inshorts.com/inshorts/images/v1/variants/jpg/m/2018/11_nov/21_wed/img_1542823931298_497.jpg\"></span>\\n      <meta itemprop=\"width\" content=\"400\"></meta>\\n      <meta itemprop=\"height\" content=\"60\"></meta>\\n    </span>\\n  </span>\\n  <div class=\"news-card-image\" style= \"background-image: url(\\'https://assets.inshorts.com/inshorts/images/v1/variants/jpg/m/2019/05_may/15_wed/img_1557914516370_981.jpg?resize=400px:*\\')\">\\n  </div>\\n  <div class=\"news-card-title news-right-box\">\\n    <a class=\"clickable\" onclick=\"ga(\\'send\\', {\\'hitType\\': \\'event\\', \\'eventCategory\\': \\'TitleOfNews\\', \\'eventAction\\': \\'clicked\\', \\'eventLabel\\': \\'Huawei%20willing%20to%20sign%20&#39;no-spy&#39;%20pacts%20with%20govts%3A%20Chairman)\\' });\"  style=\"color:#44444d!important\" href=\"/en/news/huawei-willing-to-sign-nospy-pacts-with-govts-chairman-1557917632864\">\\n      <span itemprop=\"headline\">Huawei willing to sign &#39;no-spy&#39; pacts with govts: Chairman</span>\\n    </a>\\n    <div class=\"news-card-author-time news-card-author-time-in-title\">\\n      <a href=\"/prev/en/news/huawei-willing-to-sign-nospy-pacts-with-govts-chairman-1557917632864\"><span class=\"short\">short</span></a> by <span class=\"author\">Shruti Maria Mahendar</span> / \\n      <span class=\"time\" itemprop=\"datePublished\" content=\"2019-05-15T10:53:52.000Z\">04:23 pm</span> on <span clas=\"date\">15 May 2019,Wednesday</span>\\n    </div>\\n  </div>\\n  <div class=\"news-card-content news-right-box\">\\n    <div itemprop=\"articleBody\">Huawei Chairman Liang Hua has said the company is willing to sign &#39;no-spy&#39; agreements with governments, including Britain. The UK is deciding the extent to which it will allow Huawei, the world&#39;s biggest telecoms equipment supplier, to participate in building its 5G networks. This comes amid US pressure on European countries to boycott the Chinese technology giant over espionage concerns.</div>\\n    <div class=\"news-card-author-time news-card-author-time-in-content\">\\n      <a href=\"/prev/en/news/huawei-willing-to-sign-nospy-pacts-with-govts-chairman-1557917632864\"><span class=\"short\">short</span></a> by <span class=\"author\">Shruti Maria Mahendar</span> / \\n      <span class=\"time\" itemprop=\"dateModified\" content=\"2019-05-15T10:53:52.000Z\" >04:23 pm</span> on <span class=\"date\">15 May</span>\\n    </div>\\n  </div>\\n  \\n    <div class=\"news-card-footer news-right-box\">\\n      <div class=\"read-more\">read more at <a class=\"source\" onclick=\"ga(\\'send\\', {\\'hitType\\': \\'event\\', \\'eventCategory\\': \\'ReadMore\\', \\'eventAction\\': \\'clicked\\', \\'eventLabel\\': \\'Reuters\\' });\" target=\"_blank\" href=\"https://www.reuters.com/article/us-huawei-security-britain-chairman/huawei-willing-to-sign-no-spy-agreements-with-governments-chairman-idUSKCN1SK1HL?utm_campaign=fullarticle&amp;utm_medium=referral&amp;utm_source=inshorts \">Reuters</a></div>\\n    </div>\\n  \\n\\n</div>\\n\\n  \\n</div>\\n\\n\\n\\n\\n<div class=\"\">\\n<div class=\"news-card z-depth-1\" itemscope itemtype=\"http://schema.org/NewsArticle\">\\n  <span content=\"\" itemscope itemprop=\"mainEntityOfPage\" itemType=\"https://schema.org/WebPage\" itemid=\"https://inshorts.com/en/news/2-teams-jointly-win-$10-million-in-elon-muskbacked-xprize-1558085232940\"></span>\\n  <span itemtype=\"https://schema.org/Person\" itemscope=\"itemscope\" itemprop=\"author\">\\n    <span itemprop=\"name\" content=\"Arundhati Rawat\"></span>\\n  </span>\\n  <span itemprop=\"description\" content=\"2 teams jointly win $10 million in Elon Musk-backed XPRIZE\"></span>\\n  <span itemprop=\"image\" itemscope itemtype=\"https://schema.org/ImageObject\">\\n    <meta itemprop=\"url\" content=\"https://assets.inshorts.com/inshorts/images/v1/variants/jpg/m/2019/05_may/16_thu/img_1558029006928_508.jpg\"></meta>\\n    <meta itemprop=\"width\" content=\"864\"></meta>\\n    <meta itemprop=\"height\" content=\"483\"></meta>\\n  </span>\\n  <span itemtype=\"https://schema.org/Organization\" itemscope=\"itemscope\" itemprop=\"publisher\">\\n    <span itemprop=\"url\" content=\"https://inshorts.com/\"></span>\\n    <span itemprop=\"name\" content=\"Inshorts\"></span>\\n    <span itemprop=\"logo\" itemscope itemtype=\"https://schema.org/ImageObject\">\\n      <span itemprop=\"url\" content=\"https://assets.inshorts.com/inshorts/images/v1/variants/jpg/m/2018/11_nov/21_wed/img_1542823931298_497.jpg\"></span>\\n      <meta itemprop=\"width\" content=\"400\"></meta>\\n      <meta itemprop=\"height\" content=\"60\"></meta>\\n    </span>\\n  </span>\\n  <div class=\"news-card-image\" style= \"background-image: url(\\'https://assets.inshorts.com/inshorts/images/v1/variants/jpg/m/2019/05_may/16_thu/img_1558029006928_508.jpg?resize=400px:*\\')\">\\n  </div>\\n  <div class=\"news-card-title news-right-box\">\\n    <a class=\"clickable\" onclick=\"ga(\\'send\\', {\\'hitType\\': \\'event\\', \\'eventCategory\\': \\'TitleOfNews\\', \\'eventAction\\': \\'clicked\\', \\'eventLabel\\': \\'2%20teams%20jointly%20win%20%2410%20million%20in%20Elon%20Musk-backed%20XPRIZE)\\' });\"  style=\"color:#44444d!important\" href=\"/en/news/2-teams-jointly-win-$10-million-in-elon-muskbacked-xprize-1558085232940\">\\n      <span itemprop=\"headline\">2 teams jointly win $10 million in Elon Musk-backed XPRIZE</span>\\n    </a>\\n    <div class=\"news-card-author-time news-card-author-time-in-title\">\\n      <a href=\"/prev/en/news/2-teams-jointly-win-$10-million-in-elon-muskbacked-xprize-1558085232940\"><span class=\"short\">short</span></a> by <span class=\"author\">Arundhati Rawat</span> / \\n      <span class=\"time\" itemprop=\"datePublished\" content=\"2019-05-17T09:27:12.000Z\">02:57 pm</span> on <span clas=\"date\">17 May 2019,Friday</span>\\n    </div>\\n  </div>\\n  <div class=\"news-card-content news-right-box\">\\n    <div itemprop=\"articleBody\">Two teams have jointly won $10-million prize of Global Learning XPRIZE, which counts Elon Musk among supporters and benefactors. Kitkit School, from the US and South Korea and Onebillion from the UK and Kenya, both developed tablet apps to aid student learning. Bengaluru&#39;s Chimple was among five finalists in 2017, which received $1 million and tested their technology in Tanzania.</div>\\n    <div class=\"news-card-author-time news-card-author-time-in-content\">\\n      <a href=\"/prev/en/news/2-teams-jointly-win-$10-million-in-elon-muskbacked-xprize-1558085232940\"><span class=\"short\">short</span></a> by <span class=\"author\">Arundhati Rawat</span> / \\n      <span class=\"time\" itemprop=\"dateModified\" content=\"2019-05-17T09:27:12.000Z\" >02:57 pm</span> on <span class=\"date\">17 May</span>\\n    </div>\\n  </div>\\n  \\n    <div class=\"news-card-footer news-right-box\">\\n      <div class=\"read-more\">read more at <a class=\"source\" onclick=\"ga(\\'send\\', {\\'hitType\\': \\'event\\', \\'eventCategory\\': \\'ReadMore\\', \\'eventAction\\': \\'clicked\\', \\'eventLabel\\': \\'TechCrunch\\' });\" target=\"_blank\" href=\"https://techcrunch.com/2019/05/16/global-learning-xprize-splits-10m-purse-for-best-teaching-app-for-disadvantaged-kids/?utm_campaign=fullarticle&amp;utm_medium=referral&amp;utm_source=inshorts \">TechCrunch</a></div>\\n    </div>\\n  \\n\\n</div>\\n\\n  \\n</div>\\n\\n\\n\\n\\n<div class=\"\">\\n<div class=\"news-card z-depth-1\" itemscope itemtype=\"http://schema.org/NewsArticle\">\\n  <span content=\"\" itemscope itemprop=\"mainEntityOfPage\" itemType=\"https://schema.org/WebPage\" itemid=\"https://inshorts.com/en/news/one-of-1st-apple-pcs-built-by-steve-jobs-to-be-auctioned-1557939239126\"></span>\\n  <span itemtype=\"https://schema.org/Person\" itemscope=\"itemscope\" itemprop=\"author\">\\n    <span itemprop=\"name\" content=\"Kanishka Pandey\"></span>\\n  </span>\\n  <span itemprop=\"description\" content=\"One of 1st Apple PCs built by Steve Jobs to be auctioned\"></span>\\n  <span itemprop=\"image\" itemscope itemtype=\"https://schema.org/ImageObject\">\\n    <meta itemprop=\"url\" content=\"https://assets.inshorts.com/inshorts/images/v1/variants/jpg/m/2019/05_may/15_wed/img_1557931554035_597.jpg\"></meta>\\n    <meta itemprop=\"width\" content=\"864\"></meta>\\n    <meta itemprop=\"height\" content=\"483\"></meta>\\n  </span>\\n  <span itemtype=\"https://schema.org/Organization\" itemscope=\"itemscope\" itemprop=\"publisher\">\\n    <span itemprop=\"url\" content=\"https://inshorts.com/\"></span>\\n    <span itemprop=\"name\" content=\"Inshorts\"></span>\\n    <span itemprop=\"logo\" itemscope itemtype=\"https://schema.org/ImageObject\">\\n      <span itemprop=\"url\" content=\"https://assets.inshorts.com/inshorts/images/v1/variants/jpg/m/2018/11_nov/21_wed/img_1542823931298_497.jpg\"></span>\\n      <meta itemprop=\"width\" content=\"400\"></meta>\\n      <meta itemprop=\"height\" content=\"60\"></meta>\\n    </span>\\n  </span>\\n  <div class=\"news-card-image\" style= \"background-image: url(\\'https://assets.inshorts.com/inshorts/images/v1/variants/jpg/m/2019/05_may/15_wed/img_1557931554035_597.jpg?resize=400px:*\\')\">\\n  </div>\\n  <div class=\"news-card-title news-right-box\">\\n    <a class=\"clickable\" onclick=\"ga(\\'send\\', {\\'hitType\\': \\'event\\', \\'eventCategory\\': \\'TitleOfNews\\', \\'eventAction\\': \\'clicked\\', \\'eventLabel\\': \\'One%20of%201st%20Apple%20PCs%20built%20by%20Steve%20Jobs%20to%20be%20auctioned)\\' });\"  style=\"color:#44444d!important\" href=\"/en/news/one-of-1st-apple-pcs-built-by-steve-jobs-to-be-auctioned-1557939239126\">\\n      <span itemprop=\"headline\">One of 1st Apple PCs built by Steve Jobs to be auctioned</span>\\n    </a>\\n    <div class=\"news-card-author-time news-card-author-time-in-title\">\\n      <a href=\"/prev/en/news/one-of-1st-apple-pcs-built-by-steve-jobs-to-be-auctioned-1557939239126\"><span class=\"short\">short</span></a> by <span class=\"author\">Kanishka Pandey</span> / \\n      <span class=\"time\" itemprop=\"datePublished\" content=\"2019-05-15T16:53:59.000Z\">10:23 pm</span> on <span clas=\"date\">15 May 2019,Wednesday</span>\\n    </div>\\n  </div>\\n  <div class=\"news-card-content news-right-box\">\\n    <div itemprop=\"articleBody\">One of only 200 units of Apple&#39;s first-ever personal computers, Apple-1, designed and built by Apple Co-founders Steve Wozniak and Steve Jobs, is being auctioned online from May 16-23. &#34;[We&#39;re offering] a rare example of the first personal computer sold with a fully assembled motherboard,&#34; global auction house Christie&#39;s said. It&#39;s reportedly estimated to fetch up to around \\xe2\\x82\\xb94.5 crore.</div>\\n    <div class=\"news-card-author-time news-card-author-time-in-content\">\\n      <a href=\"/prev/en/news/one-of-1st-apple-pcs-built-by-steve-jobs-to-be-auctioned-1557939239126\"><span class=\"short\">short</span></a> by <span class=\"author\">Kanishka Pandey</span> / \\n      <span class=\"time\" itemprop=\"dateModified\" content=\"2019-05-15T16:53:59.000Z\" >10:23 pm</span> on <span class=\"date\">15 May</span>\\n    </div>\\n  </div>\\n  \\n    <div class=\"news-card-footer news-right-box\">\\n      <div class=\"read-more\">read more at <a class=\"source\" onclick=\"ga(\\'send\\', {\\'hitType\\': \\'event\\', \\'eventCategory\\': \\'ReadMore\\', \\'eventAction\\': \\'clicked\\', \\'eventLabel\\': \\'The%20Siasat%20Daily\\' });\" target=\"_blank\" href=\"https://www.siasat.com/news/first-apple-computer-be-auctioned-online-1497106/?utm_campaign=fullarticle&amp;utm_medium=referral&amp;utm_source=inshorts \">The Siasat Daily</a></div>\\n    </div>\\n  \\n\\n</div>\\n\\n  \\n</div>\\n\\n\\n\\n\\n  \\n    <div id=\\'div-gpt-ad-1536748319959-6l2iuygn-1\\' style=\\'height:250px; width:900px; margin: auto; margin-bottom: 2%;\\'>\\n      <script>\\n        googletag.cmd.push(function() { \\n          //News banner for desktop\\n          var slotIdWeb = \\'div-gpt-ad-1536748319959-6l2iuygn-1\\';\\n          var slot = googletag.defineSlot(\\'/142919096/inshorts_website_900x250\\', [900, 250], slotIdWeb)\\n          .addService(googletag.pubads())\\n          .setCollapseEmptyDiv(true,true);\\n\\n          googletag.display(\\'div-gpt-ad-1536748319959-6l2iuygn-1\\');\\n          googletag.pubads().refresh([slot]);\\n        });\\n      </script>\\n    </div>\\n  \\n\\n<div class=\"\">\\n<div class=\"news-card z-depth-1\" itemscope itemtype=\"http://schema.org/NewsArticle\">\\n  <span content=\"\" itemscope itemprop=\"mainEntityOfPage\" itemType=\"https://schema.org/WebPage\" itemid=\"https://inshorts.com/en/news/brought-me-to-tears-detained-huawei-cfo-on-staffs-support-1557927573060\"></span>\\n  <span itemtype=\"https://schema.org/Person\" itemscope=\"itemscope\" itemprop=\"author\">\\n    <span itemprop=\"name\" content=\"Arundhati Rawat\"></span>\\n  </span>\\n  <span itemprop=\"description\" content=\"Brought me to tears: Detained Huawei CFO on staff&#39;s support\"></span>\\n  <span itemprop=\"image\" itemscope itemtype=\"https://schema.org/ImageObject\">\\n    <meta itemprop=\"url\" content=\"https://assets.inshorts.com/inshorts/images/v1/variants/jpg/m/2019/05_may/15_wed/img_1557919194067_326.jpg\"></meta>\\n    <meta itemprop=\"width\" content=\"864\"></meta>\\n    <meta itemprop=\"height\" content=\"483\"></meta>\\n  </span>\\n  <span itemtype=\"https://schema.org/Organization\" itemscope=\"itemscope\" itemprop=\"publisher\">\\n    <span itemprop=\"url\" content=\"https://inshorts.com/\"></span>\\n    <span itemprop=\"name\" content=\"Inshorts\"></span>\\n    <span itemprop=\"logo\" itemscope itemtype=\"https://schema.org/ImageObject\">\\n      <span itemprop=\"url\" content=\"https://assets.inshorts.com/inshorts/images/v1/variants/jpg/m/2018/11_nov/21_wed/img_1542823931298_497.jpg\"></span>\\n      <meta itemprop=\"width\" content=\"400\"></meta>\\n      <meta itemprop=\"height\" content=\"60\"></meta>\\n    </span>\\n  </span>\\n  <div class=\"news-card-image\" style= \"background-image: url(\\'https://assets.inshorts.com/inshorts/images/v1/variants/jpg/m/2019/05_may/15_wed/img_1557919194067_326.jpg?resize=400px:*\\')\">\\n  </div>\\n  <div class=\"news-card-title news-right-box\">\\n    <a class=\"clickable\" onclick=\"ga(\\'send\\', {\\'hitType\\': \\'event\\', \\'eventCategory\\': \\'TitleOfNews\\', \\'eventAction\\': \\'clicked\\', \\'eventLabel\\': \\'Brought%20me%20to%20tears%3A%20Detained%20Huawei%20CFO%20on%20staff&#39;s%20support)\\' });\"  style=\"color:#44444d!important\" href=\"/en/news/brought-me-to-tears-detained-huawei-cfo-on-staffs-support-1557927573060\">\\n      <span itemprop=\"headline\">Brought me to tears: Detained Huawei CFO on staff&#39;s support</span>\\n    </a>\\n    <div class=\"news-card-author-time news-card-author-time-in-title\">\\n      <a href=\"/prev/en/news/brought-me-to-tears-detained-huawei-cfo-on-staffs-support-1557927573060\"><span class=\"short\">short</span></a> by <span class=\"author\">Arundhati Rawat</span> / \\n      <span class=\"time\" itemprop=\"datePublished\" content=\"2019-05-15T13:39:33.000Z\">07:09 pm</span> on <span clas=\"date\">15 May 2019,Wednesday</span>\\n    </div>\\n  </div>\\n  <div class=\"news-card-content news-right-box\">\\n    <div itemprop=\"articleBody\">Huawei CFO Meng Wanzhou in a letter to the Chinese company&#39;s 1,88,000 employees said she was brought to tears after seeing them staying up all night to follow her case in distant time zones, adding it has filled her &#34;with power&#34;. Meng has been detained in Canada since December, where she is fighting US extradition for allegedly violating Iran sanctions.</div>\\n    <div class=\"news-card-author-time news-card-author-time-in-content\">\\n      <a href=\"/prev/en/news/brought-me-to-tears-detained-huawei-cfo-on-staffs-support-1557927573060\"><span class=\"short\">short</span></a> by <span class=\"author\">Arundhati Rawat</span> / \\n      <span class=\"time\" itemprop=\"dateModified\" content=\"2019-05-15T13:39:33.000Z\" >07:09 pm</span> on <span class=\"date\">15 May</span>\\n    </div>\\n  </div>\\n  \\n    <div class=\"news-card-footer news-right-box\">\\n      <div class=\"read-more\">read more at <a class=\"source\" onclick=\"ga(\\'send\\', {\\'hitType\\': \\'event\\', \\'eventCategory\\': \\'ReadMore\\', \\'eventAction\\': \\'clicked\\', \\'eventLabel\\': \\'Livemint\\' });\" target=\"_blank\" href=\"https://www.livemint.com/companies/news/detained-huawei-cfo-speaks-out-in-letter-to-employees-1557899425772.html?utm_campaign=fullarticle&amp;utm_medium=referral&amp;utm_source=inshorts \">Livemint</a></div>\\n    </div>\\n  \\n\\n</div>\\n\\n  \\n</div>\\n\\n\\n\\n\\n<div class=\"\">\\n<div class=\"news-card z-depth-1\" itemscope itemtype=\"http://schema.org/NewsArticle\">\\n  <span content=\"\" itemscope itemprop=\"mainEntityOfPage\" itemType=\"https://schema.org/WebPage\" itemid=\"https://inshorts.com/en/news/iphone-price-may-rise-3-over-uschina-trade-war-report-1557976179224\"></span>\\n  <span itemtype=\"https://schema.org/Person\" itemscope=\"itemscope\" itemprop=\"author\">\\n    <span itemprop=\"name\" content=\"Arundhati Rawat\"></span>\\n  </span>\\n  <span itemprop=\"description\" content=\"iPhone price may rise 3% over US-China trade war: Report\"></span>\\n  <span itemprop=\"image\" itemscope itemtype=\"https://schema.org/ImageObject\">\\n    <meta itemprop=\"url\" content=\"https://assets.inshorts.com/inshorts/images/v1/variants/jpg/m/2019/05_may/15_wed/img_1557938548209_899.jpg\"></meta>\\n    <meta itemprop=\"width\" content=\"864\"></meta>\\n    <meta itemprop=\"height\" content=\"483\"></meta>\\n  </span>\\n  <span itemtype=\"https://schema.org/Organization\" itemscope=\"itemscope\" itemprop=\"publisher\">\\n    <span itemprop=\"url\" content=\"https://inshorts.com/\"></span>\\n    <span itemprop=\"name\" content=\"Inshorts\"></span>\\n    <span itemprop=\"logo\" itemscope itemtype=\"https://schema.org/ImageObject\">\\n      <span itemprop=\"url\" content=\"https://assets.inshorts.com/inshorts/images/v1/variants/jpg/m/2018/11_nov/21_wed/img_1542823931298_497.jpg\"></span>\\n      <meta itemprop=\"width\" content=\"400\"></meta>\\n      <meta itemprop=\"height\" content=\"60\"></meta>\\n    </span>\\n  </span>\\n  <div class=\"news-card-image\" style= \"background-image: url(\\'https://assets.inshorts.com/inshorts/images/v1/variants/jpg/m/2019/05_may/15_wed/img_1557938548209_899.jpg?resize=400px:*\\')\">\\n  </div>\\n  <div class=\"news-card-title news-right-box\">\\n    <a class=\"clickable\" onclick=\"ga(\\'send\\', {\\'hitType\\': \\'event\\', \\'eventCategory\\': \\'TitleOfNews\\', \\'eventAction\\': \\'clicked\\', \\'eventLabel\\': \\'iPhone%20price%20may%20rise%203%25%20over%20US-China%20trade%20war%3A%20Report)\\' });\"  style=\"color:#44444d!important\" href=\"/en/news/iphone-price-may-rise-3-over-uschina-trade-war-report-1557976179224\">\\n      <span itemprop=\"headline\">iPhone price may rise 3% over US-China trade war: Report</span>\\n    </a>\\n    <div class=\"news-card-author-time news-card-author-time-in-title\">\\n      <a href=\"/prev/en/news/iphone-price-may-rise-3-over-uschina-trade-war-report-1557976179224\"><span class=\"short\">short</span></a> by <span class=\"author\">Arundhati Rawat</span> / \\n      <span class=\"time\" itemprop=\"datePublished\" content=\"2019-05-16T03:09:39.000Z\">08:39 am</span> on <span clas=\"date\">16 May 2019,Thursday</span>\\n    </div>\\n  </div>\\n  <div class=\"news-card-content news-right-box\">\\n    <div itemprop=\"articleBody\">Tariffs on the iPhone&#39;s China-made batteries and other components would increase its manufacturing cost by 2% to 3%, a report said, adding Apple would need to increase iPhone prices by a similar amount to make the same profit. The US raised tariffs on $200 billion worth of Chinese products and China retaliated with tariffs on $60 billion of US goods.</div>\\n    <div class=\"news-card-author-time news-card-author-time-in-content\">\\n      <a href=\"/prev/en/news/iphone-price-may-rise-3-over-uschina-trade-war-report-1557976179224\"><span class=\"short\">short</span></a> by <span class=\"author\">Arundhati Rawat</span> / \\n      <span class=\"time\" itemprop=\"dateModified\" content=\"2019-05-16T03:09:39.000Z\" >08:39 am</span> on <span class=\"date\">16 May</span>\\n    </div>\\n  </div>\\n  \\n    <div class=\"news-card-footer news-right-box\">\\n      <div class=\"read-more\">read more at <a class=\"source\" onclick=\"ga(\\'send\\', {\\'hitType\\': \\'event\\', \\'eventCategory\\': \\'ReadMore\\', \\'eventAction\\': \\'clicked\\', \\'eventLabel\\': \\'Hindustan%20Times\\' });\" target=\"_blank\" href=\"https://www.hindustantimes.com/tech/us-china-trade-war-could-make-iphones-3-more-costly/story-CYn6gnoFFDj9VSmZsesAFL.html?utm_campaign=fullarticle&amp;utm_medium=referral&amp;utm_source=inshorts \">Hindustan Times</a></div>\\n    </div>\\n  \\n\\n</div>\\n\\n  \\n</div>\\n\\n\\n\\n\\n<div class=\"\">\\n<div class=\"news-card z-depth-1\" itemscope itemtype=\"http://schema.org/NewsArticle\">\\n  <span content=\"\" itemscope itemprop=\"mainEntityOfPage\" itemType=\"https://schema.org/WebPage\" itemid=\"https://inshorts.com/en/news/flipkart-in-talks-with-nokia-motorola-to-make-tvs-report-1557951194295\"></span>\\n  <span itemtype=\"https://schema.org/Person\" itemscope=\"itemscope\" itemprop=\"author\">\\n    <span itemprop=\"name\" content=\"Arundhati Rawat\"></span>\\n  </span>\\n  <span itemprop=\"description\" content=\"Flipkart in talks with Nokia, Motorola to make TVs: Report\"></span>\\n  <span itemprop=\"image\" itemscope itemtype=\"https://schema.org/ImageObject\">\\n    <meta itemprop=\"url\" content=\"https://assets.inshorts.com/inshorts/images/v1/variants/jpg/m/2019/05_may/15_wed/img_1557939563663_652.jpg\"></meta>\\n    <meta itemprop=\"width\" content=\"864\"></meta>\\n    <meta itemprop=\"height\" content=\"483\"></meta>\\n  </span>\\n  <span itemtype=\"https://schema.org/Organization\" itemscope=\"itemscope\" itemprop=\"publisher\">\\n    <span itemprop=\"url\" content=\"https://inshorts.com/\"></span>\\n    <span itemprop=\"name\" content=\"Inshorts\"></span>\\n    <span itemprop=\"logo\" itemscope itemtype=\"https://schema.org/ImageObject\">\\n      <span itemprop=\"url\" content=\"https://assets.inshorts.com/inshorts/images/v1/variants/jpg/m/2018/11_nov/21_wed/img_1542823931298_497.jpg\"></span>\\n      <meta itemprop=\"width\" content=\"400\"></meta>\\n      <meta itemprop=\"height\" content=\"60\"></meta>\\n    </span>\\n  </span>\\n  <div class=\"news-card-image\" style= \"background-image: url(\\'https://assets.inshorts.com/inshorts/images/v1/variants/jpg/m/2019/05_may/15_wed/img_1557939563663_652.jpg?resize=400px:*\\')\">\\n  </div>\\n  <div class=\"news-card-title news-right-box\">\\n    <a class=\"clickable\" onclick=\"ga(\\'send\\', {\\'hitType\\': \\'event\\', \\'eventCategory\\': \\'TitleOfNews\\', \\'eventAction\\': \\'clicked\\', \\'eventLabel\\': \\'Flipkart%20in%20talks%20with%20Nokia%2C%20Motorola%20to%20make%20TVs%3A%20Report)\\' });\"  style=\"color:#44444d!important\" href=\"/en/news/flipkart-in-talks-with-nokia-motorola-to-make-tvs-report-1557951194295\">\\n      <span itemprop=\"headline\">Flipkart in talks with Nokia, Motorola to make TVs: Report</span>\\n    </a>\\n    <div class=\"news-card-author-time news-card-author-time-in-title\">\\n      <a href=\"/prev/en/news/flipkart-in-talks-with-nokia-motorola-to-make-tvs-report-1557951194295\"><span class=\"short\">short</span></a> by <span class=\"author\">Arundhati Rawat</span> / \\n      <span class=\"time\" itemprop=\"datePublished\" content=\"2019-05-15T20:13:14.000Z\">01:43 am</span> on <span clas=\"date\">16 May 2019,Thursday</span>\\n    </div>\\n  </div>\\n  <div class=\"news-card-content news-right-box\">\\n    <div itemprop=\"articleBody\">Flipkart is in talks with international original equipment manufacturers to make electronics for sale on its platform, as per reports. It&#39;s reportedly in advanced-stage talks with Nokia and Motorola, which plan to introduce TV models in India by next year. Flipkart also aims to collaborate with Sansui to launch smaller home appliances such as juicers, grinders and other kitchen appliances. </div>\\n    <div class=\"news-card-author-time news-card-author-time-in-content\">\\n      <a href=\"/prev/en/news/flipkart-in-talks-with-nokia-motorola-to-make-tvs-report-1557951194295\"><span class=\"short\">short</span></a> by <span class=\"author\">Arundhati Rawat</span> / \\n      <span class=\"time\" itemprop=\"dateModified\" content=\"2019-05-15T20:13:14.000Z\" >01:43 am</span> on <span class=\"date\">16 May</span>\\n    </div>\\n  </div>\\n  \\n    <div class=\"news-card-footer news-right-box\">\\n      <div class=\"read-more\">read more at <a class=\"source\" onclick=\"ga(\\'send\\', {\\'hitType\\': \\'event\\', \\'eventCategory\\': \\'ReadMore\\', \\'eventAction\\': \\'clicked\\', \\'eventLabel\\': \\'Inc42\\' });\" target=\"_blank\" href=\"https://inc42.com/buzz/flipkart-consumer-durable-nokia-ecommerce/?utm_campaign=fullarticle&amp;utm_medium=referral&amp;utm_source=inshorts \">Inc42</a></div>\\n    </div>\\n  \\n\\n</div>\\n\\n  \\n</div>\\n\\n\\n\\n\\n<div class=\"\">\\n<div class=\"news-card z-depth-1\" itemscope itemtype=\"http://schema.org/NewsArticle\">\\n  <span content=\"\" itemscope itemprop=\"mainEntityOfPage\" itemType=\"https://schema.org/WebPage\" itemid=\"https://inshorts.com/en/news/google-translatotron-can-translate-speech-in-speakers-voice-1558019713354\"></span>\\n  <span itemtype=\"https://schema.org/Person\" itemscope=\"itemscope\" itemprop=\"author\">\\n    <span itemprop=\"name\" content=\"Gaurav Shroff\"></span>\\n  </span>\\n  <span itemprop=\"description\" content=\"Google Translatotron can translate speech in speaker&#39;s voice\"></span>\\n  <span itemprop=\"image\" itemscope itemtype=\"https://schema.org/ImageObject\">\\n    <meta itemprop=\"url\" content=\"https://assets.inshorts.com/inshorts/images/v1/variants/jpg/m/2019/05_may/16_thu/img_1558016034216_443.jpg\"></meta>\\n    <meta itemprop=\"width\" content=\"864\"></meta>\\n    <meta itemprop=\"height\" content=\"483\"></meta>\\n  </span>\\n  <span itemtype=\"https://schema.org/Organization\" itemscope=\"itemscope\" itemprop=\"publisher\">\\n    <span itemprop=\"url\" content=\"https://inshorts.com/\"></span>\\n    <span itemprop=\"name\" content=\"Inshorts\"></span>\\n    <span itemprop=\"logo\" itemscope itemtype=\"https://schema.org/ImageObject\">\\n      <span itemprop=\"url\" content=\"https://assets.inshorts.com/inshorts/images/v1/variants/jpg/m/2018/11_nov/21_wed/img_1542823931298_497.jpg\"></span>\\n      <meta itemprop=\"width\" content=\"400\"></meta>\\n      <meta itemprop=\"height\" content=\"60\"></meta>\\n    </span>\\n  </span>\\n  <div class=\"news-card-image\" style= \"background-image: url(\\'https://assets.inshorts.com/inshorts/images/v1/variants/jpg/m/2019/05_may/16_thu/img_1558016034216_443.jpg?resize=400px:*\\')\">\\n  </div>\\n  <div class=\"news-card-title news-right-box\">\\n    <a class=\"clickable\" onclick=\"ga(\\'send\\', {\\'hitType\\': \\'event\\', \\'eventCategory\\': \\'TitleOfNews\\', \\'eventAction\\': \\'clicked\\', \\'eventLabel\\': \\'Google%20Translatotron%20can%20translate%20speech%20in%20speaker&#39;s%20voice)\\' });\"  style=\"color:#44444d!important\" href=\"/en/news/google-translatotron-can-translate-speech-in-speakers-voice-1558019713354\">\\n      <span itemprop=\"headline\">Google Translatotron can translate speech in speaker&#39;s voice</span>\\n    </a>\\n    <div class=\"news-card-author-time news-card-author-time-in-title\">\\n      <a href=\"/prev/en/news/google-translatotron-can-translate-speech-in-speakers-voice-1558019713354\"><span class=\"short\">short</span></a> by <span class=\"author\">Gaurav Shroff</span> / \\n      <span class=\"time\" itemprop=\"datePublished\" content=\"2019-05-16T15:15:13.000Z\">08:45 pm</span> on <span clas=\"date\">16 May 2019,Thursday</span>\\n    </div>\\n  </div>\\n  <div class=\"news-card-content news-right-box\">\\n    <div itemprop=\"articleBody\">Google is developing a new translation model called Translatotron that can directly convert speech from one language into another while maintaining a speaker&#39;s voice. It skips the usual step of translating speech to text and back to speech. Translatotron uses a sequence-to-sequence network model that processes voice input as a spectrogram and generates a new spectrogram in the target language.</div>\\n    <div class=\"news-card-author-time news-card-author-time-in-content\">\\n      <a href=\"/prev/en/news/google-translatotron-can-translate-speech-in-speakers-voice-1558019713354\"><span class=\"short\">short</span></a> by <span class=\"author\">Gaurav Shroff</span> / \\n      <span class=\"time\" itemprop=\"dateModified\" content=\"2019-05-16T15:15:13.000Z\" >08:45 pm</span> on <span class=\"date\">16 May</span>\\n    </div>\\n  </div>\\n  \\n    <div class=\"news-card-footer news-right-box\">\\n      <div class=\"read-more\">read more at <a class=\"source\" onclick=\"ga(\\'send\\', {\\'hitType\\': \\'event\\', \\'eventCategory\\': \\'ReadMore\\', \\'eventAction\\': \\'clicked\\', \\'eventLabel\\': \\'Engadget\\' });\" target=\"_blank\" href=\"https://www.engadget.com/2019/05/15/google-translatotron-direct-speech-translation/?utm_campaign=fullarticle&amp;utm_medium=referral&amp;utm_source=inshorts \">Engadget</a></div>\\n    </div>\\n  \\n\\n</div>\\n\\n  \\n</div>\\n\\n\\n\\n\\n<div class=\"\">\\n<div class=\"news-card z-depth-1\" itemscope itemtype=\"http://schema.org/NewsArticle\">\\n  <span content=\"\" itemscope itemprop=\"mainEntityOfPage\" itemType=\"https://schema.org/WebPage\" itemid=\"https://inshorts.com/en/news/facebook-amazon-back-pact-to-fight-extremist-content-online-1558017448917\"></span>\\n  <span itemtype=\"https://schema.org/Person\" itemscope=\"itemscope\" itemprop=\"author\">\\n    <span itemprop=\"name\" content=\"Arundhati Rawat\"></span>\\n  </span>\\n  <span itemprop=\"description\" content=\"Facebook, Amazon back pact to fight extremist content online\"></span>\\n  <span itemprop=\"image\" itemscope itemtype=\"https://schema.org/ImageObject\">\\n    <meta itemprop=\"url\" content=\"https://assets.inshorts.com/inshorts/images/v1/variants/jpg/m/2019/05_may/16_thu/img_1558004893642_595.jpg\"></meta>\\n    <meta itemprop=\"width\" content=\"864\"></meta>\\n    <meta itemprop=\"height\" content=\"483\"></meta>\\n  </span>\\n  <span itemtype=\"https://schema.org/Organization\" itemscope=\"itemscope\" itemprop=\"publisher\">\\n    <span itemprop=\"url\" content=\"https://inshorts.com/\"></span>\\n    <span itemprop=\"name\" content=\"Inshorts\"></span>\\n    <span itemprop=\"logo\" itemscope itemtype=\"https://schema.org/ImageObject\">\\n      <span itemprop=\"url\" content=\"https://assets.inshorts.com/inshorts/images/v1/variants/jpg/m/2018/11_nov/21_wed/img_1542823931298_497.jpg\"></span>\\n      <meta itemprop=\"width\" content=\"400\"></meta>\\n      <meta itemprop=\"height\" content=\"60\"></meta>\\n    </span>\\n  </span>\\n  <div class=\"news-card-image\" style= \"background-image: url(\\'https://assets.inshorts.com/inshorts/images/v1/variants/jpg/m/2019/05_may/16_thu/img_1558004893642_595.jpg?resize=400px:*\\')\">\\n  </div>\\n  <div class=\"news-card-title news-right-box\">\\n    <a class=\"clickable\" onclick=\"ga(\\'send\\', {\\'hitType\\': \\'event\\', \\'eventCategory\\': \\'TitleOfNews\\', \\'eventAction\\': \\'clicked\\', \\'eventLabel\\': \\'Facebook%2C%20Amazon%20back%20pact%20to%20fight%20extremist%20content%20online)\\' });\"  style=\"color:#44444d!important\" href=\"/en/news/facebook-amazon-back-pact-to-fight-extremist-content-online-1558017448917\">\\n      <span itemprop=\"headline\">Facebook, Amazon back pact to fight extremist content online</span>\\n    </a>\\n    <div class=\"news-card-author-time news-card-author-time-in-title\">\\n      <a href=\"/prev/en/news/facebook-amazon-back-pact-to-fight-extremist-content-online-1558017448917\"><span class=\"short\">short</span></a> by <span class=\"author\">Arundhati Rawat</span> / \\n      <span class=\"time\" itemprop=\"datePublished\" content=\"2019-05-16T14:37:28.000Z\">08:07 pm</span> on <span clas=\"date\">16 May 2019,Thursday</span>\\n    </div>\\n  </div>\\n  <div class=\"news-card-content news-right-box\">\\n    <div itemprop=\"articleBody\">Facebook, Microsoft, Google, Twitter and Amazon at a meeting in Paris signed up for Christchurch Call, a commitment by governments and technology companies to eliminate terrorist and violent extremist content online. They also committed to nine-point plan to address abuse of technology to spread terrorist content. A March terror attack on two mosques in New Zealand&#39;s Christchurch claimed 51 lives.</div>\\n    <div class=\"news-card-author-time news-card-author-time-in-content\">\\n      <a href=\"/prev/en/news/facebook-amazon-back-pact-to-fight-extremist-content-online-1558017448917\"><span class=\"short\">short</span></a> by <span class=\"author\">Arundhati Rawat</span> / \\n      <span class=\"time\" itemprop=\"dateModified\" content=\"2019-05-16T14:37:28.000Z\" >08:07 pm</span> on <span class=\"date\">16 May</span>\\n    </div>\\n  </div>\\n  \\n    <div class=\"news-card-footer news-right-box\">\\n      <div class=\"read-more\">read more at <a class=\"source\" onclick=\"ga(\\'send\\', {\\'hitType\\': \\'event\\', \\'eventCategory\\': \\'ReadMore\\', \\'eventAction\\': \\'clicked\\', \\'eventLabel\\': \\'YourStory\\' });\" target=\"_blank\" href=\"https://yourstory.com/2019/05/facebook-google-amazon-christchurch-call-hate-speech?utm_campaign=fullarticle&amp;utm_medium=referral&amp;utm_source=inshorts \">YourStory</a></div>\\n    </div>\\n  \\n\\n</div>\\n\\n  \\n</div>\\n\\n\\n\\n\\n<div class=\"\">\\n<div class=\"news-card z-depth-1\" itemscope itemtype=\"http://schema.org/NewsArticle\">\\n  <span content=\"\" itemscope itemprop=\"mainEntityOfPage\" itemType=\"https://schema.org/WebPage\" itemid=\"https://inshorts.com/en/news/wikipedia-blocked-in-china-in-all-languages-confirms-owner-1558018675983\"></span>\\n  <span itemtype=\"https://schema.org/Person\" itemscope=\"itemscope\" itemprop=\"author\">\\n    <span itemprop=\"name\" content=\"Arundhati Rawat\"></span>\\n  </span>\\n  <span itemprop=\"description\" content=\"Wikipedia blocked in China in all languages, confirms owner\"></span>\\n  <span itemprop=\"image\" itemscope itemtype=\"https://schema.org/ImageObject\">\\n    <meta itemprop=\"url\" content=\"https://assets.inshorts.com/inshorts/images/v1/variants/jpg/m/2019/05_may/16_thu/img_1558008731751_448.jpg\"></meta>\\n    <meta itemprop=\"width\" content=\"864\"></meta>\\n    <meta itemprop=\"height\" content=\"483\"></meta>\\n  </span>\\n  <span itemtype=\"https://schema.org/Organization\" itemscope=\"itemscope\" itemprop=\"publisher\">\\n    <span itemprop=\"url\" content=\"https://inshorts.com/\"></span>\\n    <span itemprop=\"name\" content=\"Inshorts\"></span>\\n    <span itemprop=\"logo\" itemscope itemtype=\"https://schema.org/ImageObject\">\\n      <span itemprop=\"url\" content=\"https://assets.inshorts.com/inshorts/images/v1/variants/jpg/m/2018/11_nov/21_wed/img_1542823931298_497.jpg\"></span>\\n      <meta itemprop=\"width\" content=\"400\"></meta>\\n      <meta itemprop=\"height\" content=\"60\"></meta>\\n    </span>\\n  </span>\\n  <div class=\"news-card-image\" style= \"background-image: url(\\'https://assets.inshorts.com/inshorts/images/v1/variants/jpg/m/2019/05_may/16_thu/img_1558008731751_448.jpg?resize=400px:*\\')\">\\n  </div>\\n  <div class=\"news-card-title news-right-box\">\\n    <a class=\"clickable\" onclick=\"ga(\\'send\\', {\\'hitType\\': \\'event\\', \\'eventCategory\\': \\'TitleOfNews\\', \\'eventAction\\': \\'clicked\\', \\'eventLabel\\': \\'Wikipedia%20blocked%20in%20China%20in%20all%20languages%2C%20confirms%20owner)\\' });\"  style=\"color:#44444d!important\" href=\"/en/news/wikipedia-blocked-in-china-in-all-languages-confirms-owner-1558018675983\">\\n      <span itemprop=\"headline\">Wikipedia blocked in China in all languages, confirms owner</span>\\n    </a>\\n    <div class=\"news-card-author-time news-card-author-time-in-title\">\\n      <a href=\"/prev/en/news/wikipedia-blocked-in-china-in-all-languages-confirms-owner-1558018675983\"><span class=\"short\">short</span></a> by <span class=\"author\">Arundhati Rawat</span> / \\n      <span class=\"time\" itemprop=\"datePublished\" content=\"2019-05-16T14:57:55.000Z\">08:27 pm</span> on <span clas=\"date\">16 May 2019,Thursday</span>\\n    </div>\\n  </div>\\n  <div class=\"news-card-content news-right-box\">\\n    <div itemprop=\"articleBody\">The Wikimedia Foundation, that runs Wikipedia, has confirmed that the free community-edited encyclopaedia is currently blocked in China in all languages. The Chinese language version of the site was previously banned in the country, wherein reportedly about 10,000 sites are banned. In late April, Wikimedia had determined that Wikipedia was no longer accessible in China, Wikimedia said.</div>\\n    <div class=\"news-card-author-time news-card-author-time-in-content\">\\n      <a href=\"/prev/en/news/wikipedia-blocked-in-china-in-all-languages-confirms-owner-1558018675983\"><span class=\"short\">short</span></a> by <span class=\"author\">Arundhati Rawat</span> / \\n      <span class=\"time\" itemprop=\"dateModified\" content=\"2019-05-16T14:57:55.000Z\" >08:27 pm</span> on <span class=\"date\">16 May</span>\\n    </div>\\n  </div>\\n  \\n    <div class=\"news-card-footer news-right-box\">\\n      <div class=\"read-more\">read more at <a class=\"source\" onclick=\"ga(\\'send\\', {\\'hitType\\': \\'event\\', \\'eventCategory\\': \\'ReadMore\\', \\'eventAction\\': \\'clicked\\', \\'eventLabel\\': \\'Reuters\\' });\" target=\"_blank\" href=\"https://in.reuters.com/article/us-china-censorship-wikipedia/online-encyclopedia-wikipedia-blocked-in-china-ahead-of-tiananmen-anniversary-idINKCN1SL121?utm_campaign=fullarticle&amp;utm_medium=referral&amp;utm_source=inshorts \">Reuters</a></div>\\n    </div>\\n  \\n\\n</div>\\n\\n  \\n</div>\\n\\n\\n\\n\\n  \\n    <div id=\\'div-gpt-ad-1536748319959-nwyjk5i0-1\\' style=\\'height:250px; width:900px; margin: auto; margin-bottom: 2%;\\'>\\n      <script>\\n        googletag.cmd.push(function() { \\n          //News banner for desktop\\n          var slotIdWeb = \\'div-gpt-ad-1536748319959-nwyjk5i0-1\\';\\n          var slot = googletag.defineSlot(\\'/142919096/inshorts_website_900x250\\', [900, 250], slotIdWeb)\\n          .addService(googletag.pubads())\\n          .setCollapseEmptyDiv(true,true);\\n\\n          googletag.display(\\'div-gpt-ad-1536748319959-nwyjk5i0-1\\');\\n          googletag.pubads().refresh([slot]);\\n        });\\n      </script>\\n    </div>\\n  \\n\\n<div class=\"\">\\n<div class=\"news-card z-depth-1\" itemscope itemtype=\"http://schema.org/NewsArticle\">\\n  <span content=\"\" itemscope itemprop=\"mainEntityOfPage\" itemType=\"https://schema.org/WebPage\" itemid=\"https://inshorts.com/en/news/whatsapp-will-never-be-secure-telegram-ceo-pavel-durov-1558007571602\"></span>\\n  <span itemtype=\"https://schema.org/Person\" itemscope=\"itemscope\" itemprop=\"author\">\\n    <span itemprop=\"name\" content=\"Kanishka Pandey\"></span>\\n  </span>\\n  <span itemprop=\"description\" content=\"WhatsApp will never be secure: Telegram CEO Pavel Durov\"></span>\\n  <span itemprop=\"image\" itemscope itemtype=\"https://schema.org/ImageObject\">\\n    <meta itemprop=\"url\" content=\"https://assets.inshorts.com/inshorts/images/v1/variants/jpg/m/2019/05_may/16_thu/img_1558004266609_484.jpg\"></meta>\\n    <meta itemprop=\"width\" content=\"864\"></meta>\\n    <meta itemprop=\"height\" content=\"483\"></meta>\\n  </span>\\n  <span itemtype=\"https://schema.org/Organization\" itemscope=\"itemscope\" itemprop=\"publisher\">\\n    <span itemprop=\"url\" content=\"https://inshorts.com/\"></span>\\n    <span itemprop=\"name\" content=\"Inshorts\"></span>\\n    <span itemprop=\"logo\" itemscope itemtype=\"https://schema.org/ImageObject\">\\n      <span itemprop=\"url\" content=\"https://assets.inshorts.com/inshorts/images/v1/variants/jpg/m/2018/11_nov/21_wed/img_1542823931298_497.jpg\"></span>\\n      <meta itemprop=\"width\" content=\"400\"></meta>\\n      <meta itemprop=\"height\" content=\"60\"></meta>\\n    </span>\\n  </span>\\n  <div class=\"news-card-image\" style= \"background-image: url(\\'https://assets.inshorts.com/inshorts/images/v1/variants/jpg/m/2019/05_may/16_thu/img_1558004266609_484.jpg?resize=400px:*\\')\">\\n  </div>\\n  <div class=\"news-card-title news-right-box\">\\n    <a class=\"clickable\" onclick=\"ga(\\'send\\', {\\'hitType\\': \\'event\\', \\'eventCategory\\': \\'TitleOfNews\\', \\'eventAction\\': \\'clicked\\', \\'eventLabel\\': \\'WhatsApp%20will%20never%20be%20secure%3A%20Telegram%20CEO%20Pavel%20Durov)\\' });\"  style=\"color:#44444d!important\" href=\"/en/news/whatsapp-will-never-be-secure-telegram-ceo-pavel-durov-1558007571602\">\\n      <span itemprop=\"headline\">WhatsApp will never be secure: Telegram CEO Pavel Durov</span>\\n    </a>\\n    <div class=\"news-card-author-time news-card-author-time-in-title\">\\n      <a href=\"/prev/en/news/whatsapp-will-never-be-secure-telegram-ceo-pavel-durov-1558007571602\"><span class=\"short\">short</span></a> by <span class=\"author\">Kanishka Pandey</span> / \\n      <span class=\"time\" itemprop=\"datePublished\" content=\"2019-05-16T11:52:51.000Z\">05:22 pm</span> on <span clas=\"date\">16 May 2019,Thursday</span>\\n    </div>\\n  </div>\\n  <div class=\"news-card-content news-right-box\">\\n    <div itemprop=\"articleBody\">Telegram Co-founder and CEO Pavel Durov, in a blog post titled &#39;Why WhatsApp will never be secure&#39;, said the Facebook-owned platform isn&#39;t open-source, which makes it difficult for security researchers to check for existing backdoors. &#34;No wonder dictators seem to love WhatsApp,&#34; he said, adding, &#34;Its lack of security allows [criminals and authoritarian governments] to spy on their own people.&#34;</div>\\n    <div class=\"news-card-author-time news-card-author-time-in-content\">\\n      <a href=\"/prev/en/news/whatsapp-will-never-be-secure-telegram-ceo-pavel-durov-1558007571602\"><span class=\"short\">short</span></a> by <span class=\"author\">Kanishka Pandey</span> / \\n      <span class=\"time\" itemprop=\"dateModified\" content=\"2019-05-16T11:52:51.000Z\" >05:22 pm</span> on <span class=\"date\">16 May</span>\\n    </div>\\n  </div>\\n  \\n    <div class=\"news-card-footer news-right-box\">\\n      <div class=\"read-more\">read more at <a class=\"source\" onclick=\"ga(\\'send\\', {\\'hitType\\': \\'event\\', \\'eventCategory\\': \\'ReadMore\\', \\'eventAction\\': \\'clicked\\', \\'eventLabel\\': \\'Hindustan%20Times\\' });\" target=\"_blank\" href=\"https://www.hindustantimes.com/tech/whatsapp-will-never-be-secure-telegram-founder-slams-facebook-owned-app-over-security-lapse/story-BDsNXyLPcKVELuyO7XPQOP.html?utm_campaign=fullarticle&amp;utm_medium=referral&amp;utm_source=inshorts \">Hindustan Times</a></div>\\n    </div>\\n  \\n\\n</div>\\n\\n  \\n</div>\\n\\n\\n\\n\\n<div class=\"\">\\n<div class=\"news-card z-depth-1\" itemscope itemtype=\"http://schema.org/NewsArticle\">\\n  <span content=\"\" itemscope itemprop=\"mainEntityOfPage\" itemType=\"https://schema.org/WebPage\" itemid=\"https://inshorts.com/en/news/whatsapp-warns-clones-to-stop-bulk-text-services-in-india-1558061711462\"></span>\\n  <span itemtype=\"https://schema.org/Person\" itemscope=\"itemscope\" itemprop=\"author\">\\n    <span itemprop=\"name\" content=\"Arundhati Rawat\"></span>\\n  </span>\\n  <span itemprop=\"description\" content=\"WhatsApp warns clones to stop bulk text services in India\"></span>\\n  <span itemprop=\"image\" itemscope itemtype=\"https://schema.org/ImageObject\">\\n    <meta itemprop=\"url\" content=\"https://assets.inshorts.com/inshorts/images/v1/variants/jpg/m/2019/05_may/16_thu/img_1558024680893_528.jpg\"></meta>\\n    <meta itemprop=\"width\" content=\"864\"></meta>\\n    <meta itemprop=\"height\" content=\"483\"></meta>\\n  </span>\\n  <span itemtype=\"https://schema.org/Organization\" itemscope=\"itemscope\" itemprop=\"publisher\">\\n    <span itemprop=\"url\" content=\"https://inshorts.com/\"></span>\\n    <span itemprop=\"name\" content=\"Inshorts\"></span>\\n    <span itemprop=\"logo\" itemscope itemtype=\"https://schema.org/ImageObject\">\\n      <span itemprop=\"url\" content=\"https://assets.inshorts.com/inshorts/images/v1/variants/jpg/m/2018/11_nov/21_wed/img_1542823931298_497.jpg\"></span>\\n      <meta itemprop=\"width\" content=\"400\"></meta>\\n      <meta itemprop=\"height\" content=\"60\"></meta>\\n    </span>\\n  </span>\\n  <div class=\"news-card-image\" style= \"background-image: url(\\'https://assets.inshorts.com/inshorts/images/v1/variants/jpg/m/2019/05_may/16_thu/img_1558024680893_528.jpg?resize=400px:*\\')\">\\n  </div>\\n  <div class=\"news-card-title news-right-box\">\\n    <a class=\"clickable\" onclick=\"ga(\\'send\\', {\\'hitType\\': \\'event\\', \\'eventCategory\\': \\'TitleOfNews\\', \\'eventAction\\': \\'clicked\\', \\'eventLabel\\': \\'WhatsApp%20warns%20clones%20to%20stop%20bulk%20text%20services%20in%20India)\\' });\"  style=\"color:#44444d!important\" href=\"/en/news/whatsapp-warns-clones-to-stop-bulk-text-services-in-india-1558061711462\">\\n      <span itemprop=\"headline\">WhatsApp warns clones to stop bulk text services in India</span>\\n    </a>\\n    <div class=\"news-card-author-time news-card-author-time-in-title\">\\n      <a href=\"/prev/en/news/whatsapp-warns-clones-to-stop-bulk-text-services-in-india-1558061711462\"><span class=\"short\">short</span></a> by <span class=\"author\">Arundhati Rawat</span> / \\n      <span class=\"time\" itemprop=\"datePublished\" content=\"2019-05-17T02:55:11.000Z\">08:25 am</span> on <span clas=\"date\">17 May 2019,Friday</span>\\n    </div>\\n  </div>\\n  <div class=\"news-card-content news-right-box\">\\n    <div itemprop=\"articleBody\">WhatsApp has warned Indian firms which claimed they can help send bulk messages to stop operations. Reuters had reported apps like &#39;GBWhatsApp&#39; and &#39;JTWhatsApp&#39; were being used to bypass WhatsApp forwarding restrictions amid ongoing Lok Sabha elections. &#34;We ban approximately two million accounts and sent cease and desist letters to companies claiming to offer such services,&#34; said WhatsApp.</div>\\n    <div class=\"news-card-author-time news-card-author-time-in-content\">\\n      <a href=\"/prev/en/news/whatsapp-warns-clones-to-stop-bulk-text-services-in-india-1558061711462\"><span class=\"short\">short</span></a> by <span class=\"author\">Arundhati Rawat</span> / \\n      <span class=\"time\" itemprop=\"dateModified\" content=\"2019-05-17T02:55:11.000Z\" >08:25 am</span> on <span class=\"date\">17 May</span>\\n    </div>\\n  </div>\\n  \\n    <div class=\"news-card-footer news-right-box\">\\n      <div class=\"read-more\">read more at <a class=\"source\" onclick=\"ga(\\'send\\', {\\'hitType\\': \\'event\\', \\'eventCategory\\': \\'ReadMore\\', \\'eventAction\\': \\'clicked\\', \\'eventLabel\\': \\'Times%20Now\\' });\" target=\"_blank\" href=\"https://www.timesnownews.com/technology-science/article/whatsapp-warns-clones-to-cease-bogus-operations-in-india/420171?utm_campaign=fullarticle&amp;utm_medium=referral&amp;utm_source=inshorts \">Times Now</a></div>\\n    </div>\\n  \\n\\n</div>\\n\\n  \\n</div>\\n\\n\\n\\n\\n<div class=\"\">\\n<div class=\"news-card z-depth-1\" itemscope itemtype=\"http://schema.org/NewsArticle\">\\n  <span content=\"\" itemscope itemprop=\"mainEntityOfPage\" itemType=\"https://schema.org/WebPage\" itemid=\"https://inshorts.com/en/news/instagram-to-shut-down-its-standalone-direct-messaging-app-1558022422387\"></span>\\n  <span itemtype=\"https://schema.org/Person\" itemscope=\"itemscope\" itemprop=\"author\">\\n    <span itemprop=\"name\" content=\"Arundhati Rawat\"></span>\\n  </span>\\n  <span itemprop=\"description\" content=\"Instagram to shut down its standalone Direct messaging app\"></span>\\n  <span itemprop=\"image\" itemscope itemtype=\"https://schema.org/ImageObject\">\\n    <meta itemprop=\"url\" content=\"https://assets.inshorts.com/inshorts/images/v1/variants/jpg/m/2019/05_may/16_thu/img_1558019037811_227.jpg\"></meta>\\n    <meta itemprop=\"width\" content=\"864\"></meta>\\n    <meta itemprop=\"height\" content=\"483\"></meta>\\n  </span>\\n  <span itemtype=\"https://schema.org/Organization\" itemscope=\"itemscope\" itemprop=\"publisher\">\\n    <span itemprop=\"url\" content=\"https://inshorts.com/\"></span>\\n    <span itemprop=\"name\" content=\"Inshorts\"></span>\\n    <span itemprop=\"logo\" itemscope itemtype=\"https://schema.org/ImageObject\">\\n      <span itemprop=\"url\" content=\"https://assets.inshorts.com/inshorts/images/v1/variants/jpg/m/2018/11_nov/21_wed/img_1542823931298_497.jpg\"></span>\\n      <meta itemprop=\"width\" content=\"400\"></meta>\\n      <meta itemprop=\"height\" content=\"60\"></meta>\\n    </span>\\n  </span>\\n  <div class=\"news-card-image\" style= \"background-image: url(\\'https://assets.inshorts.com/inshorts/images/v1/variants/jpg/m/2019/05_may/16_thu/img_1558019037811_227.jpg?resize=400px:*\\')\">\\n  </div>\\n  <div class=\"news-card-title news-right-box\">\\n    <a class=\"clickable\" onclick=\"ga(\\'send\\', {\\'hitType\\': \\'event\\', \\'eventCategory\\': \\'TitleOfNews\\', \\'eventAction\\': \\'clicked\\', \\'eventLabel\\': \\'Instagram%20to%20shut%20down%20its%20standalone%20Direct%20messaging%20app)\\' });\"  style=\"color:#44444d!important\" href=\"/en/news/instagram-to-shut-down-its-standalone-direct-messaging-app-1558022422387\">\\n      <span itemprop=\"headline\">Instagram to shut down its standalone Direct messaging app</span>\\n    </a>\\n    <div class=\"news-card-author-time news-card-author-time-in-title\">\\n      <a href=\"/prev/en/news/instagram-to-shut-down-its-standalone-direct-messaging-app-1558022422387\"><span class=\"short\">short</span></a> by <span class=\"author\">Arundhati Rawat</span> / \\n      <span class=\"time\" itemprop=\"datePublished\" content=\"2019-05-16T16:00:22.000Z\">09:30 pm</span> on <span clas=\"date\">16 May 2019,Thursday</span>\\n    </div>\\n  </div>\\n  <div class=\"news-card-content news-right-box\">\\n    <div itemprop=\"articleBody\">Instagram has confirmed it is &#34;rolling back the test of the standalone Direct (messaging) app&#34;. User conversations will automatically move to the Instagram app, as per an app notification shared on Twitter by social media consultant Matt Navarra. The notification also states that Instagram will end support for Direct, which first appeared in 2017, in the coming month.</div>\\n    <div class=\"news-card-author-time news-card-author-time-in-content\">\\n      <a href=\"/prev/en/news/instagram-to-shut-down-its-standalone-direct-messaging-app-1558022422387\"><span class=\"short\">short</span></a> by <span class=\"author\">Arundhati Rawat</span> / \\n      <span class=\"time\" itemprop=\"dateModified\" content=\"2019-05-16T16:00:22.000Z\" >09:30 pm</span> on <span class=\"date\">16 May</span>\\n    </div>\\n  </div>\\n  \\n    <div class=\"news-card-footer news-right-box\">\\n      <div class=\"read-more\">read more at <a class=\"source\" onclick=\"ga(\\'send\\', {\\'hitType\\': \\'event\\', \\'eventCategory\\': \\'ReadMore\\', \\'eventAction\\': \\'clicked\\', \\'eventLabel\\': \\'TechCrunch\\' });\" target=\"_blank\" href=\"https://techcrunch.com/2019/05/16/rip-instagram-direct-app/?utm_campaign=fullarticle&amp;utm_medium=referral&amp;utm_source=inshorts \">TechCrunch</a></div>\\n    </div>\\n  \\n\\n</div>\\n\\n  \\n</div>\\n\\n      </div>\\n      \\n      \\n      <div class=\"load-more-wrapper\">\\n        <div id=\"load-more-btn\" onclick=\"loadMoreNews()\" class=\"clickable unselectable load-more z-depth-1 hoverable\">Load More</div>\\n        <div id=\"load-more-gif\" style=\"display:none;\" class=\"clickable unselectable load-more\"><img id=\"load-more-gif\" src=\"https://assets.inshorts.com/website_assets/images/ajax-loader.gif\"/></div>\\n      </div>\\n      \\n\\n      \\n      <div class=\"my-red app-download-pane  hide-on-large-only\">\\n        <div class=\"container\">\\n          <div class=\"row\">\\n            <div class=\"col s12 center\" style=\"color:white;font-weight: 300;font-size:14px;margin-top: 28px;margin-bottom: 18px;\">\\n              For the best experience use <a target=\"_blank\" href=\"/mobile\" style=\"color:white;appearance: none;font-weight: 500;\">inshorts</a> app on your smartphone\\n            </div>\\n            \\n            \\n            <div class=\"col offset-s2 s8\">\\n              <a  onclick=\"ga(\\'send\\', {\\'hitType\\': \\'event\\', \\'eventCategory\\': \\'DownloadApp\\', \\'eventAction\\': \\'clicked\\', \\'eventLabel\\': \\'RedirectedToGooglePlayStore\\' });\" target=\"_blank\" href=\"https://play.google.com/store/apps/details?id=com.nis.app&referrer=utm_source%3DNews%2520In%2520Shorts%2520Website\"><img class=\"col l4 m8 s12\" src=\"https://assets.inshorts.com/website_assets/images/playstore.png\"/></a>\\n            </div>\\n            \\n          </div>\\n        </div>\\n      </div>\\n      \\n\\n    </div>\\n  </div>\\n  <!-- BODY END -->\\n  <footer class=\"page-footer teals\"> \\n  <div class=\"container\">\\n    <div class=\"row\" style=\"margin-bottom: 0px; padding-bottom: 5px;\">\\n\\n      <div class=\"col offset-l3 l3 m4 s12 right social-admin\">\\n        <div class=\"social-share\"><a onclick=\"ga(\\'send\\', {\\'hitType\\': \\'event\\', \\'eventCategory\\': \\'LinkToFaceBookPage\\', \\'eventAction\\': \\'clicked\\', \\'eventLabel\\': \\'RedirectedToFaceBook\\' });\" target=\"_blank\" href=\"https://www.facebook.com/inshortsapp\"><img src=\"https://assets.inshorts.com/website_assets/images/facebook.png\"/></a></div>\\n        <div class=\"social-share\"><a onclick=\"ga(\\'send\\', {\\'hitType\\': \\'event\\', \\'eventCategory\\': \\'LinkToTwitterPage\\', \\'eventAction\\': \\'clicked\\', \\'eventLabel\\': \\'RedirectedToTwitter\\' });\" target=\"_blank\" href=\"https://twitter.com/inshorts\"><img src=\"https://assets.inshorts.com/website_assets/images/twitter.png\"/></a></div>\\n        <div class=\"social-share\"><a onclick=\"ga(\\'send\\', {\\'hitType\\': \\'event\\', \\'eventCategory\\': \\'LinkToLinkedinPage\\', \\'eventAction\\': \\'clicked\\', \\'eventLabel\\': \\'RedirectedToLinkedin\\' });\" target=\"_blank\" href=\"https://www.linkedin.com/company/news-in-shorts\"><img src=\"https://assets.inshorts.com/website_assets/images/linkedin.png\"/></a></div>\\n      </div>\\n\\n\\n      <div class=\"col m4 l3 s6 footer-left-pane\">\\n        <div class=\"right\"><img width=\"160px\" height=\"48px\" src=\"https://assets.inshorts.com/website_assets/images/logo_footer.png\"/></div>\\n\\n        <div class=\"copy-text\" >\\n          <span><span style=\"color:#cfcfcf;font-family: \\'Conv_ClanPro-Bold\\'\">inshorts</span> medialabs pvt. ltd.</span><br/>\\n          &copy;<span style=\"font-size:12px\">COPYRIGHT 2019</span>\\n        </div>\\n      </div>\\n      <div class=\"col m4 l3 s6 footer-right-pane\">\\n        <div id=\"contactUsBtn\" class=\"left clickable\" style=\"margin-top: -5px;\"><img width=\"132px\" height=\"48px\" src=\"https://assets.inshorts.com/website_assets/images/contact_icon.png\"/></div>              \\n        <div class=\"terms-text\">\\n          <a class=\"tnc\" style=\"color: #fff;\" onclick=\"ga(\\'send\\', {\\'hitType\\': \\'event\\', \\'eventCategory\\': \\'LinkToTermsAndConditionsAndPP\\', \\'eventAction\\': \\'clicked\\', \\'eventLabel\\': \\'RedirectedToTermsAndConditions\\' });\" target=\"_blank\" href=\"/tnc\"><span>Terms &amp; conditions</span><br/>\\n          <span>Privacy Policies</span>\\n          </a>\\n          <br/>\\n          <a class=\"tnc\" style=\"color: #fff;\" onclick=\"ga(\\'send\\', {\\'hitType\\': \\'event\\', \\'eventCategory\\': \\'LinkToSitemap\\', \\'eventAction\\': \\'clicked\\', \\'eventLabel\\': \\'RedirectedToSitemap\\' });\" target=\"_blank\" href=\"/editorial_policy\">\\n          <span>Editorial Policy</span>\\n          </a>\\n        </div>\\n      </div>\\n    </div>\\n  </div>\\n  <div id=\"contactUsModal\" class=\"modal_contact row\">\\n    <!-- Modal content -->\\n      <div class=\"modal-content col l4 m4 s8 offset-s2 offset-l4 offset-m4\">\\n        <span class=\"close\">&times;</span>\\n        <div class=\"contact\">\\n          <a target=\"_blank\" href=\"mailto:careers@inshorts.com?subject=Inshorts%20website%20contact%20form\">\\n            <button id=\"myBtn\">Contact Hiring Team</button>\\n          </a>\\n        </div>\\n        <div class=\"contact\">\\n          <a target=\"_blank\" href=\"mailto:Admin@inshorts.com?subject=Inshorts%20website%20contact%20form\">\\n            <button id=\"myBtn\">Contact Admin Team</button>\\n          </a>\\n        </div>\\n        <div class=\"contact\">\\n          <a target=\"_blank\" href=\"mailto:Marketing@inshorts.com?subject=Inshorts%20website%20contact%20form\">\\n            <button id=\"myBtn\">Contact Marketing Team</button>\\n          </a>\\n        </div>\\n        <div class=\"contact\">\\n          <a target=\"_blank\" href=\"mailto:Editorial@inshorts.com?subject=Inshorts%20website%20contact%20form\">\\n            <button id=\"myBtn\">Contact Editorial Team</button>\\n          </a>\\n        </div>\\n        <div class=\"contact\">\\n          <a target=\"_blank\" href=\"mailto:Sales@inshorts.com?subject=Inshorts%20website%20contact%20form\">\\n            <button id=\"myBtn\">Contact Sales Team</button>\\n          </a>\\n        </div>\\n        <div class=\"contact\">\\n          <a target=\"_blank\" href=\"mailto:Contact@inshorts.com?subject=Inshorts%20website%20contact%20form\">\\n            <button id=\"myBtn\">Contact For Any Other Query</button>\\n          </a>\\n        </div>\\n      </div>\\n  </div>\\n</footer>\\n<script>\\nvar modal = document.getElementById(\\'contactUsModal\\');\\n\\n// Get the button that opens the modal\\nvar btn = document.getElementById(\"contactUsBtn\");\\n\\n// Get the <span> element that closes the modal\\nvar span = document.getElementsByClassName(\"close\")[0];\\n\\n// When the user clicks on the button, open the modal \\nbtn.onclick = function() {\\n    modal.style.display = \"block\";\\n}\\n\\n// When the user clicks on <span> (x), close the modal\\nspan.onclick = function() {\\n    modal.style.display = \"none\";\\n}\\n\\n// When the user clicks anywhere outside of the modal, close it\\nwindow.onclick = function(event) {\\n    if (event.target == modal) {\\n        modal.style.display = \"none\";\\n    }\\n}\\n</script>\\n\\n\\n  <!-- Eliminate render-blocking JavaScript and CSS in above-the-fold content -->\\n  <script src=\"https://ajax.googleapis.com/ajax/libs/jquery/1.8/jquery.min.js\"></script>\\n  <script src=\"https://cdnjs.cloudflare.com/ajax/libs/materialize/0.97.0/js/materialize.min.js\"></script>\\n  \\n  <script type=\"text/javascript\" src=\"/dist/scripts/index.js\"></script>\\n  <script type=\"text/javascript\" src=\"/dist/scripts/read.js\"></script>\\n  <script src=\"/dist/scripts/jquery.scrolldepth.min.js\"></script>\\n  <script type=\"text/javascript\">\\n\\n    var min_news_id = \"tvxp9a9t-1\";\\n    function loadMoreNews(){\\n      $(\"#load-more-btn\").hide();\\n      $(\"#load-more-gif\").show();\\n      $.post(\"/en/ajax/more_news\",{\\'category\\':\\'technology\\',\\'news_offset\\':min_news_id},function(data){\\n          data = JSON.parse(data);\\n          min_news_id = data.min_news_id||min_news_id;\\n          $(\".card-stack\").append(data.html);\\n      })\\n      .fail(function(){alert(\"Error : unable to load more news\");})\\n      .always(function(){$(\"#load-more-btn\").show();$(\"#load-more-gif\").hide();});\\n    }\\n    jQuery.scrollDepth();\\n  </script>\\n\\n  <!-- Eliminate render-blocking JavaScript and CSS in above-the-fold content -->\\n\\n</body>\\n</html>\\n'"
      ]
     },
     "execution_count": 7,
     "metadata": {},
     "output_type": "execute_result"
    }
   ],
   "source": [
    "data = requests.get(url)\n",
    "data.content"
   ]
  },
  {
   "cell_type": "code",
   "execution_count": 8,
   "metadata": {
    "colab": {},
    "colab_type": "code",
    "id": "XZ8gHfTBwySC"
   },
   "outputs": [],
   "source": [
    "soup = BeautifulSoup(data.content, 'html.parser')"
   ]
  },
  {
   "cell_type": "code",
   "execution_count": 9,
   "metadata": {},
   "outputs": [
    {
     "data": {
      "text/plain": [
       "<!DOCTYPE doctype html>\n",
       "\n",
       "<html lang=\"en\">\n",
       "<head>\n",
       "<meta charset=\"utf-8\"/>\n",
       "<style>\n",
       "    /* The Modal (background) */\n",
       "    .modal_contact {\n",
       "        display: none; /* Hidden by default */\n",
       "        position: fixed; /* Stay in place */\n",
       "        z-index: 8; /* Sit on top */\n",
       "        left: 0;\n",
       "        top: 0;\n",
       "        width: 100%; /* Full width */\n",
       "        height: 100%;\n",
       "        overflow: auto; /* Enable scroll if needed */\n",
       "        background-color: rgb(0,0,0); /* Fallback color */\n",
       "        background-color: rgba(0,0,0,0.4); /* Black w/ opacity */\n",
       "    }\n",
       "\n",
       "    /* Modal Content/Box */\n",
       "    .modal-content {\n",
       "        background-color: #fefefe;\n",
       "        margin: 15% auto;\n",
       "        padding: 20px !important;\n",
       "        padding-top: 0 !important;\n",
       "        /* border: 1px solid #888; */\n",
       "        text-align: center;\n",
       "        position: relative;\n",
       "        border-radius: 6px;\n",
       "    }\n",
       "\n",
       "    /* The Close Button */\n",
       "    .close {\n",
       "      left: 90%;\n",
       "      color: #aaa;\n",
       "      float: right;\n",
       "      font-size: 28px;\n",
       "      font-weight: bold;\n",
       "    /* position: absolute; */\n",
       "    /* bottom: 86%; */\n",
       "    /* display: inline-block; */\n",
       "    /* padding-left: 5%; */\n",
       "    }\n",
       "\n",
       "    .close:hover,\n",
       "    .close:focus {\n",
       "        color: black;\n",
       "        text-decoration: none;\n",
       "        cursor: pointer;\n",
       "    }\n",
       "\n",
       "    #myBtn {\n",
       "      background: #999999;\n",
       "      color: #ffffff;\n",
       "      text-transform: uppercase;\n",
       "      font-weight: bold;\n",
       "      box-shadow: none;\n",
       "      border-radius: 4px;\n",
       "      border: none;\n",
       "      font-size: .8rem;\n",
       "      /* width: 8rem; */\n",
       "      height: 2rem;\n",
       "      line-height: 2rem;\n",
       "    }\n",
       "\n",
       "    .contact {\n",
       "      margin-bottom: 4%;\n",
       "      clear: both;\n",
       "    }\n",
       "  </style>\n",
       "<meta content=\"text/html; charset=utf-8\" http-equiv=\"Content-Type\"/>\n",
       "<meta content=\"width=device-width, initial-scale=1, maximum-scale=1.0, user-scalable=no\" name=\"viewport\"/>\n",
       "<meta content=\"IE=edge\" http-equiv=\"X-UA-Compatible\"/>\n",
       "<link href=\"manifest.json\" rel=\"manifest\"/>\n",
       "<!-- Fallback to homescreen for Chrome   <39 on Android -->\n",
       "<meta content=\"yes\" name=\"mobile-web-app-capable\"/>\n",
       "<meta content=\"inshorts\" name=\"application-name\"/>\n",
       "<link href=\"https://assets.inshorts.com/website_assets/images/favicon.png\" rel=\"icon\" sizes=\"192x192\"/>\n",
       "<!-- Add to homescreen for Safari on iOS -->\n",
       "<meta content=\"yes\" name=\"apple-mobile-web-app-capable\"/>\n",
       "<meta content=\"#424242\" name=\"apple-mobile-web-app-status-bar-style\"/>\n",
       "<meta content=\"inshorts\" name=\"apple-mobile-web-app-title\"/>\n",
       "<link href=\"https://assets.inshorts.com/website_assets/images/favicon.png\" rel=\"apple-touch-icon\"/>\n",
       "<!-- Tile icon for Win8 (144x144 + tile color) -->\n",
       "<meta content=\"fav/favicon.png\" name=\"msapplication-TileImage\"/>\n",
       "<meta content=\"#424242\" name=\"msapplication-TileColor\"/>\n",
       "<meta content=\"#424242\" name=\"theme-color\"/>\n",
       "<meta content=\"text/html; charset=utf-8\" http-equiv=\"content-type\">\n",
       "<meta content=\"#424242\" name=\"msapplication-navbutton-color\"/>\n",
       "<meta content=\"#424242\" name=\"apple-mobile-web-app-status-bar-style\"/>\n",
       "<link href=\"https://assets.inshorts.com/website_assets/images/favicon.png\" rel=\"apple-touch-startup-image\"/>\n",
       "<meta content=\"black-translucent\" name=\"apple-mobile-web-app-status-bar-style\"/>\n",
       "<meta content=\"app\" name=\"twitter:card\">\n",
       "<meta content=\"@inshorts\" name=\"twitter:site\">\n",
       "<meta content=\"@inshorts\" name=\"twitter:creator\">\n",
       "<meta content=\"Inshorts delivers news in less than 60 words, containing only the essential facts, compromising on anything that is close to opinionating and storytelling.\" name=\"twitter:description\">\n",
       "<meta content=\"IN\" name=\"twitter:app:country\">\n",
       "<meta content=\"Inshorts - Stay Informed\" name=\"twitter:app:name:iphone\">\n",
       "<meta content=\"892146527\" name=\"twitter:app:id:iphone\">\n",
       "<meta content=\"nis://news\" name=\"twitter:app:url:iphone\">\n",
       "<meta content=\"Inshorts - Stay Informed\" name=\"twitter:app:name:ipad\">\n",
       "<meta content=\"892146527\" name=\"twitter:app:id:ipad\">\n",
       "<meta content=\"nis://news\" name=\"twitter:app:url:ipad\">\n",
       "<meta content=\"Inshorts - Stay Informed\" name=\"twitter:app:name:googleplay\"/>\n",
       "<meta content=\"com.nis.app\" name=\"twitter:app:id:googleplay\"/>\n",
       "<meta content=\"nis://news\" name=\"twitter:app:url:googleplay\"/>\n",
       "<meta content=\"Read technology news in English in less that 60 words and get updated with all top news and current affairs related to mobile, internet and computer in a fast and easy way with inshorts.\" name=\"description\"/>\n",
       "<link href=\"https://inshorts.com/en/read/technology\" rel=\"canonical\">\n",
       "<link href=\"https://inshorts.com/en/read/technology\" reflang=\"en\" rel=\"alternate\">\n",
       "<meta content=\"app-id=892146527\" name=\"apple-itunes-app\"/>\n",
       "<meta content=\"app-id=com.nis.app\" name=\"google-play-app\"/>\n",
       "<title>Technology News: Moblie News, Computer News in English with Inshorts</title>\n",
       "<!-- CSS  -->\n",
       "<link href=\"https://fonts.googleapis.com/css?family=Roboto\" rel=\"stylesheet\" type=\"text/css\"/>\n",
       "<link href=\"https://fonts.googleapis.com/icon?family=Material+Icons\" rel=\"stylesheet\"/>\n",
       "<link href=\"https://cdnjs.cloudflare.com/ajax/libs/materialize/0.97.1/css/materialize.min.css\" rel=\"stylesheet\"/>\n",
       "<link href=\"https://fonts.googleapis.com/css?family=Hind:500,600,400&amp;subset=latin,devanagari\" rel=\"stylesheet\" type=\"text/css\"/>\n",
       "<link href=\"/dist/styles/main.css\" media=\"screen,projection\" rel=\"stylesheet\" type=\"text/css\">\n",
       "<link href=\"/dist/styles/index.css\" media=\"screen,projection\" rel=\"stylesheet\" type=\"text/css\">\n",
       "<link href=\"/dist/styles/read.css\" media=\"screen,projection\" rel=\"stylesheet\" type=\"text/css\">\n",
       "<link href=\"/dist/styles/news-card.css\" media=\"screen,projection\" rel=\"stylesheet\" type=\"text/css\">\n",
       "<link href=\"https://assets.inshorts.com/website_assets/images/favicon.png\" rel=\"icon\" type=\"image/png\">\n",
       "<link href=\"/dist/manifest.json\" rel=\"manifest\"/>\n",
       "<script async=\"async\" src=\"https://www.googletagservices.com/tag/js/gpt.js\"></script>\n",
       "<script>\n",
       "    var googletag = googletag || {};\n",
       "    googletag.cmd = googletag.cmd || [];\n",
       "    let top_banner_slot;\n",
       "  </script>\n",
       "<!-- Top banner for desktop-->\n",
       "<script>\n",
       "    googletag.cmd.push(function() {\n",
       "      \n",
       "      \n",
       "        //Top banner for desktop\n",
       "        top_banner_slot = googletag.defineSlot('/142919096/inshorts_website_728x90', [728, 90], 'div-gpt-ad-1536585015617-0')\n",
       "        .addService(googletag.pubads())\n",
       "        .setCollapseEmptyDiv(true,true);\n",
       "      \n",
       "\n",
       "      googletag.pubads().disableInitialLoad();\n",
       "      googletag.pubads().enableSingleRequest();\n",
       "      googletag.enableServices();\n",
       "    });\n",
       "  </script>\n",
       "</link></link></link></link></link></link></link></meta></meta></meta></meta></meta></meta></meta></meta></meta></meta></meta></meta></head>\n",
       "<script>\n",
       "  (function(i,s,o,g,r,a,m){i['GoogleAnalyticsObject']=r;i[r]=i[r]||function(){\n",
       "  (i[r].q=i[r].q||[]).push(arguments)},i[r].l=1*new Date();a=s.createElement(o),\n",
       "  m=s.getElementsByTagName(o)[0];a.async=1;a.src=g;m.parentNode.insertBefore(a,m)\n",
       "  })(window,document,'script','//www.google-analytics.com/analytics.js','ga');\n",
       "\n",
       "  ga('create', 'UA-55157535-6', 'auto');\n",
       "  ga('send', 'pageview');  \n",
       "</script>\n",
       "<body>\n",
       "<!-- Begin comScore Tag -->\n",
       "<script>\n",
       "    var _comscore = _comscore || [];\n",
       "    _comscore.push({ c1: \"2\", c2: \"28268321\" });\n",
       "    (function() {\n",
       "      var s = document.createElement(\"script\"), el = document.getElementsByTagName(\"script\")[0]; s.async = true;\n",
       "      s.src = (document.location.protocol == \"https:\" ? \"https://sb\" : \"http://b\") + \".scorecardresearch.com/beacon.js\";\n",
       "      el.parentNode.insertBefore(s, el);\n",
       "    })();\n",
       "  </script>\n",
       "<noscript>\n",
       "<img src=\"https://sb.scorecardresearch.com/p?c1=2&amp;c2=28268321&amp;cv=2.0&amp;cj=1\"/>\n",
       "</noscript>\n",
       "<!-- HEADER START -->\n",
       "<div class=\"header z-depth-1\">\n",
       "<div class=\"menu clickable\">\n",
       "<button class=\"c-hamburger c-hamburger--htx\"><span>toggle menu</span></button><span class=\"unselectable\">Menu</span>\n",
       "</div>\n",
       "<!--\n",
       "    <div class=\"search-wrapper hide-on-small-only\">\n",
       "      <input class=\"search-box\" placeholder=\"Search\" id=\"search\"/>\n",
       "      <i id=\"search_icon\" class=\"material-icons search-icon\">search</i>\n",
       "      <div class=\"search-box-ul\">&nbsp;</div>\n",
       "    </div>\n",
       "    -->\n",
       "<a href=\"/\"><img class=\"logo\" src=\"https://assets.inshorts.com/website_assets/images/logo_inshorts.png\"/></a>\n",
       "</div>\n",
       "<!-- HEADER END -->\n",
       "<!--SIDEBAR START -->\n",
       "<div class=\"hide-on-med-and-up sidebar-bg\" style=\"display: none;\"> </div>\n",
       "<div class=\"sidebar\" style=\"overflow-y: scroll;\">\n",
       "<div class=\"lang-bar\" style=\"\">\n",
       "<div class=\"lang-selector clickable\">\n",
       "<a href=\"/en/read/technology\"><div class=\"lang-en selected\">English</div></a>\n",
       "<a href=\"/hi/read/technology\"><div class=\"lang-hi \">हिन्दी</div></a>\n",
       "</div>\n",
       "</div>\n",
       "<div>\n",
       "<div class=\"category-header\">Categories</div>\n",
       "<ul class=\"category-list\">\n",
       "<a href=\"/en/read\" onclick=\"ga('send', {'hitType': 'event', 'eventCategory': 'LinkToAllNews', 'eventAction': 'clicked', 'eventLabel': 'RedirectedToAllNews' });\"> <li class=\"active-category \">All News</li> </a>\n",
       "<a href=\"/en/read/national\" onclick=\"ga('send', {'hitType': 'event', 'eventCategory': 'LinkToIndiaNews', 'eventAction': 'clicked', 'eventLabel': 'RedirectedToIndiaNews' });\"> <li class=\"active-category \">India</li> </a>\n",
       "<a \"clicked\",=\"\" \"event\",=\"\" \"eventaction\":=\"\" \"eventcategory\":=\"\" \"eventlabel\":=\"\" \"linktoindianews\",=\"\" \"redirectedtoindianews\"=\"\" href=\"/en/read/business\" onclick=\"ga(\" send\",=\"\" {\"hittype\":=\"\" });\"=\"\"> <li class=\"active-category \">Business</li> </a>\n",
       "<a href=\"/en/read/sports\" onclick=\"ga('send', {'hitType': 'event', 'eventCategory': 'LinkTosportsNews', 'eventAction': 'clicked', 'eventLabel': 'RedirectedToSportsNews' });\"> <li class=\"active-category \">Sports</li> </a>\n",
       "<a href=\"/en/read/world\" onclick=\"ga('send', {'hitType': 'event', 'eventCategory': 'LinkToworldNews', 'eventAction': 'clicked', 'eventLabel': 'RedirectedToworldNews' });\"> <li class=\"active-category \">World</li> </a>\n",
       "<a href=\"/en/read/politics\" onclick=\"ga('send', {'hitType': 'event', 'eventCategory': 'LinkToworldNews', 'eventAction': 'clicked',   'eventLabel': 'RedirectedToworldNews' });\"> <li class=\"active-category \">Politics</li> </a>\n",
       "<a href=\"/en/read/technology\" onclick=\"ga('send', {'hitType': 'event', 'eventCategory': 'LinkTotechnologyNews', 'eventAction': 'clicked', 'eventLabel': 'RedirectedTotechnologyNews' });\"> <li class=\"active-category selected\">Technology</li> </a>\n",
       "<a href=\"/en/read/startup\" onclick=\"ga('send', {'hitType': 'event', 'eventCategory': 'LinkTostartupNews', 'eventAction': 'clicked', 'eventLabel': 'RedirectedTostartupNews' });\"> <li class=\"active-category \">Startup</li> </a>\n",
       "<a href=\"/en/read/entertainment\" onclick=\"ga('send', {'hitType': 'event', 'eventCategory': 'LinkToEntertainmentNews', 'eventAction': 'clicked', 'eventLabel': 'RedirectedToEntertainmentNews' });\"> <li class=\"active-category \">Entertainment</li> </a>\n",
       "<a href=\"/en/read/miscellaneous\" onclick=\"ga('send', {'hitType': 'event', 'eventCategory': 'LinkToMiscellaneousNews', 'eventAction': 'clicked', 'eventLabel': 'RedirectedToMiscellaneousNews' });\"> <li class=\"active-category \">Miscellaneous</li> </a>\n",
       "<a href=\"/en/read/hatke\" onclick=\"ga('send', {'hitType': 'event', 'eventCategory': 'LinkTohatkeNews', 'eventAction': 'clicked', 'eventLabel': 'RedirectedTohatkeNews' });\"> <li class=\"active-category \">Hatke</li> </a>\n",
       "<a href=\"/en/read/science\" onclick=\"ga('send', {'hitType': 'event', 'eventCategory': 'LinkToscienceNews', 'eventAction': 'clicked', 'eventLabel': 'RedirectedToscienceNews' });\"> <li class=\"active-category \">Science</li> </a>\n",
       "<a href=\"/en/read/automobile\" onclick=\"ga('send', {'hitType': 'event', 'eventCategory': 'LinkToautomobileNews', 'eventAction': 'clicked', 'eventLabel': 'RedirectedToautomobileNews' });\"> <li class=\"active-category \">Automobile</li> </a>\n",
       "</ul>\n",
       "</div>\n",
       "</div>\n",
       "<!--SIDEBAR END -->\n",
       "<!-- BODY START -->\n",
       "<div class=\"container\" style=\"min-height:550px;\">\n",
       "<div class=\"row\" style=\"padding-top:110px;\">\n",
       "<div id=\"div-gpt-ad-1536585015617-0\" style=\"height:90px; width:728px;margin: auto; margin-bottom: 1%;\">\n",
       "<script>\n",
       "          googletag.cmd.push(function() { \n",
       "            googletag.display('div-gpt-ad-1536585015617-0'); \n",
       "            googletag.pubads().refresh([top_banner_slot]);\n",
       "          });\n",
       "          </script>\n",
       "</div>\n",
       "<div class=\"hide-on-med-and-down z-depth-1\" style=\"margin-left : auto;margin-right : auto;margin-bottom: 32px;width : 900px;height:48px;background: #f44336\">\n",
       "<div style=\"font-weight: 300;color:white !important;font-size:14px;margin-left: 48px;margin-top: 13px;position: absolute;display: block;\">\n",
       "          For the best experience use <a href=\"https://inshorts.com/mobile\" style=\"color:white;appearance: none;font-weight: 500;\" target=\"_blank\">inshorts</a> app on your smartphone\n",
       "        </div>\n",
       "<a href=\"https://itunes.apple.com/us/app/news-in-shorts/id892146527\" onclick=\"ga('send', {'hitType': 'event', 'eventCategory': 'DownloadApp', 'eventAction': 'clicked', 'eventLabel': 'RedirectedToApplePlayStore' });\" target=\"_blank\"><img class=\"col l2 m2\" src=\"https://assets.inshorts.com/website_assets/images/appstore.png\" style=\"margin-top:5px;margin-left:550px;\"/></a>\n",
       "<a href=\"https://play.google.com/store/apps/details?id=com.nis.app&amp;referrer=utm_source%3DNews%2520In%2520Shorts%2520Website\" onclick=\"ga('send', {'hitType': 'event', 'eventCategory': 'DownloadApp', 'eventAction': 'clicked', 'eventLabel': 'RedirectedToGooglePlayStore' });\" target=\"_blank\"><img class=\"col l2 m2\" src=\"https://assets.inshorts.com/website_assets/images/playstore.png\" style=\"margin-top:5px;\"/></a>\n",
       "</div>\n",
       "<div class=\"card-stack\">\n",
       "<div class=\"\">\n",
       "<div class=\"news-card z-depth-1\" itemscope=\"\" itemtype=\"http://schema.org/NewsArticle\">\n",
       "<span content=\"\" itemid=\"https://inshorts.com/en/news/oneplus-launches-new-brand-campaign-featuring-robert-downey-jr-1557993274196\" itemprop=\"mainEntityOfPage\" itemscope=\"\" itemtype=\"https://schema.org/WebPage\"></span>\n",
       "<span itemprop=\"author\" itemscope=\"itemscope\" itemtype=\"https://schema.org/Person\">\n",
       "<span content=\"Roshan Gupta\" itemprop=\"name\"></span>\n",
       "</span>\n",
       "<span content=\"OnePlus launches new brand campaign featuring Robert Downey Jr.\" itemprop=\"description\"></span>\n",
       "<span itemprop=\"image\" itemscope=\"\" itemtype=\"https://schema.org/ImageObject\">\n",
       "<meta content=\"https://assets.inshorts.com/inshorts/images/v1/variants/jpg/m/2019/05_may/16_thu/img_1557993160450_223.jpg\" itemprop=\"url\"/>\n",
       "<meta content=\"864\" itemprop=\"width\"/>\n",
       "<meta content=\"483\" itemprop=\"height\"/>\n",
       "</span>\n",
       "<span itemprop=\"publisher\" itemscope=\"itemscope\" itemtype=\"https://schema.org/Organization\">\n",
       "<span content=\"https://inshorts.com/\" itemprop=\"url\"></span>\n",
       "<span content=\"Inshorts\" itemprop=\"name\"></span>\n",
       "<span itemprop=\"logo\" itemscope=\"\" itemtype=\"https://schema.org/ImageObject\">\n",
       "<span content=\"https://assets.inshorts.com/inshorts/images/v1/variants/jpg/m/2018/11_nov/21_wed/img_1542823931298_497.jpg\" itemprop=\"url\"></span>\n",
       "<meta content=\"400\" itemprop=\"width\"/>\n",
       "<meta content=\"60\" itemprop=\"height\"/>\n",
       "</span>\n",
       "</span>\n",
       "<div class=\"news-card-image\" style=\"background-image: url('https://assets.inshorts.com/inshorts/images/v1/variants/jpg/m/2019/05_may/16_thu/img_1557993160450_223.jpg?resize=400px:*')\">\n",
       "</div>\n",
       "<div class=\"news-card-title news-right-box\">\n",
       "<a class=\"clickable\" href=\"/en/news/oneplus-launches-new-brand-campaign-featuring-robert-downey-jr-1557993274196\" onclick=\"ga('send', {'hitType': 'event', 'eventCategory': 'TitleOfNews', 'eventAction': 'clicked', 'eventLabel': 'OnePlus%20launches%20new%20brand%20campaign%20featuring%20Robert%20Downey%20Jr.)' });\" style=\"color:#44444d!important\">\n",
       "<span itemprop=\"headline\">OnePlus launches new brand campaign featuring Robert Downey Jr.</span>\n",
       "</a>\n",
       "<div class=\"news-card-author-time news-card-author-time-in-title\">\n",
       "<a href=\"/prev/en/news/oneplus-launches-new-brand-campaign-featuring-robert-downey-jr-1557993274196\"><span class=\"short\">short</span></a> by <span class=\"author\">Roshan Gupta</span> / \n",
       "      <span class=\"time\" content=\"2019-05-16T07:54:34.000Z\" itemprop=\"datePublished\">01:24 pm</span> on <span clas=\"date\">16 May 2019,Thursday</span>\n",
       "</div>\n",
       "</div>\n",
       "<div class=\"news-card-content news-right-box\">\n",
       "<div itemprop=\"articleBody\">OnePlus has unveiled its latest brand campaign featuring Robert Downey Jr. Commenting on the association, Robert said, \"It's cool to see a young brand disrupting the tech landscape...In checking out the upcoming OnePlus 7 Pro the attention to detail coupled with the innovative design was truly impressive.\" \"Nobody could represent what we stand for better,\" added OnePlus founder, Pete Lau.</div>\n",
       "<div class=\"news-card-author-time news-card-author-time-in-content\">\n",
       "<a href=\"/prev/en/news/oneplus-launches-new-brand-campaign-featuring-robert-downey-jr-1557993274196\"><span class=\"short\">short</span></a> by <span class=\"author\">Roshan Gupta</span> / \n",
       "      <span class=\"time\" content=\"2019-05-16T07:54:34.000Z\" itemprop=\"dateModified\">01:24 pm</span> on <span class=\"date\">16 May</span>\n",
       "</div>\n",
       "</div>\n",
       "<div class=\"news-card-footer news-right-box\">\n",
       "<div class=\"read-more\">read more at <a class=\"source\" href=\"https://www.timesnownews.com/technology-science/article/imagine-iron-man-using-a-oneplus-phone-robert-downey-jr-to-feature-in-new-oneplus-7-pro-brand-campaign/419837?utm_campaign=fullarticle&amp;utm_medium=referral&amp;utm_source=inshorts \" onclick=\"ga('send', {'hitType': 'event', 'eventCategory': 'ReadMore', 'eventAction': 'clicked', 'eventLabel': 'Times%20Now' });\" target=\"_blank\">Times Now</a></div>\n",
       "</div>\n",
       "</div>\n",
       "</div>\n",
       "<div class=\"\">\n",
       "<div class=\"news-card z-depth-1\" itemscope=\"\" itemtype=\"http://schema.org/NewsArticle\">\n",
       "<span content=\"\" itemid=\"https://inshorts.com/en/news/oneplus-7-pro-goes-on-sale-in-india-1558078550909\" itemprop=\"mainEntityOfPage\" itemscope=\"\" itemtype=\"https://schema.org/WebPage\"></span>\n",
       "<span itemprop=\"author\" itemscope=\"itemscope\" itemtype=\"https://schema.org/Person\">\n",
       "<span content=\"Roshan Gupta\" itemprop=\"name\"></span>\n",
       "</span>\n",
       "<span content=\"OnePlus 7 Pro goes on sale in India\" itemprop=\"description\"></span>\n",
       "<span itemprop=\"image\" itemscope=\"\" itemtype=\"https://schema.org/ImageObject\">\n",
       "<meta content=\"https://assets.inshorts.com/inshorts/images/v1/variants/jpg/m/2019/05_may/17_fri/img_1558078128122_277.jpg\" itemprop=\"url\"/>\n",
       "<meta content=\"864\" itemprop=\"width\"/>\n",
       "<meta content=\"483\" itemprop=\"height\"/>\n",
       "</span>\n",
       "<span itemprop=\"publisher\" itemscope=\"itemscope\" itemtype=\"https://schema.org/Organization\">\n",
       "<span content=\"https://inshorts.com/\" itemprop=\"url\"></span>\n",
       "<span content=\"Inshorts\" itemprop=\"name\"></span>\n",
       "<span itemprop=\"logo\" itemscope=\"\" itemtype=\"https://schema.org/ImageObject\">\n",
       "<span content=\"https://assets.inshorts.com/inshorts/images/v1/variants/jpg/m/2018/11_nov/21_wed/img_1542823931298_497.jpg\" itemprop=\"url\"></span>\n",
       "<meta content=\"400\" itemprop=\"width\"/>\n",
       "<meta content=\"60\" itemprop=\"height\"/>\n",
       "</span>\n",
       "</span>\n",
       "<div class=\"news-card-image\" style=\"background-image: url('https://assets.inshorts.com/inshorts/images/v1/variants/jpg/m/2019/05_may/17_fri/img_1558078128122_277.jpg?resize=400px:*')\">\n",
       "</div>\n",
       "<div class=\"news-card-title news-right-box\">\n",
       "<a class=\"clickable\" href=\"/en/news/oneplus-7-pro-goes-on-sale-in-india-1558078550909\" onclick=\"ga('send', {'hitType': 'event', 'eventCategory': 'TitleOfNews', 'eventAction': 'clicked', 'eventLabel': 'OnePlus%207%20Pro%20goes%20on%20sale%20in%20India)' });\" style=\"color:#44444d!important\">\n",
       "<span itemprop=\"headline\">OnePlus 7 Pro goes on sale in India</span>\n",
       "</a>\n",
       "<div class=\"news-card-author-time news-card-author-time-in-title\">\n",
       "<a href=\"/prev/en/news/oneplus-7-pro-goes-on-sale-in-india-1558078550909\"><span class=\"short\">short</span></a> by <span class=\"author\">Roshan Gupta</span> / \n",
       "      <span class=\"time\" content=\"2019-05-17T07:35:50.000Z\" itemprop=\"datePublished\">01:05 pm</span> on <span clas=\"date\">17 May 2019,Friday</span>\n",
       "</div>\n",
       "</div>\n",
       "<div class=\"news-card-content news-right-box\">\n",
       "<div itemprop=\"articleBody\">A few days after its official launch, OnePlus 7 Pro is available for sale at a starting price of ₹48,999 on Amazon India, OnePlus online, offline and partner stores. Buyers can avail up to ₹2,000 cashback on purchase using SBI debit and credit cards, along with benefits from Jio worth ₹9,300, and buyback value of 70% on exchange through Servify.</div>\n",
       "<div class=\"news-card-author-time news-card-author-time-in-content\">\n",
       "<a href=\"/prev/en/news/oneplus-7-pro-goes-on-sale-in-india-1558078550909\"><span class=\"short\">short</span></a> by <span class=\"author\">Roshan Gupta</span> / \n",
       "      <span class=\"time\" content=\"2019-05-17T07:35:50.000Z\" itemprop=\"dateModified\">01:05 pm</span> on <span class=\"date\">17 May</span>\n",
       "</div>\n",
       "</div>\n",
       "<div class=\"news-card-footer news-right-box\">\n",
       "<div class=\"read-more\">read more at <a class=\"source\" href=\"https://www.livemint.com/technology/tech-news/oneplus-7-pro-first-sale-not-all-variants-would-be-made-available-tomorrow-1558014686108.html?utm_campaign=fullarticle&amp;utm_medium=referral&amp;utm_source=inshorts \" onclick=\"ga('send', {'hitType': 'event', 'eventCategory': 'ReadMore', 'eventAction': 'clicked', 'eventLabel': 'Livemint' });\" target=\"_blank\">Livemint</a></div>\n",
       "</div>\n",
       "</div>\n",
       "</div>\n",
       "<div class=\"\">\n",
       "<div class=\"news-card z-depth-1\" itemscope=\"\" itemtype=\"http://schema.org/NewsArticle\">\n",
       "<span content=\"\" itemid=\"https://inshorts.com/en/news/microsoft-unveils-worlds-first-whisky-developed-with-ai-1558026038371\" itemprop=\"mainEntityOfPage\" itemscope=\"\" itemtype=\"https://schema.org/WebPage\"></span>\n",
       "<span itemprop=\"author\" itemscope=\"itemscope\" itemtype=\"https://schema.org/Person\">\n",
       "<span content=\"Kanishka Pandey\" itemprop=\"name\"></span>\n",
       "</span>\n",
       "<span content=\"Microsoft unveils world's first whisky developed with AI\" itemprop=\"description\"></span>\n",
       "<span itemprop=\"image\" itemscope=\"\" itemtype=\"https://schema.org/ImageObject\">\n",
       "<meta content=\"https://assets.inshorts.com/inshorts/images/v1/variants/jpg/m/2019/05_may/16_thu/img_1558020082303_739.jpg\" itemprop=\"url\"/>\n",
       "<meta content=\"864\" itemprop=\"width\"/>\n",
       "<meta content=\"483\" itemprop=\"height\"/>\n",
       "</span>\n",
       "<span itemprop=\"publisher\" itemscope=\"itemscope\" itemtype=\"https://schema.org/Organization\">\n",
       "<span content=\"https://inshorts.com/\" itemprop=\"url\"></span>\n",
       "<span content=\"Inshorts\" itemprop=\"name\"></span>\n",
       "<span itemprop=\"logo\" itemscope=\"\" itemtype=\"https://schema.org/ImageObject\">\n",
       "<span content=\"https://assets.inshorts.com/inshorts/images/v1/variants/jpg/m/2018/11_nov/21_wed/img_1542823931298_497.jpg\" itemprop=\"url\"></span>\n",
       "<meta content=\"400\" itemprop=\"width\"/>\n",
       "<meta content=\"60\" itemprop=\"height\"/>\n",
       "</span>\n",
       "</span>\n",
       "<div class=\"news-card-image\" style=\"background-image: url('https://assets.inshorts.com/inshorts/images/v1/variants/jpg/m/2019/05_may/16_thu/img_1558020082303_739.jpg?resize=400px:*')\">\n",
       "</div>\n",
       "<div class=\"news-card-title news-right-box\">\n",
       "<a class=\"clickable\" href=\"/en/news/microsoft-unveils-worlds-first-whisky-developed-with-ai-1558026038371\" onclick=\"ga('send', {'hitType': 'event', 'eventCategory': 'TitleOfNews', 'eventAction': 'clicked', 'eventLabel': 'Microsoft%20unveils%20world's%20first%20whisky%20developed%20with%20AI)' });\" style=\"color:#44444d!important\">\n",
       "<span itemprop=\"headline\">Microsoft unveils world's first whisky developed with AI</span>\n",
       "</a>\n",
       "<div class=\"news-card-author-time news-card-author-time-in-title\">\n",
       "<a href=\"/prev/en/news/microsoft-unveils-worlds-first-whisky-developed-with-ai-1558026038371\"><span class=\"short\">short</span></a> by <span class=\"author\">Kanishka Pandey</span> / \n",
       "      <span class=\"time\" content=\"2019-05-16T17:00:38.000Z\" itemprop=\"datePublished\">10:30 pm</span> on <span clas=\"date\">16 May 2019,Thursday</span>\n",
       "</div>\n",
       "</div>\n",
       "<div class=\"news-card-content news-right-box\">\n",
       "<div itemprop=\"articleBody\">Microsoft has unveiled world's first whisky developed with artificial intelligence (AI). The software giant worked with Finnish technology firm Fourkind and Sweden-based distillery Mackmyra. \"With [Mackmyra's] dataset, the AI can generate over 70 million recipes that it predicts will be popular and of the highest quality based on what kind of cask types there are in warehouse,\" Microsoft said.</div>\n",
       "<div class=\"news-card-author-time news-card-author-time-in-content\">\n",
       "<a href=\"/prev/en/news/microsoft-unveils-worlds-first-whisky-developed-with-ai-1558026038371\"><span class=\"short\">short</span></a> by <span class=\"author\">Kanishka Pandey</span> / \n",
       "      <span class=\"time\" content=\"2019-05-16T17:00:38.000Z\" itemprop=\"dateModified\">10:30 pm</span> on <span class=\"date\">16 May</span>\n",
       "</div>\n",
       "</div>\n",
       "<div class=\"news-card-footer news-right-box\">\n",
       "<div class=\"read-more\">read more at <a class=\"source\" href=\"https://www.newsbytesapp.com/timeline/Science/46187/208877/ai-can-make-some-mind-boggling-whisky?utm_campaign=fullarticle&amp;utm_medium=referral&amp;utm_source=inshorts \" onclick=\"ga('send', {'hitType': 'event', 'eventCategory': 'ReadMore', 'eventAction': 'clicked', 'eventLabel': 'NewsBytes' });\" target=\"_blank\">NewsBytes</a></div>\n",
       "</div>\n",
       "</div>\n",
       "</div>\n",
       "<div class=\"\">\n",
       "<div class=\"news-card z-depth-1\" itemscope=\"\" itemtype=\"http://schema.org/NewsArticle\">\n",
       "<span content=\"\" itemid=\"https://inshorts.com/en/news/₹1000-tech-bypasses-rules-sends-1l-whatsapp-texts-a-day-reuters-1557927336399\" itemprop=\"mainEntityOfPage\" itemscope=\"\" itemtype=\"https://schema.org/WebPage\"></span>\n",
       "<span itemprop=\"author\" itemscope=\"itemscope\" itemtype=\"https://schema.org/Person\">\n",
       "<span content=\"Gaurav Shroff\" itemprop=\"name\"></span>\n",
       "</span>\n",
       "<span content=\"₹1,000 tech bypasses rules, sends 1L WhatsApp texts a day: Reuters\" itemprop=\"description\"></span>\n",
       "<span itemprop=\"image\" itemscope=\"\" itemtype=\"https://schema.org/ImageObject\">\n",
       "<meta content=\"https://assets.inshorts.com/inshorts/images/v1/variants/jpg/m/2019/05_may/15_wed/img_1557919237994_760.jpg\" itemprop=\"url\"/>\n",
       "<meta content=\"864\" itemprop=\"width\"/>\n",
       "<meta content=\"483\" itemprop=\"height\"/>\n",
       "</span>\n",
       "<span itemprop=\"publisher\" itemscope=\"itemscope\" itemtype=\"https://schema.org/Organization\">\n",
       "<span content=\"https://inshorts.com/\" itemprop=\"url\"></span>\n",
       "<span content=\"Inshorts\" itemprop=\"name\"></span>\n",
       "<span itemprop=\"logo\" itemscope=\"\" itemtype=\"https://schema.org/ImageObject\">\n",
       "<span content=\"https://assets.inshorts.com/inshorts/images/v1/variants/jpg/m/2018/11_nov/21_wed/img_1542823931298_497.jpg\" itemprop=\"url\"></span>\n",
       "<meta content=\"400\" itemprop=\"width\"/>\n",
       "<meta content=\"60\" itemprop=\"height\"/>\n",
       "</span>\n",
       "</span>\n",
       "<div class=\"news-card-image\" style=\"background-image: url('https://assets.inshorts.com/inshorts/images/v1/variants/jpg/m/2019/05_may/15_wed/img_1557919237994_760.jpg?resize=400px:*')\">\n",
       "</div>\n",
       "<div class=\"news-card-title news-right-box\">\n",
       "<a class=\"clickable\" href=\"/en/news/₹1000-tech-bypasses-rules-sends-1l-whatsapp-texts-a-day-reuters-1557927336399\" onclick=\"ga('send', {'hitType': 'event', 'eventCategory': 'TitleOfNews', 'eventAction': 'clicked', 'eventLabel': '%E2%82%B91%2C000%20tech%20bypasses%20rules%2C%20sends%201L%20WhatsApp%20texts%20a%20day%3A%20Reuters)' });\" style=\"color:#44444d!important\">\n",
       "<span itemprop=\"headline\">₹1,000 tech bypasses rules, sends 1L WhatsApp texts a day: Reuters</span>\n",
       "</a>\n",
       "<div class=\"news-card-author-time news-card-author-time-in-title\">\n",
       "<a href=\"/prev/en/news/₹1000-tech-bypasses-rules-sends-1l-whatsapp-texts-a-day-reuters-1557927336399\"><span class=\"short\">short</span></a> by <span class=\"author\">Gaurav Shroff</span> / \n",
       "      <span class=\"time\" content=\"2019-05-15T13:35:36.000Z\" itemprop=\"datePublished\">07:05 pm</span> on <span clas=\"date\">15 May 2019,Wednesday</span>\n",
       "</div>\n",
       "</div>\n",
       "<div class=\"news-card-content news-right-box\">\n",
       "<div itemprop=\"articleBody\">Indian digital marketers are using ₹1,000 software tools that allow to bypass WhatsApp forwarding restrictions amid the ongoing elections, Reuters reported. New Delhi-based Rohitash Repswal said he sent up to 1,00,000 messages a day for two politicians. Repswal added he charges ₹1.5 lakh a month for sending 3 lakh messages. We work to ban users of such software, WhatsApp responded.</div>\n",
       "<div class=\"news-card-author-time news-card-author-time-in-content\">\n",
       "<a href=\"/prev/en/news/₹1000-tech-bypasses-rules-sends-1l-whatsapp-texts-a-day-reuters-1557927336399\"><span class=\"short\">short</span></a> by <span class=\"author\">Gaurav Shroff</span> / \n",
       "      <span class=\"time\" content=\"2019-05-15T13:35:36.000Z\" itemprop=\"dateModified\">07:05 pm</span> on <span class=\"date\">15 May</span>\n",
       "</div>\n",
       "</div>\n",
       "<div class=\"news-card-footer news-right-box\">\n",
       "<div class=\"read-more\">read more at <a class=\"source\" href=\"https://in.reuters.com/article/india-election-socialmedia-whatsapp/in-india-election-a-14-software-tool-helps-overcome-whatsapp-controls-idINKCN1SL0PZ?utm_campaign=fullarticle&amp;utm_medium=referral&amp;utm_source=inshorts \" onclick=\"ga('send', {'hitType': 'event', 'eventCategory': 'ReadMore', 'eventAction': 'clicked', 'eventLabel': 'Reuters' });\" target=\"_blank\">Reuters</a></div>\n",
       "</div>\n",
       "</div>\n",
       "</div>\n",
       "<div id=\"div-gpt-ad-1536748319959-sdcdqoti-1\" style=\"height:250px; width:900px; margin: auto; margin-bottom: 2%;\">\n",
       "<script>\n",
       "        googletag.cmd.push(function() { \n",
       "          //News banner for desktop\n",
       "          var slotIdWeb = 'div-gpt-ad-1536748319959-sdcdqoti-1';\n",
       "          var slot = googletag.defineSlot('/142919096/inshorts_website_900x250', [900, 250], slotIdWeb)\n",
       "          .addService(googletag.pubads())\n",
       "          .setCollapseEmptyDiv(true,true);\n",
       "\n",
       "          googletag.display('div-gpt-ad-1536748319959-sdcdqoti-1');\n",
       "          googletag.pubads().refresh([slot]);\n",
       "        });\n",
       "      </script>\n",
       "</div>\n",
       "<div class=\"\">\n",
       "<div class=\"news-card z-depth-1\" itemscope=\"\" itemtype=\"http://schema.org/NewsArticle\">\n",
       "<span content=\"\" itemid=\"https://inshorts.com/en/news/ec-orders-twitter-to-remove-all-tweets-on-lok-sabha-exit-polls-1557943063485\" itemprop=\"mainEntityOfPage\" itemscope=\"\" itemtype=\"https://schema.org/WebPage\"></span>\n",
       "<span itemprop=\"author\" itemscope=\"itemscope\" itemtype=\"https://schema.org/Person\">\n",
       "<span content=\"Gaurav Shroff\" itemprop=\"name\"></span>\n",
       "</span>\n",
       "<span content=\"EC orders Twitter to remove all tweets on Lok Sabha exit polls\" itemprop=\"description\"></span>\n",
       "<span itemprop=\"image\" itemscope=\"\" itemtype=\"https://schema.org/ImageObject\">\n",
       "<meta content=\"https://assets.inshorts.com/inshorts/images/v1/variants/jpg/m/2019/05_may/15_wed/img_1557941345060_496.jpg\" itemprop=\"url\"/>\n",
       "<meta content=\"864\" itemprop=\"width\"/>\n",
       "<meta content=\"483\" itemprop=\"height\"/>\n",
       "</span>\n",
       "<span itemprop=\"publisher\" itemscope=\"itemscope\" itemtype=\"https://schema.org/Organization\">\n",
       "<span content=\"https://inshorts.com/\" itemprop=\"url\"></span>\n",
       "<span content=\"Inshorts\" itemprop=\"name\"></span>\n",
       "<span itemprop=\"logo\" itemscope=\"\" itemtype=\"https://schema.org/ImageObject\">\n",
       "<span content=\"https://assets.inshorts.com/inshorts/images/v1/variants/jpg/m/2018/11_nov/21_wed/img_1542823931298_497.jpg\" itemprop=\"url\"></span>\n",
       "<meta content=\"400\" itemprop=\"width\"/>\n",
       "<meta content=\"60\" itemprop=\"height\"/>\n",
       "</span>\n",
       "</span>\n",
       "<div class=\"news-card-image\" style=\"background-image: url('https://assets.inshorts.com/inshorts/images/v1/variants/jpg/m/2019/05_may/15_wed/img_1557941345060_496.jpg?resize=400px:*')\">\n",
       "</div>\n",
       "<div class=\"news-card-title news-right-box\">\n",
       "<a class=\"clickable\" href=\"/en/news/ec-orders-twitter-to-remove-all-tweets-on-lok-sabha-exit-polls-1557943063485\" onclick=\"ga('send', {'hitType': 'event', 'eventCategory': 'TitleOfNews', 'eventAction': 'clicked', 'eventLabel': 'EC%20orders%20Twitter%20to%20remove%20all%20tweets%20on%20Lok%20Sabha%20exit%20polls)' });\" style=\"color:#44444d!important\">\n",
       "<span itemprop=\"headline\">EC orders Twitter to remove all tweets on Lok Sabha exit polls</span>\n",
       "</a>\n",
       "<div class=\"news-card-author-time news-card-author-time-in-title\">\n",
       "<a href=\"/prev/en/news/ec-orders-twitter-to-remove-all-tweets-on-lok-sabha-exit-polls-1557943063485\"><span class=\"short\">short</span></a> by <span class=\"author\">Gaurav Shroff</span> / \n",
       "      <span class=\"time\" content=\"2019-05-15T17:57:43.000Z\" itemprop=\"datePublished\">11:27 pm</span> on <span clas=\"date\">15 May 2019,Wednesday</span>\n",
       "</div>\n",
       "</div>\n",
       "<div class=\"news-card-content news-right-box\">\n",
       "<div itemprop=\"articleBody\">Ahead of the last phase of the 2019 Lok Sabha elections on May 19, the Election Commission has ordered Twitter India to remove all the tweets related to exit polls. This comes amid leaks of exit polls being shared on the platform. The seven-phase election began from April 11 and the results are to be announced on May 23.</div>\n",
       "<div class=\"news-card-author-time news-card-author-time-in-content\">\n",
       "<a href=\"/prev/en/news/ec-orders-twitter-to-remove-all-tweets-on-lok-sabha-exit-polls-1557943063485\"><span class=\"short\">short</span></a> by <span class=\"author\">Gaurav Shroff</span> / \n",
       "      <span class=\"time\" content=\"2019-05-15T17:57:43.000Z\" itemprop=\"dateModified\">11:27 pm</span> on <span class=\"date\">15 May</span>\n",
       "</div>\n",
       "</div>\n",
       "<div class=\"news-card-footer news-right-box\">\n",
       "<div class=\"read-more\">read more at <a class=\"source\" href=\"https://twitter.com/ANI/status/1128710990022021120?utm_campaign=fullarticle&amp;utm_medium=referral&amp;utm_source=inshorts \" onclick=\"ga('send', {'hitType': 'event', 'eventCategory': 'ReadMore', 'eventAction': 'clicked', 'eventLabel': 'ANI' });\" target=\"_blank\">ANI</a></div>\n",
       "</div>\n",
       "</div>\n",
       "</div>\n",
       "<div class=\"\">\n",
       "<div class=\"news-card z-depth-1\" itemscope=\"\" itemtype=\"http://schema.org/NewsArticle\">\n",
       "<span content=\"\" itemid=\"https://inshorts.com/en/news/laptop-running-6-malware-that-caused-$95bn-loss-being-sold-as-art-1558015664286\" itemprop=\"mainEntityOfPage\" itemscope=\"\" itemtype=\"https://schema.org/WebPage\"></span>\n",
       "<span itemprop=\"author\" itemscope=\"itemscope\" itemtype=\"https://schema.org/Person\">\n",
       "<span content=\"Gaurav Shroff\" itemprop=\"name\"></span>\n",
       "</span>\n",
       "<span content=\"Laptop running 6 malware that caused $95bn loss being sold as art\" itemprop=\"description\"></span>\n",
       "<span itemprop=\"image\" itemscope=\"\" itemtype=\"https://schema.org/ImageObject\">\n",
       "<meta content=\"https://assets.inshorts.com/inshorts/images/v1/variants/jpg/m/2019/05_may/16_thu/img_1558011428620_929.jpg\" itemprop=\"url\"/>\n",
       "<meta content=\"864\" itemprop=\"width\"/>\n",
       "<meta content=\"483\" itemprop=\"height\"/>\n",
       "</span>\n",
       "<span itemprop=\"publisher\" itemscope=\"itemscope\" itemtype=\"https://schema.org/Organization\">\n",
       "<span content=\"https://inshorts.com/\" itemprop=\"url\"></span>\n",
       "<span content=\"Inshorts\" itemprop=\"name\"></span>\n",
       "<span itemprop=\"logo\" itemscope=\"\" itemtype=\"https://schema.org/ImageObject\">\n",
       "<span content=\"https://assets.inshorts.com/inshorts/images/v1/variants/jpg/m/2018/11_nov/21_wed/img_1542823931298_497.jpg\" itemprop=\"url\"></span>\n",
       "<meta content=\"400\" itemprop=\"width\"/>\n",
       "<meta content=\"60\" itemprop=\"height\"/>\n",
       "</span>\n",
       "</span>\n",
       "<div class=\"news-card-image\" style=\"background-image: url('https://assets.inshorts.com/inshorts/images/v1/variants/jpg/m/2019/05_may/16_thu/img_1558011428620_929.jpg?resize=400px:*')\">\n",
       "</div>\n",
       "<div class=\"news-card-title news-right-box\">\n",
       "<a class=\"clickable\" href=\"/en/news/laptop-running-6-malware-that-caused-$95bn-loss-being-sold-as-art-1558015664286\" onclick=\"ga('send', {'hitType': 'event', 'eventCategory': 'TitleOfNews', 'eventAction': 'clicked', 'eventLabel': 'Laptop%20running%206%20malware%20that%20caused%20%2495bn%20loss%20being%20sold%20as%20art)' });\" style=\"color:#44444d!important\">\n",
       "<span itemprop=\"headline\">Laptop running 6 malware that caused $95bn loss being sold as art</span>\n",
       "</a>\n",
       "<div class=\"news-card-author-time news-card-author-time-in-title\">\n",
       "<a href=\"/prev/en/news/laptop-running-6-malware-that-caused-$95bn-loss-being-sold-as-art-1558015664286\"><span class=\"short\">short</span></a> by <span class=\"author\">Gaurav Shroff</span> / \n",
       "      <span class=\"time\" content=\"2019-05-16T14:07:44.000Z\" itemprop=\"datePublished\">07:37 pm</span> on <span clas=\"date\">16 May 2019,Thursday</span>\n",
       "</div>\n",
       "</div>\n",
       "<div class=\"news-card-content news-right-box\">\n",
       "<div itemprop=\"articleBody\">A website is conducting live bidding for a laptop running six malware including ILOVEYOU and WannaCry that have caused financial damages totalling $95 billion. The website stated the laptop's internet functions and ports will be disabled before shipping as it's intended to be sold as \"art or for academic reasons\". The minimum bid currently is $615,301 (over ₹4.31 crore).</div>\n",
       "<div class=\"news-card-author-time news-card-author-time-in-content\">\n",
       "<a href=\"/prev/en/news/laptop-running-6-malware-that-caused-$95bn-loss-being-sold-as-art-1558015664286\"><span class=\"short\">short</span></a> by <span class=\"author\">Gaurav Shroff</span> / \n",
       "      <span class=\"time\" content=\"2019-05-16T14:07:44.000Z\" itemprop=\"dateModified\">07:37 pm</span> on <span class=\"date\">16 May</span>\n",
       "</div>\n",
       "</div>\n",
       "<div class=\"news-card-footer news-right-box\">\n",
       "<div class=\"read-more\">read more at <a class=\"source\" href=\"https://thepersistenceofchaos.com/?utm_campaign=fullarticle&amp;utm_medium=referral&amp;utm_source=inshorts \" onclick=\"ga('send', {'hitType': 'event', 'eventCategory': 'ReadMore', 'eventAction': 'clicked', 'eventLabel': 'Persistence%20Of%20Chaos' });\" target=\"_blank\">Persistence Of Chaos</a></div>\n",
       "</div>\n",
       "</div>\n",
       "</div>\n",
       "<div class=\"\">\n",
       "<div class=\"news-card z-depth-1\" itemscope=\"\" itemtype=\"http://schema.org/NewsArticle\">\n",
       "<span content=\"\" itemid=\"https://inshorts.com/en/news/warren-buffetts-berkshire-reveals-$861-million-amazon-stake-1558004267739\" itemprop=\"mainEntityOfPage\" itemscope=\"\" itemtype=\"https://schema.org/WebPage\"></span>\n",
       "<span itemprop=\"author\" itemscope=\"itemscope\" itemtype=\"https://schema.org/Person\">\n",
       "<span content=\"Krishna Veera Vanamali\" itemprop=\"name\"></span>\n",
       "</span>\n",
       "<span content=\"Warren Buffett's Berkshire reveals $861 million Amazon stake\" itemprop=\"description\"></span>\n",
       "<span itemprop=\"image\" itemscope=\"\" itemtype=\"https://schema.org/ImageObject\">\n",
       "<meta content=\"https://assets.inshorts.com/inshorts/images/v1/variants/jpg/m/2019/05_may/16_thu/img_1557999495653_262.jpg\" itemprop=\"url\"/>\n",
       "<meta content=\"864\" itemprop=\"width\"/>\n",
       "<meta content=\"483\" itemprop=\"height\"/>\n",
       "</span>\n",
       "<span itemprop=\"publisher\" itemscope=\"itemscope\" itemtype=\"https://schema.org/Organization\">\n",
       "<span content=\"https://inshorts.com/\" itemprop=\"url\"></span>\n",
       "<span content=\"Inshorts\" itemprop=\"name\"></span>\n",
       "<span itemprop=\"logo\" itemscope=\"\" itemtype=\"https://schema.org/ImageObject\">\n",
       "<span content=\"https://assets.inshorts.com/inshorts/images/v1/variants/jpg/m/2018/11_nov/21_wed/img_1542823931298_497.jpg\" itemprop=\"url\"></span>\n",
       "<meta content=\"400\" itemprop=\"width\"/>\n",
       "<meta content=\"60\" itemprop=\"height\"/>\n",
       "</span>\n",
       "</span>\n",
       "<div class=\"news-card-image\" style=\"background-image: url('https://assets.inshorts.com/inshorts/images/v1/variants/jpg/m/2019/05_may/16_thu/img_1557999495653_262.jpg?resize=400px:*')\">\n",
       "</div>\n",
       "<div class=\"news-card-title news-right-box\">\n",
       "<a class=\"clickable\" href=\"/en/news/warren-buffetts-berkshire-reveals-$861-million-amazon-stake-1558004267739\" onclick=\"ga('send', {'hitType': 'event', 'eventCategory': 'TitleOfNews', 'eventAction': 'clicked', 'eventLabel': 'Warren%20Buffett's%20Berkshire%20reveals%20%24861%20million%20Amazon%20stake)' });\" style=\"color:#44444d!important\">\n",
       "<span itemprop=\"headline\">Warren Buffett's Berkshire reveals $861 million Amazon stake</span>\n",
       "</a>\n",
       "<div class=\"news-card-author-time news-card-author-time-in-title\">\n",
       "<a href=\"/prev/en/news/warren-buffetts-berkshire-reveals-$861-million-amazon-stake-1558004267739\"><span class=\"short\">short</span></a> by <span class=\"author\">Krishna Veera Vanamali</span> / \n",
       "      <span class=\"time\" content=\"2019-05-16T10:57:47.000Z\" itemprop=\"datePublished\">04:27 pm</span> on <span clas=\"date\">16 May 2019,Thursday</span>\n",
       "</div>\n",
       "</div>\n",
       "<div class=\"news-card-content news-right-box\">\n",
       "<div itemprop=\"articleBody\">Warren Buffett's Berkshire Hathaway on Wednesday revealed it owned $861 million of Amazon shares as of March. Earlier this month, Buffett said the Amazon investment was made by one of his portfolio managers, Todd Combs or Ted Weschler, and that he had been \"an idiot\" for not investing in Amazon himself. The Amazon stake would now be worth $904 million.</div>\n",
       "<div class=\"news-card-author-time news-card-author-time-in-content\">\n",
       "<a href=\"/prev/en/news/warren-buffetts-berkshire-reveals-$861-million-amazon-stake-1558004267739\"><span class=\"short\">short</span></a> by <span class=\"author\">Krishna Veera Vanamali</span> / \n",
       "      <span class=\"time\" content=\"2019-05-16T10:57:47.000Z\" itemprop=\"dateModified\">04:27 pm</span> on <span class=\"date\">16 May</span>\n",
       "</div>\n",
       "</div>\n",
       "<div class=\"news-card-footer news-right-box\">\n",
       "<div class=\"read-more\">read more at <a class=\"source\" href=\"https://www.reuters.com/article/us-investment-funds-berkshire/buffetts-berkshire-unveils-861-million-amazon-stake-idUSKCN1SL2Q3?utm_campaign=fullarticle&amp;utm_medium=referral&amp;utm_source=inshorts \" onclick=\"ga('send', {'hitType': 'event', 'eventCategory': 'ReadMore', 'eventAction': 'clicked', 'eventLabel': 'Reuters' });\" target=\"_blank\">Reuters</a></div>\n",
       "</div>\n",
       "</div>\n",
       "</div>\n",
       "<div class=\"\">\n",
       "<div class=\"news-card z-depth-1\" itemscope=\"\" itemtype=\"http://schema.org/NewsArticle\">\n",
       "<span content=\"\" itemid=\"https://inshorts.com/en/news/faulty-pixel-smartphone-owners-to-get-up-to-$500-from-google-1557934506276\" itemprop=\"mainEntityOfPage\" itemscope=\"\" itemtype=\"https://schema.org/WebPage\"></span>\n",
       "<span itemprop=\"author\" itemscope=\"itemscope\" itemtype=\"https://schema.org/Person\">\n",
       "<span content=\"Gaurav Shroff\" itemprop=\"name\"></span>\n",
       "</span>\n",
       "<span content=\"Faulty Pixel smartphone owners to get up to $500 from Google\" itemprop=\"description\"></span>\n",
       "<span itemprop=\"image\" itemscope=\"\" itemtype=\"https://schema.org/ImageObject\">\n",
       "<meta content=\"https://assets.inshorts.com/inshorts/images/v1/variants/jpg/m/2019/05_may/15_wed/img_1557930521650_821.jpg\" itemprop=\"url\"/>\n",
       "<meta content=\"864\" itemprop=\"width\"/>\n",
       "<meta content=\"483\" itemprop=\"height\"/>\n",
       "</span>\n",
       "<span itemprop=\"publisher\" itemscope=\"itemscope\" itemtype=\"https://schema.org/Organization\">\n",
       "<span content=\"https://inshorts.com/\" itemprop=\"url\"></span>\n",
       "<span content=\"Inshorts\" itemprop=\"name\"></span>\n",
       "<span itemprop=\"logo\" itemscope=\"\" itemtype=\"https://schema.org/ImageObject\">\n",
       "<span content=\"https://assets.inshorts.com/inshorts/images/v1/variants/jpg/m/2018/11_nov/21_wed/img_1542823931298_497.jpg\" itemprop=\"url\"></span>\n",
       "<meta content=\"400\" itemprop=\"width\"/>\n",
       "<meta content=\"60\" itemprop=\"height\"/>\n",
       "</span>\n",
       "</span>\n",
       "<div class=\"news-card-image\" style=\"background-image: url('https://assets.inshorts.com/inshorts/images/v1/variants/jpg/m/2019/05_may/15_wed/img_1557930521650_821.jpg?resize=400px:*')\">\n",
       "</div>\n",
       "<div class=\"news-card-title news-right-box\">\n",
       "<a class=\"clickable\" href=\"/en/news/faulty-pixel-smartphone-owners-to-get-up-to-$500-from-google-1557934506276\" onclick=\"ga('send', {'hitType': 'event', 'eventCategory': 'TitleOfNews', 'eventAction': 'clicked', 'eventLabel': 'Faulty%20Pixel%20smartphone%20owners%20to%20get%20up%20to%20%24500%20from%20Google)' });\" style=\"color:#44444d!important\">\n",
       "<span itemprop=\"headline\">Faulty Pixel smartphone owners to get up to $500 from Google</span>\n",
       "</a>\n",
       "<div class=\"news-card-author-time news-card-author-time-in-title\">\n",
       "<a href=\"/prev/en/news/faulty-pixel-smartphone-owners-to-get-up-to-$500-from-google-1557934506276\"><span class=\"short\">short</span></a> by <span class=\"author\">Gaurav Shroff</span> / \n",
       "      <span class=\"time\" content=\"2019-05-15T15:35:06.000Z\" itemprop=\"datePublished\">09:05 pm</span> on <span clas=\"date\">15 May 2019,Wednesday</span>\n",
       "</div>\n",
       "</div>\n",
       "<div class=\"news-card-content news-right-box\">\n",
       "<div itemprop=\"articleBody\">As part of $7.25-million lawsuit settlement, Google will pay up to $500 to the owners of Pixel and Pixel XL devices with faulty microphones. Owners who got another defective smartphone in replacement of a defective Pixel could get $500, while owners of a single defective device could get $350. Users who experienced no issues could also get up to $20.</div>\n",
       "<div class=\"news-card-author-time news-card-author-time-in-content\">\n",
       "<a href=\"/prev/en/news/faulty-pixel-smartphone-owners-to-get-up-to-$500-from-google-1557934506276\"><span class=\"short\">short</span></a> by <span class=\"author\">Gaurav Shroff</span> / \n",
       "      <span class=\"time\" content=\"2019-05-15T15:35:06.000Z\" itemprop=\"dateModified\">09:05 pm</span> on <span class=\"date\">15 May</span>\n",
       "</div>\n",
       "</div>\n",
       "<div class=\"news-card-footer news-right-box\">\n",
       "<div class=\"read-more\">read more at <a class=\"source\" href=\"https://www.thequint.com/news/hot-news/faulty-pixel-users-to-get-up-to-500-from-google?utm_campaign=fullarticle&amp;utm_medium=referral&amp;utm_source=inshorts \" onclick=\"ga('send', {'hitType': 'event', 'eventCategory': 'ReadMore', 'eventAction': 'clicked', 'eventLabel': 'The%20Quint' });\" target=\"_blank\">The Quint</a></div>\n",
       "</div>\n",
       "</div>\n",
       "</div>\n",
       "<div class=\"\">\n",
       "<div class=\"news-card z-depth-1\" itemscope=\"\" itemtype=\"http://schema.org/NewsArticle\">\n",
       "<span content=\"\" itemid=\"https://inshorts.com/en/news/intel-says-nearly-all-cpus-made-since-2011-exposed-to-hacking-1558015046667\" itemprop=\"mainEntityOfPage\" itemscope=\"\" itemtype=\"https://schema.org/WebPage\"></span>\n",
       "<span itemprop=\"author\" itemscope=\"itemscope\" itemtype=\"https://schema.org/Person\">\n",
       "<span content=\"Kanishka Pandey\" itemprop=\"name\"></span>\n",
       "</span>\n",
       "<span content=\"Intel says nearly all CPUs made since 2011 exposed to hacking\" itemprop=\"description\"></span>\n",
       "<span itemprop=\"image\" itemscope=\"\" itemtype=\"https://schema.org/ImageObject\">\n",
       "<meta content=\"https://assets.inshorts.com/inshorts/images/v1/variants/jpg/m/2019/05_may/16_thu/img_1558008532914_164.jpg\" itemprop=\"url\"/>\n",
       "<meta content=\"864\" itemprop=\"width\"/>\n",
       "<meta content=\"483\" itemprop=\"height\"/>\n",
       "</span>\n",
       "<span itemprop=\"publisher\" itemscope=\"itemscope\" itemtype=\"https://schema.org/Organization\">\n",
       "<span content=\"https://inshorts.com/\" itemprop=\"url\"></span>\n",
       "<span content=\"Inshorts\" itemprop=\"name\"></span>\n",
       "<span itemprop=\"logo\" itemscope=\"\" itemtype=\"https://schema.org/ImageObject\">\n",
       "<span content=\"https://assets.inshorts.com/inshorts/images/v1/variants/jpg/m/2018/11_nov/21_wed/img_1542823931298_497.jpg\" itemprop=\"url\"></span>\n",
       "<meta content=\"400\" itemprop=\"width\"/>\n",
       "<meta content=\"60\" itemprop=\"height\"/>\n",
       "</span>\n",
       "</span>\n",
       "<div class=\"news-card-image\" style=\"background-image: url('https://assets.inshorts.com/inshorts/images/v1/variants/jpg/m/2019/05_may/16_thu/img_1558008532914_164.jpg?resize=400px:*')\">\n",
       "</div>\n",
       "<div class=\"news-card-title news-right-box\">\n",
       "<a class=\"clickable\" href=\"/en/news/intel-says-nearly-all-cpus-made-since-2011-exposed-to-hacking-1558015046667\" onclick=\"ga('send', {'hitType': 'event', 'eventCategory': 'TitleOfNews', 'eventAction': 'clicked', 'eventLabel': 'Intel%20says%20nearly%20all%20CPUs%20made%20since%202011%20exposed%20to%20hacking)' });\" style=\"color:#44444d!important\">\n",
       "<span itemprop=\"headline\">Intel says nearly all CPUs made since 2011 exposed to hacking</span>\n",
       "</a>\n",
       "<div class=\"news-card-author-time news-card-author-time-in-title\">\n",
       "<a href=\"/prev/en/news/intel-says-nearly-all-cpus-made-since-2011-exposed-to-hacking-1558015046667\"><span class=\"short\">short</span></a> by <span class=\"author\">Kanishka Pandey</span> / \n",
       "      <span class=\"time\" content=\"2019-05-16T13:57:26.000Z\" itemprop=\"datePublished\">07:27 pm</span> on <span clas=\"date\">16 May 2019,Thursday</span>\n",
       "</div>\n",
       "</div>\n",
       "<div class=\"news-card-content news-right-box\">\n",
       "<div itemprop=\"articleBody\">Intel has disclosed a new set of security flaws existing in almost all of its processors made since 2011, which could let hackers read nearly all data flowing through them. While Intel classified the threat as \"medium\", security researchers said the vulnerability is much more serious. Intel said fixing it in existing chips could slow them by up to 19%.</div>\n",
       "<div class=\"news-card-author-time news-card-author-time-in-content\">\n",
       "<a href=\"/prev/en/news/intel-says-nearly-all-cpus-made-since-2011-exposed-to-hacking-1558015046667\"><span class=\"short\">short</span></a> by <span class=\"author\">Kanishka Pandey</span> / \n",
       "      <span class=\"time\" content=\"2019-05-16T13:57:26.000Z\" itemprop=\"dateModified\">07:27 pm</span> on <span class=\"date\">16 May</span>\n",
       "</div>\n",
       "</div>\n",
       "<div class=\"news-card-footer news-right-box\">\n",
       "<div class=\"read-more\">read more at <a class=\"source\" href=\"https://www.hindustantimes.com/tech/new-intel-security-flaws-could-slow-some-chips-by-nearly-20/story-KMtFW1gw3GUmxbdtU1IseN.html?utm_campaign=fullarticle&amp;utm_medium=referral&amp;utm_source=inshorts \" onclick=\"ga('send', {'hitType': 'event', 'eventCategory': 'ReadMore', 'eventAction': 'clicked', 'eventLabel': 'Hindustan%20Times' });\" target=\"_blank\">Hindustan Times</a></div>\n",
       "</div>\n",
       "</div>\n",
       "</div>\n",
       "<div class=\"\">\n",
       "<div class=\"news-card z-depth-1\" itemscope=\"\" itemtype=\"http://schema.org/NewsArticle\">\n",
       "<span content=\"\" itemid=\"https://inshorts.com/en/news/facebook-interns-highest-paid-in-us-at-₹56-lakh-a-month-glassdoor-1558010741086\" itemprop=\"mainEntityOfPage\" itemscope=\"\" itemtype=\"https://schema.org/WebPage\"></span>\n",
       "<span itemprop=\"author\" itemscope=\"itemscope\" itemtype=\"https://schema.org/Person\">\n",
       "<span content=\"Pragya Swastik\" itemprop=\"name\"></span>\n",
       "</span>\n",
       "<span content=\"Facebook interns highest paid in US at ₹5.6 lakh a month: Glassdoor\" itemprop=\"description\"></span>\n",
       "<span itemprop=\"image\" itemscope=\"\" itemtype=\"https://schema.org/ImageObject\">\n",
       "<meta content=\"https://assets.inshorts.com/inshorts/images/v1/variants/jpg/m/2019/05_may/16_thu/img_1558006705593_768.jpg\" itemprop=\"url\"/>\n",
       "<meta content=\"864\" itemprop=\"width\"/>\n",
       "<meta content=\"483\" itemprop=\"height\"/>\n",
       "</span>\n",
       "<span itemprop=\"publisher\" itemscope=\"itemscope\" itemtype=\"https://schema.org/Organization\">\n",
       "<span content=\"https://inshorts.com/\" itemprop=\"url\"></span>\n",
       "<span content=\"Inshorts\" itemprop=\"name\"></span>\n",
       "<span itemprop=\"logo\" itemscope=\"\" itemtype=\"https://schema.org/ImageObject\">\n",
       "<span content=\"https://assets.inshorts.com/inshorts/images/v1/variants/jpg/m/2018/11_nov/21_wed/img_1542823931298_497.jpg\" itemprop=\"url\"></span>\n",
       "<meta content=\"400\" itemprop=\"width\"/>\n",
       "<meta content=\"60\" itemprop=\"height\"/>\n",
       "</span>\n",
       "</span>\n",
       "<div class=\"news-card-image\" style=\"background-image: url('https://assets.inshorts.com/inshorts/images/v1/variants/jpg/m/2019/05_may/16_thu/img_1558006705593_768.jpg?resize=400px:*')\">\n",
       "</div>\n",
       "<div class=\"news-card-title news-right-box\">\n",
       "<a class=\"clickable\" href=\"/en/news/facebook-interns-highest-paid-in-us-at-₹56-lakh-a-month-glassdoor-1558010741086\" onclick=\"ga('send', {'hitType': 'event', 'eventCategory': 'TitleOfNews', 'eventAction': 'clicked', 'eventLabel': 'Facebook%20interns%20highest%20paid%20in%20US%20at%20%E2%82%B95.6%20lakh%20a%20month%3A%20Glassdoor)' });\" style=\"color:#44444d!important\">\n",
       "<span itemprop=\"headline\">Facebook interns highest paid in US at ₹5.6 lakh a month: Glassdoor</span>\n",
       "</a>\n",
       "<div class=\"news-card-author-time news-card-author-time-in-title\">\n",
       "<a href=\"/prev/en/news/facebook-interns-highest-paid-in-us-at-₹56-lakh-a-month-glassdoor-1558010741086\"><span class=\"short\">short</span></a> by <span class=\"author\">Pragya Swastik</span> / \n",
       "      <span class=\"time\" content=\"2019-05-16T12:45:41.000Z\" itemprop=\"datePublished\">06:15 pm</span> on <span clas=\"date\">16 May 2019,Thursday</span>\n",
       "</div>\n",
       "</div>\n",
       "<div class=\"news-card-content news-right-box\">\n",
       "<div itemprop=\"articleBody\">Facebook is the highest stipend paying company to interns in the US in 2019, with a median monthly pay of $8,000 (₹5.6 lakh), Glassdoor survey has found. Facebook is followed by Amazon and Salesforce, with median monthly pays of $7,725 (₹5.41 lakh) and $7,667 (₹5.37 lakh) respectively. Google is fourth-highest stipend paying company in the US at $7,500 (₹5.25 lakh).</div>\n",
       "<div class=\"news-card-author-time news-card-author-time-in-content\">\n",
       "<a href=\"/prev/en/news/facebook-interns-highest-paid-in-us-at-₹56-lakh-a-month-glassdoor-1558010741086\"><span class=\"short\">short</span></a> by <span class=\"author\">Pragya Swastik</span> / \n",
       "      <span class=\"time\" content=\"2019-05-16T12:45:41.000Z\" itemprop=\"dateModified\">06:15 pm</span> on <span class=\"date\">16 May</span>\n",
       "</div>\n",
       "</div>\n",
       "<div class=\"news-card-footer news-right-box\">\n",
       "<div class=\"read-more\">read more at <a class=\"source\" href=\"https://www.glassdoor.com/research/internships-entry-level-jobs-2019/?utm_campaign=fullarticle&amp;utm_medium=referral&amp;utm_source=inshorts \" onclick=\"ga('send', {'hitType': 'event', 'eventCategory': 'ReadMore', 'eventAction': 'clicked', 'eventLabel': 'Glassdoor' });\" target=\"_blank\">Glassdoor</a></div>\n",
       "</div>\n",
       "</div>\n",
       "</div>\n",
       "<div id=\"div-gpt-ad-1536748319959-mc1s7pl7-1\" style=\"height:250px; width:900px; margin: auto; margin-bottom: 2%;\">\n",
       "<script>\n",
       "        googletag.cmd.push(function() { \n",
       "          //News banner for desktop\n",
       "          var slotIdWeb = 'div-gpt-ad-1536748319959-mc1s7pl7-1';\n",
       "          var slot = googletag.defineSlot('/142919096/inshorts_website_900x250', [900, 250], slotIdWeb)\n",
       "          .addService(googletag.pubads())\n",
       "          .setCollapseEmptyDiv(true,true);\n",
       "\n",
       "          googletag.display('div-gpt-ad-1536748319959-mc1s7pl7-1');\n",
       "          googletag.pubads().refresh([slot]);\n",
       "        });\n",
       "      </script>\n",
       "</div>\n",
       "<div class=\"\">\n",
       "<div class=\"news-card z-depth-1\" itemscope=\"\" itemtype=\"http://schema.org/NewsArticle\">\n",
       "<span content=\"\" itemid=\"https://inshorts.com/en/news/amazon-sells-shoes-doormats-with-images-of-hindu-gods-criticised-1558016177743\" itemprop=\"mainEntityOfPage\" itemscope=\"\" itemtype=\"https://schema.org/WebPage\"></span>\n",
       "<span itemprop=\"author\" itemscope=\"itemscope\" itemtype=\"https://schema.org/Person\">\n",
       "<span content=\"Krishna Veera Vanamali\" itemprop=\"name\"></span>\n",
       "</span>\n",
       "<span content=\"Amazon sells shoes, doormats with images of Hindu Gods; criticised\" itemprop=\"description\"></span>\n",
       "<span itemprop=\"image\" itemscope=\"\" itemtype=\"https://schema.org/ImageObject\">\n",
       "<meta content=\"https://assets.inshorts.com/inshorts/images/v1/variants/jpg/m/2019/05_may/16_thu/img_1558013345828_206.jpg\" itemprop=\"url\"/>\n",
       "<meta content=\"864\" itemprop=\"width\"/>\n",
       "<meta content=\"483\" itemprop=\"height\"/>\n",
       "</span>\n",
       "<span itemprop=\"publisher\" itemscope=\"itemscope\" itemtype=\"https://schema.org/Organization\">\n",
       "<span content=\"https://inshorts.com/\" itemprop=\"url\"></span>\n",
       "<span content=\"Inshorts\" itemprop=\"name\"></span>\n",
       "<span itemprop=\"logo\" itemscope=\"\" itemtype=\"https://schema.org/ImageObject\">\n",
       "<span content=\"https://assets.inshorts.com/inshorts/images/v1/variants/jpg/m/2018/11_nov/21_wed/img_1542823931298_497.jpg\" itemprop=\"url\"></span>\n",
       "<meta content=\"400\" itemprop=\"width\"/>\n",
       "<meta content=\"60\" itemprop=\"height\"/>\n",
       "</span>\n",
       "</span>\n",
       "<div class=\"news-card-image\" style=\"background-image: url('https://assets.inshorts.com/inshorts/images/v1/variants/jpg/m/2019/05_may/16_thu/img_1558013345828_206.jpg?resize=400px:*')\">\n",
       "</div>\n",
       "<div class=\"news-card-title news-right-box\">\n",
       "<a class=\"clickable\" href=\"/en/news/amazon-sells-shoes-doormats-with-images-of-hindu-gods-criticised-1558016177743\" onclick=\"ga('send', {'hitType': 'event', 'eventCategory': 'TitleOfNews', 'eventAction': 'clicked', 'eventLabel': 'Amazon%20sells%20shoes%2C%20doormats%20with%20images%20of%20Hindu%20Gods%3B%20criticised)' });\" style=\"color:#44444d!important\">\n",
       "<span itemprop=\"headline\">Amazon sells shoes, doormats with images of Hindu Gods; criticised</span>\n",
       "</a>\n",
       "<div class=\"news-card-author-time news-card-author-time-in-title\">\n",
       "<a href=\"/prev/en/news/amazon-sells-shoes-doormats-with-images-of-hindu-gods-criticised-1558016177743\"><span class=\"short\">short</span></a> by <span class=\"author\">Krishna Veera Vanamali</span> / \n",
       "      <span class=\"time\" content=\"2019-05-16T14:16:17.000Z\" itemprop=\"datePublished\">07:46 pm</span> on <span clas=\"date\">16 May 2019,Thursday</span>\n",
       "</div>\n",
       "</div>\n",
       "<div class=\"news-card-content news-right-box\">\n",
       "<div itemprop=\"articleBody\">Amazon faced a social media backlash in India on Thursday after toilet seat covers, shoes, doormats, yoga mats and other items with images of Hindu Gods were spotted on its US website. In 2017, Amazon removed doormats resembling India's flag from its Canadian site after External Affairs Minister Sushma Swaraj threatened to rescind visas of the US company's employees.</div>\n",
       "<div class=\"news-card-author-time news-card-author-time-in-content\">\n",
       "<a href=\"/prev/en/news/amazon-sells-shoes-doormats-with-images-of-hindu-gods-criticised-1558016177743\"><span class=\"short\">short</span></a> by <span class=\"author\">Krishna Veera Vanamali</span> / \n",
       "      <span class=\"time\" content=\"2019-05-16T14:16:17.000Z\" itemprop=\"dateModified\">07:46 pm</span> on <span class=\"date\">16 May</span>\n",
       "</div>\n",
       "</div>\n",
       "<div class=\"news-card-footer news-right-box\">\n",
       "<div class=\"read-more\">read more at <a class=\"source\" href=\"https://in.reuters.com/article/india-amazon/amazon-faces-backlash-in-india-for-selling-shoes-rugs-with-images-of-hindu-gods-idINKCN1SM1BW?utm_campaign=fullarticle&amp;utm_medium=referral&amp;utm_source=inshorts \" onclick=\"ga('send', {'hitType': 'event', 'eventCategory': 'ReadMore', 'eventAction': 'clicked', 'eventLabel': 'Reuters' });\" target=\"_blank\">Reuters</a></div>\n",
       "</div>\n",
       "</div>\n",
       "</div>\n",
       "<div class=\"\">\n",
       "<div class=\"news-card z-depth-1\" itemscope=\"\" itemtype=\"http://schema.org/NewsArticle\">\n",
       "<span content=\"\" itemid=\"https://inshorts.com/en/news/german-startup-shows-worlds-1st-electric-5seater-air-taxi-1558005589069\" itemprop=\"mainEntityOfPage\" itemscope=\"\" itemtype=\"https://schema.org/WebPage\"></span>\n",
       "<span itemprop=\"author\" itemscope=\"itemscope\" itemtype=\"https://schema.org/Person\">\n",
       "<span content=\"Arundhati Rawat\" itemprop=\"name\"></span>\n",
       "</span>\n",
       "<span content=\"German startup shows world's 1st electric 5-seater air taxi\" itemprop=\"description\"></span>\n",
       "<span itemprop=\"image\" itemscope=\"\" itemtype=\"https://schema.org/ImageObject\">\n",
       "<meta content=\"https://assets.inshorts.com/inshorts/images/v1/variants/jpg/m/2019/05_may/16_thu/img_1558002490039_675.jpg\" itemprop=\"url\"/>\n",
       "<meta content=\"864\" itemprop=\"width\"/>\n",
       "<meta content=\"483\" itemprop=\"height\"/>\n",
       "</span>\n",
       "<span itemprop=\"publisher\" itemscope=\"itemscope\" itemtype=\"https://schema.org/Organization\">\n",
       "<span content=\"https://inshorts.com/\" itemprop=\"url\"></span>\n",
       "<span content=\"Inshorts\" itemprop=\"name\"></span>\n",
       "<span itemprop=\"logo\" itemscope=\"\" itemtype=\"https://schema.org/ImageObject\">\n",
       "<span content=\"https://assets.inshorts.com/inshorts/images/v1/variants/jpg/m/2018/11_nov/21_wed/img_1542823931298_497.jpg\" itemprop=\"url\"></span>\n",
       "<meta content=\"400\" itemprop=\"width\"/>\n",
       "<meta content=\"60\" itemprop=\"height\"/>\n",
       "</span>\n",
       "</span>\n",
       "<div class=\"news-card-image\" style=\"background-image: url('https://assets.inshorts.com/inshorts/images/v1/variants/jpg/m/2019/05_may/16_thu/img_1558002490039_675.jpg?resize=400px:*')\">\n",
       "</div>\n",
       "<div class=\"news-card-title news-right-box\">\n",
       "<a class=\"clickable\" href=\"/en/news/german-startup-shows-worlds-1st-electric-5seater-air-taxi-1558005589069\" onclick=\"ga('send', {'hitType': 'event', 'eventCategory': 'TitleOfNews', 'eventAction': 'clicked', 'eventLabel': 'German%20startup%20shows%20world's%201st%20electric%205-seater%20air%20taxi)' });\" style=\"color:#44444d!important\">\n",
       "<span itemprop=\"headline\">German startup shows world's 1st electric 5-seater air taxi</span>\n",
       "</a>\n",
       "<div class=\"news-card-author-time news-card-author-time-in-title\">\n",
       "<a href=\"/prev/en/news/german-startup-shows-worlds-1st-electric-5seater-air-taxi-1558005589069\"><span class=\"short\">short</span></a> by <span class=\"author\">Arundhati Rawat</span> / \n",
       "      <span class=\"time\" content=\"2019-05-16T11:19:49.000Z\" itemprop=\"datePublished\">04:49 pm</span> on <span clas=\"date\">16 May 2019,Thursday</span>\n",
       "</div>\n",
       "</div>\n",
       "<div class=\"news-card-content news-right-box\">\n",
       "<div itemprop=\"articleBody\">Munich-based startup Lilium unveiled what it claims is the world's first all-electric, jet-powered, five-seater air taxi prototype after successfully completing the full-scale prototype's maiden test earlier this month. The air taxi will have a 300 km range with a top speed of 300 kmph. Lilium intends to be operational in cities globally by 2025, providing an app-based air taxi service.</div>\n",
       "<div class=\"news-card-author-time news-card-author-time-in-content\">\n",
       "<a href=\"/prev/en/news/german-startup-shows-worlds-1st-electric-5seater-air-taxi-1558005589069\"><span class=\"short\">short</span></a> by <span class=\"author\">Arundhati Rawat</span> / \n",
       "      <span class=\"time\" content=\"2019-05-16T11:19:49.000Z\" itemprop=\"dateModified\">04:49 pm</span> on <span class=\"date\">16 May</span>\n",
       "</div>\n",
       "</div>\n",
       "<div class=\"news-card-footer news-right-box\">\n",
       "<div class=\"read-more\">read more at <a class=\"source\" href=\"https://www.livemint.com/technology/tech-news/lilium-launched-world-s-first-all-electric-flying-taxi-completes-maiden-test-here-s-how-it-looks-1557987446378.html?utm_campaign=fullarticle&amp;utm_medium=referral&amp;utm_source=inshorts \" onclick=\"ga('send', {'hitType': 'event', 'eventCategory': 'ReadMore', 'eventAction': 'clicked', 'eventLabel': 'Livemint' });\" target=\"_blank\">Livemint</a></div>\n",
       "</div>\n",
       "</div>\n",
       "</div>\n",
       "<div class=\"\">\n",
       "<div class=\"news-card z-depth-1\" itemscope=\"\" itemtype=\"http://schema.org/NewsArticle\">\n",
       "<span content=\"\" itemid=\"https://inshorts.com/en/news/apple-to-not-debut-its-own-5g-chip-before-2025-reports-1558060248301\" itemprop=\"mainEntityOfPage\" itemscope=\"\" itemtype=\"https://schema.org/WebPage\"></span>\n",
       "<span itemprop=\"author\" itemscope=\"itemscope\" itemtype=\"https://schema.org/Person\">\n",
       "<span content=\"Kanishka Pandey\" itemprop=\"name\"></span>\n",
       "</span>\n",
       "<span content=\"Apple to not debut its own 5G chip before 2025: Reports\" itemprop=\"description\"></span>\n",
       "<span itemprop=\"image\" itemscope=\"\" itemtype=\"https://schema.org/ImageObject\">\n",
       "<meta content=\"https://assets.inshorts.com/inshorts/images/v1/variants/jpg/m/2019/05_may/16_thu/img_1558017190421_170.jpg\" itemprop=\"url\"/>\n",
       "<meta content=\"864\" itemprop=\"width\"/>\n",
       "<meta content=\"483\" itemprop=\"height\"/>\n",
       "</span>\n",
       "<span itemprop=\"publisher\" itemscope=\"itemscope\" itemtype=\"https://schema.org/Organization\">\n",
       "<span content=\"https://inshorts.com/\" itemprop=\"url\"></span>\n",
       "<span content=\"Inshorts\" itemprop=\"name\"></span>\n",
       "<span itemprop=\"logo\" itemscope=\"\" itemtype=\"https://schema.org/ImageObject\">\n",
       "<span content=\"https://assets.inshorts.com/inshorts/images/v1/variants/jpg/m/2018/11_nov/21_wed/img_1542823931298_497.jpg\" itemprop=\"url\"></span>\n",
       "<meta content=\"400\" itemprop=\"width\"/>\n",
       "<meta content=\"60\" itemprop=\"height\"/>\n",
       "</span>\n",
       "</span>\n",
       "<div class=\"news-card-image\" style=\"background-image: url('https://assets.inshorts.com/inshorts/images/v1/variants/jpg/m/2019/05_may/16_thu/img_1558017190421_170.jpg?resize=400px:*')\">\n",
       "</div>\n",
       "<div class=\"news-card-title news-right-box\">\n",
       "<a class=\"clickable\" href=\"/en/news/apple-to-not-debut-its-own-5g-chip-before-2025-reports-1558060248301\" onclick=\"ga('send', {'hitType': 'event', 'eventCategory': 'TitleOfNews', 'eventAction': 'clicked', 'eventLabel': 'Apple%20to%20not%20debut%20its%20own%205G%20chip%20before%202025%3A%20Reports)' });\" style=\"color:#44444d!important\">\n",
       "<span itemprop=\"headline\">Apple to not debut its own 5G chip before 2025: Reports</span>\n",
       "</a>\n",
       "<div class=\"news-card-author-time news-card-author-time-in-title\">\n",
       "<a href=\"/prev/en/news/apple-to-not-debut-its-own-5g-chip-before-2025-reports-1558060248301\"><span class=\"short\">short</span></a> by <span class=\"author\">Kanishka Pandey</span> / \n",
       "      <span class=\"time\" content=\"2019-05-17T02:30:48.000Z\" itemprop=\"datePublished\">08:00 am</span> on <span clas=\"date\">17 May 2019,Friday</span>\n",
       "</div>\n",
       "</div>\n",
       "<div class=\"news-card-content news-right-box\">\n",
       "<div itemprop=\"articleBody\">Apple's plans to introduce its own 5G chips could take up to six years, as per reports. Apple has reportedly said, in interviews with prospective hires for the team developing the chips, that it expects the 5G chips to be developed by 2025. Apple recently ended the two-year-long patent dispute with Qualcomm, gaining access to the chipmaking giant's chips.</div>\n",
       "<div class=\"news-card-author-time news-card-author-time-in-content\">\n",
       "<a href=\"/prev/en/news/apple-to-not-debut-its-own-5g-chip-before-2025-reports-1558060248301\"><span class=\"short\">short</span></a> by <span class=\"author\">Kanishka Pandey</span> / \n",
       "      <span class=\"time\" content=\"2019-05-17T02:30:48.000Z\" itemprop=\"dateModified\">08:00 am</span> on <span class=\"date\">17 May</span>\n",
       "</div>\n",
       "</div>\n",
       "<div class=\"news-card-footer news-right-box\">\n",
       "<div class=\"read-more\">read more at <a class=\"source\" href=\"https://www.bgr.in/news/apple-5g-chip-not-to-debut-before-2025/?utm_campaign=fullarticle&amp;utm_medium=referral&amp;utm_source=inshorts \" onclick=\"ga('send', {'hitType': 'event', 'eventCategory': 'ReadMore', 'eventAction': 'clicked', 'eventLabel': 'BGR' });\" target=\"_blank\">BGR</a></div>\n",
       "</div>\n",
       "</div>\n",
       "</div>\n",
       "<div class=\"\">\n",
       "<div class=\"news-card z-depth-1\" itemscope=\"\" itemtype=\"http://schema.org/NewsArticle\">\n",
       "<span content=\"\" itemid=\"https://inshorts.com/en/news/huawei-willing-to-sign-nospy-pacts-with-govts-chairman-1557917632864\" itemprop=\"mainEntityOfPage\" itemscope=\"\" itemtype=\"https://schema.org/WebPage\"></span>\n",
       "<span itemprop=\"author\" itemscope=\"itemscope\" itemtype=\"https://schema.org/Person\">\n",
       "<span content=\"Shruti Maria Mahendar\" itemprop=\"name\"></span>\n",
       "</span>\n",
       "<span content=\"Huawei willing to sign 'no-spy' pacts with govts: Chairman\" itemprop=\"description\"></span>\n",
       "<span itemprop=\"image\" itemscope=\"\" itemtype=\"https://schema.org/ImageObject\">\n",
       "<meta content=\"https://assets.inshorts.com/inshorts/images/v1/variants/jpg/m/2019/05_may/15_wed/img_1557914516370_981.jpg\" itemprop=\"url\"/>\n",
       "<meta content=\"864\" itemprop=\"width\"/>\n",
       "<meta content=\"483\" itemprop=\"height\"/>\n",
       "</span>\n",
       "<span itemprop=\"publisher\" itemscope=\"itemscope\" itemtype=\"https://schema.org/Organization\">\n",
       "<span content=\"https://inshorts.com/\" itemprop=\"url\"></span>\n",
       "<span content=\"Inshorts\" itemprop=\"name\"></span>\n",
       "<span itemprop=\"logo\" itemscope=\"\" itemtype=\"https://schema.org/ImageObject\">\n",
       "<span content=\"https://assets.inshorts.com/inshorts/images/v1/variants/jpg/m/2018/11_nov/21_wed/img_1542823931298_497.jpg\" itemprop=\"url\"></span>\n",
       "<meta content=\"400\" itemprop=\"width\"/>\n",
       "<meta content=\"60\" itemprop=\"height\"/>\n",
       "</span>\n",
       "</span>\n",
       "<div class=\"news-card-image\" style=\"background-image: url('https://assets.inshorts.com/inshorts/images/v1/variants/jpg/m/2019/05_may/15_wed/img_1557914516370_981.jpg?resize=400px:*')\">\n",
       "</div>\n",
       "<div class=\"news-card-title news-right-box\">\n",
       "<a class=\"clickable\" href=\"/en/news/huawei-willing-to-sign-nospy-pacts-with-govts-chairman-1557917632864\" onclick=\"ga('send', {'hitType': 'event', 'eventCategory': 'TitleOfNews', 'eventAction': 'clicked', 'eventLabel': 'Huawei%20willing%20to%20sign%20'no-spy'%20pacts%20with%20govts%3A%20Chairman)' });\" style=\"color:#44444d!important\">\n",
       "<span itemprop=\"headline\">Huawei willing to sign 'no-spy' pacts with govts: Chairman</span>\n",
       "</a>\n",
       "<div class=\"news-card-author-time news-card-author-time-in-title\">\n",
       "<a href=\"/prev/en/news/huawei-willing-to-sign-nospy-pacts-with-govts-chairman-1557917632864\"><span class=\"short\">short</span></a> by <span class=\"author\">Shruti Maria Mahendar</span> / \n",
       "      <span class=\"time\" content=\"2019-05-15T10:53:52.000Z\" itemprop=\"datePublished\">04:23 pm</span> on <span clas=\"date\">15 May 2019,Wednesday</span>\n",
       "</div>\n",
       "</div>\n",
       "<div class=\"news-card-content news-right-box\">\n",
       "<div itemprop=\"articleBody\">Huawei Chairman Liang Hua has said the company is willing to sign 'no-spy' agreements with governments, including Britain. The UK is deciding the extent to which it will allow Huawei, the world's biggest telecoms equipment supplier, to participate in building its 5G networks. This comes amid US pressure on European countries to boycott the Chinese technology giant over espionage concerns.</div>\n",
       "<div class=\"news-card-author-time news-card-author-time-in-content\">\n",
       "<a href=\"/prev/en/news/huawei-willing-to-sign-nospy-pacts-with-govts-chairman-1557917632864\"><span class=\"short\">short</span></a> by <span class=\"author\">Shruti Maria Mahendar</span> / \n",
       "      <span class=\"time\" content=\"2019-05-15T10:53:52.000Z\" itemprop=\"dateModified\">04:23 pm</span> on <span class=\"date\">15 May</span>\n",
       "</div>\n",
       "</div>\n",
       "<div class=\"news-card-footer news-right-box\">\n",
       "<div class=\"read-more\">read more at <a class=\"source\" href=\"https://www.reuters.com/article/us-huawei-security-britain-chairman/huawei-willing-to-sign-no-spy-agreements-with-governments-chairman-idUSKCN1SK1HL?utm_campaign=fullarticle&amp;utm_medium=referral&amp;utm_source=inshorts \" onclick=\"ga('send', {'hitType': 'event', 'eventCategory': 'ReadMore', 'eventAction': 'clicked', 'eventLabel': 'Reuters' });\" target=\"_blank\">Reuters</a></div>\n",
       "</div>\n",
       "</div>\n",
       "</div>\n",
       "<div class=\"\">\n",
       "<div class=\"news-card z-depth-1\" itemscope=\"\" itemtype=\"http://schema.org/NewsArticle\">\n",
       "<span content=\"\" itemid=\"https://inshorts.com/en/news/2-teams-jointly-win-$10-million-in-elon-muskbacked-xprize-1558085232940\" itemprop=\"mainEntityOfPage\" itemscope=\"\" itemtype=\"https://schema.org/WebPage\"></span>\n",
       "<span itemprop=\"author\" itemscope=\"itemscope\" itemtype=\"https://schema.org/Person\">\n",
       "<span content=\"Arundhati Rawat\" itemprop=\"name\"></span>\n",
       "</span>\n",
       "<span content=\"2 teams jointly win $10 million in Elon Musk-backed XPRIZE\" itemprop=\"description\"></span>\n",
       "<span itemprop=\"image\" itemscope=\"\" itemtype=\"https://schema.org/ImageObject\">\n",
       "<meta content=\"https://assets.inshorts.com/inshorts/images/v1/variants/jpg/m/2019/05_may/16_thu/img_1558029006928_508.jpg\" itemprop=\"url\"/>\n",
       "<meta content=\"864\" itemprop=\"width\"/>\n",
       "<meta content=\"483\" itemprop=\"height\"/>\n",
       "</span>\n",
       "<span itemprop=\"publisher\" itemscope=\"itemscope\" itemtype=\"https://schema.org/Organization\">\n",
       "<span content=\"https://inshorts.com/\" itemprop=\"url\"></span>\n",
       "<span content=\"Inshorts\" itemprop=\"name\"></span>\n",
       "<span itemprop=\"logo\" itemscope=\"\" itemtype=\"https://schema.org/ImageObject\">\n",
       "<span content=\"https://assets.inshorts.com/inshorts/images/v1/variants/jpg/m/2018/11_nov/21_wed/img_1542823931298_497.jpg\" itemprop=\"url\"></span>\n",
       "<meta content=\"400\" itemprop=\"width\"/>\n",
       "<meta content=\"60\" itemprop=\"height\"/>\n",
       "</span>\n",
       "</span>\n",
       "<div class=\"news-card-image\" style=\"background-image: url('https://assets.inshorts.com/inshorts/images/v1/variants/jpg/m/2019/05_may/16_thu/img_1558029006928_508.jpg?resize=400px:*')\">\n",
       "</div>\n",
       "<div class=\"news-card-title news-right-box\">\n",
       "<a class=\"clickable\" href=\"/en/news/2-teams-jointly-win-$10-million-in-elon-muskbacked-xprize-1558085232940\" onclick=\"ga('send', {'hitType': 'event', 'eventCategory': 'TitleOfNews', 'eventAction': 'clicked', 'eventLabel': '2%20teams%20jointly%20win%20%2410%20million%20in%20Elon%20Musk-backed%20XPRIZE)' });\" style=\"color:#44444d!important\">\n",
       "<span itemprop=\"headline\">2 teams jointly win $10 million in Elon Musk-backed XPRIZE</span>\n",
       "</a>\n",
       "<div class=\"news-card-author-time news-card-author-time-in-title\">\n",
       "<a href=\"/prev/en/news/2-teams-jointly-win-$10-million-in-elon-muskbacked-xprize-1558085232940\"><span class=\"short\">short</span></a> by <span class=\"author\">Arundhati Rawat</span> / \n",
       "      <span class=\"time\" content=\"2019-05-17T09:27:12.000Z\" itemprop=\"datePublished\">02:57 pm</span> on <span clas=\"date\">17 May 2019,Friday</span>\n",
       "</div>\n",
       "</div>\n",
       "<div class=\"news-card-content news-right-box\">\n",
       "<div itemprop=\"articleBody\">Two teams have jointly won $10-million prize of Global Learning XPRIZE, which counts Elon Musk among supporters and benefactors. Kitkit School, from the US and South Korea and Onebillion from the UK and Kenya, both developed tablet apps to aid student learning. Bengaluru's Chimple was among five finalists in 2017, which received $1 million and tested their technology in Tanzania.</div>\n",
       "<div class=\"news-card-author-time news-card-author-time-in-content\">\n",
       "<a href=\"/prev/en/news/2-teams-jointly-win-$10-million-in-elon-muskbacked-xprize-1558085232940\"><span class=\"short\">short</span></a> by <span class=\"author\">Arundhati Rawat</span> / \n",
       "      <span class=\"time\" content=\"2019-05-17T09:27:12.000Z\" itemprop=\"dateModified\">02:57 pm</span> on <span class=\"date\">17 May</span>\n",
       "</div>\n",
       "</div>\n",
       "<div class=\"news-card-footer news-right-box\">\n",
       "<div class=\"read-more\">read more at <a class=\"source\" href=\"https://techcrunch.com/2019/05/16/global-learning-xprize-splits-10m-purse-for-best-teaching-app-for-disadvantaged-kids/?utm_campaign=fullarticle&amp;utm_medium=referral&amp;utm_source=inshorts \" onclick=\"ga('send', {'hitType': 'event', 'eventCategory': 'ReadMore', 'eventAction': 'clicked', 'eventLabel': 'TechCrunch' });\" target=\"_blank\">TechCrunch</a></div>\n",
       "</div>\n",
       "</div>\n",
       "</div>\n",
       "<div class=\"\">\n",
       "<div class=\"news-card z-depth-1\" itemscope=\"\" itemtype=\"http://schema.org/NewsArticle\">\n",
       "<span content=\"\" itemid=\"https://inshorts.com/en/news/one-of-1st-apple-pcs-built-by-steve-jobs-to-be-auctioned-1557939239126\" itemprop=\"mainEntityOfPage\" itemscope=\"\" itemtype=\"https://schema.org/WebPage\"></span>\n",
       "<span itemprop=\"author\" itemscope=\"itemscope\" itemtype=\"https://schema.org/Person\">\n",
       "<span content=\"Kanishka Pandey\" itemprop=\"name\"></span>\n",
       "</span>\n",
       "<span content=\"One of 1st Apple PCs built by Steve Jobs to be auctioned\" itemprop=\"description\"></span>\n",
       "<span itemprop=\"image\" itemscope=\"\" itemtype=\"https://schema.org/ImageObject\">\n",
       "<meta content=\"https://assets.inshorts.com/inshorts/images/v1/variants/jpg/m/2019/05_may/15_wed/img_1557931554035_597.jpg\" itemprop=\"url\"/>\n",
       "<meta content=\"864\" itemprop=\"width\"/>\n",
       "<meta content=\"483\" itemprop=\"height\"/>\n",
       "</span>\n",
       "<span itemprop=\"publisher\" itemscope=\"itemscope\" itemtype=\"https://schema.org/Organization\">\n",
       "<span content=\"https://inshorts.com/\" itemprop=\"url\"></span>\n",
       "<span content=\"Inshorts\" itemprop=\"name\"></span>\n",
       "<span itemprop=\"logo\" itemscope=\"\" itemtype=\"https://schema.org/ImageObject\">\n",
       "<span content=\"https://assets.inshorts.com/inshorts/images/v1/variants/jpg/m/2018/11_nov/21_wed/img_1542823931298_497.jpg\" itemprop=\"url\"></span>\n",
       "<meta content=\"400\" itemprop=\"width\"/>\n",
       "<meta content=\"60\" itemprop=\"height\"/>\n",
       "</span>\n",
       "</span>\n",
       "<div class=\"news-card-image\" style=\"background-image: url('https://assets.inshorts.com/inshorts/images/v1/variants/jpg/m/2019/05_may/15_wed/img_1557931554035_597.jpg?resize=400px:*')\">\n",
       "</div>\n",
       "<div class=\"news-card-title news-right-box\">\n",
       "<a class=\"clickable\" href=\"/en/news/one-of-1st-apple-pcs-built-by-steve-jobs-to-be-auctioned-1557939239126\" onclick=\"ga('send', {'hitType': 'event', 'eventCategory': 'TitleOfNews', 'eventAction': 'clicked', 'eventLabel': 'One%20of%201st%20Apple%20PCs%20built%20by%20Steve%20Jobs%20to%20be%20auctioned)' });\" style=\"color:#44444d!important\">\n",
       "<span itemprop=\"headline\">One of 1st Apple PCs built by Steve Jobs to be auctioned</span>\n",
       "</a>\n",
       "<div class=\"news-card-author-time news-card-author-time-in-title\">\n",
       "<a href=\"/prev/en/news/one-of-1st-apple-pcs-built-by-steve-jobs-to-be-auctioned-1557939239126\"><span class=\"short\">short</span></a> by <span class=\"author\">Kanishka Pandey</span> / \n",
       "      <span class=\"time\" content=\"2019-05-15T16:53:59.000Z\" itemprop=\"datePublished\">10:23 pm</span> on <span clas=\"date\">15 May 2019,Wednesday</span>\n",
       "</div>\n",
       "</div>\n",
       "<div class=\"news-card-content news-right-box\">\n",
       "<div itemprop=\"articleBody\">One of only 200 units of Apple's first-ever personal computers, Apple-1, designed and built by Apple Co-founders Steve Wozniak and Steve Jobs, is being auctioned online from May 16-23. \"[We're offering] a rare example of the first personal computer sold with a fully assembled motherboard,\" global auction house Christie's said. It's reportedly estimated to fetch up to around ₹4.5 crore.</div>\n",
       "<div class=\"news-card-author-time news-card-author-time-in-content\">\n",
       "<a href=\"/prev/en/news/one-of-1st-apple-pcs-built-by-steve-jobs-to-be-auctioned-1557939239126\"><span class=\"short\">short</span></a> by <span class=\"author\">Kanishka Pandey</span> / \n",
       "      <span class=\"time\" content=\"2019-05-15T16:53:59.000Z\" itemprop=\"dateModified\">10:23 pm</span> on <span class=\"date\">15 May</span>\n",
       "</div>\n",
       "</div>\n",
       "<div class=\"news-card-footer news-right-box\">\n",
       "<div class=\"read-more\">read more at <a class=\"source\" href=\"https://www.siasat.com/news/first-apple-computer-be-auctioned-online-1497106/?utm_campaign=fullarticle&amp;utm_medium=referral&amp;utm_source=inshorts \" onclick=\"ga('send', {'hitType': 'event', 'eventCategory': 'ReadMore', 'eventAction': 'clicked', 'eventLabel': 'The%20Siasat%20Daily' });\" target=\"_blank\">The Siasat Daily</a></div>\n",
       "</div>\n",
       "</div>\n",
       "</div>\n",
       "<div id=\"div-gpt-ad-1536748319959-6l2iuygn-1\" style=\"height:250px; width:900px; margin: auto; margin-bottom: 2%;\">\n",
       "<script>\n",
       "        googletag.cmd.push(function() { \n",
       "          //News banner for desktop\n",
       "          var slotIdWeb = 'div-gpt-ad-1536748319959-6l2iuygn-1';\n",
       "          var slot = googletag.defineSlot('/142919096/inshorts_website_900x250', [900, 250], slotIdWeb)\n",
       "          .addService(googletag.pubads())\n",
       "          .setCollapseEmptyDiv(true,true);\n",
       "\n",
       "          googletag.display('div-gpt-ad-1536748319959-6l2iuygn-1');\n",
       "          googletag.pubads().refresh([slot]);\n",
       "        });\n",
       "      </script>\n",
       "</div>\n",
       "<div class=\"\">\n",
       "<div class=\"news-card z-depth-1\" itemscope=\"\" itemtype=\"http://schema.org/NewsArticle\">\n",
       "<span content=\"\" itemid=\"https://inshorts.com/en/news/brought-me-to-tears-detained-huawei-cfo-on-staffs-support-1557927573060\" itemprop=\"mainEntityOfPage\" itemscope=\"\" itemtype=\"https://schema.org/WebPage\"></span>\n",
       "<span itemprop=\"author\" itemscope=\"itemscope\" itemtype=\"https://schema.org/Person\">\n",
       "<span content=\"Arundhati Rawat\" itemprop=\"name\"></span>\n",
       "</span>\n",
       "<span content=\"Brought me to tears: Detained Huawei CFO on staff's support\" itemprop=\"description\"></span>\n",
       "<span itemprop=\"image\" itemscope=\"\" itemtype=\"https://schema.org/ImageObject\">\n",
       "<meta content=\"https://assets.inshorts.com/inshorts/images/v1/variants/jpg/m/2019/05_may/15_wed/img_1557919194067_326.jpg\" itemprop=\"url\"/>\n",
       "<meta content=\"864\" itemprop=\"width\"/>\n",
       "<meta content=\"483\" itemprop=\"height\"/>\n",
       "</span>\n",
       "<span itemprop=\"publisher\" itemscope=\"itemscope\" itemtype=\"https://schema.org/Organization\">\n",
       "<span content=\"https://inshorts.com/\" itemprop=\"url\"></span>\n",
       "<span content=\"Inshorts\" itemprop=\"name\"></span>\n",
       "<span itemprop=\"logo\" itemscope=\"\" itemtype=\"https://schema.org/ImageObject\">\n",
       "<span content=\"https://assets.inshorts.com/inshorts/images/v1/variants/jpg/m/2018/11_nov/21_wed/img_1542823931298_497.jpg\" itemprop=\"url\"></span>\n",
       "<meta content=\"400\" itemprop=\"width\"/>\n",
       "<meta content=\"60\" itemprop=\"height\"/>\n",
       "</span>\n",
       "</span>\n",
       "<div class=\"news-card-image\" style=\"background-image: url('https://assets.inshorts.com/inshorts/images/v1/variants/jpg/m/2019/05_may/15_wed/img_1557919194067_326.jpg?resize=400px:*')\">\n",
       "</div>\n",
       "<div class=\"news-card-title news-right-box\">\n",
       "<a class=\"clickable\" href=\"/en/news/brought-me-to-tears-detained-huawei-cfo-on-staffs-support-1557927573060\" onclick=\"ga('send', {'hitType': 'event', 'eventCategory': 'TitleOfNews', 'eventAction': 'clicked', 'eventLabel': 'Brought%20me%20to%20tears%3A%20Detained%20Huawei%20CFO%20on%20staff's%20support)' });\" style=\"color:#44444d!important\">\n",
       "<span itemprop=\"headline\">Brought me to tears: Detained Huawei CFO on staff's support</span>\n",
       "</a>\n",
       "<div class=\"news-card-author-time news-card-author-time-in-title\">\n",
       "<a href=\"/prev/en/news/brought-me-to-tears-detained-huawei-cfo-on-staffs-support-1557927573060\"><span class=\"short\">short</span></a> by <span class=\"author\">Arundhati Rawat</span> / \n",
       "      <span class=\"time\" content=\"2019-05-15T13:39:33.000Z\" itemprop=\"datePublished\">07:09 pm</span> on <span clas=\"date\">15 May 2019,Wednesday</span>\n",
       "</div>\n",
       "</div>\n",
       "<div class=\"news-card-content news-right-box\">\n",
       "<div itemprop=\"articleBody\">Huawei CFO Meng Wanzhou in a letter to the Chinese company's 1,88,000 employees said she was brought to tears after seeing them staying up all night to follow her case in distant time zones, adding it has filled her \"with power\". Meng has been detained in Canada since December, where she is fighting US extradition for allegedly violating Iran sanctions.</div>\n",
       "<div class=\"news-card-author-time news-card-author-time-in-content\">\n",
       "<a href=\"/prev/en/news/brought-me-to-tears-detained-huawei-cfo-on-staffs-support-1557927573060\"><span class=\"short\">short</span></a> by <span class=\"author\">Arundhati Rawat</span> / \n",
       "      <span class=\"time\" content=\"2019-05-15T13:39:33.000Z\" itemprop=\"dateModified\">07:09 pm</span> on <span class=\"date\">15 May</span>\n",
       "</div>\n",
       "</div>\n",
       "<div class=\"news-card-footer news-right-box\">\n",
       "<div class=\"read-more\">read more at <a class=\"source\" href=\"https://www.livemint.com/companies/news/detained-huawei-cfo-speaks-out-in-letter-to-employees-1557899425772.html?utm_campaign=fullarticle&amp;utm_medium=referral&amp;utm_source=inshorts \" onclick=\"ga('send', {'hitType': 'event', 'eventCategory': 'ReadMore', 'eventAction': 'clicked', 'eventLabel': 'Livemint' });\" target=\"_blank\">Livemint</a></div>\n",
       "</div>\n",
       "</div>\n",
       "</div>\n",
       "<div class=\"\">\n",
       "<div class=\"news-card z-depth-1\" itemscope=\"\" itemtype=\"http://schema.org/NewsArticle\">\n",
       "<span content=\"\" itemid=\"https://inshorts.com/en/news/iphone-price-may-rise-3-over-uschina-trade-war-report-1557976179224\" itemprop=\"mainEntityOfPage\" itemscope=\"\" itemtype=\"https://schema.org/WebPage\"></span>\n",
       "<span itemprop=\"author\" itemscope=\"itemscope\" itemtype=\"https://schema.org/Person\">\n",
       "<span content=\"Arundhati Rawat\" itemprop=\"name\"></span>\n",
       "</span>\n",
       "<span content=\"iPhone price may rise 3% over US-China trade war: Report\" itemprop=\"description\"></span>\n",
       "<span itemprop=\"image\" itemscope=\"\" itemtype=\"https://schema.org/ImageObject\">\n",
       "<meta content=\"https://assets.inshorts.com/inshorts/images/v1/variants/jpg/m/2019/05_may/15_wed/img_1557938548209_899.jpg\" itemprop=\"url\"/>\n",
       "<meta content=\"864\" itemprop=\"width\"/>\n",
       "<meta content=\"483\" itemprop=\"height\"/>\n",
       "</span>\n",
       "<span itemprop=\"publisher\" itemscope=\"itemscope\" itemtype=\"https://schema.org/Organization\">\n",
       "<span content=\"https://inshorts.com/\" itemprop=\"url\"></span>\n",
       "<span content=\"Inshorts\" itemprop=\"name\"></span>\n",
       "<span itemprop=\"logo\" itemscope=\"\" itemtype=\"https://schema.org/ImageObject\">\n",
       "<span content=\"https://assets.inshorts.com/inshorts/images/v1/variants/jpg/m/2018/11_nov/21_wed/img_1542823931298_497.jpg\" itemprop=\"url\"></span>\n",
       "<meta content=\"400\" itemprop=\"width\"/>\n",
       "<meta content=\"60\" itemprop=\"height\"/>\n",
       "</span>\n",
       "</span>\n",
       "<div class=\"news-card-image\" style=\"background-image: url('https://assets.inshorts.com/inshorts/images/v1/variants/jpg/m/2019/05_may/15_wed/img_1557938548209_899.jpg?resize=400px:*')\">\n",
       "</div>\n",
       "<div class=\"news-card-title news-right-box\">\n",
       "<a class=\"clickable\" href=\"/en/news/iphone-price-may-rise-3-over-uschina-trade-war-report-1557976179224\" onclick=\"ga('send', {'hitType': 'event', 'eventCategory': 'TitleOfNews', 'eventAction': 'clicked', 'eventLabel': 'iPhone%20price%20may%20rise%203%25%20over%20US-China%20trade%20war%3A%20Report)' });\" style=\"color:#44444d!important\">\n",
       "<span itemprop=\"headline\">iPhone price may rise 3% over US-China trade war: Report</span>\n",
       "</a>\n",
       "<div class=\"news-card-author-time news-card-author-time-in-title\">\n",
       "<a href=\"/prev/en/news/iphone-price-may-rise-3-over-uschina-trade-war-report-1557976179224\"><span class=\"short\">short</span></a> by <span class=\"author\">Arundhati Rawat</span> / \n",
       "      <span class=\"time\" content=\"2019-05-16T03:09:39.000Z\" itemprop=\"datePublished\">08:39 am</span> on <span clas=\"date\">16 May 2019,Thursday</span>\n",
       "</div>\n",
       "</div>\n",
       "<div class=\"news-card-content news-right-box\">\n",
       "<div itemprop=\"articleBody\">Tariffs on the iPhone's China-made batteries and other components would increase its manufacturing cost by 2% to 3%, a report said, adding Apple would need to increase iPhone prices by a similar amount to make the same profit. The US raised tariffs on $200 billion worth of Chinese products and China retaliated with tariffs on $60 billion of US goods.</div>\n",
       "<div class=\"news-card-author-time news-card-author-time-in-content\">\n",
       "<a href=\"/prev/en/news/iphone-price-may-rise-3-over-uschina-trade-war-report-1557976179224\"><span class=\"short\">short</span></a> by <span class=\"author\">Arundhati Rawat</span> / \n",
       "      <span class=\"time\" content=\"2019-05-16T03:09:39.000Z\" itemprop=\"dateModified\">08:39 am</span> on <span class=\"date\">16 May</span>\n",
       "</div>\n",
       "</div>\n",
       "<div class=\"news-card-footer news-right-box\">\n",
       "<div class=\"read-more\">read more at <a class=\"source\" href=\"https://www.hindustantimes.com/tech/us-china-trade-war-could-make-iphones-3-more-costly/story-CYn6gnoFFDj9VSmZsesAFL.html?utm_campaign=fullarticle&amp;utm_medium=referral&amp;utm_source=inshorts \" onclick=\"ga('send', {'hitType': 'event', 'eventCategory': 'ReadMore', 'eventAction': 'clicked', 'eventLabel': 'Hindustan%20Times' });\" target=\"_blank\">Hindustan Times</a></div>\n",
       "</div>\n",
       "</div>\n",
       "</div>\n",
       "<div class=\"\">\n",
       "<div class=\"news-card z-depth-1\" itemscope=\"\" itemtype=\"http://schema.org/NewsArticle\">\n",
       "<span content=\"\" itemid=\"https://inshorts.com/en/news/flipkart-in-talks-with-nokia-motorola-to-make-tvs-report-1557951194295\" itemprop=\"mainEntityOfPage\" itemscope=\"\" itemtype=\"https://schema.org/WebPage\"></span>\n",
       "<span itemprop=\"author\" itemscope=\"itemscope\" itemtype=\"https://schema.org/Person\">\n",
       "<span content=\"Arundhati Rawat\" itemprop=\"name\"></span>\n",
       "</span>\n",
       "<span content=\"Flipkart in talks with Nokia, Motorola to make TVs: Report\" itemprop=\"description\"></span>\n",
       "<span itemprop=\"image\" itemscope=\"\" itemtype=\"https://schema.org/ImageObject\">\n",
       "<meta content=\"https://assets.inshorts.com/inshorts/images/v1/variants/jpg/m/2019/05_may/15_wed/img_1557939563663_652.jpg\" itemprop=\"url\"/>\n",
       "<meta content=\"864\" itemprop=\"width\"/>\n",
       "<meta content=\"483\" itemprop=\"height\"/>\n",
       "</span>\n",
       "<span itemprop=\"publisher\" itemscope=\"itemscope\" itemtype=\"https://schema.org/Organization\">\n",
       "<span content=\"https://inshorts.com/\" itemprop=\"url\"></span>\n",
       "<span content=\"Inshorts\" itemprop=\"name\"></span>\n",
       "<span itemprop=\"logo\" itemscope=\"\" itemtype=\"https://schema.org/ImageObject\">\n",
       "<span content=\"https://assets.inshorts.com/inshorts/images/v1/variants/jpg/m/2018/11_nov/21_wed/img_1542823931298_497.jpg\" itemprop=\"url\"></span>\n",
       "<meta content=\"400\" itemprop=\"width\"/>\n",
       "<meta content=\"60\" itemprop=\"height\"/>\n",
       "</span>\n",
       "</span>\n",
       "<div class=\"news-card-image\" style=\"background-image: url('https://assets.inshorts.com/inshorts/images/v1/variants/jpg/m/2019/05_may/15_wed/img_1557939563663_652.jpg?resize=400px:*')\">\n",
       "</div>\n",
       "<div class=\"news-card-title news-right-box\">\n",
       "<a class=\"clickable\" href=\"/en/news/flipkart-in-talks-with-nokia-motorola-to-make-tvs-report-1557951194295\" onclick=\"ga('send', {'hitType': 'event', 'eventCategory': 'TitleOfNews', 'eventAction': 'clicked', 'eventLabel': 'Flipkart%20in%20talks%20with%20Nokia%2C%20Motorola%20to%20make%20TVs%3A%20Report)' });\" style=\"color:#44444d!important\">\n",
       "<span itemprop=\"headline\">Flipkart in talks with Nokia, Motorola to make TVs: Report</span>\n",
       "</a>\n",
       "<div class=\"news-card-author-time news-card-author-time-in-title\">\n",
       "<a href=\"/prev/en/news/flipkart-in-talks-with-nokia-motorola-to-make-tvs-report-1557951194295\"><span class=\"short\">short</span></a> by <span class=\"author\">Arundhati Rawat</span> / \n",
       "      <span class=\"time\" content=\"2019-05-15T20:13:14.000Z\" itemprop=\"datePublished\">01:43 am</span> on <span clas=\"date\">16 May 2019,Thursday</span>\n",
       "</div>\n",
       "</div>\n",
       "<div class=\"news-card-content news-right-box\">\n",
       "<div itemprop=\"articleBody\">Flipkart is in talks with international original equipment manufacturers to make electronics for sale on its platform, as per reports. It's reportedly in advanced-stage talks with Nokia and Motorola, which plan to introduce TV models in India by next year. Flipkart also aims to collaborate with Sansui to launch smaller home appliances such as juicers, grinders and other kitchen appliances. </div>\n",
       "<div class=\"news-card-author-time news-card-author-time-in-content\">\n",
       "<a href=\"/prev/en/news/flipkart-in-talks-with-nokia-motorola-to-make-tvs-report-1557951194295\"><span class=\"short\">short</span></a> by <span class=\"author\">Arundhati Rawat</span> / \n",
       "      <span class=\"time\" content=\"2019-05-15T20:13:14.000Z\" itemprop=\"dateModified\">01:43 am</span> on <span class=\"date\">16 May</span>\n",
       "</div>\n",
       "</div>\n",
       "<div class=\"news-card-footer news-right-box\">\n",
       "<div class=\"read-more\">read more at <a class=\"source\" href=\"https://inc42.com/buzz/flipkart-consumer-durable-nokia-ecommerce/?utm_campaign=fullarticle&amp;utm_medium=referral&amp;utm_source=inshorts \" onclick=\"ga('send', {'hitType': 'event', 'eventCategory': 'ReadMore', 'eventAction': 'clicked', 'eventLabel': 'Inc42' });\" target=\"_blank\">Inc42</a></div>\n",
       "</div>\n",
       "</div>\n",
       "</div>\n",
       "<div class=\"\">\n",
       "<div class=\"news-card z-depth-1\" itemscope=\"\" itemtype=\"http://schema.org/NewsArticle\">\n",
       "<span content=\"\" itemid=\"https://inshorts.com/en/news/google-translatotron-can-translate-speech-in-speakers-voice-1558019713354\" itemprop=\"mainEntityOfPage\" itemscope=\"\" itemtype=\"https://schema.org/WebPage\"></span>\n",
       "<span itemprop=\"author\" itemscope=\"itemscope\" itemtype=\"https://schema.org/Person\">\n",
       "<span content=\"Gaurav Shroff\" itemprop=\"name\"></span>\n",
       "</span>\n",
       "<span content=\"Google Translatotron can translate speech in speaker's voice\" itemprop=\"description\"></span>\n",
       "<span itemprop=\"image\" itemscope=\"\" itemtype=\"https://schema.org/ImageObject\">\n",
       "<meta content=\"https://assets.inshorts.com/inshorts/images/v1/variants/jpg/m/2019/05_may/16_thu/img_1558016034216_443.jpg\" itemprop=\"url\"/>\n",
       "<meta content=\"864\" itemprop=\"width\"/>\n",
       "<meta content=\"483\" itemprop=\"height\"/>\n",
       "</span>\n",
       "<span itemprop=\"publisher\" itemscope=\"itemscope\" itemtype=\"https://schema.org/Organization\">\n",
       "<span content=\"https://inshorts.com/\" itemprop=\"url\"></span>\n",
       "<span content=\"Inshorts\" itemprop=\"name\"></span>\n",
       "<span itemprop=\"logo\" itemscope=\"\" itemtype=\"https://schema.org/ImageObject\">\n",
       "<span content=\"https://assets.inshorts.com/inshorts/images/v1/variants/jpg/m/2018/11_nov/21_wed/img_1542823931298_497.jpg\" itemprop=\"url\"></span>\n",
       "<meta content=\"400\" itemprop=\"width\"/>\n",
       "<meta content=\"60\" itemprop=\"height\"/>\n",
       "</span>\n",
       "</span>\n",
       "<div class=\"news-card-image\" style=\"background-image: url('https://assets.inshorts.com/inshorts/images/v1/variants/jpg/m/2019/05_may/16_thu/img_1558016034216_443.jpg?resize=400px:*')\">\n",
       "</div>\n",
       "<div class=\"news-card-title news-right-box\">\n",
       "<a class=\"clickable\" href=\"/en/news/google-translatotron-can-translate-speech-in-speakers-voice-1558019713354\" onclick=\"ga('send', {'hitType': 'event', 'eventCategory': 'TitleOfNews', 'eventAction': 'clicked', 'eventLabel': 'Google%20Translatotron%20can%20translate%20speech%20in%20speaker's%20voice)' });\" style=\"color:#44444d!important\">\n",
       "<span itemprop=\"headline\">Google Translatotron can translate speech in speaker's voice</span>\n",
       "</a>\n",
       "<div class=\"news-card-author-time news-card-author-time-in-title\">\n",
       "<a href=\"/prev/en/news/google-translatotron-can-translate-speech-in-speakers-voice-1558019713354\"><span class=\"short\">short</span></a> by <span class=\"author\">Gaurav Shroff</span> / \n",
       "      <span class=\"time\" content=\"2019-05-16T15:15:13.000Z\" itemprop=\"datePublished\">08:45 pm</span> on <span clas=\"date\">16 May 2019,Thursday</span>\n",
       "</div>\n",
       "</div>\n",
       "<div class=\"news-card-content news-right-box\">\n",
       "<div itemprop=\"articleBody\">Google is developing a new translation model called Translatotron that can directly convert speech from one language into another while maintaining a speaker's voice. It skips the usual step of translating speech to text and back to speech. Translatotron uses a sequence-to-sequence network model that processes voice input as a spectrogram and generates a new spectrogram in the target language.</div>\n",
       "<div class=\"news-card-author-time news-card-author-time-in-content\">\n",
       "<a href=\"/prev/en/news/google-translatotron-can-translate-speech-in-speakers-voice-1558019713354\"><span class=\"short\">short</span></a> by <span class=\"author\">Gaurav Shroff</span> / \n",
       "      <span class=\"time\" content=\"2019-05-16T15:15:13.000Z\" itemprop=\"dateModified\">08:45 pm</span> on <span class=\"date\">16 May</span>\n",
       "</div>\n",
       "</div>\n",
       "<div class=\"news-card-footer news-right-box\">\n",
       "<div class=\"read-more\">read more at <a class=\"source\" href=\"https://www.engadget.com/2019/05/15/google-translatotron-direct-speech-translation/?utm_campaign=fullarticle&amp;utm_medium=referral&amp;utm_source=inshorts \" onclick=\"ga('send', {'hitType': 'event', 'eventCategory': 'ReadMore', 'eventAction': 'clicked', 'eventLabel': 'Engadget' });\" target=\"_blank\">Engadget</a></div>\n",
       "</div>\n",
       "</div>\n",
       "</div>\n",
       "<div class=\"\">\n",
       "<div class=\"news-card z-depth-1\" itemscope=\"\" itemtype=\"http://schema.org/NewsArticle\">\n",
       "<span content=\"\" itemid=\"https://inshorts.com/en/news/facebook-amazon-back-pact-to-fight-extremist-content-online-1558017448917\" itemprop=\"mainEntityOfPage\" itemscope=\"\" itemtype=\"https://schema.org/WebPage\"></span>\n",
       "<span itemprop=\"author\" itemscope=\"itemscope\" itemtype=\"https://schema.org/Person\">\n",
       "<span content=\"Arundhati Rawat\" itemprop=\"name\"></span>\n",
       "</span>\n",
       "<span content=\"Facebook, Amazon back pact to fight extremist content online\" itemprop=\"description\"></span>\n",
       "<span itemprop=\"image\" itemscope=\"\" itemtype=\"https://schema.org/ImageObject\">\n",
       "<meta content=\"https://assets.inshorts.com/inshorts/images/v1/variants/jpg/m/2019/05_may/16_thu/img_1558004893642_595.jpg\" itemprop=\"url\"/>\n",
       "<meta content=\"864\" itemprop=\"width\"/>\n",
       "<meta content=\"483\" itemprop=\"height\"/>\n",
       "</span>\n",
       "<span itemprop=\"publisher\" itemscope=\"itemscope\" itemtype=\"https://schema.org/Organization\">\n",
       "<span content=\"https://inshorts.com/\" itemprop=\"url\"></span>\n",
       "<span content=\"Inshorts\" itemprop=\"name\"></span>\n",
       "<span itemprop=\"logo\" itemscope=\"\" itemtype=\"https://schema.org/ImageObject\">\n",
       "<span content=\"https://assets.inshorts.com/inshorts/images/v1/variants/jpg/m/2018/11_nov/21_wed/img_1542823931298_497.jpg\" itemprop=\"url\"></span>\n",
       "<meta content=\"400\" itemprop=\"width\"/>\n",
       "<meta content=\"60\" itemprop=\"height\"/>\n",
       "</span>\n",
       "</span>\n",
       "<div class=\"news-card-image\" style=\"background-image: url('https://assets.inshorts.com/inshorts/images/v1/variants/jpg/m/2019/05_may/16_thu/img_1558004893642_595.jpg?resize=400px:*')\">\n",
       "</div>\n",
       "<div class=\"news-card-title news-right-box\">\n",
       "<a class=\"clickable\" href=\"/en/news/facebook-amazon-back-pact-to-fight-extremist-content-online-1558017448917\" onclick=\"ga('send', {'hitType': 'event', 'eventCategory': 'TitleOfNews', 'eventAction': 'clicked', 'eventLabel': 'Facebook%2C%20Amazon%20back%20pact%20to%20fight%20extremist%20content%20online)' });\" style=\"color:#44444d!important\">\n",
       "<span itemprop=\"headline\">Facebook, Amazon back pact to fight extremist content online</span>\n",
       "</a>\n",
       "<div class=\"news-card-author-time news-card-author-time-in-title\">\n",
       "<a href=\"/prev/en/news/facebook-amazon-back-pact-to-fight-extremist-content-online-1558017448917\"><span class=\"short\">short</span></a> by <span class=\"author\">Arundhati Rawat</span> / \n",
       "      <span class=\"time\" content=\"2019-05-16T14:37:28.000Z\" itemprop=\"datePublished\">08:07 pm</span> on <span clas=\"date\">16 May 2019,Thursday</span>\n",
       "</div>\n",
       "</div>\n",
       "<div class=\"news-card-content news-right-box\">\n",
       "<div itemprop=\"articleBody\">Facebook, Microsoft, Google, Twitter and Amazon at a meeting in Paris signed up for Christchurch Call, a commitment by governments and technology companies to eliminate terrorist and violent extremist content online. They also committed to nine-point plan to address abuse of technology to spread terrorist content. A March terror attack on two mosques in New Zealand's Christchurch claimed 51 lives.</div>\n",
       "<div class=\"news-card-author-time news-card-author-time-in-content\">\n",
       "<a href=\"/prev/en/news/facebook-amazon-back-pact-to-fight-extremist-content-online-1558017448917\"><span class=\"short\">short</span></a> by <span class=\"author\">Arundhati Rawat</span> / \n",
       "      <span class=\"time\" content=\"2019-05-16T14:37:28.000Z\" itemprop=\"dateModified\">08:07 pm</span> on <span class=\"date\">16 May</span>\n",
       "</div>\n",
       "</div>\n",
       "<div class=\"news-card-footer news-right-box\">\n",
       "<div class=\"read-more\">read more at <a class=\"source\" href=\"https://yourstory.com/2019/05/facebook-google-amazon-christchurch-call-hate-speech?utm_campaign=fullarticle&amp;utm_medium=referral&amp;utm_source=inshorts \" onclick=\"ga('send', {'hitType': 'event', 'eventCategory': 'ReadMore', 'eventAction': 'clicked', 'eventLabel': 'YourStory' });\" target=\"_blank\">YourStory</a></div>\n",
       "</div>\n",
       "</div>\n",
       "</div>\n",
       "<div class=\"\">\n",
       "<div class=\"news-card z-depth-1\" itemscope=\"\" itemtype=\"http://schema.org/NewsArticle\">\n",
       "<span content=\"\" itemid=\"https://inshorts.com/en/news/wikipedia-blocked-in-china-in-all-languages-confirms-owner-1558018675983\" itemprop=\"mainEntityOfPage\" itemscope=\"\" itemtype=\"https://schema.org/WebPage\"></span>\n",
       "<span itemprop=\"author\" itemscope=\"itemscope\" itemtype=\"https://schema.org/Person\">\n",
       "<span content=\"Arundhati Rawat\" itemprop=\"name\"></span>\n",
       "</span>\n",
       "<span content=\"Wikipedia blocked in China in all languages, confirms owner\" itemprop=\"description\"></span>\n",
       "<span itemprop=\"image\" itemscope=\"\" itemtype=\"https://schema.org/ImageObject\">\n",
       "<meta content=\"https://assets.inshorts.com/inshorts/images/v1/variants/jpg/m/2019/05_may/16_thu/img_1558008731751_448.jpg\" itemprop=\"url\"/>\n",
       "<meta content=\"864\" itemprop=\"width\"/>\n",
       "<meta content=\"483\" itemprop=\"height\"/>\n",
       "</span>\n",
       "<span itemprop=\"publisher\" itemscope=\"itemscope\" itemtype=\"https://schema.org/Organization\">\n",
       "<span content=\"https://inshorts.com/\" itemprop=\"url\"></span>\n",
       "<span content=\"Inshorts\" itemprop=\"name\"></span>\n",
       "<span itemprop=\"logo\" itemscope=\"\" itemtype=\"https://schema.org/ImageObject\">\n",
       "<span content=\"https://assets.inshorts.com/inshorts/images/v1/variants/jpg/m/2018/11_nov/21_wed/img_1542823931298_497.jpg\" itemprop=\"url\"></span>\n",
       "<meta content=\"400\" itemprop=\"width\"/>\n",
       "<meta content=\"60\" itemprop=\"height\"/>\n",
       "</span>\n",
       "</span>\n",
       "<div class=\"news-card-image\" style=\"background-image: url('https://assets.inshorts.com/inshorts/images/v1/variants/jpg/m/2019/05_may/16_thu/img_1558008731751_448.jpg?resize=400px:*')\">\n",
       "</div>\n",
       "<div class=\"news-card-title news-right-box\">\n",
       "<a class=\"clickable\" href=\"/en/news/wikipedia-blocked-in-china-in-all-languages-confirms-owner-1558018675983\" onclick=\"ga('send', {'hitType': 'event', 'eventCategory': 'TitleOfNews', 'eventAction': 'clicked', 'eventLabel': 'Wikipedia%20blocked%20in%20China%20in%20all%20languages%2C%20confirms%20owner)' });\" style=\"color:#44444d!important\">\n",
       "<span itemprop=\"headline\">Wikipedia blocked in China in all languages, confirms owner</span>\n",
       "</a>\n",
       "<div class=\"news-card-author-time news-card-author-time-in-title\">\n",
       "<a href=\"/prev/en/news/wikipedia-blocked-in-china-in-all-languages-confirms-owner-1558018675983\"><span class=\"short\">short</span></a> by <span class=\"author\">Arundhati Rawat</span> / \n",
       "      <span class=\"time\" content=\"2019-05-16T14:57:55.000Z\" itemprop=\"datePublished\">08:27 pm</span> on <span clas=\"date\">16 May 2019,Thursday</span>\n",
       "</div>\n",
       "</div>\n",
       "<div class=\"news-card-content news-right-box\">\n",
       "<div itemprop=\"articleBody\">The Wikimedia Foundation, that runs Wikipedia, has confirmed that the free community-edited encyclopaedia is currently blocked in China in all languages. The Chinese language version of the site was previously banned in the country, wherein reportedly about 10,000 sites are banned. In late April, Wikimedia had determined that Wikipedia was no longer accessible in China, Wikimedia said.</div>\n",
       "<div class=\"news-card-author-time news-card-author-time-in-content\">\n",
       "<a href=\"/prev/en/news/wikipedia-blocked-in-china-in-all-languages-confirms-owner-1558018675983\"><span class=\"short\">short</span></a> by <span class=\"author\">Arundhati Rawat</span> / \n",
       "      <span class=\"time\" content=\"2019-05-16T14:57:55.000Z\" itemprop=\"dateModified\">08:27 pm</span> on <span class=\"date\">16 May</span>\n",
       "</div>\n",
       "</div>\n",
       "<div class=\"news-card-footer news-right-box\">\n",
       "<div class=\"read-more\">read more at <a class=\"source\" href=\"https://in.reuters.com/article/us-china-censorship-wikipedia/online-encyclopedia-wikipedia-blocked-in-china-ahead-of-tiananmen-anniversary-idINKCN1SL121?utm_campaign=fullarticle&amp;utm_medium=referral&amp;utm_source=inshorts \" onclick=\"ga('send', {'hitType': 'event', 'eventCategory': 'ReadMore', 'eventAction': 'clicked', 'eventLabel': 'Reuters' });\" target=\"_blank\">Reuters</a></div>\n",
       "</div>\n",
       "</div>\n",
       "</div>\n",
       "<div id=\"div-gpt-ad-1536748319959-nwyjk5i0-1\" style=\"height:250px; width:900px; margin: auto; margin-bottom: 2%;\">\n",
       "<script>\n",
       "        googletag.cmd.push(function() { \n",
       "          //News banner for desktop\n",
       "          var slotIdWeb = 'div-gpt-ad-1536748319959-nwyjk5i0-1';\n",
       "          var slot = googletag.defineSlot('/142919096/inshorts_website_900x250', [900, 250], slotIdWeb)\n",
       "          .addService(googletag.pubads())\n",
       "          .setCollapseEmptyDiv(true,true);\n",
       "\n",
       "          googletag.display('div-gpt-ad-1536748319959-nwyjk5i0-1');\n",
       "          googletag.pubads().refresh([slot]);\n",
       "        });\n",
       "      </script>\n",
       "</div>\n",
       "<div class=\"\">\n",
       "<div class=\"news-card z-depth-1\" itemscope=\"\" itemtype=\"http://schema.org/NewsArticle\">\n",
       "<span content=\"\" itemid=\"https://inshorts.com/en/news/whatsapp-will-never-be-secure-telegram-ceo-pavel-durov-1558007571602\" itemprop=\"mainEntityOfPage\" itemscope=\"\" itemtype=\"https://schema.org/WebPage\"></span>\n",
       "<span itemprop=\"author\" itemscope=\"itemscope\" itemtype=\"https://schema.org/Person\">\n",
       "<span content=\"Kanishka Pandey\" itemprop=\"name\"></span>\n",
       "</span>\n",
       "<span content=\"WhatsApp will never be secure: Telegram CEO Pavel Durov\" itemprop=\"description\"></span>\n",
       "<span itemprop=\"image\" itemscope=\"\" itemtype=\"https://schema.org/ImageObject\">\n",
       "<meta content=\"https://assets.inshorts.com/inshorts/images/v1/variants/jpg/m/2019/05_may/16_thu/img_1558004266609_484.jpg\" itemprop=\"url\"/>\n",
       "<meta content=\"864\" itemprop=\"width\"/>\n",
       "<meta content=\"483\" itemprop=\"height\"/>\n",
       "</span>\n",
       "<span itemprop=\"publisher\" itemscope=\"itemscope\" itemtype=\"https://schema.org/Organization\">\n",
       "<span content=\"https://inshorts.com/\" itemprop=\"url\"></span>\n",
       "<span content=\"Inshorts\" itemprop=\"name\"></span>\n",
       "<span itemprop=\"logo\" itemscope=\"\" itemtype=\"https://schema.org/ImageObject\">\n",
       "<span content=\"https://assets.inshorts.com/inshorts/images/v1/variants/jpg/m/2018/11_nov/21_wed/img_1542823931298_497.jpg\" itemprop=\"url\"></span>\n",
       "<meta content=\"400\" itemprop=\"width\"/>\n",
       "<meta content=\"60\" itemprop=\"height\"/>\n",
       "</span>\n",
       "</span>\n",
       "<div class=\"news-card-image\" style=\"background-image: url('https://assets.inshorts.com/inshorts/images/v1/variants/jpg/m/2019/05_may/16_thu/img_1558004266609_484.jpg?resize=400px:*')\">\n",
       "</div>\n",
       "<div class=\"news-card-title news-right-box\">\n",
       "<a class=\"clickable\" href=\"/en/news/whatsapp-will-never-be-secure-telegram-ceo-pavel-durov-1558007571602\" onclick=\"ga('send', {'hitType': 'event', 'eventCategory': 'TitleOfNews', 'eventAction': 'clicked', 'eventLabel': 'WhatsApp%20will%20never%20be%20secure%3A%20Telegram%20CEO%20Pavel%20Durov)' });\" style=\"color:#44444d!important\">\n",
       "<span itemprop=\"headline\">WhatsApp will never be secure: Telegram CEO Pavel Durov</span>\n",
       "</a>\n",
       "<div class=\"news-card-author-time news-card-author-time-in-title\">\n",
       "<a href=\"/prev/en/news/whatsapp-will-never-be-secure-telegram-ceo-pavel-durov-1558007571602\"><span class=\"short\">short</span></a> by <span class=\"author\">Kanishka Pandey</span> / \n",
       "      <span class=\"time\" content=\"2019-05-16T11:52:51.000Z\" itemprop=\"datePublished\">05:22 pm</span> on <span clas=\"date\">16 May 2019,Thursday</span>\n",
       "</div>\n",
       "</div>\n",
       "<div class=\"news-card-content news-right-box\">\n",
       "<div itemprop=\"articleBody\">Telegram Co-founder and CEO Pavel Durov, in a blog post titled 'Why WhatsApp will never be secure', said the Facebook-owned platform isn't open-source, which makes it difficult for security researchers to check for existing backdoors. \"No wonder dictators seem to love WhatsApp,\" he said, adding, \"Its lack of security allows [criminals and authoritarian governments] to spy on their own people.\"</div>\n",
       "<div class=\"news-card-author-time news-card-author-time-in-content\">\n",
       "<a href=\"/prev/en/news/whatsapp-will-never-be-secure-telegram-ceo-pavel-durov-1558007571602\"><span class=\"short\">short</span></a> by <span class=\"author\">Kanishka Pandey</span> / \n",
       "      <span class=\"time\" content=\"2019-05-16T11:52:51.000Z\" itemprop=\"dateModified\">05:22 pm</span> on <span class=\"date\">16 May</span>\n",
       "</div>\n",
       "</div>\n",
       "<div class=\"news-card-footer news-right-box\">\n",
       "<div class=\"read-more\">read more at <a class=\"source\" href=\"https://www.hindustantimes.com/tech/whatsapp-will-never-be-secure-telegram-founder-slams-facebook-owned-app-over-security-lapse/story-BDsNXyLPcKVELuyO7XPQOP.html?utm_campaign=fullarticle&amp;utm_medium=referral&amp;utm_source=inshorts \" onclick=\"ga('send', {'hitType': 'event', 'eventCategory': 'ReadMore', 'eventAction': 'clicked', 'eventLabel': 'Hindustan%20Times' });\" target=\"_blank\">Hindustan Times</a></div>\n",
       "</div>\n",
       "</div>\n",
       "</div>\n",
       "<div class=\"\">\n",
       "<div class=\"news-card z-depth-1\" itemscope=\"\" itemtype=\"http://schema.org/NewsArticle\">\n",
       "<span content=\"\" itemid=\"https://inshorts.com/en/news/whatsapp-warns-clones-to-stop-bulk-text-services-in-india-1558061711462\" itemprop=\"mainEntityOfPage\" itemscope=\"\" itemtype=\"https://schema.org/WebPage\"></span>\n",
       "<span itemprop=\"author\" itemscope=\"itemscope\" itemtype=\"https://schema.org/Person\">\n",
       "<span content=\"Arundhati Rawat\" itemprop=\"name\"></span>\n",
       "</span>\n",
       "<span content=\"WhatsApp warns clones to stop bulk text services in India\" itemprop=\"description\"></span>\n",
       "<span itemprop=\"image\" itemscope=\"\" itemtype=\"https://schema.org/ImageObject\">\n",
       "<meta content=\"https://assets.inshorts.com/inshorts/images/v1/variants/jpg/m/2019/05_may/16_thu/img_1558024680893_528.jpg\" itemprop=\"url\"/>\n",
       "<meta content=\"864\" itemprop=\"width\"/>\n",
       "<meta content=\"483\" itemprop=\"height\"/>\n",
       "</span>\n",
       "<span itemprop=\"publisher\" itemscope=\"itemscope\" itemtype=\"https://schema.org/Organization\">\n",
       "<span content=\"https://inshorts.com/\" itemprop=\"url\"></span>\n",
       "<span content=\"Inshorts\" itemprop=\"name\"></span>\n",
       "<span itemprop=\"logo\" itemscope=\"\" itemtype=\"https://schema.org/ImageObject\">\n",
       "<span content=\"https://assets.inshorts.com/inshorts/images/v1/variants/jpg/m/2018/11_nov/21_wed/img_1542823931298_497.jpg\" itemprop=\"url\"></span>\n",
       "<meta content=\"400\" itemprop=\"width\"/>\n",
       "<meta content=\"60\" itemprop=\"height\"/>\n",
       "</span>\n",
       "</span>\n",
       "<div class=\"news-card-image\" style=\"background-image: url('https://assets.inshorts.com/inshorts/images/v1/variants/jpg/m/2019/05_may/16_thu/img_1558024680893_528.jpg?resize=400px:*')\">\n",
       "</div>\n",
       "<div class=\"news-card-title news-right-box\">\n",
       "<a class=\"clickable\" href=\"/en/news/whatsapp-warns-clones-to-stop-bulk-text-services-in-india-1558061711462\" onclick=\"ga('send', {'hitType': 'event', 'eventCategory': 'TitleOfNews', 'eventAction': 'clicked', 'eventLabel': 'WhatsApp%20warns%20clones%20to%20stop%20bulk%20text%20services%20in%20India)' });\" style=\"color:#44444d!important\">\n",
       "<span itemprop=\"headline\">WhatsApp warns clones to stop bulk text services in India</span>\n",
       "</a>\n",
       "<div class=\"news-card-author-time news-card-author-time-in-title\">\n",
       "<a href=\"/prev/en/news/whatsapp-warns-clones-to-stop-bulk-text-services-in-india-1558061711462\"><span class=\"short\">short</span></a> by <span class=\"author\">Arundhati Rawat</span> / \n",
       "      <span class=\"time\" content=\"2019-05-17T02:55:11.000Z\" itemprop=\"datePublished\">08:25 am</span> on <span clas=\"date\">17 May 2019,Friday</span>\n",
       "</div>\n",
       "</div>\n",
       "<div class=\"news-card-content news-right-box\">\n",
       "<div itemprop=\"articleBody\">WhatsApp has warned Indian firms which claimed they can help send bulk messages to stop operations. Reuters had reported apps like 'GBWhatsApp' and 'JTWhatsApp' were being used to bypass WhatsApp forwarding restrictions amid ongoing Lok Sabha elections. \"We ban approximately two million accounts and sent cease and desist letters to companies claiming to offer such services,\" said WhatsApp.</div>\n",
       "<div class=\"news-card-author-time news-card-author-time-in-content\">\n",
       "<a href=\"/prev/en/news/whatsapp-warns-clones-to-stop-bulk-text-services-in-india-1558061711462\"><span class=\"short\">short</span></a> by <span class=\"author\">Arundhati Rawat</span> / \n",
       "      <span class=\"time\" content=\"2019-05-17T02:55:11.000Z\" itemprop=\"dateModified\">08:25 am</span> on <span class=\"date\">17 May</span>\n",
       "</div>\n",
       "</div>\n",
       "<div class=\"news-card-footer news-right-box\">\n",
       "<div class=\"read-more\">read more at <a class=\"source\" href=\"https://www.timesnownews.com/technology-science/article/whatsapp-warns-clones-to-cease-bogus-operations-in-india/420171?utm_campaign=fullarticle&amp;utm_medium=referral&amp;utm_source=inshorts \" onclick=\"ga('send', {'hitType': 'event', 'eventCategory': 'ReadMore', 'eventAction': 'clicked', 'eventLabel': 'Times%20Now' });\" target=\"_blank\">Times Now</a></div>\n",
       "</div>\n",
       "</div>\n",
       "</div>\n",
       "<div class=\"\">\n",
       "<div class=\"news-card z-depth-1\" itemscope=\"\" itemtype=\"http://schema.org/NewsArticle\">\n",
       "<span content=\"\" itemid=\"https://inshorts.com/en/news/instagram-to-shut-down-its-standalone-direct-messaging-app-1558022422387\" itemprop=\"mainEntityOfPage\" itemscope=\"\" itemtype=\"https://schema.org/WebPage\"></span>\n",
       "<span itemprop=\"author\" itemscope=\"itemscope\" itemtype=\"https://schema.org/Person\">\n",
       "<span content=\"Arundhati Rawat\" itemprop=\"name\"></span>\n",
       "</span>\n",
       "<span content=\"Instagram to shut down its standalone Direct messaging app\" itemprop=\"description\"></span>\n",
       "<span itemprop=\"image\" itemscope=\"\" itemtype=\"https://schema.org/ImageObject\">\n",
       "<meta content=\"https://assets.inshorts.com/inshorts/images/v1/variants/jpg/m/2019/05_may/16_thu/img_1558019037811_227.jpg\" itemprop=\"url\"/>\n",
       "<meta content=\"864\" itemprop=\"width\"/>\n",
       "<meta content=\"483\" itemprop=\"height\"/>\n",
       "</span>\n",
       "<span itemprop=\"publisher\" itemscope=\"itemscope\" itemtype=\"https://schema.org/Organization\">\n",
       "<span content=\"https://inshorts.com/\" itemprop=\"url\"></span>\n",
       "<span content=\"Inshorts\" itemprop=\"name\"></span>\n",
       "<span itemprop=\"logo\" itemscope=\"\" itemtype=\"https://schema.org/ImageObject\">\n",
       "<span content=\"https://assets.inshorts.com/inshorts/images/v1/variants/jpg/m/2018/11_nov/21_wed/img_1542823931298_497.jpg\" itemprop=\"url\"></span>\n",
       "<meta content=\"400\" itemprop=\"width\"/>\n",
       "<meta content=\"60\" itemprop=\"height\"/>\n",
       "</span>\n",
       "</span>\n",
       "<div class=\"news-card-image\" style=\"background-image: url('https://assets.inshorts.com/inshorts/images/v1/variants/jpg/m/2019/05_may/16_thu/img_1558019037811_227.jpg?resize=400px:*')\">\n",
       "</div>\n",
       "<div class=\"news-card-title news-right-box\">\n",
       "<a class=\"clickable\" href=\"/en/news/instagram-to-shut-down-its-standalone-direct-messaging-app-1558022422387\" onclick=\"ga('send', {'hitType': 'event', 'eventCategory': 'TitleOfNews', 'eventAction': 'clicked', 'eventLabel': 'Instagram%20to%20shut%20down%20its%20standalone%20Direct%20messaging%20app)' });\" style=\"color:#44444d!important\">\n",
       "<span itemprop=\"headline\">Instagram to shut down its standalone Direct messaging app</span>\n",
       "</a>\n",
       "<div class=\"news-card-author-time news-card-author-time-in-title\">\n",
       "<a href=\"/prev/en/news/instagram-to-shut-down-its-standalone-direct-messaging-app-1558022422387\"><span class=\"short\">short</span></a> by <span class=\"author\">Arundhati Rawat</span> / \n",
       "      <span class=\"time\" content=\"2019-05-16T16:00:22.000Z\" itemprop=\"datePublished\">09:30 pm</span> on <span clas=\"date\">16 May 2019,Thursday</span>\n",
       "</div>\n",
       "</div>\n",
       "<div class=\"news-card-content news-right-box\">\n",
       "<div itemprop=\"articleBody\">Instagram has confirmed it is \"rolling back the test of the standalone Direct (messaging) app\". User conversations will automatically move to the Instagram app, as per an app notification shared on Twitter by social media consultant Matt Navarra. The notification also states that Instagram will end support for Direct, which first appeared in 2017, in the coming month.</div>\n",
       "<div class=\"news-card-author-time news-card-author-time-in-content\">\n",
       "<a href=\"/prev/en/news/instagram-to-shut-down-its-standalone-direct-messaging-app-1558022422387\"><span class=\"short\">short</span></a> by <span class=\"author\">Arundhati Rawat</span> / \n",
       "      <span class=\"time\" content=\"2019-05-16T16:00:22.000Z\" itemprop=\"dateModified\">09:30 pm</span> on <span class=\"date\">16 May</span>\n",
       "</div>\n",
       "</div>\n",
       "<div class=\"news-card-footer news-right-box\">\n",
       "<div class=\"read-more\">read more at <a class=\"source\" href=\"https://techcrunch.com/2019/05/16/rip-instagram-direct-app/?utm_campaign=fullarticle&amp;utm_medium=referral&amp;utm_source=inshorts \" onclick=\"ga('send', {'hitType': 'event', 'eventCategory': 'ReadMore', 'eventAction': 'clicked', 'eventLabel': 'TechCrunch' });\" target=\"_blank\">TechCrunch</a></div>\n",
       "</div>\n",
       "</div>\n",
       "</div>\n",
       "</div>\n",
       "<div class=\"load-more-wrapper\">\n",
       "<div class=\"clickable unselectable load-more z-depth-1 hoverable\" id=\"load-more-btn\" onclick=\"loadMoreNews()\">Load More</div>\n",
       "<div class=\"clickable unselectable load-more\" id=\"load-more-gif\" style=\"display:none;\"><img id=\"load-more-gif\" src=\"https://assets.inshorts.com/website_assets/images/ajax-loader.gif\"/></div>\n",
       "</div>\n",
       "<div class=\"my-red app-download-pane hide-on-large-only\">\n",
       "<div class=\"container\">\n",
       "<div class=\"row\">\n",
       "<div class=\"col s12 center\" style=\"color:white;font-weight: 300;font-size:14px;margin-top: 28px;margin-bottom: 18px;\">\n",
       "              For the best experience use <a href=\"/mobile\" style=\"color:white;appearance: none;font-weight: 500;\" target=\"_blank\">inshorts</a> app on your smartphone\n",
       "            </div>\n",
       "<div class=\"col offset-s2 s8\">\n",
       "<a href=\"https://play.google.com/store/apps/details?id=com.nis.app&amp;referrer=utm_source%3DNews%2520In%2520Shorts%2520Website\" onclick=\"ga('send', {'hitType': 'event', 'eventCategory': 'DownloadApp', 'eventAction': 'clicked', 'eventLabel': 'RedirectedToGooglePlayStore' });\" target=\"_blank\"><img class=\"col l4 m8 s12\" src=\"https://assets.inshorts.com/website_assets/images/playstore.png\"/></a>\n",
       "</div>\n",
       "</div>\n",
       "</div>\n",
       "</div>\n",
       "</div>\n",
       "</div>\n",
       "<!-- BODY END -->\n",
       "<footer class=\"page-footer teals\">\n",
       "<div class=\"container\">\n",
       "<div class=\"row\" style=\"margin-bottom: 0px; padding-bottom: 5px;\">\n",
       "<div class=\"col offset-l3 l3 m4 s12 right social-admin\">\n",
       "<div class=\"social-share\"><a href=\"https://www.facebook.com/inshortsapp\" onclick=\"ga('send', {'hitType': 'event', 'eventCategory': 'LinkToFaceBookPage', 'eventAction': 'clicked', 'eventLabel': 'RedirectedToFaceBook' });\" target=\"_blank\"><img src=\"https://assets.inshorts.com/website_assets/images/facebook.png\"/></a></div>\n",
       "<div class=\"social-share\"><a href=\"https://twitter.com/inshorts\" onclick=\"ga('send', {'hitType': 'event', 'eventCategory': 'LinkToTwitterPage', 'eventAction': 'clicked', 'eventLabel': 'RedirectedToTwitter' });\" target=\"_blank\"><img src=\"https://assets.inshorts.com/website_assets/images/twitter.png\"/></a></div>\n",
       "<div class=\"social-share\"><a href=\"https://www.linkedin.com/company/news-in-shorts\" onclick=\"ga('send', {'hitType': 'event', 'eventCategory': 'LinkToLinkedinPage', 'eventAction': 'clicked', 'eventLabel': 'RedirectedToLinkedin' });\" target=\"_blank\"><img src=\"https://assets.inshorts.com/website_assets/images/linkedin.png\"/></a></div>\n",
       "</div>\n",
       "<div class=\"col m4 l3 s6 footer-left-pane\">\n",
       "<div class=\"right\"><img height=\"48px\" src=\"https://assets.inshorts.com/website_assets/images/logo_footer.png\" width=\"160px\"/></div>\n",
       "<div class=\"copy-text\">\n",
       "<span><span style=\"color:#cfcfcf;font-family: 'Conv_ClanPro-Bold'\">inshorts</span> medialabs pvt. ltd.</span><br/>\n",
       "          ©<span style=\"font-size:12px\">COPYRIGHT 2019</span>\n",
       "</div>\n",
       "</div>\n",
       "<div class=\"col m4 l3 s6 footer-right-pane\">\n",
       "<div class=\"left clickable\" id=\"contactUsBtn\" style=\"margin-top: -5px;\"><img height=\"48px\" src=\"https://assets.inshorts.com/website_assets/images/contact_icon.png\" width=\"132px\"/></div>\n",
       "<div class=\"terms-text\">\n",
       "<a class=\"tnc\" href=\"/tnc\" onclick=\"ga('send', {'hitType': 'event', 'eventCategory': 'LinkToTermsAndConditionsAndPP', 'eventAction': 'clicked', 'eventLabel': 'RedirectedToTermsAndConditions' });\" style=\"color: #fff;\" target=\"_blank\"><span>Terms &amp; conditions</span><br/>\n",
       "<span>Privacy Policies</span>\n",
       "</a>\n",
       "<br/>\n",
       "<a class=\"tnc\" href=\"/editorial_policy\" onclick=\"ga('send', {'hitType': 'event', 'eventCategory': 'LinkToSitemap', 'eventAction': 'clicked', 'eventLabel': 'RedirectedToSitemap' });\" style=\"color: #fff;\" target=\"_blank\">\n",
       "<span>Editorial Policy</span>\n",
       "</a>\n",
       "</div>\n",
       "</div>\n",
       "</div>\n",
       "</div>\n",
       "<div class=\"modal_contact row\" id=\"contactUsModal\">\n",
       "<!-- Modal content -->\n",
       "<div class=\"modal-content col l4 m4 s8 offset-s2 offset-l4 offset-m4\">\n",
       "<span class=\"close\">×</span>\n",
       "<div class=\"contact\">\n",
       "<a href=\"mailto:careers@inshorts.com?subject=Inshorts%20website%20contact%20form\" target=\"_blank\">\n",
       "<button id=\"myBtn\">Contact Hiring Team</button>\n",
       "</a>\n",
       "</div>\n",
       "<div class=\"contact\">\n",
       "<a href=\"mailto:Admin@inshorts.com?subject=Inshorts%20website%20contact%20form\" target=\"_blank\">\n",
       "<button id=\"myBtn\">Contact Admin Team</button>\n",
       "</a>\n",
       "</div>\n",
       "<div class=\"contact\">\n",
       "<a href=\"mailto:Marketing@inshorts.com?subject=Inshorts%20website%20contact%20form\" target=\"_blank\">\n",
       "<button id=\"myBtn\">Contact Marketing Team</button>\n",
       "</a>\n",
       "</div>\n",
       "<div class=\"contact\">\n",
       "<a href=\"mailto:Editorial@inshorts.com?subject=Inshorts%20website%20contact%20form\" target=\"_blank\">\n",
       "<button id=\"myBtn\">Contact Editorial Team</button>\n",
       "</a>\n",
       "</div>\n",
       "<div class=\"contact\">\n",
       "<a href=\"mailto:Sales@inshorts.com?subject=Inshorts%20website%20contact%20form\" target=\"_blank\">\n",
       "<button id=\"myBtn\">Contact Sales Team</button>\n",
       "</a>\n",
       "</div>\n",
       "<div class=\"contact\">\n",
       "<a href=\"mailto:Contact@inshorts.com?subject=Inshorts%20website%20contact%20form\" target=\"_blank\">\n",
       "<button id=\"myBtn\">Contact For Any Other Query</button>\n",
       "</a>\n",
       "</div>\n",
       "</div>\n",
       "</div>\n",
       "</footer>\n",
       "<script>\n",
       "var modal = document.getElementById('contactUsModal');\n",
       "\n",
       "// Get the button that opens the modal\n",
       "var btn = document.getElementById(\"contactUsBtn\");\n",
       "\n",
       "// Get the <span> element that closes the modal\n",
       "var span = document.getElementsByClassName(\"close\")[0];\n",
       "\n",
       "// When the user clicks on the button, open the modal \n",
       "btn.onclick = function() {\n",
       "    modal.style.display = \"block\";\n",
       "}\n",
       "\n",
       "// When the user clicks on <span> (x), close the modal\n",
       "span.onclick = function() {\n",
       "    modal.style.display = \"none\";\n",
       "}\n",
       "\n",
       "// When the user clicks anywhere outside of the modal, close it\n",
       "window.onclick = function(event) {\n",
       "    if (event.target == modal) {\n",
       "        modal.style.display = \"none\";\n",
       "    }\n",
       "}\n",
       "</script>\n",
       "<!-- Eliminate render-blocking JavaScript and CSS in above-the-fold content -->\n",
       "<script src=\"https://ajax.googleapis.com/ajax/libs/jquery/1.8/jquery.min.js\"></script>\n",
       "<script src=\"https://cdnjs.cloudflare.com/ajax/libs/materialize/0.97.0/js/materialize.min.js\"></script>\n",
       "<script src=\"/dist/scripts/index.js\" type=\"text/javascript\"></script>\n",
       "<script src=\"/dist/scripts/read.js\" type=\"text/javascript\"></script>\n",
       "<script src=\"/dist/scripts/jquery.scrolldepth.min.js\"></script>\n",
       "<script type=\"text/javascript\">\n",
       "\n",
       "    var min_news_id = \"tvxp9a9t-1\";\n",
       "    function loadMoreNews(){\n",
       "      $(\"#load-more-btn\").hide();\n",
       "      $(\"#load-more-gif\").show();\n",
       "      $.post(\"/en/ajax/more_news\",{'category':'technology','news_offset':min_news_id},function(data){\n",
       "          data = JSON.parse(data);\n",
       "          min_news_id = data.min_news_id||min_news_id;\n",
       "          $(\".card-stack\").append(data.html);\n",
       "      })\n",
       "      .fail(function(){alert(\"Error : unable to load more news\");})\n",
       "      .always(function(){$(\"#load-more-btn\").show();$(\"#load-more-gif\").hide();});\n",
       "    }\n",
       "    jQuery.scrollDepth();\n",
       "  </script>\n",
       "<!-- Eliminate render-blocking JavaScript and CSS in above-the-fold content -->\n",
       "</body>\n",
       "</html>"
      ]
     },
     "execution_count": 9,
     "metadata": {},
     "output_type": "execute_result"
    }
   ],
   "source": [
    "soup"
   ]
  },
  {
   "cell_type": "code",
   "execution_count": 10,
   "metadata": {
    "colab": {},
    "colab_type": "code",
    "id": "qcmvcnDfwySF"
   },
   "outputs": [],
   "source": [
    "news_articles = [{'news_headline': headline.find('span', attrs={'itemprop': 'headline'}).string,\n",
    "                  'news_article': article.find('div', attrs={'itemprop': 'articleBody'}).string,\n",
    "                  'news_category': news_category} \n",
    "                 for headline, article in zip(soup.find_all('div', \n",
    "                                                            class_ = ['news-card-title news-right-box']), \n",
    "                                              soup.find_all('div', class_=['news-card-content news-right-box']))]"
   ]
  },
  {
   "cell_type": "code",
   "execution_count": 11,
   "metadata": {
    "colab": {},
    "colab_type": "code",
    "id": "mkrtuxs2wySJ",
    "outputId": "ec1c35d4-e1f0-4749-8ff8-d922c3105b75"
   },
   "outputs": [
    {
     "data": {
      "text/plain": [
       "[{'news_headline': 'OnePlus launches new brand campaign featuring Robert Downey Jr.',\n",
       "  'news_article': 'OnePlus has unveiled its latest brand campaign featuring Robert Downey Jr. Commenting on the association, Robert said, \"It\\'s cool to see a young brand disrupting the tech landscape...In checking out the upcoming OnePlus 7 Pro the attention to detail coupled with the innovative design was truly impressive.\" \"Nobody could represent what we stand for better,\" added OnePlus founder, Pete Lau.',\n",
       "  'news_category': 'technology'},\n",
       " {'news_headline': 'OnePlus 7 Pro goes on sale in India',\n",
       "  'news_article': 'A few days after its official launch, OnePlus 7 Pro is available for sale at a starting price of ₹48,999 on Amazon India, OnePlus online, offline and partner stores. Buyers can avail up to ₹2,000 cashback on purchase using SBI debit and credit cards, along with benefits from Jio worth ₹9,300, and buyback value of 70% on exchange through Servify.',\n",
       "  'news_category': 'technology'},\n",
       " {'news_headline': \"Microsoft unveils world's first whisky developed with AI\",\n",
       "  'news_article': 'Microsoft has unveiled world\\'s first whisky developed with artificial intelligence (AI). The software giant worked with Finnish technology firm Fourkind and Sweden-based distillery Mackmyra. \"With [Mackmyra\\'s] dataset, the AI can generate over 70 million recipes that it predicts will be popular and of the highest quality based on what kind of cask types there are in warehouse,\" Microsoft said.',\n",
       "  'news_category': 'technology'},\n",
       " {'news_headline': '₹1,000 tech bypasses rules, sends 1L WhatsApp texts a day: Reuters',\n",
       "  'news_article': 'Indian digital marketers are using ₹1,000 software tools that allow to bypass WhatsApp forwarding restrictions amid the ongoing elections, Reuters reported. New Delhi-based Rohitash Repswal said he sent up to 1,00,000 messages a day for two politicians. Repswal added he charges ₹1.5 lakh a month for sending 3 lakh messages. We work to ban users of such software, WhatsApp responded.',\n",
       "  'news_category': 'technology'},\n",
       " {'news_headline': 'EC orders Twitter to remove all tweets on Lok Sabha exit polls',\n",
       "  'news_article': 'Ahead of the last phase of the 2019 Lok Sabha elections on May 19, the Election Commission has ordered Twitter India to remove all the tweets related to exit polls. This comes amid leaks of exit polls being shared on the platform. The seven-phase election began from April 11 and the results are to be announced on May 23.',\n",
       "  'news_category': 'technology'},\n",
       " {'news_headline': 'Laptop running 6 malware that caused $95bn loss being sold as art',\n",
       "  'news_article': 'A website is conducting live bidding for a laptop running six malware including ILOVEYOU and WannaCry that have caused financial damages totalling $95 billion. The website stated the laptop\\'s internet functions and ports will be disabled before shipping as it\\'s intended to be sold as \"art or for academic reasons\". The minimum bid currently is $615,301 (over ₹4.31 crore).',\n",
       "  'news_category': 'technology'},\n",
       " {'news_headline': \"Warren Buffett's Berkshire reveals $861 million Amazon stake\",\n",
       "  'news_article': 'Warren Buffett\\'s Berkshire Hathaway on Wednesday revealed it owned $861 million of Amazon shares as of March. Earlier this month, Buffett said the Amazon investment was made by one of his portfolio managers, Todd Combs or Ted Weschler, and that he had been \"an idiot\" for not investing in Amazon himself. The Amazon stake would now be worth $904 million.',\n",
       "  'news_category': 'technology'},\n",
       " {'news_headline': 'Faulty Pixel smartphone owners to get up to $500 from Google',\n",
       "  'news_article': 'As part of $7.25-million lawsuit settlement, Google will pay up to $500 to the owners of Pixel and Pixel XL devices with faulty microphones. Owners who got another defective smartphone in replacement of a defective Pixel could get $500, while owners of a single defective device could get $350. Users who experienced no issues could also get up to $20.',\n",
       "  'news_category': 'technology'},\n",
       " {'news_headline': 'Intel says nearly all CPUs made since 2011 exposed to hacking',\n",
       "  'news_article': 'Intel has disclosed a new set of security flaws existing in almost all of its processors made since 2011, which could let hackers read nearly all data flowing through them. While Intel classified the threat as \"medium\", security researchers said the vulnerability is much more serious. Intel said fixing it in existing chips could slow them by up to 19%.',\n",
       "  'news_category': 'technology'},\n",
       " {'news_headline': 'Facebook interns highest paid in US at ₹5.6 lakh a month: Glassdoor',\n",
       "  'news_article': 'Facebook is the highest stipend paying company to interns in the US in 2019, with a median monthly pay of $8,000 (₹5.6 lakh), Glassdoor survey has found. Facebook is followed by Amazon and Salesforce, with median monthly pays of $7,725 (₹5.41 lakh) and $7,667 (₹5.37 lakh) respectively. Google is fourth-highest stipend paying company in the US at $7,500 (₹5.25 lakh).',\n",
       "  'news_category': 'technology'},\n",
       " {'news_headline': 'Amazon sells shoes, doormats with images of Hindu Gods; criticised',\n",
       "  'news_article': \"Amazon faced a social media backlash in India on Thursday after toilet seat covers, shoes, doormats, yoga mats and other items with images of Hindu Gods were spotted on its US website. In 2017, Amazon removed doormats resembling India's flag from its Canadian site after External Affairs Minister Sushma Swaraj threatened to rescind visas of the US company's employees.\",\n",
       "  'news_category': 'technology'},\n",
       " {'news_headline': \"German startup shows world's 1st electric 5-seater air taxi\",\n",
       "  'news_article': \"Munich-based startup Lilium unveiled what it claims is the world's first all-electric, jet-powered, five-seater air taxi prototype after successfully completing the full-scale prototype's maiden test earlier this month. The air taxi will have a 300 km range with a top speed of 300 kmph. Lilium intends to be operational in cities globally by 2025, providing an app-based air taxi service.\",\n",
       "  'news_category': 'technology'},\n",
       " {'news_headline': 'Apple to not debut its own 5G chip before 2025: Reports',\n",
       "  'news_article': \"Apple's plans to introduce its own 5G chips could take up to six years, as per reports. Apple has reportedly said, in interviews with prospective hires for the team developing the chips, that it expects the 5G chips to be developed by 2025. Apple recently ended the two-year-long patent dispute with Qualcomm, gaining access to the chipmaking giant's chips.\",\n",
       "  'news_category': 'technology'},\n",
       " {'news_headline': \"Huawei willing to sign 'no-spy' pacts with govts: Chairman\",\n",
       "  'news_article': \"Huawei Chairman Liang Hua has said the company is willing to sign 'no-spy' agreements with governments, including Britain. The UK is deciding the extent to which it will allow Huawei, the world's biggest telecoms equipment supplier, to participate in building its 5G networks. This comes amid US pressure on European countries to boycott the Chinese technology giant over espionage concerns.\",\n",
       "  'news_category': 'technology'},\n",
       " {'news_headline': '2 teams jointly win $10 million in Elon Musk-backed XPRIZE',\n",
       "  'news_article': \"Two teams have jointly won $10-million prize of Global Learning XPRIZE, which counts Elon Musk among supporters and benefactors. Kitkit School, from the US and South Korea and Onebillion from the UK and Kenya, both developed tablet apps to aid student learning. Bengaluru's Chimple was among five finalists in 2017, which received $1 million and tested their technology in Tanzania.\",\n",
       "  'news_category': 'technology'},\n",
       " {'news_headline': 'One of 1st Apple PCs built by Steve Jobs to be auctioned',\n",
       "  'news_article': 'One of only 200 units of Apple\\'s first-ever personal computers, Apple-1, designed and built by Apple Co-founders Steve Wozniak and Steve Jobs, is being auctioned online from May 16-23. \"[We\\'re offering] a rare example of the first personal computer sold with a fully assembled motherboard,\" global auction house Christie\\'s said. It\\'s reportedly estimated to fetch up to around ₹4.5 crore.',\n",
       "  'news_category': 'technology'},\n",
       " {'news_headline': \"Brought me to tears: Detained Huawei CFO on staff's support\",\n",
       "  'news_article': 'Huawei CFO Meng Wanzhou in a letter to the Chinese company\\'s 1,88,000 employees said she was brought to tears after seeing them staying up all night to follow her case in distant time zones, adding it has filled her \"with power\". Meng has been detained in Canada since December, where she is fighting US extradition for allegedly violating Iran sanctions.',\n",
       "  'news_category': 'technology'},\n",
       " {'news_headline': 'iPhone price may rise 3% over US-China trade war: Report',\n",
       "  'news_article': \"Tariffs on the iPhone's China-made batteries and other components would increase its manufacturing cost by 2% to 3%, a report said, adding Apple would need to increase iPhone prices by a similar amount to make the same profit. The US raised tariffs on $200 billion worth of Chinese products and China retaliated with tariffs on $60 billion of US goods.\",\n",
       "  'news_category': 'technology'},\n",
       " {'news_headline': 'Flipkart in talks with Nokia, Motorola to make TVs: Report',\n",
       "  'news_article': \"Flipkart is in talks with international original equipment manufacturers to make electronics for sale on its platform, as per reports. It's reportedly in advanced-stage talks with Nokia and Motorola, which plan to introduce TV models in India by next year. Flipkart also aims to collaborate with Sansui to launch smaller home appliances such as juicers, grinders and other kitchen appliances. \",\n",
       "  'news_category': 'technology'},\n",
       " {'news_headline': \"Google Translatotron can translate speech in speaker's voice\",\n",
       "  'news_article': \"Google is developing a new translation model called Translatotron that can directly convert speech from one language into another while maintaining a speaker's voice. It skips the usual step of translating speech to text and back to speech. Translatotron uses a sequence-to-sequence network model that processes voice input as a spectrogram and generates a new spectrogram in the target language.\",\n",
       "  'news_category': 'technology'},\n",
       " {'news_headline': 'Facebook, Amazon back pact to fight extremist content online',\n",
       "  'news_article': \"Facebook, Microsoft, Google, Twitter and Amazon at a meeting in Paris signed up for Christchurch Call, a commitment by governments and technology companies to eliminate terrorist and violent extremist content online. They also committed to nine-point plan to address abuse of technology to spread terrorist content. A March terror attack on two mosques in New Zealand's Christchurch claimed 51 lives.\",\n",
       "  'news_category': 'technology'},\n",
       " {'news_headline': 'Wikipedia blocked in China in all languages, confirms owner',\n",
       "  'news_article': 'The Wikimedia Foundation, that runs Wikipedia, has confirmed that the free community-edited encyclopaedia is currently blocked in China in all languages. The Chinese language version of the site was previously banned in the country, wherein reportedly about 10,000 sites are banned. In late April, Wikimedia had determined that Wikipedia was no longer accessible in China, Wikimedia said.',\n",
       "  'news_category': 'technology'},\n",
       " {'news_headline': 'WhatsApp will never be secure: Telegram CEO Pavel Durov',\n",
       "  'news_article': 'Telegram Co-founder and CEO Pavel Durov, in a blog post titled \\'Why WhatsApp will never be secure\\', said the Facebook-owned platform isn\\'t open-source, which makes it difficult for security researchers to check for existing backdoors. \"No wonder dictators seem to love WhatsApp,\" he said, adding, \"Its lack of security allows [criminals and authoritarian governments] to spy on their own people.\"',\n",
       "  'news_category': 'technology'},\n",
       " {'news_headline': 'WhatsApp warns clones to stop bulk text services in India',\n",
       "  'news_article': 'WhatsApp has warned Indian firms which claimed they can help send bulk messages to stop operations. Reuters had reported apps like \\'GBWhatsApp\\' and \\'JTWhatsApp\\' were being used to bypass WhatsApp forwarding restrictions amid ongoing Lok Sabha elections. \"We ban approximately two million accounts and sent cease and desist letters to companies claiming to offer such services,\" said WhatsApp.',\n",
       "  'news_category': 'technology'},\n",
       " {'news_headline': 'Instagram to shut down its standalone Direct messaging app',\n",
       "  'news_article': 'Instagram has confirmed it is \"rolling back the test of the standalone Direct (messaging) app\". User conversations will automatically move to the Instagram app, as per an app notification shared on Twitter by social media consultant Matt Navarra. The notification also states that Instagram will end support for Direct, which first appeared in 2017, in the coming month.',\n",
       "  'news_category': 'technology'}]"
      ]
     },
     "execution_count": 11,
     "metadata": {},
     "output_type": "execute_result"
    }
   ],
   "source": [
    "news_data.extend(news_articles)\n",
    "news_data"
   ]
  },
  {
   "cell_type": "code",
   "execution_count": 12,
   "metadata": {
    "colab": {},
    "colab_type": "code",
    "id": "GjsAGXcEwySN"
   },
   "outputs": [],
   "source": [
    "df = pd.DataFrame(news_data)"
   ]
  },
  {
   "cell_type": "code",
   "execution_count": 13,
   "metadata": {
    "colab": {},
    "colab_type": "code",
    "id": "cKWdj63zwySQ"
   },
   "outputs": [],
   "source": [
    "df = df[['news_headline', 'news_article', 'news_category']]"
   ]
  },
  {
   "cell_type": "code",
   "execution_count": 14,
   "metadata": {
    "colab": {},
    "colab_type": "code",
    "id": "QPebjVhOwyST",
    "outputId": "0d19e464-583c-40d5-c7b1-257a103989e3"
   },
   "outputs": [
    {
     "data": {
      "text/html": [
       "<div>\n",
       "<style scoped>\n",
       "    .dataframe tbody tr th:only-of-type {\n",
       "        vertical-align: middle;\n",
       "    }\n",
       "\n",
       "    .dataframe tbody tr th {\n",
       "        vertical-align: top;\n",
       "    }\n",
       "\n",
       "    .dataframe thead th {\n",
       "        text-align: right;\n",
       "    }\n",
       "</style>\n",
       "<table border=\"1\" class=\"dataframe\">\n",
       "  <thead>\n",
       "    <tr style=\"text-align: right;\">\n",
       "      <th></th>\n",
       "      <th>news_headline</th>\n",
       "      <th>news_article</th>\n",
       "      <th>news_category</th>\n",
       "    </tr>\n",
       "  </thead>\n",
       "  <tbody>\n",
       "    <tr>\n",
       "      <th>0</th>\n",
       "      <td>OnePlus launches new brand campaign featuring ...</td>\n",
       "      <td>OnePlus has unveiled its latest brand campaign...</td>\n",
       "      <td>technology</td>\n",
       "    </tr>\n",
       "    <tr>\n",
       "      <th>1</th>\n",
       "      <td>OnePlus 7 Pro goes on sale in India</td>\n",
       "      <td>A few days after its official launch, OnePlus ...</td>\n",
       "      <td>technology</td>\n",
       "    </tr>\n",
       "    <tr>\n",
       "      <th>2</th>\n",
       "      <td>Microsoft unveils world's first whisky develop...</td>\n",
       "      <td>Microsoft has unveiled world's first whisky de...</td>\n",
       "      <td>technology</td>\n",
       "    </tr>\n",
       "  </tbody>\n",
       "</table>\n",
       "</div>"
      ],
      "text/plain": [
       "                                       news_headline  \\\n",
       "0  OnePlus launches new brand campaign featuring ...   \n",
       "1                OnePlus 7 Pro goes on sale in India   \n",
       "2  Microsoft unveils world's first whisky develop...   \n",
       "\n",
       "                                        news_article news_category  \n",
       "0  OnePlus has unveiled its latest brand campaign...    technology  \n",
       "1  A few days after its official launch, OnePlus ...    technology  \n",
       "2  Microsoft has unveiled world's first whisky de...    technology  "
      ]
     },
     "execution_count": 14,
     "metadata": {},
     "output_type": "execute_result"
    }
   ],
   "source": [
    "df.head(3)"
   ]
  },
  {
   "cell_type": "markdown",
   "metadata": {
    "colab_type": "text",
    "id": "ZPCzgz2ZwySW"
   },
   "source": [
    "# Prepare user defined function to extract data from inshorts.com"
   ]
  },
  {
   "cell_type": "code",
   "execution_count": 15,
   "metadata": {
    "colab": {},
    "colab_type": "code",
    "id": "XfwI4DfwwySX"
   },
   "outputs": [],
   "source": [
    "urls_list = ['https://inshorts.com/en/read/technology',\n",
    "             'https://inshorts.com/en/read/sports',\n",
    "             'https://inshorts.com/en/read/world']"
   ]
  },
  {
   "cell_type": "code",
   "execution_count": 16,
   "metadata": {
    "colab": {},
    "colab_type": "code",
    "id": "jitD63HQwySa"
   },
   "outputs": [],
   "source": [
    "def datasetPrepare(urls_list):\n",
    "    news_data = []\n",
    "    for url in urls_list:\n",
    "        news_category = url.split('/')[-1]\n",
    "        data = requests.get(url)\n",
    "        soup = BeautifulSoup(data.content, 'html.parser')\n",
    "        news_articles = [{'news_headline': headline.find('span', attrs={\"itemprop\": \"headline\"}).string,\n",
    "                          'news_article': article.find('div', attrs={\"itemprop\": \"articleBody\"}).string,\n",
    "                          'news_category': news_category}\n",
    "                         \n",
    "                            for headline, article in \n",
    "                             zip(soup.find_all('div', class_=[\"news-card-title news-right-box\"]),\n",
    "                                 soup.find_all('div', class_=[\"news-card-content news-right-box\"]))\n",
    "                        ]\n",
    "        news_data.extend(news_articles) \n",
    "    df =  pd.DataFrame(news_data)\n",
    "    df = df[['news_headline', 'news_article', 'news_category']]\n",
    "    return df    "
   ]
  },
  {
   "cell_type": "code",
   "execution_count": 17,
   "metadata": {
    "colab": {},
    "colab_type": "code",
    "id": "ruY2Z-DIwySd"
   },
   "outputs": [],
   "source": [
    "news_df = datasetPrepare(urls_list)"
   ]
  },
  {
   "cell_type": "code",
   "execution_count": 18,
   "metadata": {
    "colab": {},
    "colab_type": "code",
    "id": "8vn7RLB8wySh",
    "outputId": "76225b03-43a2-4c3f-ded1-91d4125bb488"
   },
   "outputs": [
    {
     "name": "stdout",
     "output_type": "stream",
     "text": [
      "<class 'pandas.core.frame.DataFrame'>\n",
      "RangeIndex: 74 entries, 0 to 73\n",
      "Data columns (total 3 columns):\n",
      "news_headline    74 non-null object\n",
      "news_article     74 non-null object\n",
      "news_category    74 non-null object\n",
      "dtypes: object(3)\n",
      "memory usage: 1.8+ KB\n"
     ]
    }
   ],
   "source": [
    "news_df.info()"
   ]
  },
  {
   "cell_type": "code",
   "execution_count": 19,
   "metadata": {
    "colab": {},
    "colab_type": "code",
    "id": "TCfWltFHwySm",
    "outputId": "9e27dfc6-5bc9-49b4-9a39-cab3d60ca4df"
   },
   "outputs": [
    {
     "data": {
      "text/html": [
       "<div>\n",
       "<style scoped>\n",
       "    .dataframe tbody tr th:only-of-type {\n",
       "        vertical-align: middle;\n",
       "    }\n",
       "\n",
       "    .dataframe tbody tr th {\n",
       "        vertical-align: top;\n",
       "    }\n",
       "\n",
       "    .dataframe thead th {\n",
       "        text-align: right;\n",
       "    }\n",
       "</style>\n",
       "<table border=\"1\" class=\"dataframe\">\n",
       "  <thead>\n",
       "    <tr style=\"text-align: right;\">\n",
       "      <th></th>\n",
       "      <th>news_headline</th>\n",
       "      <th>news_article</th>\n",
       "      <th>news_category</th>\n",
       "    </tr>\n",
       "  </thead>\n",
       "  <tbody>\n",
       "    <tr>\n",
       "      <th>0</th>\n",
       "      <td>OnePlus launches new brand campaign featuring ...</td>\n",
       "      <td>OnePlus has unveiled its latest brand campaign...</td>\n",
       "      <td>technology</td>\n",
       "    </tr>\n",
       "    <tr>\n",
       "      <th>1</th>\n",
       "      <td>OnePlus 7 Pro goes on sale in India</td>\n",
       "      <td>A few days after its official launch, OnePlus ...</td>\n",
       "      <td>technology</td>\n",
       "    </tr>\n",
       "    <tr>\n",
       "      <th>2</th>\n",
       "      <td>Microsoft unveils world's first whisky develop...</td>\n",
       "      <td>Microsoft has unveiled world's first whisky de...</td>\n",
       "      <td>technology</td>\n",
       "    </tr>\n",
       "    <tr>\n",
       "      <th>3</th>\n",
       "      <td>₹1,000 tech bypasses rules, sends 1L WhatsApp ...</td>\n",
       "      <td>Indian digital marketers are using ₹1,000 soft...</td>\n",
       "      <td>technology</td>\n",
       "    </tr>\n",
       "    <tr>\n",
       "      <th>4</th>\n",
       "      <td>EC orders Twitter to remove all tweets on Lok ...</td>\n",
       "      <td>Ahead of the last phase of the 2019 Lok Sabha ...</td>\n",
       "      <td>technology</td>\n",
       "    </tr>\n",
       "  </tbody>\n",
       "</table>\n",
       "</div>"
      ],
      "text/plain": [
       "                                       news_headline  \\\n",
       "0  OnePlus launches new brand campaign featuring ...   \n",
       "1                OnePlus 7 Pro goes on sale in India   \n",
       "2  Microsoft unveils world's first whisky develop...   \n",
       "3  ₹1,000 tech bypasses rules, sends 1L WhatsApp ...   \n",
       "4  EC orders Twitter to remove all tweets on Lok ...   \n",
       "\n",
       "                                        news_article news_category  \n",
       "0  OnePlus has unveiled its latest brand campaign...    technology  \n",
       "1  A few days after its official launch, OnePlus ...    technology  \n",
       "2  Microsoft has unveiled world's first whisky de...    technology  \n",
       "3  Indian digital marketers are using ₹1,000 soft...    technology  \n",
       "4  Ahead of the last phase of the 2019 Lok Sabha ...    technology  "
      ]
     },
     "execution_count": 19,
     "metadata": {},
     "output_type": "execute_result"
    }
   ],
   "source": [
    "news_df.head(5)"
   ]
  },
  {
   "cell_type": "code",
   "execution_count": 20,
   "metadata": {
    "colab": {},
    "colab_type": "code",
    "id": "_rXVQKGNwySp",
    "outputId": "ee94aa5b-cbf0-437f-d4ab-f1693136257e"
   },
   "outputs": [
    {
     "data": {
      "text/plain": [
       "technology    25\n",
       "sports        25\n",
       "world         24\n",
       "Name: news_category, dtype: int64"
      ]
     },
     "execution_count": 20,
     "metadata": {},
     "output_type": "execute_result"
    }
   ],
   "source": [
    "news_df.news_category.value_counts()"
   ]
  },
  {
   "cell_type": "markdown",
   "metadata": {
    "colab_type": "text",
    "id": "NBK3ZgwUwySt"
   },
   "source": [
    "# Text Wrangling and Pre-processing"
   ]
  },
  {
   "cell_type": "code",
   "execution_count": 25,
   "metadata": {},
   "outputs": [
    {
     "name": "stdout",
     "output_type": "stream",
     "text": [
      "Collecting spacy\n",
      "  Using cached https://files.pythonhosted.org/packages/83/26/b829c281ea584cd1d3889e40b57527782b748cbd91e753796506210f8bb4/spacy-2.1.4-cp36-cp36m-win_amd64.whl\n",
      "Requirement already satisfied: jsonschema<3.1.0,>=2.6.0 in c:\\users\\gopin\\anaconda3\\lib\\site-packages (from spacy) (2.6.0)\n",
      "Requirement already satisfied: srsly<1.1.0,>=0.0.5 in c:\\users\\gopin\\anaconda3\\lib\\site-packages (from spacy) (0.0.5)\n",
      "Requirement already satisfied: requests<3.0.0,>=2.13.0 in c:\\users\\gopin\\anaconda3\\lib\\site-packages (from spacy) (2.18.4)\n",
      "Requirement already satisfied: preshed<2.1.0,>=2.0.1 in c:\\users\\gopin\\anaconda3\\lib\\site-packages (from spacy) (2.0.1)\n",
      "Collecting blis<0.3.0,>=0.2.2 (from spacy)\n",
      "  Using cached https://files.pythonhosted.org/packages/84/0e/35f8ce00fc3412aa3a888a3d8e040c4c65ccbad8310aa2981d3e6f379867/blis-0.2.4-cp36-cp36m-win_amd64.whl\n",
      "Collecting thinc<7.1.0,>=7.0.2 (from spacy)\n",
      "  Using cached https://files.pythonhosted.org/packages/12/b0/2c6c0f0edd87a3a4ac039bec792a61603233901a6df53e976d746eb86d04/thinc-7.0.4-cp36-cp36m-win_amd64.whl\n",
      "Requirement already satisfied: wasabi<1.1.0,>=0.2.0 in c:\\users\\gopin\\anaconda3\\lib\\site-packages (from spacy) (0.2.2)\n",
      "Requirement already satisfied: numpy>=1.15.0 in c:\\users\\gopin\\anaconda3\\lib\\site-packages (from spacy) (1.16.3)\n",
      "Requirement already satisfied: cymem<2.1.0,>=2.0.2 in c:\\users\\gopin\\anaconda3\\lib\\site-packages (from spacy) (2.0.2)\n",
      "Requirement already satisfied: plac<1.0.0,>=0.9.6 in c:\\users\\gopin\\anaconda3\\lib\\site-packages (from spacy) (0.9.6)\n",
      "Requirement already satisfied: murmurhash<1.1.0,>=0.28.0 in c:\\users\\gopin\\anaconda3\\lib\\site-packages (from spacy) (1.0.2)\n",
      "Requirement already satisfied: chardet<3.1.0,>=3.0.2 in c:\\users\\gopin\\anaconda3\\lib\\site-packages (from requests<3.0.0,>=2.13.0->spacy) (3.0.4)\n",
      "Requirement already satisfied: idna<2.7,>=2.5 in c:\\users\\gopin\\anaconda3\\lib\\site-packages (from requests<3.0.0,>=2.13.0->spacy) (2.6)\n",
      "Requirement already satisfied: urllib3<1.23,>=1.21.1 in c:\\users\\gopin\\anaconda3\\lib\\site-packages (from requests<3.0.0,>=2.13.0->spacy) (1.22)\n",
      "Requirement already satisfied: certifi>=2017.4.17 in c:\\users\\gopin\\anaconda3\\lib\\site-packages (from requests<3.0.0,>=2.13.0->spacy) (2018.4.16)\n",
      "Collecting tqdm<5.0.0,>=4.10.0 (from thinc<7.1.0,>=7.0.2->spacy)\n",
      "  Using cached https://files.pythonhosted.org/packages/45/af/685bf3ce889ea191f3b916557f5677cc95a5e87b2fa120d74b5dd6d049d0/tqdm-4.32.1-py2.py3-none-any.whl\n",
      "Installing collected packages: blis, tqdm, thinc, spacy\n",
      "Successfully installed blis-0.2.4 spacy-2.1.4 thinc-7.0.4 tqdm-4.32.1\n"
     ]
    },
    {
     "name": "stderr",
     "output_type": "stream",
     "text": [
      "You are using pip version 19.1, however version 19.1.1 is available.\n",
      "You should consider upgrading via the 'python -m pip install --upgrade pip' command.\n"
     ]
    }
   ],
   "source": [
    "! pip install spacy"
   ]
  },
  {
   "cell_type": "code",
   "execution_count": 36,
   "metadata": {},
   "outputs": [
    {
     "name": "stderr",
     "output_type": "stream",
     "text": [
      "C:\\Users\\gopin\\Anaconda3\\python.exe: Error while finding module specification for 'spacy.en.download' (ModuleNotFoundError: No module named 'spacy.en')\n"
     ]
    }
   ],
   "source": [
    "!python -m spacy.en.download"
   ]
  },
  {
   "cell_type": "code",
   "execution_count": 26,
   "metadata": {
    "colab": {},
    "colab_type": "code",
    "id": "T-u9BQf2wySu"
   },
   "outputs": [],
   "source": [
    "import spacy\n",
    "import nltk\n",
    "from nltk.tokenize.toktok import ToktokTokenizer\n",
    "import re\n",
    "import unicodedata"
   ]
  },
  {
   "cell_type": "code",
   "execution_count": 32,
   "metadata": {
    "colab": {},
    "colab_type": "code",
    "id": "55J-3HE6wySx"
   },
   "outputs": [],
   "source": [
    "from contractions import contractions_dict"
   ]
  },
  {
   "cell_type": "code",
   "execution_count": 30,
   "metadata": {},
   "outputs": [
    {
     "name": "stdout",
     "output_type": "stream",
     "text": [
      "Collecting contractions\n",
      "  Downloading https://files.pythonhosted.org/packages/67/f7/1462c6d28ec27ef2812aa2e9376c7fc7b39a23f0e02297f71119d74375c5/contractions-0.0.18-py2.py3-none-any.whl\n",
      "Installing collected packages: contractions\n",
      "Successfully installed contractions-0.0.18\n"
     ]
    },
    {
     "name": "stderr",
     "output_type": "stream",
     "text": [
      "You are using pip version 19.1, however version 19.1.1 is available.\n",
      "You should consider upgrading via the 'python -m pip install --upgrade pip' command.\n"
     ]
    }
   ],
   "source": [
    "!pip install contractions"
   ]
  },
  {
   "cell_type": "code",
   "execution_count": 28,
   "metadata": {},
   "outputs": [
    {
     "name": "stdout",
     "output_type": "stream",
     "text": [
      "Collecting pycontractions\n",
      "  Downloading https://files.pythonhosted.org/packages/e2/ca/61b0fa2eb9f9fcc13f4a68c517b00ab000f859782492dd7a62032583ecb2/pycontractions-2.0.0.tar.gz\n",
      "Collecting gensim>=2.0 (from pycontractions)\n",
      "  Downloading https://files.pythonhosted.org/packages/81/80/858ef502e80baa6384b75fd5c89f01074b791a13b830487f9e25bdce50ec/gensim-3.7.3.tar.gz (23.4MB)\n",
      "Collecting language_check>=1.0 (from pycontractions)\n",
      "  Downloading https://files.pythonhosted.org/packages/97/45/0fd1d3683d6129f30fa09143fa383cdf6dff8bc0d1648f2cf156109cb772/language-check-1.1.tar.gz\n",
      "Collecting pyemd>=0.4.4 (from pycontractions)\n",
      "  Downloading https://files.pythonhosted.org/packages/c0/c5/7fea8e7a71cd026b30ed3c40e4c5ea13a173e28f8855da17e25271e8f545/pyemd-0.5.1.tar.gz (91kB)\n",
      "Requirement already satisfied: numpy>=1.11.3 in c:\\users\\gopin\\anaconda3\\lib\\site-packages (from gensim>=2.0->pycontractions) (1.16.3)\n",
      "Requirement already satisfied: scipy>=0.18.1 in c:\\users\\gopin\\anaconda3\\lib\\site-packages (from gensim>=2.0->pycontractions) (1.1.0)\n",
      "Requirement already satisfied: six>=1.5.0 in c:\\users\\gopin\\anaconda3\\lib\\site-packages (from gensim>=2.0->pycontractions) (1.11.0)\n",
      "Collecting smart_open>=1.7.0 (from gensim>=2.0->pycontractions)\n",
      "  Downloading https://files.pythonhosted.org/packages/bf/ba/7eaf3c0dbe601c43d88e449dcd7b61d385fe07c0167163f63f58ece7c1b5/smart_open-1.8.3.tar.gz (60kB)\n",
      "Requirement already satisfied: boto>=2.32 in c:\\users\\gopin\\anaconda3\\lib\\site-packages (from smart_open>=1.7.0->gensim>=2.0->pycontractions) (2.48.0)\n",
      "Requirement already satisfied: requests in c:\\users\\gopin\\anaconda3\\lib\\site-packages (from smart_open>=1.7.0->gensim>=2.0->pycontractions) (2.18.4)\n",
      "Collecting boto3 (from smart_open>=1.7.0->gensim>=2.0->pycontractions)\n",
      "  Downloading https://files.pythonhosted.org/packages/8c/82/59da660c667bea553743ba2edb09090b99d685f37e08950d20b0335f38f3/boto3-1.9.150-py2.py3-none-any.whl (128kB)\n",
      "Requirement already satisfied: chardet<3.1.0,>=3.0.2 in c:\\users\\gopin\\anaconda3\\lib\\site-packages (from requests->smart_open>=1.7.0->gensim>=2.0->pycontractions) (3.0.4)\n",
      "Requirement already satisfied: idna<2.7,>=2.5 in c:\\users\\gopin\\anaconda3\\lib\\site-packages (from requests->smart_open>=1.7.0->gensim>=2.0->pycontractions) (2.6)\n",
      "Requirement already satisfied: urllib3<1.23,>=1.21.1 in c:\\users\\gopin\\anaconda3\\lib\\site-packages (from requests->smart_open>=1.7.0->gensim>=2.0->pycontractions) (1.22)\n",
      "Requirement already satisfied: certifi>=2017.4.17 in c:\\users\\gopin\\anaconda3\\lib\\site-packages (from requests->smart_open>=1.7.0->gensim>=2.0->pycontractions) (2018.4.16)\n",
      "Collecting s3transfer<0.3.0,>=0.2.0 (from boto3->smart_open>=1.7.0->gensim>=2.0->pycontractions)\n",
      "  Downloading https://files.pythonhosted.org/packages/d7/de/5737f602e22073ecbded7a0c590707085e154e32b68d86545dcc31004c02/s3transfer-0.2.0-py2.py3-none-any.whl (69kB)\n",
      "Collecting jmespath<1.0.0,>=0.7.1 (from boto3->smart_open>=1.7.0->gensim>=2.0->pycontractions)\n",
      "  Downloading https://files.pythonhosted.org/packages/83/94/7179c3832a6d45b266ddb2aac329e101367fbdb11f425f13771d27f225bb/jmespath-0.9.4-py2.py3-none-any.whl\n",
      "Collecting botocore<1.13.0,>=1.12.150 (from boto3->smart_open>=1.7.0->gensim>=2.0->pycontractions)\n",
      "  Downloading https://files.pythonhosted.org/packages/a4/a3/14582589522f21684726da7b0f57dc2258cc6e3adb6046675f3bd9eba834/botocore-1.12.150-py2.py3-none-any.whl (5.4MB)\n",
      "Requirement already satisfied: python-dateutil<3.0.0,>=2.1; python_version >= \"2.7\" in c:\\users\\gopin\\anaconda3\\lib\\site-packages (from botocore<1.13.0,>=1.12.150->boto3->smart_open>=1.7.0->gensim>=2.0->pycontractions) (2.7.3)\n",
      "Requirement already satisfied: docutils>=0.10 in c:\\users\\gopin\\anaconda3\\lib\\site-packages (from botocore<1.13.0,>=1.12.150->boto3->smart_open>=1.7.0->gensim>=2.0->pycontractions) (0.14)\n",
      "Building wheels for collected packages: pycontractions, gensim, language-check, pyemd, smart-open\n",
      "  Running setup.py bdist_wheel for pycontractions: started\n",
      "  Running setup.py bdist_wheel for pycontractions: finished with status 'done'\n",
      "  Stored in directory: C:\\Users\\gopin\\AppData\\Local\\pip\\Cache\\wheels\\52\\5c\\7d\\8c9b47574380b68f7efdd637657f135ca143ea0ba4ade3b296\n",
      "  Running setup.py bdist_wheel for gensim: started\n",
      "  Running setup.py bdist_wheel for gensim: finished with status 'done'\n",
      "  Stored in directory: C:\\Users\\gopin\\AppData\\Local\\pip\\Cache\\wheels\\73\\6b\\89\\bb14fd56b74774a39a771a12f525a6a14c2c2692d3084ad048\n",
      "  Running setup.py bdist_wheel for language-check: started\n",
      "  Running setup.py bdist_wheel for language-check: finished with status 'done'\n",
      "  Stored in directory: C:\\Users\\gopin\\AppData\\Local\\pip\\Cache\\wheels\\d5\\46\\82\\90a89c23eac1837364ed7217a9eed71bc9e6ad4825be93968e\n",
      "  Running setup.py bdist_wheel for pyemd: started\n",
      "  Running setup.py bdist_wheel for pyemd: finished with status 'error'\n",
      "  Complete output from command C:\\Users\\gopin\\Anaconda3\\python.exe -u -c \"import setuptools, tokenize;__file__='C:\\\\Users\\\\gopin\\\\AppData\\\\Local\\\\Temp\\\\pip-install-llr6n8me\\\\pyemd\\\\setup.py';f=getattr(tokenize, 'open', open)(__file__);code=f.read().replace('\\r\\n', '\\n');f.close();exec(compile(code, __file__, 'exec'))\" bdist_wheel -d C:\\Users\\gopin\\AppData\\Local\\Temp\\pip-wheel-exqb0lp9 --python-tag cp36:\n",
      "  running bdist_wheel\n",
      "  running build\n",
      "  running build_py\n",
      "  creating build\n",
      "  creating build\\lib.win-amd64-3.6\n",
      "  creating build\\lib.win-amd64-3.6\\pyemd\n",
      "  copying pyemd\\__about__.py -> build\\lib.win-amd64-3.6\\pyemd\n",
      "  copying pyemd\\__init__.py -> build\\lib.win-amd64-3.6\\pyemd\n",
      "  running build_ext\n",
      "  building 'pyemd.emd' extension\n",
      "  error: Microsoft Visual C++ 14.0 is required. Get it with \"Microsoft Visual C++ Build Tools\": http://landinghub.visualstudio.com/visual-cpp-build-tools\n",
      "  \n",
      "  ----------------------------------------\n",
      "  Running setup.py clean for pyemd\n",
      "  Running setup.py bdist_wheel for smart-open: started\n",
      "  Running setup.py bdist_wheel for smart-open: finished with status 'done'\n",
      "  Stored in directory: C:\\Users\\gopin\\AppData\\Local\\pip\\Cache\\wheels\\b8\\cb\\43\\c0ba52baf2b0e371ec1d5b2d4685d6d24617b1391f3eeacda5\n",
      "Successfully built pycontractions gensim language-check smart-open\n",
      "Failed to build pyemd\n",
      "Installing collected packages: jmespath, botocore, s3transfer, boto3, smart-open, gensim, language-check, pyemd, pycontractions\n",
      "  Running setup.py install for pyemd: started\n",
      "    Running setup.py install for pyemd: finished with status 'error'\n",
      "    Complete output from command C:\\Users\\gopin\\Anaconda3\\python.exe -u -c \"import setuptools, tokenize;__file__='C:\\\\Users\\\\gopin\\\\AppData\\\\Local\\\\Temp\\\\pip-install-llr6n8me\\\\pyemd\\\\setup.py';f=getattr(tokenize, 'open', open)(__file__);code=f.read().replace('\\r\\n', '\\n');f.close();exec(compile(code, __file__, 'exec'))\" install --record C:\\Users\\gopin\\AppData\\Local\\Temp\\pip-record-czaquw7j\\install-record.txt --single-version-externally-managed --compile:\n",
      "    running install\n",
      "    running build\n",
      "    running build_py\n",
      "    creating build\n",
      "    creating build\\lib.win-amd64-3.6\n",
      "    creating build\\lib.win-amd64-3.6\\pyemd\n",
      "    copying pyemd\\__about__.py -> build\\lib.win-amd64-3.6\\pyemd\n",
      "    copying pyemd\\__init__.py -> build\\lib.win-amd64-3.6\\pyemd\n",
      "    running build_ext\n",
      "    building 'pyemd.emd' extension\n",
      "    error: Microsoft Visual C++ 14.0 is required. Get it with \"Microsoft Visual C++ Build Tools\": http://landinghub.visualstudio.com/visual-cpp-build-tools\n",
      "    \n",
      "    ----------------------------------------\n"
     ]
    },
    {
     "name": "stderr",
     "output_type": "stream",
     "text": [
      "  Failed building wheel for pyemd\n",
      "Command \"C:\\Users\\gopin\\Anaconda3\\python.exe -u -c \"import setuptools, tokenize;__file__='C:\\\\Users\\\\gopin\\\\AppData\\\\Local\\\\Temp\\\\pip-install-llr6n8me\\\\pyemd\\\\setup.py';f=getattr(tokenize, 'open', open)(__file__);code=f.read().replace('\\r\\n', '\\n');f.close();exec(compile(code, __file__, 'exec'))\" install --record C:\\Users\\gopin\\AppData\\Local\\Temp\\pip-record-czaquw7j\\install-record.txt --single-version-externally-managed --compile\" failed with error code 1 in C:\\Users\\gopin\\AppData\\Local\\Temp\\pip-install-llr6n8me\\pyemd\\\n",
      "You are using pip version 19.1, however version 19.1.1 is available.\n",
      "You should consider upgrading via the 'python -m pip install --upgrade pip' command.\n"
     ]
    }
   ],
   "source": [
    "!pip install pycontractions"
   ]
  },
  {
   "cell_type": "code",
   "execution_count": 37,
   "metadata": {
    "colab": {},
    "colab_type": "code",
    "id": "0fO_jEzBwyS0"
   },
   "outputs": [],
   "source": [
    "nlp = spacy.load('en')"
   ]
  },
  {
   "cell_type": "code",
   "execution_count": 34,
   "metadata": {
    "colab": {},
    "colab_type": "code",
    "id": "Cegz8iznwyS3",
    "outputId": "30af7c64-a65e-426e-a8d8-09aeb42ae107"
   },
   "outputs": [
    {
     "name": "stdout",
     "output_type": "stream",
     "text": [
      "[nltk_data] Downloading package stopwords to\n",
      "[nltk_data]     C:\\Users\\gopin\\AppData\\Roaming\\nltk_data...\n",
      "[nltk_data]   Unzipping corpora\\stopwords.zip.\n"
     ]
    },
    {
     "data": {
      "text/plain": [
       "True"
      ]
     },
     "execution_count": 34,
     "metadata": {},
     "output_type": "execute_result"
    }
   ],
   "source": [
    "nltk.download('stopwords')"
   ]
  },
  {
   "cell_type": "code",
   "execution_count": 38,
   "metadata": {
    "colab": {},
    "colab_type": "code",
    "id": "yhmWcpH_wyS6"
   },
   "outputs": [],
   "source": [
    "tokenizer = ToktokTokenizer()\n",
    "stopword_list = nltk.corpus.stopwords.words('english')\n",
    "stopword_list.remove('no')\n",
    "stopword_list.remove('not')"
   ]
  },
  {
   "cell_type": "markdown",
   "metadata": {
    "colab_type": "text",
    "id": "Wh9CrhePwyS9"
   },
   "source": [
    "## Remove HTML tags"
   ]
  },
  {
   "cell_type": "code",
   "execution_count": 39,
   "metadata": {
    "colab": {},
    "colab_type": "code",
    "id": "1Xit3_ckwyS9",
    "outputId": "ae87d6d4-7eb4-4a35-dd24-5029d64c2066"
   },
   "outputs": [
    {
     "data": {
      "text/plain": [
       "'Some important text'"
      ]
     },
     "execution_count": 39,
     "metadata": {},
     "output_type": "execute_result"
    }
   ],
   "source": [
    "def strip_html_tags(text):\n",
    "    soup = BeautifulSoup(text, \"html.parser\")\n",
    "    stripped_text = soup.get_text()\n",
    "    return stripped_text\n",
    "\n",
    "strip_html_tags('<html><h2>Some important text</h2></html>')"
   ]
  },
  {
   "cell_type": "markdown",
   "metadata": {
    "colab_type": "text",
    "id": "HBbRSoPkwyTB"
   },
   "source": [
    "## Remove accented characters"
   ]
  },
  {
   "cell_type": "code",
   "execution_count": 40,
   "metadata": {
    "colab": {},
    "colab_type": "code",
    "id": "TOBdIlTWwyTB",
    "outputId": "cba26cda-3871-4cfb-c480-d611ac9332f9"
   },
   "outputs": [
    {
     "data": {
      "text/plain": [
       "'Some Accented text'"
      ]
     },
     "execution_count": 40,
     "metadata": {},
     "output_type": "execute_result"
    }
   ],
   "source": [
    "def remove_accented_chars(text):\n",
    "    text = unicodedata.normalize('NFKD', text).encode('ascii', 'ignore').decode('utf-8', 'ignore')\n",
    "    return text\n",
    "\n",
    "remove_accented_chars('Sómě Áccěntěd těxt')"
   ]
  },
  {
   "cell_type": "markdown",
   "metadata": {
    "colab_type": "text",
    "id": "c-0MQQl9wyTF"
   },
   "source": [
    "## Expand contractions"
   ]
  },
  {
   "cell_type": "code",
   "execution_count": 41,
   "metadata": {
    "colab": {},
    "colab_type": "code",
    "id": "nYyg1ghEwyTG"
   },
   "outputs": [],
   "source": [
    "def expand_contractions(text, contraction_mapping=contractions_dict):\n",
    "    \n",
    "    contractions_pattern = re.compile('({})'.format('|'.join(contraction_mapping.keys())), \n",
    "                                      flags=re.IGNORECASE|re.DOTALL)\n",
    "    def expand_match(contraction):\n",
    "        match = contraction.group(0)\n",
    "        first_char = match[0]\n",
    "        expanded_contraction = contraction_mapping.get(match)\\\n",
    "                                if contraction_mapping.get(match)\\\n",
    "                                else contraction_mapping.get(match.lower())                       \n",
    "        expanded_contraction = first_char+expanded_contraction[1:]\n",
    "        return expanded_contraction\n",
    "        \n",
    "    expanded_text = contractions_pattern.sub(expand_match, text)\n",
    "    expanded_text = re.sub(\"'\", \"\", expanded_text)\n",
    "    return expanded_text"
   ]
  },
  {
   "cell_type": "code",
   "execution_count": 42,
   "metadata": {
    "colab": {},
    "colab_type": "code",
    "id": "1uhJeJpxwyTI",
    "outputId": "899908de-eb44-4152-d7be-1488302cf9f0"
   },
   "outputs": [
    {
     "data": {
      "text/plain": [
       "'You all cannot expand contractions I would think'"
      ]
     },
     "execution_count": 42,
     "metadata": {},
     "output_type": "execute_result"
    }
   ],
   "source": [
    "expand_contractions(\"Y'all can't expand contractions I'd think\")"
   ]
  },
  {
   "cell_type": "markdown",
   "metadata": {
    "colab_type": "text",
    "id": "8u9SuUXOwyTM"
   },
   "source": [
    "## Remove special characters"
   ]
  },
  {
   "cell_type": "code",
   "execution_count": 43,
   "metadata": {
    "colab": {},
    "colab_type": "code",
    "id": "lCmBJeI5wyTN"
   },
   "outputs": [],
   "source": [
    "def remove_special_characters(text, remove_digits=False):\n",
    "    pattern = r'[^a-zA-z0-9\\s]' if not remove_digits else r'[^a-zA-z\\s]'\n",
    "    text = re.sub(pattern, '', text)\n",
    "    return text"
   ]
  },
  {
   "cell_type": "code",
   "execution_count": 44,
   "metadata": {
    "colab": {},
    "colab_type": "code",
    "id": "R9IGXQ-LwyTQ",
    "outputId": "42608e82-0fef-4fa3-8e78-0fdb10f514b4"
   },
   "outputs": [
    {
     "data": {
      "text/plain": [
       "'Well this was fun What do you think '"
      ]
     },
     "execution_count": 44,
     "metadata": {},
     "output_type": "execute_result"
    }
   ],
   "source": [
    "remove_special_characters(\"Well this was fun! What do you think? 123#@!\", remove_digits=True)"
   ]
  },
  {
   "cell_type": "markdown",
   "metadata": {
    "colab_type": "text",
    "id": "Ryt_VSOVwyTT"
   },
   "source": [
    "## Text lemmatization"
   ]
  },
  {
   "cell_type": "code",
   "execution_count": 45,
   "metadata": {
    "colab": {},
    "colab_type": "code",
    "id": "uNR0fNT4wyTU"
   },
   "outputs": [],
   "source": [
    "def lemmatize_text(text):\n",
    "    text = nlp(text)\n",
    "    text = ' '.join([word.lemma_ if word.lemma_ != '-PRON-' else word.text for word in text])\n",
    "    return text"
   ]
  },
  {
   "cell_type": "code",
   "execution_count": 46,
   "metadata": {
    "colab": {},
    "colab_type": "code",
    "id": "do-LTxKRwyTX",
    "outputId": "3acb86ab-8924-4938-cf21-d3709b1eff91"
   },
   "outputs": [
    {
     "data": {
      "text/plain": [
       "'My system keep crash ! his crashed yesterday , ours crash daily'"
      ]
     },
     "execution_count": 46,
     "metadata": {},
     "output_type": "execute_result"
    }
   ],
   "source": [
    "lemmatize_text(\"My system keeps crashing! his crashed yesterday, ours crashes daily\")"
   ]
  },
  {
   "cell_type": "markdown",
   "metadata": {
    "colab_type": "text",
    "id": "jWmDYl9swyTa"
   },
   "source": [
    "## Text stemming"
   ]
  },
  {
   "cell_type": "code",
   "execution_count": 47,
   "metadata": {
    "colab": {},
    "colab_type": "code",
    "id": "wcgdJFzLwyTb",
    "outputId": "0e50d042-f1ea-4ac5-a7db-1e73208c2672"
   },
   "outputs": [
    {
     "data": {
      "text/plain": [
       "'My system keep crash hi crash yesterday, our crash daili'"
      ]
     },
     "execution_count": 47,
     "metadata": {},
     "output_type": "execute_result"
    }
   ],
   "source": [
    "def simple_stemmer(text):\n",
    "    ps = nltk.porter.PorterStemmer()\n",
    "    text = ' '.join([ps.stem(word) for word in text.split()])\n",
    "    return text\n",
    "\n",
    "simple_stemmer(\"My system keeps crashing his crashed yesterday, ours crashes daily\")"
   ]
  },
  {
   "cell_type": "markdown",
   "metadata": {
    "colab_type": "text",
    "id": "Ye0-JWiawyTl"
   },
   "source": [
    "## Remove stopwords"
   ]
  },
  {
   "cell_type": "code",
   "execution_count": 48,
   "metadata": {
    "colab": {},
    "colab_type": "code",
    "id": "iCO_6thkwyTm",
    "outputId": "4ee704cb-3ff4-4e64-f240-9577c750864a"
   },
   "outputs": [
    {
     "data": {
      "text/plain": [
       "', , stopwords , computer not'"
      ]
     },
     "execution_count": 48,
     "metadata": {},
     "output_type": "execute_result"
    }
   ],
   "source": [
    "def remove_stopwords(text, is_lower_case=False):\n",
    "    tokens = tokenizer.tokenize(text)\n",
    "    tokens = [token.strip() for token in tokens]\n",
    "    if is_lower_case:\n",
    "        filtered_tokens = [token for token in tokens if token not in stopword_list]\n",
    "    else:\n",
    "        filtered_tokens = [token for token in tokens if token.lower() not in stopword_list]\n",
    "    filtered_text = ' '.join(filtered_tokens)    \n",
    "    return filtered_text\n",
    "\n",
    "remove_stopwords(\"The, and, if are stopwords, computer is not\")"
   ]
  },
  {
   "cell_type": "markdown",
   "metadata": {
    "colab_type": "text",
    "id": "S8AdJuUuwyTq"
   },
   "source": [
    "## Building a text normalizer"
   ]
  },
  {
   "cell_type": "code",
   "execution_count": 49,
   "metadata": {
    "colab": {},
    "colab_type": "code",
    "id": "brUdlUOJwyTu"
   },
   "outputs": [],
   "source": [
    "def normalize_corpus(corpus, html_stripping=True, contraction_expansion=True,\n",
    "                     accented_char_removal=True, text_lower_case=True, \n",
    "                     text_lemmatization=True, special_char_removal=True, \n",
    "                     stopword_removal=True, remove_digits=True):\n",
    "    \n",
    "    normalized_corpus = []\n",
    "    # normalize each document in the corpus\n",
    "    for doc in corpus:\n",
    "        # strip HTML\n",
    "        if html_stripping:\n",
    "            doc = strip_html_tags(doc)\n",
    "        # remove accented characters\n",
    "        if accented_char_removal:\n",
    "            doc = remove_accented_chars(doc)\n",
    "        # expand contractions    \n",
    "        if contraction_expansion:\n",
    "            doc = expand_contractions(doc)\n",
    "        # lowercase the text    \n",
    "        if text_lower_case:\n",
    "            doc = doc.lower()\n",
    "        # remove extra newlines\n",
    "        doc = re.sub(r'[\\r|\\n|\\r\\n]+', ' ',doc)\n",
    "        # lemmatize text\n",
    "        if text_lemmatization:\n",
    "            doc = lemmatize_text(doc)\n",
    "        # remove special characters and\\or digits    \n",
    "        if special_char_removal:\n",
    "            # insert spaces between special characters to isolate them    \n",
    "            special_char_pattern = re.compile(r'([{.(-)!}])')\n",
    "            doc = special_char_pattern.sub(\" \\\\1 \", doc)\n",
    "            doc = remove_special_characters(doc, remove_digits=remove_digits)  \n",
    "        # remove extra whitespace\n",
    "        doc = re.sub(' +', ' ', doc)\n",
    "        # remove stopwords\n",
    "        if stopword_removal:\n",
    "            doc = remove_stopwords(doc, is_lower_case=text_lower_case)\n",
    "            \n",
    "        normalized_corpus.append(doc)\n",
    "        \n",
    "    return normalized_corpus"
   ]
  },
  {
   "cell_type": "markdown",
   "metadata": {
    "colab_type": "text",
    "id": "k2c5hDSNwyTw"
   },
   "source": [
    "## Pre-process and normalize news articles"
   ]
  },
  {
   "cell_type": "code",
   "execution_count": 50,
   "metadata": {
    "colab": {},
    "colab_type": "code",
    "id": "1da9VaH5wyTx"
   },
   "outputs": [],
   "source": [
    "news_df['full_text'] = news_df[\"news_headline\"].map(str)+ '. ' + news_df[\"news_article\"]"
   ]
  },
  {
   "cell_type": "code",
   "execution_count": 51,
   "metadata": {
    "colab": {},
    "colab_type": "code",
    "id": "rVZRnQVBwyTz",
    "outputId": "8cd71bca-4f3a-4b0e-ab10-88efd30f81c3"
   },
   "outputs": [
    {
     "data": {
      "text/plain": [
       "{'full_text': 'OnePlus 7 Pro goes on sale in India. A few days after its official launch, OnePlus 7 Pro is available for sale at a starting price of ₹48,999 on Amazon India, OnePlus online, offline and partner stores. Buyers can avail up to ₹2,000 cashback on purchase using SBI debit and credit cards, along with benefits from Jio worth ₹9,300, and buyback value of 70% on exchange through Servify.',\n",
       " 'clean_text': 'oneplus pro go sale india day official launch oneplus pro available sale start price amazon india oneplus online offline partner store buyer avail cashback purchase use sbi debit credit card along benefit jio worth buyback value exchange servify'}"
      ]
     },
     "execution_count": 51,
     "metadata": {},
     "output_type": "execute_result"
    }
   ],
   "source": [
    "news_df['clean_text'] = normalize_corpus(news_df['full_text'])\n",
    "norm_corpus = list(news_df['clean_text'])\n",
    "news_df.iloc[1][['full_text', 'clean_text']].to_dict()"
   ]
  },
  {
   "cell_type": "markdown",
   "metadata": {
    "colab_type": "text",
    "id": "MpmBJJXhwyT2"
   },
   "source": [
    "# Save the news articles"
   ]
  },
  {
   "cell_type": "code",
   "execution_count": 52,
   "metadata": {
    "colab": {},
    "colab_type": "code",
    "id": "NLVKFz3RwyT3"
   },
   "outputs": [],
   "source": [
    "news_df.to_csv('news.csv', index=False, encoding='utf-8')"
   ]
  },
  {
   "cell_type": "markdown",
   "metadata": {
    "colab_type": "text",
    "id": "lhPKJixXwyT5"
   },
   "source": [
    "# Tagging Parts of Speech"
   ]
  },
  {
   "cell_type": "code",
   "execution_count": 53,
   "metadata": {
    "colab": {},
    "colab_type": "code",
    "id": "QkYP8zF6wyT6"
   },
   "outputs": [],
   "source": [
    "news_df = pd.read_csv('news.csv')"
   ]
  },
  {
   "cell_type": "code",
   "execution_count": 54,
   "metadata": {
    "colab": {},
    "colab_type": "code",
    "id": "BWBUIun3wyT7"
   },
   "outputs": [],
   "source": [
    "corpus = normalize_corpus(news_df['full_text'], text_lower_case=False, \n",
    "                          text_lemmatization=False, special_char_removal=False)\n",
    "\n",
    "sentence = str(news_df.iloc[1].news_headline)\n",
    "sentence_nlp = nlp(sentence)"
   ]
  },
  {
   "cell_type": "code",
   "execution_count": 55,
   "metadata": {
    "colab": {},
    "colab_type": "code",
    "id": "hnuUueCiwyT9",
    "outputId": "7a7a3f4d-26e5-4e37-9077-8f68ad0cbc2e"
   },
   "outputs": [
    {
     "data": {
      "text/html": [
       "<div>\n",
       "<style scoped>\n",
       "    .dataframe tbody tr th:only-of-type {\n",
       "        vertical-align: middle;\n",
       "    }\n",
       "\n",
       "    .dataframe tbody tr th {\n",
       "        vertical-align: top;\n",
       "    }\n",
       "\n",
       "    .dataframe thead th {\n",
       "        text-align: right;\n",
       "    }\n",
       "</style>\n",
       "<table border=\"1\" class=\"dataframe\">\n",
       "  <thead>\n",
       "    <tr style=\"text-align: right;\">\n",
       "      <th></th>\n",
       "      <th>Word</th>\n",
       "      <th>POS tag</th>\n",
       "      <th>Tag type</th>\n",
       "    </tr>\n",
       "  </thead>\n",
       "  <tbody>\n",
       "    <tr>\n",
       "      <th>0</th>\n",
       "      <td>OnePlus</td>\n",
       "      <td>NN</td>\n",
       "      <td>NOUN</td>\n",
       "    </tr>\n",
       "    <tr>\n",
       "      <th>1</th>\n",
       "      <td>7</td>\n",
       "      <td>CD</td>\n",
       "      <td>NUM</td>\n",
       "    </tr>\n",
       "    <tr>\n",
       "      <th>2</th>\n",
       "      <td>Pro</td>\n",
       "      <td>NNP</td>\n",
       "      <td>PROPN</td>\n",
       "    </tr>\n",
       "    <tr>\n",
       "      <th>3</th>\n",
       "      <td>goes</td>\n",
       "      <td>VBZ</td>\n",
       "      <td>VERB</td>\n",
       "    </tr>\n",
       "    <tr>\n",
       "      <th>4</th>\n",
       "      <td>on</td>\n",
       "      <td>IN</td>\n",
       "      <td>ADP</td>\n",
       "    </tr>\n",
       "    <tr>\n",
       "      <th>5</th>\n",
       "      <td>sale</td>\n",
       "      <td>NN</td>\n",
       "      <td>NOUN</td>\n",
       "    </tr>\n",
       "    <tr>\n",
       "      <th>6</th>\n",
       "      <td>in</td>\n",
       "      <td>IN</td>\n",
       "      <td>ADP</td>\n",
       "    </tr>\n",
       "    <tr>\n",
       "      <th>7</th>\n",
       "      <td>India</td>\n",
       "      <td>NNP</td>\n",
       "      <td>PROPN</td>\n",
       "    </tr>\n",
       "  </tbody>\n",
       "</table>\n",
       "</div>"
      ],
      "text/plain": [
       "      Word POS tag Tag type\n",
       "0  OnePlus      NN     NOUN\n",
       "1        7      CD      NUM\n",
       "2      Pro     NNP    PROPN\n",
       "3     goes     VBZ     VERB\n",
       "4       on      IN      ADP\n",
       "5     sale      NN     NOUN\n",
       "6       in      IN      ADP\n",
       "7    India     NNP    PROPN"
      ]
     },
     "execution_count": 55,
     "metadata": {},
     "output_type": "execute_result"
    }
   ],
   "source": [
    "spacy_pos_tagged = [(word, word.tag_, word.pos_) for word in sentence_nlp]\n",
    "pd.DataFrame(spacy_pos_tagged, columns=['Word', 'POS tag', 'Tag type'])"
   ]
  },
  {
   "cell_type": "code",
   "execution_count": 56,
   "metadata": {
    "colab": {},
    "colab_type": "code",
    "id": "Ze8tWfaCwyUB",
    "outputId": "5de92d51-5076-46bb-d8ee-e2e718869e9b"
   },
   "outputs": [
    {
     "name": "stdout",
     "output_type": "stream",
     "text": [
      "[nltk_data] Downloading package punkt to\n",
      "[nltk_data]     C:\\Users\\gopin\\AppData\\Roaming\\nltk_data...\n",
      "[nltk_data]   Unzipping tokenizers\\punkt.zip.\n"
     ]
    },
    {
     "data": {
      "text/plain": [
       "True"
      ]
     },
     "execution_count": 56,
     "metadata": {},
     "output_type": "execute_result"
    }
   ],
   "source": [
    "nltk.download('punkt')"
   ]
  },
  {
   "cell_type": "code",
   "execution_count": 57,
   "metadata": {
    "colab": {},
    "colab_type": "code",
    "id": "OL40CTk4wyUF",
    "outputId": "fce9f948-036b-4e45-fca1-b9fe3784cf20"
   },
   "outputs": [
    {
     "name": "stdout",
     "output_type": "stream",
     "text": [
      "[nltk_data] Downloading package maxent_treebank_pos_tagger to\n",
      "[nltk_data]     C:\\Users\\gopin\\AppData\\Roaming\\nltk_data...\n",
      "[nltk_data]   Unzipping taggers\\maxent_treebank_pos_tagger.zip.\n"
     ]
    },
    {
     "data": {
      "text/plain": [
       "True"
      ]
     },
     "execution_count": 57,
     "metadata": {},
     "output_type": "execute_result"
    }
   ],
   "source": [
    "nltk.download('maxent_treebank_pos_tagger')"
   ]
  },
  {
   "cell_type": "code",
   "execution_count": 58,
   "metadata": {
    "colab": {},
    "colab_type": "code",
    "id": "jPO-dEJ4wyUI",
    "outputId": "355728b8-0912-4ac3-e6e6-d4640be4844c"
   },
   "outputs": [
    {
     "name": "stdout",
     "output_type": "stream",
     "text": [
      "[nltk_data] Downloading package averaged_perceptron_tagger to\n",
      "[nltk_data]     C:\\Users\\gopin\\AppData\\Roaming\\nltk_data...\n",
      "[nltk_data]   Unzipping taggers\\averaged_perceptron_tagger.zip.\n"
     ]
    },
    {
     "data": {
      "text/plain": [
       "True"
      ]
     },
     "execution_count": 58,
     "metadata": {},
     "output_type": "execute_result"
    }
   ],
   "source": [
    "nltk.download('averaged_perceptron_tagger')"
   ]
  },
  {
   "cell_type": "code",
   "execution_count": 59,
   "metadata": {
    "colab": {},
    "colab_type": "code",
    "id": "9oae5sIrwyUK"
   },
   "outputs": [],
   "source": [
    "nltk_pos_tagged = nltk.pos_tag(sentence.split())"
   ]
  },
  {
   "cell_type": "code",
   "execution_count": 60,
   "metadata": {
    "colab": {},
    "colab_type": "code",
    "id": "9LipTOP_wyUM",
    "outputId": "42c7e9a6-d86d-4f01-a2ad-1366d0ab2e68"
   },
   "outputs": [
    {
     "data": {
      "text/html": [
       "<div>\n",
       "<style scoped>\n",
       "    .dataframe tbody tr th:only-of-type {\n",
       "        vertical-align: middle;\n",
       "    }\n",
       "\n",
       "    .dataframe tbody tr th {\n",
       "        vertical-align: top;\n",
       "    }\n",
       "\n",
       "    .dataframe thead th {\n",
       "        text-align: right;\n",
       "    }\n",
       "</style>\n",
       "<table border=\"1\" class=\"dataframe\">\n",
       "  <thead>\n",
       "    <tr style=\"text-align: right;\">\n",
       "      <th></th>\n",
       "      <th>Word</th>\n",
       "      <th>POS tag</th>\n",
       "    </tr>\n",
       "  </thead>\n",
       "  <tbody>\n",
       "    <tr>\n",
       "      <th>0</th>\n",
       "      <td>OnePlus</td>\n",
       "      <td>CC</td>\n",
       "    </tr>\n",
       "    <tr>\n",
       "      <th>1</th>\n",
       "      <td>7</td>\n",
       "      <td>CD</td>\n",
       "    </tr>\n",
       "    <tr>\n",
       "      <th>2</th>\n",
       "      <td>Pro</td>\n",
       "      <td>NNP</td>\n",
       "    </tr>\n",
       "    <tr>\n",
       "      <th>3</th>\n",
       "      <td>goes</td>\n",
       "      <td>VBZ</td>\n",
       "    </tr>\n",
       "    <tr>\n",
       "      <th>4</th>\n",
       "      <td>on</td>\n",
       "      <td>IN</td>\n",
       "    </tr>\n",
       "    <tr>\n",
       "      <th>5</th>\n",
       "      <td>sale</td>\n",
       "      <td>NN</td>\n",
       "    </tr>\n",
       "    <tr>\n",
       "      <th>6</th>\n",
       "      <td>in</td>\n",
       "      <td>IN</td>\n",
       "    </tr>\n",
       "    <tr>\n",
       "      <th>7</th>\n",
       "      <td>India</td>\n",
       "      <td>NNP</td>\n",
       "    </tr>\n",
       "  </tbody>\n",
       "</table>\n",
       "</div>"
      ],
      "text/plain": [
       "      Word POS tag\n",
       "0  OnePlus      CC\n",
       "1        7      CD\n",
       "2      Pro     NNP\n",
       "3     goes     VBZ\n",
       "4       on      IN\n",
       "5     sale      NN\n",
       "6       in      IN\n",
       "7    India     NNP"
      ]
     },
     "execution_count": 60,
     "metadata": {},
     "output_type": "execute_result"
    }
   ],
   "source": [
    "pd.DataFrame(nltk_pos_tagged, columns=['Word', 'POS tag'])"
   ]
  },
  {
   "cell_type": "markdown",
   "metadata": {
    "colab_type": "text",
    "id": "rKpxMH3fwyUO"
   },
   "source": [
    "# Shallow Parsing or Chunking Text"
   ]
  },
  {
   "cell_type": "code",
   "execution_count": 61,
   "metadata": {
    "colab": {},
    "colab_type": "code",
    "id": "vavCfwQAwyUP",
    "outputId": "fe067935-fb18-4691-fe11-7e438b30ce37"
   },
   "outputs": [
    {
     "name": "stdout",
     "output_type": "stream",
     "text": [
      "[nltk_data] Downloading package conll2000 to\n",
      "[nltk_data]     C:\\Users\\gopin\\AppData\\Roaming\\nltk_data...\n",
      "[nltk_data]   Unzipping corpora\\conll2000.zip.\n"
     ]
    },
    {
     "data": {
      "text/plain": [
       "True"
      ]
     },
     "execution_count": 61,
     "metadata": {},
     "output_type": "execute_result"
    }
   ],
   "source": [
    "nltk.download('conll2000')"
   ]
  },
  {
   "cell_type": "code",
   "execution_count": 62,
   "metadata": {
    "colab": {},
    "colab_type": "code",
    "id": "OBuJTmPgwyUT"
   },
   "outputs": [],
   "source": [
    "from nltk.corpus import conll2000\n",
    "data = conll2000.chunked_sents()"
   ]
  },
  {
   "cell_type": "code",
   "execution_count": 63,
   "metadata": {
    "colab": {},
    "colab_type": "code",
    "id": "enhlmtFewyUW",
    "outputId": "ff686e65-0600-4d02-de58-1e64de2b501c"
   },
   "outputs": [
    {
     "name": "stdout",
     "output_type": "stream",
     "text": [
      "10900 48\n",
      "(S\n",
      "  Chancellor/NNP\n",
      "  (PP of/IN)\n",
      "  (NP the/DT Exchequer/NNP)\n",
      "  (NP Nigel/NNP Lawson/NNP)\n",
      "  (NP 's/POS restated/VBN commitment/NN)\n",
      "  (PP to/TO)\n",
      "  (NP a/DT firm/NN monetary/JJ policy/NN)\n",
      "  (VP has/VBZ helped/VBN to/TO prevent/VB)\n",
      "  (NP a/DT freefall/NN)\n",
      "  (PP in/IN)\n",
      "  (NP sterling/NN)\n",
      "  (PP over/IN)\n",
      "  (NP the/DT past/JJ week/NN)\n",
      "  ./.)\n"
     ]
    }
   ],
   "source": [
    "train_data = data[:10900]\n",
    "test_data = data[10900:] \n",
    "print(len(train_data), len(test_data))\n",
    "print(train_data[1]) "
   ]
  },
  {
   "cell_type": "markdown",
   "metadata": {
    "colab_type": "text",
    "id": "7KoPDIYjwyUZ"
   },
   "source": [
    "# Named Entity Recognition"
   ]
  },
  {
   "cell_type": "code",
   "execution_count": 64,
   "metadata": {
    "colab": {},
    "colab_type": "code",
    "id": "9nMyh9XDwyUa"
   },
   "outputs": [],
   "source": [
    "sentence = str(news_df.iloc[1].full_text)"
   ]
  },
  {
   "cell_type": "code",
   "execution_count": 65,
   "metadata": {
    "colab": {},
    "colab_type": "code",
    "id": "3mochfjKwyUc"
   },
   "outputs": [],
   "source": [
    "sentence_nlp = nlp(sentence)"
   ]
  },
  {
   "cell_type": "code",
   "execution_count": 66,
   "metadata": {
    "colab": {},
    "colab_type": "code",
    "id": "O63-qvhuwyUe",
    "outputId": "bf7ee21d-25fd-40c4-f10a-083158e1d525"
   },
   "outputs": [
    {
     "name": "stdout",
     "output_type": "stream",
     "text": [
      "[(7, 'CARDINAL'), (India, 'GPE'), (A, 'DATE'), (few, 'DATE'), (days, 'DATE'), (7, 'CARDINAL'), (₹48,999, 'GPE'), (Amazon, 'GPE'), (India, 'GPE'), (SBI, 'ORG'), (Jio, 'PERSON'), (₹9,300, 'CARDINAL'), (70, 'PERCENT'), (%, 'PERCENT'), (Servify, 'ORG')]\n"
     ]
    }
   ],
   "source": [
    "print([(word, word.ent_type_) for word in sentence_nlp if word.ent_type_])"
   ]
  },
  {
   "cell_type": "code",
   "execution_count": 67,
   "metadata": {
    "colab": {},
    "colab_type": "code",
    "id": "roYatNrpwyUh",
    "outputId": "6fab37ef-7e87-41ac-c4fc-3e6132fed9d0"
   },
   "outputs": [
    {
     "data": {
      "text/html": [
       "<div class=\"entities\" style=\"line-height: 2.5; direction: ltr\">OnePlus \n",
       "<mark class=\"entity\" style=\"background: #e4e7d2; padding: 0.45em 0.6em; margin: 0 0.25em; line-height: 1; border-radius: 0.35em; box-decoration-break: clone; -webkit-box-decoration-break: clone\">\n",
       "    7\n",
       "    <span style=\"font-size: 0.8em; font-weight: bold; line-height: 1; border-radius: 0.35em; text-transform: uppercase; vertical-align: middle; margin-left: 0.5rem\">CARDINAL</span>\n",
       "</mark>\n",
       " Pro goes on sale in \n",
       "<mark class=\"entity\" style=\"background: #feca74; padding: 0.45em 0.6em; margin: 0 0.25em; line-height: 1; border-radius: 0.35em; box-decoration-break: clone; -webkit-box-decoration-break: clone\">\n",
       "    India\n",
       "    <span style=\"font-size: 0.8em; font-weight: bold; line-height: 1; border-radius: 0.35em; text-transform: uppercase; vertical-align: middle; margin-left: 0.5rem\">GPE</span>\n",
       "</mark>\n",
       ". \n",
       "<mark class=\"entity\" style=\"background: #bfe1d9; padding: 0.45em 0.6em; margin: 0 0.25em; line-height: 1; border-radius: 0.35em; box-decoration-break: clone; -webkit-box-decoration-break: clone\">\n",
       "    A few days\n",
       "    <span style=\"font-size: 0.8em; font-weight: bold; line-height: 1; border-radius: 0.35em; text-transform: uppercase; vertical-align: middle; margin-left: 0.5rem\">DATE</span>\n",
       "</mark>\n",
       " after its official launch, OnePlus \n",
       "<mark class=\"entity\" style=\"background: #e4e7d2; padding: 0.45em 0.6em; margin: 0 0.25em; line-height: 1; border-radius: 0.35em; box-decoration-break: clone; -webkit-box-decoration-break: clone\">\n",
       "    7\n",
       "    <span style=\"font-size: 0.8em; font-weight: bold; line-height: 1; border-radius: 0.35em; text-transform: uppercase; vertical-align: middle; margin-left: 0.5rem\">CARDINAL</span>\n",
       "</mark>\n",
       " Pro is available for sale at a starting price of \n",
       "<mark class=\"entity\" style=\"background: #feca74; padding: 0.45em 0.6em; margin: 0 0.25em; line-height: 1; border-radius: 0.35em; box-decoration-break: clone; -webkit-box-decoration-break: clone\">\n",
       "    ₹48,999\n",
       "    <span style=\"font-size: 0.8em; font-weight: bold; line-height: 1; border-radius: 0.35em; text-transform: uppercase; vertical-align: middle; margin-left: 0.5rem\">GPE</span>\n",
       "</mark>\n",
       " on \n",
       "<mark class=\"entity\" style=\"background: #feca74; padding: 0.45em 0.6em; margin: 0 0.25em; line-height: 1; border-radius: 0.35em; box-decoration-break: clone; -webkit-box-decoration-break: clone\">\n",
       "    Amazon\n",
       "    <span style=\"font-size: 0.8em; font-weight: bold; line-height: 1; border-radius: 0.35em; text-transform: uppercase; vertical-align: middle; margin-left: 0.5rem\">GPE</span>\n",
       "</mark>\n",
       " \n",
       "<mark class=\"entity\" style=\"background: #feca74; padding: 0.45em 0.6em; margin: 0 0.25em; line-height: 1; border-radius: 0.35em; box-decoration-break: clone; -webkit-box-decoration-break: clone\">\n",
       "    India\n",
       "    <span style=\"font-size: 0.8em; font-weight: bold; line-height: 1; border-radius: 0.35em; text-transform: uppercase; vertical-align: middle; margin-left: 0.5rem\">GPE</span>\n",
       "</mark>\n",
       ", OnePlus online, offline and partner stores. Buyers can avail up to ₹2,000 cashback on purchase using \n",
       "<mark class=\"entity\" style=\"background: #7aecec; padding: 0.45em 0.6em; margin: 0 0.25em; line-height: 1; border-radius: 0.35em; box-decoration-break: clone; -webkit-box-decoration-break: clone\">\n",
       "    SBI\n",
       "    <span style=\"font-size: 0.8em; font-weight: bold; line-height: 1; border-radius: 0.35em; text-transform: uppercase; vertical-align: middle; margin-left: 0.5rem\">ORG</span>\n",
       "</mark>\n",
       " debit and credit cards, along with benefits from \n",
       "<mark class=\"entity\" style=\"background: #aa9cfc; padding: 0.45em 0.6em; margin: 0 0.25em; line-height: 1; border-radius: 0.35em; box-decoration-break: clone; -webkit-box-decoration-break: clone\">\n",
       "    Jio\n",
       "    <span style=\"font-size: 0.8em; font-weight: bold; line-height: 1; border-radius: 0.35em; text-transform: uppercase; vertical-align: middle; margin-left: 0.5rem\">PERSON</span>\n",
       "</mark>\n",
       " worth \n",
       "<mark class=\"entity\" style=\"background: #e4e7d2; padding: 0.45em 0.6em; margin: 0 0.25em; line-height: 1; border-radius: 0.35em; box-decoration-break: clone; -webkit-box-decoration-break: clone\">\n",
       "    ₹9,300\n",
       "    <span style=\"font-size: 0.8em; font-weight: bold; line-height: 1; border-radius: 0.35em; text-transform: uppercase; vertical-align: middle; margin-left: 0.5rem\">CARDINAL</span>\n",
       "</mark>\n",
       ", and buyback value of \n",
       "<mark class=\"entity\" style=\"background: #e4e7d2; padding: 0.45em 0.6em; margin: 0 0.25em; line-height: 1; border-radius: 0.35em; box-decoration-break: clone; -webkit-box-decoration-break: clone\">\n",
       "    70%\n",
       "    <span style=\"font-size: 0.8em; font-weight: bold; line-height: 1; border-radius: 0.35em; text-transform: uppercase; vertical-align: middle; margin-left: 0.5rem\">PERCENT</span>\n",
       "</mark>\n",
       " on exchange through \n",
       "<mark class=\"entity\" style=\"background: #7aecec; padding: 0.45em 0.6em; margin: 0 0.25em; line-height: 1; border-radius: 0.35em; box-decoration-break: clone; -webkit-box-decoration-break: clone\">\n",
       "    Servify\n",
       "    <span style=\"font-size: 0.8em; font-weight: bold; line-height: 1; border-radius: 0.35em; text-transform: uppercase; vertical-align: middle; margin-left: 0.5rem\">ORG</span>\n",
       "</mark>\n",
       ".</div>"
      ],
      "text/plain": [
       "<IPython.core.display.HTML object>"
      ]
     },
     "metadata": {},
     "output_type": "display_data"
    }
   ],
   "source": [
    "from spacy import displacy\n",
    "displacy.render(sentence_nlp, style='ent', jupyter=True)"
   ]
  },
  {
   "cell_type": "code",
   "execution_count": 68,
   "metadata": {
    "colab": {},
    "colab_type": "code",
    "id": "AwS1En3RwyUj"
   },
   "outputs": [],
   "source": [
    "named_entities = []\n",
    "for sentence in corpus:\n",
    "    temp_entity_name = ''\n",
    "    temp_named_entity = None\n",
    "    sentence = nlp(sentence)\n",
    "    for word in sentence:\n",
    "        term = word.text \n",
    "        tag = word.ent_type_\n",
    "        if tag:\n",
    "            temp_entity_name = ' '.join([temp_entity_name, term]).strip()\n",
    "            temp_named_entity = (temp_entity_name, tag)\n",
    "        else:\n",
    "            if temp_named_entity:\n",
    "                named_entities.append(temp_named_entity)\n",
    "                temp_entity_name = ''\n",
    "                temp_named_entity = None\n",
    "\n",
    "entity_frame = pd.DataFrame(named_entities, \n",
    "                            columns=['Entity Name', 'Entity Type'])"
   ]
  },
  {
   "cell_type": "code",
   "execution_count": 69,
   "metadata": {
    "colab": {},
    "colab_type": "code",
    "id": "mLvaj9OEwyUl",
    "outputId": "c8f257d9-4767-4ba1-c3bc-469bd3fc1291"
   },
   "outputs": [
    {
     "data": {
      "text/html": [
       "<div>\n",
       "<style scoped>\n",
       "    .dataframe tbody tr th:only-of-type {\n",
       "        vertical-align: middle;\n",
       "    }\n",
       "\n",
       "    .dataframe tbody tr th {\n",
       "        vertical-align: top;\n",
       "    }\n",
       "\n",
       "    .dataframe thead th {\n",
       "        text-align: right;\n",
       "    }\n",
       "</style>\n",
       "<table border=\"1\" class=\"dataframe\">\n",
       "  <thead>\n",
       "    <tr style=\"text-align: right;\">\n",
       "      <th></th>\n",
       "      <th>0</th>\n",
       "      <th>1</th>\n",
       "      <th>2</th>\n",
       "      <th>3</th>\n",
       "      <th>4</th>\n",
       "      <th>5</th>\n",
       "      <th>6</th>\n",
       "      <th>7</th>\n",
       "      <th>8</th>\n",
       "      <th>9</th>\n",
       "      <th>10</th>\n",
       "      <th>11</th>\n",
       "      <th>12</th>\n",
       "      <th>13</th>\n",
       "      <th>14</th>\n",
       "    </tr>\n",
       "  </thead>\n",
       "  <tbody>\n",
       "    <tr>\n",
       "      <th>Entity Name</th>\n",
       "      <td>US</td>\n",
       "      <td>India</td>\n",
       "      <td>China</td>\n",
       "      <td>Indian</td>\n",
       "      <td>WhatsApp</td>\n",
       "      <td>Amazon</td>\n",
       "      <td>first</td>\n",
       "      <td>Chinese</td>\n",
       "      <td>Wikipedia</td>\n",
       "      <td>England</td>\n",
       "      <td>Australian</td>\n",
       "      <td>Apple</td>\n",
       "      <td>Microsoft</td>\n",
       "      <td>five</td>\n",
       "      <td>IPL</td>\n",
       "    </tr>\n",
       "    <tr>\n",
       "      <th>Entity Type</th>\n",
       "      <td>GPE</td>\n",
       "      <td>GPE</td>\n",
       "      <td>GPE</td>\n",
       "      <td>NORP</td>\n",
       "      <td>ORG</td>\n",
       "      <td>ORG</td>\n",
       "      <td>ORDINAL</td>\n",
       "      <td>NORP</td>\n",
       "      <td>GPE</td>\n",
       "      <td>GPE</td>\n",
       "      <td>NORP</td>\n",
       "      <td>ORG</td>\n",
       "      <td>ORG</td>\n",
       "      <td>CARDINAL</td>\n",
       "      <td>ORG</td>\n",
       "    </tr>\n",
       "    <tr>\n",
       "      <th>Frequency</th>\n",
       "      <td>24</td>\n",
       "      <td>14</td>\n",
       "      <td>13</td>\n",
       "      <td>10</td>\n",
       "      <td>9</td>\n",
       "      <td>8</td>\n",
       "      <td>7</td>\n",
       "      <td>7</td>\n",
       "      <td>6</td>\n",
       "      <td>6</td>\n",
       "      <td>6</td>\n",
       "      <td>5</td>\n",
       "      <td>5</td>\n",
       "      <td>5</td>\n",
       "      <td>4</td>\n",
       "    </tr>\n",
       "  </tbody>\n",
       "</table>\n",
       "</div>"
      ],
      "text/plain": [
       "              0      1      2       3         4       5        6        7   \\\n",
       "Entity Name   US  India  China  Indian  WhatsApp  Amazon    first  Chinese   \n",
       "Entity Type  GPE    GPE    GPE    NORP       ORG     ORG  ORDINAL     NORP   \n",
       "Frequency     24     14     13      10         9       8        7        7   \n",
       "\n",
       "                    8        9           10     11         12        13   14  \n",
       "Entity Name  Wikipedia  England  Australian  Apple  Microsoft      five  IPL  \n",
       "Entity Type        GPE      GPE        NORP    ORG        ORG  CARDINAL  ORG  \n",
       "Frequency            6        6           6      5          5         5    4  "
      ]
     },
     "execution_count": 69,
     "metadata": {},
     "output_type": "execute_result"
    }
   ],
   "source": [
    "top_entities = (entity_frame.groupby(by=['Entity Name', 'Entity Type'])\n",
    "                           .size()\n",
    "                           .sort_values(ascending=False)\n",
    "                           .reset_index().rename(columns={0 : 'Frequency'}))\n",
    "top_entities.T.iloc[:,:15]"
   ]
  },
  {
   "cell_type": "code",
   "execution_count": 70,
   "metadata": {
    "colab": {},
    "colab_type": "code",
    "id": "qQd_9FJCwyUo",
    "outputId": "adec9cca-5001-45d7-a519-936e4d1c5384"
   },
   "outputs": [
    {
     "data": {
      "text/html": [
       "<div>\n",
       "<style scoped>\n",
       "    .dataframe tbody tr th:only-of-type {\n",
       "        vertical-align: middle;\n",
       "    }\n",
       "\n",
       "    .dataframe tbody tr th {\n",
       "        vertical-align: top;\n",
       "    }\n",
       "\n",
       "    .dataframe thead th {\n",
       "        text-align: right;\n",
       "    }\n",
       "</style>\n",
       "<table border=\"1\" class=\"dataframe\">\n",
       "  <thead>\n",
       "    <tr style=\"text-align: right;\">\n",
       "      <th></th>\n",
       "      <th>0</th>\n",
       "      <th>1</th>\n",
       "      <th>2</th>\n",
       "      <th>3</th>\n",
       "      <th>4</th>\n",
       "      <th>5</th>\n",
       "      <th>6</th>\n",
       "      <th>7</th>\n",
       "      <th>8</th>\n",
       "      <th>9</th>\n",
       "      <th>10</th>\n",
       "      <th>11</th>\n",
       "      <th>12</th>\n",
       "      <th>13</th>\n",
       "      <th>14</th>\n",
       "    </tr>\n",
       "  </thead>\n",
       "  <tbody>\n",
       "    <tr>\n",
       "      <th>Entity Type</th>\n",
       "      <td>PERSON</td>\n",
       "      <td>ORG</td>\n",
       "      <td>GPE</td>\n",
       "      <td>CARDINAL</td>\n",
       "      <td>DATE</td>\n",
       "      <td>NORP</td>\n",
       "      <td>ORDINAL</td>\n",
       "      <td>MONEY</td>\n",
       "      <td>PRODUCT</td>\n",
       "      <td>EVENT</td>\n",
       "      <td>LOC</td>\n",
       "      <td>PERCENT</td>\n",
       "      <td>QUANTITY</td>\n",
       "      <td>FAC</td>\n",
       "      <td>TIME</td>\n",
       "    </tr>\n",
       "    <tr>\n",
       "      <th>Frequency</th>\n",
       "      <td>138</td>\n",
       "      <td>127</td>\n",
       "      <td>127</td>\n",
       "      <td>101</td>\n",
       "      <td>66</td>\n",
       "      <td>52</td>\n",
       "      <td>17</td>\n",
       "      <td>16</td>\n",
       "      <td>9</td>\n",
       "      <td>9</td>\n",
       "      <td>6</td>\n",
       "      <td>5</td>\n",
       "      <td>4</td>\n",
       "      <td>3</td>\n",
       "      <td>2</td>\n",
       "    </tr>\n",
       "  </tbody>\n",
       "</table>\n",
       "</div>"
      ],
      "text/plain": [
       "                 0    1    2         3     4     5        6      7        8   \\\n",
       "Entity Type  PERSON  ORG  GPE  CARDINAL  DATE  NORP  ORDINAL  MONEY  PRODUCT   \n",
       "Frequency       138  127  127       101    66    52       17     16        9   \n",
       "\n",
       "                9    10       11        12   13    14  \n",
       "Entity Type  EVENT  LOC  PERCENT  QUANTITY  FAC  TIME  \n",
       "Frequency        9    6        5         4    3     2  "
      ]
     },
     "execution_count": 70,
     "metadata": {},
     "output_type": "execute_result"
    }
   ],
   "source": [
    "top_entities = (entity_frame.groupby(by=['Entity Type'])\n",
    "                           .size()\n",
    "                           .sort_values(ascending=False)\n",
    "                           .reset_index().rename(columns={0 : 'Frequency'}))\n",
    "top_entities.T.iloc[:,:15]"
   ]
  },
  {
   "cell_type": "markdown",
   "metadata": {
    "colab_type": "text",
    "id": "yac-cPR-wyUr"
   },
   "source": [
    "## Emotion and Sentiment Analysis"
   ]
  },
  {
   "cell_type": "code",
   "execution_count": 72,
   "metadata": {},
   "outputs": [
    {
     "name": "stdout",
     "output_type": "stream",
     "text": [
      "Collecting afinn\n",
      "  Downloading https://files.pythonhosted.org/packages/86/e5/ffbb7ee3cca21ac6d310ac01944fb163c20030b45bda25421d725d8a859a/afinn-0.1.tar.gz (52kB)\n",
      "Building wheels for collected packages: afinn\n",
      "  Running setup.py bdist_wheel for afinn: started\n",
      "  Running setup.py bdist_wheel for afinn: finished with status 'done'\n",
      "  Stored in directory: C:\\Users\\gopin\\AppData\\Local\\pip\\Cache\\wheels\\b5\\1c\\de\\428301f3333ca509dcf20ff358690eb23a1388fbcbbde008b2\n",
      "Successfully built afinn\n",
      "Installing collected packages: afinn\n",
      "Successfully installed afinn-0.1\n"
     ]
    },
    {
     "name": "stderr",
     "output_type": "stream",
     "text": [
      "You are using pip version 19.1, however version 19.1.1 is available.\n",
      "You should consider upgrading via the 'python -m pip install --upgrade pip' command.\n"
     ]
    }
   ],
   "source": [
    "!pip install afinn"
   ]
  },
  {
   "cell_type": "code",
   "execution_count": 73,
   "metadata": {
    "colab": {},
    "colab_type": "code",
    "id": "sAvDy-IpwyUr"
   },
   "outputs": [],
   "source": [
    "from afinn import Afinn"
   ]
  },
  {
   "cell_type": "code",
   "execution_count": 74,
   "metadata": {},
   "outputs": [
    {
     "name": "stdout",
     "output_type": "stream",
     "text": [
      "Collecting pip\n",
      "  Downloading https://files.pythonhosted.org/packages/5c/e0/be401c003291b56efc55aeba6a80ab790d3d4cece2778288d65323009420/pip-19.1.1-py2.py3-none-any.whl (1.4MB)\n",
      "Installing collected packages: pip\n",
      "  Found existing installation: pip 19.1\n",
      "    Uninstalling pip-19.1:\n",
      "      Successfully uninstalled pip-19.1\n",
      "Successfully installed pip-19.1.1\n"
     ]
    }
   ],
   "source": [
    "!python -m pip install --upgrade pip"
   ]
  },
  {
   "cell_type": "code",
   "execution_count": 75,
   "metadata": {
    "colab": {},
    "colab_type": "code",
    "id": "P_UjLB0ewyUt"
   },
   "outputs": [],
   "source": [
    "af = Afinn()"
   ]
  },
  {
   "cell_type": "code",
   "execution_count": 76,
   "metadata": {
    "colab": {},
    "colab_type": "code",
    "id": "knDh4_yXwyUu"
   },
   "outputs": [],
   "source": [
    "sentiment_scores = [af.score(article) for article in corpus]"
   ]
  },
  {
   "cell_type": "code",
   "execution_count": 77,
   "metadata": {
    "colab": {},
    "colab_type": "code",
    "id": "2bAnpAA9wyUw"
   },
   "outputs": [],
   "source": [
    "sentiment_category = ['positive' if score > 0 \n",
    "                          else 'negative' if score < 0 \n",
    "                              else 'neutral' \n",
    "                                  for score in sentiment_scores]"
   ]
  },
  {
   "cell_type": "code",
   "execution_count": 78,
   "metadata": {
    "colab": {},
    "colab_type": "code",
    "id": "9qItumOvwyUx"
   },
   "outputs": [],
   "source": [
    "df = pd.DataFrame([list(news_df['news_category']), sentiment_scores, sentiment_category]).T"
   ]
  },
  {
   "cell_type": "code",
   "execution_count": 79,
   "metadata": {
    "colab": {},
    "colab_type": "code",
    "id": "9DJP5keFwyUz"
   },
   "outputs": [],
   "source": [
    "df.columns = ['news_category', 'sentiment_score', 'sentiment_category']"
   ]
  },
  {
   "cell_type": "code",
   "execution_count": 80,
   "metadata": {
    "colab": {},
    "colab_type": "code",
    "id": "48PS8cYZwyU1"
   },
   "outputs": [],
   "source": [
    "df['sentiment_score'] = df.sentiment_score.astype('float')"
   ]
  },
  {
   "cell_type": "code",
   "execution_count": 81,
   "metadata": {
    "colab": {},
    "colab_type": "code",
    "id": "1roBNy9fwyU4",
    "outputId": "2215c719-a43d-46dd-9df4-b76e666a4aa7"
   },
   "outputs": [
    {
     "data": {
      "text/html": [
       "<div>\n",
       "<style scoped>\n",
       "    .dataframe tbody tr th:only-of-type {\n",
       "        vertical-align: middle;\n",
       "    }\n",
       "\n",
       "    .dataframe tbody tr th {\n",
       "        vertical-align: top;\n",
       "    }\n",
       "\n",
       "    .dataframe thead tr th {\n",
       "        text-align: left;\n",
       "    }\n",
       "\n",
       "    .dataframe thead tr:last-of-type th {\n",
       "        text-align: right;\n",
       "    }\n",
       "</style>\n",
       "<table border=\"1\" class=\"dataframe\">\n",
       "  <thead>\n",
       "    <tr>\n",
       "      <th></th>\n",
       "      <th colspan=\"8\" halign=\"left\">sentiment_score</th>\n",
       "    </tr>\n",
       "    <tr>\n",
       "      <th></th>\n",
       "      <th>count</th>\n",
       "      <th>mean</th>\n",
       "      <th>std</th>\n",
       "      <th>min</th>\n",
       "      <th>25%</th>\n",
       "      <th>50%</th>\n",
       "      <th>75%</th>\n",
       "      <th>max</th>\n",
       "    </tr>\n",
       "    <tr>\n",
       "      <th>news_category</th>\n",
       "      <th></th>\n",
       "      <th></th>\n",
       "      <th></th>\n",
       "      <th></th>\n",
       "      <th></th>\n",
       "      <th></th>\n",
       "      <th></th>\n",
       "      <th></th>\n",
       "    </tr>\n",
       "  </thead>\n",
       "  <tbody>\n",
       "    <tr>\n",
       "      <th>sports</th>\n",
       "      <td>25.0</td>\n",
       "      <td>1.880000</td>\n",
       "      <td>8.038035</td>\n",
       "      <td>-11.0</td>\n",
       "      <td>-3.00</td>\n",
       "      <td>0.0</td>\n",
       "      <td>10.0</td>\n",
       "      <td>18.0</td>\n",
       "    </tr>\n",
       "    <tr>\n",
       "      <th>technology</th>\n",
       "      <td>25.0</td>\n",
       "      <td>-1.240000</td>\n",
       "      <td>5.889822</td>\n",
       "      <td>-16.0</td>\n",
       "      <td>-4.00</td>\n",
       "      <td>0.0</td>\n",
       "      <td>3.0</td>\n",
       "      <td>8.0</td>\n",
       "    </tr>\n",
       "    <tr>\n",
       "      <th>world</th>\n",
       "      <td>24.0</td>\n",
       "      <td>-5.083333</td>\n",
       "      <td>5.897064</td>\n",
       "      <td>-16.0</td>\n",
       "      <td>-9.25</td>\n",
       "      <td>-6.0</td>\n",
       "      <td>-1.0</td>\n",
       "      <td>6.0</td>\n",
       "    </tr>\n",
       "  </tbody>\n",
       "</table>\n",
       "</div>"
      ],
      "text/plain": [
       "              sentiment_score                                                 \n",
       "                        count      mean       std   min   25%  50%   75%   max\n",
       "news_category                                                                 \n",
       "sports                   25.0  1.880000  8.038035 -11.0 -3.00  0.0  10.0  18.0\n",
       "technology               25.0 -1.240000  5.889822 -16.0 -4.00  0.0   3.0   8.0\n",
       "world                    24.0 -5.083333  5.897064 -16.0 -9.25 -6.0  -1.0   6.0"
      ]
     },
     "execution_count": 81,
     "metadata": {},
     "output_type": "execute_result"
    }
   ],
   "source": [
    "df.groupby(by=['news_category']).describe()"
   ]
  },
  {
   "cell_type": "code",
   "execution_count": 82,
   "metadata": {
    "colab": {},
    "colab_type": "code",
    "id": "MQDKdPUKwyU7",
    "outputId": "55d186d6-7703-4aab-8d68-93477274171c"
   },
   "outputs": [
    {
     "data": {
      "image/png": "[encoded data removed]",
      "text/plain": [
       "<Figure size 1008x288 with 2 Axes>"
      ]
     },
     "metadata": {},
     "output_type": "display_data"
    }
   ],
   "source": [
    "f, (ax1, ax2) = plt.subplots(1, 2, figsize=(14, 4))\n",
    "sp = sns.stripplot(x='news_category', y=\"sentiment_score\",  hue='news_category', data=df, ax=ax1)\n",
    "bp = sns.boxplot(x='news_category', y=\"sentiment_score\", hue='news_category', data=df, palette=\"Set2\", ax=ax2)\n",
    "t = f.suptitle('Visualizing News Sentiment', fontsize=14)"
   ]
  },
  {
   "cell_type": "code",
   "execution_count": 83,
   "metadata": {
    "colab": {},
    "colab_type": "code",
    "id": "ozIHVZ7RwyU9",
    "outputId": "a523125e-0055-4547-8890-afb9117ac3f4"
   },
   "outputs": [
    {
     "data": {
      "image/png": "[encoded data removed]",
      "text/plain": [
       "<Figure size 395.5x288 with 1 Axes>"
      ]
     },
     "metadata": {},
     "output_type": "display_data"
    }
   ],
   "source": [
    "fc = sns.factorplot(x=\"news_category\", hue=\"sentiment_category\", \n",
    "                    data=df, kind=\"count\", \n",
    "                    palette={\"negative\": \"#FE2020\", \n",
    "                             \"positive\": \"#BADD07\", \n",
    "                             \"neutral\": \"#68BFF5\"})"
   ]
  },
  {
   "cell_type": "code",
   "execution_count": 89,
   "metadata": {},
   "outputs": [
    {
     "data": {
      "text/html": [
       "<div>\n",
       "<style scoped>\n",
       "    .dataframe tbody tr th:only-of-type {\n",
       "        vertical-align: middle;\n",
       "    }\n",
       "\n",
       "    .dataframe tbody tr th {\n",
       "        vertical-align: top;\n",
       "    }\n",
       "\n",
       "    .dataframe thead th {\n",
       "        text-align: right;\n",
       "    }\n",
       "</style>\n",
       "<table border=\"1\" class=\"dataframe\">\n",
       "  <thead>\n",
       "    <tr style=\"text-align: right;\">\n",
       "      <th></th>\n",
       "      <th>news_category</th>\n",
       "      <th>sentiment_score</th>\n",
       "      <th>sentiment_category</th>\n",
       "    </tr>\n",
       "  </thead>\n",
       "  <tbody>\n",
       "    <tr>\n",
       "      <th>0</th>\n",
       "      <td>technology</td>\n",
       "      <td>6.0</td>\n",
       "      <td>positive</td>\n",
       "    </tr>\n",
       "    <tr>\n",
       "      <th>1</th>\n",
       "      <td>technology</td>\n",
       "      <td>3.0</td>\n",
       "      <td>positive</td>\n",
       "    </tr>\n",
       "    <tr>\n",
       "      <th>2</th>\n",
       "      <td>technology</td>\n",
       "      <td>7.0</td>\n",
       "      <td>positive</td>\n",
       "    </tr>\n",
       "    <tr>\n",
       "      <th>3</th>\n",
       "      <td>technology</td>\n",
       "      <td>-3.0</td>\n",
       "      <td>negative</td>\n",
       "    </tr>\n",
       "    <tr>\n",
       "      <th>4</th>\n",
       "      <td>technology</td>\n",
       "      <td>1.0</td>\n",
       "      <td>positive</td>\n",
       "    </tr>\n",
       "    <tr>\n",
       "      <th>5</th>\n",
       "      <td>technology</td>\n",
       "      <td>-6.0</td>\n",
       "      <td>negative</td>\n",
       "    </tr>\n",
       "    <tr>\n",
       "      <th>6</th>\n",
       "      <td>technology</td>\n",
       "      <td>0.0</td>\n",
       "      <td>neutral</td>\n",
       "    </tr>\n",
       "    <tr>\n",
       "      <th>7</th>\n",
       "      <td>technology</td>\n",
       "      <td>-12.0</td>\n",
       "      <td>negative</td>\n",
       "    </tr>\n",
       "    <tr>\n",
       "      <th>8</th>\n",
       "      <td>technology</td>\n",
       "      <td>-7.0</td>\n",
       "      <td>negative</td>\n",
       "    </tr>\n",
       "    <tr>\n",
       "      <th>9</th>\n",
       "      <td>technology</td>\n",
       "      <td>-1.0</td>\n",
       "      <td>negative</td>\n",
       "    </tr>\n",
       "    <tr>\n",
       "      <th>10</th>\n",
       "      <td>technology</td>\n",
       "      <td>-4.0</td>\n",
       "      <td>negative</td>\n",
       "    </tr>\n",
       "    <tr>\n",
       "      <th>11</th>\n",
       "      <td>technology</td>\n",
       "      <td>5.0</td>\n",
       "      <td>positive</td>\n",
       "    </tr>\n",
       "    <tr>\n",
       "      <th>12</th>\n",
       "      <td>technology</td>\n",
       "      <td>0.0</td>\n",
       "      <td>neutral</td>\n",
       "    </tr>\n",
       "    <tr>\n",
       "      <th>13</th>\n",
       "      <td>technology</td>\n",
       "      <td>-4.0</td>\n",
       "      <td>negative</td>\n",
       "    </tr>\n",
       "    <tr>\n",
       "      <th>14</th>\n",
       "      <td>technology</td>\n",
       "      <td>8.0</td>\n",
       "      <td>positive</td>\n",
       "    </tr>\n",
       "    <tr>\n",
       "      <th>15</th>\n",
       "      <td>technology</td>\n",
       "      <td>0.0</td>\n",
       "      <td>neutral</td>\n",
       "    </tr>\n",
       "    <tr>\n",
       "      <th>16</th>\n",
       "      <td>technology</td>\n",
       "      <td>-10.0</td>\n",
       "      <td>negative</td>\n",
       "    </tr>\n",
       "    <tr>\n",
       "      <th>17</th>\n",
       "      <td>technology</td>\n",
       "      <td>5.0</td>\n",
       "      <td>positive</td>\n",
       "    </tr>\n",
       "    <tr>\n",
       "      <th>18</th>\n",
       "      <td>technology</td>\n",
       "      <td>1.0</td>\n",
       "      <td>positive</td>\n",
       "    </tr>\n",
       "    <tr>\n",
       "      <th>19</th>\n",
       "      <td>technology</td>\n",
       "      <td>0.0</td>\n",
       "      <td>neutral</td>\n",
       "    </tr>\n",
       "    <tr>\n",
       "      <th>20</th>\n",
       "      <td>technology</td>\n",
       "      <td>-16.0</td>\n",
       "      <td>negative</td>\n",
       "    </tr>\n",
       "    <tr>\n",
       "      <th>21</th>\n",
       "      <td>technology</td>\n",
       "      <td>-3.0</td>\n",
       "      <td>negative</td>\n",
       "    </tr>\n",
       "    <tr>\n",
       "      <th>22</th>\n",
       "      <td>technology</td>\n",
       "      <td>0.0</td>\n",
       "      <td>neutral</td>\n",
       "    </tr>\n",
       "    <tr>\n",
       "      <th>23</th>\n",
       "      <td>technology</td>\n",
       "      <td>-4.0</td>\n",
       "      <td>negative</td>\n",
       "    </tr>\n",
       "    <tr>\n",
       "      <th>24</th>\n",
       "      <td>technology</td>\n",
       "      <td>3.0</td>\n",
       "      <td>positive</td>\n",
       "    </tr>\n",
       "    <tr>\n",
       "      <th>25</th>\n",
       "      <td>sports</td>\n",
       "      <td>10.0</td>\n",
       "      <td>positive</td>\n",
       "    </tr>\n",
       "    <tr>\n",
       "      <th>26</th>\n",
       "      <td>sports</td>\n",
       "      <td>4.0</td>\n",
       "      <td>positive</td>\n",
       "    </tr>\n",
       "    <tr>\n",
       "      <th>27</th>\n",
       "      <td>sports</td>\n",
       "      <td>-8.0</td>\n",
       "      <td>negative</td>\n",
       "    </tr>\n",
       "    <tr>\n",
       "      <th>28</th>\n",
       "      <td>sports</td>\n",
       "      <td>18.0</td>\n",
       "      <td>positive</td>\n",
       "    </tr>\n",
       "    <tr>\n",
       "      <th>29</th>\n",
       "      <td>sports</td>\n",
       "      <td>-6.0</td>\n",
       "      <td>negative</td>\n",
       "    </tr>\n",
       "    <tr>\n",
       "      <th>...</th>\n",
       "      <td>...</td>\n",
       "      <td>...</td>\n",
       "      <td>...</td>\n",
       "    </tr>\n",
       "    <tr>\n",
       "      <th>44</th>\n",
       "      <td>sports</td>\n",
       "      <td>1.0</td>\n",
       "      <td>positive</td>\n",
       "    </tr>\n",
       "    <tr>\n",
       "      <th>45</th>\n",
       "      <td>sports</td>\n",
       "      <td>0.0</td>\n",
       "      <td>neutral</td>\n",
       "    </tr>\n",
       "    <tr>\n",
       "      <th>46</th>\n",
       "      <td>sports</td>\n",
       "      <td>-2.0</td>\n",
       "      <td>negative</td>\n",
       "    </tr>\n",
       "    <tr>\n",
       "      <th>47</th>\n",
       "      <td>sports</td>\n",
       "      <td>1.0</td>\n",
       "      <td>positive</td>\n",
       "    </tr>\n",
       "    <tr>\n",
       "      <th>48</th>\n",
       "      <td>sports</td>\n",
       "      <td>4.0</td>\n",
       "      <td>positive</td>\n",
       "    </tr>\n",
       "    <tr>\n",
       "      <th>49</th>\n",
       "      <td>sports</td>\n",
       "      <td>-6.0</td>\n",
       "      <td>negative</td>\n",
       "    </tr>\n",
       "    <tr>\n",
       "      <th>50</th>\n",
       "      <td>world</td>\n",
       "      <td>-11.0</td>\n",
       "      <td>negative</td>\n",
       "    </tr>\n",
       "    <tr>\n",
       "      <th>51</th>\n",
       "      <td>world</td>\n",
       "      <td>-1.0</td>\n",
       "      <td>negative</td>\n",
       "    </tr>\n",
       "    <tr>\n",
       "      <th>52</th>\n",
       "      <td>world</td>\n",
       "      <td>-6.0</td>\n",
       "      <td>negative</td>\n",
       "    </tr>\n",
       "    <tr>\n",
       "      <th>53</th>\n",
       "      <td>world</td>\n",
       "      <td>-11.0</td>\n",
       "      <td>negative</td>\n",
       "    </tr>\n",
       "    <tr>\n",
       "      <th>54</th>\n",
       "      <td>world</td>\n",
       "      <td>-10.0</td>\n",
       "      <td>negative</td>\n",
       "    </tr>\n",
       "    <tr>\n",
       "      <th>55</th>\n",
       "      <td>world</td>\n",
       "      <td>-1.0</td>\n",
       "      <td>negative</td>\n",
       "    </tr>\n",
       "    <tr>\n",
       "      <th>56</th>\n",
       "      <td>world</td>\n",
       "      <td>-3.0</td>\n",
       "      <td>negative</td>\n",
       "    </tr>\n",
       "    <tr>\n",
       "      <th>57</th>\n",
       "      <td>world</td>\n",
       "      <td>1.0</td>\n",
       "      <td>positive</td>\n",
       "    </tr>\n",
       "    <tr>\n",
       "      <th>58</th>\n",
       "      <td>world</td>\n",
       "      <td>-10.0</td>\n",
       "      <td>negative</td>\n",
       "    </tr>\n",
       "    <tr>\n",
       "      <th>59</th>\n",
       "      <td>world</td>\n",
       "      <td>1.0</td>\n",
       "      <td>positive</td>\n",
       "    </tr>\n",
       "    <tr>\n",
       "      <th>60</th>\n",
       "      <td>world</td>\n",
       "      <td>2.0</td>\n",
       "      <td>positive</td>\n",
       "    </tr>\n",
       "    <tr>\n",
       "      <th>61</th>\n",
       "      <td>world</td>\n",
       "      <td>-16.0</td>\n",
       "      <td>negative</td>\n",
       "    </tr>\n",
       "    <tr>\n",
       "      <th>62</th>\n",
       "      <td>world</td>\n",
       "      <td>-8.0</td>\n",
       "      <td>negative</td>\n",
       "    </tr>\n",
       "    <tr>\n",
       "      <th>63</th>\n",
       "      <td>world</td>\n",
       "      <td>-9.0</td>\n",
       "      <td>negative</td>\n",
       "    </tr>\n",
       "    <tr>\n",
       "      <th>64</th>\n",
       "      <td>world</td>\n",
       "      <td>-6.0</td>\n",
       "      <td>negative</td>\n",
       "    </tr>\n",
       "    <tr>\n",
       "      <th>65</th>\n",
       "      <td>world</td>\n",
       "      <td>-7.0</td>\n",
       "      <td>negative</td>\n",
       "    </tr>\n",
       "    <tr>\n",
       "      <th>66</th>\n",
       "      <td>world</td>\n",
       "      <td>-2.0</td>\n",
       "      <td>negative</td>\n",
       "    </tr>\n",
       "    <tr>\n",
       "      <th>67</th>\n",
       "      <td>world</td>\n",
       "      <td>-16.0</td>\n",
       "      <td>negative</td>\n",
       "    </tr>\n",
       "    <tr>\n",
       "      <th>68</th>\n",
       "      <td>world</td>\n",
       "      <td>5.0</td>\n",
       "      <td>positive</td>\n",
       "    </tr>\n",
       "    <tr>\n",
       "      <th>69</th>\n",
       "      <td>world</td>\n",
       "      <td>-3.0</td>\n",
       "      <td>negative</td>\n",
       "    </tr>\n",
       "    <tr>\n",
       "      <th>70</th>\n",
       "      <td>world</td>\n",
       "      <td>-6.0</td>\n",
       "      <td>negative</td>\n",
       "    </tr>\n",
       "    <tr>\n",
       "      <th>71</th>\n",
       "      <td>world</td>\n",
       "      <td>-3.0</td>\n",
       "      <td>negative</td>\n",
       "    </tr>\n",
       "    <tr>\n",
       "      <th>72</th>\n",
       "      <td>world</td>\n",
       "      <td>-8.0</td>\n",
       "      <td>negative</td>\n",
       "    </tr>\n",
       "    <tr>\n",
       "      <th>73</th>\n",
       "      <td>world</td>\n",
       "      <td>6.0</td>\n",
       "      <td>positive</td>\n",
       "    </tr>\n",
       "  </tbody>\n",
       "</table>\n",
       "<p>74 rows × 3 columns</p>\n",
       "</div>"
      ],
      "text/plain": [
       "   news_category  sentiment_score sentiment_category\n",
       "0     technology              6.0           positive\n",
       "1     technology              3.0           positive\n",
       "2     technology              7.0           positive\n",
       "3     technology             -3.0           negative\n",
       "4     technology              1.0           positive\n",
       "5     technology             -6.0           negative\n",
       "6     technology              0.0            neutral\n",
       "7     technology            -12.0           negative\n",
       "8     technology             -7.0           negative\n",
       "9     technology             -1.0           negative\n",
       "10    technology             -4.0           negative\n",
       "11    technology              5.0           positive\n",
       "12    technology              0.0            neutral\n",
       "13    technology             -4.0           negative\n",
       "14    technology              8.0           positive\n",
       "15    technology              0.0            neutral\n",
       "16    technology            -10.0           negative\n",
       "17    technology              5.0           positive\n",
       "18    technology              1.0           positive\n",
       "19    technology              0.0            neutral\n",
       "20    technology            -16.0           negative\n",
       "21    technology             -3.0           negative\n",
       "22    technology              0.0            neutral\n",
       "23    technology             -4.0           negative\n",
       "24    technology              3.0           positive\n",
       "25        sports             10.0           positive\n",
       "26        sports              4.0           positive\n",
       "27        sports             -8.0           negative\n",
       "28        sports             18.0           positive\n",
       "29        sports             -6.0           negative\n",
       "..           ...              ...                ...\n",
       "44        sports              1.0           positive\n",
       "45        sports              0.0            neutral\n",
       "46        sports             -2.0           negative\n",
       "47        sports              1.0           positive\n",
       "48        sports              4.0           positive\n",
       "49        sports             -6.0           negative\n",
       "50         world            -11.0           negative\n",
       "51         world             -1.0           negative\n",
       "52         world             -6.0           negative\n",
       "53         world            -11.0           negative\n",
       "54         world            -10.0           negative\n",
       "55         world             -1.0           negative\n",
       "56         world             -3.0           negative\n",
       "57         world              1.0           positive\n",
       "58         world            -10.0           negative\n",
       "59         world              1.0           positive\n",
       "60         world              2.0           positive\n",
       "61         world            -16.0           negative\n",
       "62         world             -8.0           negative\n",
       "63         world             -9.0           negative\n",
       "64         world             -6.0           negative\n",
       "65         world             -7.0           negative\n",
       "66         world             -2.0           negative\n",
       "67         world            -16.0           negative\n",
       "68         world              5.0           positive\n",
       "69         world             -3.0           negative\n",
       "70         world             -6.0           negative\n",
       "71         world             -3.0           negative\n",
       "72         world             -8.0           negative\n",
       "73         world              6.0           positive\n",
       "\n",
       "[74 rows x 3 columns]"
      ]
     },
     "execution_count": 89,
     "metadata": {},
     "output_type": "execute_result"
    }
   ],
   "source": [
    "df"
   ]
  },
  {
   "cell_type": "code",
   "execution_count": 90,
   "metadata": {
    "colab": {},
    "colab_type": "code",
    "id": "N59YTrknwyVA"
   },
   "outputs": [],
   "source": [
    "pos_idx = df[(df.news_category=='technology') & (df.sentiment_score == 5)].index[0]"
   ]
  },
  {
   "cell_type": "code",
   "execution_count": 91,
   "metadata": {
    "colab": {},
    "colab_type": "code",
    "id": "ldum_5xzwyVB"
   },
   "outputs": [],
   "source": [
    "neg_idx = df[(df.news_category=='technology') & (df.sentiment_score == -1)].index[0]"
   ]
  },
  {
   "cell_type": "code",
   "execution_count": 92,
   "metadata": {
    "colab": {},
    "colab_type": "code",
    "id": "FL3HTOD6wyVD",
    "outputId": "e543f68a-df49-417a-dd57-42818226915e"
   },
   "outputs": [
    {
     "name": "stdout",
     "output_type": "stream",
     "text": [
      "Most Negative Tech News Article: Facebook is the highest stipend paying company to interns in the US in 2019, with a median monthly pay of $8,000 (₹5.6 lakh), Glassdoor survey has found. Facebook is followed by Amazon and Salesforce, with median monthly pays of $7,725 (₹5.41 lakh) and $7,667 (₹5.37 lakh) respectively. Google is fourth-highest stipend paying company in the US at $7,500 (₹5.25 lakh).\n",
      "\n",
      "Most Positive Tech News Article: Munich-based startup Lilium unveiled what it claims is the world's first all-electric, jet-powered, five-seater air taxi prototype after successfully completing the full-scale prototype's maiden test earlier this month. The air taxi will have a 300 km range with a top speed of 300 kmph. Lilium intends to be operational in cities globally by 2025, providing an app-based air taxi service.\n"
     ]
    }
   ],
   "source": [
    "print('Most Negative Tech News Article:', news_df.iloc[neg_idx][['news_article']][0])\n",
    "print()\n",
    "print('Most Positive Tech News Article:', news_df.iloc[pos_idx][['news_article']][0])"
   ]
  },
  {
   "cell_type": "code",
   "execution_count": 94,
   "metadata": {
    "colab": {},
    "colab_type": "code",
    "id": "2MljKitXwyVF",
    "outputId": "bbdb7976-e932-4818-d924-1d923f1b17f6"
   },
   "outputs": [
    {
     "name": "stdout",
     "output_type": "stream",
     "text": [
      "Most Negative World News Article: An F-16 fighter jet being flown in routine training exercises crashed into a commercial building just outside March Air Reserve Base in US' California on Thursday. The pilot ejected from the jet safely and no injuries were reported in the incident. The incident's video shows a big hole in the roof of the building because of the aircraft crash.\n",
      "\n",
      "Most Positive World News Article: Tariffs on the iPhone's China-made batteries and other components would increase its manufacturing cost by 2% to 3%, a report said, adding Apple would need to increase iPhone prices by a similar amount to make the same profit. The US raised tariffs on $200 billion worth of Chinese products and China retaliated with tariffs on $60 billion of US goods.\n"
     ]
    }
   ],
   "source": [
    "pos_idx = df[(df.news_category=='world') & (df.sentiment_score == 5)].index[0]\n",
    "neg_idx = df[(df.news_category=='world') & (df.sentiment_score == -2)].index[0]\n",
    "\n",
    "print('Most Negative World News Article:', news_df.iloc[neg_idx][['news_article']][0])\n",
    "print()\n",
    "print('Most Positive World News Article:', news_df.iloc[pos_idx][['news_article']][0])"
   ]
  },
  {
   "cell_type": "code",
   "execution_count": 96,
   "metadata": {},
   "outputs": [
    {
     "name": "stdout",
     "output_type": "stream",
     "text": [
      "Collecting textblob\n",
      "  Downloading https://files.pythonhosted.org/packages/60/f0/1d9bfcc8ee6b83472ec571406bd0dd51c0e6330ff1a51b2d29861d389e85/textblob-0.15.3-py2.py3-none-any.whl (636kB)\n",
      "Requirement already satisfied: nltk>=3.1 in c:\\users\\gopin\\anaconda3\\lib\\site-packages (from textblob) (3.3)\n",
      "Requirement already satisfied: six in c:\\users\\gopin\\anaconda3\\lib\\site-packages (from nltk>=3.1->textblob) (1.11.0)\n",
      "Installing collected packages: textblob\n",
      "Successfully installed textblob-0.15.3\n"
     ]
    }
   ],
   "source": [
    "! pip install textblob"
   ]
  },
  {
   "cell_type": "code",
   "execution_count": 97,
   "metadata": {
    "colab": {},
    "colab_type": "code",
    "id": "sAbDgNxvwyVJ"
   },
   "outputs": [],
   "source": [
    "from textblob import TextBlob"
   ]
  },
  {
   "cell_type": "code",
   "execution_count": 98,
   "metadata": {
    "colab": {},
    "colab_type": "code",
    "id": "ewzRy7zAwyVM"
   },
   "outputs": [],
   "source": [
    "sentiment_scores_tb = [round(TextBlob(article).sentiment.polarity, 3) for article in news_df['clean_text']]"
   ]
  },
  {
   "cell_type": "code",
   "execution_count": 99,
   "metadata": {
    "colab": {},
    "colab_type": "code",
    "id": "dQyOoH2pwyVO"
   },
   "outputs": [],
   "source": [
    "sentiment_category_tb = ['positive' if score > 0 \n",
    "                             else 'negative' if score < 0 \n",
    "                                 else 'neutral' \n",
    "                                     for score in sentiment_scores_tb]"
   ]
  },
  {
   "cell_type": "code",
   "execution_count": 100,
   "metadata": {
    "colab": {},
    "colab_type": "code",
    "id": "t59ORMF8wyVQ",
    "outputId": "47c3f857-afbe-4cd2-9610-1a01261a1e4c"
   },
   "outputs": [
    {
     "data": {
      "text/html": [
       "<div>\n",
       "<style scoped>\n",
       "    .dataframe tbody tr th:only-of-type {\n",
       "        vertical-align: middle;\n",
       "    }\n",
       "\n",
       "    .dataframe tbody tr th {\n",
       "        vertical-align: top;\n",
       "    }\n",
       "\n",
       "    .dataframe thead tr th {\n",
       "        text-align: left;\n",
       "    }\n",
       "\n",
       "    .dataframe thead tr:last-of-type th {\n",
       "        text-align: right;\n",
       "    }\n",
       "</style>\n",
       "<table border=\"1\" class=\"dataframe\">\n",
       "  <thead>\n",
       "    <tr>\n",
       "      <th></th>\n",
       "      <th colspan=\"8\" halign=\"left\">sentiment_score</th>\n",
       "    </tr>\n",
       "    <tr>\n",
       "      <th></th>\n",
       "      <th>count</th>\n",
       "      <th>mean</th>\n",
       "      <th>std</th>\n",
       "      <th>min</th>\n",
       "      <th>25%</th>\n",
       "      <th>50%</th>\n",
       "      <th>75%</th>\n",
       "      <th>max</th>\n",
       "    </tr>\n",
       "    <tr>\n",
       "      <th>news_category</th>\n",
       "      <th></th>\n",
       "      <th></th>\n",
       "      <th></th>\n",
       "      <th></th>\n",
       "      <th></th>\n",
       "      <th></th>\n",
       "      <th></th>\n",
       "      <th></th>\n",
       "    </tr>\n",
       "  </thead>\n",
       "  <tbody>\n",
       "    <tr>\n",
       "      <th>sports</th>\n",
       "      <td>25.0</td>\n",
       "      <td>0.05624</td>\n",
       "      <td>0.158251</td>\n",
       "      <td>-0.34</td>\n",
       "      <td>-0.02900</td>\n",
       "      <td>0.025</td>\n",
       "      <td>0.163</td>\n",
       "      <td>0.434</td>\n",
       "    </tr>\n",
       "    <tr>\n",
       "      <th>technology</th>\n",
       "      <td>25.0</td>\n",
       "      <td>0.02180</td>\n",
       "      <td>0.174249</td>\n",
       "      <td>-0.30</td>\n",
       "      <td>-0.06700</td>\n",
       "      <td>0.000</td>\n",
       "      <td>0.097</td>\n",
       "      <td>0.400</td>\n",
       "    </tr>\n",
       "    <tr>\n",
       "      <th>world</th>\n",
       "      <td>24.0</td>\n",
       "      <td>0.02700</td>\n",
       "      <td>0.180832</td>\n",
       "      <td>-0.30</td>\n",
       "      <td>-0.12125</td>\n",
       "      <td>0.039</td>\n",
       "      <td>0.152</td>\n",
       "      <td>0.367</td>\n",
       "    </tr>\n",
       "  </tbody>\n",
       "</table>\n",
       "</div>"
      ],
      "text/plain": [
       "              sentiment_score                                                  \\\n",
       "                        count     mean       std   min      25%    50%    75%   \n",
       "news_category                                                                   \n",
       "sports                   25.0  0.05624  0.158251 -0.34 -0.02900  0.025  0.163   \n",
       "technology               25.0  0.02180  0.174249 -0.30 -0.06700  0.000  0.097   \n",
       "world                    24.0  0.02700  0.180832 -0.30 -0.12125  0.039  0.152   \n",
       "\n",
       "                      \n",
       "                 max  \n",
       "news_category         \n",
       "sports         0.434  \n",
       "technology     0.400  \n",
       "world          0.367  "
      ]
     },
     "execution_count": 100,
     "metadata": {},
     "output_type": "execute_result"
    }
   ],
   "source": [
    "df = pd.DataFrame([list(news_df['news_category']), sentiment_scores_tb, sentiment_category_tb]).T\n",
    "df.columns = ['news_category', 'sentiment_score', 'sentiment_category']\n",
    "df['sentiment_score'] = df.sentiment_score.astype('float')\n",
    "df.groupby(by=['news_category']).describe()"
   ]
  },
  {
   "cell_type": "code",
   "execution_count": 101,
   "metadata": {
    "colab": {},
    "colab_type": "code",
    "id": "GLIl-RV2wyVT",
    "outputId": "5798802d-c33e-4646-ceda-60485d269955"
   },
   "outputs": [
    {
     "data": {
      "text/html": [
       "<div>\n",
       "<style scoped>\n",
       "    .dataframe tbody tr th:only-of-type {\n",
       "        vertical-align: middle;\n",
       "    }\n",
       "\n",
       "    .dataframe tbody tr th {\n",
       "        vertical-align: top;\n",
       "    }\n",
       "\n",
       "    .dataframe thead th {\n",
       "        text-align: right;\n",
       "    }\n",
       "</style>\n",
       "<table border=\"1\" class=\"dataframe\">\n",
       "  <thead>\n",
       "    <tr style=\"text-align: right;\">\n",
       "      <th></th>\n",
       "      <th>news_category</th>\n",
       "      <th>sentiment_score</th>\n",
       "      <th>sentiment_category</th>\n",
       "    </tr>\n",
       "  </thead>\n",
       "  <tbody>\n",
       "    <tr>\n",
       "      <th>0</th>\n",
       "      <td>technology</td>\n",
       "      <td>0.298</td>\n",
       "      <td>positive</td>\n",
       "    </tr>\n",
       "    <tr>\n",
       "      <th>1</th>\n",
       "      <td>technology</td>\n",
       "      <td>0.350</td>\n",
       "      <td>positive</td>\n",
       "    </tr>\n",
       "    <tr>\n",
       "      <th>2</th>\n",
       "      <td>technology</td>\n",
       "      <td>-0.054</td>\n",
       "      <td>negative</td>\n",
       "    </tr>\n",
       "    <tr>\n",
       "      <th>3</th>\n",
       "      <td>technology</td>\n",
       "      <td>-0.221</td>\n",
       "      <td>negative</td>\n",
       "    </tr>\n",
       "    <tr>\n",
       "      <th>4</th>\n",
       "      <td>technology</td>\n",
       "      <td>0.000</td>\n",
       "      <td>neutral</td>\n",
       "    </tr>\n",
       "  </tbody>\n",
       "</table>\n",
       "</div>"
      ],
      "text/plain": [
       "  news_category  sentiment_score sentiment_category\n",
       "0    technology            0.298           positive\n",
       "1    technology            0.350           positive\n",
       "2    technology           -0.054           negative\n",
       "3    technology           -0.221           negative\n",
       "4    technology            0.000            neutral"
      ]
     },
     "execution_count": 101,
     "metadata": {},
     "output_type": "execute_result"
    }
   ],
   "source": [
    "df.head()"
   ]
  },
  {
   "cell_type": "code",
   "execution_count": 102,
   "metadata": {
    "colab": {},
    "colab_type": "code",
    "id": "EYgqpW0iwyVV",
    "outputId": "33edc03c-622b-41da-f488-e7282082c32f"
   },
   "outputs": [
    {
     "data": {
      "image/png": "[encoded data removed]",
      "text/plain": [
       "<Figure size 395.5x288 with 1 Axes>"
      ]
     },
     "metadata": {},
     "output_type": "display_data"
    }
   ],
   "source": [
    "fc = sns.factorplot(x=\"news_category\", hue=\"sentiment_category\", \n",
    "                    data=df, kind=\"count\", \n",
    "                    palette={\"negative\": \"#FE2020\", \n",
    "                             \"positive\": \"#BADD07\", \n",
    "                             \"neutral\": \"#68BFF5\"})"
   ]
  },
  {
   "cell_type": "code",
   "execution_count": 103,
   "metadata": {
    "colab": {},
    "colab_type": "code",
    "id": "9IYEee2zwyVW",
    "outputId": "8819c16c-b3b8-4411-f95a-1b29b76edcfa"
   },
   "outputs": [
    {
     "name": "stdout",
     "output_type": "stream",
     "text": [
      "Most Negative World News Article: A 28-year-old Indian citizen has been jailed for 29 months after he pleaded guilty of stalking a woman over a period of 18 months in UK. The convict, Rohit Sharma, met the woman in 2017 when she served in a shop in London and asked her to marry him the same day. Sharma used to call her 40 times daily.\n",
      "\n",
      "Most Positive World News Article: Police in Chicago have charged three people in connection with the murder of a pregnant teenager whose unborn baby was cut out of her womb after her death. Police said 19-year-old Marlen Ochoa-Lopez was lured to the home of someone she knew in April with the promise of free baby supplies. Ochoa-Lopez's body was found in garbage earlier this week.\n"
     ]
    }
   ],
   "source": [
    "pos_idx = df[(df.news_category=='world') & (df.sentiment_score > 0.)].index[0]\n",
    "neg_idx = df[(df.news_category=='world') & (df.sentiment_score < -0.)].index[0]\n",
    "\n",
    "print('Most Negative World News Article:', news_df.iloc[neg_idx][['news_article']][0])\n",
    "print()\n",
    "print('Most Positive World News Article:', news_df.iloc[pos_idx][['news_article']][0])"
   ]
  },
  {
   "cell_type": "code",
   "execution_count": 105,
   "metadata": {},
   "outputs": [
    {
     "name": "stdout",
     "output_type": "stream",
     "text": [
      "Collecting model_evaluation_utils\n"
     ]
    },
    {
     "name": "stderr",
     "output_type": "stream",
     "text": [
      "  ERROR: Could not find a version that satisfies the requirement model_evaluation_utils (from versions: none)\n",
      "ERROR: No matching distribution found for model_evaluation_utils\n"
     ]
    }
   ],
   "source": [
    "! pip install model_evaluation_utils"
   ]
  },
  {
   "cell_type": "code",
   "execution_count": 108,
   "metadata": {
    "colab": {},
    "colab_type": "code",
    "id": "D7-kyFWIwyVY",
    "outputId": "e7487f2a-e544-4f02-bbcf-53eca55f9534"
   },
   "outputs": [
    {
     "name": "stdout",
     "output_type": "stream",
     "text": [
      "                 Predicted:                 \n",
      "                   negative neutral positive\n",
      "Actual: negative         20       4       15\n",
      "        neutral           4       0        5\n",
      "        positive          3       3       20\n"
     ]
    }
   ],
   "source": [
    "import model_evaluation_utils as meu\n",
    "meu.display_confusion_matrix(true_labels=sentiment_category, \n",
    "                                    predicted_labels=sentiment_category_tb, \n",
    "                                    classes=['negative', 'neutral', 'positive'])"
   ]
  },
  {
   "cell_type": "code",
   "execution_count": 109,
   "metadata": {
    "colab": {},
    "colab_type": "code",
    "id": "pEf4y89awyVc"
   },
   "outputs": [
    {
     "name": "stdout",
     "output_type": "stream",
     "text": [
      "Collecting sklearn-evaluation\n",
      "  Downloading https://files.pythonhosted.org/packages/a3/25/1e4e6462aeffb185ada97c9ff5a7b7ca59544e418541e3babd59f7171c0b/sklearn-evaluation-0.5.tar.gz\n",
      "Requirement already satisfied: scikit-learn in c:\\users\\gopin\\anaconda3\\lib\\site-packages (from sklearn-evaluation) (0.20.1)\n",
      "Requirement already satisfied: matplotlib in c:\\users\\gopin\\anaconda3\\lib\\site-packages (from sklearn-evaluation) (2.2.2)\n",
      "Requirement already satisfied: decorator in c:\\users\\gopin\\anaconda3\\lib\\site-packages (from sklearn-evaluation) (4.3.0)\n",
      "Requirement already satisfied: jinja2 in c:\\users\\gopin\\anaconda3\\lib\\site-packages (from sklearn-evaluation) (2.10)\n",
      "Collecting tabulate (from sklearn-evaluation)\n",
      "  Downloading https://files.pythonhosted.org/packages/c2/fd/202954b3f0eb896c53b7b6f07390851b1fd2ca84aa95880d7ae4f434c4ac/tabulate-0.8.3.tar.gz (46kB)\n",
      "Requirement already satisfied: mistune in c:\\users\\gopin\\anaconda3\\lib\\site-packages (from sklearn-evaluation) (0.8.3)\n",
      "Requirement already satisfied: numpy>=1.8.2 in c:\\users\\gopin\\anaconda3\\lib\\site-packages (from scikit-learn->sklearn-evaluation) (1.16.3)\n",
      "Requirement already satisfied: scipy>=0.13.3 in c:\\users\\gopin\\anaconda3\\lib\\site-packages (from scikit-learn->sklearn-evaluation) (1.1.0)\n",
      "Requirement already satisfied: cycler>=0.10 in c:\\users\\gopin\\anaconda3\\lib\\site-packages (from matplotlib->sklearn-evaluation) (0.10.0)\n",
      "Requirement already satisfied: pyparsing!=2.0.4,!=2.1.2,!=2.1.6,>=2.0.1 in c:\\users\\gopin\\anaconda3\\lib\\site-packages (from matplotlib->sklearn-evaluation) (2.2.0)\n",
      "Requirement already satisfied: python-dateutil>=2.1 in c:\\users\\gopin\\anaconda3\\lib\\site-packages (from matplotlib->sklearn-evaluation) (2.7.3)\n",
      "Requirement already satisfied: pytz in c:\\users\\gopin\\anaconda3\\lib\\site-packages (from matplotlib->sklearn-evaluation) (2018.4)\n",
      "Requirement already satisfied: six>=1.10 in c:\\users\\gopin\\anaconda3\\lib\\site-packages (from matplotlib->sklearn-evaluation) (1.11.0)\n",
      "Requirement already satisfied: kiwisolver>=1.0.1 in c:\\users\\gopin\\anaconda3\\lib\\site-packages (from matplotlib->sklearn-evaluation) (1.0.1)\n",
      "Requirement already satisfied: MarkupSafe>=0.23 in c:\\users\\gopin\\anaconda3\\lib\\site-packages (from jinja2->sklearn-evaluation) (1.0)\n",
      "Requirement already satisfied: setuptools in c:\\users\\gopin\\anaconda3\\lib\\site-packages (from kiwisolver>=1.0.1->matplotlib->sklearn-evaluation) (39.1.0)\n",
      "Building wheels for collected packages: sklearn-evaluation, tabulate\n",
      "  Building wheel for sklearn-evaluation (setup.py): started\n",
      "  Building wheel for sklearn-evaluation (setup.py): finished with status 'done'\n",
      "  Stored in directory: C:\\Users\\gopin\\AppData\\Local\\pip\\Cache\\wheels\\a8\\38\\0d\\9103d63a0189c6e3b4ecc6f03e40c1b6762b1ff55612a7313c\n",
      "  Building wheel for tabulate (setup.py): started\n",
      "  Building wheel for tabulate (setup.py): finished with status 'done'\n",
      "  Stored in directory: C:\\Users\\gopin\\AppData\\Local\\pip\\Cache\\wheels\\2b\\67\\89\\414471314a2d15de625d184d8be6d38a03ae1e983dbda91e84\n",
      "Successfully built sklearn-evaluation tabulate\n",
      "Installing collected packages: tabulate, sklearn-evaluation\n",
      "Successfully installed sklearn-evaluation-0.5 tabulate-0.8.3\n"
     ]
    }
   ],
   "source": [
    "!pip install sklearn-evaluation"
   ]
  },
  {
   "cell_type": "code",
   "execution_count": null,
   "metadata": {},
   "outputs": [],
   "source": []
  }
 ],
 "metadata": {
  "colab": {
   "name": "Text Pre-processing-NER-POS.ipynb",
   "provenance": [],
   "version": "0.3.2"
  },
  "kernelspec": {
   "display_name": "Python 3",
   "language": "python",
   "name": "python3"
  },
  "language_info": {
   "codemirror_mode": {
    "name": "ipython",
    "version": 3
   },
   "file_extension": ".py",
   "mimetype": "text/x-python",
   "name": "python",
   "nbconvert_exporter": "python",
   "pygments_lexer": "ipython3",
   "version": "3.6.5"
  }
 },
 "nbformat": 4,
 "nbformat_minor": 1
}
