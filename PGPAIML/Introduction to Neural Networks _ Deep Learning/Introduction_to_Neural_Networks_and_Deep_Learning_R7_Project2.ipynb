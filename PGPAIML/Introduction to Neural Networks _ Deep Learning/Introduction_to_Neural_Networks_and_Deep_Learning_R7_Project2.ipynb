{
  "nbformat": 4,
  "nbformat_minor": 0,
  "metadata": {
    "colab": {
      "name": "Introduction to Neural Networks and Deep Learning_R7_Project2.ipynb",
      "version": "0.3.2",
      "provenance": [],
      "collapsed_sections": []
    },
    "kernelspec": {
      "name": "python3",
      "display_name": "Python 3"
    },
    "accelerator": "GPU"
  },
  "cells": [
    {
      "cell_type": "code",
      "metadata": {
        "id": "g24MDPZ0GHgI",
        "colab_type": "code",
        "colab": {}
      },
      "source": [
        "import numpy as np\n",
        "import tensorflow as tf\n",
        "import h5py\n",
        "import pandas as pd"
      ],
      "execution_count": 0,
      "outputs": []
    },
    {
      "cell_type": "code",
      "metadata": {
        "id": "CO56VQp-HyJI",
        "colab_type": "code",
        "colab": {
          "base_uri": "https://localhost:8080/",
          "height": 121
        },
        "outputId": "3565c9d7-aa7e-4d13-b891-87c3d29344c2"
      },
      "source": [
        "from google.colab import drive\n",
        "drive.mount('/gdrive')"
      ],
      "execution_count": 2,
      "outputs": [
        {
          "output_type": "stream",
          "text": [
            "Go to this URL in a browser: https://accounts.google.com/o/oauth2/auth?client_id=947318989803-6bn6qk8qdgf4n4g3pfee6491hc0brc4i.apps.googleusercontent.com&redirect_uri=urn%3Aietf%3Awg%3Aoauth%3A2.0%3Aoob&scope=email%20https%3A%2F%2Fwww.googleapis.com%2Fauth%2Fdocs.test%20https%3A%2F%2Fwww.googleapis.com%2Fauth%2Fdrive%20https%3A%2F%2Fwww.googleapis.com%2Fauth%2Fdrive.photos.readonly%20https%3A%2F%2Fwww.googleapis.com%2Fauth%2Fpeopleapi.readonly&response_type=code\n",
            "\n",
            "Enter your authorization code:\n",
            "··········\n",
            "Mounted at /gdrive\n"
          ],
          "name": "stdout"
        }
      ]
    },
    {
      "cell_type": "code",
      "metadata": {
        "id": "gX_ZS5iEInVP",
        "colab_type": "code",
        "colab": {}
      },
      "source": [
        "h5f = h5py.File('/gdrive/My Drive/Colab Notebooks/Introduction to Neural Networks & Deep Learning/Data/SVHN_single_grey1.h5','r')"
      ],
      "execution_count": 0,
      "outputs": []
    },
    {
      "cell_type": "code",
      "metadata": {
        "id": "FM9O87AeI8vO",
        "colab_type": "code",
        "colab": {}
      },
      "source": [
        "X_train = h5f['X_train'][:]\n",
        "X_test = h5f['X_test'][:]\n",
        "y_train = h5f['y_train'][:]\n",
        "y_test = h5f['y_test'][:]"
      ],
      "execution_count": 0,
      "outputs": []
    },
    {
      "cell_type": "code",
      "metadata": {
        "id": "lZ2szTJvJSUI",
        "colab_type": "code",
        "colab": {}
      },
      "source": [
        "h5f.close()"
      ],
      "execution_count": 0,
      "outputs": []
    },
    {
      "cell_type": "code",
      "metadata": {
        "id": "5r5n8WtvJU7D",
        "colab_type": "code",
        "colab": {
          "base_uri": "https://localhost:8080/",
          "height": 34
        },
        "outputId": "8f4a1f51-1480-42ea-d9e8-de1b01f1d201"
      },
      "source": [
        "X_train.shape"
      ],
      "execution_count": 6,
      "outputs": [
        {
          "output_type": "execute_result",
          "data": {
            "text/plain": [
              "(42000, 32, 32)"
            ]
          },
          "metadata": {
            "tags": []
          },
          "execution_count": 6
        }
      ]
    },
    {
      "cell_type": "code",
      "metadata": {
        "id": "fJwYgEjVJaYw",
        "colab_type": "code",
        "colab": {
          "base_uri": "https://localhost:8080/",
          "height": 34
        },
        "outputId": "b1237192-e095-4e57-c7ef-e7e2a1ab02f3"
      },
      "source": [
        "y_train.shape"
      ],
      "execution_count": 7,
      "outputs": [
        {
          "output_type": "execute_result",
          "data": {
            "text/plain": [
              "(42000,)"
            ]
          },
          "metadata": {
            "tags": []
          },
          "execution_count": 7
        }
      ]
    },
    {
      "cell_type": "code",
      "metadata": {
        "id": "d5-cIHfmJi0-",
        "colab_type": "code",
        "colab": {
          "base_uri": "https://localhost:8080/",
          "height": 34
        },
        "outputId": "f5e472d2-999c-46e9-8fc4-e8d6b2eefb83"
      },
      "source": [
        "X_test.shape"
      ],
      "execution_count": 8,
      "outputs": [
        {
          "output_type": "execute_result",
          "data": {
            "text/plain": [
              "(18000, 32, 32)"
            ]
          },
          "metadata": {
            "tags": []
          },
          "execution_count": 8
        }
      ]
    },
    {
      "cell_type": "code",
      "metadata": {
        "id": "uo40qHfTJqrs",
        "colab_type": "code",
        "colab": {
          "base_uri": "https://localhost:8080/",
          "height": 34
        },
        "outputId": "36e67aed-a97d-4158-ed26-ad3faba0d68f"
      },
      "source": [
        "y_test.shape"
      ],
      "execution_count": 9,
      "outputs": [
        {
          "output_type": "execute_result",
          "data": {
            "text/plain": [
              "(18000,)"
            ]
          },
          "metadata": {
            "tags": []
          },
          "execution_count": 9
        }
      ]
    },
    {
      "cell_type": "code",
      "metadata": {
        "id": "q6Je0xvjcE1V",
        "colab_type": "code",
        "colab": {}
      },
      "source": [
        "# Creating a subset of train and test data for kmeans classifier (As running with the complete data is consuming a lot of time)\n",
        "\n",
        "# Reshaping the data\n",
        "\n",
        "X_train_2 = np.reshape(X_train,(42000,1024))\n",
        "X_test_2 = np.reshape(X_test,(18000,1024))"
      ],
      "execution_count": 0,
      "outputs": []
    },
    {
      "cell_type": "code",
      "metadata": {
        "id": "HJQ3F1hGQfCh",
        "colab_type": "code",
        "colab": {
          "base_uri": "https://localhost:8080/",
          "height": 34
        },
        "outputId": "94918bab-66c5-4338-dd47-5fb1a0e93b21"
      },
      "source": [
        "X_train_2.shape"
      ],
      "execution_count": 11,
      "outputs": [
        {
          "output_type": "execute_result",
          "data": {
            "text/plain": [
              "(42000, 1024)"
            ]
          },
          "metadata": {
            "tags": []
          },
          "execution_count": 11
        }
      ]
    },
    {
      "cell_type": "code",
      "metadata": {
        "id": "8OH20i7CcmZw",
        "colab_type": "code",
        "colab": {}
      },
      "source": [
        "# Taking subset of Training and testing data for KNN\n",
        "\n",
        "X_train_3 = X_train_2[:3000]\n",
        "X_test_3 = X_test_2[:1000]\n",
        "y_train_2 = y_train[:3000]\n",
        "y_test_2 = y_test[:1000]"
      ],
      "execution_count": 0,
      "outputs": []
    },
    {
      "cell_type": "code",
      "metadata": {
        "id": "MCSpbkp1RCvi",
        "colab_type": "code",
        "colab": {}
      },
      "source": [
        "# KNeighbors Classifier\n",
        "from sklearn.neighbors import KNeighborsClassifier\n",
        "knn = KNeighborsClassifier(n_neighbors= 5 , weights = 'distance')"
      ],
      "execution_count": 0,
      "outputs": []
    },
    {
      "cell_type": "code",
      "metadata": {
        "id": "0GOSaADgSl8r",
        "colab_type": "code",
        "colab": {
          "base_uri": "https://localhost:8080/",
          "height": 67
        },
        "outputId": "0588f17e-29e1-480a-9ac7-eb2c53cb116d"
      },
      "source": [
        "knn.fit(X_train_3, y_train_2)"
      ],
      "execution_count": 14,
      "outputs": [
        {
          "output_type": "execute_result",
          "data": {
            "text/plain": [
              "KNeighborsClassifier(algorithm='auto', leaf_size=30, metric='minkowski',\n",
              "           metric_params=None, n_jobs=None, n_neighbors=5, p=2,\n",
              "           weights='distance')"
            ]
          },
          "metadata": {
            "tags": []
          },
          "execution_count": 14
        }
      ]
    },
    {
      "cell_type": "code",
      "metadata": {
        "id": "ySjAwwTWS373",
        "colab_type": "code",
        "colab": {}
      },
      "source": [
        "y_pred = knn.predict(X_test_3)"
      ],
      "execution_count": 0,
      "outputs": []
    },
    {
      "cell_type": "code",
      "metadata": {
        "id": "YB1JmKMpS-B9",
        "colab_type": "code",
        "colab": {
          "base_uri": "https://localhost:8080/",
          "height": 34
        },
        "outputId": "4f9aae8f-0c4c-4681-86cb-2a9f47c6b4c6"
      },
      "source": [
        "knn.score(X_test_3, y_test_2)"
      ],
      "execution_count": 16,
      "outputs": [
        {
          "output_type": "execute_result",
          "data": {
            "text/plain": [
              "0.354"
            ]
          },
          "metadata": {
            "tags": []
          },
          "execution_count": 16
        }
      ]
    },
    {
      "cell_type": "markdown",
      "metadata": {
        "id": "SHpACQRJvnnU",
        "colab_type": "text"
      },
      "source": [
        "Ideally should have used grid search to fine tune the hyper parameters. But as it was consuming lot of time, manually checking the ideal n_neighbors"
      ]
    },
    {
      "cell_type": "code",
      "metadata": {
        "id": "SWCeJA3yijwS",
        "colab_type": "code",
        "colab": {
          "base_uri": "https://localhost:8080/",
          "height": 67
        },
        "outputId": "b51c35b4-7b4e-4b68-8d28-24ec73c83daa"
      },
      "source": [
        "knn2 = KNeighborsClassifier(n_neighbors= 10 , weights = 'distance')\n",
        "knn2.fit(X_train_3, y_train_2)"
      ],
      "execution_count": 20,
      "outputs": [
        {
          "output_type": "execute_result",
          "data": {
            "text/plain": [
              "KNeighborsClassifier(algorithm='auto', leaf_size=30, metric='minkowski',\n",
              "           metric_params=None, n_jobs=None, n_neighbors=10, p=2,\n",
              "           weights='distance')"
            ]
          },
          "metadata": {
            "tags": []
          },
          "execution_count": 20
        }
      ]
    },
    {
      "cell_type": "code",
      "metadata": {
        "id": "FDFJko8OivmV",
        "colab_type": "code",
        "colab": {
          "base_uri": "https://localhost:8080/",
          "height": 34
        },
        "outputId": "a5234271-e0f6-4bf9-ae02-9c1ffbd82a03"
      },
      "source": [
        "knn2.score(X_test_3, y_test_2)"
      ],
      "execution_count": 21,
      "outputs": [
        {
          "output_type": "execute_result",
          "data": {
            "text/plain": [
              "0.369"
            ]
          },
          "metadata": {
            "tags": []
          },
          "execution_count": 21
        }
      ]
    },
    {
      "cell_type": "code",
      "metadata": {
        "id": "VNBEy5bpvD-0",
        "colab_type": "code",
        "colab": {
          "base_uri": "https://localhost:8080/",
          "height": 67
        },
        "outputId": "b6d52a61-af29-49a2-e333-98df0aa571ab"
      },
      "source": [
        "knn3 = KNeighborsClassifier(n_neighbors= 20 , weights = 'distance')\n",
        "knn3.fit(X_train_3, y_train_2)"
      ],
      "execution_count": 22,
      "outputs": [
        {
          "output_type": "execute_result",
          "data": {
            "text/plain": [
              "KNeighborsClassifier(algorithm='auto', leaf_size=30, metric='minkowski',\n",
              "           metric_params=None, n_jobs=None, n_neighbors=20, p=2,\n",
              "           weights='distance')"
            ]
          },
          "metadata": {
            "tags": []
          },
          "execution_count": 22
        }
      ]
    },
    {
      "cell_type": "code",
      "metadata": {
        "id": "sTTXnutLvEcU",
        "colab_type": "code",
        "colab": {
          "base_uri": "https://localhost:8080/",
          "height": 34
        },
        "outputId": "a708f6e7-0b71-41ef-da34-65557368bcb6"
      },
      "source": [
        "knn3.score(X_test_3, y_test_2)"
      ],
      "execution_count": 23,
      "outputs": [
        {
          "output_type": "execute_result",
          "data": {
            "text/plain": [
              "0.38"
            ]
          },
          "metadata": {
            "tags": []
          },
          "execution_count": 23
        }
      ]
    },
    {
      "cell_type": "code",
      "metadata": {
        "id": "4WRWsE2RvO2x",
        "colab_type": "code",
        "colab": {
          "base_uri": "https://localhost:8080/",
          "height": 67
        },
        "outputId": "0fdf7de5-e222-423e-d055-69866ee8b213"
      },
      "source": [
        "knn4 = KNeighborsClassifier(n_neighbors= 30 , weights = 'distance')\n",
        "knn4.fit(X_train_3, y_train_2)"
      ],
      "execution_count": 24,
      "outputs": [
        {
          "output_type": "execute_result",
          "data": {
            "text/plain": [
              "KNeighborsClassifier(algorithm='auto', leaf_size=30, metric='minkowski',\n",
              "           metric_params=None, n_jobs=None, n_neighbors=30, p=2,\n",
              "           weights='distance')"
            ]
          },
          "metadata": {
            "tags": []
          },
          "execution_count": 24
        }
      ]
    },
    {
      "cell_type": "code",
      "metadata": {
        "id": "ys87Y5cQvPCv",
        "colab_type": "code",
        "colab": {
          "base_uri": "https://localhost:8080/",
          "height": 34
        },
        "outputId": "33d742d2-c0a6-4c51-b17f-1efa47e61d20"
      },
      "source": [
        "knn4.score(X_test_3, y_test_2)"
      ],
      "execution_count": 25,
      "outputs": [
        {
          "output_type": "execute_result",
          "data": {
            "text/plain": [
              "0.349"
            ]
          },
          "metadata": {
            "tags": []
          },
          "execution_count": 25
        }
      ]
    },
    {
      "cell_type": "code",
      "metadata": {
        "id": "1gq98ehwvW-l",
        "colab_type": "code",
        "colab": {
          "base_uri": "https://localhost:8080/",
          "height": 67
        },
        "outputId": "c12f2fe9-183a-452a-a7c9-aee3ed6bec45"
      },
      "source": [
        "knn5 = KNeighborsClassifier(n_neighbors= 25 , weights = 'distance')\n",
        "knn5.fit(X_train_3, y_train_2)"
      ],
      "execution_count": 26,
      "outputs": [
        {
          "output_type": "execute_result",
          "data": {
            "text/plain": [
              "KNeighborsClassifier(algorithm='auto', leaf_size=30, metric='minkowski',\n",
              "           metric_params=None, n_jobs=None, n_neighbors=25, p=2,\n",
              "           weights='distance')"
            ]
          },
          "metadata": {
            "tags": []
          },
          "execution_count": 26
        }
      ]
    },
    {
      "cell_type": "code",
      "metadata": {
        "id": "F6MHXStWvgQj",
        "colab_type": "code",
        "colab": {
          "base_uri": "https://localhost:8080/",
          "height": 34
        },
        "outputId": "4e68b647-9f91-4e6b-dceb-3678f4356b47"
      },
      "source": [
        "knn5.score(X_test_3, y_test_2)"
      ],
      "execution_count": 27,
      "outputs": [
        {
          "output_type": "execute_result",
          "data": {
            "text/plain": [
              "0.353"
            ]
          },
          "metadata": {
            "tags": []
          },
          "execution_count": 27
        }
      ]
    },
    {
      "cell_type": "markdown",
      "metadata": {
        "id": "QiXvwnsqv2Rz",
        "colab_type": "text"
      },
      "source": [
        "From the above models it can be seen that higest accuracy (0.38) was with k =  20"
      ]
    },
    {
      "cell_type": "code",
      "metadata": {
        "id": "F82aPxwdvluy",
        "colab_type": "code",
        "colab": {}
      },
      "source": [
        "# So using k = 20 to predict y\n",
        "\n",
        "y_pred = knn3.predict(X_test_3)"
      ],
      "execution_count": 0,
      "outputs": []
    },
    {
      "cell_type": "code",
      "metadata": {
        "id": "WkqJG7_fiul6",
        "colab_type": "code",
        "colab": {
          "base_uri": "https://localhost:8080/",
          "height": 185
        },
        "outputId": "027651df-7cc2-4995-b23a-7fb4ca1c6015"
      },
      "source": [
        "# Confusion Matrix\n",
        "from sklearn import metrics\n",
        "\n",
        "print(metrics.confusion_matrix(y_test_2, y_pred))"
      ],
      "execution_count": 29,
      "outputs": [
        {
          "output_type": "stream",
          "text": [
            "[[46  9  2  1 18  4 16  6  5 10]\n",
            " [ 4 51  4  6  9  3  8  5  1  2]\n",
            " [ 0 12 30 10  5  3  4 12  2 14]\n",
            " [ 8 12  6 24  3  9  7  5  3  8]\n",
            " [ 3 15  5  6 48  2  4  5  2  6]\n",
            " [ 7 12  6 12  4 28 13  4  9 10]\n",
            " [14  5  5  4 12  5 31  1  6 11]\n",
            " [ 1 12 11  6  4  6  3 59  1  4]\n",
            " [12  4  3  1  7  8 20  4 28 13]\n",
            " [17 10  6  4  7  7 12  6  7 35]]\n"
          ],
          "name": "stdout"
        }
      ]
    },
    {
      "cell_type": "code",
      "metadata": {
        "id": "iWTF6blgwPPB",
        "colab_type": "code",
        "colab": {}
      },
      "source": [
        "# Classification report\n",
        "from sklearn.metrics import classification_report"
      ],
      "execution_count": 0,
      "outputs": []
    },
    {
      "cell_type": "code",
      "metadata": {
        "id": "H97AczH2weCN",
        "colab_type": "code",
        "colab": {
          "base_uri": "https://localhost:8080/",
          "height": 302
        },
        "outputId": "b4484f42-28e0-47f0-ec4d-e0eb690fad4e"
      },
      "source": [
        "print(classification_report(y_test_2, y_pred))"
      ],
      "execution_count": 31,
      "outputs": [
        {
          "output_type": "stream",
          "text": [
            "              precision    recall  f1-score   support\n",
            "\n",
            "           0       0.41      0.39      0.40       117\n",
            "           1       0.36      0.55      0.43        93\n",
            "           2       0.38      0.33      0.35        92\n",
            "           3       0.32      0.28      0.30        85\n",
            "           4       0.41      0.50      0.45        96\n",
            "           5       0.37      0.27      0.31       105\n",
            "           6       0.26      0.33      0.29        94\n",
            "           7       0.55      0.55      0.55       107\n",
            "           8       0.44      0.28      0.34       100\n",
            "           9       0.31      0.32      0.31       111\n",
            "\n",
            "   micro avg       0.38      0.38      0.38      1000\n",
            "   macro avg       0.38      0.38      0.38      1000\n",
            "weighted avg       0.38      0.38      0.38      1000\n",
            "\n"
          ],
          "name": "stdout"
        }
      ]
    },
    {
      "cell_type": "markdown",
      "metadata": {
        "id": "dcf9qcL3w41u",
        "colab_type": "text"
      },
      "source": [
        "Using CNN:"
      ]
    },
    {
      "cell_type": "code",
      "metadata": {
        "id": "Lobl8yfVjp4l",
        "colab_type": "code",
        "colab": {}
      },
      "source": [
        "trainY = tf.keras.utils.to_categorical(y_train, num_classes=10)\n",
        "testY = tf.keras.utils.to_categorical(y_test, num_classes=10)"
      ],
      "execution_count": 0,
      "outputs": []
    },
    {
      "cell_type": "code",
      "metadata": {
        "id": "3c_VCX0ij9HM",
        "colab_type": "code",
        "colab": {
          "base_uri": "https://localhost:8080/",
          "height": 87
        },
        "outputId": "854a70a4-0d04-4c4a-eab8-4f13b27237b3"
      },
      "source": [
        "tf.keras.backend.clear_session()\n",
        "#Initialize model, reshape & normalize data\n",
        "model = tf.keras.models.Sequential()\n",
        "\n",
        "#Reshape data from 2D (32,32) to 3D (32, 32, 1)\n",
        "model.add(tf.keras.layers.Reshape((32,32,1),input_shape=(32,32,)))\n",
        "\n",
        "#normalize data\n",
        "model.add(tf.keras.layers.BatchNormalization())"
      ],
      "execution_count": 34,
      "outputs": [
        {
          "output_type": "stream",
          "text": [
            "WARNING:tensorflow:From /usr/local/lib/python3.6/dist-packages/tensorflow/python/ops/resource_variable_ops.py:435: colocate_with (from tensorflow.python.framework.ops) is deprecated and will be removed in a future version.\n",
            "Instructions for updating:\n",
            "Colocations handled automatically by placer.\n"
          ],
          "name": "stdout"
        }
      ]
    },
    {
      "cell_type": "code",
      "metadata": {
        "id": "rY8GAjZGktjn",
        "colab_type": "code",
        "colab": {}
      },
      "source": [
        "\n",
        "#Add first convolutional layer\n",
        "model.add(tf.keras.layers.Conv2D(32, #Number of filters \n",
        "                                 kernel_size=(3,3), #Size of the filter\n",
        "                                 activation='relu'))\n",
        "\n",
        "#Add second convolutional layer\n",
        "model.add(tf.keras.layers.Conv2D(64, kernel_size=(3,3), activation='relu'))\n",
        "\n",
        "#Add MaxPooling layer\n",
        "model.add(tf.keras.layers.MaxPool2D(pool_size=(2,2)))\n",
        "\n",
        "#Add third convolutional layer\n",
        "model.add(tf.keras.layers.Conv2D(10,kernel_size=(1,1), activation='relu'))\n",
        "\n",
        "#Add GlobalAveragePooling layer\n",
        "model.add(tf.keras.layers.GlobalAveragePooling2D())"
      ],
      "execution_count": 0,
      "outputs": []
    },
    {
      "cell_type": "code",
      "metadata": {
        "id": "AGzW7tf7k-3A",
        "colab_type": "code",
        "colab": {}
      },
      "source": [
        "#Flatten the output\n",
        "model.add(tf.keras.layers.Flatten())\n",
        "model.add(tf.keras.layers.BatchNormalization())\n",
        "\n",
        "#Dense layer\n",
        "model.add(tf.keras.layers.Dense(200, activation='relu'))\n",
        "model.add(tf.keras.layers.BatchNormalization())\n",
        "\n",
        "model.add(tf.keras.layers.Dense(100, activation='relu'))\n",
        "\n",
        "#Add OUTPUT layer\n",
        "model.add(tf.keras.layers.Dense(10, activation='softmax'))"
      ],
      "execution_count": 0,
      "outputs": []
    },
    {
      "cell_type": "code",
      "metadata": {
        "id": "nXehArYzlJdz",
        "colab_type": "code",
        "colab": {}
      },
      "source": [
        "#Create optimizer with non-default learning rate\n",
        "sgd_optimizer = tf.keras.optimizers.SGD(lr=0.03, decay=0.001)\n",
        "\n",
        "#Compile the model\n",
        "model.compile(optimizer=sgd_optimizer, loss='categorical_crossentropy', metrics=['accuracy'])"
      ],
      "execution_count": 0,
      "outputs": []
    },
    {
      "cell_type": "code",
      "metadata": {
        "id": "QGgw3n90lNL3",
        "colab_type": "code",
        "colab": {
          "base_uri": "https://localhost:8080/",
          "height": 571
        },
        "outputId": "0bb7414a-039f-4590-ff50-d3fae1982c6e"
      },
      "source": [
        "model.summary()"
      ],
      "execution_count": 38,
      "outputs": [
        {
          "output_type": "stream",
          "text": [
            "_________________________________________________________________\n",
            "Layer (type)                 Output Shape              Param #   \n",
            "=================================================================\n",
            "reshape (Reshape)            (None, 32, 32, 1)         0         \n",
            "_________________________________________________________________\n",
            "batch_normalization_v1 (Batc (None, 32, 32, 1)         4         \n",
            "_________________________________________________________________\n",
            "conv2d (Conv2D)              (None, 30, 30, 32)        320       \n",
            "_________________________________________________________________\n",
            "conv2d_1 (Conv2D)            (None, 28, 28, 64)        18496     \n",
            "_________________________________________________________________\n",
            "max_pooling2d (MaxPooling2D) (None, 14, 14, 64)        0         \n",
            "_________________________________________________________________\n",
            "conv2d_2 (Conv2D)            (None, 14, 14, 10)        650       \n",
            "_________________________________________________________________\n",
            "global_average_pooling2d (Gl (None, 10)                0         \n",
            "_________________________________________________________________\n",
            "flatten (Flatten)            (None, 10)                0         \n",
            "_________________________________________________________________\n",
            "batch_normalization_v1_1 (Ba (None, 10)                40        \n",
            "_________________________________________________________________\n",
            "dense (Dense)                (None, 200)               2200      \n",
            "_________________________________________________________________\n",
            "batch_normalization_v1_2 (Ba (None, 200)               800       \n",
            "_________________________________________________________________\n",
            "dense_1 (Dense)              (None, 100)               20100     \n",
            "_________________________________________________________________\n",
            "dense_2 (Dense)              (None, 10)                1010      \n",
            "=================================================================\n",
            "Total params: 43,620\n",
            "Trainable params: 43,198\n",
            "Non-trainable params: 422\n",
            "_________________________________________________________________\n"
          ],
          "name": "stdout"
        }
      ]
    },
    {
      "cell_type": "code",
      "metadata": {
        "id": "HPOKYlcvlPj-",
        "colab_type": "code",
        "colab": {
          "base_uri": "https://localhost:8080/",
          "height": 457
        },
        "outputId": "d6dab9a4-c921-49e3-b5a8-2757e2093c2a"
      },
      "source": [
        "#Train the model\n",
        "model.fit(X_train,trainY,          \n",
        "          validation_data=(X_test,testY),\n",
        "          epochs=10,\n",
        "          batch_size=32)"
      ],
      "execution_count": 39,
      "outputs": [
        {
          "output_type": "stream",
          "text": [
            "Train on 42000 samples, validate on 18000 samples\n",
            "WARNING:tensorflow:From /usr/local/lib/python3.6/dist-packages/tensorflow/python/ops/math_ops.py:3066: to_int32 (from tensorflow.python.ops.math_ops) is deprecated and will be removed in a future version.\n",
            "Instructions for updating:\n",
            "Use tf.cast instead.\n",
            "Epoch 1/10\n",
            "42000/42000 [==============================] - 14s 327us/sample - loss: 2.2004 - acc: 0.1812 - val_loss: 2.2352 - val_acc: 0.2151\n",
            "Epoch 2/10\n",
            "42000/42000 [==============================] - 10s 235us/sample - loss: 1.9767 - acc: 0.2800 - val_loss: 1.9264 - val_acc: 0.3083\n",
            "Epoch 3/10\n",
            "42000/42000 [==============================] - 10s 234us/sample - loss: 1.8249 - acc: 0.3484 - val_loss: 1.9727 - val_acc: 0.2944\n",
            "Epoch 4/10\n",
            "42000/42000 [==============================] - 10s 234us/sample - loss: 1.7197 - acc: 0.3960 - val_loss: 1.9030 - val_acc: 0.3319\n",
            "Epoch 5/10\n",
            "42000/42000 [==============================] - 10s 235us/sample - loss: 1.6508 - acc: 0.4210 - val_loss: 1.6642 - val_acc: 0.4158\n",
            "Epoch 6/10\n",
            "42000/42000 [==============================] - 11s 261us/sample - loss: 1.6014 - acc: 0.4428 - val_loss: 1.5961 - val_acc: 0.4474\n",
            "Epoch 7/10\n",
            "42000/42000 [==============================] - 10s 232us/sample - loss: 1.5599 - acc: 0.4602 - val_loss: 1.5349 - val_acc: 0.4704\n",
            "Epoch 8/10\n",
            "42000/42000 [==============================] - 10s 233us/sample - loss: 1.5339 - acc: 0.4688 - val_loss: 1.5634 - val_acc: 0.4567\n",
            "Epoch 9/10\n",
            "42000/42000 [==============================] - 10s 232us/sample - loss: 1.5062 - acc: 0.4835 - val_loss: 1.7522 - val_acc: 0.3868\n",
            "Epoch 10/10\n",
            "42000/42000 [==============================] - 10s 232us/sample - loss: 1.4826 - acc: 0.4904 - val_loss: 1.5521 - val_acc: 0.4619\n"
          ],
          "name": "stdout"
        },
        {
          "output_type": "execute_result",
          "data": {
            "text/plain": [
              "<tensorflow.python.keras.callbacks.History at 0x7fbc8440bf98>"
            ]
          },
          "metadata": {
            "tags": []
          },
          "execution_count": 39
        }
      ]
    },
    {
      "cell_type": "code",
      "metadata": {
        "id": "MuIxk0CmlXJn",
        "colab_type": "code",
        "colab": {
          "base_uri": "https://localhost:8080/",
          "height": 50
        },
        "outputId": "32785aab-48c2-4b49-996a-a8f3415ea564"
      },
      "source": [
        "# Final Train Loss & Accuracy\n",
        "model.evaluate(X_train,trainY)"
      ],
      "execution_count": 40,
      "outputs": [
        {
          "output_type": "stream",
          "text": [
            "42000/42000 [==============================] - 3s 79us/sample - loss: 1.5228 - acc: 0.4694\n"
          ],
          "name": "stdout"
        },
        {
          "output_type": "execute_result",
          "data": {
            "text/plain": [
              "[1.5227609132130941, 0.46942857]"
            ]
          },
          "metadata": {
            "tags": []
          },
          "execution_count": 40
        }
      ]
    },
    {
      "cell_type": "code",
      "metadata": {
        "id": "up6Wcxwam-Fr",
        "colab_type": "code",
        "colab": {
          "base_uri": "https://localhost:8080/",
          "height": 50
        },
        "outputId": "2c57d4e5-7c6c-4873-a709-3d446a89d766"
      },
      "source": [
        "# Final Validation Loss & Accuracy\n",
        "model.evaluate(X_test,testY)"
      ],
      "execution_count": 41,
      "outputs": [
        {
          "output_type": "stream",
          "text": [
            "18000/18000 [==============================] - 1s 80us/sample - loss: 1.5521 - acc: 0.4619\n"
          ],
          "name": "stdout"
        },
        {
          "output_type": "execute_result",
          "data": {
            "text/plain": [
              "[1.5520621138678656, 0.46194443]"
            ]
          },
          "metadata": {
            "tags": []
          },
          "execution_count": 41
        }
      ]
    },
    {
      "cell_type": "code",
      "metadata": {
        "id": "u2yjcReDnEjW",
        "colab_type": "code",
        "colab": {}
      },
      "source": [
        "predY = model.predict_classes(X_test)"
      ],
      "execution_count": 0,
      "outputs": []
    },
    {
      "cell_type": "code",
      "metadata": {
        "id": "WYQ_b3eS93l0",
        "colab_type": "code",
        "colab": {
          "base_uri": "https://localhost:8080/",
          "height": 185
        },
        "outputId": "b7fb5fa9-b782-4a6a-b163-ba580c541d11"
      },
      "source": [
        "# Confusion Matrix\n",
        "from sklearn import metrics\n",
        "\n",
        "print(metrics.confusion_matrix(y_test, predY))"
      ],
      "execution_count": 48,
      "outputs": [
        {
          "output_type": "stream",
          "text": [
            "[[1243   92    3   17   15   78   45   87   37  197]\n",
            " [  96 1173   20   58   81  102   37  155   38   68]\n",
            " [  31   88  678  151  123  163  110  260   61  138]\n",
            " [  32   94   52  753   23  301   55  101   82  226]\n",
            " [  78  317  139   67  544   86   54  367   58  102]\n",
            " [  49   70   34  176   21 1090   50   93   39  146]\n",
            " [ 257   75   67   41   41  292  390  114  177  378]\n",
            " [  90  161   24   32   56   64   24 1274    8   75]\n",
            " [ 150   86   39  111   27  197  210   71  487  434]\n",
            " [ 261  101   30  114   19  218  177  127   74  683]]\n"
          ],
          "name": "stdout"
        }
      ]
    },
    {
      "cell_type": "code",
      "metadata": {
        "id": "6T4LoRFr-HZB",
        "colab_type": "code",
        "colab": {
          "base_uri": "https://localhost:8080/",
          "height": 302
        },
        "outputId": "bf438130-333c-4f99-8045-7a183775668f"
      },
      "source": [
        "print(classification_report(y_test, predY))"
      ],
      "execution_count": 49,
      "outputs": [
        {
          "output_type": "stream",
          "text": [
            "              precision    recall  f1-score   support\n",
            "\n",
            "           0       0.54      0.69      0.61      1814\n",
            "           1       0.52      0.64      0.57      1828\n",
            "           2       0.62      0.38      0.47      1803\n",
            "           3       0.50      0.44      0.46      1719\n",
            "           4       0.57      0.30      0.39      1812\n",
            "           5       0.42      0.62      0.50      1768\n",
            "           6       0.34      0.21      0.26      1832\n",
            "           7       0.48      0.70      0.57      1808\n",
            "           8       0.46      0.27      0.34      1812\n",
            "           9       0.28      0.38      0.32      1804\n",
            "\n",
            "   micro avg       0.46      0.46      0.46     18000\n",
            "   macro avg       0.47      0.46      0.45     18000\n",
            "weighted avg       0.47      0.46      0.45     18000\n",
            "\n"
          ],
          "name": "stdout"
        }
      ]
    },
    {
      "cell_type": "markdown",
      "metadata": {
        "id": "nnx6GntrAC03",
        "colab_type": "text"
      },
      "source": [
        "Comparing the accuracy scores and the classification report it is clear that the NN classifiers perform better than the traditional classifiers.\n",
        "\n",
        "This is seen especially when CNN classifiers are used. Main reason for this is the ability of the CNN to retain the spatial information using filters. Whereas in traditional classifers this information is lost when the input data is reshaped to feed into the model.\n",
        "\n",
        "One of the other advantages is ability to learn from the vast data in a shorter time compared to a traditional classifier\n",
        "\n"
      ]
    }
  ]
}