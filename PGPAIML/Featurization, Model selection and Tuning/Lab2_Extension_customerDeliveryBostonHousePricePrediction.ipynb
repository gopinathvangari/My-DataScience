{
 "cells": [
  {
   "cell_type": "code",
   "execution_count": 1,
   "metadata": {},
   "outputs": [
    {
     "name": "stderr",
     "output_type": "stream",
     "text": [
      "C:\\ProgramData\\Anaconda3\\lib\\site-packages\\sklearn\\ensemble\\weight_boosting.py:29: DeprecationWarning: numpy.core.umath_tests is an internal NumPy module and should not be imported. It will be removed in a future NumPy release.\n",
      "  from numpy.core.umath_tests import inner1d\n"
     ]
    }
   ],
   "source": [
    "import pandas as pd\n",
    "import pickle\n",
    "# we open the file for reading\n",
    "fileObject1 = open('scalers','rb')  \n",
    "# load the object from the file into var b\n",
    "reloadedScalers = pickle.load(fileObject1)  \n",
    "\n",
    "# we open the file for reading\n",
    "fileObject = open('BostonHousePricePredictionSolution','rb')  \n",
    "# load the object from the file into var b\n",
    "reloadedModel = pickle.load(fileObject)  "
   ]
  },
  {
   "cell_type": "code",
   "execution_count": 11,
   "metadata": {
    "collapsed": true
   },
   "outputs": [],
   "source": [
    "def myCustomerFunction(age=20, lstat = 3.84):\n",
    "    newDataPoint2 = pd.DataFrame({'CRIM':[3.84], 'ZN':[0.0], 'INDUS':[18.1], \n",
    "                                  'CHAS':[1], 'NOX':[0.77], 'RM':[6.395],\n",
    "                                  'AGE':[age], 'DIS':[2.5052], 'RAD':[24], \n",
    "                                  'TAX':[666.0], 'PTRATIO':[20.2],'B':[391.34],\n",
    "                                  'LSTAT':[lstat]})\n",
    "    scaledNewDataPoint2 = reloadedScalers.transform(newDataPoint2)\n",
    "    return (reloadedModel.predict(scaledNewDataPoint2))"
   ]
  },
  {
   "cell_type": "code",
   "execution_count": 13,
   "metadata": {},
   "outputs": [
    {
     "name": "stdout",
     "output_type": "stream",
     "text": [
      "0\n",
      "100\n"
     ]
    },
    {
     "data": {
      "text/plain": [
       "array([46.9475])"
      ]
     },
     "execution_count": 13,
     "metadata": {},
     "output_type": "execute_result"
    }
   ],
   "source": [
    "age = input()\n",
    "lstat = input()\n",
    "myCustomerFunction(age, lstat)"
   ]
  },
  {
   "cell_type": "code",
   "execution_count": null,
   "metadata": {
    "collapsed": true
   },
   "outputs": [],
   "source": []
  },
  {
   "cell_type": "code",
   "execution_count": null,
   "metadata": {
    "collapsed": true
   },
   "outputs": [],
   "source": []
  }
 ],
 "metadata": {
  "kernelspec": {
   "display_name": "Python 3",
   "language": "python",
   "name": "python3"
  },
  "language_info": {
   "codemirror_mode": {
    "name": "ipython",
    "version": 3
   },
   "file_extension": ".py",
   "mimetype": "text/x-python",
   "name": "python",
   "nbconvert_exporter": "python",
   "pygments_lexer": "ipython3",
   "version": "3.6.5"
  }
 },
 "nbformat": 4,
 "nbformat_minor": 2
}
