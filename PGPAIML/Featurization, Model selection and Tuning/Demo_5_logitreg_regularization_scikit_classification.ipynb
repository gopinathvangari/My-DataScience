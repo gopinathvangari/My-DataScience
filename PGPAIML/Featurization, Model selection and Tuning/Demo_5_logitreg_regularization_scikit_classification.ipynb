{
 "cells": [
  {
   "cell_type": "markdown",
   "metadata": {},
   "source": [
    "# Logistic Regression with regularization"
   ]
  },
  {
   "cell_type": "markdown",
   "metadata": {},
   "source": [
    "##### This is a starter code  for \"ridge regularization\" without variable selection strategy, variable selection should be picked from basic notebook."
   ]
  },
  {
   "cell_type": "code",
   "execution_count": 1,
   "metadata": {},
   "outputs": [],
   "source": [
    "import sys\n",
    "import os\n",
    "import pandas as pd\n",
    "import numpy as np\n",
    "get_ipython().magic(u'matplotlib inline')\n",
    "import matplotlib\n",
    "import matplotlib.pyplot as plt\n",
    "from itertools import cycle\n",
    "from IPython.display import display, HTML\n",
    "import warnings\n"
   ]
  },
  {
   "cell_type": "code",
   "execution_count": 2,
   "metadata": {},
   "outputs": [],
   "source": [
    "warnings.filterwarnings('ignore')\n",
    "pd.set_option('chained_assignment',None)"
   ]
  },
  {
   "cell_type": "code",
   "execution_count": 3,
   "metadata": {},
   "outputs": [],
   "source": [
    "from sklearn.linear_model import LogisticRegression\n",
    "from sklearn.metrics import roc_curve,log_loss,f1_score,auc,roc_auc_score\n",
    "from sklearn.model_selection import cross_val_score\n",
    "from sklearn.model_selection import GridSearchCV\n",
    "from sklearn.compose import ColumnTransformer\n",
    "# from future_encoders import ColumnTransformer\n",
    "from sklearn.pipeline import Pipeline\n",
    "from sklearn.impute import SimpleImputer\n",
    "from sklearn.preprocessing import StandardScaler, OneHotEncoder"
   ]
  },
  {
   "cell_type": "markdown",
   "metadata": {},
   "source": [
    "### 1. read-data from local - variation of titanic dataset from kaggle"
   ]
  },
  {
   "cell_type": "code",
   "execution_count": 4,
   "metadata": {},
   "outputs": [],
   "source": [
    "# url=\"https://raw.githubusercontent.com/madmashup/targeted-marketing-predictive-engine/master/banking.csv\"\n",
    "data =pd.read_csv('train_grdcv_titanic.csv',sep=',')"
   ]
  },
  {
   "cell_type": "code",
   "execution_count": 5,
   "metadata": {},
   "outputs": [
    {
     "data": {
      "text/html": [
       "<div>\n",
       "<style scoped>\n",
       "    .dataframe tbody tr th:only-of-type {\n",
       "        vertical-align: middle;\n",
       "    }\n",
       "\n",
       "    .dataframe tbody tr th {\n",
       "        vertical-align: top;\n",
       "    }\n",
       "\n",
       "    .dataframe thead th {\n",
       "        text-align: right;\n",
       "    }\n",
       "</style>\n",
       "<table border=\"1\" class=\"dataframe\">\n",
       "  <thead>\n",
       "    <tr style=\"text-align: right;\">\n",
       "      <th></th>\n",
       "      <th>PassengerId</th>\n",
       "      <th>Survived</th>\n",
       "      <th>Pclass</th>\n",
       "      <th>Name</th>\n",
       "      <th>Sex</th>\n",
       "      <th>Age</th>\n",
       "      <th>SibSp</th>\n",
       "      <th>Parch</th>\n",
       "      <th>Ticket</th>\n",
       "      <th>Fare</th>\n",
       "      <th>Cabin</th>\n",
       "      <th>Embarked</th>\n",
       "    </tr>\n",
       "  </thead>\n",
       "  <tbody>\n",
       "    <tr>\n",
       "      <th>0</th>\n",
       "      <td>1</td>\n",
       "      <td>0</td>\n",
       "      <td>3</td>\n",
       "      <td>Braund, Mr. Owen Harris</td>\n",
       "      <td>male</td>\n",
       "      <td>22.0</td>\n",
       "      <td>1</td>\n",
       "      <td>0</td>\n",
       "      <td>A/5 21171</td>\n",
       "      <td>7.2500</td>\n",
       "      <td>NaN</td>\n",
       "      <td>S</td>\n",
       "    </tr>\n",
       "    <tr>\n",
       "      <th>1</th>\n",
       "      <td>2</td>\n",
       "      <td>1</td>\n",
       "      <td>1</td>\n",
       "      <td>Cumings, Mrs. John Bradley (Florence Briggs Th...</td>\n",
       "      <td>female</td>\n",
       "      <td>38.0</td>\n",
       "      <td>1</td>\n",
       "      <td>0</td>\n",
       "      <td>PC 17599</td>\n",
       "      <td>71.2833</td>\n",
       "      <td>C85</td>\n",
       "      <td>C</td>\n",
       "    </tr>\n",
       "    <tr>\n",
       "      <th>2</th>\n",
       "      <td>3</td>\n",
       "      <td>1</td>\n",
       "      <td>3</td>\n",
       "      <td>Heikkinen, Miss. Laina</td>\n",
       "      <td>female</td>\n",
       "      <td>26.0</td>\n",
       "      <td>0</td>\n",
       "      <td>0</td>\n",
       "      <td>STON/O2. 3101282</td>\n",
       "      <td>7.9250</td>\n",
       "      <td>NaN</td>\n",
       "      <td>S</td>\n",
       "    </tr>\n",
       "    <tr>\n",
       "      <th>3</th>\n",
       "      <td>4</td>\n",
       "      <td>1</td>\n",
       "      <td>1</td>\n",
       "      <td>Futrelle, Mrs. Jacques Heath (Lily May Peel)</td>\n",
       "      <td>female</td>\n",
       "      <td>35.0</td>\n",
       "      <td>1</td>\n",
       "      <td>0</td>\n",
       "      <td>113803</td>\n",
       "      <td>53.1000</td>\n",
       "      <td>C123</td>\n",
       "      <td>S</td>\n",
       "    </tr>\n",
       "    <tr>\n",
       "      <th>4</th>\n",
       "      <td>5</td>\n",
       "      <td>0</td>\n",
       "      <td>3</td>\n",
       "      <td>Allen, Mr. William Henry</td>\n",
       "      <td>male</td>\n",
       "      <td>35.0</td>\n",
       "      <td>0</td>\n",
       "      <td>0</td>\n",
       "      <td>373450</td>\n",
       "      <td>8.0500</td>\n",
       "      <td>NaN</td>\n",
       "      <td>S</td>\n",
       "    </tr>\n",
       "  </tbody>\n",
       "</table>\n",
       "</div>"
      ],
      "text/plain": [
       "   PassengerId  Survived  Pclass  \\\n",
       "0            1         0       3   \n",
       "1            2         1       1   \n",
       "2            3         1       3   \n",
       "3            4         1       1   \n",
       "4            5         0       3   \n",
       "\n",
       "                                                Name     Sex   Age  SibSp  \\\n",
       "0                            Braund, Mr. Owen Harris    male  22.0      1   \n",
       "1  Cumings, Mrs. John Bradley (Florence Briggs Th...  female  38.0      1   \n",
       "2                             Heikkinen, Miss. Laina  female  26.0      0   \n",
       "3       Futrelle, Mrs. Jacques Heath (Lily May Peel)  female  35.0      1   \n",
       "4                           Allen, Mr. William Henry    male  35.0      0   \n",
       "\n",
       "   Parch            Ticket     Fare Cabin Embarked  \n",
       "0      0         A/5 21171   7.2500   NaN        S  \n",
       "1      0          PC 17599  71.2833   C85        C  \n",
       "2      0  STON/O2. 3101282   7.9250   NaN        S  \n",
       "3      0            113803  53.1000  C123        S  \n",
       "4      0            373450   8.0500   NaN        S  "
      ]
     },
     "execution_count": 5,
     "metadata": {},
     "output_type": "execute_result"
    }
   ],
   "source": [
    "data.head()"
   ]
  },
  {
   "cell_type": "markdown",
   "metadata": {},
   "source": [
    "### 2. simple data  assessment"
   ]
  },
  {
   "cell_type": "code",
   "execution_count": 6,
   "metadata": {},
   "outputs": [
    {
     "name": "stdout",
     "output_type": "stream",
     "text": [
      "# of rows 891\n"
     ]
    }
   ],
   "source": [
    "var_names = list(data.columns)\n",
    "print (\"# of rows {}\".format(data.shape[0]))"
   ]
  },
  {
   "cell_type": "code",
   "execution_count": 7,
   "metadata": {},
   "outputs": [
    {
     "name": "stdout",
     "output_type": "stream",
     "text": [
      "event rate : 0.38\n"
     ]
    }
   ],
   "source": [
    "# event rate in the data\n",
    "print (\"event rate : {:.2f}\".format(sum(data['Survived']/data.shape[0])))"
   ]
  },
  {
   "cell_type": "markdown",
   "metadata": {},
   "source": [
    "The model has relatively high incidence rate - 38%,therefore we may not need to balance the sample,therefore,model will work with \"un-balanced\" sample."
   ]
  },
  {
   "cell_type": "code",
   "execution_count": 8,
   "metadata": {},
   "outputs": [
    {
     "name": "stdout",
     "output_type": "stream",
     "text": [
      "['PassengerId', 'Survived', 'Pclass', 'Name', 'Sex', 'Age', 'SibSp', 'Parch', 'Ticket', 'Fare', 'Cabin', 'Embarked']\n"
     ]
    }
   ],
   "source": [
    "var_names =list(data.columns)\n",
    "print(var_names)"
   ]
  },
  {
   "cell_type": "code",
   "execution_count": 9,
   "metadata": {},
   "outputs": [],
   "source": [
    "data[\"Pclass\"]=data[\"Pclass\"].astype(\"object\")"
   ]
  },
  {
   "cell_type": "code",
   "execution_count": 10,
   "metadata": {},
   "outputs": [],
   "source": [
    "# numeric_vars\n",
    "num_vars = [key for key in dict(data.dtypes) if dict(data.dtypes)[key] in ['float64','float32','int32','int64']] \n",
    "\n",
    "# cat_vars\n",
    "cat_vars = [key for key in dict(data.dtypes) if dict(data.dtypes)[key] in ['object'] ] "
   ]
  },
  {
   "cell_type": "code",
   "execution_count": 11,
   "metadata": {},
   "outputs": [
    {
     "name": "stdout",
     "output_type": "stream",
     "text": [
      "list of num vars ['PassengerId', 'Survived', 'Age', 'SibSp', 'Parch', 'Fare']\n",
      "list of cat vars  ['Pclass', 'Name', 'Sex', 'Ticket', 'Cabin', 'Embarked']\n"
     ]
    }
   ],
   "source": [
    "print (\"list of num vars {}\".format(num_vars))\n",
    "print (\"list of cat vars  {}\".format(cat_vars))"
   ]
  },
  {
   "cell_type": "markdown",
   "metadata": {},
   "source": [
    "#### re-order vars to make use the train test function"
   ]
  },
  {
   "cell_type": "code",
   "execution_count": 12,
   "metadata": {},
   "outputs": [],
   "source": [
    "data=data[['Name', 'Sex', 'Ticket', 'Cabin', 'Embarked',\n",
    "           'PassengerId','Pclass', 'Age', 'SibSp', 'Parch', 'Fare','Survived']]"
   ]
  },
  {
   "cell_type": "code",
   "execution_count": 13,
   "metadata": {},
   "outputs": [
    {
     "data": {
      "text/html": [
       "<div>\n",
       "<style scoped>\n",
       "    .dataframe tbody tr th:only-of-type {\n",
       "        vertical-align: middle;\n",
       "    }\n",
       "\n",
       "    .dataframe tbody tr th {\n",
       "        vertical-align: top;\n",
       "    }\n",
       "\n",
       "    .dataframe thead th {\n",
       "        text-align: right;\n",
       "    }\n",
       "</style>\n",
       "<table border=\"1\" class=\"dataframe\">\n",
       "  <thead>\n",
       "    <tr style=\"text-align: right;\">\n",
       "      <th></th>\n",
       "      <th>Name</th>\n",
       "      <th>Sex</th>\n",
       "      <th>Ticket</th>\n",
       "      <th>Cabin</th>\n",
       "      <th>Embarked</th>\n",
       "      <th>PassengerId</th>\n",
       "      <th>Pclass</th>\n",
       "      <th>Age</th>\n",
       "      <th>SibSp</th>\n",
       "      <th>Parch</th>\n",
       "      <th>Fare</th>\n",
       "      <th>Survived</th>\n",
       "    </tr>\n",
       "  </thead>\n",
       "  <tbody>\n",
       "    <tr>\n",
       "      <th>0</th>\n",
       "      <td>Braund, Mr. Owen Harris</td>\n",
       "      <td>male</td>\n",
       "      <td>A/5 21171</td>\n",
       "      <td>NaN</td>\n",
       "      <td>S</td>\n",
       "      <td>1</td>\n",
       "      <td>3</td>\n",
       "      <td>22.0</td>\n",
       "      <td>1</td>\n",
       "      <td>0</td>\n",
       "      <td>7.2500</td>\n",
       "      <td>0</td>\n",
       "    </tr>\n",
       "    <tr>\n",
       "      <th>1</th>\n",
       "      <td>Cumings, Mrs. John Bradley (Florence Briggs Th...</td>\n",
       "      <td>female</td>\n",
       "      <td>PC 17599</td>\n",
       "      <td>C85</td>\n",
       "      <td>C</td>\n",
       "      <td>2</td>\n",
       "      <td>1</td>\n",
       "      <td>38.0</td>\n",
       "      <td>1</td>\n",
       "      <td>0</td>\n",
       "      <td>71.2833</td>\n",
       "      <td>1</td>\n",
       "    </tr>\n",
       "    <tr>\n",
       "      <th>2</th>\n",
       "      <td>Heikkinen, Miss. Laina</td>\n",
       "      <td>female</td>\n",
       "      <td>STON/O2. 3101282</td>\n",
       "      <td>NaN</td>\n",
       "      <td>S</td>\n",
       "      <td>3</td>\n",
       "      <td>3</td>\n",
       "      <td>26.0</td>\n",
       "      <td>0</td>\n",
       "      <td>0</td>\n",
       "      <td>7.9250</td>\n",
       "      <td>1</td>\n",
       "    </tr>\n",
       "    <tr>\n",
       "      <th>3</th>\n",
       "      <td>Futrelle, Mrs. Jacques Heath (Lily May Peel)</td>\n",
       "      <td>female</td>\n",
       "      <td>113803</td>\n",
       "      <td>C123</td>\n",
       "      <td>S</td>\n",
       "      <td>4</td>\n",
       "      <td>1</td>\n",
       "      <td>35.0</td>\n",
       "      <td>1</td>\n",
       "      <td>0</td>\n",
       "      <td>53.1000</td>\n",
       "      <td>1</td>\n",
       "    </tr>\n",
       "    <tr>\n",
       "      <th>4</th>\n",
       "      <td>Allen, Mr. William Henry</td>\n",
       "      <td>male</td>\n",
       "      <td>373450</td>\n",
       "      <td>NaN</td>\n",
       "      <td>S</td>\n",
       "      <td>5</td>\n",
       "      <td>3</td>\n",
       "      <td>35.0</td>\n",
       "      <td>0</td>\n",
       "      <td>0</td>\n",
       "      <td>8.0500</td>\n",
       "      <td>0</td>\n",
       "    </tr>\n",
       "  </tbody>\n",
       "</table>\n",
       "</div>"
      ],
      "text/plain": [
       "                                                Name     Sex  \\\n",
       "0                            Braund, Mr. Owen Harris    male   \n",
       "1  Cumings, Mrs. John Bradley (Florence Briggs Th...  female   \n",
       "2                             Heikkinen, Miss. Laina  female   \n",
       "3       Futrelle, Mrs. Jacques Heath (Lily May Peel)  female   \n",
       "4                           Allen, Mr. William Henry    male   \n",
       "\n",
       "             Ticket Cabin Embarked  PassengerId Pclass   Age  SibSp  Parch  \\\n",
       "0         A/5 21171   NaN        S            1      3  22.0      1      0   \n",
       "1          PC 17599   C85        C            2      1  38.0      1      0   \n",
       "2  STON/O2. 3101282   NaN        S            3      3  26.0      0      0   \n",
       "3            113803  C123        S            4      1  35.0      1      0   \n",
       "4            373450   NaN        S            5      3  35.0      0      0   \n",
       "\n",
       "      Fare  Survived  \n",
       "0   7.2500         0  \n",
       "1  71.2833         1  \n",
       "2   7.9250         1  \n",
       "3  53.1000         1  \n",
       "4   8.0500         0  "
      ]
     },
     "execution_count": 13,
     "metadata": {},
     "output_type": "execute_result"
    }
   ],
   "source": [
    "data.head()"
   ]
  },
  {
   "cell_type": "markdown",
   "metadata": {},
   "source": [
    "### 3. set training and test data"
   ]
  },
  {
   "cell_type": "code",
   "execution_count": 14,
   "metadata": {},
   "outputs": [
    {
     "name": "stdout",
     "output_type": "stream",
     "text": [
      "712\n"
     ]
    }
   ],
   "source": [
    "n_rows =data.shape[0]\n",
    "# picke 50% sample\n",
    "percent_train =0.80\n",
    "n_train = int(percent_train*n_rows)\n",
    "print(n_train)"
   ]
  },
  {
   "cell_type": "code",
   "execution_count": 15,
   "metadata": {},
   "outputs": [],
   "source": [
    "def split_data(n_train,data):\n",
    "    np.random.seed(123)\n",
    "    perm = np.random.permutation(data.shape[0])\n",
    "    training_indices = perm[range(0,n_train)]\n",
    "    test_indices = perm[range(n_train,data.shape[0])]\n",
    "    x =data.iloc[:,0:-1]\n",
    "    y =data.iloc[:,len(var_names)-1]\n",
    "    trainx = x.iloc[training_indices,:]\n",
    "    trainy = y.iloc[training_indices]\n",
    "    testx = x.iloc[test_indices,:]\n",
    "    testy = y.iloc[test_indices]\n",
    "    return trainx, trainy, testx, testy"
   ]
  },
  {
   "cell_type": "markdown",
   "metadata": {},
   "source": [
    "#####  train and test dataset is a **Pandas Dataframe** not *numpy* arrays"
   ]
  },
  {
   "cell_type": "code",
   "execution_count": 16,
   "metadata": {},
   "outputs": [],
   "source": [
    "trainx, trainy, testx, testy=split_data(n_train,data)"
   ]
  },
  {
   "cell_type": "markdown",
   "metadata": {},
   "source": [
    "### 3. Selected Features"
   ]
  },
  {
   "cell_type": "markdown",
   "metadata": {},
   "source": [
    "This work does not do have var-selection section to be copied from basic work in the same repo."
   ]
  },
  {
   "cell_type": "code",
   "execution_count": 17,
   "metadata": {},
   "outputs": [
    {
     "name": "stdout",
     "output_type": "stream",
     "text": [
      "['Pclass', 'Embarked', 'Sex', 'IsMinor', 'Age', 'Fare']\n"
     ]
    }
   ],
   "source": [
    "trainx['Age']=trainx['Age'].fillna(23)\n",
    "testx['Age']=testx['Age'].fillna(23)\n",
    "trainx['IsMinor']=np.where(trainx['Age']<=16, 1, 0)\n",
    "testx['IsMinor']=np.where(testx['Age']<=16, 1, 0)\n",
    "selected_vars =[\"Pclass\",\"Embarked\",\"Sex\",'IsMinor','Age','Fare']\n",
    "print(selected_vars)"
   ]
  },
  {
   "cell_type": "markdown",
   "metadata": {},
   "source": [
    "### 3.Set Pipeline for a simple model"
   ]
  },
  {
   "cell_type": "code",
   "execution_count": 18,
   "metadata": {},
   "outputs": [],
   "source": [
    "# Please note columns transformer does accpet the reaminder so putting all variables in some of the groups."
   ]
  },
  {
   "cell_type": "code",
   "execution_count": 19,
   "metadata": {},
   "outputs": [
    {
     "name": "stdout",
     "output_type": "stream",
     "text": [
      "['Age', 'Fare']\n",
      "['Pclass', 'Embarked', 'Sex', 'IsMinor']\n"
     ]
    }
   ],
   "source": [
    "num_vars_model=[x for x in selected_vars if x in num_vars]\n",
    "cat_vars_model =[x for x in selected_vars if x in cat_vars]+['IsMinor']\n",
    "print(num_vars_model)\n",
    "print(cat_vars_model)"
   ]
  },
  {
   "cell_type": "markdown",
   "metadata": {},
   "source": [
    "### Set Pipeline Transformer"
   ]
  },
  {
   "cell_type": "code",
   "execution_count": 20,
   "metadata": {},
   "outputs": [],
   "source": [
    "# make data with relevant variables\n",
    "X_train =trainx[selected_vars]\n",
    "X_test  =testx[selected_vars]\n",
    "\n",
    "y_train = trainy\n",
    "y_test  = testy"
   ]
  },
  {
   "cell_type": "code",
   "execution_count": 21,
   "metadata": {},
   "outputs": [],
   "source": [
    "# help(ColumnTransformer)"
   ]
  },
  {
   "cell_type": "code",
   "execution_count": 22,
   "metadata": {},
   "outputs": [],
   "source": [
    "# Setting Transformation for Numeric Variables\n",
    "numeric_transformer = Pipeline(steps=[\n",
    "    ('imputer', SimpleImputer(strategy='median')),('scaler', StandardScaler())])\n",
    "\n",
    "# Setting Transformation for Cat Variables\n",
    "categorical_transformer = Pipeline(steps=[\n",
    "    ('imputer', SimpleImputer(strategy='constant', fill_value='missing')),\n",
    "    ('onehot', OneHotEncoder(handle_unknown='ignore'))])\n",
    "\n",
    "# Merging both steps to apply on columns\n",
    "preprocessor = ColumnTransformer(\n",
    "    transformers=[\n",
    "        ('num', numeric_transformer, num_vars_model),\n",
    "        ('cat', categorical_transformer, cat_vars_model)])\n",
    "\n",
    "# Model Pipeline\n",
    "logmodel = Pipeline(steps=[('preprocessor', preprocessor),('classifier', LogisticRegression(solver='lbfgs'))])\n"
   ]
  },
  {
   "cell_type": "markdown",
   "metadata": {},
   "source": [
    "### Fit Model"
   ]
  },
  {
   "cell_type": "code",
   "execution_count": 23,
   "metadata": {},
   "outputs": [
    {
     "data": {
      "text/plain": [
       "Pipeline(memory=None,\n",
       "     steps=[('preprocessor', ColumnTransformer(n_jobs=None, remainder='drop', sparse_threshold=0.3,\n",
       "         transformer_weights=None,\n",
       "         transformers=[('num', Pipeline(memory=None,\n",
       "     steps=[('imputer', SimpleImputer(copy=True, fill_value=None, missing_values=nan,\n",
       "       strategy='median', verbo...enalty='l2', random_state=None, solver='lbfgs',\n",
       "          tol=0.0001, verbose=0, warm_start=False))])"
      ]
     },
     "execution_count": 23,
     "metadata": {},
     "output_type": "execute_result"
    }
   ],
   "source": [
    "#Fit the Model\n",
    "logmodel.fit(X_train, y_train)"
   ]
  },
  {
   "cell_type": "markdown",
   "metadata": {},
   "source": [
    "### Evaluate Model"
   ]
  },
  {
   "cell_type": "markdown",
   "metadata": {},
   "source": [
    "#### Coefficients and Intercept "
   ]
  },
  {
   "cell_type": "code",
   "execution_count": 24,
   "metadata": {},
   "outputs": [],
   "source": [
    "classifier = logmodel.named_steps['classifier']"
   ]
  },
  {
   "cell_type": "code",
   "execution_count": 25,
   "metadata": {},
   "outputs": [
    {
     "name": "stdout",
     "output_type": "stream",
     "text": [
      "Model Coef are [[-0.1964562   0.02225007  0.89386412  0.16793101 -1.06204672  0.27520844\n",
      "  -0.04217432 -0.33606259  0.10277688  1.20648548 -1.20673707 -0.3279008\n",
      "   0.32764921]]:\n",
      "Model Intercept is [0.42214446]:\n"
     ]
    }
   ],
   "source": [
    "print (\"Model Coef are {}:\".format(classifier.coef_))\n",
    "print (\"Model Intercept is {}:\".format(classifier.intercept_))"
   ]
  },
  {
   "cell_type": "markdown",
   "metadata": {},
   "source": [
    "##### Evaluate Model : Accuracy"
   ]
  },
  {
   "cell_type": "code",
   "execution_count": 26,
   "metadata": {},
   "outputs": [
    {
     "name": "stdout",
     "output_type": "stream",
     "text": [
      "model train score: 0.806\n",
      "model test score: 0.793\n"
     ]
    }
   ],
   "source": [
    "print (\"model train score: %.3f\" % logmodel.score(X_train, y_train))\n",
    "print(\"model test score: %.3f\" % logmodel.score(X_test, y_test))\n"
   ]
  },
  {
   "cell_type": "markdown",
   "metadata": {},
   "source": [
    "##### Evaluate Model : F-Score"
   ]
  },
  {
   "cell_type": "code",
   "execution_count": 27,
   "metadata": {},
   "outputs": [
    {
     "name": "stdout",
     "output_type": "stream",
     "text": [
      "model train f1_score: 0.711\n",
      "model test f1_score: 0.748\n"
     ]
    }
   ],
   "source": [
    "print (\"model train f1_score: %.3f\"%(f1_score(y_train,logmodel.predict(X_train))))\n",
    "print (\"model test f1_score: %.3f\"%(f1_score(y_test,logmodel.predict(X_test))))"
   ]
  },
  {
   "cell_type": "markdown",
   "metadata": {},
   "source": [
    "##### Evaluate Model : Log Loss"
   ]
  },
  {
   "cell_type": "code",
   "execution_count": 28,
   "metadata": {},
   "outputs": [
    {
     "name": "stdout",
     "output_type": "stream",
     "text": [
      "model train Log Loss: 0.450\n",
      "model test Log Loss: 0.443\n"
     ]
    }
   ],
   "source": [
    "print (\"model train Log Loss: %.3f\"%(log_loss(y_train,logmodel.predict_proba(X_train))))\n",
    "print (\"model test Log Loss: %.3f\"%(log_loss(y_test,logmodel.predict_proba(X_test))))"
   ]
  },
  {
   "cell_type": "markdown",
   "metadata": {},
   "source": [
    "##### Evaluate Model : ROC"
   ]
  },
  {
   "cell_type": "code",
   "execution_count": 29,
   "metadata": {},
   "outputs": [],
   "source": [
    "fpr_train, tpr_train, thr_train=roc_curve(y_train,logmodel.predict_proba(X_train)[:,1:])\n",
    "fpr_test,tpr_test, thr_test= roc_curve(y_test,logmodel.predict_proba(X_test)[:,1:])\n",
    "auc_train = auc(fpr_train,tpr_train)\n",
    "auc_test =auc(fpr_test,tpr_test)"
   ]
  },
  {
   "cell_type": "code",
   "execution_count": 30,
   "metadata": {},
   "outputs": [
    {
     "data": {
      "image/png": "[encoded data removed]",
      "text/plain": [
       "<Figure size 504x504 with 1 Axes>"
      ]
     },
     "metadata": {},
     "output_type": "display_data"
    }
   ],
   "source": [
    "lw=2\n",
    "f,ax =plt.subplots(1,1,figsize=(7,7))\n",
    "ax.plot(fpr_train, tpr_train, color='darkorange',lw=lw, label='ROC curve (area = %0.2f)' %auc_train)\n",
    "ax.plot(fpr_test, tpr_test, color='darkblue',lw=lw, label='ROC curve (area = %0.2f)' %auc_test)\n",
    "ax.plot([0, 1], [0, 1], color='navy', lw=lw, linestyle='--')\n",
    "ax.set_xlim([0.0, 1.0])\n",
    "ax.set_ylim([0.0, 1.05])\n",
    "ax.set_xlabel('False Positive Rate')\n",
    "ax.set_ylabel('True Positive Rate')\n",
    "ax.set_title('Receiver operating characteristic example')\n",
    "ax.legend(loc=\"lower right\")\n",
    "plt.show()"
   ]
  },
  {
   "cell_type": "markdown",
   "metadata": {},
   "source": [
    "### 3.Set Pipeline for a l2-regularization with cross_val_score"
   ]
  },
  {
   "cell_type": "markdown",
   "metadata": {},
   "source": [
    "### **l2** value for scikit learn different from usual theory please look at the following items"
   ]
  },
  {
   "cell_type": "markdown",
   "metadata": {},
   "source": [
    "1. Case I \n",
    " - Lambda Small \n",
    " - Circle Big \n",
    " - C Big \n",
    " - Towards MLE \n",
    " - Weak Regularization \n",
    " - Loss Minimum \n",
    "2. Case II \n",
    " - Lambda Big\n",
    " - Circle Small\n",
    " - C Small \n",
    " - Towards Orirgin\n",
    " - Strong  Regularization \n",
    " - Loss Bigger"
   ]
  },
  {
   "cell_type": "code",
   "execution_count": 31,
   "metadata": {},
   "outputs": [],
   "source": [
    "lambdas =np.geomspace(1e-4, 1e4, num=9)\n",
    "scikit_cs=[x**(-1) for x in lambdas]"
   ]
  },
  {
   "cell_type": "code",
   "execution_count": 32,
   "metadata": {},
   "outputs": [],
   "source": [
    "logit_pipe_cv =Pipeline(steps=[('preprocessor', preprocessor),('classifier',\n",
    "                                             LogisticRegression(solver='lbfgs',max_iter=2000,penalty='l2'))])"
   ]
  },
  {
   "cell_type": "code",
   "execution_count": 33,
   "metadata": {},
   "outputs": [],
   "source": [
    "param={'classifier__C':scikit_cs}"
   ]
  },
  {
   "cell_type": "code",
   "execution_count": 34,
   "metadata": {},
   "outputs": [],
   "source": [
    "list_log_loss_score =[]\n",
    "list_roc_score=[]\n",
    "list_f1_score=[]\n",
    "for k,v in param.items():\n",
    "    for val in v:\n",
    "        logit_pipe_cv.set_params(**{k:val})\n",
    "        score_log_loss=cross_val_score(logit_pipe_cv, X_train, y_train, cv=10, scoring='neg_log_loss')\n",
    "        score_roc=cross_val_score(logit_pipe_cv, X_train, y_train, cv=10, scoring='roc_auc')\n",
    "        score_f1=cross_val_score(logit_pipe_cv, X_train, y_train, cv=10, scoring='f1')\n",
    "        list_log_loss_score.append(-1*score_log_loss.mean())\n",
    "        list_roc_score.append(score_roc.mean())\n",
    "        list_f1_score.append(score_f1.mean())"
   ]
  },
  {
   "cell_type": "code",
   "execution_count": 35,
   "metadata": {},
   "outputs": [
    {
     "data": {
      "text/plain": [
       "<matplotlib.legend.Legend at 0xb45b908>"
      ]
     },
     "execution_count": 35,
     "metadata": {},
     "output_type": "execute_result"
    },
    {
     "data": {
      "image/png": "[encoded data removed]",
      "text/plain": [
       "<Figure size 576x360 with 1 Axes>"
      ]
     },
     "metadata": {},
     "output_type": "display_data"
    }
   ],
   "source": [
    "f,ax =plt.subplots(1,1,figsize=(8,5))\n",
    "ax.plot(lambdas,list_log_loss_score, label=\"log_loss\")\n",
    "ax.plot(lambdas,list_roc_score,label=\"auc\")\n",
    "ax.plot(lambdas,list_f1_score,label='f1_score')\n",
    "ax.set_xscale('log')\n",
    "ax.set_title(\"Cross Validation Scores (MSE) by Valaue of Lambda\",fontsize=14,color='teal')\n",
    "ax.legend(loc=0)"
   ]
  },
  {
   "cell_type": "code",
   "execution_count": 36,
   "metadata": {},
   "outputs": [
    {
     "name": "stdout",
     "output_type": "stream",
     "text": [
      "Best Lambda (Min Logloss)  is 1.0\n"
     ]
    }
   ],
   "source": [
    "print(\"Best Lambda (Min Logloss)  is {}\".format(lambdas[list_log_loss_score.index(min(list_log_loss_score))]))"
   ]
  },
  {
   "cell_type": "code",
   "execution_count": 37,
   "metadata": {},
   "outputs": [
    {
     "name": "stdout",
     "output_type": "stream",
     "text": [
      "Best Lambda (Max AUC)  is 10.0\n"
     ]
    }
   ],
   "source": [
    "print(\"Best Lambda (Max AUC)  is {}\".format(lambdas[list_roc_score.index(max(list_roc_score))]))"
   ]
  },
  {
   "cell_type": "code",
   "execution_count": 38,
   "metadata": {},
   "outputs": [
    {
     "name": "stdout",
     "output_type": "stream",
     "text": [
      "Best Lambda (Max f1)  is 0.0001\n"
     ]
    }
   ],
   "source": [
    "print(\"Best Lambda (Max f1)  is {}\".format(lambdas[list_f1_score.index(max(list_f1_score))]))"
   ]
  },
  {
   "cell_type": "markdown",
   "metadata": {},
   "source": [
    "### 4.pick the best lambda and estimate the model with full train and evaluate on test"
   ]
  },
  {
   "cell_type": "code",
   "execution_count": 39,
   "metadata": {},
   "outputs": [],
   "source": [
    "logit_pipe_best_lambda =Pipeline(steps=[('preprocessor', preprocessor),('classifier',\n",
    "                                             LogisticRegression(solver='lbfgs',max_iter=2000,penalty='l2',C=1/0.0001))])"
   ]
  },
  {
   "cell_type": "code",
   "execution_count": 40,
   "metadata": {},
   "outputs": [
    {
     "data": {
      "text/plain": [
       "Pipeline(memory=None,\n",
       "     steps=[('preprocessor', ColumnTransformer(n_jobs=None, remainder='drop', sparse_threshold=0.3,\n",
       "         transformer_weights=None,\n",
       "         transformers=[('num', Pipeline(memory=None,\n",
       "     steps=[('imputer', SimpleImputer(copy=True, fill_value=None, missing_values=nan,\n",
       "       strategy='median', verbo...enalty='l2', random_state=None,\n",
       "          solver='lbfgs', tol=0.0001, verbose=0, warm_start=False))])"
      ]
     },
     "execution_count": 40,
     "metadata": {},
     "output_type": "execute_result"
    }
   ],
   "source": [
    "logit_pipe_best_lambda.fit(X_train, y_train)"
   ]
  },
  {
   "cell_type": "code",
   "execution_count": 41,
   "metadata": {},
   "outputs": [],
   "source": [
    "fpr_train, tpr_train, thr_train=roc_curve(y_train,logit_pipe_best_lambda.predict_proba(X_train)[:,1:])\n",
    "fpr_test,tpr_test, thr_test= roc_curve(y_test,logit_pipe_best_lambda.predict_proba(X_test)[:,1:])\n",
    "auc_train = auc(fpr_train,tpr_train)\n",
    "auc_test =auc(fpr_test,tpr_test)"
   ]
  },
  {
   "cell_type": "code",
   "execution_count": 42,
   "metadata": {},
   "outputs": [
    {
     "data": {
      "image/png": "[encoded data removed]",
      "text/plain": [
       "<Figure size 504x504 with 1 Axes>"
      ]
     },
     "metadata": {},
     "output_type": "display_data"
    }
   ],
   "source": [
    "lw=2\n",
    "f,ax =plt.subplots(1,1,figsize=(7,7))\n",
    "ax.plot(fpr_train, tpr_train, color='darkorange',lw=lw, label='ROC curve (train) (area = %0.2f)' %auc_train)\n",
    "ax.plot(fpr_test, tpr_test, color='darkblue',lw=lw, label='ROC curve (test) (area = %0.2f)' %auc_test)\n",
    "ax.plot([0, 1], [0, 1], color='navy', lw=lw, linestyle='--')\n",
    "ax.set_xlim([0.0, 1.0])\n",
    "ax.set_ylim([0.0, 1.05])\n",
    "ax.set_xlabel('False Positive Rate')\n",
    "ax.set_ylabel('True Positive Rate')\n",
    "ax.set_title('Receiver operating characteristic example')\n",
    "ax.legend(loc=\"lower right\")\n",
    "plt.show()"
   ]
  },
  {
   "cell_type": "markdown",
   "metadata": {},
   "source": [
    "### 5.Apply GridSearch CV - for reference purpose"
   ]
  },
  {
   "cell_type": "code",
   "execution_count": 43,
   "metadata": {},
   "outputs": [],
   "source": [
    "warnings.filterwarnings('ignore')"
   ]
  },
  {
   "cell_type": "code",
   "execution_count": 44,
   "metadata": {},
   "outputs": [
    {
     "data": {
      "text/plain": [
       "GridSearchCV(cv=10, error_score='raise-deprecating',\n",
       "       estimator=Pipeline(memory=None,\n",
       "     steps=[('preprocessor', ColumnTransformer(n_jobs=None, remainder='drop', sparse_threshold=0.3,\n",
       "         transformer_weights=None,\n",
       "         transformers=[('num', Pipeline(memory=None,\n",
       "     steps=[('imputer', SimpleImputer(copy=True, fill_value=None, missing_values=nan,\n",
       "       strategy='median', verbo...enalty='l2', random_state=None, solver='lbfgs',\n",
       "          tol=0.0001, verbose=0, warm_start=False))]),\n",
       "       fit_params=None, iid='warn', n_jobs=None,\n",
       "       param_grid={'classifier__C': [10000.0, 1000.0, 100.0, 10.0, 1.0, 0.1, 0.01, 0.001, 0.0001]},\n",
       "       pre_dispatch='2*n_jobs', refit=False, return_train_score=True,\n",
       "       scoring={'F_1': 'f1', 'AUC': 'roc_auc', 'Log_loss': 'neg_log_loss'},\n",
       "       verbose=False)"
      ]
     },
     "execution_count": 44,
     "metadata": {},
     "output_type": "execute_result"
    }
   ],
   "source": [
    "log_model_grid_pipe =Pipeline(steps=[('preprocessor', preprocessor),('classifier',\n",
    "                                             LogisticRegression(solver='lbfgs',max_iter=2000,penalty='l2'))])\n",
    "cv_folds = 10\n",
    "param_grid = {'classifier__C': scikit_cs}\n",
    "scoring={'F_1': 'f1', 'AUC': 'roc_auc', 'Log_loss': 'neg_log_loss'}\n",
    "grid_model =GridSearchCV(log_model_grid_pipe, \n",
    "                         param_grid, cv=cv_folds,scoring=scoring, refit=False,verbose=False,return_train_score=True)\n",
    "grid_model.fit(X_train,y_train)"
   ]
  },
  {
   "cell_type": "markdown",
   "metadata": {},
   "source": [
    "### Make a list of keys of returned objects"
   ]
  },
  {
   "cell_type": "code",
   "execution_count": 45,
   "metadata": {},
   "outputs": [],
   "source": [
    "out_metric_ref =sorted(grid_model.cv_results_.keys())\n",
    "output_data = grid_model.cv_results_"
   ]
  },
  {
   "cell_type": "code",
   "execution_count": 46,
   "metadata": {},
   "outputs": [
    {
     "name": "stdout",
     "output_type": "stream",
     "text": [
      "['mean_fit_time', 'mean_score_time', 'mean_test_AUC', 'mean_test_F_1', 'mean_test_Log_loss', 'mean_train_AUC', 'mean_train_F_1', 'mean_train_Log_loss', 'param_classifier__C', 'params', 'rank_test_AUC', 'rank_test_F_1', 'rank_test_Log_loss', 'split0_test_AUC', 'split0_test_F_1', 'split0_test_Log_loss', 'split0_train_AUC', 'split0_train_F_1', 'split0_train_Log_loss', 'split1_test_AUC', 'split1_test_F_1', 'split1_test_Log_loss', 'split1_train_AUC', 'split1_train_F_1', 'split1_train_Log_loss', 'split2_test_AUC', 'split2_test_F_1', 'split2_test_Log_loss', 'split2_train_AUC', 'split2_train_F_1', 'split2_train_Log_loss', 'split3_test_AUC', 'split3_test_F_1', 'split3_test_Log_loss', 'split3_train_AUC', 'split3_train_F_1', 'split3_train_Log_loss', 'split4_test_AUC', 'split4_test_F_1', 'split4_test_Log_loss', 'split4_train_AUC', 'split4_train_F_1', 'split4_train_Log_loss', 'split5_test_AUC', 'split5_test_F_1', 'split5_test_Log_loss', 'split5_train_AUC', 'split5_train_F_1', 'split5_train_Log_loss', 'split6_test_AUC', 'split6_test_F_1', 'split6_test_Log_loss', 'split6_train_AUC', 'split6_train_F_1', 'split6_train_Log_loss', 'split7_test_AUC', 'split7_test_F_1', 'split7_test_Log_loss', 'split7_train_AUC', 'split7_train_F_1', 'split7_train_Log_loss', 'split8_test_AUC', 'split8_test_F_1', 'split8_test_Log_loss', 'split8_train_AUC', 'split8_train_F_1', 'split8_train_Log_loss', 'split9_test_AUC', 'split9_test_F_1', 'split9_test_Log_loss', 'split9_train_AUC', 'split9_train_F_1', 'split9_train_Log_loss', 'std_fit_time', 'std_score_time', 'std_test_AUC', 'std_test_F_1', 'std_test_Log_loss', 'std_train_AUC', 'std_train_F_1', 'std_train_Log_loss']\n"
     ]
    }
   ],
   "source": [
    "print(out_metric_ref)"
   ]
  },
  {
   "cell_type": "markdown",
   "metadata": {},
   "source": [
    "### It is a good practice to check whether params order input maintained by pipeline object in gridcv"
   ]
  },
  {
   "cell_type": "code",
   "execution_count": 47,
   "metadata": {},
   "outputs": [
    {
     "name": "stdout",
     "output_type": "stream",
     "text": [
      "Order Maintained ::TRUE\n"
     ]
    }
   ],
   "source": [
    "c_vales_in_output =[x for x in output_data ['param_classifier__C']]\n",
    "c_values_in_input =scikit_cs\n",
    "for i in range(len(c_vales_in_output)):\n",
    "    if c_vales_in_output[i]==c_values_in_input[i]:\n",
    "        if i ==len(c_vales_in_output)-1:\n",
    "            print(\"Order Maintained ::TRUE\") \n",
    "    else:\n",
    "        print(\"Order Not Maintained:Possible Error\")\n",
    "        break"
   ]
  },
  {
   "cell_type": "markdown",
   "metadata": {},
   "source": [
    "### 6. Plot GridSearch CV results"
   ]
  },
  {
   "cell_type": "code",
   "execution_count": 48,
   "metadata": {},
   "outputs": [],
   "source": [
    "def best_val_lambda(scr,out_put,lambda_list):\n",
    "    res_dict ={}\n",
    "    for x in list(scr.keys()):\n",
    "        key_make ='mean_'+'test_'+x\n",
    "        if x=='Log_loss':\n",
    "                out_list =list(-1*out_put[key_make])\n",
    "                max_got =min(out_list)\n",
    "                res_dict[x]=(max_got,lambda_list[out_list.index(max_got)])\n",
    "        else:\n",
    "            out_list =list(out_put[key_make])\n",
    "            max_got =max(out_list)\n",
    "            res_dict[x]=(max_got,lambda_list[out_list.index(max_got)])\n",
    "        \n",
    "    return res_dict\n",
    "\n",
    "# best_val_lambda(scoring,output_data,lambdas)    "
   ]
  },
  {
   "cell_type": "code",
   "execution_count": 49,
   "metadata": {},
   "outputs": [
    {
     "data": {
      "text/plain": [
       "{'F_1': (0.7041526113412415, 0.0001),\n",
       " 'AUC': (0.8420358748888304, 10.0),\n",
       " 'Log_loss': (0.4613005789568626, 1.0)}"
      ]
     },
     "execution_count": 49,
     "metadata": {},
     "output_type": "execute_result"
    }
   ],
   "source": [
    "best_val_dict =best_val_lambda(scoring,output_data,lambdas)\n",
    "best_val_dict"
   ]
  },
  {
   "cell_type": "code",
   "execution_count": 50,
   "metadata": {},
   "outputs": [
    {
     "data": {
      "text/plain": [
       "Text(0.5,1,'GridSerachCV with Multiple Scoring for Ridge Penalty')"
      ]
     },
     "execution_count": 50,
     "metadata": {},
     "output_type": "execute_result"
    },
    {
     "data": {
      "image/png": "[encoded data removed]",
      "text/plain": [
       "<Figure size 720x432 with 1 Axes>"
      ]
     },
     "metadata": {},
     "output_type": "display_data"
    }
   ],
   "source": [
    "color=['b','g','k']\n",
    "\n",
    "f,ax =plt.subplots(1,1,figsize=(10,6))\n",
    "for scr,col in zip(list(scoring.keys()), color):\n",
    "    # Plot Mean Train and Test for each score\n",
    "    for t,stl  in zip(['train_','test_'],['-','--']):\n",
    "        key_make ='mean_'+t+scr\n",
    "        if scr =='Log_loss':\n",
    "            ax.plot(lambdas,-1*output_data[key_make],linewidth=2.0,ls=stl,label=t+scr,color=col)\n",
    "        else:\n",
    "            ax.plot(lambdas,output_data[key_make],linewidth=2.0,ls=stl,label=t+scr,color=col)\n",
    "            \n",
    "for k,v in best_val_dict.items():\n",
    "    \n",
    "    ax.plot([v[1],v[1]],[0.0,v[0]],linestyle='-.')\n",
    "    ax.annotate(\"%0.2f\" % v[0],(v[1], v[0] + 0.005),size=15)\n",
    "         \n",
    "ax.set_xscale('log')   \n",
    "ax.legend(loc=\"best\")    \n",
    "ax.set_title(\"GridSerachCV with Multiple Scoring for Ridge Penalty\",fontsize=15)"
   ]
  },
  {
   "cell_type": "markdown",
   "metadata": {},
   "source": [
    "###  Best Lambda Value is similar for K-cross and GridSearch CV"
   ]
  }
 ],
 "metadata": {
  "kernelspec": {
   "display_name": "Python 3",
   "language": "python",
   "name": "python3"
  },
  "language_info": {
   "codemirror_mode": {
    "name": "ipython",
    "version": 3
   },
   "file_extension": ".py",
   "mimetype": "text/x-python",
   "name": "python",
   "nbconvert_exporter": "python",
   "pygments_lexer": "ipython3",
   "version": "3.6.6"
  }
 },
 "nbformat": 4,
 "nbformat_minor": 2
}
