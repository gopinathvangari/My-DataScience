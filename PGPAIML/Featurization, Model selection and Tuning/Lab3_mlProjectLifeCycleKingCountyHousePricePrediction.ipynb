{
 "cells": [
  {
   "cell_type": "markdown",
   "metadata": {},
   "source": [
    "# Predict House Prices in King County using Machine Learning models?\n",
    "# Get the best accuracy possible and deliver the solution"
   ]
  },
  {
   "cell_type": "markdown",
   "metadata": {},
   "source": [
    "This dataset contains house sale prices for King County, which includes Seattle. It includes homes sold between May 2014 and May 2015.\n",
    "\n",
    "The attributes are defined as follows:\n",
    "\n",
    "1. id: a notation for a house\n",
    "2. date: Date house was sold\n",
    "3. price: Price is prediction target\n",
    "4. bedrooms: Number of Bedrooms/House\n",
    "5. bathrooms: Number of bathrooms/bedrooms\n",
    "6. sqft_living: square footage of the home\n",
    "7. sqft_lots: quare footage of the lot\n",
    "8. floors: Total floors (levels) in house\n",
    "9. waterfront: House which has a view to a waterfront\n",
    "10. view: Has been viewed\n",
    "11. condition: How good the condition is ( Overall )\n",
    "12. gradeoverall: grade given to the housing unit, based on King County grading system\n",
    "13. sqft_above: square footage of house apart from basement\n",
    "14. sqft_basement: square footage of the basement\n",
    "15. yr_built: Built Year\n",
    "16. yr_renovated: Year when house was renovated\n",
    "17. zipcode: zip\n",
    "18. lat: Latitude coordinate\n",
    "19. long: Longitude coordinate\n",
    "20. sqft_living15: Living room area in 2015(implies-- some renovations) This might or might not have affected the lotsize area\n",
    "21. sqft_lot15: lotSize area in 2015(implies-- some renovations)"
   ]
  },
  {
   "cell_type": "markdown",
   "metadata": {},
   "source": [
    "## Machine Learning Project Template\n",
    "#### 1. Prepare Problem\n",
    "###### 1.1. Load libraries\n",
    "###### 1.2. Load dataset\n",
    "\n",
    "##### 2. Summarize Data\n",
    "###### 2.1. Descriptive statistics\n",
    "###### 2.2. Data visualizations\n",
    "\n",
    "##### 3. Prepare Data\n",
    "###### 3.1. Data Cleaning\n",
    "###### 3.2. Feature Selection\n",
    "###### 3.3. Data Transforms\n",
    "\n",
    "##### 4. Evaluate Algorithms\n",
    "###### 4.1. Split-out validation dataset\n",
    "###### 4.2. Test options and test metric\n",
    "###### 4.3. Spot Check Algorithms\n",
    "###### 4.4. Compare Algorithms\n",
    "\n",
    "##### 5. Improve Accuracy\n",
    "###### 5.1. Algorithm Tuning\n",
    "###### 5.2. Ensembles\n",
    "\n",
    "##### 6. Finalize Model\n",
    "###### 6.1. Predictions on validation dataset\n",
    "###### 6.2. Create standalone model on entire training dataset\n",
    "###### 6.3. Save model for later use"
   ]
  },
  {
   "cell_type": "markdown",
   "metadata": {},
   "source": [
    "# Problem Definition"
   ]
  },
  {
   "cell_type": "code",
   "execution_count": 1,
   "metadata": {},
   "outputs": [],
   "source": [
    "import warnings\n",
    "warnings.filterwarnings('ignore')"
   ]
  },
  {
   "cell_type": "code",
   "execution_count": 2,
   "metadata": {},
   "outputs": [],
   "source": [
    "# Load libraries\n",
    "import numpy\n",
    "from numpy import arange\n",
    "from matplotlib import pyplot\n",
    "from pandas import read_csv\n",
    "from pandas import set_option\n",
    "from pandas.plotting import scatter_matrix\n",
    "import seaborn as sn\n",
    "from sklearn.preprocessing import StandardScaler\n",
    "from sklearn.model_selection import train_test_split\n",
    "from sklearn.model_selection import KFold\n",
    "from sklearn.model_selection import cross_val_score\n",
    "from sklearn.model_selection import GridSearchCV\n",
    "from sklearn.linear_model import LinearRegression\n",
    "from sklearn.tree import DecisionTreeRegressor\n",
    "from sklearn.neighbors import KNeighborsRegressor\n",
    "from sklearn.pipeline import Pipeline\n",
    "from sklearn.ensemble import RandomForestRegressor\n",
    "from sklearn.ensemble import AdaBoostRegressor\n",
    "from sklearn.metrics import mean_squared_error\n",
    "%matplotlib inline"
   ]
  },
  {
   "cell_type": "markdown",
   "metadata": {},
   "source": [
    "# Analyze Data"
   ]
  },
  {
   "cell_type": "code",
   "execution_count": null,
   "metadata": {},
   "outputs": [],
   "source": []
  },
  {
   "cell_type": "code",
   "execution_count": null,
   "metadata": {},
   "outputs": [],
   "source": []
  },
  {
   "cell_type": "code",
   "execution_count": null,
   "metadata": {},
   "outputs": [],
   "source": []
  },
  {
   "cell_type": "markdown",
   "metadata": {},
   "source": [
    "## Descriptive Statistics"
   ]
  },
  {
   "cell_type": "markdown",
   "metadata": {},
   "source": [
    "# Data Visualizations"
   ]
  },
  {
   "cell_type": "markdown",
   "metadata": {},
   "source": [
    "# Summary of Ideas"
   ]
  },
  {
   "cell_type": "markdown",
   "metadata": {},
   "source": [
    "# Validation Dataset"
   ]
  },
  {
   "cell_type": "markdown",
   "metadata": {},
   "source": [
    "# Evaluate Algorithms: Baseline"
   ]
  },
  {
   "cell_type": "code",
   "execution_count": 3,
   "metadata": {},
   "outputs": [],
   "source": [
    "# Test options and evaluation metric\n",
    "num_folds = 10\n",
    "seed = 7\n",
    "scoring = 'mean_squared_error'"
   ]
  },
  {
   "cell_type": "markdown",
   "metadata": {},
   "source": [
    "# Evaluate Algorithms: Standardization"
   ]
  },
  {
   "cell_type": "code",
   "execution_count": null,
   "metadata": {},
   "outputs": [],
   "source": []
  },
  {
   "cell_type": "code",
   "execution_count": null,
   "metadata": {},
   "outputs": [],
   "source": []
  },
  {
   "cell_type": "code",
   "execution_count": null,
   "metadata": {},
   "outputs": [],
   "source": []
  },
  {
   "cell_type": "code",
   "execution_count": null,
   "metadata": {},
   "outputs": [],
   "source": []
  },
  {
   "cell_type": "code",
   "execution_count": null,
   "metadata": {},
   "outputs": [],
   "source": []
  },
  {
   "cell_type": "markdown",
   "metadata": {},
   "source": [
    "# Improve Results With Tuning"
   ]
  },
  {
   "cell_type": "markdown",
   "metadata": {},
   "source": [
    "# Ensemble Methods"
   ]
  },
  {
   "cell_type": "markdown",
   "metadata": {},
   "source": [
    "# Tune Ensemble Methods"
   ]
  },
  {
   "cell_type": "markdown",
   "metadata": {},
   "source": [
    "# Finalize Model"
   ]
  },
  {
   "cell_type": "markdown",
   "metadata": {},
   "source": [
    "# Deliver the solution to customer\n",
    "1. Creat pickle file of the solution and store the object\n",
    "2. Prepare a new jupyter notebook and read the created jupyter notebook \n",
    "3. Make predictions using new data points in latest jupyter notebook"
   ]
  },
  {
   "cell_type": "markdown",
   "metadata": {},
   "source": [
    "# Summary"
   ]
  },
  {
   "cell_type": "code",
   "execution_count": null,
   "metadata": {
    "collapsed": true
   },
   "outputs": [],
   "source": []
  }
 ],
 "metadata": {
  "kernelspec": {
   "display_name": "Python 3",
   "language": "python",
   "name": "python3"
  },
  "language_info": {
   "codemirror_mode": {
    "name": "ipython",
    "version": 3
   },
   "file_extension": ".py",
   "mimetype": "text/x-python",
   "name": "python",
   "nbconvert_exporter": "python",
   "pygments_lexer": "ipython3",
   "version": "3.6.5"
  }
 },
 "nbformat": 4,
 "nbformat_minor": 2
}
