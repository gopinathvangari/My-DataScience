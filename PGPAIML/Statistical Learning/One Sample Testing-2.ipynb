{
 "cells": [
  {
   "cell_type": "code",
   "execution_count": 1,
   "metadata": {},
   "outputs": [],
   "source": [
    "import numpy as np\n",
    "from scipy.stats import ttest_1samp, wilcoxon\n",
    "from statsmodels.stats.power import ttest_power\n",
    "import matplotlib.pyplot as plt"
   ]
  },
  {
   "cell_type": "code",
   "execution_count": 2,
   "metadata": {},
   "outputs": [],
   "source": [
    "# daily intake of energy in kJ for 11 women\n",
    "daily_intake = np.array([5260,5470,5640,6180,6390,6515,\n",
    "                         6805,7515,7515,8230,8770])"
   ]
  },
  {
   "cell_type": "code",
   "execution_count": 3,
   "metadata": {},
   "outputs": [
    {
     "name": "stdout",
     "output_type": "stream",
     "text": [
      "-2.8207540608310198 0.018137235176105812\n"
     ]
    }
   ],
   "source": [
    "# one sample t-test\n",
    "# null hypothesis: expected value = 7725\n",
    "t_statistic, p_value = ttest_1samp(daily_intake, 7725)\n",
    "print(t_statistic,p_value)"
   ]
  },
  {
   "cell_type": "code",
   "execution_count": 4,
   "metadata": {},
   "outputs": [
    {
     "name": "stdout",
     "output_type": "stream",
     "text": [
      "one-sample t-test p-value= 0.018137235176105812\n"
     ]
    }
   ],
   "source": [
    "# p_value < 0.05 => alternative hypothesis:\n",
    "# data deviate significantly from the hypothesis that the mean\n",
    "# is 7725 at the 5% level of significance\n",
    "print (\"one-sample t-test p-value=\", p_value)"
   ]
  },
  {
   "cell_type": "code",
   "execution_count": 5,
   "metadata": {},
   "outputs": [
    {
     "name": "stdout",
     "output_type": "stream",
     "text": [
      "one-sample wilcoxon-test p-value 0.026157182329284684\n"
     ]
    }
   ],
   "source": [
    "# one sample wilcoxon-test\n",
    "z_statistic, p_value = wilcoxon(daily_intake - 7725)\n",
    "print (\"one-sample wilcoxon-test p-value\", p_value)"
   ]
  },
  {
   "cell_type": "code",
   "execution_count": 6,
   "metadata": {},
   "outputs": [
    {
     "data": {
      "text/plain": [
       "-0.8920007551395173"
      ]
     },
     "execution_count": 6,
     "metadata": {},
     "output_type": "execute_result"
    }
   ],
   "source": [
    "# Calculating Power of Test\n",
    "# Compute the difference in Means between Population and Sample and divide it by Standard Deviation\n",
    "# Set the number of Observations\n",
    "# Set the alpha value and alternative values 'two-sided' , 'larger' , 'smaller'\n",
    "\n",
    "(np.mean(daily_intake) - 7725) / np.std(daily_intake)"
   ]
  },
  {
   "cell_type": "code",
   "execution_count": 7,
   "metadata": {},
   "outputs": [
    {
     "name": "stdout",
     "output_type": "stream",
     "text": [
      "0.7600146595982609\n"
     ]
    }
   ],
   "source": [
    "print(ttest_power(-0.892, nobs=11, alpha=0.05, alternative='two-sided'))"
   ]
  },
  {
   "cell_type": "code",
   "execution_count": 13,
   "metadata": {},
   "outputs": [
    {
     "data": {
      "text/plain": [
       "(array([ 2.,  1.,  1.,  2.,  1.,  0.,  2.,  0.,  1.,  1.]),\n",
       " array([ 5260.,  5611.,  5962.,  6313.,  6664.,  7015.,  7366.,  7717.,\n",
       "         8068.,  8419.,  8770.]),\n",
       " <a list of 10 Patch objects>)"
      ]
     },
     "execution_count": 13,
     "metadata": {},
     "output_type": "execute_result"
    },
    {
     "data": {
      "image/png": "[encoded data removed]",
      "text/plain": [
       "<matplotlib.figure.Figure at 0x107c40cf8>"
      ]
     },
     "metadata": {},
     "output_type": "display_data"
    }
   ],
   "source": [
    "plt.hist(daily_intake)"
   ]
  },
  {
   "cell_type": "code",
   "execution_count": 14,
   "metadata": {},
   "outputs": [
    {
     "data": {
      "text/plain": [
       "{'boxes': [<matplotlib.lines.Line2D at 0x109d292e8>],\n",
       " 'caps': [<matplotlib.lines.Line2D at 0x109d29e10>,\n",
       "  <matplotlib.lines.Line2D at 0x109d342b0>],\n",
       " 'fliers': [<matplotlib.lines.Line2D at 0x109d34b70>],\n",
       " 'means': [],\n",
       " 'medians': [<matplotlib.lines.Line2D at 0x109d34710>],\n",
       " 'whiskers': [<matplotlib.lines.Line2D at 0x109d29518>,\n",
       "  <matplotlib.lines.Line2D at 0x109d299b0>]}"
      ]
     },
     "execution_count": 14,
     "metadata": {},
     "output_type": "execute_result"
    },
    {
     "data": {
      "image/png": "[encoded data removed]",
      "text/plain": [
       "<matplotlib.figure.Figure at 0x109ba6518>"
      ]
     },
     "metadata": {},
     "output_type": "display_data"
    }
   ],
   "source": [
    "plt.boxplot(daily_intake)"
   ]
  },
  {
   "cell_type": "code",
   "execution_count": null,
   "metadata": {},
   "outputs": [],
   "source": []
  }
 ],
 "metadata": {
  "kernelspec": {
   "display_name": "Python 3",
   "language": "python",
   "name": "python3"
  },
  "language_info": {
   "codemirror_mode": {
    "name": "ipython",
    "version": 3
   },
   "file_extension": ".py",
   "mimetype": "text/x-python",
   "name": "python",
   "nbconvert_exporter": "python",
   "pygments_lexer": "ipython3",
   "version": "3.6.5"
  }
 },
 "nbformat": 4,
 "nbformat_minor": 2
}
