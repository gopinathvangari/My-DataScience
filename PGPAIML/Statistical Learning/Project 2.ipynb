{
 "cells": [
  {
   "cell_type": "code",
   "execution_count": 2,
   "metadata": {},
   "outputs": [],
   "source": [
    "import numpy as np\n",
    "from scipy.stats import ttest_1samp, ttest_ind, mannwhitneyu, levene, shapiro,ttest_rel\n",
    "from statsmodels.stats.power import ttest_power\n",
    "import pandas as pd"
   ]
  },
  {
   "cell_type": "code",
   "execution_count": 3,
   "metadata": {},
   "outputs": [],
   "source": [
    "oldscheme = np.array([57,103,59,75,84,73,35,110,44,82,67,64,78,53,41,39,80,87,73,65,28,62,49,84,63,77,67,101,91,50])\n",
    "newscheme = np.array([62,122,54,82,84,86,32,104,38,107,84,85,99,39,34,58,73,53,66,78,41,71,38,95,81,58,75,94,100,68])"
   ]
  },
  {
   "cell_type": "code",
   "execution_count": 4,
   "metadata": {},
   "outputs": [
    {
     "name": "stdout",
     "output_type": "stream",
     "text": [
      "Mean of old Scheme (in thousands): 68.03333333333333\n",
      "Mean of new scheme (in thousands): 72.03333333333333\n"
     ]
    }
   ],
   "source": [
    "# Q1\n",
    "print(f'Mean of old Scheme (in thousands): {np.mean(oldscheme)}')\n",
    "print(f'Mean of new scheme (in thousands): {np.mean(newscheme)}')"
   ]
  },
  {
   "cell_type": "code",
   "execution_count": 5,
   "metadata": {},
   "outputs": [
    {
     "name": "stdout",
     "output_type": "stream",
     "text": [
      "pvalue for the shapiro test on old scheme:0.9813658595085144\n",
      "pvalue for the shapiro test on new scheme:0.5057420134544373\n"
     ]
    }
   ],
   "source": [
    "# Q2\n",
    "#Checking for the normality of data\n",
    "# oldscheme\n",
    "tstat_shapiro_old,pvalue_shapiro_old=shapiro(oldscheme)\n",
    "tstat_shapiro_new,pvalue_shapiro_new=shapiro(newscheme)\n",
    "\n",
    "print(f'pvalue for the shapiro test on old scheme:{pvalue_shapiro_old}')\n",
    "print(f'pvalue for the shapiro test on new scheme:{pvalue_shapiro_new}')"
   ]
  },
  {
   "cell_type": "markdown",
   "metadata": {},
   "source": [
    "From the above test results it can be seen that both the old scheme and new scheme data are normal"
   ]
  },
  {
   "cell_type": "code",
   "execution_count": 6,
   "metadata": {},
   "outputs": [
    {
     "name": "stdout",
     "output_type": "stream",
     "text": [
      "pvalue for the leven test :0.30679836081811235\n"
     ]
    }
   ],
   "source": [
    "#Checking for equality of variances between the groups\n",
    "\n",
    "tstat_levene,pvalue_levene = levene(oldscheme,newscheme)\n",
    "print(f'pvalue for the leven test :{pvalue_levene}')"
   ]
  },
  {
   "cell_type": "markdown",
   "metadata": {},
   "source": [
    "From the above test result it can be inferred that the variances of the two groups are equal"
   ]
  },
  {
   "cell_type": "markdown",
   "metadata": {},
   "source": [
    "As the data sets are normal and variances of the two groups are equal going ahead with parametric paired t-test.(Going with paired t-test as the experimental group is same whose results are analysed pre and post scheme changes"
   ]
  },
  {
   "cell_type": "code",
   "execution_count": 7,
   "metadata": {},
   "outputs": [
    {
     "name": "stdout",
     "output_type": "stream",
     "text": [
      "t-Statistic of paired t-test: 1.5559143823544377\n",
      "p_value of paired t-test    : 0.13057553961337662\n"
     ]
    }
   ],
   "source": [
    "# paired t-test\n",
    "t_statistic, p_value = ttest_1samp(newscheme - oldscheme, 0)\n",
    "print(f't-Statistic of paired t-test: {t_statistic}')\n",
    "print(f'p_value of paired t-test    : {p_value}')"
   ]
  },
  {
   "cell_type": "code",
   "execution_count": 8,
   "metadata": {},
   "outputs": [
    {
     "name": "stdout",
     "output_type": "stream",
     "text": [
      "t-Statistic of paired t-test: 1.5559143823544377\n",
      "p_value of paired t-test    : 0.13057553961337662\n"
     ]
    }
   ],
   "source": [
    "t_statistic2, p_value2 = ttest_rel(newscheme,oldscheme)\n",
    "print(f't-Statistic of paired t-test: {t_statistic2}')\n",
    "print(f'p_value of paired t-test    : {p_value2}')"
   ]
  },
  {
   "cell_type": "markdown",
   "metadata": {},
   "source": [
    "Q3:\n",
    "\n",
    "From the above test result it can be seen that p_value > 0.05 because of which we fail to reject the null hypothesis i.e. there is no significant difference between the means of old scheme and new scheme (H0: mean of old scheme - mean of new scheme = 0 holds good)"
   ]
  },
  {
   "cell_type": "markdown",
   "metadata": {},
   "source": [
    "Q4:\n",
    "\n",
    "a)Probability of Type 1 error:\n",
    "\n",
    "Probability of Type 1 error is given by significance level(alpha). Here in this case significance level is chosen as 0.05, hence the probability of Type 1 error is 5%"
   ]
  },
  {
   "cell_type": "code",
   "execution_count": 7,
   "metadata": {},
   "outputs": [
    {
     "name": "stdout",
     "output_type": "stream",
     "text": [
      "t-Statistic of paired t-test with a mean difference of 5000: -0.3889785955886094\n",
      "p_value of paired t-test with a mean difference of 5000    : 0.3500667456306643\n"
     ]
    }
   ],
   "source": [
    "#b)\n",
    "#Testing for a difference of 5 thousand between the new and old schemes\n",
    "# Using paired t-test with a difference of 5\n",
    "t_statistic_1, p_value_1 = ttest_1samp(newscheme - oldscheme, 5)\n",
    "print(f't-Statistic of paired t-test with a mean difference of 5000: {t_statistic_1}')\n",
    "print(f'p_value of paired t-test with a mean difference of 5000    : {p_value_1/2}')"
   ]
  },
  {
   "cell_type": "code",
   "execution_count": 9,
   "metadata": {},
   "outputs": [
    {
     "name": "stdout",
     "output_type": "stream",
     "text": [
      "Power of the test: 0.1661016977903055\n"
     ]
    }
   ],
   "source": [
    "#c)\n",
    "\n",
    "effect_size=(np.mean(newscheme) - np.mean(oldscheme)) / np.sqrt(((30-1)*np.var(newscheme)+(30-1)*np.var(oldscheme)) / 30+30-2)\n",
    "\n",
    "power = ttest_power(effect_size, nobs=60, alpha=0.05, alternative='two-sided')\n",
    "\n",
    "print(f'Power of the test: {power}')"
   ]
  },
  {
   "cell_type": "code",
   "execution_count": 10,
   "metadata": {},
   "outputs": [],
   "source": [
    "?ttest_rel"
   ]
  },
  {
   "cell_type": "code",
   "execution_count": null,
   "metadata": {},
   "outputs": [],
   "source": []
  }
 ],
 "metadata": {
  "kernelspec": {
   "display_name": "Python 3",
   "language": "python",
   "name": "python3"
  },
  "language_info": {
   "codemirror_mode": {
    "name": "ipython",
    "version": 3
   },
   "file_extension": ".py",
   "mimetype": "text/x-python",
   "name": "python",
   "nbconvert_exporter": "python",
   "pygments_lexer": "ipython3",
   "version": "3.6.5"
  }
 },
 "nbformat": 4,
 "nbformat_minor": 2
}
